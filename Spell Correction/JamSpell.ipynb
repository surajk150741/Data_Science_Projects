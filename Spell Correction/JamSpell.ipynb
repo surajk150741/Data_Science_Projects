{
  "nbformat": 4,
  "nbformat_minor": 0,
  "metadata": {
    "colab": {
      "name": "JamSpell.ipynb",
      "provenance": [],
      "collapsed_sections": [],
      "include_colab_link": true
    },
    "kernelspec": {
      "name": "python3",
      "display_name": "Python 3"
    }
  },
  "cells": [
    {
      "cell_type": "markdown",
      "metadata": {
        "id": "view-in-github",
        "colab_type": "text"
      },
      "source": [
        "<a href=\"https://colab.research.google.com/github/surajk150741/Data_Science_Projects/blob/main/Spell%20Correction/JamSpell.ipynb\" target=\"_parent\"><img src=\"https://colab.research.google.com/assets/colab-badge.svg\" alt=\"Open In Colab\"/></a>"
      ]
    },
    {
      "cell_type": "markdown",
      "metadata": {
        "id": "VEoEyXgOq95H"
      },
      "source": [
        "#Importing files and libraries"
      ]
    },
    {
      "cell_type": "code",
      "metadata": {
        "id": "CZJKcGFUXboA",
        "colab": {
          "base_uri": "https://localhost:8080/"
        },
        "outputId": "9fd4718d-2f06-4724-e1ba-85a8729d67c4"
      },
      "source": [
        "!sudo apt-get install swig"
      ],
      "execution_count": null,
      "outputs": [
        {
          "output_type": "stream",
          "text": [
            "Reading package lists... Done\n",
            "Building dependency tree       \n",
            "Reading state information... Done\n",
            "The following package was automatically installed and is no longer required:\n",
            "  libnvidia-common-460\n",
            "Use 'sudo apt autoremove' to remove it.\n",
            "The following additional packages will be installed:\n",
            "  swig3.0\n",
            "Suggested packages:\n",
            "  swig-doc swig-examples swig3.0-examples swig3.0-doc\n",
            "The following NEW packages will be installed:\n",
            "  swig swig3.0\n",
            "0 upgraded, 2 newly installed, 0 to remove and 40 not upgraded.\n",
            "Need to get 1,100 kB of archives.\n",
            "After this operation, 5,822 kB of additional disk space will be used.\n",
            "Get:1 http://archive.ubuntu.com/ubuntu bionic/universe amd64 swig3.0 amd64 3.0.12-1 [1,094 kB]\n",
            "Get:2 http://archive.ubuntu.com/ubuntu bionic/universe amd64 swig amd64 3.0.12-1 [6,460 B]\n",
            "Fetched 1,100 kB in 1s (1,195 kB/s)\n",
            "debconf: unable to initialize frontend: Dialog\n",
            "debconf: (No usable dialog-like program is installed, so the dialog based frontend cannot be used. at /usr/share/perl5/Debconf/FrontEnd/Dialog.pm line 76, <> line 2.)\n",
            "debconf: falling back to frontend: Readline\n",
            "debconf: unable to initialize frontend: Readline\n",
            "debconf: (This frontend requires a controlling tty.)\n",
            "debconf: falling back to frontend: Teletype\n",
            "dpkg-preconfigure: unable to re-open stdin: \n",
            "Selecting previously unselected package swig3.0.\n",
            "(Reading database ... 148489 files and directories currently installed.)\n",
            "Preparing to unpack .../swig3.0_3.0.12-1_amd64.deb ...\n",
            "Unpacking swig3.0 (3.0.12-1) ...\n",
            "Selecting previously unselected package swig.\n",
            "Preparing to unpack .../swig_3.0.12-1_amd64.deb ...\n",
            "Unpacking swig (3.0.12-1) ...\n",
            "Setting up swig3.0 (3.0.12-1) ...\n",
            "Setting up swig (3.0.12-1) ...\n",
            "Processing triggers for man-db (2.8.3-2ubuntu0.1) ...\n"
          ],
          "name": "stdout"
        }
      ]
    },
    {
      "cell_type": "code",
      "metadata": {
        "id": "aUmiFaYIXiWu",
        "colab": {
          "base_uri": "https://localhost:8080/"
        },
        "outputId": "c05efaf5-1b70-4c6b-d19e-d2c8e63469a1"
      },
      "source": [
        "!sudo pip install jamspell"
      ],
      "execution_count": null,
      "outputs": [
        {
          "output_type": "stream",
          "text": [
            "Collecting jamspell\n",
            "  Downloading jamspell-0.0.12.tar.gz (174 kB)\n",
            "\u001b[?25l\r\u001b[K     |█▉                              | 10 kB 21.9 MB/s eta 0:00:01\r\u001b[K     |███▊                            | 20 kB 27.2 MB/s eta 0:00:01\r\u001b[K     |█████▋                          | 30 kB 12.4 MB/s eta 0:00:01\r\u001b[K     |███████▌                        | 40 kB 9.3 MB/s eta 0:00:01\r\u001b[K     |█████████▍                      | 51 kB 5.3 MB/s eta 0:00:01\r\u001b[K     |███████████▎                    | 61 kB 5.1 MB/s eta 0:00:01\r\u001b[K     |█████████████▏                  | 71 kB 5.6 MB/s eta 0:00:01\r\u001b[K     |███████████████                 | 81 kB 6.2 MB/s eta 0:00:01\r\u001b[K     |█████████████████               | 92 kB 5.9 MB/s eta 0:00:01\r\u001b[K     |██████████████████▉             | 102 kB 5.1 MB/s eta 0:00:01\r\u001b[K     |████████████████████▊           | 112 kB 5.1 MB/s eta 0:00:01\r\u001b[K     |██████████████████████▋         | 122 kB 5.1 MB/s eta 0:00:01\r\u001b[K     |████████████████████████▍       | 133 kB 5.1 MB/s eta 0:00:01\r\u001b[K     |██████████████████████████▎     | 143 kB 5.1 MB/s eta 0:00:01\r\u001b[K     |████████████████████████████▏   | 153 kB 5.1 MB/s eta 0:00:01\r\u001b[K     |██████████████████████████████  | 163 kB 5.1 MB/s eta 0:00:01\r\u001b[K     |████████████████████████████████| 174 kB 5.1 MB/s eta 0:00:01\r\u001b[K     |████████████████████████████████| 174 kB 5.1 MB/s \n",
            "\u001b[?25hBuilding wheels for collected packages: jamspell\n",
            "  Building wheel for jamspell (setup.py) ... \u001b[?25l\u001b[?25hdone\n",
            "  Created wheel for jamspell: filename=jamspell-0.0.12-cp37-cp37m-linux_x86_64.whl size=1347721 sha256=e5e54f097853a76be700dc68e4d03fb76df876599b2f871662ea37014af6fc00\n",
            "  Stored in directory: /root/.cache/pip/wheels/68/df/9c/9b335e69aa0f28e7f508ec0ebefadcc703f168beb52ae7ebe7\n",
            "Successfully built jamspell\n",
            "Installing collected packages: jamspell\n",
            "Successfully installed jamspell-0.0.12\n"
          ],
          "name": "stdout"
        }
      ]
    },
    {
      "cell_type": "code",
      "metadata": {
        "id": "OK1HqdSbXpQ7",
        "colab": {
          "base_uri": "https://localhost:8080/"
        },
        "outputId": "77b0c1bb-084e-4a04-d228-26e086d18ecd"
      },
      "source": [
        "!wget https://github.com/bakwc/JamSpell-models/raw/master/en.tar.gz"
      ],
      "execution_count": null,
      "outputs": [
        {
          "output_type": "stream",
          "text": [
            "--2021-08-28 09:59:26--  https://github.com/bakwc/JamSpell-models/raw/master/en.tar.gz\n",
            "Resolving github.com (github.com)... 140.82.112.3\n",
            "Connecting to github.com (github.com)|140.82.112.3|:443... connected.\n",
            "HTTP request sent, awaiting response... 302 Found\n",
            "Location: https://raw.githubusercontent.com/bakwc/JamSpell-models/master/en.tar.gz [following]\n",
            "--2021-08-28 09:59:26--  https://raw.githubusercontent.com/bakwc/JamSpell-models/master/en.tar.gz\n",
            "Resolving raw.githubusercontent.com (raw.githubusercontent.com)... 185.199.108.133, 185.199.109.133, 185.199.110.133, ...\n",
            "Connecting to raw.githubusercontent.com (raw.githubusercontent.com)|185.199.108.133|:443... connected.\n",
            "HTTP request sent, awaiting response... 200 OK\n",
            "Length: 36611828 (35M) [application/octet-stream]\n",
            "Saving to: ‘en.tar.gz’\n",
            "\n",
            "en.tar.gz           100%[===================>]  34.92M   164MB/s    in 0.2s    \n",
            "\n",
            "2021-08-28 09:59:27 (164 MB/s) - ‘en.tar.gz’ saved [36611828/36611828]\n",
            "\n"
          ],
          "name": "stdout"
        }
      ]
    },
    {
      "cell_type": "code",
      "metadata": {
        "id": "S70BPvsUX7lw",
        "colab": {
          "base_uri": "https://localhost:8080/"
        },
        "outputId": "5286fbaf-f6ba-4d11-dcd6-a279d1a8195a"
      },
      "source": [
        "!tar -xvf en.tar.gz"
      ],
      "execution_count": null,
      "outputs": [
        {
          "output_type": "stream",
          "text": [
            "en.bin\n"
          ],
          "name": "stdout"
        }
      ]
    },
    {
      "cell_type": "markdown",
      "metadata": {
        "id": "uHwpolmcYXew"
      },
      "source": [
        "**Do restart Colab**\n"
      ]
    },
    {
      "cell_type": "code",
      "metadata": {
        "id": "oW8bRkKv3pJk"
      },
      "source": [
        "import difflib"
      ],
      "execution_count": null,
      "outputs": []
    },
    {
      "cell_type": "code",
      "metadata": {
        "id": "5ZSmLdaRX-FX"
      },
      "source": [
        "import jamspell"
      ],
      "execution_count": null,
      "outputs": []
    },
    {
      "cell_type": "code",
      "metadata": {
        "id": "LAZyrWFPYDHF"
      },
      "source": [
        "jsp = jamspell.TSpellCorrector()\n",
        "assert jsp.LoadLangModel('en.bin')"
      ],
      "execution_count": null,
      "outputs": []
    },
    {
      "cell_type": "code",
      "metadata": {
        "id": "WQpKf25MYFtA",
        "colab": {
          "base_uri": "https://localhost:8080/",
          "height": 35
        },
        "outputId": "2947c364-9f06-4274-98fd-3f18d162cb13"
      },
      "source": [
        "jsp.FixFragment(\"I am the begt spell cherken\")"
      ],
      "execution_count": null,
      "outputs": [
        {
          "output_type": "execute_result",
          "data": {
            "application/vnd.google.colaboratory.intrinsic+json": {
              "type": "string"
            },
            "text/plain": [
              "'I am the best spell checker'"
            ]
          },
          "metadata": {},
          "execution_count": 7
        }
      ]
    },
    {
      "cell_type": "code",
      "metadata": {
        "colab": {
          "base_uri": "https://localhost:8080/"
        },
        "id": "eo5vBuZska4E",
        "outputId": "24b5e6b4-dfe7-4884-d3a1-53d18e678d3c"
      },
      "source": [
        "from google.colab import drive\n",
        "drive.mount('/content/drive')"
      ],
      "execution_count": null,
      "outputs": [
        {
          "output_type": "stream",
          "text": [
            "Mounted at /content/drive\n"
          ],
          "name": "stdout"
        }
      ]
    },
    {
      "cell_type": "code",
      "metadata": {
        "id": "ArcurD3gkxNy"
      },
      "source": [
        "t1 = open('/content/drive/MyDrive/Error_Version.txt','r')"
      ],
      "execution_count": null,
      "outputs": []
    },
    {
      "cell_type": "code",
      "metadata": {
        "id": "zGz303XPlKT6"
      },
      "source": [
        "t2 = open('/content/drive/MyDrive/Truth_Version.txt','r')"
      ],
      "execution_count": null,
      "outputs": []
    },
    {
      "cell_type": "code",
      "metadata": {
        "colab": {
          "base_uri": "https://localhost:8080/"
        },
        "id": "jkt-MT4us4hG",
        "outputId": "5a30e19b-9c12-465f-8b0b-2e8fc77132b4"
      },
      "source": [
        "\n",
        "FileContent1 = t1.read()\n",
        "print(FileContent1)"
      ],
      "execution_count": null,
      "outputs": [
        {
          "output_type": "stream",
          "text": [
            "﻿the students let us start the first lecture of this course this is basically a anline course so therefore you need to be very clear about what you are going to learn and how yeu are going to be evaluated first of all this is a course on phase transformation in materials and i will be teaching all the lectures and it is a thirty lecture corse that means there will be sixte twenty five minutes lecture and every week w will be exposed to i am not sure now about four to six lectures so that means about two to three hours of lectures so myself is persummiswas and i am a faculty member at the department of material cense engineering opiitianpull so thuts the detals about me my email address is available on the screen you can dialaly write to me whenever you have any serious problems and in addition to that to handle the courseexams and also grading of your answer seets although i know this will be all done all line will be taken care by the teaching assistems so two my students they will be handling that so they are actually the main person who will be handling your questions to my right first one i cospo chospotivaris is my pey student and second one is res pa res mis also my pan i student so they will be handling all your questions in a discussion forum obviously they are very difficult then i will also participate and also they will be handling your question paper and grading so mit ask will be to deliver all the lectures and then this will be uploaded int tan putal website so that you can observe and read or orlition or learn whatever me whatever way you can think about it nowadays also there is another provision all my lectures whatever i am speaking will be again taken down or written by some x parts so we are in the process of finding out those x parts for my earlier course and phase transformation materials similarly weill willl do it for you also so that you do nt need to listen you can actually read all these lectures nones so before that happens you are going to only listen this lectures available on the empetrial form and also you can ask questions in the discussion forum and so that s about it and their imular deses are given and i have carefully removed the phone numbers because this is why things become very difficult to handle so if you have any questions you can ask them ask me also or you can put it on the discussion formok you know like any things in life every course as an objective and this subjective has to be very clear before you start a course sopresent course actually we ill deal with basic surface transformations and materials as i said in in my introduction vadio already you have seen probably that past transformation is everyuler present in the environment whether you are talking about metals ceramics polyments or youare talking about real life whase transformations present but how do we deal is phase transformation that is wha w will be taught because thats what is important in your eneavor to learn phase transformations so using these three things one is your o thermodynamics tin kinetics and some basic aspect of material sensil like cystal structures and interfaces we are going to study various solid o solid an liquid to solid phase transformation as we know this is a vast subject and covering that in thirty lectures is not an easy task so obviously we must be selected we cannot teach you everything and to learn everything you need to have some basic idea what i put it as course perriquicite ok at this peracuosit ar you should have peperabil seuld up some basic knowledge on basicg material science that most of the students in metallurgy or material sanse normally have thermodynnamics especially the thermonynic functions and their relationships and then some idear phase dicoms and diffusion ok so i have already checked on different portions o wa in pteal but y mean wy different person is that there are some corsea video or some costiture wave some couses which are massive open allline so basic meterial sense is already been taught by some fecal numbers thermodynamics has already been available and phase ther ommi manself has develop a course and thenill just one yar back deffision is also piraly taught so therefore you can actually clear your doubts by while reading these lecture ok this is the full whether all the resciption of the all the lectures ok i dowt know whether everything is coming in the schene or not but anyway most important thing is that we are going to talk about some very at the beginning we are going to talk give you some idea about fee eng because that is a therbonanis part of the phase diagram so we will show you the calculation of delta g of various transformations ok then we will talk about quite a bit of interfacces interfaces means liquid sal is solid solid grain grain interface interface interfaeinturfaces these are all parts of with theronynoamics then we have to go into kinetics thats the nuculation because nuclation is why the starting point of phase transformations so therefore theory of necclation howmoteou etegean eculations and nicculation on the surface is grains and even cen corner gen s everywhere it will be dealt with and assume youon ecleasion itself a subject so there therepory must be a very an now we have to be very careful about what you are going to talk about it i wonlt be goilg to tell you every details of the niculation but whatever relevant we will discuss then weu are going to start the first of the fist transfertion that is om solidification as youl see here sitification is an liquid to solid phase transformations then we will talk about growth during different aspects like thermal activated god interface control go efficient control go that's why you need to know and cassil as couple goe then you take toeutectric transformations then we will talk about little bit about transformation kinetics in terms of theeen model con enmel and aromi models and some amount of te thermal phase transformations then we simply go on to different soi to solitla transforsioni presipitations rectliz and matisides spinagtal dey comporitions and a wit about stermaland continuous transformations that itself will be sufficient and ap to cover tatilectures ok so  this is important that you know what you are going to be taught at the beginning so that you can prepare yourself so we are going to follow exactly the same way things are given ond the right side i have also eassted down number of lectures will be spend on each topic now comes in very important aspects because in the massive open allline course you will be exposed to radio lectures or the ali lectures you must have some amount of you know textbook knowledge so therefore two important texbook which i have carried from our libary is this first one which is which is here is written on that is phase transformation in metals and alloys classic textbook by d a porter and k is telling and the retant addition also has come with a new author all the poblems ol solved by mister sductor am srip this is available in india not very expensive book you can read that and the other book is written by two my past colleagues although i have never met them but they are ita anpol this book is pase ransformation is in materials and by propessor ak geni and prome m cso thropey both er i tecanpuo so when these books are written theyare all therwere gena was in conpul ok so these two books will be your basic textbooks for the course and anyone any of these books will be good for you you can buy these books or you can actually cofy from different liabilitin in the different parts of the booksyo can copy from different libraries or if you if you want you can actually even now get buy that on different online stores current so thatis about the basic part of the courseading before i could move onto the next portion ow my lecture why the pac transfer sale wet let me tell you you will be given assignments in every week and i think assermenstion normally uploaded on thursday and because monday wenus t mandayto etness stay will be exposed to the lectures and after that you will be i will be or my t sh willl be uploading the assenments and you will be given bout one wexks time to complete the assignments because assignments olme alline so the questions whould be multiple choice type or may be fieling fill in the blank stipe as a senment wo levo it is a fifty percent vatage and at the end of this semisster you will be taking an nsm exam and we are planning to have it anlline so far if i do not change my decisions or something else happens other isity peall line and that wwill be having a fifty percent vertage although i am not keeping any pass marks fof this course but you can tentitively consider if you are getting less than about say thirty percent of the marks then you will not be able to pass this course and those who will be successfully complating this course by taking examps and getting good marks will be given sadification from the inpetrial as you know so that way i expect that you will be very serious planner and you will be also able to solve thise problems if a in case you have difficulties you can always discuss we can always use discussion for or you can write emails you can always bring it to the instructor all the t s so that we can make it clear to you thats very important because understandly you know the things very well ouwod not be able to answer the questions now in the next few slides i am going to talk about what ar relevant sof face transformation materials eelonment and why do you study in any course i know that many of you do not expose by the instructor in the same way you must have an idea why you are studying this course what is the need well phase transformation assisiol is presented envoroment ok the slide i have taken from literature ou ome that is what i am going to answer to you why study phase transformation material science ok you know what wearin actually we look materials for the application in any case finally we have to think of application uness aantilis materi is applied engineering point of view we do nt find any reason to study stentii qoan to give one can stand so application means we must know the properties all kinds of of part so there is a physical mechanical electronic electrical magnetic depending on the applications so property proparti sola material is are estimated very very regarsly to find and potential applications this is two porbe new material when it is developed so now question is this poparti as i say mechanical chemical electrical minity thermal you can evenly stond miny more propariies of the material depends on structure and thats why actal leral problem come structure has length scale you can simply say atomic structure at min structure is the smallest structure you can think about it atom and nucleus in fact that is why detales one sonle propadisiofto material but that is not all that is what in so this is wha you must know very clear that is not all so structure means it can be atmix structure moleculor structure grain structure phase as distribution and defects ok so we have basically have listed down from the bottom of atom is the smalle species and then we have grains and other things so you must have i am stressing again you mast tem end go a good idea about thes structures to colulate to the properties because it is important that the properties are primarily dictated by this structure so if i know thes taxture i can vector the properties so you got the corelition right a very logically speaking we make materials whether we use processing techniques to make materials and these pocessing techniques allow you to control structure processing techninue means what you can start with he liquid and solidifi that is why the solidification you can start with a metal piece deform by rolling forceea ixtrution whatever deferent means so you actually process or you connectyou deposite tin flame you can actually use surfa statement techniques many things we do in the real app now processing of materials they have a direct connections with a structure and stractor as a direct link with the properties so as you see here these actually are variables for the processing temperature pressure o stress strain or volume and chemical compussion for the aways you can change chemical comparation by making different allays so these are my variables in processing and by applying these variables rcommunation variables i generatemor mi make materials or manufacturing materials and these processing variables control the structure unstructure controlser properties so thers therefore these three are linked very clearly they are linked they are not separate or they are not independent things they are connected to each other t these are the bridges of these three important pillars of material science processing structure an property but finally what we look for finally we look for what is known as performance if yo war you are studying in a co sylamas in a course we are finally a holelotingal performance similarly materials are alated in terms of performance if i put a tyre in our car that means the major performanceis that i should be able to drive the take the car for one place to the place without any problems whut you know tires will varry from a summer to winter in the in the point countries and ice the tires which will travel n ic t are different so that means performance indeed are actually connected to all these three things processing structure and the properties and that is what is important this chart which is very famous in material science youwill find in many books is known as the material statehydron because they i actually looks like it ha tri so finally where does the pise transformation comes it is in the structure we modify the structure we modify the atomic structure wo vontify the grain structural modifie the phasesby phase transformations so therefore phase transformationis a direct link wofh the procession and also indirectly corrected with the properties and thats why it is a very important course in the material ens engineering you must understand that without knowing the phase transformations you cannot control material properties ok so phase transformation phericallibeof thermodynamics is the basis for understanding a material respons to change in temperature pressure composition i must accept this is slide i have taken from way this is not mine thus the cskhetical link between processing and microstructure requires an knowledge of the relevant thermodynamic principles and they are the basis force phase ransformation so you understand now why we are actually studying the phase transformations ok now question is this can i relate in the real applications i have taken four application again ily taken from the internate sites first one is an airplane ok air plane is a very important mode of transport from one part of the wall to the other plant and you know the material which is used in the airplane is an aluminum coper alloy if you do not know you can actually thake on the books there is a classical alloy elevin a four point five to four point seven percent copper known as develumin in the in the trannine and this is a very stable ally from forty five deee celsius to minus sixty five u celso or even minus a t ti cels i don t know how many of you prate new stat there is a desise laboratory in the southern hemissphere that is in antactica and sometimes if somebody is ill in the decised laboratorieis in winter time they are actually taken from that place by plane to termelat the the different content unespecially in southa america or sub parts but it will be extremely cold minus sixthief to minus eighty dege sel system pressures so a plane flying there the meterial has to withstand such a low temperature so ther this one nufe material which is prepared long back is used for the plane body and important phase transformation which happening here is a presipitation of certain phase in aluminum alase and these pecifitates provide the strength from high toonar temperature if you travel carefully on the planes you will find especially in the wings reveted joints and these revated joints are very strong at low temperatures because of the pecifitation so we are going to discuss about that the next one which is very important the right side is a turbine basically it can be used in the plane the high squid plane or inven in pow generators and they contained nickel by supervise is onderful material is a nickel aluminum alloy with consisting of many ou elements which i will not discuss in detail now but again the real high temperature propertiis because this this is a turbine so therefore this has to isstan high temperature high temperature properties cubiastane properties of this material is basically because of presipitation of a i three a type l one to pecipitates what you known as in a nickel mafrix eptrisi matrix and these unique pesipitates actually provide the strength ok the thus that that means the pestipretation is very important aspect to understand so that s why is will be part of a syllivas then on the side left side or you know may be right this is the rails which is used to as a fist plate on the relay tracks these action steels basically ther steel of parallite what do we known as if you do not have any idea of parallytes pinite is nothing but a eu tectortically transform product of gamma solisulation of carbon in iron and so therefore you must we must know how this transformation happens whether can wou control it because the properties of the rail depends on that remember ral is is what is allowing you to alon us to move trains so therefore they are they are subjected to straiss temperature harshhen movement and many other things so they must have combinations of properties so that they can serve the purpose and these is basically done by controlling the phase trans fotions on the right side this is the end the fast example is basically the titanium based ally engines ok remember these engines are not used in car they will be estingused in the planes or maybe in some other statiic applications like ter like the submarines or so so these engines actually has many plaslect itanium balves tha dineam mmc is pins that iamm c cranks ups many other things springs and they are tightina aluminites you know titanium out of thes all thatinamalise the most important allo which is extensively used is thitinium six aluminium pole canadium and it it we can control the marchester of these by mini ways creating alphalatonium also plus beted ditenium metou tatinm alloys so the propertisill vary depending on whether its alpha so plus petal p  meter re alpha is xamo pro spect structure meta is which is in structure so ratinium actually a noom temperature below what to eight hundred eighty two dea cel system presture is basically alpan above there in is n t is aing mec c structure so one can i actually play around in the temperature jone why again controlling the posting parameters to create different kinds of structures to get different properties so all these application dont think that they are all similar alparallits or metalos ofopenit always they can be combination so many of these then the actual real problem is how do i control these microstructures by controlling the prosissing parameters so rember these four examples are not exhaustive one can find many many examples in real life as i told in my first introduction lectures the basic example we always find is in in in country like india in the hot summer day you want to drink cold water so you can always put the quater inside the friige and get it cooled but it is real advantage is that if i take a glass of water and add a ice cube taken from the dee preture imedially the ic squee will start melting it down or getting dissolved in the water both a actually i tw o one is solid i tu or is a liquid isste so therefore by melting it down the heat in getting transfer to the liquid and then the water gets cooled down you enjoy the dring so this is the example which is present which we are actually doing it but what is important nou for you to understand how this transformation happens how the solid become liquid liquid become solid whether is very simple unknown remmer what is one of the most complex systems in the wild i m a unlike metal thes are more complex so let me just stop here before i go to the next part of the lecture or the next class so you understand in a natall that phase transformation is basically very important from the perspectives s of material science and technology and many of these products which you are actually using thes the properties are controlled by controlling phase transformations we can do that by using different pousing parametous temperature stay strain compossions and wy doing that we alter the microstructure the atmix structure and by doing that you are creating different propertiesso that is the relevance of face ansformation course and which you will be exposed to the next subsequent lectures\n"
          ],
          "name": "stdout"
        }
      ]
    },
    {
      "cell_type": "code",
      "metadata": {
        "colab": {
          "base_uri": "https://localhost:8080/"
        },
        "id": "WAabK39EuL9U",
        "outputId": "409baa47-c9c6-471f-a907-929f9f4beb12"
      },
      "source": [
        "\n",
        "FileContent2 = t2.read()\n",
        "print(FileContent2)"
      ],
      "execution_count": null,
      "outputs": [
        {
          "output_type": "stream",
          "text": [
            "﻿dear students let us start the first lecture of this course this is basically a online\n",
            "course so therefore you need to be very clear about what you are going to learn and how\n",
            "you are going to be evaluated first of all this is a course on phase transformation in\n",
            "materials and i will be teaching all the lectures and it is a thirty lecture course that means\n",
            "there will be sixty twenty five minutes lecture and every week will be i suppose to i am not\n",
            "sure now about four to six lectures so that means about two to three hours of lectures\n",
            "so myself is professor biswas and i am a faculty member at the department of material science\n",
            "engineering of iit kanpur so thats the details about me my email address is available on\n",
            "the screen you can daily write to me whenever you have any serious problems and in addition\n",
            "to that to handle the course exams and also grading appear answer sheets i know this will\n",
            "be done online will be taken care by the teaching assistance\n",
            "so two of my students they will be handling that so they are actually the main ah person\n",
            "will be handling your questions to my write first one is kushbu kushbu tiwari is my pg\n",
            "and second one is reshma reshma is also my pg student so they will be handling all your\n",
            "the questions in the discussion forum obviously they are very difficult and i will also participate\n",
            "and also they will be handling your question paper and grading so my task will be to deliver\n",
            "all the lectures and then this will be uploaded in to nptel website so that you can observe\n",
            "and read or or listen online whatever is whatever way you can think about it\n",
            "now a days also there is another provision all my lectures whatever i am speaking will\n",
            "be again taken down or written by some experts so we are in the process of finding out those\n",
            "experts on my earlier course on phase transformation materials similarly we will do it for you\n",
            "also so that you dont need to listen you can actually read all this lectures notes so before\n",
            "that happens we are going to only listen this lectures available on the nptel forum and\n",
            "also you can ask questions in the discussion forum and so thats about it and there email\n",
            "address is are given and i have carefully removed the phone numbers because this is\n",
            "where things become very difficult to handle so if you have any questions you can ask them\n",
            "ask me also or you can put it on the discussion forum ok you know like any things in life\n",
            "every course has an objective and this objective has to be very clear before you start the\n",
            "course\n",
            "so present course actually will deal with basics of transformations in materials and\n",
            "as i said in my introduction video already you have seen probably that phase transformation\n",
            "is everywhere present in the normal whether you are talking about materials ceramics polymers\n",
            "or you are talking about real life phase transformation is present that how do we deal with phase\n",
            "transformation that is what you will be taught because thats what is important in your endower\n",
            "to learn phase transformation so using these three things one is your thermodynamics\n",
            "then kinetics and some basic aspect of material sands like crystal structures and interfaces\n",
            "we are going to study various solid to solid and liquid to solid phase transformation as\n",
            "you know this is our subject and covering that in thirty lectures is not an easy task\n",
            "so obviously we must be selected we cannot teach you everything and to learn everything\n",
            "you need to have some basic idea ah what i put it as course pre requisites ok and this\n",
            "pre requisites are should have preferably should have some basic knowledge on basic\n",
            "material science that most of the students in methodology or material science normally\n",
            "have thermodynamics especially with thermodynamics functions and their relationships and then\n",
            "some idea about phase diagrams and diffusion ok\n",
            "so ah i have already ah checked on different courses in nptel but by mean by different\n",
            "person is that there are some courses which are videos some courses which are web some\n",
            "courses which are massive open online so basic material science is already being taught by\n",
            "some faculty members thermodynamics is already being available and phase diagram i myself\n",
            "was develop a course nil just one year back diffusion is also partly taught so therefore\n",
            "you can actually ah clear your doubts while reading these lecture ok ah this is the full\n",
            "ah rather all the description of the all the lectures ok i dont know whether everything\n",
            "is coming in this scheme or not but any way most important thing is that we are going\n",
            "to talk about some very ah at the beginning where we going to talk give you some idea\n",
            "about free energy because that is the thermodynamic part of the phase diagram so we will show\n",
            "you the calculation of delta g of various transformations ok then we will talk about\n",
            "quad derivative of interfaces interfaces means liquid solids gren gren interface interface\n",
            "inter phase interfaces this are all parts of thermodynamics\n",
            "then you have to go in to kinetics thats the nucleation because nucleation is what the\n",
            "starting point of phase transformations so therefore theorem nucleation homogeneous heterogeneous\n",
            "nucleation and nucleation on the surfaces grains and even clan corners gen edges every\n",
            "where it will be dealt with as you know nucleation itself is the subject so there that we must\n",
            "be very ah you know you have to very careful about what you are going to talk about its\n",
            "i wont be able to tell you every details of the nucleation but whatever element we will\n",
            "discuss then we are going to start the first of the phase transformation that is on solidification\n",
            "as you see here solidification is a liquid to solid phase transformations then we will\n",
            "talk about growth during different aspects like thermal activated growth interface controlled\n",
            "growth diffusion controlled growth thats why you need to know as well as coupled growth\n",
            "and you take to array you take the transformation then we will talk about little bit about transformation\n",
            "kinetics in terms of different models johnson mehl and avrami models and some amount of\n",
            "gas thermal phase transformations then we will simply go on to different solid phase\n",
            "transformations like precipitation recrystallisation martensitics spinodal decompositions and we\n",
            "talk about isothermal and continuous transformations thats itself will be sufficient enough to\n",
            "call off thirty lectures ok\n",
            "so ah this is important that you know what we are going to be taught at the beginning\n",
            "so that you can prepare yourself so we are going to ah follow exactly the same way things\n",
            "are given on the right side i have also listed down number of lectures will be spent on each\n",
            "topic now comes in very important aspects because in a massive open online course you\n",
            "will be exposed to video lectures or the online lectures you must have some amount of you\n",
            "know text book knowledge so therefore two important text books which are carried from\n",
            "our library ah is this first one which is which is here is written on that is phase\n",
            "transformation in metals and alloys classic text book by d a porter and k e easterling\n",
            "and the recent edition also has come with a new author are all the problems are solved\n",
            "mr ah doctor m y sherif this is available in india not very expensive book you can read\n",
            "that and the other book is written by two of my past colleagues although i have never\n",
            "met them but though are iit kanpur this book is phase transformations in materials and\n",
            "by professor a k jena and professor m c chaturvedi both were at iit kanpur\n",
            "so ah when this books written there there were ah jena was in kanpur ok so this two\n",
            "books will be a basic text book for the course and anyone any of these books will be good\n",
            "for you you can by this books or you can actually copy from different libraries in the in the\n",
            "different parts of the book you can copy from different libraries or if you if you want\n",
            "you actually even ah you know get by that on different online stores correct so thats\n",
            "about the basic part of the course i think before i could move on to the next portion\n",
            "of my ah lecture why the phase transformation is delivered let me tell you you will be given\n",
            "ah assignments on every week and i think assignments are normally uploaded on thursday and because\n",
            "monday wednesday monday to wednesday will be exposed to the lectures and after that\n",
            "you will be i will be ah my t s will be uploading the assignments and you will be given about\n",
            "one weeks time to complete the assignments because assignments will be online so the\n",
            "questions will be ah multiple choice type or may be fill fill in the blanks type as\n",
            "assignment will have a weightage of fifty percent weightage and at the end of this semester\n",
            "you will be taking an end some exam and we are planning to have it online so far if i\n",
            "dont change my decisions or something else is happens otherwise it will be online and\n",
            "that will be having a fifty percent weightage\n",
            "although ah i am not keeping any pass marks for this course but you can interdentally\n",
            "consider if you are getting less than about say thirty percent of the marks then you will\n",
            "not be able to pass this course and those who will be successfully completing this course\n",
            "by taking exams and getting good marks will be given certification from the nptel as you\n",
            "know so that way i expect that you will be very serious learner and you will be also\n",
            "able to solve this problems if incase you have difficulties you can always discuss you\n",
            "can always use the discussion forums or you can write emails you can always bring it to\n",
            "the ah instructor all the t s so that we can make it clear to you thats very important\n",
            "because unless and until you know the things very well you will not be able to answer the\n",
            "questions now ah in the next few slides i am going to talk about what are the relevance\n",
            "of phase transformation materials development then why do you study in any course i know\n",
            "that many of you do not exposed by the instructor in the same way you must have an idea why\n",
            "you are studying this course what is the need well phase transformation is as i said is\n",
            "represented environment ok\n",
            "this slide i have taken from the literature you know thats what i am going to answer to\n",
            "you why study phase transformation material science ok you know what we are actually we\n",
            "look material for the application in in any case finally we have to think our application\n",
            "unless and until this material is applied engineering point of view we dont find any\n",
            "reason to study scientific point of view one can study so application means we must know\n",
            "that properties all kinds of properties so there is a physical mechanical electronic\n",
            "electrical magnetic depending on the applications so property or properties of a material is\n",
            "are estimated very very rigorously to find an potential applications this is true for\n",
            "even a new materials when its developed so now question is this properties as i said\n",
            "mechanical chemical electrical magnetic thermal you can even list on many more properties\n",
            "of the material depends on structure and thats why actually real problem comes structure\n",
            "has land scape you can simply say atomic structure atomic structure is the smallest structure\n",
            "you can think about it atom and nucleus infact that is what dictates most of the properties\n",
            "are to material but that is not all that is what in to this is what you must know very\n",
            "clearly thats not all\n",
            "so structure means it can be atomic structure molecular structure grain structure phase\n",
            "trans distribution and defects ok so we have basically i have listed down from the bottom\n",
            "up the atom is smallest theses and then we have grains and other things so you must have\n",
            "i am stressing again you must have an good idea about this structures to correlate with\n",
            "the properties because it is important that the properties are primarily dictated by the\n",
            "structure so if i know the structure i can dictate the properties so you got the correlation\n",
            "right ah very logically speaking we made materials rather we use processing techniques to make\n",
            "materials and this processing techniques allow you to control structure processing technique\n",
            "means what you can start with the liquid and solidify that is what is solidification you\n",
            "can start with the metal piece deform by rolling forging exclusion whatever different means\n",
            "so you actually process or you can actually deposit thin film you can actually you surface\n",
            "treatment techniques many things we do in the real ah now processing of materials they\n",
            "have a direct connection with this structure\n",
            "a structure has a direct link with the properties so as you see here these actually are variables\n",
            "for the processing temperature pressure or stress strain or volume and chemical composition\n",
            "for the alloys you can change chemical composition by making different alloys so these are my\n",
            "variables in processing and by applying these variables or combination of variables i generate\n",
            "or i make materials and manufacture materials and this processing variables controls the\n",
            "structure and structure controls the properties so therefore these three are linked very clearly\n",
            "they are linked they are not separate or they are not independent things they are connected\n",
            "to each other these are the of these three important pillars of material science processing\n",
            "structure and property but finally where to we look for finally we look for what is known\n",
            "as performance if you are studying in a course syllabus in a course you are finally evaluated\n",
            "on performance similarly materials are evaluated in terms of performance if i put a tire in\n",
            "your car that means the major performance is the tire should be able to drive the take\n",
            "the car from one place to another without any problems but you know tires should vary\n",
            "from a some ah are twin tire in the in the foreign countries in the the eyes tire which\n",
            "will travel on are different\n",
            "so that means performance indeed are actually connected to all these three things processing\n",
            "structure and the properties and that is what is important this chart which is very famous\n",
            "in material science you will find in many books is known as the material tetrahedron\n",
            "because they are actually looks like a tetrahedron so finally where does the phase transformation\n",
            "comes it is in the structure we modify the structure we modify the atomic structure we\n",
            "modify grain structure we modify the various by phase transformation so therefore phase\n",
            "transformation are directly linked with processing and also indirectly connected with the properties\n",
            "and thats why it is a very important course in the material science engineering you must\n",
            "understand that without knowing the or phase transformations you cannot control material\n",
            "properties ok\n",
            "so ah phase transformation or phase equilibria or thermodynamics is the basis for understanding\n",
            "a material response to change in temperature pressure composition i must accept this is\n",
            "slide i have taken from web this is not mine thus the critical link between processing\n",
            "and microstructure requires a knowledge of the relevant thermodynamics principles and\n",
            "they are the basis for phase transformations so you understand now why we are actually\n",
            "studying the phase transformations ok now question is this can i relate it to real applications\n",
            "i have taken four applications again i taken from the internet sites first one is in air\n",
            "plane ok air plane is the very important ah mode of transport from one part of the world\n",
            "to other part and you know the material which is used in the air plane is an aluminum copper\n",
            "alloy if you dont know you can actually check on the books this is the classical alloy aluminum\n",
            "four point five to four point seven percent copper known as dual lumen in the in the trend\n",
            "name and this is a very stable alloy from forty five degree celsius to minus sixty five\n",
            "degree celsius or even minus eighty degree celsius i dont know how many of you read news\n",
            "that there is a research laboratory in the southern hampshire that is in hm antarctica\n",
            "and sometimes if somebodies yield in the research laboratories in winter time they are actually\n",
            "taken from that place by plane to the the different country especially in southern america\n",
            "and such parts but it will be extremely cold minus sixty to minus eighty degree celsius\n",
            "temperature so a plane flying there the material has to be stand such a low temperature\n",
            "so this wonderful material which is prepared long back is used for the plane body and important\n",
            "phase transformation which is happening here is a precipitation of certain phase in aluminum\n",
            "alloys and this precipitates provide the strength from high to low temperature if you travel\n",
            "carefully on the planes you will find especially in the wings deviated join and this deviated\n",
            "joins are very strong and low temperatures because of the precipitation so we are going\n",
            "to discuss about that ah next one which is very important on the right side is air turbine\n",
            "basically it can be used in the plane the high speed plane or in when in power generators\n",
            "and they contained nickel based super alloys this wonderful material this is nickel aluminum\n",
            "alloy with consisting of many other elements which i will not discuss in detail now but\n",
            "again the real high temperature properties because this this is turbine so thereforth\n",
            "this has to be instant high temperature high temperature properties equi based properties\n",
            "of this material is basically because of precipitation of n i three a l type l one to precipitates\n",
            "what we known as in a nickel matrix fcc matrix and this unique precipitates actually provide\n",
            "the strength ok the thats thats that means precipitation is very important aspect to\n",
            "understand so thats what is will be part of silvers\n",
            "then on this side left side i know may be your right this is the rails which is used\n",
            "to as a phi splay on the railway tracks this actually steels basically the steel of perlite\n",
            "what you known as if you dont have any idea perlites perlite is nothing but a utech transform\n",
            "product of gamma solution of carbon in iron and so therefore you must you must know how\n",
            "this transformation happens whether we can control it because the properties of the rail\n",
            "depends on that and remember rail is is ah what is allow you to allowing us to move trains\n",
            "so therefore they are they are subjected to stress temperature harsh environment and many\n",
            "other things so they must have combinations of properties so that they can start the purpose\n",
            "and these is basically done by controlling the phase transformations on the right side\n",
            "this is the end the last example is basically the titanium based align engines ok remember\n",
            "this engines are not used in car they will be used in planes or may be in some other\n",
            "strategic applications like ah turb hm like the submarines and so\n",
            "so these engines actually has many plus like titanium valves titanium mmcs springs titanium\n",
            "mnc cramsups many others things springs and there are titanium aluminites you know titanium\n",
            "out of these all thirteen m alloys the most important alloy which is extensively used\n",
            "in titanium sixth aluminum four vanadium and it it we can control the micro structure of\n",
            "these by many ways creating alpha titanium alpha plus beta titanium beta of titanium\n",
            "alloys so ah the properties will vary depending on whether its alpha alpha plus beta alpha\n",
            "or beta remember alpha is hexagonal prospect structure beta is bcc structure so titanium\n",
            "actually ah room temperature below what to eight hundred eighty two degree celsius temperature\n",
            "is basically alpha above that it is a this i mean bcc structure so one can actually play\n",
            "around in the temperature zone by again controlling the prosaic parameters to create different\n",
            "kinds of structures to get different properties\n",
            "so all these applications dont think that they are similar alpha alloys or beta alloys\n",
            "alpha plus beta alloys they can be combination of many of these then the actual real problem\n",
            "is how do i control this micro structures by controlling the processing parameters so\n",
            "remember these four examples are not exhausted one can find many many examples in the real\n",
            "life as i told you in my first introduction lectures the basic example you always find\n",
            "is in the country india when hot summer days you want to drink cold water so you can always\n",
            "put the cold water inside the fridge and get it cooled but it is real advantage is that\n",
            "if i take a glass of water and add a ice cube taken from the deep freezer immediately the\n",
            "ice cube will start melting it down or getting dissolved in the water both are actually h\n",
            "two o one is solid h two o and the other is liquid h two o\n",
            "so therefore by melting it down the heat is getting transferred to the liquid and then\n",
            "the water gets cool down you will enjoy the drinks so this is the example which is present\n",
            "which you are actually doing it but what is important you for you to understand how these\n",
            "transformation happened how these solid become liquid liquid become solid whether is very\n",
            "simple or no remember what is from the most complex systems in the world and no unlike\n",
            "metal like more complex so ah let me just stop here before i go to the next part of\n",
            "the lecture or the next class so you understand in a nutshell that phase transformation is\n",
            "basically very important from the perspective of material science and technology and many\n",
            "of these products which you are actually using these their properties are controlled by controlling\n",
            "phase transformations we can do that by using different processing parameters temperature\n",
            "stress strain compositions and by doing that we alter them micro structure the atomic structure\n",
            "and by doing that you will create a different properties so that is the relevance of phase\n",
            "transformation course and which will be exposed to in the next subsequent lectures\n"
          ],
          "name": "stdout"
        }
      ]
    },
    {
      "cell_type": "code",
      "metadata": {
        "id": "mS_DbXTSd_su"
      },
      "source": [
        "f1 = FileContent1.split()\n",
        "f2 = FileContent2.split()"
      ],
      "execution_count": null,
      "outputs": []
    },
    {
      "cell_type": "markdown",
      "metadata": {
        "id": "1i6Tp30ytVy9"
      },
      "source": [
        "# Applying JamSpell"
      ]
    },
    {
      "cell_type": "code",
      "metadata": {
        "colab": {
          "base_uri": "https://localhost:8080/"
        },
        "id": "Ut1of7sEZlHw",
        "outputId": "74e9463f-d226-40e4-ecb2-d9ea41c7885a"
      },
      "source": [
        "seq_mat = difflib.SequenceMatcher()\n",
        "\n",
        "seq_mat.set_seqs(f1, f2)\n",
        "print(\"Similarity Ratio            : {}\".format(seq_mat.ratio()))"
      ],
      "execution_count": null,
      "outputs": [
        {
          "output_type": "stream",
          "text": [
            "Similarity Ratio            : 0.7400474558397048\n"
          ],
          "name": "stdout"
        }
      ]
    },
    {
      "cell_type": "code",
      "metadata": {
        "id": "vfSqDm2Q3n3C"
      },
      "source": [
        "FileContent3 = jsp.FixFragment(FileContent1)"
      ],
      "execution_count": null,
      "outputs": []
    },
    {
      "cell_type": "code",
      "metadata": {
        "colab": {
          "base_uri": "https://localhost:8080/"
        },
        "id": "nIY1lWTO4oSZ",
        "outputId": "95d093a2-090a-4fed-b4fe-83e685bed2f6"
      },
      "source": [
        "print(FileContent3)"
      ],
      "execution_count": null,
      "outputs": [
        {
          "output_type": "stream",
          "text": [
            "﻿the students let us start the first lecture of this course this is basically a online course so therefore you need to be very clear about what you are going to learn and how you are going to be evaluated first of all this is a course on phase transformation in materials and i will be teaching all the lectures and it is a thirty lecture course that means there will be sixty twenty five minutes lecture and every week we will be exposed to i am not sure now about four to six lectures so that means about two to three hours of lectures so myself is persummiswas and i am a faculty member at the department of material sense engineering opiitianpull so thus the details about me my email address is available on the screen you can finally write to me whenever you have any serious problems and in addition to that to handle the courseexams and also grading of your answer sets although i know this will be all done all line will be taken care by the teaching assisted so two my students they will be handling that so they are actually the main person who will be handling your questions to my right first one i cospo chospotivaris is my per student and second one is res pa res mis also my pan i student so they will be handling all your questions in a discussion forum obviously they are very difficult then i will also participate and also they will be handling your question paper and grading so mit ask will be to deliver all the lectures and then this will be uploaded int tan putal website so that you can observe and read or religion or learn whatever me whatever way you can think about it nowadays also there is another provision all my lectures whatever i am speaking will be again taken down or written by some x parts so we are in the process of finding out those x parts for my earlier course and phase transformation materials similarly weill will do it for you also so that you do not need to listen you can actually read all these lectures nones so before that happens you are going to only listen this lectures available on the imperial form and also you can ask questions in the discussion forum and so that s about it and their similar doses are given and i have carefully removed the phone numbers because this is why things become very difficult to handle so if you have any questions you can ask them ask me also or you can put it on the discussion form you know like any things in life every course as an objective and this subjective has to be very clear before you start a course present course actually we will deal with basic surface transformations and materials as i said in in my introduction radio already you have seen probably that past transformation is everyuler present in the environment whether you are talking about metals ceramics payments or your talking about real life whose transformations present but how do we deal is phase transformation that is what we will be taught because that what is important in your endeavor to learn phase transformations so using these three things one is your o thermodynamics tin kinetics and some basic aspect of material sensil like crystal structures and interfaces we are going to study various solid o solid an liquid to solid phase transformation as we know this is a vast subject and covering that in thirty lectures is not an easy task so obviously we must be selected we cannot teach you everything and to learn everything you need to have some basic idea what i put it as course perriquicite ok at this peracuosit ar you should have peperabil skuld up some basic knowledge on basic material science that most of the students in metallurgy or material sense normally have thermodynamics especially the thermionic functions and their relationships and then some idea phase dicoms and diffusion ok so i have already checked on different portions o was in steal but i mean by different person is that there are some correa video or some constitute wave some houses which are massive open falling so basic material sense is already been taught by some fecal numbers thermodynamics has already been available and phase ther ommi manself has develop a course and thrills just one year back decision is also piracy taught so therefore you can actually clear your doubts by while reading these lecture ok this is the full whether all the description of the all the lectures ok i down know whether everything is coming in the scene or not but anyway most important thing is that we are going to talk about some very at the beginning we are going to talk give you some idea about fee eng because that is a therbonanis part of the phase diagram so we will show you the calculation of delta g of various transformations ok then we will talk about quite a bit of interfaces interfaces means liquid sal is solid solid grain grain interface interface interfaeinturfaces these are all parts of with thermodynamics then we have to go into kinetics that the incubation because nuclation is why the starting point of phase transformations so therefore theory of escalation howmoteou between eculations and circulation on the surface is grains and even cen corner gen s everywhere it will be dealt with and assume yoon releasing itself a subject so there therefore must be a very and now we have to be very careful about what you are going to talk about it i wont be going to tell you every details of the circulation but whatever relevant we will discuss then we are going to start the first of the first transfertion that is of solidification as you see here justification is an liquid to solid phase transformations then we will talk about growth during different aspects like thermal activated god interface control go efficient control go that's why you need to know and cassia as couple god then you take toeutectric transformations then we will talk about little bit about transformation kinetics in terms of these model con enamel and aroma models and some amount of the thermal phase transformations then we simply go on to different soi to somalia transforsioni presipitations realize and satisfies spinagtal dey compositions and a bit about sutherland continuous transformations that itself will be sufficient and up to cover tatilectures ok so  this is important that you know what you are going to be taught at the beginning so that you can prepare yourself so we are going to follow exactly the same way things are given on the right side i have also passed down number of lectures will be spent on each topic now comes in very important aspects because in the massive open calling course you will be exposed to radio lectures or the ali lectures you must have some amount of you know textbook knowledge so therefore two important texbook which i have carried from our library is this first one which is which is here is written on that is phase transformation in metals and alloys classic textbook by d a porter and k is telling and the recant addition also has come with a new author all the problems of solved by mister sector am ship this is available in india not very expensive book you can read that and the other book is written by two my past colleagues although i have never met them but they are ita anpol this book is pase transformation is in materials and by professor ak gene and prime m cso therapy both er i tecanpuo so when these books are written there all therefore gena was in consul ok so these two books will be your basic textbooks for the course and anyone any of these books will be good for you you can buy these books or you can actually copy from different liability in the different parts of the books can copy from different libraries or if you if you want you can actually even now get buy that on different online stores current so thats about the basic part of the courseading before i could move onto the next portion of my lecture why the pac transfer sale wet let me tell you you will be given assignments in every week and i think assermenstion normally uploaded on thursday and because monday genus t mandate etness stay will be exposed to the lectures and after that you will be i will be or my t sh willl be uploading the amendments and you will be given out one weeks time to complete the assignments because assignments ole alpine so the questions would be multiple choice type or may be feeling fill in the blank stipe as a segment wo levo it is a fifty percent vantage and at the end of this semester you will be taking an nsa exam and we are planning to have it anlline so far if i do not change my decisions or something else happens other isity pearl line and that will be having a fifty percent vertage although i am not keeping any pass marks of this course but you can tentatively consider if you are getting less than about say thirty percent of the marks then you will not be able to pass this course and those who will be successfully completing this course by taking exams and getting good marks will be given modification from the imperial as you know so that way i expect that you will be very serious planner and you will be also able to solve this problems if a in case you have difficulties you can always discuss we can always use discussion for or you can write emails you can always bring it to the instructor all the t s so that we can make it clear to you that very important because understand you know the things very well could not be able to answer the questions now in the next few slides i am going to talk about what a relevant sof face transformation materials eelonment and why do you study in any course i know that many of you do not expose by the instructor in the same way you must have an idea why you are studying this course what is the need well phase transformation assisi is presented environment of the slide i have taken from literature ou one that is what i am going to answer to you why study phase transformation material science of you know what wearin actually we look materials for the application in any case finally we have to think of application unless atlantis mater is applied engineering point of view we do not find any reason to study student loan to give one can stand so application means we must know the properties all kinds of of part so there is a physical mechanical electronic electrical magnetic depending on the applications so property property sola material is are estimated very very regards to find and potential applications this is two pore new material when it is developed so now question is this popular as i say mechanical chemical electrical minity thermal you can evenly stand miny more properties of the material depends on structure and that why actual legal problem come structure has length scale you can simply say atomic structure at in structure is the smallest structure you can think about it atom and nucleus in fact that is why details one sole propadisiofto material but that is not all that is what in so this is what you must know very clear that is not all so structure means it can be atmix structure molecular structure grain structure phase as distribution and defects ok so we have basically have listed down from the bottom of atom is the small species and then we have grains and other things so you must have i am stressing again you mast tem end to a good idea about the structures to collate to the properties because it is important that the properties are primarily dictated by this structure so if i know the texture i can vector the properties so you got the coalition right a very logically speaking we make materials whether we use processing techniques to make materials and these processing techniques allow you to control structure processing technique means what you can start with the liquid and solidify that is why the solidification you can start with a metal piece deform by rolling force situation whatever referent means so you actually process or you connection deposits tin flame you can actually use surf statement techniques many things we do in the real app now processing of materials they have a direct connections with a structure and tractor as a direct link with the properties so as you see here these actually are variables for the processing temperature pressure o stress strain or volume and chemical compassion for the ways you can change chemical comparison by making different always so these are my variables in processing and by applying these variables communication variables i generator mi make materials or manufacturing materials and these processing variables control the structure unstructured controller properties so there therefore these three are linked very clearly they are linked they are not separate or they are not independent things they are connected to each other to these are the bridges of these three important pillars of material science processing structure an property but finally what we look for finally we look for what is known as performance if to war you are studying in a co sampras in a course we are finally a holelotingal performance similarly materials are slated in terms of performance if i put a tyre in our car that means the major performances that i should be able to drive the take the car for one place to the place without any problems what you know tires will vary from a summer to winter in the in the point countries and ice the tires which will travel n in t are different so that means performance indeed are actually connected to all these three things processing structure and the properties and that is what is important this chart which is very famous in material science youwill find in many books is known as the material statehydron because they i actually looks like it a tri so finally where does the rise transformation comes it is in the structure we modify the structure we modify the atomic structure wo notify the grain structural modified the phrases phase transformations so therefore phase transformations a direct link wofh the procession and also indirectly corrected with the properties and that why it is a very important course in the material end engineering you must understand that without knowing the phase transformations you cannot control material properties of so phase transformation phericallibeof thermodynamics is the basis for understanding a material response to change in temperature pressure composition i must accept this is slide i have taken from way this is not mine thus the skeptical link between processing and microstructure requires an knowledge of the relevant thermodynamic principles and they are the basis force phase transformation so you understand now why we are actually studying the phase transformations ok now question is this can i relate in the real applications i have taken four application again fly taken from the internate sites first one is an airplane ok air plane is a very important mode of transport from one part of the wall to the other plant and you know the material which is used in the airplane is an aluminum copper alloy if you do not know you can actually take on the books there is a classical alloy levin a four point five to four point seven percent copper known as develumin in the in the training and this is a very stable ally from forty five deee celsius to minus sixty five u cello or even minus a t ti cells i don t know how many of you rate new state there is a desire laboratory in the southern hemisphere that is in antarctica and sometimes if somebody is ill in the decided laboratories in winter time they are actually taken from that place by plane to permeate the the different content especially in south america or sub parts but it will be extremely cold minus sixties to minus eighty dege sel system pressures so a plane flying there the material has to withstand such a low temperature so the this one nude material which is prepared long back is used for the plane body and important phase transformation which happening here is a precipitation of certain phase in aluminum alas and these precipitate provide the strength from high toonar temperature if you travel carefully on the planes you will find especially in the wings revered joints and these related joints are very strong at low temperatures because of the specification so we are going to discuss about that the next one which is very important the right side is a turbine basically it can be used in the plane the high squid plane or invent in pow generators and they contained nickel by supervise is wonderful material is a nickel aluminum alloy with consisting of many of elements which i will not discuss in detail now but again the real high temperature properties because this this is a turbine so therefore this has to stand high temperature high temperature properties cubiastane properties of this material is basically because of precipitation of a i three a type a one to precipitates what you known as in a nickel matrix entries matrix and these unique precipitate actually provide the strength of the thus that that means the pestipretation is very important aspect to understand so that s why is will be part of a sullivan then on the side left side or you know may be right this is the rails which is used to as a fist plate on the relay tracks these action steels basically the steel of parallel what do we known as if you do not have any idea of parallels finite is nothing but a eu theoretically transform product of gamma solisulation of carbon in iron and so therefore you must we must know how this transformation happens whether can you control it because the properties of the rail depends on that remember ral is is what is allowing you to alon us to move trains so therefore they are they are subjected to strains temperature harsher movement and many other things so they must have combinations of properties so that they can serve the purpose and these is basically done by controlling the phase trans motions on the right side this is the end the fast example is basically the titanium based ally engines ok remember these engines are not used in car they will be estingused in the planes or maybe in some other static applications like ter like the submarines or so so these engines actually has many plaslect itanium valves tha dineam mmc is pins that hamm c cranks ups many other things springs and they are fighting luminaries you know titanium out of the all thatinamalise the most important allo which is extensively used is titanium six aluminium pole vanadium and it it we can control the manchester of these by mini ways creating alphalatonium also plus belted titanium metou taking alloys so the propertisill vary depending on whether its alpha so plus petal p  meter re alpha is xamo pro spect structure meta is which is in structure so uranium actually a room temperature below what to eight hundred eighty two dea cel system pressure is basically alan above there in is n t is king mec c structure so one can i actually play around in the temperature jone why again controlling the posting parameters to create different kinds of structures to get different properties so all these application dont think that they are all similar alparallits or metals ofopenit always they can be combination so many of these then the actual real problem is how do i control these microstructures by controlling the processing parameters so member these four examples are not exhaustive one can find many many examples in real life as i told in my first introduction lectures the basic example we always find is in in in country like india in the hot summer day you want to drink cold water so you can always put the quarter inside the fringe and get it cooled but it is real advantage is that if i take a glass of water and add a ice cube taken from the dee return imedially the ic squee will start melting it down or getting dissolved in the water both a actually i to a one is solid i to or is a liquid issue so therefore by melting it down the heat in getting transfer to the liquid and then the water gets cooled down you enjoy the dring so this is the example which is present which we are actually doing it but what is important not for you to understand how this transformation happens how the solid become liquid liquid become solid whether is very simple unknown reimer what is one of the most complex systems in the wild i m a unlike metal they are more complex so let me just stop here before i go to the next part of the lecture or the next class so you understand in a natal that phase transformation is basically very important from the perspectives s of material science and technology and many of these products which you are actually using the the properties are controlled by controlling phase transformations we can do that by using different housing parameters temperature stay strain composition and by doing that we alter the microstructure the atmix structure and by doing that you are creating different properties that is the relevance of face information course and which you will be exposed to the next subsequent lectures\n"
          ],
          "name": "stdout"
        }
      ]
    },
    {
      "cell_type": "code",
      "metadata": {
        "id": "QCe7EePw45ko"
      },
      "source": [
        "f3 = FileContent3.split()"
      ],
      "execution_count": null,
      "outputs": []
    },
    {
      "cell_type": "code",
      "metadata": {
        "colab": {
          "base_uri": "https://localhost:8080/"
        },
        "id": "d6FjU8CW4v_G",
        "outputId": "6fbe2921-1c39-4f97-b527-21fd7949bbd1"
      },
      "source": [
        "seq_mat = difflib.SequenceMatcher()\n",
        "\n",
        "seq_mat.set_seqs(f2, f3)\n",
        "print(\"Similarity Ratio            : {}\".format(seq_mat.ratio()))"
      ],
      "execution_count": null,
      "outputs": [
        {
          "output_type": "stream",
          "text": [
            "Similarity Ratio            : 0.762984445030319\n"
          ],
          "name": "stdout"
        }
      ]
    },
    {
      "cell_type": "code",
      "metadata": {
        "id": "ot6wEagZUSQv"
      },
      "source": [
        "listt = []"
      ],
      "execution_count": null,
      "outputs": []
    },
    {
      "cell_type": "code",
      "metadata": {
        "colab": {
          "base_uri": "https://localhost:8080/"
        },
        "id": "3Sln_QgF438g",
        "outputId": "382b2fbb-30d3-4663-9848-e7b60271ad2e"
      },
      "source": [
        "si = difflib.SequenceMatcher(None, FileContent3, FileContent2)\n",
        "for tag, i1, i2, j1, j2 in si.get_opcodes():\n",
        "  listt.append(tag)\n",
        "  print('{:7}   FileContent3[{}:{}] --> FileContent2[{}:{}] {!r:>8} --> {!r}'.format(\n",
        "  tag, i1, i2, j1, j2, FileContent3[i1:i2], FileContent2[j1:j2]))"
      ],
      "execution_count": null,
      "outputs": [
        {
          "output_type": "stream",
          "text": [
            "equal     FileContent3[0:1] --> FileContent2[0:1] '\\ufeff' --> '\\ufeff'\n",
            "replace   FileContent3[1:87] --> FileContent2[1:88] 'the students let us start the first lecture of this course this is basically a online ' --> 'dear students let us start the first lecture of this course this is basically a online\\n'\n",
            "equal     FileContent3[87:174] --> FileContent2[88:175] 'course so therefore you need to be very clear about what you are going to learn and how' --> 'course so therefore you need to be very clear about what you are going to learn and how'\n",
            "replace   FileContent3[174:175] --> FileContent2[175:176]      ' ' --> '\\n'\n",
            "equal     FileContent3[175:261] --> FileContent2[176:262] 'you are going to be evaluated first of all this is a course on phase transformation in' --> 'you are going to be evaluated first of all this is a course on phase transformation in'\n",
            "replace   FileContent3[261:357] --> FileContent2[262:358] ' materials and i will be teaching all the lectures and it is a thirty lecture course that means ' --> '\\nmaterials and i will be teaching all the lectures and it is a thirty lecture course that means\\n'\n",
            "equal     FileContent3[357:421] --> FileContent2[358:422] 'there will be sixty twenty five minutes lecture and every week w' --> 'there will be sixty twenty five minutes lecture and every week w'\n",
            "replace   FileContent3[421:432] --> FileContent2[422:476] 'e will be e' --> 'ill be i suppose to i am not\\nsure now about four to si'\n",
            "equal     FileContent3[432:433] --> FileContent2[476:477]      'x' --> 'x'\n",
            "replace   FileContent3[433:476] --> FileContent2[477:843] 'posed to i am not sure now about four to si' --> ' lectures so that means about two to three hours of lectures\\nso myself is professor biswas and i am a faculty member at the department of material science\\nengineering of iit kanpur so thats the details about me my email address is available on\\nthe screen you can daily write to me whenever you have any serious problems and in addition\\nto that to handle the course e'\n",
            "equal     FileContent3[476:477] --> FileContent2[843:844]      'x' --> 'x'\n",
            "replace   FileContent3[477:701] --> FileContent2[844:1268] ' lectures so that means about two to three hours of lectures so myself is persummiswas and i am a faculty member at the department of material sense engineering opiitianpull so thus the details about me my email address is a' --> 'ams and also grading appear answer sheets i know this will\\nbe done online will be taken care by the teaching assistance\\nso two of my students they will be handling that so they are actually the main ah person\\nwill be handling your questions to my write first one is kushbu kushbu tiwari is my pg\\nand second one is reshma reshma is also my pg student so they will be handling all your\\nthe questions in the discussion forum ob'\n",
            "equal     FileContent3[701:702] --> FileContent2[1268:1269]      'v' --> 'v'\n",
            "replace   FileContent3[702:757] --> FileContent2[1269:1285] 'ailable on the screen you can finally write to me whene' --> 'iously they are '\n",
            "equal     FileContent3[757:760] --> FileContent2[1285:1288]    'ver' --> 'ver'\n",
            "replace   FileContent3[760:767] --> FileContent2[1288:1417] ' you ha' --> 'y difficult and i will also participate\\nand also they will be handling your question paper and grading so my task will be to deli'\n",
            "equal     FileContent3[767:769] --> FileContent2[1417:1419]     've' --> 've'\n",
            "replace   FileContent3[769:835] --> FileContent2[1419:1716] ' any serious problems and in addition to that to handle the course' --> 'r\\nall the lectures and then this will be uploaded in to nptel website so that you can observe\\nand read or or listen online whatever is whatever way you can think about it\\nnow a days also there is another provision all my lectures whatever i am speaking will\\nbe again taken down or written by some '\n",
            "equal     FileContent3[835:837] --> FileContent2[1716:1718]     'ex' --> 'ex'\n",
            "replace   FileContent3[837:889] --> FileContent2[1718:2061] 'ams and also grading of your answer sets although i ' --> 'perts so we are in the process of finding out those\\nexperts on my earlier course on phase transformation materials similarly we will do it for you\\nalso so that you dont need to listen you can actually read all this lectures notes so before\\nthat happens we are going to only listen this lectures available on the nptel forum and\\nalso you can as'\n",
            "equal     FileContent3[889:890] --> FileContent2[2061:2062]      'k' --> 'k'\n",
            "replace   FileContent3[890:935] --> FileContent2[2062:2303] 'now this will be all done all line will be ta' --> ' questions in the discussion forum and so thats about it and there email\\naddress is are given and i have carefully removed the phone numbers because this is\\nwhere things become very difficult to handle so if you have any questions you can as'\n",
            "equal     FileContent3[935:936] --> FileContent2[2303:2304]      'k' --> 'k'\n",
            "replace   FileContent3[936:1078] --> FileContent2[2304:3191] 'en care by the teaching assisted so two my students they will be handling that so they are actually the main person who will be handling your ' --> ' them\\nask me also or you can put it on the discussion forum ok you know like any things in life\\nevery course has an objective and this objective has to be very clear before you start the\\ncourse\\nso present course actually will deal with basics of transformations in materials and\\nas i said in my introduction video already you have seen probably that phase transformation\\nis everywhere present in the normal whether you are talking about materials ceramics polymers\\nor you are talking about real life phase transformation is present that how do we deal with phase\\ntransformation that is what you will be taught because thats what is important in your endower\\nto learn phase transformation so using these three things one is your thermodynamics\\nthen kinetics and some basic aspect of material sands like crystal structures and interfaces\\nwe are going to study various solid to solid and li'\n",
            "equal     FileContent3[1078:1080] --> FileContent2[3191:3193]     'qu' --> 'qu'\n",
            "replace   FileContent3[1080:1126] --> FileContent2[3193:3264] 'estions to my right first one i cospo chospoti' --> 'id to solid phase transformation as\\nyou know this is our subject and co'\n",
            "equal     FileContent3[1126:1127] --> FileContent2[3264:3265]      'v' --> 'v'\n",
            "replace   FileContent3[1127:1239] --> FileContent2[3265:3469] 'aris is my per student and second one is res pa res mis also my pan i student so they will be handling all your ' --> 'ering that in thirty lectures is not an easy task\\nso obviously we must be selected we cannot teach you everything and to learn everything\\nyou need to have some basic idea ah what i put it as course pre re'\n",
            "equal     FileContent3[1239:1241] --> FileContent2[3469:3471]     'qu' --> 'qu'\n",
            "replace   FileContent3[1241:1273] --> FileContent2[3471:3518] 'estions in a discussion forum ob' --> 'isites ok and this\\npre requisites are should ha'\n",
            "equal     FileContent3[1273:1274] --> FileContent2[3518:3519]      'v' --> 'v'\n",
            "replace   FileContent3[1274:1290] --> FileContent2[3519:3541] 'iously they are ' --> 'e preferably should ha'\n",
            "equal     FileContent3[1290:1292] --> FileContent2[3541:3543]     've' --> 've'\n",
            "replace   FileContent3[1292:1370] --> FileContent2[3543:4775] 'ry difficult then i will also participate and also they will be handling your ' --> ' some basic knowledge on basic\\nmaterial science that most of the students in methodology or material science normally\\nhave thermodynamics especially with thermodynamics functions and their relationships and then\\nsome idea about phase diagrams and diffusion ok\\nso ah i have already ah checked on different courses in nptel but by mean by different\\nperson is that there are some courses which are videos some courses which are web some\\ncourses which are massive open online so basic material science is already being taught by\\nsome faculty members thermodynamics is already being available and phase diagram i myself\\nwas develop a course nil just one year back diffusion is also partly taught so therefore\\nyou can actually ah clear your doubts while reading these lecture ok ah this is the full\\nah rather all the description of the all the lectures ok i dont know whether everything\\nis coming in this scheme or not but any way most important thing is that we are going\\nto talk about some very ah at the beginning where we going to talk give you some idea\\nabout free energy because that is the thermodynamic part of the phase diagram so we will show\\nyou the calculation of delta g of various transformations ok then we will talk about\\n'\n",
            "equal     FileContent3[1370:1372] --> FileContent2[4775:4777]     'qu' --> 'qu'\n",
            "replace   FileContent3[1372:1406] --> FileContent2[4777:4952] 'estion paper and grading so mit as' --> 'ad derivative of interfaces interfaces means liquid solids gren gren interface interface\\ninter phase interfaces this are all parts of thermodynamics\\nthen you have to go in to '\n",
            "equal     FileContent3[1406:1407] --> FileContent2[4952:4953]      'k' --> 'k'\n",
            "replace   FileContent3[1407:1423] --> FileContent2[4953:5165] ' will be to deli' --> 'inetics thats the nucleation because nucleation is what the\\nstarting point of phase transformations so therefore theorem nucleation homogeneous heterogeneous\\nnucleation and nucleation on the surfaces grains and e'\n",
            "equal     FileContent3[1423:1425] --> FileContent2[5165:5167]     've' --> 've'\n",
            "replace   FileContent3[1425:1518] --> FileContent2[5167:5193] 'r all the lectures and then this will be uploaded int tan putal website so that you can obser' --> 'n clan corners gen edges e'\n",
            "equal     FileContent3[1518:1520] --> FileContent2[5193:5195]     've' --> 've'\n",
            "replace   FileContent3[1520:1556] --> FileContent2[5195:5296] ' and read or religion or learn whate' --> 'ry\\nwhere it will be dealt with as you know nucleation itself is the subject so there that we must\\nbe '\n",
            "equal     FileContent3[1556:1559] --> FileContent2[5296:5299]    'ver' --> 'ver'\n",
            "replace   FileContent3[1559:1568] --> FileContent2[5299:5319] ' me whate' --> 'y ah you know you ha'\n",
            "equal     FileContent3[1568:1570] --> FileContent2[5319:5321]     've' --> 've'\n",
            "replace   FileContent3[1570:1588] --> FileContent2[5321:5369] 'r way you can thin' --> ' to very careful about what you are going to tal'\n",
            "equal     FileContent3[1588:1598] --> FileContent2[5369:5379] 'k about it' --> 'k about it'\n",
            "replace   FileContent3[1598:1633] --> FileContent2[5379:5409] ' nowadays also there is another pro' --> 's\\ni wont be able to tell you e'\n",
            "equal     FileContent3[1633:1634] --> FileContent2[5409:5410]      'v' --> 'v'\n",
            "replace   FileContent3[1634:1655] --> FileContent2[5410:5443] 'ision all my lectures' --> 'ery details of the nucleation but'\n",
            "equal     FileContent3[1655:1665] --> FileContent2[5443:5453] ' whatever ' --> ' whatever '\n",
            "replace   FileContent3[1665:1674] --> FileContent2[5453:5658] 'i am spea' --> 'element we will\\ndiscuss then we are going to start the first of the phase transformation that is on solidification\\nas you see here solidification is a liquid to solid phase transformations then we will\\ntal'\n",
            "equal     FileContent3[1674:1675] --> FileContent2[5658:5659]      'k' --> 'k'\n",
            "replace   FileContent3[1675:1695] --> FileContent2[5659:5700] 'ing will be again ta' --> ' about growth during different aspects li'\n",
            "equal     FileContent3[1695:1697] --> FileContent2[5700:5702]     'ke' --> 'ke'\n",
            "replace   FileContent3[1697:1723] --> FileContent2[5702:6485] 'n down or written by some ' --> ' thermal activated growth interface controlled\\ngrowth diffusion controlled growth thats why you need to know as well as coupled growth\\nand you take to array you take the transformation then we will talk about little bit about transformation\\nkinetics in terms of different models johnson mehl and avrami models and some amount of\\ngas thermal phase transformations then we will simply go on to different solid phase\\ntransformations like precipitation recrystallisation martensitics spinodal decompositions and we\\ntalk about isothermal and continuous transformations thats itself will be sufficient enough to\\ncall off thirty lectures ok\\nso ah this is important that you know what we are going to be taught at the beginning\\nso that you can prepare yourself so we are going to ah follow e'\n",
            "equal     FileContent3[1723:1724] --> FileContent2[6485:6486]      'x' --> 'x'\n",
            "replace   FileContent3[1724:1777] --> FileContent2[6486:6700] ' parts so we are in the process of finding out those ' --> 'actly the same way things\\nare given on the right side i have also listed down number of lectures will be spent on each\\ntopic now comes in very important aspects because in a massive open online course you\\nwill be e'\n",
            "equal     FileContent3[1777:1778] --> FileContent2[6700:6701]      'x' --> 'x'\n",
            "replace   FileContent3[1778:2030] --> FileContent2[6701:6710] ' parts for my earlier course and phase transformation materials similarly weill will do it for you also so that you do not need to listen you can actually read all these lectures nones so before that happens you are going to only listen this lectures a' --> 'posed to '\n",
            "equal     FileContent3[2030:2031] --> FileContent2[6710:6711]      'v' --> 'v'\n",
            "replace   FileContent3[2031:2079] --> FileContent2[6711:6781] 'ailable on the imperial form and also you can as' --> 'ideo lectures or the online lectures you must have some amount of you\\n'\n",
            "equal     FileContent3[2079:2080] --> FileContent2[6781:6782]      'k' --> 'k'\n",
            "replace   FileContent3[2080:2081] --> FileContent2[6782:8444]      ' ' --> 'now text book knowledge so therefore two important text books which are carried from\\nour library ah is this first one which is which is here is written on that is phase\\ntransformation in metals and alloys classic text book by d a porter and k e easterling\\nand the recent edition also has come with a new author are all the problems are solved\\nmr ah doctor m y sherif this is available in india not very expensive book you can read\\nthat and the other book is written by two of my past colleagues although i have never\\nmet them but though are iit kanpur this book is phase transformations in materials and\\nby professor a k jena and professor m c chaturvedi both were at iit kanpur\\nso ah when this books written there there were ah jena was in kanpur ok so this two\\nbooks will be a basic text book for the course and anyone any of these books will be good\\nfor you you can by this books or you can actually copy from different libraries in the in the\\ndifferent parts of the book you can copy from different libraries or if you if you want\\nyou actually even ah you know get by that on different online stores correct so thats\\nabout the basic part of the course i think before i could move on to the next portion\\nof my ah lecture why the phase transformation is delivered let me tell you you will be given\\nah assignments on every week and i think assignments are normally uploaded on thursday and because\\nmonday wednesday monday to wednesday will be exposed to the lectures and after that\\nyou will be i will be ah my t s will be uploading the assignments and you will be given about\\none weeks time to complete the assignments because assignments will be online so the\\n'\n",
            "equal     FileContent3[2081:2091] --> FileContent2[8444:8454] 'questions ' --> 'questions '\n",
            "replace   FileContent3[2091:2168] --> FileContent2[8454:8546] 'in the discussion forum and so that s about it and their similar doses are gi' --> 'will be ah multiple choice type or may be fill fill in the blanks type as\\nassignment will ha'\n",
            "equal     FileContent3[2168:2170] --> FileContent2[8546:8548]     've' --> 've'\n",
            "replace   FileContent3[2170:2177] --> FileContent2[8548:8678] 'n and i' --> ' a weightage of fifty percent weightage and at the end of this semester\\nyou will be taking an end some exam and we are planning to'\n",
            "equal     FileContent3[2177:2183] --> FileContent2[8678:8684] ' have ' --> ' have '\n",
            "replace   FileContent3[2183:2197] --> FileContent2[8684:8807] 'carefully remo' --> 'it online so far if i\\ndont change my decisions or something else is happens otherwise it will be online and\\nthat will be ha'\n",
            "equal     FileContent3[2197:2198] --> FileContent2[8807:8808]      'v' --> 'v'\n",
            "replace   FileContent3[2198:2253] --> FileContent2[8808:9153] 'ed the phone numbers because this is why things become ' --> 'ing a fifty percent weightage\\nalthough ah i am not keeping any pass marks for this course but you can interdentally\\nconsider if you are getting less than about say thirty percent of the marks then you will\\nnot be able to pass this course and those who will be successfully completing this course\\nby taking exams and getting good marks will be gi'\n",
            "equal     FileContent3[2253:2255] --> FileContent2[9153:9155]     've' --> 've'\n",
            "replace   FileContent3[2255:2290] --> FileContent2[9155:9236] 'ry difficult to handle so if you ha' --> 'n certification from the nptel as you\\nknow so that way i expect that you will be '\n",
            "equal     FileContent3[2290:2292] --> FileContent2[9236:9238]     've' --> 've'\n",
            "replace   FileContent3[2292:2297] --> FileContent2[9238:9630]  ' any ' --> 'ry serious learner and you will be also\\nable to solve this problems if incase you have difficulties you can always discuss you\\ncan always use the discussion forums or you can write emails you can always bring it to\\nthe ah instructor all the t s so that we can make it clear to you thats very important\\nbecause unless and until you know the things very well you will not be able to answer the\\n'\n",
            "equal     FileContent3[2297:2307] --> FileContent2[9630:9640] 'questions ' --> 'questions '\n",
            "replace   FileContent3[2307:2317] --> FileContent2[9640:9687] 'you can as' --> 'now ah in the next few slides i am going to tal'\n",
            "equal     FileContent3[2317:2319] --> FileContent2[9687:9689]     'k ' --> 'k '\n",
            "replace   FileContent3[2319:2326] --> FileContent2[9689:9802] 'them as' --> 'about what are the relevance\\nof phase transformation materials development then why do you study in any course i '\n",
            "equal     FileContent3[2326:2327] --> FileContent2[9802:9803]      'k' --> 'k'\n",
            "replace   FileContent3[2327:2381] --> FileContent2[9803:10012] ' me also or you can put it on the discussion form you ' --> 'now\\nthat many of you do not exposed by the instructor in the same way you must have an idea why\\nyou are studying this course what is the need well phase transformation is as i said is\\nrepresented environment o'\n",
            "equal     FileContent3[2381:2382] --> FileContent2[10012:10013]      'k' --> 'k'\n",
            "replace   FileContent3[2382:2388] --> FileContent2[10013:10034] 'now li' --> '\\nthis slide i have ta'\n",
            "equal     FileContent3[2388:2390] --> FileContent2[10034:10036]     'ke' --> 'ke'\n",
            "replace   FileContent3[2390:2411] --> FileContent2[10036:10252] ' any things in life e' --> 'n from the literature you know thats what i am going to answer to\\nyou why study phase transformation material science ok you know what we are actually we\\nlook material for the application in in any case finally we ha'\n",
            "equal     FileContent3[2411:2413] --> FileContent2[10252:10254]     've' --> 've'\n",
            "replace   FileContent3[2413:2431] --> FileContent2[10254:13457] 'ry course as an ob' --> ' to think our application\\nunless and until this material is applied engineering point of view we dont find any\\nreason to study scientific point of view one can study so application means we must know\\nthat properties all kinds of properties so there is a physical mechanical electronic\\nelectrical magnetic depending on the applications so property or properties of a material is\\nare estimated very very rigorously to find an potential applications this is true for\\neven a new materials when its developed so now question is this properties as i said\\nmechanical chemical electrical magnetic thermal you can even list on many more properties\\nof the material depends on structure and thats why actually real problem comes structure\\nhas land scape you can simply say atomic structure atomic structure is the smallest structure\\nyou can think about it atom and nucleus infact that is what dictates most of the properties\\nare to material but that is not all that is what in to this is what you must know very\\nclearly thats not all\\nso structure means it can be atomic structure molecular structure grain structure phase\\ntrans distribution and defects ok so we have basically i have listed down from the bottom\\nup the atom is smallest theses and then we have grains and other things so you must have\\ni am stressing again you must have an good idea about this structures to correlate with\\nthe properties because it is important that the properties are primarily dictated by the\\nstructure so if i know the structure i can dictate the properties so you got the correlation\\nright ah very logically speaking we made materials rather we use processing techniques to make\\nmaterials and this processing techniques allow you to control structure processing technique\\nmeans what you can start with the liquid and solidify that is what is solidification you\\ncan start with the metal piece deform by rolling forging exclusion whatever different means\\nso you actually process or you can actually deposit thin film you can actually you surface\\ntreatment techniques many things we do in the real ah now processing of materials they\\nhave a direct connection with this structure\\na structure has a direct link with the properties so as you see here these actually are variables\\nfor the processing temperature pressure or stress strain or volume and chemical composition\\nfor the alloys you can change chemical composition by making different alloys so these are my\\nvariables in processing and by applying these variables or combination of variables i generate\\nor i make materials and manufacture materials and this processing variables controls the\\nstructure and structure controls the properties so therefore these three are linked very clearly\\nthey are linked they are not separate or they are not independent things they are connected\\nto each other these are the of these three important pillars of material science processing\\nstructure and property but finally where to we look for finally we look for what is known\\nas performance if you are studying in a course syllabus in a course you are finally evaluated\\non performance similarly materials are evaluated in terms of performance if i put a tire in\\nyour car that means the ma'\n",
            "equal     FileContent3[2431:2432] --> FileContent2[13457:13458]      'j' --> 'j'\n",
            "replace   FileContent3[2432:2435] --> FileContent2[13458:13505]    'ect' --> 'or performance is the tire should be able to dr'\n",
            "equal     FileContent3[2435:2439] --> FileContent2[13505:13509]   'ive ' --> 'ive '\n",
            "replace   FileContent3[2439:2451] --> FileContent2[13509:16534] 'and this sub' --> 'the take\\nthe car from one place to another without any problems but you know tires should vary\\nfrom a some ah are twin tire in the in the foreign countries in the the eyes tire which\\nwill travel on are different\\nso that means performance indeed are actually connected to all these three things processing\\nstructure and the properties and that is what is important this chart which is very famous\\nin material science you will find in many books is known as the material tetrahedron\\nbecause they are actually looks like a tetrahedron so finally where does the phase transformation\\ncomes it is in the structure we modify the structure we modify the atomic structure we\\nmodify grain structure we modify the various by phase transformation so therefore phase\\ntransformation are directly linked with processing and also indirectly connected with the properties\\nand thats why it is a very important course in the material science engineering you must\\nunderstand that without knowing the or phase transformations you cannot control material\\nproperties ok\\nso ah phase transformation or phase equilibria or thermodynamics is the basis for understanding\\na material response to change in temperature pressure composition i must accept this is\\nslide i have taken from web this is not mine thus the critical link between processing\\nand microstructure requires a knowledge of the relevant thermodynamics principles and\\nthey are the basis for phase transformations so you understand now why we are actually\\nstudying the phase transformations ok now question is this can i relate it to real applications\\ni have taken four applications again i taken from the internet sites first one is in air\\nplane ok air plane is the very important ah mode of transport from one part of the world\\nto other part and you know the material which is used in the air plane is an aluminum copper\\nalloy if you dont know you can actually check on the books this is the classical alloy aluminum\\nfour point five to four point seven percent copper known as dual lumen in the in the trend\\nname and this is a very stable alloy from forty five degree celsius to minus sixty five\\ndegree celsius or even minus eighty degree celsius i dont know how many of you read news\\nthat there is a research laboratory in the southern hampshire that is in hm antarctica\\nand sometimes if somebodies yield in the research laboratories in winter time they are actually\\ntaken from that place by plane to the the different country especially in southern america\\nand such parts but it will be extremely cold minus sixty to minus eighty degree celsius\\ntemperature so a plane flying there the material has to be stand such a low temperature\\nso this wonderful material which is prepared long back is used for the plane body and important\\nphase transformation which is happening here is a precipitation of certain phase in aluminum\\nalloys and this precipitates provide the strength from high to low temperature if you travel\\ncarefully on the planes you will find especially in the wings deviated '\n",
            "equal     FileContent3[2451:2452] --> FileContent2[16534:16535]      'j' --> 'j'\n",
            "replace   FileContent3[2452:2456] --> FileContent2[16535:16550]   'ecti' --> 'oin and this de'\n",
            "equal     FileContent3[2456:2457] --> FileContent2[16550:16551]      'v' --> 'v'\n",
            "replace   FileContent3[2457:2467] --> FileContent2[16551:16565] 'e has to b' --> 'iated\\njoins ar'\n",
            "equal     FileContent3[2467:2474] --> FileContent2[16565:16572] 'e very ' --> 'e very '\n",
            "replace   FileContent3[2474:2644] --> FileContent2[16572:16688] 'clear before you start a course present course actually we will deal with basic surface transformations and materials as i said in in my introduction radio already you ha' --> 'strong and low temperatures because of the precipitation so we are going\\nto discuss about that ah next one which is '\n",
            "equal     FileContent3[2644:2646] --> FileContent2[16688:16690]     've' --> 've'\n",
            "replace   FileContent3[2646:2690] --> FileContent2[16690:17370] ' seen probably that past transformation is e' --> 'ry important on the right side is air turbine\\nbasically it can be used in the plane the high speed plane or in when in power generators\\nand they contained nickel based super alloys this wonderful material this is nickel aluminum\\nalloy with consisting of many other elements which i will not discuss in detail now but\\nagain the real high temperature properties because this this is turbine so thereforth\\nthis has to be instant high temperature high temperature properties equi based properties\\nof this material is basically because of precipitation of n i three a l type l one to precipitates\\nwhat we known as in a nickel matrix fcc matrix and this unique precipitates actually pro'\n",
            "equal     FileContent3[2690:2691] --> FileContent2[17370:17371]      'v' --> 'v'\n",
            "replace   FileContent3[2691:2716] --> FileContent2[17371:17435] 'eryuler present in the en' --> 'ide\\nthe strength ok the thats thats that means precipitation is '\n",
            "equal     FileContent3[2716:2717] --> FileContent2[17435:17436]      'v' --> 'v'\n",
            "replace   FileContent3[2717:2745] --> FileContent2[17436:17542] 'ironment whether you are tal' --> 'ery important aspect to\\nunderstand so thats what is will be part of silvers\\nthen on this side left side i '\n",
            "equal     FileContent3[2745:2746] --> FileContent2[17542:17543]      'k' --> 'k'\n",
            "replace   FileContent3[2746:2792] --> FileContent2[17543:17634] 'ing about metals ceramics payments or your tal' --> 'now may be your right this is the rails which is used\\nto as a phi splay on the railway trac'\n",
            "equal     FileContent3[2792:2793] --> FileContent2[17634:17635]      'k' --> 'k'\n",
            "replace   FileContent3[2793:2960] --> FileContent2[17635:17720] 'ing about real life whose transformations present but how do we deal is phase transformation that is what we will be taught because that what is important in your ende' --> 's this actually steels basically the steel of perlite\\nwhat you known as if you dont h'\n",
            "equal     FileContent3[2960:2962] --> FileContent2[17720:17722]     'av' --> 'av'\n",
            "replace   FileContent3[2962:3056] --> FileContent2[17722:17861] 'or to learn phase transformations so using these three things one is your o thermodynamics tin' --> 'e any idea perlites perlite is nothing but a utech transform\\nproduct of gamma solution of carbon in iron and so therefore you must you must'\n",
            "equal     FileContent3[3056:3058] --> FileContent2[17861:17863]     ' k' --> ' k'\n",
            "replace   FileContent3[3058:3109] --> FileContent2[17863:18401] 'inetics and some basic aspect of material sensil li' --> 'now how\\nthis transformation happens whether we can control it because the properties of the rail\\ndepends on that and remember rail is is ah what is allow you to allowing us to move trains\\nso therefore they are they are subjected to stress temperature harsh environment and many\\nother things so they must have combinations of properties so that they can start the purpose\\nand these is basically done by controlling the phase transformations on the right side\\nthis is the end the last example is basically the titanium based align engines o'\n",
            "equal     FileContent3[3109:3110] --> FileContent2[18401:18402]      'k' --> 'k'\n",
            "replace   FileContent3[3110:3167] --> FileContent2[18402:18616] 'e crystal structures and interfaces we are going to study' --> ' remember\\nthis engines are not used in car they will be used in planes or may be in some other\\nstrategic applications like ah turb hm like the submarines and so\\nso these engines actually has many plus like titanium'\n",
            "equal     FileContent3[3167:3170] --> FileContent2[18616:18619]    ' va' --> ' va'\n",
            "replace   FileContent3[3170:3192] --> FileContent2[18619:20361] 'rious solid o solid an' --> 'lves titanium mmcs springs titanium\\nmnc cramsups many others things springs and there are titanium aluminites you know titanium\\nout of these all thirteen m alloys the most important alloy which is extensively used\\nin titanium sixth aluminum four vanadium and it it we can control the micro structure of\\nthese by many ways creating alpha titanium alpha plus beta titanium beta of titanium\\nalloys so ah the properties will vary depending on whether its alpha alpha plus beta alpha\\nor beta remember alpha is hexagonal prospect structure beta is bcc structure so titanium\\nactually ah room temperature below what to eight hundred eighty two degree celsius temperature\\nis basically alpha above that it is a this i mean bcc structure so one can actually play\\naround in the temperature zone by again controlling the prosaic parameters to create different\\nkinds of structures to get different properties\\nso all these applications dont think that they are similar alpha alloys or beta alloys\\nalpha plus beta alloys they can be combination of many of these then the actual real problem\\nis how do i control this micro structures by controlling the processing parameters so\\nremember these four examples are not exhausted one can find many many examples in the real\\nlife as i told you in my first introduction lectures the basic example you always find\\nis in the country india when hot summer days you want to drink cold water so you can always\\nput the cold water inside the fridge and get it cooled but it is real advantage is that\\nif i take a glass of water and add a ice cube taken from the deep freezer immediately the\\nice cube will start melting it down or getting dissolved in the water both are actually h\\ntwo o one is solid h two o and the other is'\n",
            "equal     FileContent3[3192:3200] --> FileContent2[20361:20369] ' liquid ' --> ' liquid '\n",
            "replace   FileContent3[3200:3236] --> FileContent2[20369:20512] 'to solid phase transformation as we ' --> 'h two o\\nso therefore by melting it down the heat is getting transferred to the liquid and then\\nthe water gets cool down you will enjoy the drin'\n",
            "equal     FileContent3[3236:3237] --> FileContent2[20512:20513]      'k' --> 'k'\n",
            "replace   FileContent3[3237:3250] --> FileContent2[20513:20729] 'now this is a' --> 's so this is the example which is present\\nwhich you are actually doing it but what is important you for you to understand how these\\ntransformation happened how these solid become liquid liquid become solid whether is'\n",
            "equal     FileContent3[3250:3252] --> FileContent2[20729:20731]     ' v' --> ' v'\n",
            "replace   FileContent3[3252:3259] --> FileContent2[20731:20859] 'ast sub' --> 'ery\\nsimple or no remember what is from the most complex systems in the world and no unlike\\nmetal like more complex so ah let me '\n",
            "equal     FileContent3[3259:3260] --> FileContent2[20859:20860]      'j' --> 'j'\n",
            "replace   FileContent3[3260:3270] --> FileContent2[20860:21007] 'ect and co' --> 'ust stop here before i go to the next part of\\nthe lecture or the next class so you understand in a nutshell that phase transformation is\\nbasically '\n",
            "equal     FileContent3[3270:3273] --> FileContent2[21007:21010]    'ver' --> 'ver'\n",
            "replace   FileContent3[3273:3326] --> FileContent2[21010:21040] 'ing that in thirty lectures is not an easy task so ob' --> 'y important from the perspecti'\n",
            "equal     FileContent3[3326:3327] --> FileContent2[21040:21041]      'v' --> 'v'\n",
            "replace   FileContent3[3327:3374] --> FileContent2[21041:21448] 'iously we must be selected we cannot teach you ' --> 'e of material science and technology and many\\nof these products which you are actually using these their properties are controlled by controlling\\nphase transformations we can do that by using different processing parameters temperature\\nstress strain compositions and by doing that we alter them micro structure the atomic structure\\nand by doing that you will create a different properties so that is the rel'\n",
            "equal     FileContent3[3374:3376] --> FileContent2[21448:21450]     'ev' --> 'ev'\n",
            "replace   FileContent3[3376:3471] --> FileContent2[21450:21532] 'erything and to learn everything you need to have some basic idea what i put it as course perri' --> 'ance of phase\\ntransformation course and which will be exposed to in the next subse'\n",
            "equal     FileContent3[3471:3473] --> FileContent2[21532:21534]     'qu' --> 'qu'\n",
            "replace   FileContent3[3473:21051] --> FileContent2[21534:21546] \"icite ok at this peracuosit ar you should have peperabil skuld up some basic knowledge on basic material science that most of the students in metallurgy or material sense normally have thermodynamics especially the thermionic functions and their relationships and then some idea phase dicoms and diffusion ok so i have already checked on different portions o was in steal but i mean by different person is that there are some correa video or some constitute wave some houses which are massive open falling so basic material sense is already been taught by some fecal numbers thermodynamics has already been available and phase ther ommi manself has develop a course and thrills just one year back decision is also piracy taught so therefore you can actually clear your doubts by while reading these lecture ok this is the full whether all the description of the all the lectures ok i down know whether everything is coming in the scene or not but anyway most important thing is that we are going to talk about some very at the beginning we are going to talk give you some idea about fee eng because that is a therbonanis part of the phase diagram so we will show you the calculation of delta g of various transformations ok then we will talk about quite a bit of interfaces interfaces means liquid sal is solid solid grain grain interface interface interfaeinturfaces these are all parts of with thermodynamics then we have to go into kinetics that the incubation because nuclation is why the starting point of phase transformations so therefore theory of escalation howmoteou between eculations and circulation on the surface is grains and even cen corner gen s everywhere it will be dealt with and assume yoon releasing itself a subject so there therefore must be a very and now we have to be very careful about what you are going to talk about it i wont be going to tell you every details of the circulation but whatever relevant we will discuss then we are going to start the first of the first transfertion that is of solidification as you see here justification is an liquid to solid phase transformations then we will talk about growth during different aspects like thermal activated god interface control go efficient control go that's why you need to know and cassia as couple god then you take toeutectric transformations then we will talk about little bit about transformation kinetics in terms of these model con enamel and aroma models and some amount of the thermal phase transformations then we simply go on to different soi to somalia transforsioni presipitations realize and satisfies spinagtal dey compositions and a bit about sutherland continuous transformations that itself will be sufficient and up to cover tatilectures ok so  this is important that you know what you are going to be taught at the beginning so that you can prepare yourself so we are going to follow exactly the same way things are given on the right side i have also passed down number of lectures will be spent on each topic now comes in very important aspects because in the massive open calling course you will be exposed to radio lectures or the ali lectures you must have some amount of you know textbook knowledge so therefore two important texbook which i have carried from our library is this first one which is which is here is written on that is phase transformation in metals and alloys classic textbook by d a porter and k is telling and the recant addition also has come with a new author all the problems of solved by mister sector am ship this is available in india not very expensive book you can read that and the other book is written by two my past colleagues although i have never met them but they are ita anpol this book is pase transformation is in materials and by professor ak gene and prime m cso therapy both er i tecanpuo so when these books are written there all therefore gena was in consul ok so these two books will be your basic textbooks for the course and anyone any of these books will be good for you you can buy these books or you can actually copy from different liability in the different parts of the books can copy from different libraries or if you if you want you can actually even now get buy that on different online stores current so thats about the basic part of the courseading before i could move onto the next portion of my lecture why the pac transfer sale wet let me tell you you will be given assignments in every week and i think assermenstion normally uploaded on thursday and because monday genus t mandate etness stay will be exposed to the lectures and after that you will be i will be or my t sh willl be uploading the amendments and you will be given out one weeks time to complete the assignments because assignments ole alpine so the questions would be multiple choice type or may be feeling fill in the blank stipe as a segment wo levo it is a fifty percent vantage and at the end of this semester you will be taking an nsa exam and we are planning to have it anlline so far if i do not change my decisions or something else happens other isity pearl line and that will be having a fifty percent vertage although i am not keeping any pass marks of this course but you can tentatively consider if you are getting less than about say thirty percent of the marks then you will not be able to pass this course and those who will be successfully completing this course by taking exams and getting good marks will be given modification from the imperial as you know so that way i expect that you will be very serious planner and you will be also able to solve this problems if a in case you have difficulties you can always discuss we can always use discussion for or you can write emails you can always bring it to the instructor all the t s so that we can make it clear to you that very important because understand you know the things very well could not be able to answer the questions now in the next few slides i am going to talk about what a relevant sof face transformation materials eelonment and why do you study in any course i know that many of you do not expose by the instructor in the same way you must have an idea why you are studying this course what is the need well phase transformation assisi is presented environment of the slide i have taken from literature ou one that is what i am going to answer to you why study phase transformation material science of you know what wearin actually we look materials for the application in any case finally we have to think of application unless atlantis mater is applied engineering point of view we do not find any reason to study student loan to give one can stand so application means we must know the properties all kinds of of part so there is a physical mechanical electronic electrical magnetic depending on the applications so property property sola material is are estimated very very regards to find and potential applications this is two pore new material when it is developed so now question is this popular as i say mechanical chemical electrical minity thermal you can evenly stand miny more properties of the material depends on structure and that why actual legal problem come structure has length scale you can simply say atomic structure at in structure is the smallest structure you can think about it atom and nucleus in fact that is why details one sole propadisiofto material but that is not all that is what in so this is what you must know very clear that is not all so structure means it can be atmix structure molecular structure grain structure phase as distribution and defects ok so we have basically have listed down from the bottom of atom is the small species and then we have grains and other things so you must have i am stressing again you mast tem end to a good idea about the structures to collate to the properties because it is important that the properties are primarily dictated by this structure so if i know the texture i can vector the properties so you got the coalition right a very logically speaking we make materials whether we use processing techniques to make materials and these processing techniques allow you to control structure processing technique means what you can start with the liquid and solidify that is why the solidification you can start with a metal piece deform by rolling force situation whatever referent means so you actually process or you connection deposits tin flame you can actually use surf statement techniques many things we do in the real app now processing of materials they have a direct connections with a structure and tractor as a direct link with the properties so as you see here these actually are variables for the processing temperature pressure o stress strain or volume and chemical compassion for the ways you can change chemical comparison by making different always so these are my variables in processing and by applying these variables communication variables i generator mi make materials or manufacturing materials and these processing variables control the structure unstructured controller properties so there therefore these three are linked very clearly they are linked they are not separate or they are not independent things they are connected to each other to these are the bridges of these three important pillars of material science processing structure an property but finally what we look for finally we look for what is known as performance if to war you are studying in a co sampras in a course we are finally a holelotingal performance similarly materials are slated in terms of performance if i put a tyre in our car that means the major performances that i should be able to drive the take the car for one place to the place without any problems what you know tires will vary from a summer to winter in the in the point countries and ice the tires which will travel n in t are different so that means performance indeed are actually connected to all these three things processing structure and the properties and that is what is important this chart which is very famous in material science youwill find in many books is known as the material statehydron because they i actually looks like it a tri so finally where does the rise transformation comes it is in the structure we modify the structure we modify the atomic structure wo notify the grain structural modified the phrases phase transformations so therefore phase transformations a direct link wofh the procession and also indirectly corrected with the properties and that why it is a very important course in the material end engineering you must understand that without knowing the phase transformations you cannot control material properties of so phase transformation phericallibeof thermodynamics is the basis for understanding a material response to change in temperature pressure composition i must accept this is slide i have taken from way this is not mine thus the skeptical link between processing and microstructure requires an knowledge of the relevant thermodynamic principles and they are the basis force phase transformation so you understand now why we are actually studying the phase transformations ok now question is this can i relate in the real applications i have taken four application again fly taken from the internate sites first one is an airplane ok air plane is a very important mode of transport from one part of the wall to the other plant and you know the material which is used in the airplane is an aluminum copper alloy if you do not know you can actually take on the books there is a classical alloy levin a four point five to four point seven percent copper known as develumin in the in the training and this is a very stable ally from forty five deee celsius to minus sixty five u cello or even minus a t ti cells i don t know how many of you rate new state there is a desire laboratory in the southern hemisphere that is in antarctica and sometimes if somebody is ill in the decided laboratories in winter time they are actually taken from that place by plane to permeate the the different content especially in south america or sub parts but it will be extremely cold minus sixties to minus eighty dege sel system pressures so a plane flying there the material has to withstand such a low temperature so the this one nude material which is prepared long back is used for the plane body and important phase transformation which happening here is a precipitation of certain phase in aluminum alas and these precipitate provide the strength from high toonar temperature if you travel carefully on the planes you will find especially in the wings revered joints and these related joints are very strong at low temperatures because of the specification so we are going to discuss about that the next one which is very important the right side is a turbine basically it can be used in the plane the high squid plane or invent in pow generators and they contained nickel by supervise is wonderful material is a nickel aluminum alloy with consisting of many of elements which i will not discuss in detail now but again the real high temperature properties because this this is a turbine so therefore this has to stand high temperature high temperature properties cubiastane properties of this material is basically because of precipitation of a i three a type a one to precipitates what you known as in a nickel matrix entries matrix and these unique precipitate actually provide the strength of the thus that that means the pestipretation is very important aspect to understand so that s why is will be part of a sullivan then on the side left side or you know may be right this is the rails which is used to as a fist plate on the relay tracks these action steels basically the steel of parallel what do we known as if you do not have any idea of parallels finite is nothing but a eu theoretically transform product of gamma solisulation of carbon in iron and so therefore you must we must know how this transformation happens whether can you control it because the properties of the rail depends on that remember ral is is what is allowing you to alon us to move trains so therefore they are they are subjected to strains temperature harsher movement and many other things so they must have combinations of properties so that they can serve the purpose and these is basically done by controlling the phase trans motions on the right side this is the end the fast example is basically the titanium based ally engines ok remember these engines are not used in car they will be estingused in the planes or maybe in some other static applications like ter like the submarines or so so these engines actually has many plaslect itanium valves tha dineam mmc is pins that hamm c cranks ups many other things springs and they are fighting luminaries you know titanium out of the all thatinamalise the most important allo which is extensively used is titanium six aluminium pole vanadium and it it we can control the manchester of these by mini ways creating alphalatonium also plus belted titanium metou taking alloys so the propertisill vary depending on whether its alpha so plus petal p  meter re alpha is xamo pro spect structure meta is which is in structure so uranium actually a room temperature below what to eight hundred eighty two dea cel system pressure is basically alan above there in is n t is king mec c structure so one can i actually play around in the temperature jone why again controlling the posting parameters to create different kinds of structures to get different properties so all these application dont think that they are all similar alparallits or metals ofopenit always they can be combination so many of these then the actual real problem is how do i control these microstructures by controlling the processing parameters so member these four examples are not exhaustive one can find many many examples in real life as i told in my first introduction lectures the basic example we always find is in in in country like india in the hot summer day you want to drink cold water so you can always put the quarter inside the fringe and get it cooled but it is real advantage is that if i take a glass of water and add a ice cube taken from the dee return imedially the ic squee will start melting it down or getting dissolved in the water both a actually i to a one is solid i to or is a liquid issue so therefore by melting it down the heat in getting transfer to the liquid and then the water gets cooled down you enjoy the dring so this is the example which is present which we are actually doing it but what is important not for you to understand how this transformation happens how the solid become liquid liquid become solid whether is very simple unknown reimer what is one of the most complex systems in the wild i m a unlike metal they are more complex so let me just stop here before i go to the next part of the lecture or the next class so you understand in a natal that phase transformation is basically very important from the perspectives s of material science and technology and many of these products which you are actually using the the properties are controlled by controlling phase transformations we can do that by using different housing parameters temperature stay strain composition and by doing that we alter the microstructure the atmix structure and by doing that you are creating different properties that is the relevance of face information course and which you will be exposed to the next subsequent lectures\" --> 'ent lectures'\n"
          ],
          "name": "stdout"
        }
      ]
    },
    {
      "cell_type": "code",
      "metadata": {
        "colab": {
          "base_uri": "https://localhost:8080/"
        },
        "id": "gnfrA7tNTPNg",
        "outputId": "2df54ca2-1519-4922-e597-d5a3e2ecd794"
      },
      "source": [
        "listt"
      ],
      "execution_count": null,
      "outputs": [
        {
          "output_type": "execute_result",
          "data": {
            "text/plain": [
              "['equal',\n",
              " 'replace',\n",
              " 'equal',\n",
              " 'replace',\n",
              " 'equal',\n",
              " 'insert',\n",
              " 'equal',\n",
              " 'replace',\n",
              " 'equal',\n",
              " 'insert',\n",
              " 'equal',\n",
              " 'replace',\n",
              " 'equal',\n",
              " 'replace',\n",
              " 'equal',\n",
              " 'delete',\n",
              " 'equal',\n",
              " 'replace',\n",
              " 'equal',\n",
              " 'replace',\n",
              " 'equal',\n",
              " 'replace',\n",
              " 'equal',\n",
              " 'replace',\n",
              " 'equal',\n",
              " 'replace',\n",
              " 'equal',\n",
              " 'replace',\n",
              " 'equal',\n",
              " 'replace',\n",
              " 'equal',\n",
              " 'replace',\n",
              " 'equal',\n",
              " 'replace',\n",
              " 'equal',\n",
              " 'replace',\n",
              " 'equal',\n",
              " 'replace',\n",
              " 'equal',\n",
              " 'replace',\n",
              " 'equal',\n",
              " 'replace',\n",
              " 'equal',\n",
              " 'replace',\n",
              " 'equal',\n",
              " 'replace',\n",
              " 'equal',\n",
              " 'replace',\n",
              " 'equal',\n",
              " 'replace',\n",
              " 'equal',\n",
              " 'replace',\n",
              " 'equal',\n",
              " 'replace',\n",
              " 'equal',\n",
              " 'replace',\n",
              " 'equal',\n",
              " 'replace',\n",
              " 'equal',\n",
              " 'replace',\n",
              " 'equal',\n",
              " 'replace',\n",
              " 'equal',\n",
              " 'replace',\n",
              " 'equal',\n",
              " 'replace',\n",
              " 'equal',\n",
              " 'replace',\n",
              " 'equal',\n",
              " 'replace',\n",
              " 'equal',\n",
              " 'replace',\n",
              " 'equal',\n",
              " 'replace',\n",
              " 'equal',\n",
              " 'replace',\n",
              " 'equal',\n",
              " 'replace',\n",
              " 'equal',\n",
              " 'replace',\n",
              " 'equal',\n",
              " 'replace',\n",
              " 'equal',\n",
              " 'replace',\n",
              " 'equal',\n",
              " 'replace',\n",
              " 'equal',\n",
              " 'replace',\n",
              " 'equal',\n",
              " 'replace',\n",
              " 'equal',\n",
              " 'replace',\n",
              " 'equal',\n",
              " 'replace',\n",
              " 'equal',\n",
              " 'replace',\n",
              " 'equal',\n",
              " 'replace',\n",
              " 'equal',\n",
              " 'replace',\n",
              " 'equal',\n",
              " 'replace',\n",
              " 'equal',\n",
              " 'replace',\n",
              " 'equal',\n",
              " 'replace',\n",
              " 'equal',\n",
              " 'replace',\n",
              " 'equal',\n",
              " 'replace',\n",
              " 'equal',\n",
              " 'replace',\n",
              " 'equal',\n",
              " 'replace',\n",
              " 'equal',\n",
              " 'replace',\n",
              " 'equal',\n",
              " 'replace',\n",
              " 'equal',\n",
              " 'replace',\n",
              " 'equal',\n",
              " 'replace',\n",
              " 'equal',\n",
              " 'replace',\n",
              " 'equal',\n",
              " 'replace',\n",
              " 'equal',\n",
              " 'replace',\n",
              " 'equal',\n",
              " 'replace',\n",
              " 'equal',\n",
              " 'replace',\n",
              " 'equal',\n",
              " 'replace',\n",
              " 'equal',\n",
              " 'replace',\n",
              " 'equal',\n",
              " 'replace',\n",
              " 'equal',\n",
              " 'replace',\n",
              " 'equal',\n",
              " 'replace',\n",
              " 'equal',\n",
              " 'replace',\n",
              " 'equal',\n",
              " 'replace',\n",
              " 'equal',\n",
              " 'replace',\n",
              " 'equal',\n",
              " 'replace',\n",
              " 'equal',\n",
              " 'replace',\n",
              " 'equal',\n",
              " 'replace',\n",
              " 'equal',\n",
              " 'replace',\n",
              " 'equal',\n",
              " 'replace',\n",
              " 'equal',\n",
              " 'replace',\n",
              " 'equal',\n",
              " 'replace',\n",
              " 'equal',\n",
              " 'replace',\n",
              " 'equal',\n",
              " 'replace',\n",
              " 'equal',\n",
              " 'replace',\n",
              " 'equal',\n",
              " 'replace',\n",
              " 'equal',\n",
              " 'replace',\n",
              " 'equal',\n",
              " 'replace',\n",
              " 'equal',\n",
              " 'replace',\n",
              " 'equal',\n",
              " 'replace',\n",
              " 'equal',\n",
              " 'replace',\n",
              " 'equal',\n",
              " 'replace',\n",
              " 'equal',\n",
              " 'replace',\n",
              " 'equal',\n",
              " 'replace',\n",
              " 'equal',\n",
              " 'replace',\n",
              " 'equal',\n",
              " 'replace',\n",
              " 'equal',\n",
              " 'replace',\n",
              " 'equal',\n",
              " 'replace',\n",
              " 'equal',\n",
              " 'replace',\n",
              " 'equal',\n",
              " 'replace',\n",
              " 'equal',\n",
              " 'replace',\n",
              " 'equal',\n",
              " 'replace',\n",
              " 'equal',\n",
              " 'replace',\n",
              " 'equal',\n",
              " 'replace',\n",
              " 'equal',\n",
              " 'replace',\n",
              " 'equal',\n",
              " 'replace',\n",
              " 'equal',\n",
              " 'replace',\n",
              " 'equal',\n",
              " 'replace',\n",
              " 'equal',\n",
              " 'replace',\n",
              " 'equal',\n",
              " 'replace',\n",
              " 'equal',\n",
              " 'replace',\n",
              " 'equal',\n",
              " 'replace',\n",
              " 'equal',\n",
              " 'replace',\n",
              " 'equal',\n",
              " 'replace',\n",
              " 'equal',\n",
              " 'replace',\n",
              " 'equal',\n",
              " 'replace',\n",
              " 'equal',\n",
              " 'replace',\n",
              " 'equal',\n",
              " 'replace',\n",
              " 'equal',\n",
              " 'replace',\n",
              " 'equal',\n",
              " 'replace',\n",
              " 'equal',\n",
              " 'replace',\n",
              " 'equal',\n",
              " 'replace',\n",
              " 'equal',\n",
              " 'replace',\n",
              " 'equal',\n",
              " 'replace',\n",
              " 'equal',\n",
              " 'replace',\n",
              " 'equal',\n",
              " 'replace',\n",
              " 'equal',\n",
              " 'replace',\n",
              " 'equal',\n",
              " 'replace',\n",
              " 'equal',\n",
              " 'replace',\n",
              " 'equal',\n",
              " 'replace',\n",
              " 'equal',\n",
              " 'replace',\n",
              " 'equal',\n",
              " 'replace',\n",
              " 'equal',\n",
              " 'replace',\n",
              " 'equal',\n",
              " 'replace',\n",
              " 'equal',\n",
              " 'replace',\n",
              " 'equal',\n",
              " 'replace',\n",
              " 'equal',\n",
              " 'replace',\n",
              " 'equal',\n",
              " 'replace',\n",
              " 'equal',\n",
              " 'replace',\n",
              " 'equal',\n",
              " 'replace',\n",
              " 'equal',\n",
              " 'replace',\n",
              " 'equal',\n",
              " 'replace',\n",
              " 'equal',\n",
              " 'replace',\n",
              " 'equal',\n",
              " 'replace',\n",
              " 'equal',\n",
              " 'replace']"
            ]
          },
          "metadata": {},
          "execution_count": 34
        }
      ]
    },
    {
      "cell_type": "code",
      "metadata": {
        "id": "fqrgwj2cUci8"
      },
      "source": [
        "def CountFrequency(my_list):\n",
        " \n",
        "    # Creating an empty dictionary\n",
        "    freq = {}\n",
        "    for item in my_list:\n",
        "        if (item in freq):\n",
        "            freq[item] += 1\n",
        "        else:\n",
        "            freq[item] = 1\n",
        " \n",
        "    for key, value in freq.items():\n",
        "        print (\"% s : % d\"%(key, value))\n",
        " \n"
      ],
      "execution_count": null,
      "outputs": []
    },
    {
      "cell_type": "code",
      "metadata": {
        "colab": {
          "base_uri": "https://localhost:8080/"
        },
        "id": "imo3D5L_VFMN",
        "outputId": "5f9d2b6f-0f70-4462-c19b-77b3b86fe2d6"
      },
      "source": [
        "CountFrequency(listt)"
      ],
      "execution_count": null,
      "outputs": [
        {
          "output_type": "stream",
          "text": [
            "equal :  144\n",
            "replace :  141\n",
            "insert :  2\n",
            "delete :  1\n"
          ],
          "name": "stdout"
        }
      ]
    },
    {
      "cell_type": "markdown",
      "metadata": {
        "id": "Bly1vHXGtgwJ"
      },
      "source": [
        "# Applying enchant to correct only those words, which are in dictionary"
      ]
    },
    {
      "cell_type": "code",
      "metadata": {
        "id": "raKmLog0XvF4",
        "colab": {
          "base_uri": "https://localhost:8080/"
        },
        "outputId": "9d40f274-bab5-4878-810c-19192cc68b03"
      },
      "source": [
        "!apt install -qq enchant\n",
        "!pip install pyenchant"
      ],
      "execution_count": null,
      "outputs": [
        {
          "output_type": "stream",
          "text": [
            "The following package was automatically installed and is no longer required:\n",
            "  libnvidia-common-460\n",
            "Use 'apt autoremove' to remove it.\n",
            "The following additional packages will be installed:\n",
            "  aspell aspell-en dictionaries-common emacsen-common hunspell-en-us\n",
            "  libaspell15 libenchant1c2a libhunspell-1.6-0 libtext-iconv-perl\n",
            "Suggested packages:\n",
            "  aspell-doc spellutils wordlist hunspell openoffice.org-hunspell\n",
            "  | openoffice.org-core libenchant-voikko\n",
            "The following NEW packages will be installed:\n",
            "  aspell aspell-en dictionaries-common emacsen-common enchant hunspell-en-us\n",
            "  libaspell15 libenchant1c2a libhunspell-1.6-0 libtext-iconv-perl\n",
            "0 upgraded, 10 newly installed, 0 to remove and 40 not upgraded.\n",
            "Need to get 1,312 kB of archives.\n",
            "After this operation, 5,353 kB of additional disk space will be used.\n",
            "Preconfiguring packages ...\n",
            "Selecting previously unselected package libtext-iconv-perl.\n",
            "(Reading database ... 149280 files and directories currently installed.)\n",
            "Preparing to unpack .../0-libtext-iconv-perl_1.7-5build6_amd64.deb ...\n",
            "Unpacking libtext-iconv-perl (1.7-5build6) ...\n",
            "Selecting previously unselected package libaspell15:amd64.\n",
            "Preparing to unpack .../1-libaspell15_0.60.7~20110707-4ubuntu0.2_amd64.deb ...\n",
            "Unpacking libaspell15:amd64 (0.60.7~20110707-4ubuntu0.2) ...\n",
            "Selecting previously unselected package emacsen-common.\n",
            "Preparing to unpack .../2-emacsen-common_2.0.8_all.deb ...\n",
            "Unpacking emacsen-common (2.0.8) ...\n",
            "Selecting previously unselected package dictionaries-common.\n",
            "Preparing to unpack .../3-dictionaries-common_1.27.2_all.deb ...\n",
            "Adding 'diversion of /usr/share/dict/words to /usr/share/dict/words.pre-dictionaries-common by dictionaries-common'\n",
            "Unpacking dictionaries-common (1.27.2) ...\n",
            "Selecting previously unselected package aspell.\n",
            "Preparing to unpack .../4-aspell_0.60.7~20110707-4ubuntu0.2_amd64.deb ...\n",
            "Unpacking aspell (0.60.7~20110707-4ubuntu0.2) ...\n",
            "Selecting previously unselected package aspell-en.\n",
            "Preparing to unpack .../5-aspell-en_2017.08.24-0-0.1_all.deb ...\n",
            "Unpacking aspell-en (2017.08.24-0-0.1) ...\n",
            "Selecting previously unselected package hunspell-en-us.\n",
            "Preparing to unpack .../6-hunspell-en-us_1%3a2017.08.24_all.deb ...\n",
            "Unpacking hunspell-en-us (1:2017.08.24) ...\n",
            "Selecting previously unselected package libhunspell-1.6-0:amd64.\n",
            "Preparing to unpack .../7-libhunspell-1.6-0_1.6.2-1_amd64.deb ...\n",
            "Unpacking libhunspell-1.6-0:amd64 (1.6.2-1) ...\n",
            "Selecting previously unselected package libenchant1c2a:amd64.\n",
            "Preparing to unpack .../8-libenchant1c2a_1.6.0-11.1_amd64.deb ...\n",
            "Unpacking libenchant1c2a:amd64 (1.6.0-11.1) ...\n",
            "Selecting previously unselected package enchant.\n",
            "Preparing to unpack .../9-enchant_1.6.0-11.1_amd64.deb ...\n",
            "Unpacking enchant (1.6.0-11.1) ...\n",
            "Setting up libhunspell-1.6-0:amd64 (1.6.2-1) ...\n",
            "Setting up libaspell15:amd64 (0.60.7~20110707-4ubuntu0.2) ...\n",
            "Setting up emacsen-common (2.0.8) ...\n",
            "Setting up libtext-iconv-perl (1.7-5build6) ...\n",
            "Setting up dictionaries-common (1.27.2) ...\n",
            "Setting up aspell (0.60.7~20110707-4ubuntu0.2) ...\n",
            "Setting up hunspell-en-us (1:2017.08.24) ...\n",
            "Setting up libenchant1c2a:amd64 (1.6.0-11.1) ...\n",
            "Setting up aspell-en (2017.08.24-0-0.1) ...\n",
            "Setting up enchant (1.6.0-11.1) ...\n",
            "Processing triggers for libc-bin (2.27-3ubuntu1.2) ...\n",
            "/sbin/ldconfig.real: /usr/local/lib/python3.7/dist-packages/ideep4py/lib/libmkldnn.so.0 is not a symbolic link\n",
            "\n",
            "Processing triggers for man-db (2.8.3-2ubuntu0.1) ...\n",
            "Processing triggers for dictionaries-common (1.27.2) ...\n",
            "aspell-autobuildhash: processing: en [en-common].\n",
            "aspell-autobuildhash: processing: en [en-variant_0].\n",
            "aspell-autobuildhash: processing: en [en-variant_1].\n",
            "aspell-autobuildhash: processing: en [en-variant_2].\n",
            "aspell-autobuildhash: processing: en [en-w_accents-only].\n",
            "aspell-autobuildhash: processing: en [en-wo_accents-only].\n",
            "aspell-autobuildhash: processing: en [en_AU-variant_0].\n",
            "aspell-autobuildhash: processing: en [en_AU-variant_1].\n",
            "aspell-autobuildhash: processing: en [en_AU-w_accents-only].\n",
            "aspell-autobuildhash: processing: en [en_AU-wo_accents-only].\n",
            "aspell-autobuildhash: processing: en [en_CA-variant_0].\n",
            "aspell-autobuildhash: processing: en [en_CA-variant_1].\n",
            "aspell-autobuildhash: processing: en [en_CA-w_accents-only].\n",
            "aspell-autobuildhash: processing: en [en_CA-wo_accents-only].\n",
            "aspell-autobuildhash: processing: en [en_GB-ise-w_accents-only].\n",
            "aspell-autobuildhash: processing: en [en_GB-ise-wo_accents-only].\n",
            "aspell-autobuildhash: processing: en [en_GB-ize-w_accents-only].\n",
            "aspell-autobuildhash: processing: en [en_GB-ize-wo_accents-only].\n",
            "aspell-autobuildhash: processing: en [en_GB-variant_0].\n",
            "aspell-autobuildhash: processing: en [en_GB-variant_1].\n",
            "aspell-autobuildhash: processing: en [en_US-w_accents-only].\n",
            "aspell-autobuildhash: processing: en [en_US-wo_accents-only].\n",
            "Collecting pyenchant\n",
            "  Downloading pyenchant-3.2.1-py3-none-any.whl (55 kB)\n",
            "\u001b[K     |████████████████████████████████| 55 kB 1.8 MB/s \n",
            "\u001b[?25hInstalling collected packages: pyenchant\n",
            "Successfully installed pyenchant-3.2.1\n"
          ],
          "name": "stdout"
        }
      ]
    },
    {
      "cell_type": "code",
      "metadata": {
        "id": "i1z1VIx9fvxs"
      },
      "source": [
        "import enchant"
      ],
      "execution_count": null,
      "outputs": []
    },
    {
      "cell_type": "code",
      "metadata": {
        "colab": {
          "base_uri": "https://localhost:8080/"
        },
        "id": "KueNDA6pf40y",
        "outputId": "44f0a37b-33f0-4d3c-f452-81a7c8b83fa2"
      },
      "source": [
        "d = enchant.Dict(\"en_US\")\n",
        "  \n",
        "type(d)"
      ],
      "execution_count": null,
      "outputs": [
        {
          "output_type": "execute_result",
          "data": {
            "text/plain": [
              "enchant.Dict"
            ]
          },
          "metadata": {},
          "execution_count": 39
        }
      ]
    },
    {
      "cell_type": "code",
      "metadata": {
        "id": "08stqMzZf9pU"
      },
      "source": [
        "test_string = \"\""
      ],
      "execution_count": null,
      "outputs": []
    },
    {
      "cell_type": "code",
      "metadata": {
        "colab": {
          "base_uri": "https://localhost:8080/",
          "height": 137
        },
        "id": "OoJycUnsgGTf",
        "outputId": "10de45cc-0ead-4ea3-a0f2-eda318430ab7"
      },
      "source": [
        "\n",
        "for i in range(len(f1)):\n",
        "    if d.check(f1[i]):\n",
        "        test_string += f1[i]\n",
        "        test_string += \" \"\n",
        "    \n",
        "    else:\n",
        "        test_string += jsp.FixFragment(f1[i])\n",
        "        test_string += \" \"\n",
        "      \n",
        "test_string"
      ],
      "execution_count": null,
      "outputs": [
        {
          "output_type": "execute_result",
          "data": {
            "application/vnd.google.colaboratory.intrinsic+json": {
              "type": "string"
            },
            "text/plain": [
              "\"\\ufeffthe students let us start the first lecture of this course this is basically a online course so therefore you need to be very clear about what you are going to learn and how you are going to be evaluated first of all this is a course on phase transformation in materials and i will be teaching all the lectures and it is a thirty lecture course that means there will be site twenty five minutes lecture and every week w will be exposed to i am not sure now about four to six lectures so that means about two to three hours of lectures so myself is persummiswas and i am a faculty member at the department of material sense engineering opiitianpull so thus the details about me my email address is available on the screen you can finally write to me whenever you have any serious problems and in addition to that to handle the courseexams and also grading of your answer seems although i know this will be all done all line will be taken care by the teaching assisted so two my students they will be handling that so they are actually the main person who will be handling your questions to my right first one i cospo chospotivaris is my per student and second one is res pa res mis also my pan i student so they will be handling all your questions in a discussion forum obviously they are very difficult then i will also participate and also they will be handling your question paper and grading so mit ask will be to deliver all the lectures and then this will be uploaded int tan putal website so that you can observe and read or position or learn whatever me whatever way you can think about it nowadays also there is another provision all my lectures whatever i am speaking will be again taken down or written by some x parts so we are in the process of finding out those x parts for my earlier course and phase transformation materials similarly weill willl do it for you also so that you do nt need to listen you can actually read all these lectures nones so before that happens you are going to only listen this lectures available on the imperial form and also you can ask questions in the discussion forum and so that s about it and their similar doses are given and i have carefully removed the phone numbers because this is why things become very difficult to handle so if you have any questions you can ask them ask me also or you can put it on the discussion former you know like any things in life every course as an objective and this subjective has to be very clear before you start a course president course actually we ill deal with basic surface transformations and materials as i said in in my introduction radio already you have seen probably that past transformation is everyuler present in the environment whether you are talking about metals ceramics payments or your talking about real life whose transformations present but how do we deal is phase transformation that is wha w will be taught because thats what is important in your endeavor to learn phase transformations so using these three things one is your o thermodynamics tin kinetics and some basic aspect of material sensil like crystal structures and interfaces we are going to study various solid o solid an liquid to solid phase transformation as we know this is a vast subject and covering that in thirty lectures is not an easy task so obviously we must be selected we cannot teach you everything and to learn everything you need to have some basic idea what i put it as course perriquicite ok at this peracuosit ar you should have peperabil skuld up some basic knowledge on basic material science that most of the students in metallurgy or material sense normally have thermodynamics especially the thermionic functions and their relationships and then some idea phase dicoms and diffusion ok so i have already checked on different portions o wa in steal but y mean wy different person is that there are some correa video or some constitute wave some houses which are massive open calling so basic material sense is already been taught by some fecal numbers thermodynamics has already been available and phase ther ommi manself has develop a course and thrill just one yar back decision is also piracy taught so therefore you can actually clear your doubts by while reading these lecture ok this is the full whether all the description of the all the lectures ok i down know whether everything is coming in the scene or not but anyway most important thing is that we are going to talk about some very at the beginning we are going to talk give you some idea about fee eng because that is a therbonanis part of the phase diagram so we will show you the calculation of delta g of various transformations ok then we will talk about quite a bit of interfaces interfaces means liquid sal is solid solid grain grain interface interface interfaeinturfaces these are all parts of with thermodynamics then we have to go into kinetics thats the insulation because nuclation is why the starting point of phase transformations so therefore theory of escalation howmoteou between eculations and circulation on the surface is grains and even cen corner gen s everywhere it will be dealt with and assume yoon recession itself a subject so there therefore must be a very an now we have to be very careful about what you are going to talk about it i wonlt be going to tell you every details of the circulation but whatever relevant we will discuss then we are going to start the first of the fist transfertion that is om solidification as you see here justification is an liquid to solid phase transformations then we will talk about growth during different aspects like thermal activated god interface control go efficient control go that's why you need to know and cassel as couple go then you take toeutectric transformations then we will talk about little bit about transformation kinetics in terms of there model con enamel and aroma models and some amount of te thermal phase transformations then we simply go on to different soi to somalia transforsioni presipitations realize and satisfies spinagtal dey compositions and a wit about sutherland continuous transformations that itself will be sufficient and ap to cover tatilectures ok so this is important that you know what you are going to be taught at the beginning so that you can prepare yourself so we are going to follow exactly the same way things are given and the right side i have also related down number of lectures will be spend on each topic now comes in very important aspects because in the massive open calling course you will be exposed to radio lectures or the ali lectures you must have some amount of you know textbook knowledge so therefore two important texbook which i have carried from our library is this first one which is which is here is written on that is phase transformation in metals and alloys classic textbook by d a porter and k is telling and the recant addition also has come with a new author all the problems ol solved by mister sector am ship this is available in india not very expensive book you can read that and the other book is written by two my past colleagues although i have never met them but they are ita anpol this book is pase transformation is in materials and by professor ak gene and prime m cso therapy both er i tecanpuo so when these books are written there all therefore gena was in consul ok so these two books will be your basic textbooks for the course and anyone any of these books will be good for you you can buy these books or you can actually copy from different liability in the different parts of the books can copy from different libraries or if you if you want you can actually even now get buy that on different online stores current so thais about the basic part of the courseading before i could move onto the next portion ow my lecture why the pac transfer sale wet let me tell you you will be given assignments in every week and i think assermenstion normally uploaded on thursday and because monday genus t mandatory etness stay will be exposed to the lectures and after that you will be i will be or my t sh willl be uploading the assessment and you will be given bout one weeks time to complete the assignments because assignments ole alpine so the questions would be multiple choice type or may be feeling fill in the blank stipe as a segment wo levo it is a fifty percent vantage and at the end of this semester you will be taking an nsa exam and we are planning to have it anlline so far if i do not change my decisions or something else happens other isity pearl line and that will be having a fifty percent vertage although i am not keeping any pass marks of this course but you can tentatively consider if you are getting less than about say thirty percent of the marks then you will not be able to pass this course and those who will be successfully completing this course by taking exams and getting good marks will be given modification from the imperial as you know so that way i expect that you will be very serious planner and you will be also able to solve this problems if a in case you have difficulties you can always discuss we can always use discussion for or you can write emails you can always bring it to the instructor all the t s so that we can make it clear to you thats very important because understand you know the things very well would not be able to answer the questions now in the next few slides i am going to talk about what ar relevant sof face transformation materials eelonment and why do you study in any course i know that many of you do not expose by the instructor in the same way you must have an idea why you are studying this course what is the need well phase transformation assisi is presented environment ok the slide i have taken from literature ou ome that is what i am going to answer to you why study phase transformation material science ok you know what wearin actually we look materials for the application in any case finally we have to think of application unless atlantis mater is applied engineering point of view we do nt find any reason to study student loan to give one can stand so application means we must know the properties all kinds of of part so there is a physical mechanical electronic electrical magnetic depending on the applications so property property sola material is are estimated very very regularly to find and potential applications this is two probe new material when it is developed so now question is this popular as i say mechanical chemical electrical minity thermal you can evenly stand miny more properties of the material depends on structure and thats why actual legal problem come structure has length scale you can simply say atomic structure at min structure is the smallest structure you can think about it atom and nucleus in fact that is why decades one sole propadisiofto material but that is not all that is what in so this is wha you must know very clear that is not all so structure means it can be atmix structure molecular structure grain structure phase as distribution and defects ok so we have basically have listed down from the bottom of atom is the small species and then we have grains and other things so you must have i am stressing again you mast tem end go a good idea about thes structures to colulate to the properties because it is important that the properties are primarily dictated by this structure so if i know thes texture i can vector the properties so you got the coalition right a very logically speaking we make materials whether we use processing techniques to make materials and these processing techniques allow you to control structure processing technique means what you can start with he liquid and solidify that is why the solidification you can start with a metal piece deform by rolling force situation whatever referent means so you actually process or you connection deposits tin flame you can actually use surf statement techniques many things we do in the real app now processing of materials they have a direct connections with a structure and tractor as a direct link with the properties so as you see here these actually are variables for the processing temperature pressure o stress strain or volume and chemical compassion for the aways you can change chemical cooperation by making different allays so these are my variables in processing and by applying these variables communication variables i generator mi make materials or manufacturing materials and these processing variables control the structure unstructured controller properties so there therefore these three are linked very clearly they are linked they are not separate or they are not independent things they are connected to each other t these are the bridges of these three important pillars of material science processing structure an property but finally what we look for finally we look for what is known as performance if yo war you are studying in a co slams in a course we are finally a holelotingal performance similarly materials are slated in terms of performance if i put a tyre in our car that means the major performances that i should be able to drive the take the car for one place to the place without any problems what you know tires will carry from a summer to winter in the in the point countries and ice the tires which will travel n ic t are different so that means performance indeed are actually connected to all these three things processing structure and the properties and that is what is important this chart which is very famous in material science youwill find in many books is known as the material statehydron because they i actually looks like it ha tri so finally where does the rise transformation comes it is in the structure we modify the structure we modify the atomic structure wo spotify the grain structural modified the phases phase transformations so therefore phase transformations a direct link wofh the procession and also indirectly corrected with the properties and thats why it is a very important course in the material ens engineering you must understand that without knowing the phase transformations you cannot control material properties ok so phase transformation phericallibeof thermodynamics is the basis for understanding a material response to change in temperature pressure composition i must accept this is slide i have taken from way this is not mine thus the skeptical link between processing and microstructure requires an knowledge of the relevant thermodynamic principles and they are the basis force phase transformation so you understand now why we are actually studying the phase transformations ok now question is this can i relate in the real applications i have taken four application again fly taken from the internate sites first one is an airplane ok air plane is a very important mode of transport from one part of the wall to the other plant and you know the material which is used in the airplane is an aluminum cover alloy if you do not know you can actually take on the books there is a classical alloy eleven a four point five to four point seven percent copper known as develumin in the in the training and this is a very stable ally from forty five deee celsius to minus sixty five u cello or even minus a t ti cell i don t know how many of you prate new stat there is a desire laboratory in the southern hemisphere that is in antarctica and sometimes if somebody is ill in the decided laboratories in winter time they are actually taken from that place by plane to template the the different content especially in south america or sub parts but it will be extremely cold minus sixties to minus eighty dege sel system pressures so a plane flying there the material has to withstand such a low temperature so ther this one nude material which is prepared long back is used for the plane body and important phase transformation which happening here is a precipitation of certain phase in aluminum alas and these precipitate provide the strength from high toonar temperature if you travel carefully on the planes you will find especially in the wings revered joints and these related joints are very strong at low temperatures because of the precipitation so we are going to discuss about that the next one which is very important the right side is a turbine basically it can be used in the plane the high squid plane or invent in pow generators and they contained nickel by supervise is wonderful material is a nickel aluminum alloy with consisting of many ou elements which i will not discuss in detail now but again the real high temperature properties because this this is a turbine so therefore this has to island high temperature high temperature properties cubiastane properties of this material is basically because of precipitation of a i three a type l one to precipitates what you known as in a nickel matrix entries matrix and these unique precipitate actually provide the strength ok the thus that that means the pestipretation is very important aspect to understand so that s why is will be part of a sullivan then on the side left side or you know may be right this is the rails which is used to as a fist plate on the relay tracks these action steels basically ther steel of parallel what do we known as if you do not have any idea of parallels finite is nothing but a eu theoretically transform product of gamma solisulation of carbon in iron and so therefore you must we must know how this transformation happens whether can you control it because the properties of the rail depends on that remember ral is is what is allowing you to alon us to move trains so therefore they are they are subjected to strains temperature harsher movement and many other things so they must have combinations of properties so that they can serve the purpose and these is basically done by controlling the phase trans motions on the right side this is the end the fast example is basically the titanium based ally engines ok remember these engines are not used in car they will be estingused in the planes or maybe in some other static applications like ter like the submarines or so so these engines actually has many plaslect itanium valves tha dineam mmc is pins that imam c cranks ups many other things springs and they are fighting luminaries you know titanium out of thes all thatinamalise the most important allo which is extensively used is titanium six aluminium pole vanadium and it it we can control the manchester of these by mini ways creating alphalatonium also plus belted titanium metou taking alloys so the propertisill vary depending on whether its alpha so plus petal p meter re alpha is xamo pro spect structure meta is which is in structure so uranium actually a room temperature below what to eight hundred eighty two dea cel system pressure is basically alan above there in is n t is king mec c structure so one can i actually play around in the temperature jone why again controlling the posting parameters to create different kinds of structures to get different properties so all these application dont think that they are all similar alparallits or metals ofopenit always they can be combination so many of these then the actual real problem is how do i control these microstructures by controlling the processing parameters so member these four examples are not exhaustive one can find many many examples in real life as i told in my first introduction lectures the basic example we always find is in in in country like india in the hot summer day you want to drink cold water so you can always put the quarter inside the fringe and get it cooled but it is real advantage is that if i take a glass of water and add a ice cube taken from the dee return imedially the ic squee will start melting it down or getting dissolved in the water both a actually i tw o one is solid i tu or is a liquid issue so therefore by melting it down the heat in getting transfer to the liquid and then the water gets cooled down you enjoy the dring so this is the example which is present which we are actually doing it but what is important nou for you to understand how this transformation happens how the solid become liquid liquid become solid whether is very simple unknown reimer what is one of the most complex systems in the wild i m a unlike metal thes are more complex so let me just stop here before i go to the next part of the lecture or the next class so you understand in a natal that phase transformation is basically very important from the perspectives s of material science and technology and many of these products which you are actually using thes the properties are controlled by controlling phase transformations we can do that by using different housing parameters temperature stay strain composition and wy doing that we alter the microstructure the atmix structure and by doing that you are creating different properties that is the relevance of face information course and which you will be exposed to the next subsequent lectures \""
            ]
          },
          "metadata": {},
          "execution_count": 41
        }
      ]
    },
    {
      "cell_type": "code",
      "metadata": {
        "colab": {
          "base_uri": "https://localhost:8080/"
        },
        "id": "l7TkRVL2gMlO",
        "outputId": "b0345d37-e0bc-4589-9bcc-79dd641f0d95"
      },
      "source": [
        "print(test_string)"
      ],
      "execution_count": null,
      "outputs": [
        {
          "output_type": "stream",
          "text": [
            "﻿the students let us start the first lecture of this course this is basically a online course so therefore you need to be very clear about what you are going to learn and how you are going to be evaluated first of all this is a course on phase transformation in materials and i will be teaching all the lectures and it is a thirty lecture course that means there will be site twenty five minutes lecture and every week w will be exposed to i am not sure now about four to six lectures so that means about two to three hours of lectures so myself is persummiswas and i am a faculty member at the department of material sense engineering opiitianpull so thus the details about me my email address is available on the screen you can finally write to me whenever you have any serious problems and in addition to that to handle the courseexams and also grading of your answer seems although i know this will be all done all line will be taken care by the teaching assisted so two my students they will be handling that so they are actually the main person who will be handling your questions to my right first one i cospo chospotivaris is my per student and second one is res pa res mis also my pan i student so they will be handling all your questions in a discussion forum obviously they are very difficult then i will also participate and also they will be handling your question paper and grading so mit ask will be to deliver all the lectures and then this will be uploaded int tan putal website so that you can observe and read or position or learn whatever me whatever way you can think about it nowadays also there is another provision all my lectures whatever i am speaking will be again taken down or written by some x parts so we are in the process of finding out those x parts for my earlier course and phase transformation materials similarly weill willl do it for you also so that you do nt need to listen you can actually read all these lectures nones so before that happens you are going to only listen this lectures available on the imperial form and also you can ask questions in the discussion forum and so that s about it and their similar doses are given and i have carefully removed the phone numbers because this is why things become very difficult to handle so if you have any questions you can ask them ask me also or you can put it on the discussion former you know like any things in life every course as an objective and this subjective has to be very clear before you start a course president course actually we ill deal with basic surface transformations and materials as i said in in my introduction radio already you have seen probably that past transformation is everyuler present in the environment whether you are talking about metals ceramics payments or your talking about real life whose transformations present but how do we deal is phase transformation that is wha w will be taught because thats what is important in your endeavor to learn phase transformations so using these three things one is your o thermodynamics tin kinetics and some basic aspect of material sensil like crystal structures and interfaces we are going to study various solid o solid an liquid to solid phase transformation as we know this is a vast subject and covering that in thirty lectures is not an easy task so obviously we must be selected we cannot teach you everything and to learn everything you need to have some basic idea what i put it as course perriquicite ok at this peracuosit ar you should have peperabil skuld up some basic knowledge on basic material science that most of the students in metallurgy or material sense normally have thermodynamics especially the thermionic functions and their relationships and then some idea phase dicoms and diffusion ok so i have already checked on different portions o wa in steal but y mean wy different person is that there are some correa video or some constitute wave some houses which are massive open calling so basic material sense is already been taught by some fecal numbers thermodynamics has already been available and phase ther ommi manself has develop a course and thrill just one yar back decision is also piracy taught so therefore you can actually clear your doubts by while reading these lecture ok this is the full whether all the description of the all the lectures ok i down know whether everything is coming in the scene or not but anyway most important thing is that we are going to talk about some very at the beginning we are going to talk give you some idea about fee eng because that is a therbonanis part of the phase diagram so we will show you the calculation of delta g of various transformations ok then we will talk about quite a bit of interfaces interfaces means liquid sal is solid solid grain grain interface interface interfaeinturfaces these are all parts of with thermodynamics then we have to go into kinetics thats the insulation because nuclation is why the starting point of phase transformations so therefore theory of escalation howmoteou between eculations and circulation on the surface is grains and even cen corner gen s everywhere it will be dealt with and assume yoon recession itself a subject so there therefore must be a very an now we have to be very careful about what you are going to talk about it i wonlt be going to tell you every details of the circulation but whatever relevant we will discuss then we are going to start the first of the fist transfertion that is om solidification as you see here justification is an liquid to solid phase transformations then we will talk about growth during different aspects like thermal activated god interface control go efficient control go that's why you need to know and cassel as couple go then you take toeutectric transformations then we will talk about little bit about transformation kinetics in terms of there model con enamel and aroma models and some amount of te thermal phase transformations then we simply go on to different soi to somalia transforsioni presipitations realize and satisfies spinagtal dey compositions and a wit about sutherland continuous transformations that itself will be sufficient and ap to cover tatilectures ok so this is important that you know what you are going to be taught at the beginning so that you can prepare yourself so we are going to follow exactly the same way things are given and the right side i have also related down number of lectures will be spend on each topic now comes in very important aspects because in the massive open calling course you will be exposed to radio lectures or the ali lectures you must have some amount of you know textbook knowledge so therefore two important texbook which i have carried from our library is this first one which is which is here is written on that is phase transformation in metals and alloys classic textbook by d a porter and k is telling and the recant addition also has come with a new author all the problems ol solved by mister sector am ship this is available in india not very expensive book you can read that and the other book is written by two my past colleagues although i have never met them but they are ita anpol this book is pase transformation is in materials and by professor ak gene and prime m cso therapy both er i tecanpuo so when these books are written there all therefore gena was in consul ok so these two books will be your basic textbooks for the course and anyone any of these books will be good for you you can buy these books or you can actually copy from different liability in the different parts of the books can copy from different libraries or if you if you want you can actually even now get buy that on different online stores current so thais about the basic part of the courseading before i could move onto the next portion ow my lecture why the pac transfer sale wet let me tell you you will be given assignments in every week and i think assermenstion normally uploaded on thursday and because monday genus t mandatory etness stay will be exposed to the lectures and after that you will be i will be or my t sh willl be uploading the assessment and you will be given bout one weeks time to complete the assignments because assignments ole alpine so the questions would be multiple choice type or may be feeling fill in the blank stipe as a segment wo levo it is a fifty percent vantage and at the end of this semester you will be taking an nsa exam and we are planning to have it anlline so far if i do not change my decisions or something else happens other isity pearl line and that will be having a fifty percent vertage although i am not keeping any pass marks of this course but you can tentatively consider if you are getting less than about say thirty percent of the marks then you will not be able to pass this course and those who will be successfully completing this course by taking exams and getting good marks will be given modification from the imperial as you know so that way i expect that you will be very serious planner and you will be also able to solve this problems if a in case you have difficulties you can always discuss we can always use discussion for or you can write emails you can always bring it to the instructor all the t s so that we can make it clear to you thats very important because understand you know the things very well would not be able to answer the questions now in the next few slides i am going to talk about what ar relevant sof face transformation materials eelonment and why do you study in any course i know that many of you do not expose by the instructor in the same way you must have an idea why you are studying this course what is the need well phase transformation assisi is presented environment ok the slide i have taken from literature ou ome that is what i am going to answer to you why study phase transformation material science ok you know what wearin actually we look materials for the application in any case finally we have to think of application unless atlantis mater is applied engineering point of view we do nt find any reason to study student loan to give one can stand so application means we must know the properties all kinds of of part so there is a physical mechanical electronic electrical magnetic depending on the applications so property property sola material is are estimated very very regularly to find and potential applications this is two probe new material when it is developed so now question is this popular as i say mechanical chemical electrical minity thermal you can evenly stand miny more properties of the material depends on structure and thats why actual legal problem come structure has length scale you can simply say atomic structure at min structure is the smallest structure you can think about it atom and nucleus in fact that is why decades one sole propadisiofto material but that is not all that is what in so this is wha you must know very clear that is not all so structure means it can be atmix structure molecular structure grain structure phase as distribution and defects ok so we have basically have listed down from the bottom of atom is the small species and then we have grains and other things so you must have i am stressing again you mast tem end go a good idea about thes structures to colulate to the properties because it is important that the properties are primarily dictated by this structure so if i know thes texture i can vector the properties so you got the coalition right a very logically speaking we make materials whether we use processing techniques to make materials and these processing techniques allow you to control structure processing technique means what you can start with he liquid and solidify that is why the solidification you can start with a metal piece deform by rolling force situation whatever referent means so you actually process or you connection deposits tin flame you can actually use surf statement techniques many things we do in the real app now processing of materials they have a direct connections with a structure and tractor as a direct link with the properties so as you see here these actually are variables for the processing temperature pressure o stress strain or volume and chemical compassion for the aways you can change chemical cooperation by making different allays so these are my variables in processing and by applying these variables communication variables i generator mi make materials or manufacturing materials and these processing variables control the structure unstructured controller properties so there therefore these three are linked very clearly they are linked they are not separate or they are not independent things they are connected to each other t these are the bridges of these three important pillars of material science processing structure an property but finally what we look for finally we look for what is known as performance if yo war you are studying in a co slams in a course we are finally a holelotingal performance similarly materials are slated in terms of performance if i put a tyre in our car that means the major performances that i should be able to drive the take the car for one place to the place without any problems what you know tires will carry from a summer to winter in the in the point countries and ice the tires which will travel n ic t are different so that means performance indeed are actually connected to all these three things processing structure and the properties and that is what is important this chart which is very famous in material science youwill find in many books is known as the material statehydron because they i actually looks like it ha tri so finally where does the rise transformation comes it is in the structure we modify the structure we modify the atomic structure wo spotify the grain structural modified the phases phase transformations so therefore phase transformations a direct link wofh the procession and also indirectly corrected with the properties and thats why it is a very important course in the material ens engineering you must understand that without knowing the phase transformations you cannot control material properties ok so phase transformation phericallibeof thermodynamics is the basis for understanding a material response to change in temperature pressure composition i must accept this is slide i have taken from way this is not mine thus the skeptical link between processing and microstructure requires an knowledge of the relevant thermodynamic principles and they are the basis force phase transformation so you understand now why we are actually studying the phase transformations ok now question is this can i relate in the real applications i have taken four application again fly taken from the internate sites first one is an airplane ok air plane is a very important mode of transport from one part of the wall to the other plant and you know the material which is used in the airplane is an aluminum cover alloy if you do not know you can actually take on the books there is a classical alloy eleven a four point five to four point seven percent copper known as develumin in the in the training and this is a very stable ally from forty five deee celsius to minus sixty five u cello or even minus a t ti cell i don t know how many of you prate new stat there is a desire laboratory in the southern hemisphere that is in antarctica and sometimes if somebody is ill in the decided laboratories in winter time they are actually taken from that place by plane to template the the different content especially in south america or sub parts but it will be extremely cold minus sixties to minus eighty dege sel system pressures so a plane flying there the material has to withstand such a low temperature so ther this one nude material which is prepared long back is used for the plane body and important phase transformation which happening here is a precipitation of certain phase in aluminum alas and these precipitate provide the strength from high toonar temperature if you travel carefully on the planes you will find especially in the wings revered joints and these related joints are very strong at low temperatures because of the precipitation so we are going to discuss about that the next one which is very important the right side is a turbine basically it can be used in the plane the high squid plane or invent in pow generators and they contained nickel by supervise is wonderful material is a nickel aluminum alloy with consisting of many ou elements which i will not discuss in detail now but again the real high temperature properties because this this is a turbine so therefore this has to island high temperature high temperature properties cubiastane properties of this material is basically because of precipitation of a i three a type l one to precipitates what you known as in a nickel matrix entries matrix and these unique precipitate actually provide the strength ok the thus that that means the pestipretation is very important aspect to understand so that s why is will be part of a sullivan then on the side left side or you know may be right this is the rails which is used to as a fist plate on the relay tracks these action steels basically ther steel of parallel what do we known as if you do not have any idea of parallels finite is nothing but a eu theoretically transform product of gamma solisulation of carbon in iron and so therefore you must we must know how this transformation happens whether can you control it because the properties of the rail depends on that remember ral is is what is allowing you to alon us to move trains so therefore they are they are subjected to strains temperature harsher movement and many other things so they must have combinations of properties so that they can serve the purpose and these is basically done by controlling the phase trans motions on the right side this is the end the fast example is basically the titanium based ally engines ok remember these engines are not used in car they will be estingused in the planes or maybe in some other static applications like ter like the submarines or so so these engines actually has many plaslect itanium valves tha dineam mmc is pins that imam c cranks ups many other things springs and they are fighting luminaries you know titanium out of thes all thatinamalise the most important allo which is extensively used is titanium six aluminium pole vanadium and it it we can control the manchester of these by mini ways creating alphalatonium also plus belted titanium metou taking alloys so the propertisill vary depending on whether its alpha so plus petal p meter re alpha is xamo pro spect structure meta is which is in structure so uranium actually a room temperature below what to eight hundred eighty two dea cel system pressure is basically alan above there in is n t is king mec c structure so one can i actually play around in the temperature jone why again controlling the posting parameters to create different kinds of structures to get different properties so all these application dont think that they are all similar alparallits or metals ofopenit always they can be combination so many of these then the actual real problem is how do i control these microstructures by controlling the processing parameters so member these four examples are not exhaustive one can find many many examples in real life as i told in my first introduction lectures the basic example we always find is in in in country like india in the hot summer day you want to drink cold water so you can always put the quarter inside the fringe and get it cooled but it is real advantage is that if i take a glass of water and add a ice cube taken from the dee return imedially the ic squee will start melting it down or getting dissolved in the water both a actually i tw o one is solid i tu or is a liquid issue so therefore by melting it down the heat in getting transfer to the liquid and then the water gets cooled down you enjoy the dring so this is the example which is present which we are actually doing it but what is important nou for you to understand how this transformation happens how the solid become liquid liquid become solid whether is very simple unknown reimer what is one of the most complex systems in the wild i m a unlike metal thes are more complex so let me just stop here before i go to the next part of the lecture or the next class so you understand in a natal that phase transformation is basically very important from the perspectives s of material science and technology and many of these products which you are actually using thes the properties are controlled by controlling phase transformations we can do that by using different housing parameters temperature stay strain composition and wy doing that we alter the microstructure the atmix structure and by doing that you are creating different properties that is the relevance of face information course and which you will be exposed to the next subsequent lectures \n"
          ],
          "name": "stdout"
        }
      ]
    },
    {
      "cell_type": "code",
      "metadata": {
        "id": "Ni_TKcNjgv2d"
      },
      "source": [
        "listtt = []"
      ],
      "execution_count": null,
      "outputs": []
    },
    {
      "cell_type": "code",
      "metadata": {
        "colab": {
          "base_uri": "https://localhost:8080/"
        },
        "id": "sebEqaBzgv2d",
        "outputId": "54f6639a-5311-4355-e7d1-c4c61204d26c"
      },
      "source": [
        "sii = difflib.SequenceMatcher(None, test_string, FileContent2)\n",
        "for tag, i1, i2, j1, j2 in sii.get_opcodes():\n",
        "  listtt.append(tag)\n",
        "  print('{:7}   test_string[{}:{}] --> FileContent2[{}:{}] {!r:>8} --> {!r}'.format(\n",
        "  tag, i1, i2, j1, j2, test_string[i1:i2], FileContent2[j1:j2]))"
      ],
      "execution_count": null,
      "outputs": [
        {
          "output_type": "stream",
          "text": [
            "equal     test_string[0:1] --> FileContent2[0:1] '\\ufeff' --> '\\ufeff'\n",
            "replace   test_string[1:87] --> FileContent2[1:88] 'the students let us start the first lecture of this course this is basically a online ' --> 'dear students let us start the first lecture of this course this is basically a online\\n'\n",
            "equal     test_string[87:174] --> FileContent2[88:175] 'course so therefore you need to be very clear about what you are going to learn and how' --> 'course so therefore you need to be very clear about what you are going to learn and how'\n",
            "replace   test_string[174:175] --> FileContent2[175:176]      ' ' --> '\\n'\n",
            "equal     test_string[175:261] --> FileContent2[176:262] 'you are going to be evaluated first of all this is a course on phase transformation in' --> 'you are going to be evaluated first of all this is a course on phase transformation in'\n",
            "replace   test_string[261:375] --> FileContent2[262:377] ' materials and i will be teaching all the lectures and it is a thirty lecture course that means there will be site' --> '\\nmaterials and i will be teaching all the lectures and it is a thirty lecture course that means\\nthere will be sixty'\n",
            "equal     test_string[375:420] --> FileContent2[377:422] ' twenty five minutes lecture and every week w' --> ' twenty five minutes lecture and every week w'\n",
            "replace   test_string[420:430] --> FileContent2[422:476] ' will be e' --> 'ill be i suppose to i am not\\nsure now about four to si'\n",
            "equal     test_string[430:431] --> FileContent2[476:477]      'x' --> 'x'\n",
            "replace   test_string[431:474] --> FileContent2[477:843] 'posed to i am not sure now about four to si' --> ' lectures so that means about two to three hours of lectures\\nso myself is professor biswas and i am a faculty member at the department of material science\\nengineering of iit kanpur so thats the details about me my email address is available on\\nthe screen you can daily write to me whenever you have any serious problems and in addition\\nto that to handle the course e'\n",
            "equal     test_string[474:475] --> FileContent2[843:844]      'x' --> 'x'\n",
            "replace   test_string[475:699] --> FileContent2[844:1268] ' lectures so that means about two to three hours of lectures so myself is persummiswas and i am a faculty member at the department of material sense engineering opiitianpull so thus the details about me my email address is a' --> 'ams and also grading appear answer sheets i know this will\\nbe done online will be taken care by the teaching assistance\\nso two of my students they will be handling that so they are actually the main ah person\\nwill be handling your questions to my write first one is kushbu kushbu tiwari is my pg\\nand second one is reshma reshma is also my pg student so they will be handling all your\\nthe questions in the discussion forum ob'\n",
            "equal     test_string[699:700] --> FileContent2[1268:1269]      'v' --> 'v'\n",
            "replace   test_string[700:755] --> FileContent2[1269:1285] 'ailable on the screen you can finally write to me whene' --> 'iously they are '\n",
            "equal     test_string[755:758] --> FileContent2[1285:1288]    'ver' --> 'ver'\n",
            "replace   test_string[758:765] --> FileContent2[1288:1417] ' you ha' --> 'y difficult and i will also participate\\nand also they will be handling your question paper and grading so my task will be to deli'\n",
            "equal     test_string[765:767] --> FileContent2[1417:1419]     've' --> 've'\n",
            "replace   test_string[767:833] --> FileContent2[1419:1716] ' any serious problems and in addition to that to handle the course' --> 'r\\nall the lectures and then this will be uploaded in to nptel website so that you can observe\\nand read or or listen online whatever is whatever way you can think about it\\nnow a days also there is another provision all my lectures whatever i am speaking will\\nbe again taken down or written by some '\n",
            "equal     test_string[833:835] --> FileContent2[1716:1718]     'ex' --> 'ex'\n",
            "replace   test_string[835:888] --> FileContent2[1718:2061] 'ams and also grading of your answer seems although i ' --> 'perts so we are in the process of finding out those\\nexperts on my earlier course on phase transformation materials similarly we will do it for you\\nalso so that you dont need to listen you can actually read all this lectures notes so before\\nthat happens we are going to only listen this lectures available on the nptel forum and\\nalso you can as'\n",
            "equal     test_string[888:889] --> FileContent2[2061:2062]      'k' --> 'k'\n",
            "replace   test_string[889:934] --> FileContent2[2062:2303] 'now this will be all done all line will be ta' --> ' questions in the discussion forum and so thats about it and there email\\naddress is are given and i have carefully removed the phone numbers because this is\\nwhere things become very difficult to handle so if you have any questions you can as'\n",
            "equal     test_string[934:935] --> FileContent2[2303:2304]      'k' --> 'k'\n",
            "replace   test_string[935:1077] --> FileContent2[2304:3191] 'en care by the teaching assisted so two my students they will be handling that so they are actually the main person who will be handling your ' --> ' them\\nask me also or you can put it on the discussion forum ok you know like any things in life\\nevery course has an objective and this objective has to be very clear before you start the\\ncourse\\nso present course actually will deal with basics of transformations in materials and\\nas i said in my introduction video already you have seen probably that phase transformation\\nis everywhere present in the normal whether you are talking about materials ceramics polymers\\nor you are talking about real life phase transformation is present that how do we deal with phase\\ntransformation that is what you will be taught because thats what is important in your endower\\nto learn phase transformation so using these three things one is your thermodynamics\\nthen kinetics and some basic aspect of material sands like crystal structures and interfaces\\nwe are going to study various solid to solid and li'\n",
            "equal     test_string[1077:1079] --> FileContent2[3191:3193]     'qu' --> 'qu'\n",
            "replace   test_string[1079:1125] --> FileContent2[3193:3264] 'estions to my right first one i cospo chospoti' --> 'id to solid phase transformation as\\nyou know this is our subject and co'\n",
            "equal     test_string[1125:1126] --> FileContent2[3264:3265]      'v' --> 'v'\n",
            "replace   test_string[1126:1238] --> FileContent2[3265:3469] 'aris is my per student and second one is res pa res mis also my pan i student so they will be handling all your ' --> 'ering that in thirty lectures is not an easy task\\nso obviously we must be selected we cannot teach you everything and to learn everything\\nyou need to have some basic idea ah what i put it as course pre re'\n",
            "equal     test_string[1238:1240] --> FileContent2[3469:3471]     'qu' --> 'qu'\n",
            "replace   test_string[1240:1272] --> FileContent2[3471:3518] 'estions in a discussion forum ob' --> 'isites ok and this\\npre requisites are should ha'\n",
            "equal     test_string[1272:1273] --> FileContent2[3518:3519]      'v' --> 'v'\n",
            "replace   test_string[1273:1289] --> FileContent2[3519:3541] 'iously they are ' --> 'e preferably should ha'\n",
            "equal     test_string[1289:1291] --> FileContent2[3541:3543]     've' --> 've'\n",
            "replace   test_string[1291:1369] --> FileContent2[3543:4775] 'ry difficult then i will also participate and also they will be handling your ' --> ' some basic knowledge on basic\\nmaterial science that most of the students in methodology or material science normally\\nhave thermodynamics especially with thermodynamics functions and their relationships and then\\nsome idea about phase diagrams and diffusion ok\\nso ah i have already ah checked on different courses in nptel but by mean by different\\nperson is that there are some courses which are videos some courses which are web some\\ncourses which are massive open online so basic material science is already being taught by\\nsome faculty members thermodynamics is already being available and phase diagram i myself\\nwas develop a course nil just one year back diffusion is also partly taught so therefore\\nyou can actually ah clear your doubts while reading these lecture ok ah this is the full\\nah rather all the description of the all the lectures ok i dont know whether everything\\nis coming in this scheme or not but any way most important thing is that we are going\\nto talk about some very ah at the beginning where we going to talk give you some idea\\nabout free energy because that is the thermodynamic part of the phase diagram so we will show\\nyou the calculation of delta g of various transformations ok then we will talk about\\n'\n",
            "equal     test_string[1369:1371] --> FileContent2[4775:4777]     'qu' --> 'qu'\n",
            "replace   test_string[1371:1405] --> FileContent2[4777:4952] 'estion paper and grading so mit as' --> 'ad derivative of interfaces interfaces means liquid solids gren gren interface interface\\ninter phase interfaces this are all parts of thermodynamics\\nthen you have to go in to '\n",
            "equal     test_string[1405:1406] --> FileContent2[4952:4953]      'k' --> 'k'\n",
            "replace   test_string[1406:1422] --> FileContent2[4953:5165] ' will be to deli' --> 'inetics thats the nucleation because nucleation is what the\\nstarting point of phase transformations so therefore theorem nucleation homogeneous heterogeneous\\nnucleation and nucleation on the surfaces grains and e'\n",
            "equal     test_string[1422:1424] --> FileContent2[5165:5167]     've' --> 've'\n",
            "replace   test_string[1424:1517] --> FileContent2[5167:5193] 'r all the lectures and then this will be uploaded int tan putal website so that you can obser' --> 'n clan corners gen edges e'\n",
            "equal     test_string[1517:1519] --> FileContent2[5193:5195]     've' --> 've'\n",
            "replace   test_string[1519:1555] --> FileContent2[5195:5296] ' and read or position or learn whate' --> 'ry\\nwhere it will be dealt with as you know nucleation itself is the subject so there that we must\\nbe '\n",
            "equal     test_string[1555:1558] --> FileContent2[5296:5299]    'ver' --> 'ver'\n",
            "replace   test_string[1558:1567] --> FileContent2[5299:5319] ' me whate' --> 'y ah you know you ha'\n",
            "equal     test_string[1567:1569] --> FileContent2[5319:5321]     've' --> 've'\n",
            "replace   test_string[1569:1587] --> FileContent2[5321:5369] 'r way you can thin' --> ' to very careful about what you are going to tal'\n",
            "equal     test_string[1587:1597] --> FileContent2[5369:5379] 'k about it' --> 'k about it'\n",
            "replace   test_string[1597:1632] --> FileContent2[5379:5409] ' nowadays also there is another pro' --> 's\\ni wont be able to tell you e'\n",
            "equal     test_string[1632:1633] --> FileContent2[5409:5410]      'v' --> 'v'\n",
            "replace   test_string[1633:1654] --> FileContent2[5410:5443] 'ision all my lectures' --> 'ery details of the nucleation but'\n",
            "equal     test_string[1654:1664] --> FileContent2[5443:5453] ' whatever ' --> ' whatever '\n",
            "replace   test_string[1664:1673] --> FileContent2[5453:5658] 'i am spea' --> 'element we will\\ndiscuss then we are going to start the first of the phase transformation that is on solidification\\nas you see here solidification is a liquid to solid phase transformations then we will\\ntal'\n",
            "equal     test_string[1673:1674] --> FileContent2[5658:5659]      'k' --> 'k'\n",
            "replace   test_string[1674:1694] --> FileContent2[5659:5700] 'ing will be again ta' --> ' about growth during different aspects li'\n",
            "equal     test_string[1694:1696] --> FileContent2[5700:5702]     'ke' --> 'ke'\n",
            "replace   test_string[1696:1722] --> FileContent2[5702:6485] 'n down or written by some ' --> ' thermal activated growth interface controlled\\ngrowth diffusion controlled growth thats why you need to know as well as coupled growth\\nand you take to array you take the transformation then we will talk about little bit about transformation\\nkinetics in terms of different models johnson mehl and avrami models and some amount of\\ngas thermal phase transformations then we will simply go on to different solid phase\\ntransformations like precipitation recrystallisation martensitics spinodal decompositions and we\\ntalk about isothermal and continuous transformations thats itself will be sufficient enough to\\ncall off thirty lectures ok\\nso ah this is important that you know what we are going to be taught at the beginning\\nso that you can prepare yourself so we are going to ah follow e'\n",
            "equal     test_string[1722:1723] --> FileContent2[6485:6486]      'x' --> 'x'\n",
            "replace   test_string[1723:1776] --> FileContent2[6486:6700] ' parts so we are in the process of finding out those ' --> 'actly the same way things\\nare given on the right side i have also listed down number of lectures will be spent on each\\ntopic now comes in very important aspects because in a massive open online course you\\nwill be e'\n",
            "equal     test_string[1776:1777] --> FileContent2[6700:6701]      'x' --> 'x'\n",
            "replace   test_string[1777:2029] --> FileContent2[6701:6710] ' parts for my earlier course and phase transformation materials similarly weill willl do it for you also so that you do nt need to listen you can actually read all these lectures nones so before that happens you are going to only listen this lectures a' --> 'posed to '\n",
            "equal     test_string[2029:2030] --> FileContent2[6710:6711]      'v' --> 'v'\n",
            "replace   test_string[2030:2078] --> FileContent2[6711:6781] 'ailable on the imperial form and also you can as' --> 'ideo lectures or the online lectures you must have some amount of you\\n'\n",
            "equal     test_string[2078:2079] --> FileContent2[6781:6782]      'k' --> 'k'\n",
            "replace   test_string[2079:2080] --> FileContent2[6782:8444]      ' ' --> 'now text book knowledge so therefore two important text books which are carried from\\nour library ah is this first one which is which is here is written on that is phase\\ntransformation in metals and alloys classic text book by d a porter and k e easterling\\nand the recent edition also has come with a new author are all the problems are solved\\nmr ah doctor m y sherif this is available in india not very expensive book you can read\\nthat and the other book is written by two of my past colleagues although i have never\\nmet them but though are iit kanpur this book is phase transformations in materials and\\nby professor a k jena and professor m c chaturvedi both were at iit kanpur\\nso ah when this books written there there were ah jena was in kanpur ok so this two\\nbooks will be a basic text book for the course and anyone any of these books will be good\\nfor you you can by this books or you can actually copy from different libraries in the in the\\ndifferent parts of the book you can copy from different libraries or if you if you want\\nyou actually even ah you know get by that on different online stores correct so thats\\nabout the basic part of the course i think before i could move on to the next portion\\nof my ah lecture why the phase transformation is delivered let me tell you you will be given\\nah assignments on every week and i think assignments are normally uploaded on thursday and because\\nmonday wednesday monday to wednesday will be exposed to the lectures and after that\\nyou will be i will be ah my t s will be uploading the assignments and you will be given about\\none weeks time to complete the assignments because assignments will be online so the\\n'\n",
            "equal     test_string[2080:2090] --> FileContent2[8444:8454] 'questions ' --> 'questions '\n",
            "replace   test_string[2090:2167] --> FileContent2[8454:8546] 'in the discussion forum and so that s about it and their similar doses are gi' --> 'will be ah multiple choice type or may be fill fill in the blanks type as\\nassignment will ha'\n",
            "equal     test_string[2167:2169] --> FileContent2[8546:8548]     've' --> 've'\n",
            "replace   test_string[2169:2176] --> FileContent2[8548:8678] 'n and i' --> ' a weightage of fifty percent weightage and at the end of this semester\\nyou will be taking an end some exam and we are planning to'\n",
            "equal     test_string[2176:2182] --> FileContent2[8678:8684] ' have ' --> ' have '\n",
            "replace   test_string[2182:2196] --> FileContent2[8684:8807] 'carefully remo' --> 'it online so far if i\\ndont change my decisions or something else is happens otherwise it will be online and\\nthat will be ha'\n",
            "equal     test_string[2196:2197] --> FileContent2[8807:8808]      'v' --> 'v'\n",
            "replace   test_string[2197:2252] --> FileContent2[8808:9153] 'ed the phone numbers because this is why things become ' --> 'ing a fifty percent weightage\\nalthough ah i am not keeping any pass marks for this course but you can interdentally\\nconsider if you are getting less than about say thirty percent of the marks then you will\\nnot be able to pass this course and those who will be successfully completing this course\\nby taking exams and getting good marks will be gi'\n",
            "equal     test_string[2252:2254] --> FileContent2[9153:9155]     've' --> 've'\n",
            "replace   test_string[2254:2289] --> FileContent2[9155:9236] 'ry difficult to handle so if you ha' --> 'n certification from the nptel as you\\nknow so that way i expect that you will be '\n",
            "equal     test_string[2289:2291] --> FileContent2[9236:9238]     've' --> 've'\n",
            "replace   test_string[2291:2296] --> FileContent2[9238:9630]  ' any ' --> 'ry serious learner and you will be also\\nable to solve this problems if incase you have difficulties you can always discuss you\\ncan always use the discussion forums or you can write emails you can always bring it to\\nthe ah instructor all the t s so that we can make it clear to you thats very important\\nbecause unless and until you know the things very well you will not be able to answer the\\n'\n",
            "equal     test_string[2296:2306] --> FileContent2[9630:9640] 'questions ' --> 'questions '\n",
            "replace   test_string[2306:2316] --> FileContent2[9640:9687] 'you can as' --> 'now ah in the next few slides i am going to tal'\n",
            "equal     test_string[2316:2318] --> FileContent2[9687:9689]     'k ' --> 'k '\n",
            "replace   test_string[2318:2325] --> FileContent2[9689:9802] 'them as' --> 'about what are the relevance\\nof phase transformation materials development then why do you study in any course i '\n",
            "equal     test_string[2325:2326] --> FileContent2[9802:9803]      'k' --> 'k'\n",
            "replace   test_string[2326:2382] --> FileContent2[9803:10012] ' me also or you can put it on the discussion former you ' --> 'now\\nthat many of you do not exposed by the instructor in the same way you must have an idea why\\nyou are studying this course what is the need well phase transformation is as i said is\\nrepresented environment o'\n",
            "equal     test_string[2382:2383] --> FileContent2[10012:10013]      'k' --> 'k'\n",
            "replace   test_string[2383:2389] --> FileContent2[10013:10034] 'now li' --> '\\nthis slide i have ta'\n",
            "equal     test_string[2389:2391] --> FileContent2[10034:10036]     'ke' --> 'ke'\n",
            "replace   test_string[2391:2412] --> FileContent2[10036:10252] ' any things in life e' --> 'n from the literature you know thats what i am going to answer to\\nyou why study phase transformation material science ok you know what we are actually we\\nlook material for the application in in any case finally we ha'\n",
            "equal     test_string[2412:2414] --> FileContent2[10252:10254]     've' --> 've'\n",
            "replace   test_string[2414:2432] --> FileContent2[10254:13457] 'ry course as an ob' --> ' to think our application\\nunless and until this material is applied engineering point of view we dont find any\\nreason to study scientific point of view one can study so application means we must know\\nthat properties all kinds of properties so there is a physical mechanical electronic\\nelectrical magnetic depending on the applications so property or properties of a material is\\nare estimated very very rigorously to find an potential applications this is true for\\neven a new materials when its developed so now question is this properties as i said\\nmechanical chemical electrical magnetic thermal you can even list on many more properties\\nof the material depends on structure and thats why actually real problem comes structure\\nhas land scape you can simply say atomic structure atomic structure is the smallest structure\\nyou can think about it atom and nucleus infact that is what dictates most of the properties\\nare to material but that is not all that is what in to this is what you must know very\\nclearly thats not all\\nso structure means it can be atomic structure molecular structure grain structure phase\\ntrans distribution and defects ok so we have basically i have listed down from the bottom\\nup the atom is smallest theses and then we have grains and other things so you must have\\ni am stressing again you must have an good idea about this structures to correlate with\\nthe properties because it is important that the properties are primarily dictated by the\\nstructure so if i know the structure i can dictate the properties so you got the correlation\\nright ah very logically speaking we made materials rather we use processing techniques to make\\nmaterials and this processing techniques allow you to control structure processing technique\\nmeans what you can start with the liquid and solidify that is what is solidification you\\ncan start with the metal piece deform by rolling forging exclusion whatever different means\\nso you actually process or you can actually deposit thin film you can actually you surface\\ntreatment techniques many things we do in the real ah now processing of materials they\\nhave a direct connection with this structure\\na structure has a direct link with the properties so as you see here these actually are variables\\nfor the processing temperature pressure or stress strain or volume and chemical composition\\nfor the alloys you can change chemical composition by making different alloys so these are my\\nvariables in processing and by applying these variables or combination of variables i generate\\nor i make materials and manufacture materials and this processing variables controls the\\nstructure and structure controls the properties so therefore these three are linked very clearly\\nthey are linked they are not separate or they are not independent things they are connected\\nto each other these are the of these three important pillars of material science processing\\nstructure and property but finally where to we look for finally we look for what is known\\nas performance if you are studying in a course syllabus in a course you are finally evaluated\\non performance similarly materials are evaluated in terms of performance if i put a tire in\\nyour car that means the ma'\n",
            "equal     test_string[2432:2433] --> FileContent2[13457:13458]      'j' --> 'j'\n",
            "replace   test_string[2433:2436] --> FileContent2[13458:13505]    'ect' --> 'or performance is the tire should be able to dr'\n",
            "equal     test_string[2436:2440] --> FileContent2[13505:13509]   'ive ' --> 'ive '\n",
            "replace   test_string[2440:2452] --> FileContent2[13509:16534] 'and this sub' --> 'the take\\nthe car from one place to another without any problems but you know tires should vary\\nfrom a some ah are twin tire in the in the foreign countries in the the eyes tire which\\nwill travel on are different\\nso that means performance indeed are actually connected to all these three things processing\\nstructure and the properties and that is what is important this chart which is very famous\\nin material science you will find in many books is known as the material tetrahedron\\nbecause they are actually looks like a tetrahedron so finally where does the phase transformation\\ncomes it is in the structure we modify the structure we modify the atomic structure we\\nmodify grain structure we modify the various by phase transformation so therefore phase\\ntransformation are directly linked with processing and also indirectly connected with the properties\\nand thats why it is a very important course in the material science engineering you must\\nunderstand that without knowing the or phase transformations you cannot control material\\nproperties ok\\nso ah phase transformation or phase equilibria or thermodynamics is the basis for understanding\\na material response to change in temperature pressure composition i must accept this is\\nslide i have taken from web this is not mine thus the critical link between processing\\nand microstructure requires a knowledge of the relevant thermodynamics principles and\\nthey are the basis for phase transformations so you understand now why we are actually\\nstudying the phase transformations ok now question is this can i relate it to real applications\\ni have taken four applications again i taken from the internet sites first one is in air\\nplane ok air plane is the very important ah mode of transport from one part of the world\\nto other part and you know the material which is used in the air plane is an aluminum copper\\nalloy if you dont know you can actually check on the books this is the classical alloy aluminum\\nfour point five to four point seven percent copper known as dual lumen in the in the trend\\nname and this is a very stable alloy from forty five degree celsius to minus sixty five\\ndegree celsius or even minus eighty degree celsius i dont know how many of you read news\\nthat there is a research laboratory in the southern hampshire that is in hm antarctica\\nand sometimes if somebodies yield in the research laboratories in winter time they are actually\\ntaken from that place by plane to the the different country especially in southern america\\nand such parts but it will be extremely cold minus sixty to minus eighty degree celsius\\ntemperature so a plane flying there the material has to be stand such a low temperature\\nso this wonderful material which is prepared long back is used for the plane body and important\\nphase transformation which is happening here is a precipitation of certain phase in aluminum\\nalloys and this precipitates provide the strength from high to low temperature if you travel\\ncarefully on the planes you will find especially in the wings deviated '\n",
            "equal     test_string[2452:2453] --> FileContent2[16534:16535]      'j' --> 'j'\n",
            "replace   test_string[2453:2457] --> FileContent2[16535:16550]   'ecti' --> 'oin and this de'\n",
            "equal     test_string[2457:2458] --> FileContent2[16550:16551]      'v' --> 'v'\n",
            "replace   test_string[2458:2468] --> FileContent2[16551:16565] 'e has to b' --> 'iated\\njoins ar'\n",
            "equal     test_string[2468:2475] --> FileContent2[16565:16572] 'e very ' --> 'e very '\n",
            "replace   test_string[2475:2646] --> FileContent2[16572:16688] 'clear before you start a course president course actually we ill deal with basic surface transformations and materials as i said in in my introduction radio already you ha' --> 'strong and low temperatures because of the precipitation so we are going\\nto discuss about that ah next one which is '\n",
            "equal     test_string[2646:2648] --> FileContent2[16688:16690]     've' --> 've'\n",
            "replace   test_string[2648:2692] --> FileContent2[16690:17370] ' seen probably that past transformation is e' --> 'ry important on the right side is air turbine\\nbasically it can be used in the plane the high speed plane or in when in power generators\\nand they contained nickel based super alloys this wonderful material this is nickel aluminum\\nalloy with consisting of many other elements which i will not discuss in detail now but\\nagain the real high temperature properties because this this is turbine so thereforth\\nthis has to be instant high temperature high temperature properties equi based properties\\nof this material is basically because of precipitation of n i three a l type l one to precipitates\\nwhat we known as in a nickel matrix fcc matrix and this unique precipitates actually pro'\n",
            "equal     test_string[2692:2693] --> FileContent2[17370:17371]      'v' --> 'v'\n",
            "replace   test_string[2693:2718] --> FileContent2[17371:17435] 'eryuler present in the en' --> 'ide\\nthe strength ok the thats thats that means precipitation is '\n",
            "equal     test_string[2718:2719] --> FileContent2[17435:17436]      'v' --> 'v'\n",
            "replace   test_string[2719:2747] --> FileContent2[17436:17542] 'ironment whether you are tal' --> 'ery important aspect to\\nunderstand so thats what is will be part of silvers\\nthen on this side left side i '\n",
            "equal     test_string[2747:2748] --> FileContent2[17542:17543]      'k' --> 'k'\n",
            "replace   test_string[2748:2794] --> FileContent2[17543:17634] 'ing about metals ceramics payments or your tal' --> 'now may be your right this is the rails which is used\\nto as a phi splay on the railway trac'\n",
            "equal     test_string[2794:2795] --> FileContent2[17634:17635]      'k' --> 'k'\n",
            "replace   test_string[2795:2961] --> FileContent2[17635:17720] 'ing about real life whose transformations present but how do we deal is phase transformation that is wha w will be taught because thats what is important in your ende' --> 's this actually steels basically the steel of perlite\\nwhat you known as if you dont h'\n",
            "equal     test_string[2961:2963] --> FileContent2[17720:17722]     'av' --> 'av'\n",
            "replace   test_string[2963:3057] --> FileContent2[17722:17861] 'or to learn phase transformations so using these three things one is your o thermodynamics tin' --> 'e any idea perlites perlite is nothing but a utech transform\\nproduct of gamma solution of carbon in iron and so therefore you must you must'\n",
            "equal     test_string[3057:3059] --> FileContent2[17861:17863]     ' k' --> ' k'\n",
            "replace   test_string[3059:3110] --> FileContent2[17863:18401] 'inetics and some basic aspect of material sensil li' --> 'now how\\nthis transformation happens whether we can control it because the properties of the rail\\ndepends on that and remember rail is is ah what is allow you to allowing us to move trains\\nso therefore they are they are subjected to stress temperature harsh environment and many\\nother things so they must have combinations of properties so that they can start the purpose\\nand these is basically done by controlling the phase transformations on the right side\\nthis is the end the last example is basically the titanium based align engines o'\n",
            "equal     test_string[3110:3111] --> FileContent2[18401:18402]      'k' --> 'k'\n",
            "replace   test_string[3111:3168] --> FileContent2[18402:18616] 'e crystal structures and interfaces we are going to study' --> ' remember\\nthis engines are not used in car they will be used in planes or may be in some other\\nstrategic applications like ah turb hm like the submarines and so\\nso these engines actually has many plus like titanium'\n",
            "equal     test_string[3168:3171] --> FileContent2[18616:18619]    ' va' --> ' va'\n",
            "replace   test_string[3171:3193] --> FileContent2[18619:20361] 'rious solid o solid an' --> 'lves titanium mmcs springs titanium\\nmnc cramsups many others things springs and there are titanium aluminites you know titanium\\nout of these all thirteen m alloys the most important alloy which is extensively used\\nin titanium sixth aluminum four vanadium and it it we can control the micro structure of\\nthese by many ways creating alpha titanium alpha plus beta titanium beta of titanium\\nalloys so ah the properties will vary depending on whether its alpha alpha plus beta alpha\\nor beta remember alpha is hexagonal prospect structure beta is bcc structure so titanium\\nactually ah room temperature below what to eight hundred eighty two degree celsius temperature\\nis basically alpha above that it is a this i mean bcc structure so one can actually play\\naround in the temperature zone by again controlling the prosaic parameters to create different\\nkinds of structures to get different properties\\nso all these applications dont think that they are similar alpha alloys or beta alloys\\nalpha plus beta alloys they can be combination of many of these then the actual real problem\\nis how do i control this micro structures by controlling the processing parameters so\\nremember these four examples are not exhausted one can find many many examples in the real\\nlife as i told you in my first introduction lectures the basic example you always find\\nis in the country india when hot summer days you want to drink cold water so you can always\\nput the cold water inside the fridge and get it cooled but it is real advantage is that\\nif i take a glass of water and add a ice cube taken from the deep freezer immediately the\\nice cube will start melting it down or getting dissolved in the water both are actually h\\ntwo o one is solid h two o and the other is'\n",
            "equal     test_string[3193:3201] --> FileContent2[20361:20369] ' liquid ' --> ' liquid '\n",
            "replace   test_string[3201:3237] --> FileContent2[20369:20512] 'to solid phase transformation as we ' --> 'h two o\\nso therefore by melting it down the heat is getting transferred to the liquid and then\\nthe water gets cool down you will enjoy the drin'\n",
            "equal     test_string[3237:3238] --> FileContent2[20512:20513]      'k' --> 'k'\n",
            "replace   test_string[3238:3251] --> FileContent2[20513:20729] 'now this is a' --> 's so this is the example which is present\\nwhich you are actually doing it but what is important you for you to understand how these\\ntransformation happened how these solid become liquid liquid become solid whether is'\n",
            "equal     test_string[3251:3253] --> FileContent2[20729:20731]     ' v' --> ' v'\n",
            "replace   test_string[3253:3260] --> FileContent2[20731:20859] 'ast sub' --> 'ery\\nsimple or no remember what is from the most complex systems in the world and no unlike\\nmetal like more complex so ah let me '\n",
            "equal     test_string[3260:3261] --> FileContent2[20859:20860]      'j' --> 'j'\n",
            "replace   test_string[3261:3271] --> FileContent2[20860:21007] 'ect and co' --> 'ust stop here before i go to the next part of\\nthe lecture or the next class so you understand in a nutshell that phase transformation is\\nbasically '\n",
            "equal     test_string[3271:3274] --> FileContent2[21007:21010]    'ver' --> 'ver'\n",
            "replace   test_string[3274:3327] --> FileContent2[21010:21040] 'ing that in thirty lectures is not an easy task so ob' --> 'y important from the perspecti'\n",
            "equal     test_string[3327:3328] --> FileContent2[21040:21041]      'v' --> 'v'\n",
            "replace   test_string[3328:3375] --> FileContent2[21041:21448] 'iously we must be selected we cannot teach you ' --> 'e of material science and technology and many\\nof these products which you are actually using these their properties are controlled by controlling\\nphase transformations we can do that by using different processing parameters temperature\\nstress strain compositions and by doing that we alter them micro structure the atomic structure\\nand by doing that you will create a different properties so that is the rel'\n",
            "equal     test_string[3375:3377] --> FileContent2[21448:21450]     'ev' --> 'ev'\n",
            "replace   test_string[3377:3472] --> FileContent2[21450:21532] 'erything and to learn everything you need to have some basic idea what i put it as course perri' --> 'ance of phase\\ntransformation course and which will be exposed to in the next subse'\n",
            "equal     test_string[3472:3474] --> FileContent2[21532:21534]     'qu' --> 'qu'\n",
            "replace   test_string[3474:21064] --> FileContent2[21534:21546] \"icite ok at this peracuosit ar you should have peperabil skuld up some basic knowledge on basic material science that most of the students in metallurgy or material sense normally have thermodynamics especially the thermionic functions and their relationships and then some idea phase dicoms and diffusion ok so i have already checked on different portions o wa in steal but y mean wy different person is that there are some correa video or some constitute wave some houses which are massive open calling so basic material sense is already been taught by some fecal numbers thermodynamics has already been available and phase ther ommi manself has develop a course and thrill just one yar back decision is also piracy taught so therefore you can actually clear your doubts by while reading these lecture ok this is the full whether all the description of the all the lectures ok i down know whether everything is coming in the scene or not but anyway most important thing is that we are going to talk about some very at the beginning we are going to talk give you some idea about fee eng because that is a therbonanis part of the phase diagram so we will show you the calculation of delta g of various transformations ok then we will talk about quite a bit of interfaces interfaces means liquid sal is solid solid grain grain interface interface interfaeinturfaces these are all parts of with thermodynamics then we have to go into kinetics thats the insulation because nuclation is why the starting point of phase transformations so therefore theory of escalation howmoteou between eculations and circulation on the surface is grains and even cen corner gen s everywhere it will be dealt with and assume yoon recession itself a subject so there therefore must be a very an now we have to be very careful about what you are going to talk about it i wonlt be going to tell you every details of the circulation but whatever relevant we will discuss then we are going to start the first of the fist transfertion that is om solidification as you see here justification is an liquid to solid phase transformations then we will talk about growth during different aspects like thermal activated god interface control go efficient control go that's why you need to know and cassel as couple go then you take toeutectric transformations then we will talk about little bit about transformation kinetics in terms of there model con enamel and aroma models and some amount of te thermal phase transformations then we simply go on to different soi to somalia transforsioni presipitations realize and satisfies spinagtal dey compositions and a wit about sutherland continuous transformations that itself will be sufficient and ap to cover tatilectures ok so this is important that you know what you are going to be taught at the beginning so that you can prepare yourself so we are going to follow exactly the same way things are given and the right side i have also related down number of lectures will be spend on each topic now comes in very important aspects because in the massive open calling course you will be exposed to radio lectures or the ali lectures you must have some amount of you know textbook knowledge so therefore two important texbook which i have carried from our library is this first one which is which is here is written on that is phase transformation in metals and alloys classic textbook by d a porter and k is telling and the recant addition also has come with a new author all the problems ol solved by mister sector am ship this is available in india not very expensive book you can read that and the other book is written by two my past colleagues although i have never met them but they are ita anpol this book is pase transformation is in materials and by professor ak gene and prime m cso therapy both er i tecanpuo so when these books are written there all therefore gena was in consul ok so these two books will be your basic textbooks for the course and anyone any of these books will be good for you you can buy these books or you can actually copy from different liability in the different parts of the books can copy from different libraries or if you if you want you can actually even now get buy that on different online stores current so thais about the basic part of the courseading before i could move onto the next portion ow my lecture why the pac transfer sale wet let me tell you you will be given assignments in every week and i think assermenstion normally uploaded on thursday and because monday genus t mandatory etness stay will be exposed to the lectures and after that you will be i will be or my t sh willl be uploading the assessment and you will be given bout one weeks time to complete the assignments because assignments ole alpine so the questions would be multiple choice type or may be feeling fill in the blank stipe as a segment wo levo it is a fifty percent vantage and at the end of this semester you will be taking an nsa exam and we are planning to have it anlline so far if i do not change my decisions or something else happens other isity pearl line and that will be having a fifty percent vertage although i am not keeping any pass marks of this course but you can tentatively consider if you are getting less than about say thirty percent of the marks then you will not be able to pass this course and those who will be successfully completing this course by taking exams and getting good marks will be given modification from the imperial as you know so that way i expect that you will be very serious planner and you will be also able to solve this problems if a in case you have difficulties you can always discuss we can always use discussion for or you can write emails you can always bring it to the instructor all the t s so that we can make it clear to you thats very important because understand you know the things very well would not be able to answer the questions now in the next few slides i am going to talk about what ar relevant sof face transformation materials eelonment and why do you study in any course i know that many of you do not expose by the instructor in the same way you must have an idea why you are studying this course what is the need well phase transformation assisi is presented environment ok the slide i have taken from literature ou ome that is what i am going to answer to you why study phase transformation material science ok you know what wearin actually we look materials for the application in any case finally we have to think of application unless atlantis mater is applied engineering point of view we do nt find any reason to study student loan to give one can stand so application means we must know the properties all kinds of of part so there is a physical mechanical electronic electrical magnetic depending on the applications so property property sola material is are estimated very very regularly to find and potential applications this is two probe new material when it is developed so now question is this popular as i say mechanical chemical electrical minity thermal you can evenly stand miny more properties of the material depends on structure and thats why actual legal problem come structure has length scale you can simply say atomic structure at min structure is the smallest structure you can think about it atom and nucleus in fact that is why decades one sole propadisiofto material but that is not all that is what in so this is wha you must know very clear that is not all so structure means it can be atmix structure molecular structure grain structure phase as distribution and defects ok so we have basically have listed down from the bottom of atom is the small species and then we have grains and other things so you must have i am stressing again you mast tem end go a good idea about thes structures to colulate to the properties because it is important that the properties are primarily dictated by this structure so if i know thes texture i can vector the properties so you got the coalition right a very logically speaking we make materials whether we use processing techniques to make materials and these processing techniques allow you to control structure processing technique means what you can start with he liquid and solidify that is why the solidification you can start with a metal piece deform by rolling force situation whatever referent means so you actually process or you connection deposits tin flame you can actually use surf statement techniques many things we do in the real app now processing of materials they have a direct connections with a structure and tractor as a direct link with the properties so as you see here these actually are variables for the processing temperature pressure o stress strain or volume and chemical compassion for the aways you can change chemical cooperation by making different allays so these are my variables in processing and by applying these variables communication variables i generator mi make materials or manufacturing materials and these processing variables control the structure unstructured controller properties so there therefore these three are linked very clearly they are linked they are not separate or they are not independent things they are connected to each other t these are the bridges of these three important pillars of material science processing structure an property but finally what we look for finally we look for what is known as performance if yo war you are studying in a co slams in a course we are finally a holelotingal performance similarly materials are slated in terms of performance if i put a tyre in our car that means the major performances that i should be able to drive the take the car for one place to the place without any problems what you know tires will carry from a summer to winter in the in the point countries and ice the tires which will travel n ic t are different so that means performance indeed are actually connected to all these three things processing structure and the properties and that is what is important this chart which is very famous in material science youwill find in many books is known as the material statehydron because they i actually looks like it ha tri so finally where does the rise transformation comes it is in the structure we modify the structure we modify the atomic structure wo spotify the grain structural modified the phases phase transformations so therefore phase transformations a direct link wofh the procession and also indirectly corrected with the properties and thats why it is a very important course in the material ens engineering you must understand that without knowing the phase transformations you cannot control material properties ok so phase transformation phericallibeof thermodynamics is the basis for understanding a material response to change in temperature pressure composition i must accept this is slide i have taken from way this is not mine thus the skeptical link between processing and microstructure requires an knowledge of the relevant thermodynamic principles and they are the basis force phase transformation so you understand now why we are actually studying the phase transformations ok now question is this can i relate in the real applications i have taken four application again fly taken from the internate sites first one is an airplane ok air plane is a very important mode of transport from one part of the wall to the other plant and you know the material which is used in the airplane is an aluminum cover alloy if you do not know you can actually take on the books there is a classical alloy eleven a four point five to four point seven percent copper known as develumin in the in the training and this is a very stable ally from forty five deee celsius to minus sixty five u cello or even minus a t ti cell i don t know how many of you prate new stat there is a desire laboratory in the southern hemisphere that is in antarctica and sometimes if somebody is ill in the decided laboratories in winter time they are actually taken from that place by plane to template the the different content especially in south america or sub parts but it will be extremely cold minus sixties to minus eighty dege sel system pressures so a plane flying there the material has to withstand such a low temperature so ther this one nude material which is prepared long back is used for the plane body and important phase transformation which happening here is a precipitation of certain phase in aluminum alas and these precipitate provide the strength from high toonar temperature if you travel carefully on the planes you will find especially in the wings revered joints and these related joints are very strong at low temperatures because of the precipitation so we are going to discuss about that the next one which is very important the right side is a turbine basically it can be used in the plane the high squid plane or invent in pow generators and they contained nickel by supervise is wonderful material is a nickel aluminum alloy with consisting of many ou elements which i will not discuss in detail now but again the real high temperature properties because this this is a turbine so therefore this has to island high temperature high temperature properties cubiastane properties of this material is basically because of precipitation of a i three a type l one to precipitates what you known as in a nickel matrix entries matrix and these unique precipitate actually provide the strength ok the thus that that means the pestipretation is very important aspect to understand so that s why is will be part of a sullivan then on the side left side or you know may be right this is the rails which is used to as a fist plate on the relay tracks these action steels basically ther steel of parallel what do we known as if you do not have any idea of parallels finite is nothing but a eu theoretically transform product of gamma solisulation of carbon in iron and so therefore you must we must know how this transformation happens whether can you control it because the properties of the rail depends on that remember ral is is what is allowing you to alon us to move trains so therefore they are they are subjected to strains temperature harsher movement and many other things so they must have combinations of properties so that they can serve the purpose and these is basically done by controlling the phase trans motions on the right side this is the end the fast example is basically the titanium based ally engines ok remember these engines are not used in car they will be estingused in the planes or maybe in some other static applications like ter like the submarines or so so these engines actually has many plaslect itanium valves tha dineam mmc is pins that imam c cranks ups many other things springs and they are fighting luminaries you know titanium out of thes all thatinamalise the most important allo which is extensively used is titanium six aluminium pole vanadium and it it we can control the manchester of these by mini ways creating alphalatonium also plus belted titanium metou taking alloys so the propertisill vary depending on whether its alpha so plus petal p meter re alpha is xamo pro spect structure meta is which is in structure so uranium actually a room temperature below what to eight hundred eighty two dea cel system pressure is basically alan above there in is n t is king mec c structure so one can i actually play around in the temperature jone why again controlling the posting parameters to create different kinds of structures to get different properties so all these application dont think that they are all similar alparallits or metals ofopenit always they can be combination so many of these then the actual real problem is how do i control these microstructures by controlling the processing parameters so member these four examples are not exhaustive one can find many many examples in real life as i told in my first introduction lectures the basic example we always find is in in in country like india in the hot summer day you want to drink cold water so you can always put the quarter inside the fringe and get it cooled but it is real advantage is that if i take a glass of water and add a ice cube taken from the dee return imedially the ic squee will start melting it down or getting dissolved in the water both a actually i tw o one is solid i tu or is a liquid issue so therefore by melting it down the heat in getting transfer to the liquid and then the water gets cooled down you enjoy the dring so this is the example which is present which we are actually doing it but what is important nou for you to understand how this transformation happens how the solid become liquid liquid become solid whether is very simple unknown reimer what is one of the most complex systems in the wild i m a unlike metal thes are more complex so let me just stop here before i go to the next part of the lecture or the next class so you understand in a natal that phase transformation is basically very important from the perspectives s of material science and technology and many of these products which you are actually using thes the properties are controlled by controlling phase transformations we can do that by using different housing parameters temperature stay strain composition and wy doing that we alter the microstructure the atmix structure and by doing that you are creating different properties that is the relevance of face information course and which you will be exposed to the next subsequent lectures \" --> 'ent lectures'\n"
          ],
          "name": "stdout"
        }
      ]
    },
    {
      "cell_type": "code",
      "metadata": {
        "id": "F2jt2cg8gv2e"
      },
      "source": [
        "def CountFrequency(my_list):\n",
        " \n",
        "    # Creating an empty dictionary\n",
        "    freq = {}\n",
        "    for item in my_list:\n",
        "        if (item in freq):\n",
        "            freq[item] += 1\n",
        "        else:\n",
        "            freq[item] = 1\n",
        " \n",
        "    for key, value in freq.items():\n",
        "        print (\"% s : % d\"%(key, value))\n",
        " \n"
      ],
      "execution_count": null,
      "outputs": []
    },
    {
      "cell_type": "code",
      "metadata": {
        "colab": {
          "base_uri": "https://localhost:8080/"
        },
        "id": "Cwckf-vSgv2e",
        "outputId": "5a56d41b-88c9-4fb3-e04e-72971175bc51"
      },
      "source": [
        "CountFrequency(listtt)"
      ],
      "execution_count": null,
      "outputs": [
        {
          "output_type": "stream",
          "text": [
            "equal :  66\n",
            "replace :  66\n"
          ],
          "name": "stdout"
        }
      ]
    },
    {
      "cell_type": "code",
      "metadata": {
        "id": "unuarNwkj5me"
      },
      "source": [
        ""
      ],
      "execution_count": null,
      "outputs": []
    }
  ]
}
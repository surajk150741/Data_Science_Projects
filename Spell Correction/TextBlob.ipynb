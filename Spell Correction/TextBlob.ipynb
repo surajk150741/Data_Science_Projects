{
  "nbformat": 4,
  "nbformat_minor": 0,
  "metadata": {
    "colab": {
      "name": "TextBlob.ipynb",
      "provenance": [],
      "collapsed_sections": [],
      "authorship_tag": "ABX9TyOIrUcyPVbUi4V23bDvH+pd",
      "include_colab_link": true
    },
    "kernelspec": {
      "name": "python3",
      "display_name": "Python 3"
    },
    "language_info": {
      "name": "python"
    }
  },
  "cells": [
    {
      "cell_type": "markdown",
      "metadata": {
        "id": "view-in-github",
        "colab_type": "text"
      },
      "source": [
        "<a href=\"https://colab.research.google.com/github/surajk150741/Data_Science_Projects/blob/main/Spell%20Correction/TextBlob.ipynb\" target=\"_parent\"><img src=\"https://colab.research.google.com/assets/colab-badge.svg\" alt=\"Open In Colab\"/></a>"
      ]
    },
    {
      "cell_type": "markdown",
      "metadata": {
        "id": "Yp-j2oonL2oJ"
      },
      "source": [
        "# Spell correction\n",
        "\n",
        "- To compare two given text documents for their similarity ratio.\n",
        "- To apply Textblob on Error_Version for corrected version and again calculating the similarity with the Error_Version."
      ]
    },
    {
      "cell_type": "markdown",
      "metadata": {
        "id": "QCPmtnl9Mdil"
      },
      "source": [
        "**Importing Data**"
      ]
    },
    {
      "cell_type": "code",
      "metadata": {
        "colab": {
          "base_uri": "https://localhost:8080/"
        },
        "id": "eo5vBuZska4E",
        "outputId": "1f41a1e2-d63c-48b3-f688-08540d6fa2dc"
      },
      "source": [
        "\n",
        "from google.colab import drive\n",
        "drive.mount('/content/drive')"
      ],
      "execution_count": null,
      "outputs": [
        {
          "output_type": "stream",
          "text": [
            "Mounted at /content/drive\n"
          ],
          "name": "stdout"
        }
      ]
    },
    {
      "cell_type": "code",
      "metadata": {
        "id": "ArcurD3gkxNy"
      },
      "source": [
        "t1 = open('/content/drive/MyDrive/Error_Version.txt','r')"
      ],
      "execution_count": null,
      "outputs": []
    },
    {
      "cell_type": "code",
      "metadata": {
        "id": "zGz303XPlKT6"
      },
      "source": [
        "t2 = open('/content/drive/MyDrive/Truth_Version.txt','r')"
      ],
      "execution_count": null,
      "outputs": []
    },
    {
      "cell_type": "code",
      "metadata": {
        "colab": {
          "base_uri": "https://localhost:8080/",
          "height": 35
        },
        "id": "OeiWcFqpselm",
        "outputId": "1a7b9e28-8e6d-46c8-d173-63b5e39abe23"
      },
      "source": [
        "t1.name"
      ],
      "execution_count": null,
      "outputs": [
        {
          "output_type": "execute_result",
          "data": {
            "application/vnd.google.colaboratory.intrinsic+json": {
              "type": "string"
            },
            "text/plain": [
              "'/content/drive/MyDrive/Error_Version.txt'"
            ]
          },
          "metadata": {},
          "execution_count": 4
        }
      ]
    },
    {
      "cell_type": "code",
      "metadata": {
        "colab": {
          "base_uri": "https://localhost:8080/",
          "height": 35
        },
        "id": "BI0oQVkLshgB",
        "outputId": "fd33e006-688a-479c-cfdb-61ee1c62dc5d"
      },
      "source": [
        "t2.name"
      ],
      "execution_count": null,
      "outputs": [
        {
          "output_type": "execute_result",
          "data": {
            "application/vnd.google.colaboratory.intrinsic+json": {
              "type": "string"
            },
            "text/plain": [
              "'/content/drive/MyDrive/Truth_Version.txt'"
            ]
          },
          "metadata": {},
          "execution_count": 5
        }
      ]
    },
    {
      "cell_type": "code",
      "metadata": {
        "colab": {
          "base_uri": "https://localhost:8080/",
          "height": 35
        },
        "id": "OLT6zvOVssu5",
        "outputId": "6c9f7428-5862-4957-ae5b-eb9af5bb57e9"
      },
      "source": [
        "t1.mode"
      ],
      "execution_count": null,
      "outputs": [
        {
          "output_type": "execute_result",
          "data": {
            "application/vnd.google.colaboratory.intrinsic+json": {
              "type": "string"
            },
            "text/plain": [
              "'r'"
            ]
          },
          "metadata": {},
          "execution_count": 6
        }
      ]
    },
    {
      "cell_type": "code",
      "metadata": {
        "colab": {
          "base_uri": "https://localhost:8080/",
          "height": 35
        },
        "id": "gPuAY-nVsvKp",
        "outputId": "64ab4b27-060b-49cf-c390-0638435f5b52"
      },
      "source": [
        "t2.mode"
      ],
      "execution_count": null,
      "outputs": [
        {
          "output_type": "execute_result",
          "data": {
            "application/vnd.google.colaboratory.intrinsic+json": {
              "type": "string"
            },
            "text/plain": [
              "'r'"
            ]
          },
          "metadata": {},
          "execution_count": 7
        }
      ]
    },
    {
      "cell_type": "code",
      "metadata": {
        "colab": {
          "base_uri": "https://localhost:8080/"
        },
        "id": "jkt-MT4us4hG",
        "outputId": "19b6af5d-e90d-40da-a87c-ceef761e215d"
      },
      "source": [
        "\n",
        "FileContent1 = t1.read()\n",
        "print(FileContent1)"
      ],
      "execution_count": null,
      "outputs": [
        {
          "output_type": "stream",
          "text": [
            "﻿the students let us start the first lecture of this course this is basically a anline course so therefore you need to be very clear about what you are going to learn and how yeu are going to be evaluated first of all this is a course on phase transformation in materials and i will be teaching all the lectures and it is a thirty lecture corse that means there will be sixte twenty five minutes lecture and every week w will be exposed to i am not sure now about four to six lectures so that means about two to three hours of lectures so myself is persummiswas and i am a faculty member at the department of material cense engineering opiitianpull so thuts the detals about me my email address is available on the screen you can dialaly write to me whenever you have any serious problems and in addition to that to handle the courseexams and also grading of your answer seets although i know this will be all done all line will be taken care by the teaching assistems so two my students they will be handling that so they are actually the main person who will be handling your questions to my right first one i cospo chospotivaris is my pey student and second one is res pa res mis also my pan i student so they will be handling all your questions in a discussion forum obviously they are very difficult then i will also participate and also they will be handling your question paper and grading so mit ask will be to deliver all the lectures and then this will be uploaded int tan putal website so that you can observe and read or orlition or learn whatever me whatever way you can think about it nowadays also there is another provision all my lectures whatever i am speaking will be again taken down or written by some x parts so we are in the process of finding out those x parts for my earlier course and phase transformation materials similarly weill willl do it for you also so that you do nt need to listen you can actually read all these lectures nones so before that happens you are going to only listen this lectures available on the empetrial form and also you can ask questions in the discussion forum and so that s about it and their imular deses are given and i have carefully removed the phone numbers because this is why things become very difficult to handle so if you have any questions you can ask them ask me also or you can put it on the discussion formok you know like any things in life every course as an objective and this subjective has to be very clear before you start a course sopresent course actually we ill deal with basic surface transformations and materials as i said in in my introduction vadio already you have seen probably that past transformation is everyuler present in the environment whether you are talking about metals ceramics polyments or youare talking about real life whase transformations present but how do we deal is phase transformation that is wha w will be taught because thats what is important in your eneavor to learn phase transformations so using these three things one is your o thermodynamics tin kinetics and some basic aspect of material sensil like cystal structures and interfaces we are going to study various solid o solid an liquid to solid phase transformation as we know this is a vast subject and covering that in thirty lectures is not an easy task so obviously we must be selected we cannot teach you everything and to learn everything you need to have some basic idea what i put it as course perriquicite ok at this peracuosit ar you should have peperabil seuld up some basic knowledge on basicg material science that most of the students in metallurgy or material sanse normally have thermodynnamics especially the thermonynic functions and their relationships and then some idear phase dicoms and diffusion ok so i have already checked on different portions o wa in pteal but y mean wy different person is that there are some corsea video or some costiture wave some couses which are massive open allline so basic meterial sense is already been taught by some fecal numbers thermodynamics has already been available and phase ther ommi manself has develop a course and thenill just one yar back deffision is also piraly taught so therefore you can actually clear your doubts by while reading these lecture ok this is the full whether all the resciption of the all the lectures ok i dowt know whether everything is coming in the schene or not but anyway most important thing is that we are going to talk about some very at the beginning we are going to talk give you some idea about fee eng because that is a therbonanis part of the phase diagram so we will show you the calculation of delta g of various transformations ok then we will talk about quite a bit of interfacces interfaces means liquid sal is solid solid grain grain interface interface interfaeinturfaces these are all parts of with theronynoamics then we have to go into kinetics thats the nuculation because nuclation is why the starting point of phase transformations so therefore theory of necclation howmoteou etegean eculations and nicculation on the surface is grains and even cen corner gen s everywhere it will be dealt with and assume youon ecleasion itself a subject so there therepory must be a very an now we have to be very careful about what you are going to talk about it i wonlt be goilg to tell you every details of the niculation but whatever relevant we will discuss then weu are going to start the first of the fist transfertion that is om solidification as youl see here sitification is an liquid to solid phase transformations then we will talk about growth during different aspects like thermal activated god interface control go efficient control go that's why you need to know and cassil as couple goe then you take toeutectric transformations then we will talk about little bit about transformation kinetics in terms of theeen model con enmel and aromi models and some amount of te thermal phase transformations then we simply go on to different soi to solitla transforsioni presipitations rectliz and matisides spinagtal dey comporitions and a wit about stermaland continuous transformations that itself will be sufficient and ap to cover tatilectures ok so  this is important that you know what you are going to be taught at the beginning so that you can prepare yourself so we are going to follow exactly the same way things are given ond the right side i have also eassted down number of lectures will be spend on each topic now comes in very important aspects because in the massive open allline course you will be exposed to radio lectures or the ali lectures you must have some amount of you know textbook knowledge so therefore two important texbook which i have carried from our libary is this first one which is which is here is written on that is phase transformation in metals and alloys classic textbook by d a porter and k is telling and the retant addition also has come with a new author all the poblems ol solved by mister sductor am srip this is available in india not very expensive book you can read that and the other book is written by two my past colleagues although i have never met them but they are ita anpol this book is pase ransformation is in materials and by propessor ak geni and prome m cso thropey both er i tecanpuo so when these books are written theyare all therwere gena was in conpul ok so these two books will be your basic textbooks for the course and anyone any of these books will be good for you you can buy these books or you can actually cofy from different liabilitin in the different parts of the booksyo can copy from different libraries or if you if you want you can actually even now get buy that on different online stores current so thatis about the basic part of the courseading before i could move onto the next portion ow my lecture why the pac transfer sale wet let me tell you you will be given assignments in every week and i think assermenstion normally uploaded on thursday and because monday wenus t mandayto etness stay will be exposed to the lectures and after that you will be i will be or my t sh willl be uploading the assenments and you will be given bout one wexks time to complete the assignments because assignments olme alline so the questions whould be multiple choice type or may be fieling fill in the blank stipe as a senment wo levo it is a fifty percent vatage and at the end of this semisster you will be taking an nsm exam and we are planning to have it anlline so far if i do not change my decisions or something else happens other isity peall line and that wwill be having a fifty percent vertage although i am not keeping any pass marks fof this course but you can tentitively consider if you are getting less than about say thirty percent of the marks then you will not be able to pass this course and those who will be successfully complating this course by taking examps and getting good marks will be given sadification from the inpetrial as you know so that way i expect that you will be very serious planner and you will be also able to solve thise problems if a in case you have difficulties you can always discuss we can always use discussion for or you can write emails you can always bring it to the instructor all the t s so that we can make it clear to you thats very important because understandly you know the things very well ouwod not be able to answer the questions now in the next few slides i am going to talk about what ar relevant sof face transformation materials eelonment and why do you study in any course i know that many of you do not expose by the instructor in the same way you must have an idea why you are studying this course what is the need well phase transformation assisiol is presented envoroment ok the slide i have taken from literature ou ome that is what i am going to answer to you why study phase transformation material science ok you know what wearin actually we look materials for the application in any case finally we have to think of application uness aantilis materi is applied engineering point of view we do nt find any reason to study stentii qoan to give one can stand so application means we must know the properties all kinds of of part so there is a physical mechanical electronic electrical magnetic depending on the applications so property proparti sola material is are estimated very very regarsly to find and potential applications this is two porbe new material when it is developed so now question is this poparti as i say mechanical chemical electrical minity thermal you can evenly stond miny more propariies of the material depends on structure and thats why actal leral problem come structure has length scale you can simply say atomic structure at min structure is the smallest structure you can think about it atom and nucleus in fact that is why detales one sonle propadisiofto material but that is not all that is what in so this is wha you must know very clear that is not all so structure means it can be atmix structure moleculor structure grain structure phase as distribution and defects ok so we have basically have listed down from the bottom of atom is the smalle species and then we have grains and other things so you must have i am stressing again you mast tem end go a good idea about thes structures to colulate to the properties because it is important that the properties are primarily dictated by this structure so if i know thes taxture i can vector the properties so you got the corelition right a very logically speaking we make materials whether we use processing techniques to make materials and these pocessing techniques allow you to control structure processing techninue means what you can start with he liquid and solidifi that is why the solidification you can start with a metal piece deform by rolling forceea ixtrution whatever deferent means so you actually process or you connectyou deposite tin flame you can actually use surfa statement techniques many things we do in the real app now processing of materials they have a direct connections with a structure and stractor as a direct link with the properties so as you see here these actually are variables for the processing temperature pressure o stress strain or volume and chemical compussion for the aways you can change chemical comparation by making different allays so these are my variables in processing and by applying these variables rcommunation variables i generatemor mi make materials or manufacturing materials and these processing variables control the structure unstructure controlser properties so thers therefore these three are linked very clearly they are linked they are not separate or they are not independent things they are connected to each other t these are the bridges of these three important pillars of material science processing structure an property but finally what we look for finally we look for what is known as performance if yo war you are studying in a co sylamas in a course we are finally a holelotingal performance similarly materials are alated in terms of performance if i put a tyre in our car that means the major performanceis that i should be able to drive the take the car for one place to the place without any problems whut you know tires will varry from a summer to winter in the in the point countries and ice the tires which will travel n ic t are different so that means performance indeed are actually connected to all these three things processing structure and the properties and that is what is important this chart which is very famous in material science youwill find in many books is known as the material statehydron because they i actually looks like it ha tri so finally where does the pise transformation comes it is in the structure we modify the structure we modify the atomic structure wo vontify the grain structural modifie the phasesby phase transformations so therefore phase transformationis a direct link wofh the procession and also indirectly corrected with the properties and thats why it is a very important course in the material ens engineering you must understand that without knowing the phase transformations you cannot control material properties ok so phase transformation phericallibeof thermodynamics is the basis for understanding a material respons to change in temperature pressure composition i must accept this is slide i have taken from way this is not mine thus the cskhetical link between processing and microstructure requires an knowledge of the relevant thermodynamic principles and they are the basis force phase ransformation so you understand now why we are actually studying the phase transformations ok now question is this can i relate in the real applications i have taken four application again ily taken from the internate sites first one is an airplane ok air plane is a very important mode of transport from one part of the wall to the other plant and you know the material which is used in the airplane is an aluminum coper alloy if you do not know you can actually thake on the books there is a classical alloy elevin a four point five to four point seven percent copper known as develumin in the in the trannine and this is a very stable ally from forty five deee celsius to minus sixty five u celso or even minus a t ti cels i don t know how many of you prate new stat there is a desise laboratory in the southern hemissphere that is in antactica and sometimes if somebody is ill in the decised laboratorieis in winter time they are actually taken from that place by plane to termelat the the different content unespecially in southa america or sub parts but it will be extremely cold minus sixthief to minus eighty dege sel system pressures so a plane flying there the meterial has to withstand such a low temperature so ther this one nufe material which is prepared long back is used for the plane body and important phase transformation which happening here is a presipitation of certain phase in aluminum alase and these pecifitates provide the strength from high toonar temperature if you travel carefully on the planes you will find especially in the wings reveted joints and these revated joints are very strong at low temperatures because of the pecifitation so we are going to discuss about that the next one which is very important the right side is a turbine basically it can be used in the plane the high squid plane or inven in pow generators and they contained nickel by supervise is onderful material is a nickel aluminum alloy with consisting of many ou elements which i will not discuss in detail now but again the real high temperature propertiis because this this is a turbine so therefore this has to isstan high temperature high temperature properties cubiastane properties of this material is basically because of presipitation of a i three a type l one to pecipitates what you known as in a nickel mafrix eptrisi matrix and these unique pesipitates actually provide the strength ok the thus that that means the pestipretation is very important aspect to understand so that s why is will be part of a syllivas then on the side left side or you know may be right this is the rails which is used to as a fist plate on the relay tracks these action steels basically ther steel of parallite what do we known as if you do not have any idea of parallytes pinite is nothing but a eu tectortically transform product of gamma solisulation of carbon in iron and so therefore you must we must know how this transformation happens whether can wou control it because the properties of the rail depends on that remember ral is is what is allowing you to alon us to move trains so therefore they are they are subjected to straiss temperature harshhen movement and many other things so they must have combinations of properties so that they can serve the purpose and these is basically done by controlling the phase trans fotions on the right side this is the end the fast example is basically the titanium based ally engines ok remember these engines are not used in car they will be estingused in the planes or maybe in some other statiic applications like ter like the submarines or so so these engines actually has many plaslect itanium balves tha dineam mmc is pins that iamm c cranks ups many other things springs and they are tightina aluminites you know titanium out of thes all thatinamalise the most important allo which is extensively used is thitinium six aluminium pole canadium and it it we can control the marchester of these by mini ways creating alphalatonium also plus beted ditenium metou tatinm alloys so the propertisill vary depending on whether its alpha so plus petal p  meter re alpha is xamo pro spect structure meta is which is in structure so ratinium actually a noom temperature below what to eight hundred eighty two dea cel system presture is basically alpan above there in is n t is aing mec c structure so one can i actually play around in the temperature jone why again controlling the posting parameters to create different kinds of structures to get different properties so all these application dont think that they are all similar alparallits or metalos ofopenit always they can be combination so many of these then the actual real problem is how do i control these microstructures by controlling the prosissing parameters so rember these four examples are not exhaustive one can find many many examples in real life as i told in my first introduction lectures the basic example we always find is in in in country like india in the hot summer day you want to drink cold water so you can always put the quater inside the friige and get it cooled but it is real advantage is that if i take a glass of water and add a ice cube taken from the dee preture imedially the ic squee will start melting it down or getting dissolved in the water both a actually i tw o one is solid i tu or is a liquid isste so therefore by melting it down the heat in getting transfer to the liquid and then the water gets cooled down you enjoy the dring so this is the example which is present which we are actually doing it but what is important nou for you to understand how this transformation happens how the solid become liquid liquid become solid whether is very simple unknown remmer what is one of the most complex systems in the wild i m a unlike metal thes are more complex so let me just stop here before i go to the next part of the lecture or the next class so you understand in a natall that phase transformation is basically very important from the perspectives s of material science and technology and many of these products which you are actually using thes the properties are controlled by controlling phase transformations we can do that by using different pousing parametous temperature stay strain compossions and wy doing that we alter the microstructure the atmix structure and by doing that you are creating different propertiesso that is the relevance of face ansformation course and which you will be exposed to the next subsequent lectures\n"
          ],
          "name": "stdout"
        }
      ]
    },
    {
      "cell_type": "code",
      "metadata": {
        "colab": {
          "base_uri": "https://localhost:8080/"
        },
        "id": "WAabK39EuL9U",
        "outputId": "64cd9cb9-9a48-497a-fd18-b0b72f2a4d03"
      },
      "source": [
        "\n",
        "FileContent2 = t2.read()\n",
        "print(FileContent2)"
      ],
      "execution_count": null,
      "outputs": [
        {
          "output_type": "stream",
          "text": [
            "﻿dear students let us start the first lecture of this course this is basically a online\n",
            "course so therefore you need to be very clear about what you are going to learn and how\n",
            "you are going to be evaluated first of all this is a course on phase transformation in\n",
            "materials and i will be teaching all the lectures and it is a thirty lecture course that means\n",
            "there will be sixty twenty five minutes lecture and every week will be i suppose to i am not\n",
            "sure now about four to six lectures so that means about two to three hours of lectures\n",
            "so myself is professor biswas and i am a faculty member at the department of material science\n",
            "engineering of iit kanpur so thats the details about me my email address is available on\n",
            "the screen you can daily write to me whenever you have any serious problems and in addition\n",
            "to that to handle the course exams and also grading appear answer sheets i know this will\n",
            "be done online will be taken care by the teaching assistance\n",
            "so two of my students they will be handling that so they are actually the main ah person\n",
            "will be handling your questions to my write first one is kushbu kushbu tiwari is my pg\n",
            "and second one is reshma reshma is also my pg student so they will be handling all your\n",
            "the questions in the discussion forum obviously they are very difficult and i will also participate\n",
            "and also they will be handling your question paper and grading so my task will be to deliver\n",
            "all the lectures and then this will be uploaded in to nptel website so that you can observe\n",
            "and read or or listen online whatever is whatever way you can think about it\n",
            "now a days also there is another provision all my lectures whatever i am speaking will\n",
            "be again taken down or written by some experts so we are in the process of finding out those\n",
            "experts on my earlier course on phase transformation materials similarly we will do it for you\n",
            "also so that you dont need to listen you can actually read all this lectures notes so before\n",
            "that happens we are going to only listen this lectures available on the nptel forum and\n",
            "also you can ask questions in the discussion forum and so thats about it and there email\n",
            "address is are given and i have carefully removed the phone numbers because this is\n",
            "where things become very difficult to handle so if you have any questions you can ask them\n",
            "ask me also or you can put it on the discussion forum ok you know like any things in life\n",
            "every course has an objective and this objective has to be very clear before you start the\n",
            "course\n",
            "so present course actually will deal with basics of transformations in materials and\n",
            "as i said in my introduction video already you have seen probably that phase transformation\n",
            "is everywhere present in the normal whether you are talking about materials ceramics polymers\n",
            "or you are talking about real life phase transformation is present that how do we deal with phase\n",
            "transformation that is what you will be taught because thats what is important in your endower\n",
            "to learn phase transformation so using these three things one is your thermodynamics\n",
            "then kinetics and some basic aspect of material sands like crystal structures and interfaces\n",
            "we are going to study various solid to solid and liquid to solid phase transformation as\n",
            "you know this is our subject and covering that in thirty lectures is not an easy task\n",
            "so obviously we must be selected we cannot teach you everything and to learn everything\n",
            "you need to have some basic idea ah what i put it as course pre requisites ok and this\n",
            "pre requisites are should have preferably should have some basic knowledge on basic\n",
            "material science that most of the students in methodology or material science normally\n",
            "have thermodynamics especially with thermodynamics functions and their relationships and then\n",
            "some idea about phase diagrams and diffusion ok\n",
            "so ah i have already ah checked on different courses in nptel but by mean by different\n",
            "person is that there are some courses which are videos some courses which are web some\n",
            "courses which are massive open online so basic material science is already being taught by\n",
            "some faculty members thermodynamics is already being available and phase diagram i myself\n",
            "was develop a course nil just one year back diffusion is also partly taught so therefore\n",
            "you can actually ah clear your doubts while reading these lecture ok ah this is the full\n",
            "ah rather all the description of the all the lectures ok i dont know whether everything\n",
            "is coming in this scheme or not but any way most important thing is that we are going\n",
            "to talk about some very ah at the beginning where we going to talk give you some idea\n",
            "about free energy because that is the thermodynamic part of the phase diagram so we will show\n",
            "you the calculation of delta g of various transformations ok then we will talk about\n",
            "quad derivative of interfaces interfaces means liquid solids gren gren interface interface\n",
            "inter phase interfaces this are all parts of thermodynamics\n",
            "then you have to go in to kinetics thats the nucleation because nucleation is what the\n",
            "starting point of phase transformations so therefore theorem nucleation homogeneous heterogeneous\n",
            "nucleation and nucleation on the surfaces grains and even clan corners gen edges every\n",
            "where it will be dealt with as you know nucleation itself is the subject so there that we must\n",
            "be very ah you know you have to very careful about what you are going to talk about its\n",
            "i wont be able to tell you every details of the nucleation but whatever element we will\n",
            "discuss then we are going to start the first of the phase transformation that is on solidification\n",
            "as you see here solidification is a liquid to solid phase transformations then we will\n",
            "talk about growth during different aspects like thermal activated growth interface controlled\n",
            "growth diffusion controlled growth thats why you need to know as well as coupled growth\n",
            "and you take to array you take the transformation then we will talk about little bit about transformation\n",
            "kinetics in terms of different models johnson mehl and avrami models and some amount of\n",
            "gas thermal phase transformations then we will simply go on to different solid phase\n",
            "transformations like precipitation recrystallisation martensitics spinodal decompositions and we\n",
            "talk about isothermal and continuous transformations thats itself will be sufficient enough to\n",
            "call off thirty lectures ok\n",
            "so ah this is important that you know what we are going to be taught at the beginning\n",
            "so that you can prepare yourself so we are going to ah follow exactly the same way things\n",
            "are given on the right side i have also listed down number of lectures will be spent on each\n",
            "topic now comes in very important aspects because in a massive open online course you\n",
            "will be exposed to video lectures or the online lectures you must have some amount of you\n",
            "know text book knowledge so therefore two important text books which are carried from\n",
            "our library ah is this first one which is which is here is written on that is phase\n",
            "transformation in metals and alloys classic text book by d a porter and k e easterling\n",
            "and the recent edition also has come with a new author are all the problems are solved\n",
            "mr ah doctor m y sherif this is available in india not very expensive book you can read\n",
            "that and the other book is written by two of my past colleagues although i have never\n",
            "met them but though are iit kanpur this book is phase transformations in materials and\n",
            "by professor a k jena and professor m c chaturvedi both were at iit kanpur\n",
            "so ah when this books written there there were ah jena was in kanpur ok so this two\n",
            "books will be a basic text book for the course and anyone any of these books will be good\n",
            "for you you can by this books or you can actually copy from different libraries in the in the\n",
            "different parts of the book you can copy from different libraries or if you if you want\n",
            "you actually even ah you know get by that on different online stores correct so thats\n",
            "about the basic part of the course i think before i could move on to the next portion\n",
            "of my ah lecture why the phase transformation is delivered let me tell you you will be given\n",
            "ah assignments on every week and i think assignments are normally uploaded on thursday and because\n",
            "monday wednesday monday to wednesday will be exposed to the lectures and after that\n",
            "you will be i will be ah my t s will be uploading the assignments and you will be given about\n",
            "one weeks time to complete the assignments because assignments will be online so the\n",
            "questions will be ah multiple choice type or may be fill fill in the blanks type as\n",
            "assignment will have a weightage of fifty percent weightage and at the end of this semester\n",
            "you will be taking an end some exam and we are planning to have it online so far if i\n",
            "dont change my decisions or something else is happens otherwise it will be online and\n",
            "that will be having a fifty percent weightage\n",
            "although ah i am not keeping any pass marks for this course but you can interdentally\n",
            "consider if you are getting less than about say thirty percent of the marks then you will\n",
            "not be able to pass this course and those who will be successfully completing this course\n",
            "by taking exams and getting good marks will be given certification from the nptel as you\n",
            "know so that way i expect that you will be very serious learner and you will be also\n",
            "able to solve this problems if incase you have difficulties you can always discuss you\n",
            "can always use the discussion forums or you can write emails you can always bring it to\n",
            "the ah instructor all the t s so that we can make it clear to you thats very important\n",
            "because unless and until you know the things very well you will not be able to answer the\n",
            "questions now ah in the next few slides i am going to talk about what are the relevance\n",
            "of phase transformation materials development then why do you study in any course i know\n",
            "that many of you do not exposed by the instructor in the same way you must have an idea why\n",
            "you are studying this course what is the need well phase transformation is as i said is\n",
            "represented environment ok\n",
            "this slide i have taken from the literature you know thats what i am going to answer to\n",
            "you why study phase transformation material science ok you know what we are actually we\n",
            "look material for the application in in any case finally we have to think our application\n",
            "unless and until this material is applied engineering point of view we dont find any\n",
            "reason to study scientific point of view one can study so application means we must know\n",
            "that properties all kinds of properties so there is a physical mechanical electronic\n",
            "electrical magnetic depending on the applications so property or properties of a material is\n",
            "are estimated very very rigorously to find an potential applications this is true for\n",
            "even a new materials when its developed so now question is this properties as i said\n",
            "mechanical chemical electrical magnetic thermal you can even list on many more properties\n",
            "of the material depends on structure and thats why actually real problem comes structure\n",
            "has land scape you can simply say atomic structure atomic structure is the smallest structure\n",
            "you can think about it atom and nucleus infact that is what dictates most of the properties\n",
            "are to material but that is not all that is what in to this is what you must know very\n",
            "clearly thats not all\n",
            "so structure means it can be atomic structure molecular structure grain structure phase\n",
            "trans distribution and defects ok so we have basically i have listed down from the bottom\n",
            "up the atom is smallest theses and then we have grains and other things so you must have\n",
            "i am stressing again you must have an good idea about this structures to correlate with\n",
            "the properties because it is important that the properties are primarily dictated by the\n",
            "structure so if i know the structure i can dictate the properties so you got the correlation\n",
            "right ah very logically speaking we made materials rather we use processing techniques to make\n",
            "materials and this processing techniques allow you to control structure processing technique\n",
            "means what you can start with the liquid and solidify that is what is solidification you\n",
            "can start with the metal piece deform by rolling forging exclusion whatever different means\n",
            "so you actually process or you can actually deposit thin film you can actually you surface\n",
            "treatment techniques many things we do in the real ah now processing of materials they\n",
            "have a direct connection with this structure\n",
            "a structure has a direct link with the properties so as you see here these actually are variables\n",
            "for the processing temperature pressure or stress strain or volume and chemical composition\n",
            "for the alloys you can change chemical composition by making different alloys so these are my\n",
            "variables in processing and by applying these variables or combination of variables i generate\n",
            "or i make materials and manufacture materials and this processing variables controls the\n",
            "structure and structure controls the properties so therefore these three are linked very clearly\n",
            "they are linked they are not separate or they are not independent things they are connected\n",
            "to each other these are the of these three important pillars of material science processing\n",
            "structure and property but finally where to we look for finally we look for what is known\n",
            "as performance if you are studying in a course syllabus in a course you are finally evaluated\n",
            "on performance similarly materials are evaluated in terms of performance if i put a tire in\n",
            "your car that means the major performance is the tire should be able to drive the take\n",
            "the car from one place to another without any problems but you know tires should vary\n",
            "from a some ah are twin tire in the in the foreign countries in the the eyes tire which\n",
            "will travel on are different\n",
            "so that means performance indeed are actually connected to all these three things processing\n",
            "structure and the properties and that is what is important this chart which is very famous\n",
            "in material science you will find in many books is known as the material tetrahedron\n",
            "because they are actually looks like a tetrahedron so finally where does the phase transformation\n",
            "comes it is in the structure we modify the structure we modify the atomic structure we\n",
            "modify grain structure we modify the various by phase transformation so therefore phase\n",
            "transformation are directly linked with processing and also indirectly connected with the properties\n",
            "and thats why it is a very important course in the material science engineering you must\n",
            "understand that without knowing the or phase transformations you cannot control material\n",
            "properties ok\n",
            "so ah phase transformation or phase equilibria or thermodynamics is the basis for understanding\n",
            "a material response to change in temperature pressure composition i must accept this is\n",
            "slide i have taken from web this is not mine thus the critical link between processing\n",
            "and microstructure requires a knowledge of the relevant thermodynamics principles and\n",
            "they are the basis for phase transformations so you understand now why we are actually\n",
            "studying the phase transformations ok now question is this can i relate it to real applications\n",
            "i have taken four applications again i taken from the internet sites first one is in air\n",
            "plane ok air plane is the very important ah mode of transport from one part of the world\n",
            "to other part and you know the material which is used in the air plane is an aluminum copper\n",
            "alloy if you dont know you can actually check on the books this is the classical alloy aluminum\n",
            "four point five to four point seven percent copper known as dual lumen in the in the trend\n",
            "name and this is a very stable alloy from forty five degree celsius to minus sixty five\n",
            "degree celsius or even minus eighty degree celsius i dont know how many of you read news\n",
            "that there is a research laboratory in the southern hampshire that is in hm antarctica\n",
            "and sometimes if somebodies yield in the research laboratories in winter time they are actually\n",
            "taken from that place by plane to the the different country especially in southern america\n",
            "and such parts but it will be extremely cold minus sixty to minus eighty degree celsius\n",
            "temperature so a plane flying there the material has to be stand such a low temperature\n",
            "so this wonderful material which is prepared long back is used for the plane body and important\n",
            "phase transformation which is happening here is a precipitation of certain phase in aluminum\n",
            "alloys and this precipitates provide the strength from high to low temperature if you travel\n",
            "carefully on the planes you will find especially in the wings deviated join and this deviated\n",
            "joins are very strong and low temperatures because of the precipitation so we are going\n",
            "to discuss about that ah next one which is very important on the right side is air turbine\n",
            "basically it can be used in the plane the high speed plane or in when in power generators\n",
            "and they contained nickel based super alloys this wonderful material this is nickel aluminum\n",
            "alloy with consisting of many other elements which i will not discuss in detail now but\n",
            "again the real high temperature properties because this this is turbine so thereforth\n",
            "this has to be instant high temperature high temperature properties equi based properties\n",
            "of this material is basically because of precipitation of n i three a l type l one to precipitates\n",
            "what we known as in a nickel matrix fcc matrix and this unique precipitates actually provide\n",
            "the strength ok the thats thats that means precipitation is very important aspect to\n",
            "understand so thats what is will be part of silvers\n",
            "then on this side left side i know may be your right this is the rails which is used\n",
            "to as a phi splay on the railway tracks this actually steels basically the steel of perlite\n",
            "what you known as if you dont have any idea perlites perlite is nothing but a utech transform\n",
            "product of gamma solution of carbon in iron and so therefore you must you must know how\n",
            "this transformation happens whether we can control it because the properties of the rail\n",
            "depends on that and remember rail is is ah what is allow you to allowing us to move trains\n",
            "so therefore they are they are subjected to stress temperature harsh environment and many\n",
            "other things so they must have combinations of properties so that they can start the purpose\n",
            "and these is basically done by controlling the phase transformations on the right side\n",
            "this is the end the last example is basically the titanium based align engines ok remember\n",
            "this engines are not used in car they will be used in planes or may be in some other\n",
            "strategic applications like ah turb hm like the submarines and so\n",
            "so these engines actually has many plus like titanium valves titanium mmcs springs titanium\n",
            "mnc cramsups many others things springs and there are titanium aluminites you know titanium\n",
            "out of these all thirteen m alloys the most important alloy which is extensively used\n",
            "in titanium sixth aluminum four vanadium and it it we can control the micro structure of\n",
            "these by many ways creating alpha titanium alpha plus beta titanium beta of titanium\n",
            "alloys so ah the properties will vary depending on whether its alpha alpha plus beta alpha\n",
            "or beta remember alpha is hexagonal prospect structure beta is bcc structure so titanium\n",
            "actually ah room temperature below what to eight hundred eighty two degree celsius temperature\n",
            "is basically alpha above that it is a this i mean bcc structure so one can actually play\n",
            "around in the temperature zone by again controlling the prosaic parameters to create different\n",
            "kinds of structures to get different properties\n",
            "so all these applications dont think that they are similar alpha alloys or beta alloys\n",
            "alpha plus beta alloys they can be combination of many of these then the actual real problem\n",
            "is how do i control this micro structures by controlling the processing parameters so\n",
            "remember these four examples are not exhausted one can find many many examples in the real\n",
            "life as i told you in my first introduction lectures the basic example you always find\n",
            "is in the country india when hot summer days you want to drink cold water so you can always\n",
            "put the cold water inside the fridge and get it cooled but it is real advantage is that\n",
            "if i take a glass of water and add a ice cube taken from the deep freezer immediately the\n",
            "ice cube will start melting it down or getting dissolved in the water both are actually h\n",
            "two o one is solid h two o and the other is liquid h two o\n",
            "so therefore by melting it down the heat is getting transferred to the liquid and then\n",
            "the water gets cool down you will enjoy the drinks so this is the example which is present\n",
            "which you are actually doing it but what is important you for you to understand how these\n",
            "transformation happened how these solid become liquid liquid become solid whether is very\n",
            "simple or no remember what is from the most complex systems in the world and no unlike\n",
            "metal like more complex so ah let me just stop here before i go to the next part of\n",
            "the lecture or the next class so you understand in a nutshell that phase transformation is\n",
            "basically very important from the perspective of material science and technology and many\n",
            "of these products which you are actually using these their properties are controlled by controlling\n",
            "phase transformations we can do that by using different processing parameters temperature\n",
            "stress strain compositions and by doing that we alter them micro structure the atomic structure\n",
            "and by doing that you will create a different properties so that is the relevance of phase\n",
            "transformation course and which will be exposed to in the next subsequent lectures\n"
          ],
          "name": "stdout"
        }
      ]
    },
    {
      "cell_type": "code",
      "metadata": {
        "colab": {
          "base_uri": "https://localhost:8080/",
          "height": 137
        },
        "id": "1z614XZtEnUv",
        "outputId": "73173e08-fdc6-4a54-9326-60efdb4cc6b1"
      },
      "source": [
        "str(FileContent2)"
      ],
      "execution_count": null,
      "outputs": [
        {
          "output_type": "execute_result",
          "data": {
            "application/vnd.google.colaboratory.intrinsic+json": {
              "type": "string"
            },
            "text/plain": [
              "'\\ufeffdear students let us start the first lecture of this course this is basically a online\\ncourse so therefore you need to be very clear about what you are going to learn and how\\nyou are going to be evaluated first of all this is a course on phase transformation in\\nmaterials and i will be teaching all the lectures and it is a thirty lecture course that means\\nthere will be sixty twenty five minutes lecture and every week will be i suppose to i am not\\nsure now about four to six lectures so that means about two to three hours of lectures\\nso myself is professor biswas and i am a faculty member at the department of material science\\nengineering of iit kanpur so thats the details about me my email address is available on\\nthe screen you can daily write to me whenever you have any serious problems and in addition\\nto that to handle the course exams and also grading appear answer sheets i know this will\\nbe done online will be taken care by the teaching assistance\\nso two of my students they will be handling that so they are actually the main ah person\\nwill be handling your questions to my write first one is kushbu kushbu tiwari is my pg\\nand second one is reshma reshma is also my pg student so they will be handling all your\\nthe questions in the discussion forum obviously they are very difficult and i will also participate\\nand also they will be handling your question paper and grading so my task will be to deliver\\nall the lectures and then this will be uploaded in to nptel website so that you can observe\\nand read or or listen online whatever is whatever way you can think about it\\nnow a days also there is another provision all my lectures whatever i am speaking will\\nbe again taken down or written by some experts so we are in the process of finding out those\\nexperts on my earlier course on phase transformation materials similarly we will do it for you\\nalso so that you dont need to listen you can actually read all this lectures notes so before\\nthat happens we are going to only listen this lectures available on the nptel forum and\\nalso you can ask questions in the discussion forum and so thats about it and there email\\naddress is are given and i have carefully removed the phone numbers because this is\\nwhere things become very difficult to handle so if you have any questions you can ask them\\nask me also or you can put it on the discussion forum ok you know like any things in life\\nevery course has an objective and this objective has to be very clear before you start the\\ncourse\\nso present course actually will deal with basics of transformations in materials and\\nas i said in my introduction video already you have seen probably that phase transformation\\nis everywhere present in the normal whether you are talking about materials ceramics polymers\\nor you are talking about real life phase transformation is present that how do we deal with phase\\ntransformation that is what you will be taught because thats what is important in your endower\\nto learn phase transformation so using these three things one is your thermodynamics\\nthen kinetics and some basic aspect of material sands like crystal structures and interfaces\\nwe are going to study various solid to solid and liquid to solid phase transformation as\\nyou know this is our subject and covering that in thirty lectures is not an easy task\\nso obviously we must be selected we cannot teach you everything and to learn everything\\nyou need to have some basic idea ah what i put it as course pre requisites ok and this\\npre requisites are should have preferably should have some basic knowledge on basic\\nmaterial science that most of the students in methodology or material science normally\\nhave thermodynamics especially with thermodynamics functions and their relationships and then\\nsome idea about phase diagrams and diffusion ok\\nso ah i have already ah checked on different courses in nptel but by mean by different\\nperson is that there are some courses which are videos some courses which are web some\\ncourses which are massive open online so basic material science is already being taught by\\nsome faculty members thermodynamics is already being available and phase diagram i myself\\nwas develop a course nil just one year back diffusion is also partly taught so therefore\\nyou can actually ah clear your doubts while reading these lecture ok ah this is the full\\nah rather all the description of the all the lectures ok i dont know whether everything\\nis coming in this scheme or not but any way most important thing is that we are going\\nto talk about some very ah at the beginning where we going to talk give you some idea\\nabout free energy because that is the thermodynamic part of the phase diagram so we will show\\nyou the calculation of delta g of various transformations ok then we will talk about\\nquad derivative of interfaces interfaces means liquid solids gren gren interface interface\\ninter phase interfaces this are all parts of thermodynamics\\nthen you have to go in to kinetics thats the nucleation because nucleation is what the\\nstarting point of phase transformations so therefore theorem nucleation homogeneous heterogeneous\\nnucleation and nucleation on the surfaces grains and even clan corners gen edges every\\nwhere it will be dealt with as you know nucleation itself is the subject so there that we must\\nbe very ah you know you have to very careful about what you are going to talk about its\\ni wont be able to tell you every details of the nucleation but whatever element we will\\ndiscuss then we are going to start the first of the phase transformation that is on solidification\\nas you see here solidification is a liquid to solid phase transformations then we will\\ntalk about growth during different aspects like thermal activated growth interface controlled\\ngrowth diffusion controlled growth thats why you need to know as well as coupled growth\\nand you take to array you take the transformation then we will talk about little bit about transformation\\nkinetics in terms of different models johnson mehl and avrami models and some amount of\\ngas thermal phase transformations then we will simply go on to different solid phase\\ntransformations like precipitation recrystallisation martensitics spinodal decompositions and we\\ntalk about isothermal and continuous transformations thats itself will be sufficient enough to\\ncall off thirty lectures ok\\nso ah this is important that you know what we are going to be taught at the beginning\\nso that you can prepare yourself so we are going to ah follow exactly the same way things\\nare given on the right side i have also listed down number of lectures will be spent on each\\ntopic now comes in very important aspects because in a massive open online course you\\nwill be exposed to video lectures or the online lectures you must have some amount of you\\nknow text book knowledge so therefore two important text books which are carried from\\nour library ah is this first one which is which is here is written on that is phase\\ntransformation in metals and alloys classic text book by d a porter and k e easterling\\nand the recent edition also has come with a new author are all the problems are solved\\nmr ah doctor m y sherif this is available in india not very expensive book you can read\\nthat and the other book is written by two of my past colleagues although i have never\\nmet them but though are iit kanpur this book is phase transformations in materials and\\nby professor a k jena and professor m c chaturvedi both were at iit kanpur\\nso ah when this books written there there were ah jena was in kanpur ok so this two\\nbooks will be a basic text book for the course and anyone any of these books will be good\\nfor you you can by this books or you can actually copy from different libraries in the in the\\ndifferent parts of the book you can copy from different libraries or if you if you want\\nyou actually even ah you know get by that on different online stores correct so thats\\nabout the basic part of the course i think before i could move on to the next portion\\nof my ah lecture why the phase transformation is delivered let me tell you you will be given\\nah assignments on every week and i think assignments are normally uploaded on thursday and because\\nmonday wednesday monday to wednesday will be exposed to the lectures and after that\\nyou will be i will be ah my t s will be uploading the assignments and you will be given about\\none weeks time to complete the assignments because assignments will be online so the\\nquestions will be ah multiple choice type or may be fill fill in the blanks type as\\nassignment will have a weightage of fifty percent weightage and at the end of this semester\\nyou will be taking an end some exam and we are planning to have it online so far if i\\ndont change my decisions or something else is happens otherwise it will be online and\\nthat will be having a fifty percent weightage\\nalthough ah i am not keeping any pass marks for this course but you can interdentally\\nconsider if you are getting less than about say thirty percent of the marks then you will\\nnot be able to pass this course and those who will be successfully completing this course\\nby taking exams and getting good marks will be given certification from the nptel as you\\nknow so that way i expect that you will be very serious learner and you will be also\\nable to solve this problems if incase you have difficulties you can always discuss you\\ncan always use the discussion forums or you can write emails you can always bring it to\\nthe ah instructor all the t s so that we can make it clear to you thats very important\\nbecause unless and until you know the things very well you will not be able to answer the\\nquestions now ah in the next few slides i am going to talk about what are the relevance\\nof phase transformation materials development then why do you study in any course i know\\nthat many of you do not exposed by the instructor in the same way you must have an idea why\\nyou are studying this course what is the need well phase transformation is as i said is\\nrepresented environment ok\\nthis slide i have taken from the literature you know thats what i am going to answer to\\nyou why study phase transformation material science ok you know what we are actually we\\nlook material for the application in in any case finally we have to think our application\\nunless and until this material is applied engineering point of view we dont find any\\nreason to study scientific point of view one can study so application means we must know\\nthat properties all kinds of properties so there is a physical mechanical electronic\\nelectrical magnetic depending on the applications so property or properties of a material is\\nare estimated very very rigorously to find an potential applications this is true for\\neven a new materials when its developed so now question is this properties as i said\\nmechanical chemical electrical magnetic thermal you can even list on many more properties\\nof the material depends on structure and thats why actually real problem comes structure\\nhas land scape you can simply say atomic structure atomic structure is the smallest structure\\nyou can think about it atom and nucleus infact that is what dictates most of the properties\\nare to material but that is not all that is what in to this is what you must know very\\nclearly thats not all\\nso structure means it can be atomic structure molecular structure grain structure phase\\ntrans distribution and defects ok so we have basically i have listed down from the bottom\\nup the atom is smallest theses and then we have grains and other things so you must have\\ni am stressing again you must have an good idea about this structures to correlate with\\nthe properties because it is important that the properties are primarily dictated by the\\nstructure so if i know the structure i can dictate the properties so you got the correlation\\nright ah very logically speaking we made materials rather we use processing techniques to make\\nmaterials and this processing techniques allow you to control structure processing technique\\nmeans what you can start with the liquid and solidify that is what is solidification you\\ncan start with the metal piece deform by rolling forging exclusion whatever different means\\nso you actually process or you can actually deposit thin film you can actually you surface\\ntreatment techniques many things we do in the real ah now processing of materials they\\nhave a direct connection with this structure\\na structure has a direct link with the properties so as you see here these actually are variables\\nfor the processing temperature pressure or stress strain or volume and chemical composition\\nfor the alloys you can change chemical composition by making different alloys so these are my\\nvariables in processing and by applying these variables or combination of variables i generate\\nor i make materials and manufacture materials and this processing variables controls the\\nstructure and structure controls the properties so therefore these three are linked very clearly\\nthey are linked they are not separate or they are not independent things they are connected\\nto each other these are the of these three important pillars of material science processing\\nstructure and property but finally where to we look for finally we look for what is known\\nas performance if you are studying in a course syllabus in a course you are finally evaluated\\non performance similarly materials are evaluated in terms of performance if i put a tire in\\nyour car that means the major performance is the tire should be able to drive the take\\nthe car from one place to another without any problems but you know tires should vary\\nfrom a some ah are twin tire in the in the foreign countries in the the eyes tire which\\nwill travel on are different\\nso that means performance indeed are actually connected to all these three things processing\\nstructure and the properties and that is what is important this chart which is very famous\\nin material science you will find in many books is known as the material tetrahedron\\nbecause they are actually looks like a tetrahedron so finally where does the phase transformation\\ncomes it is in the structure we modify the structure we modify the atomic structure we\\nmodify grain structure we modify the various by phase transformation so therefore phase\\ntransformation are directly linked with processing and also indirectly connected with the properties\\nand thats why it is a very important course in the material science engineering you must\\nunderstand that without knowing the or phase transformations you cannot control material\\nproperties ok\\nso ah phase transformation or phase equilibria or thermodynamics is the basis for understanding\\na material response to change in temperature pressure composition i must accept this is\\nslide i have taken from web this is not mine thus the critical link between processing\\nand microstructure requires a knowledge of the relevant thermodynamics principles and\\nthey are the basis for phase transformations so you understand now why we are actually\\nstudying the phase transformations ok now question is this can i relate it to real applications\\ni have taken four applications again i taken from the internet sites first one is in air\\nplane ok air plane is the very important ah mode of transport from one part of the world\\nto other part and you know the material which is used in the air plane is an aluminum copper\\nalloy if you dont know you can actually check on the books this is the classical alloy aluminum\\nfour point five to four point seven percent copper known as dual lumen in the in the trend\\nname and this is a very stable alloy from forty five degree celsius to minus sixty five\\ndegree celsius or even minus eighty degree celsius i dont know how many of you read news\\nthat there is a research laboratory in the southern hampshire that is in hm antarctica\\nand sometimes if somebodies yield in the research laboratories in winter time they are actually\\ntaken from that place by plane to the the different country especially in southern america\\nand such parts but it will be extremely cold minus sixty to minus eighty degree celsius\\ntemperature so a plane flying there the material has to be stand such a low temperature\\nso this wonderful material which is prepared long back is used for the plane body and important\\nphase transformation which is happening here is a precipitation of certain phase in aluminum\\nalloys and this precipitates provide the strength from high to low temperature if you travel\\ncarefully on the planes you will find especially in the wings deviated join and this deviated\\njoins are very strong and low temperatures because of the precipitation so we are going\\nto discuss about that ah next one which is very important on the right side is air turbine\\nbasically it can be used in the plane the high speed plane or in when in power generators\\nand they contained nickel based super alloys this wonderful material this is nickel aluminum\\nalloy with consisting of many other elements which i will not discuss in detail now but\\nagain the real high temperature properties because this this is turbine so thereforth\\nthis has to be instant high temperature high temperature properties equi based properties\\nof this material is basically because of precipitation of n i three a l type l one to precipitates\\nwhat we known as in a nickel matrix fcc matrix and this unique precipitates actually provide\\nthe strength ok the thats thats that means precipitation is very important aspect to\\nunderstand so thats what is will be part of silvers\\nthen on this side left side i know may be your right this is the rails which is used\\nto as a phi splay on the railway tracks this actually steels basically the steel of perlite\\nwhat you known as if you dont have any idea perlites perlite is nothing but a utech transform\\nproduct of gamma solution of carbon in iron and so therefore you must you must know how\\nthis transformation happens whether we can control it because the properties of the rail\\ndepends on that and remember rail is is ah what is allow you to allowing us to move trains\\nso therefore they are they are subjected to stress temperature harsh environment and many\\nother things so they must have combinations of properties so that they can start the purpose\\nand these is basically done by controlling the phase transformations on the right side\\nthis is the end the last example is basically the titanium based align engines ok remember\\nthis engines are not used in car they will be used in planes or may be in some other\\nstrategic applications like ah turb hm like the submarines and so\\nso these engines actually has many plus like titanium valves titanium mmcs springs titanium\\nmnc cramsups many others things springs and there are titanium aluminites you know titanium\\nout of these all thirteen m alloys the most important alloy which is extensively used\\nin titanium sixth aluminum four vanadium and it it we can control the micro structure of\\nthese by many ways creating alpha titanium alpha plus beta titanium beta of titanium\\nalloys so ah the properties will vary depending on whether its alpha alpha plus beta alpha\\nor beta remember alpha is hexagonal prospect structure beta is bcc structure so titanium\\nactually ah room temperature below what to eight hundred eighty two degree celsius temperature\\nis basically alpha above that it is a this i mean bcc structure so one can actually play\\naround in the temperature zone by again controlling the prosaic parameters to create different\\nkinds of structures to get different properties\\nso all these applications dont think that they are similar alpha alloys or beta alloys\\nalpha plus beta alloys they can be combination of many of these then the actual real problem\\nis how do i control this micro structures by controlling the processing parameters so\\nremember these four examples are not exhausted one can find many many examples in the real\\nlife as i told you in my first introduction lectures the basic example you always find\\nis in the country india when hot summer days you want to drink cold water so you can always\\nput the cold water inside the fridge and get it cooled but it is real advantage is that\\nif i take a glass of water and add a ice cube taken from the deep freezer immediately the\\nice cube will start melting it down or getting dissolved in the water both are actually h\\ntwo o one is solid h two o and the other is liquid h two o\\nso therefore by melting it down the heat is getting transferred to the liquid and then\\nthe water gets cool down you will enjoy the drinks so this is the example which is present\\nwhich you are actually doing it but what is important you for you to understand how these\\ntransformation happened how these solid become liquid liquid become solid whether is very\\nsimple or no remember what is from the most complex systems in the world and no unlike\\nmetal like more complex so ah let me just stop here before i go to the next part of\\nthe lecture or the next class so you understand in a nutshell that phase transformation is\\nbasically very important from the perspective of material science and technology and many\\nof these products which you are actually using these their properties are controlled by controlling\\nphase transformations we can do that by using different processing parameters temperature\\nstress strain compositions and by doing that we alter them micro structure the atomic structure\\nand by doing that you will create a different properties so that is the relevance of phase\\ntransformation course and which will be exposed to in the next subsequent lectures'"
            ]
          },
          "metadata": {},
          "execution_count": 22
        }
      ]
    },
    {
      "cell_type": "markdown",
      "metadata": {
        "id": "b6cVXP3YYNoc"
      },
      "source": [
        "## Using difflib"
      ]
    },
    {
      "cell_type": "code",
      "metadata": {
        "id": "9DGpgF5vbX_v"
      },
      "source": [
        "import difflib"
      ],
      "execution_count": null,
      "outputs": []
    },
    {
      "cell_type": "code",
      "metadata": {
        "id": "mS_DbXTSd_su"
      },
      "source": [
        "f1 = FileContent1.split()\n",
        "f2 = FileContent2.split()"
      ],
      "execution_count": null,
      "outputs": []
    },
    {
      "cell_type": "code",
      "metadata": {
        "colab": {
          "base_uri": "https://localhost:8080/"
        },
        "id": "Ut1of7sEZlHw",
        "outputId": "89f63c6f-ebd3-4534-e56e-738a318cbc87"
      },
      "source": [
        "seq_mat = difflib.SequenceMatcher()\n",
        "\n",
        "seq_mat.set_seqs(f1, f2)\n",
        "print(\"Similarity Ratio            : {}\".format(seq_mat.ratio()))"
      ],
      "execution_count": null,
      "outputs": [
        {
          "output_type": "stream",
          "text": [
            "Similarity Ratio            : 0.7400474558397048\n"
          ],
          "name": "stdout"
        }
      ]
    },
    {
      "cell_type": "markdown",
      "metadata": {
        "id": "aMBEhskPLsYY"
      },
      "source": [
        "## Now, I am gonna use nltk for comparing two documents"
      ]
    },
    {
      "cell_type": "code",
      "metadata": {
        "colab": {
          "base_uri": "https://localhost:8080/"
        },
        "id": "E4A-jffl5ype",
        "outputId": "c3993273-c5ae-402e-a015-f550d7724568"
      },
      "source": [
        "!pip install nltk"
      ],
      "execution_count": null,
      "outputs": [
        {
          "output_type": "stream",
          "text": [
            "Requirement already satisfied: nltk in /usr/local/lib/python3.7/dist-packages (3.2.5)\n",
            "Requirement already satisfied: six in /usr/local/lib/python3.7/dist-packages (from nltk) (1.15.0)\n"
          ],
          "name": "stdout"
        }
      ]
    },
    {
      "cell_type": "code",
      "metadata": {
        "id": "_sTDX0Gu53Hg"
      },
      "source": [
        "import nltk"
      ],
      "execution_count": null,
      "outputs": []
    },
    {
      "cell_type": "code",
      "metadata": {
        "colab": {
          "base_uri": "https://localhost:8080/"
        },
        "id": "-6jGGhx05615",
        "outputId": "151d96ea-61e0-40bc-a475-58f26e624a3d"
      },
      "source": [
        "nltk.download('all')"
      ],
      "execution_count": null,
      "outputs": [
        {
          "output_type": "stream",
          "text": [
            "[nltk_data] Downloading collection 'all'\n",
            "[nltk_data]    | \n",
            "[nltk_data]    | Downloading package abc to /root/nltk_data...\n",
            "[nltk_data]    |   Unzipping corpora/abc.zip.\n",
            "[nltk_data]    | Downloading package alpino to /root/nltk_data...\n",
            "[nltk_data]    |   Unzipping corpora/alpino.zip.\n",
            "[nltk_data]    | Downloading package biocreative_ppi to\n",
            "[nltk_data]    |     /root/nltk_data...\n",
            "[nltk_data]    |   Unzipping corpora/biocreative_ppi.zip.\n",
            "[nltk_data]    | Downloading package brown to /root/nltk_data...\n",
            "[nltk_data]    |   Unzipping corpora/brown.zip.\n",
            "[nltk_data]    | Downloading package brown_tei to /root/nltk_data...\n",
            "[nltk_data]    |   Unzipping corpora/brown_tei.zip.\n",
            "[nltk_data]    | Downloading package cess_cat to /root/nltk_data...\n",
            "[nltk_data]    |   Unzipping corpora/cess_cat.zip.\n",
            "[nltk_data]    | Downloading package cess_esp to /root/nltk_data...\n",
            "[nltk_data]    |   Unzipping corpora/cess_esp.zip.\n",
            "[nltk_data]    | Downloading package chat80 to /root/nltk_data...\n",
            "[nltk_data]    |   Unzipping corpora/chat80.zip.\n",
            "[nltk_data]    | Downloading package city_database to\n",
            "[nltk_data]    |     /root/nltk_data...\n",
            "[nltk_data]    |   Unzipping corpora/city_database.zip.\n",
            "[nltk_data]    | Downloading package cmudict to /root/nltk_data...\n",
            "[nltk_data]    |   Unzipping corpora/cmudict.zip.\n",
            "[nltk_data]    | Downloading package comparative_sentences to\n",
            "[nltk_data]    |     /root/nltk_data...\n",
            "[nltk_data]    |   Unzipping corpora/comparative_sentences.zip.\n",
            "[nltk_data]    | Downloading package comtrans to /root/nltk_data...\n",
            "[nltk_data]    | Downloading package conll2000 to /root/nltk_data...\n",
            "[nltk_data]    |   Unzipping corpora/conll2000.zip.\n",
            "[nltk_data]    | Downloading package conll2002 to /root/nltk_data...\n",
            "[nltk_data]    |   Unzipping corpora/conll2002.zip.\n",
            "[nltk_data]    | Downloading package conll2007 to /root/nltk_data...\n",
            "[nltk_data]    | Downloading package crubadan to /root/nltk_data...\n",
            "[nltk_data]    |   Unzipping corpora/crubadan.zip.\n",
            "[nltk_data]    | Downloading package dependency_treebank to\n",
            "[nltk_data]    |     /root/nltk_data...\n",
            "[nltk_data]    |   Unzipping corpora/dependency_treebank.zip.\n",
            "[nltk_data]    | Downloading package dolch to /root/nltk_data...\n",
            "[nltk_data]    |   Unzipping corpora/dolch.zip.\n",
            "[nltk_data]    | Downloading package europarl_raw to\n",
            "[nltk_data]    |     /root/nltk_data...\n",
            "[nltk_data]    |   Unzipping corpora/europarl_raw.zip.\n",
            "[nltk_data]    | Downloading package floresta to /root/nltk_data...\n",
            "[nltk_data]    |   Unzipping corpora/floresta.zip.\n",
            "[nltk_data]    | Downloading package framenet_v15 to\n",
            "[nltk_data]    |     /root/nltk_data...\n",
            "[nltk_data]    |   Unzipping corpora/framenet_v15.zip.\n",
            "[nltk_data]    | Downloading package framenet_v17 to\n",
            "[nltk_data]    |     /root/nltk_data...\n",
            "[nltk_data]    |   Unzipping corpora/framenet_v17.zip.\n",
            "[nltk_data]    | Downloading package gazetteers to /root/nltk_data...\n",
            "[nltk_data]    |   Unzipping corpora/gazetteers.zip.\n",
            "[nltk_data]    | Downloading package genesis to /root/nltk_data...\n",
            "[nltk_data]    |   Unzipping corpora/genesis.zip.\n",
            "[nltk_data]    | Downloading package gutenberg to /root/nltk_data...\n",
            "[nltk_data]    |   Unzipping corpora/gutenberg.zip.\n",
            "[nltk_data]    | Downloading package ieer to /root/nltk_data...\n",
            "[nltk_data]    |   Unzipping corpora/ieer.zip.\n",
            "[nltk_data]    | Downloading package inaugural to /root/nltk_data...\n",
            "[nltk_data]    |   Unzipping corpora/inaugural.zip.\n",
            "[nltk_data]    | Downloading package indian to /root/nltk_data...\n",
            "[nltk_data]    |   Unzipping corpora/indian.zip.\n",
            "[nltk_data]    | Downloading package jeita to /root/nltk_data...\n",
            "[nltk_data]    | Downloading package kimmo to /root/nltk_data...\n",
            "[nltk_data]    |   Unzipping corpora/kimmo.zip.\n",
            "[nltk_data]    | Downloading package knbc to /root/nltk_data...\n",
            "[nltk_data]    | Downloading package lin_thesaurus to\n",
            "[nltk_data]    |     /root/nltk_data...\n",
            "[nltk_data]    |   Unzipping corpora/lin_thesaurus.zip.\n",
            "[nltk_data]    | Downloading package mac_morpho to /root/nltk_data...\n",
            "[nltk_data]    |   Unzipping corpora/mac_morpho.zip.\n",
            "[nltk_data]    | Downloading package machado to /root/nltk_data...\n",
            "[nltk_data]    | Downloading package masc_tagged to /root/nltk_data...\n",
            "[nltk_data]    | Downloading package moses_sample to\n",
            "[nltk_data]    |     /root/nltk_data...\n",
            "[nltk_data]    |   Unzipping models/moses_sample.zip.\n",
            "[nltk_data]    | Downloading package movie_reviews to\n",
            "[nltk_data]    |     /root/nltk_data...\n",
            "[nltk_data]    |   Unzipping corpora/movie_reviews.zip.\n",
            "[nltk_data]    | Downloading package names to /root/nltk_data...\n",
            "[nltk_data]    |   Unzipping corpora/names.zip.\n",
            "[nltk_data]    | Downloading package nombank.1.0 to /root/nltk_data...\n",
            "[nltk_data]    | Downloading package nps_chat to /root/nltk_data...\n",
            "[nltk_data]    |   Unzipping corpora/nps_chat.zip.\n",
            "[nltk_data]    | Downloading package omw to /root/nltk_data...\n",
            "[nltk_data]    |   Unzipping corpora/omw.zip.\n",
            "[nltk_data]    | Downloading package opinion_lexicon to\n",
            "[nltk_data]    |     /root/nltk_data...\n",
            "[nltk_data]    |   Unzipping corpora/opinion_lexicon.zip.\n",
            "[nltk_data]    | Downloading package paradigms to /root/nltk_data...\n",
            "[nltk_data]    |   Unzipping corpora/paradigms.zip.\n",
            "[nltk_data]    | Downloading package pil to /root/nltk_data...\n",
            "[nltk_data]    |   Unzipping corpora/pil.zip.\n",
            "[nltk_data]    | Downloading package pl196x to /root/nltk_data...\n",
            "[nltk_data]    |   Unzipping corpora/pl196x.zip.\n",
            "[nltk_data]    | Downloading package ppattach to /root/nltk_data...\n",
            "[nltk_data]    |   Unzipping corpora/ppattach.zip.\n",
            "[nltk_data]    | Downloading package problem_reports to\n",
            "[nltk_data]    |     /root/nltk_data...\n",
            "[nltk_data]    |   Unzipping corpora/problem_reports.zip.\n",
            "[nltk_data]    | Downloading package propbank to /root/nltk_data...\n",
            "[nltk_data]    | Downloading package ptb to /root/nltk_data...\n",
            "[nltk_data]    |   Unzipping corpora/ptb.zip.\n",
            "[nltk_data]    | Downloading package product_reviews_1 to\n",
            "[nltk_data]    |     /root/nltk_data...\n",
            "[nltk_data]    |   Unzipping corpora/product_reviews_1.zip.\n",
            "[nltk_data]    | Downloading package product_reviews_2 to\n",
            "[nltk_data]    |     /root/nltk_data...\n",
            "[nltk_data]    |   Unzipping corpora/product_reviews_2.zip.\n",
            "[nltk_data]    | Downloading package pros_cons to /root/nltk_data...\n",
            "[nltk_data]    |   Unzipping corpora/pros_cons.zip.\n",
            "[nltk_data]    | Downloading package qc to /root/nltk_data...\n",
            "[nltk_data]    |   Unzipping corpora/qc.zip.\n",
            "[nltk_data]    | Downloading package reuters to /root/nltk_data...\n",
            "[nltk_data]    | Downloading package rte to /root/nltk_data...\n",
            "[nltk_data]    |   Unzipping corpora/rte.zip.\n",
            "[nltk_data]    | Downloading package semcor to /root/nltk_data...\n",
            "[nltk_data]    | Downloading package senseval to /root/nltk_data...\n",
            "[nltk_data]    |   Unzipping corpora/senseval.zip.\n",
            "[nltk_data]    | Downloading package sentiwordnet to\n",
            "[nltk_data]    |     /root/nltk_data...\n",
            "[nltk_data]    |   Unzipping corpora/sentiwordnet.zip.\n",
            "[nltk_data]    | Downloading package sentence_polarity to\n",
            "[nltk_data]    |     /root/nltk_data...\n",
            "[nltk_data]    |   Unzipping corpora/sentence_polarity.zip.\n",
            "[nltk_data]    | Downloading package shakespeare to /root/nltk_data...\n",
            "[nltk_data]    |   Unzipping corpora/shakespeare.zip.\n",
            "[nltk_data]    | Downloading package sinica_treebank to\n",
            "[nltk_data]    |     /root/nltk_data...\n",
            "[nltk_data]    |   Unzipping corpora/sinica_treebank.zip.\n",
            "[nltk_data]    | Downloading package smultron to /root/nltk_data...\n",
            "[nltk_data]    |   Unzipping corpora/smultron.zip.\n",
            "[nltk_data]    | Downloading package state_union to /root/nltk_data...\n",
            "[nltk_data]    |   Unzipping corpora/state_union.zip.\n",
            "[nltk_data]    | Downloading package stopwords to /root/nltk_data...\n",
            "[nltk_data]    |   Unzipping corpora/stopwords.zip.\n",
            "[nltk_data]    | Downloading package subjectivity to\n",
            "[nltk_data]    |     /root/nltk_data...\n",
            "[nltk_data]    |   Unzipping corpora/subjectivity.zip.\n",
            "[nltk_data]    | Downloading package swadesh to /root/nltk_data...\n",
            "[nltk_data]    |   Unzipping corpora/swadesh.zip.\n",
            "[nltk_data]    | Downloading package switchboard to /root/nltk_data...\n",
            "[nltk_data]    |   Unzipping corpora/switchboard.zip.\n",
            "[nltk_data]    | Downloading package timit to /root/nltk_data...\n",
            "[nltk_data]    |   Unzipping corpora/timit.zip.\n",
            "[nltk_data]    | Downloading package toolbox to /root/nltk_data...\n",
            "[nltk_data]    |   Unzipping corpora/toolbox.zip.\n",
            "[nltk_data]    | Downloading package treebank to /root/nltk_data...\n",
            "[nltk_data]    |   Unzipping corpora/treebank.zip.\n",
            "[nltk_data]    | Downloading package twitter_samples to\n",
            "[nltk_data]    |     /root/nltk_data...\n",
            "[nltk_data]    |   Unzipping corpora/twitter_samples.zip.\n",
            "[nltk_data]    | Downloading package udhr to /root/nltk_data...\n",
            "[nltk_data]    |   Unzipping corpora/udhr.zip.\n",
            "[nltk_data]    | Downloading package udhr2 to /root/nltk_data...\n",
            "[nltk_data]    |   Unzipping corpora/udhr2.zip.\n",
            "[nltk_data]    | Downloading package unicode_samples to\n",
            "[nltk_data]    |     /root/nltk_data...\n",
            "[nltk_data]    |   Unzipping corpora/unicode_samples.zip.\n",
            "[nltk_data]    | Downloading package universal_treebanks_v20 to\n",
            "[nltk_data]    |     /root/nltk_data...\n",
            "[nltk_data]    | Downloading package verbnet to /root/nltk_data...\n",
            "[nltk_data]    |   Unzipping corpora/verbnet.zip.\n",
            "[nltk_data]    | Downloading package verbnet3 to /root/nltk_data...\n",
            "[nltk_data]    |   Unzipping corpora/verbnet3.zip.\n",
            "[nltk_data]    | Downloading package webtext to /root/nltk_data...\n",
            "[nltk_data]    |   Unzipping corpora/webtext.zip.\n",
            "[nltk_data]    | Downloading package wordnet to /root/nltk_data...\n",
            "[nltk_data]    |   Unzipping corpora/wordnet.zip.\n",
            "[nltk_data]    | Downloading package wordnet_ic to /root/nltk_data...\n",
            "[nltk_data]    |   Unzipping corpora/wordnet_ic.zip.\n",
            "[nltk_data]    | Downloading package words to /root/nltk_data...\n",
            "[nltk_data]    |   Unzipping corpora/words.zip.\n",
            "[nltk_data]    | Downloading package ycoe to /root/nltk_data...\n",
            "[nltk_data]    |   Unzipping corpora/ycoe.zip.\n",
            "[nltk_data]    | Downloading package rslp to /root/nltk_data...\n",
            "[nltk_data]    |   Unzipping stemmers/rslp.zip.\n",
            "[nltk_data]    | Downloading package maxent_treebank_pos_tagger to\n",
            "[nltk_data]    |     /root/nltk_data...\n",
            "[nltk_data]    |   Unzipping taggers/maxent_treebank_pos_tagger.zip.\n",
            "[nltk_data]    | Downloading package universal_tagset to\n",
            "[nltk_data]    |     /root/nltk_data...\n",
            "[nltk_data]    |   Unzipping taggers/universal_tagset.zip.\n",
            "[nltk_data]    | Downloading package maxent_ne_chunker to\n",
            "[nltk_data]    |     /root/nltk_data...\n",
            "[nltk_data]    |   Unzipping chunkers/maxent_ne_chunker.zip.\n",
            "[nltk_data]    | Downloading package punkt to /root/nltk_data...\n",
            "[nltk_data]    |   Unzipping tokenizers/punkt.zip.\n",
            "[nltk_data]    | Downloading package book_grammars to\n",
            "[nltk_data]    |     /root/nltk_data...\n",
            "[nltk_data]    |   Unzipping grammars/book_grammars.zip.\n",
            "[nltk_data]    | Downloading package sample_grammars to\n",
            "[nltk_data]    |     /root/nltk_data...\n",
            "[nltk_data]    |   Unzipping grammars/sample_grammars.zip.\n",
            "[nltk_data]    | Downloading package spanish_grammars to\n",
            "[nltk_data]    |     /root/nltk_data...\n",
            "[nltk_data]    |   Unzipping grammars/spanish_grammars.zip.\n",
            "[nltk_data]    | Downloading package basque_grammars to\n",
            "[nltk_data]    |     /root/nltk_data...\n",
            "[nltk_data]    |   Unzipping grammars/basque_grammars.zip.\n",
            "[nltk_data]    | Downloading package large_grammars to\n",
            "[nltk_data]    |     /root/nltk_data...\n",
            "[nltk_data]    |   Unzipping grammars/large_grammars.zip.\n",
            "[nltk_data]    | Downloading package tagsets to /root/nltk_data...\n",
            "[nltk_data]    |   Unzipping help/tagsets.zip.\n",
            "[nltk_data]    | Downloading package snowball_data to\n",
            "[nltk_data]    |     /root/nltk_data...\n",
            "[nltk_data]    | Downloading package bllip_wsj_no_aux to\n",
            "[nltk_data]    |     /root/nltk_data...\n",
            "[nltk_data]    |   Unzipping models/bllip_wsj_no_aux.zip.\n",
            "[nltk_data]    | Downloading package word2vec_sample to\n",
            "[nltk_data]    |     /root/nltk_data...\n",
            "[nltk_data]    |   Unzipping models/word2vec_sample.zip.\n",
            "[nltk_data]    | Downloading package panlex_swadesh to\n",
            "[nltk_data]    |     /root/nltk_data...\n",
            "[nltk_data]    | Downloading package mte_teip5 to /root/nltk_data...\n",
            "[nltk_data]    |   Unzipping corpora/mte_teip5.zip.\n",
            "[nltk_data]    | Downloading package averaged_perceptron_tagger to\n",
            "[nltk_data]    |     /root/nltk_data...\n",
            "[nltk_data]    |   Unzipping taggers/averaged_perceptron_tagger.zip.\n",
            "[nltk_data]    | Downloading package averaged_perceptron_tagger_ru to\n",
            "[nltk_data]    |     /root/nltk_data...\n",
            "[nltk_data]    |   Unzipping\n",
            "[nltk_data]    |       taggers/averaged_perceptron_tagger_ru.zip.\n",
            "[nltk_data]    | Downloading package perluniprops to\n",
            "[nltk_data]    |     /root/nltk_data...\n",
            "[nltk_data]    |   Unzipping misc/perluniprops.zip.\n",
            "[nltk_data]    | Downloading package nonbreaking_prefixes to\n",
            "[nltk_data]    |     /root/nltk_data...\n",
            "[nltk_data]    |   Unzipping corpora/nonbreaking_prefixes.zip.\n",
            "[nltk_data]    | Downloading package vader_lexicon to\n",
            "[nltk_data]    |     /root/nltk_data...\n",
            "[nltk_data]    | Downloading package porter_test to /root/nltk_data...\n",
            "[nltk_data]    |   Unzipping stemmers/porter_test.zip.\n",
            "[nltk_data]    | Downloading package wmt15_eval to /root/nltk_data...\n",
            "[nltk_data]    |   Unzipping models/wmt15_eval.zip.\n",
            "[nltk_data]    | Downloading package mwa_ppdb to /root/nltk_data...\n",
            "[nltk_data]    |   Unzipping misc/mwa_ppdb.zip.\n",
            "[nltk_data]    | \n",
            "[nltk_data]  Done downloading collection all\n"
          ],
          "name": "stdout"
        },
        {
          "output_type": "execute_result",
          "data": {
            "text/plain": [
              "True"
            ]
          },
          "metadata": {},
          "execution_count": 12
        }
      ]
    },
    {
      "cell_type": "markdown",
      "metadata": {
        "id": "j8YsJCfPJ-f7"
      },
      "source": [
        "**Here, I am going to calculate the similarity ratio between Error_Version and Truth Version**"
      ]
    },
    {
      "cell_type": "code",
      "metadata": {
        "colab": {
          "base_uri": "https://localhost:8080/"
        },
        "id": "YrssIaZq6-f-",
        "outputId": "5f92efeb-17c7-47ee-e768-349a1b2dba0e"
      },
      "source": [
        "# Program to measure the similarity between \n",
        "# two sentences using cosine similarity.\n",
        "from nltk.corpus import stopwords\n",
        "from nltk.tokenize import word_tokenize\n",
        "  \n",
        "# X = input(\"Enter first string: \").lower()\n",
        "# Y = input(\"Enter second string: \").lower()\n",
        "X =FileContent1\n",
        "Y =FileContent2\n",
        "  \n",
        "# tokenization\n",
        "X_list = word_tokenize(X) \n",
        "Y_list = word_tokenize(Y)\n",
        "  \n",
        "# sw contains the list of stopwords\n",
        "sw = stopwords.words('english') \n",
        "l1 =[];l2 =[]\n",
        "  \n",
        "# remove stop words from the string\n",
        "X_set = {w for w in X_list if not w in sw} \n",
        "Y_set = {w for w in Y_list if not w in sw}\n",
        "  \n",
        "# form a set containing keywords of both strings \n",
        "rvector = X_set.union(Y_set) \n",
        "for w in rvector:\n",
        "    if w in X_set: l1.append(1) # create a vector\n",
        "    else: l1.append(0)\n",
        "    if w in Y_set: l2.append(1)\n",
        "    else: l2.append(0)\n",
        "c = 0\n",
        "  \n",
        "# cosine formula \n",
        "for i in range(len(rvector)):\n",
        "        c+= l1[i]*l2[i]\n",
        "cosine = c / float((sum(l1)*sum(l2))**0.5)\n",
        "print(\"similarity: \", cosine)"
      ],
      "execution_count": null,
      "outputs": [
        {
          "output_type": "stream",
          "text": [
            "similarity:  0.5999798083293154\n"
          ],
          "name": "stdout"
        }
      ]
    },
    {
      "cell_type": "markdown",
      "metadata": {
        "id": "0k9Yh5nSKULj"
      },
      "source": [
        "**- I found that the similarity ration is 0.5999798 and percentage would be 59.99798%.**"
      ]
    },
    {
      "cell_type": "markdown",
      "metadata": {
        "id": "9ea1tDpPKnVz"
      },
      "source": [
        "## Now, I am gonna perform spelling correction with the help of TextBlob."
      ]
    },
    {
      "cell_type": "code",
      "metadata": {
        "colab": {
          "base_uri": "https://localhost:8080/"
        },
        "id": "a-FyBVfMg42H",
        "outputId": "424c52c0-c322-463e-8c89-4b88ad7026e1"
      },
      "source": [
        "!pip install textblob"
      ],
      "execution_count": null,
      "outputs": [
        {
          "output_type": "stream",
          "text": [
            "Requirement already satisfied: textblob in /usr/local/lib/python3.7/dist-packages (0.15.3)\n",
            "Requirement already satisfied: nltk>=3.1 in /usr/local/lib/python3.7/dist-packages (from textblob) (3.2.5)\n",
            "Requirement already satisfied: six in /usr/local/lib/python3.7/dist-packages (from nltk>=3.1->textblob) (1.15.0)\n"
          ],
          "name": "stdout"
        }
      ]
    },
    {
      "cell_type": "code",
      "metadata": {
        "id": "M50SVbuShtHh"
      },
      "source": [
        "from textblob import TextBlob\n",
        "import re"
      ],
      "execution_count": null,
      "outputs": []
    },
    {
      "cell_type": "code",
      "metadata": {
        "colab": {
          "base_uri": "https://localhost:8080/"
        },
        "id": "IkrjUQpPh3ou",
        "outputId": "61fd6d75-be8e-4043-db27-9ecbb9fca296"
      },
      "source": [
        "import re\n",
        "str=re.findall(\"[a-zA-Z,.]+\",FileContent1)\n",
        "updated_docx=(\" \".join(str))\n",
        "print(updated_docx)"
      ],
      "execution_count": null,
      "outputs": [
        {
          "output_type": "stream",
          "text": [
            "the students let us start the first lecture of this course this is basically a anline course so therefore you need to be very clear about what you are going to learn and how yeu are going to be evaluated first of all this is a course on phase transformation in materials and i will be teaching all the lectures and it is a thirty lecture corse that means there will be sixte twenty five minutes lecture and every week w will be exposed to i am not sure now about four to six lectures so that means about two to three hours of lectures so myself is persummiswas and i am a faculty member at the department of material cense engineering opiitianpull so thuts the detals about me my email address is available on the screen you can dialaly write to me whenever you have any serious problems and in addition to that to handle the courseexams and also grading of your answer seets although i know this will be all done all line will be taken care by the teaching assistems so two my students they will be handling that so they are actually the main person who will be handling your questions to my right first one i cospo chospotivaris is my pey student and second one is res pa res mis also my pan i student so they will be handling all your questions in a discussion forum obviously they are very difficult then i will also participate and also they will be handling your question paper and grading so mit ask will be to deliver all the lectures and then this will be uploaded int tan putal website so that you can observe and read or orlition or learn whatever me whatever way you can think about it nowadays also there is another provision all my lectures whatever i am speaking will be again taken down or written by some x parts so we are in the process of finding out those x parts for my earlier course and phase transformation materials similarly weill willl do it for you also so that you do nt need to listen you can actually read all these lectures nones so before that happens you are going to only listen this lectures available on the empetrial form and also you can ask questions in the discussion forum and so that s about it and their imular deses are given and i have carefully removed the phone numbers because this is why things become very difficult to handle so if you have any questions you can ask them ask me also or you can put it on the discussion formok you know like any things in life every course as an objective and this subjective has to be very clear before you start a course sopresent course actually we ill deal with basic surface transformations and materials as i said in in my introduction vadio already you have seen probably that past transformation is everyuler present in the environment whether you are talking about metals ceramics polyments or youare talking about real life whase transformations present but how do we deal is phase transformation that is wha w will be taught because thats what is important in your eneavor to learn phase transformations so using these three things one is your o thermodynamics tin kinetics and some basic aspect of material sensil like cystal structures and interfaces we are going to study various solid o solid an liquid to solid phase transformation as we know this is a vast subject and covering that in thirty lectures is not an easy task so obviously we must be selected we cannot teach you everything and to learn everything you need to have some basic idea what i put it as course perriquicite ok at this peracuosit ar you should have peperabil seuld up some basic knowledge on basicg material science that most of the students in metallurgy or material sanse normally have thermodynnamics especially the thermonynic functions and their relationships and then some idear phase dicoms and diffusion ok so i have already checked on different portions o wa in pteal but y mean wy different person is that there are some corsea video or some costiture wave some couses which are massive open allline so basic meterial sense is already been taught by some fecal numbers thermodynamics has already been available and phase ther ommi manself has develop a course and thenill just one yar back deffision is also piraly taught so therefore you can actually clear your doubts by while reading these lecture ok this is the full whether all the resciption of the all the lectures ok i dowt know whether everything is coming in the schene or not but anyway most important thing is that we are going to talk about some very at the beginning we are going to talk give you some idea about fee eng because that is a therbonanis part of the phase diagram so we will show you the calculation of delta g of various transformations ok then we will talk about quite a bit of interfacces interfaces means liquid sal is solid solid grain grain interface interface interfaeinturfaces these are all parts of with theronynoamics then we have to go into kinetics thats the nuculation because nuclation is why the starting point of phase transformations so therefore theory of necclation howmoteou etegean eculations and nicculation on the surface is grains and even cen corner gen s everywhere it will be dealt with and assume youon ecleasion itself a subject so there therepory must be a very an now we have to be very careful about what you are going to talk about it i wonlt be goilg to tell you every details of the niculation but whatever relevant we will discuss then weu are going to start the first of the fist transfertion that is om solidification as youl see here sitification is an liquid to solid phase transformations then we will talk about growth during different aspects like thermal activated god interface control go efficient control go that s why you need to know and cassil as couple goe then you take toeutectric transformations then we will talk about little bit about transformation kinetics in terms of theeen model con enmel and aromi models and some amount of te thermal phase transformations then we simply go on to different soi to solitla transforsioni presipitations rectliz and matisides spinagtal dey comporitions and a wit about stermaland continuous transformations that itself will be sufficient and ap to cover tatilectures ok so this is important that you know what you are going to be taught at the beginning so that you can prepare yourself so we are going to follow exactly the same way things are given ond the right side i have also eassted down number of lectures will be spend on each topic now comes in very important aspects because in the massive open allline course you will be exposed to radio lectures or the ali lectures you must have some amount of you know textbook knowledge so therefore two important texbook which i have carried from our libary is this first one which is which is here is written on that is phase transformation in metals and alloys classic textbook by d a porter and k is telling and the retant addition also has come with a new author all the poblems ol solved by mister sductor am srip this is available in india not very expensive book you can read that and the other book is written by two my past colleagues although i have never met them but they are ita anpol this book is pase ransformation is in materials and by propessor ak geni and prome m cso thropey both er i tecanpuo so when these books are written theyare all therwere gena was in conpul ok so these two books will be your basic textbooks for the course and anyone any of these books will be good for you you can buy these books or you can actually cofy from different liabilitin in the different parts of the booksyo can copy from different libraries or if you if you want you can actually even now get buy that on different online stores current so thatis about the basic part of the courseading before i could move onto the next portion ow my lecture why the pac transfer sale wet let me tell you you will be given assignments in every week and i think assermenstion normally uploaded on thursday and because monday wenus t mandayto etness stay will be exposed to the lectures and after that you will be i will be or my t sh willl be uploading the assenments and you will be given bout one wexks time to complete the assignments because assignments olme alline so the questions whould be multiple choice type or may be fieling fill in the blank stipe as a senment wo levo it is a fifty percent vatage and at the end of this semisster you will be taking an nsm exam and we are planning to have it anlline so far if i do not change my decisions or something else happens other isity peall line and that wwill be having a fifty percent vertage although i am not keeping any pass marks fof this course but you can tentitively consider if you are getting less than about say thirty percent of the marks then you will not be able to pass this course and those who will be successfully complating this course by taking examps and getting good marks will be given sadification from the inpetrial as you know so that way i expect that you will be very serious planner and you will be also able to solve thise problems if a in case you have difficulties you can always discuss we can always use discussion for or you can write emails you can always bring it to the instructor all the t s so that we can make it clear to you thats very important because understandly you know the things very well ouwod not be able to answer the questions now in the next few slides i am going to talk about what ar relevant sof face transformation materials eelonment and why do you study in any course i know that many of you do not expose by the instructor in the same way you must have an idea why you are studying this course what is the need well phase transformation assisiol is presented envoroment ok the slide i have taken from literature ou ome that is what i am going to answer to you why study phase transformation material science ok you know what wearin actually we look materials for the application in any case finally we have to think of application uness aantilis materi is applied engineering point of view we do nt find any reason to study stentii qoan to give one can stand so application means we must know the properties all kinds of of part so there is a physical mechanical electronic electrical magnetic depending on the applications so property proparti sola material is are estimated very very regarsly to find and potential applications this is two porbe new material when it is developed so now question is this poparti as i say mechanical chemical electrical minity thermal you can evenly stond miny more propariies of the material depends on structure and thats why actal leral problem come structure has length scale you can simply say atomic structure at min structure is the smallest structure you can think about it atom and nucleus in fact that is why detales one sonle propadisiofto material but that is not all that is what in so this is wha you must know very clear that is not all so structure means it can be atmix structure moleculor structure grain structure phase as distribution and defects ok so we have basically have listed down from the bottom of atom is the smalle species and then we have grains and other things so you must have i am stressing again you mast tem end go a good idea about thes structures to colulate to the properties because it is important that the properties are primarily dictated by this structure so if i know thes taxture i can vector the properties so you got the corelition right a very logically speaking we make materials whether we use processing techniques to make materials and these pocessing techniques allow you to control structure processing techninue means what you can start with he liquid and solidifi that is why the solidification you can start with a metal piece deform by rolling forceea ixtrution whatever deferent means so you actually process or you connectyou deposite tin flame you can actually use surfa statement techniques many things we do in the real app now processing of materials they have a direct connections with a structure and stractor as a direct link with the properties so as you see here these actually are variables for the processing temperature pressure o stress strain or volume and chemical compussion for the aways you can change chemical comparation by making different allays so these are my variables in processing and by applying these variables rcommunation variables i generatemor mi make materials or manufacturing materials and these processing variables control the structure unstructure controlser properties so thers therefore these three are linked very clearly they are linked they are not separate or they are not independent things they are connected to each other t these are the bridges of these three important pillars of material science processing structure an property but finally what we look for finally we look for what is known as performance if yo war you are studying in a co sylamas in a course we are finally a holelotingal performance similarly materials are alated in terms of performance if i put a tyre in our car that means the major performanceis that i should be able to drive the take the car for one place to the place without any problems whut you know tires will varry from a summer to winter in the in the point countries and ice the tires which will travel n ic t are different so that means performance indeed are actually connected to all these three things processing structure and the properties and that is what is important this chart which is very famous in material science youwill find in many books is known as the material statehydron because they i actually looks like it ha tri so finally where does the pise transformation comes it is in the structure we modify the structure we modify the atomic structure wo vontify the grain structural modifie the phasesby phase transformations so therefore phase transformationis a direct link wofh the procession and also indirectly corrected with the properties and thats why it is a very important course in the material ens engineering you must understand that without knowing the phase transformations you cannot control material properties ok so phase transformation phericallibeof thermodynamics is the basis for understanding a material respons to change in temperature pressure composition i must accept this is slide i have taken from way this is not mine thus the cskhetical link between processing and microstructure requires an knowledge of the relevant thermodynamic principles and they are the basis force phase ransformation so you understand now why we are actually studying the phase transformations ok now question is this can i relate in the real applications i have taken four application again ily taken from the internate sites first one is an airplane ok air plane is a very important mode of transport from one part of the wall to the other plant and you know the material which is used in the airplane is an aluminum coper alloy if you do not know you can actually thake on the books there is a classical alloy elevin a four point five to four point seven percent copper known as develumin in the in the trannine and this is a very stable ally from forty five deee celsius to minus sixty five u celso or even minus a t ti cels i don t know how many of you prate new stat there is a desise laboratory in the southern hemissphere that is in antactica and sometimes if somebody is ill in the decised laboratorieis in winter time they are actually taken from that place by plane to termelat the the different content unespecially in southa america or sub parts but it will be extremely cold minus sixthief to minus eighty dege sel system pressures so a plane flying there the meterial has to withstand such a low temperature so ther this one nufe material which is prepared long back is used for the plane body and important phase transformation which happening here is a presipitation of certain phase in aluminum alase and these pecifitates provide the strength from high toonar temperature if you travel carefully on the planes you will find especially in the wings reveted joints and these revated joints are very strong at low temperatures because of the pecifitation so we are going to discuss about that the next one which is very important the right side is a turbine basically it can be used in the plane the high squid plane or inven in pow generators and they contained nickel by supervise is onderful material is a nickel aluminum alloy with consisting of many ou elements which i will not discuss in detail now but again the real high temperature propertiis because this this is a turbine so therefore this has to isstan high temperature high temperature properties cubiastane properties of this material is basically because of presipitation of a i three a type l one to pecipitates what you known as in a nickel mafrix eptrisi matrix and these unique pesipitates actually provide the strength ok the thus that that means the pestipretation is very important aspect to understand so that s why is will be part of a syllivas then on the side left side or you know may be right this is the rails which is used to as a fist plate on the relay tracks these action steels basically ther steel of parallite what do we known as if you do not have any idea of parallytes pinite is nothing but a eu tectortically transform product of gamma solisulation of carbon in iron and so therefore you must we must know how this transformation happens whether can wou control it because the properties of the rail depends on that remember ral is is what is allowing you to alon us to move trains so therefore they are they are subjected to straiss temperature harshhen movement and many other things so they must have combinations of properties so that they can serve the purpose and these is basically done by controlling the phase trans fotions on the right side this is the end the fast example is basically the titanium based ally engines ok remember these engines are not used in car they will be estingused in the planes or maybe in some other statiic applications like ter like the submarines or so so these engines actually has many plaslect itanium balves tha dineam mmc is pins that iamm c cranks ups many other things springs and they are tightina aluminites you know titanium out of thes all thatinamalise the most important allo which is extensively used is thitinium six aluminium pole canadium and it it we can control the marchester of these by mini ways creating alphalatonium also plus beted ditenium metou tatinm alloys so the propertisill vary depending on whether its alpha so plus petal p meter re alpha is xamo pro spect structure meta is which is in structure so ratinium actually a noom temperature below what to eight hundred eighty two dea cel system presture is basically alpan above there in is n t is aing mec c structure so one can i actually play around in the temperature jone why again controlling the posting parameters to create different kinds of structures to get different properties so all these application dont think that they are all similar alparallits or metalos ofopenit always they can be combination so many of these then the actual real problem is how do i control these microstructures by controlling the prosissing parameters so rember these four examples are not exhaustive one can find many many examples in real life as i told in my first introduction lectures the basic example we always find is in in in country like india in the hot summer day you want to drink cold water so you can always put the quater inside the friige and get it cooled but it is real advantage is that if i take a glass of water and add a ice cube taken from the dee preture imedially the ic squee will start melting it down or getting dissolved in the water both a actually i tw o one is solid i tu or is a liquid isste so therefore by melting it down the heat in getting transfer to the liquid and then the water gets cooled down you enjoy the dring so this is the example which is present which we are actually doing it but what is important nou for you to understand how this transformation happens how the solid become liquid liquid become solid whether is very simple unknown remmer what is one of the most complex systems in the wild i m a unlike metal thes are more complex so let me just stop here before i go to the next part of the lecture or the next class so you understand in a natall that phase transformation is basically very important from the perspectives s of material science and technology and many of these products which you are actually using thes the properties are controlled by controlling phase transformations we can do that by using different pousing parametous temperature stay strain compossions and wy doing that we alter the microstructure the atmix structure and by doing that you are creating different propertiesso that is the relevance of face ansformation course and which you will be exposed to the next subsequent lectures\n"
          ],
          "name": "stdout"
        }
      ]
    },
    {
      "cell_type": "code",
      "metadata": {
        "id": "PVXQuf6DjGrC",
        "colab": {
          "base_uri": "https://localhost:8080/"
        },
        "outputId": "c38285d1-5621-4c17-9677-a9973d23a68d"
      },
      "source": [
        "new_doc = TextBlob(updated_docx)\n",
        "\n",
        "FileContent3 = new_doc.correct()\n",
        "print(FileContent3)\n",
        "\n"
      ],
      "execution_count": null,
      "outputs": [
        {
          "output_type": "stream",
          "text": [
            "the students let us start the first lecture of this course this is basically a online course so therefore you need to be very clear about what you are going to learn and how you are going to be evacuated first of all this is a course on phase transformation in materials and i will be teaching all the lectures and it is a thirty lecture course that means there will be sixth twenty five minutes lecture and every week w will be exposed to i am not sure now about four to six lectures so that means about two to three hours of lectures so myself is persummiswas and i am a faculty member at the department of material sense engineering opiitianpull so thus the details about me my email address is available on the screen you can dilly write to me whenever you have any serious problems and in addition to that to handle the courseexams and also trading of your answer seems although i know this will be all done all line will be taken care by the teaching assisted so two my students they will be handling that so they are actually the main person who will be handling your questions to my right first one i costo chospotivaris is my pay student and second one is yes pa yes his also my pan i student so they will be handling all your questions in a discussion forum obviously they are very difficult then i will also participate and also they will be handling your question paper and trading so it ask will be to deliver all the lectures and then this will be unloaded in an petal webster so that you can observe and read or oblivion or learn whatever me whatever way you can think about it nowadays also there is another provision all my lectures whatever i am speaking will be again taken down or written by some x parts so we are in the process of finding out those x parts for my earlier course and phase transformation materials similarly will will do it for you also so that you do it need to listen you can actually read all these lectures bones so before that happens you are going to only listen this lectures available on the imperial form and also you can ask questions in the discussion forum and so that s about it and their similar doses are given and i have carefully removed the phone numbers because this is why things become very difficult to handle so if you have any questions you can ask them ask me also or you can put it on the discussion form you know like any things in life every course as an objective and this subjective has to be very clear before you start a course present course actually we ill deal with basic surface transformation and materials as i said in in my introduction radio already you have seen probably that past transformation is everyuler present in the environment whether you are talking about metals ceramics payments or your talking about real life whose transformation present but how do we deal is phase transformation that is who w will be taught because that what is important in your endeavor to learn phase transformation so using these three things one is your o thermodynamics tin kinetic and some basic aspect of material sense like crystal structures and interface we are going to study various solid o solid an liquid to solid phase transformation as we know this is a vast subject and covering that in thirty lectures is not an easy task so obviously we must be selected we cannot teach you everything and to learn everything you need to have some basic idea what i put it as course perriquicite ok at this peracuosit ar you should have peperabil would up some basic knowledge on basic material science that most of the students in metallurgy or material sense normally have thermodynnamics especially the thermonynic functions and their relationships and then some dear phase icons and diffusion ok so i have already checked on different portions o wa in steal but y mean by different person is that there are some cornea video or some constitute wave some causes which are massive open alkaline so basic material sense is already been taught by some faecal numbers thermodynamics has already been available and phase the semi myself has develop a course and thrill just one war back decision is also pray taught so therefore you can actually clear your doubts by while reading these lecture ok this is the full whether all the reception of the all the lectures ok i down know whether everything is coming in the scene or not but anyway most important thing is that we are going to talk about some very at the beginning we are going to talk give you some idea about fee end because that is a therbonanis part of the phase diagram so we will show you the calculation of felt g of various transformation ok then we will talk about quite a bit of interface interface means liquid sal is solid solid grain grain interface interface interfaeinturfaces these are all parts of with theronynoamics then we have to go into kinetic that the inoculation because enucleation is why the starting point of phase transformation so therefore theory of peculation howmoteou etegean regulations and circulation on the surface is grains and even men corner gen s everywhere it will be dealt with and assume you ecleasion itself a subject so there therefore must be a very an now we have to be very careful about what you are going to talk about it i wont be going to tell you every details of the circulation but whatever relevant we will discuss then we are going to start the first of the fist transfertion that is om solidification as you see here ratification is an liquid to solid phase transformation then we will talk about growth during different aspects like thermal activate god interface control go efficient control go that s why you need to know and cassel as couple go then you take toeutectric transformation then we will talk about little bit about transformation kinetic in terms of there model con enamel and aroma models and some amount of te thermal phase transformation then we simply go on to different so to solitla transforsioni presipitations rectliz and matisides spinagtal dey corporations and a wit about stermaland continuous transformation that itself will be sufficient and a to cover tatilectures ok so this is important that you know what you are going to be taught at the beginning so that you can prepare yourself so we are going to follow exactly the same way things are given and the right side i have also passed down number of lectures will be spend on each topic now comes in very important aspects because in the massive open alkaline course you will be exposed to radio lectures or the ali lectures you must have some amount of you know textbook knowledge so therefore two important textbook which i have carried from our library is this first one which is which is here is written on that is phase transformation in metals and allows classic textbook by d a porter and k is telling and the meant addition also has come with a new author all the problems of solved by mister doctor am ship this is available in india not very expensive book you can read that and the other book is written by two my past colleagues although i have never met them but they are it angel this book is case transformation is in materials and by professor ak genu and prove m so throne both er i tecanpuo so when these books are written there all therwere jena was in consul ok so these two books will be your basic textbook for the course and anyone any of these books will be good for you you can buy these books or you can actually copy from different liability in the different parts of the books can copy from different libraries or if you if you want you can actually even now get buy that on different online stores current so that about the basic part of the courseading before i could move onto the next portion of my lecture why the pay transfer sale wet let me tell you you will be given assignment in every week and i think assermenstion normally unloaded on thursday and because monday wens t mandate witness stay will be exposed to the lectures and after that you will be i will be or my t s will be unloading the assenments and you will be given bout one weeks time to complete the assignment because assignment lome aline so the questions would be multiple choice type or may be feeling fill in the blank stile as a segment wo leo it is a fifty percent vantage and at the end of this semisster you will be taking an nom exam and we are planning to have it aniline so far if i do not change my decisions or something else happens other city pearl line and that will be having a fifty percent average although i am not keeping any pass marks of this course but you can tentitively consider if you are getting less than about say thirty percent of the marks then you will not be able to pass this course and those who will be successfully completing this course by taking example and getting good marks will be given ratification from the imperial as you know so that way i expect that you will be very serious planner and you will be also able to solve this problems if a in case you have difficulties you can always discuss we can always use discussion for or you can write email you can always bring it to the instructor all the t s so that we can make it clear to you that very important because understand you know the things very well wood not be able to answer the questions now in the next few sides i am going to talk about what ar relevant of face transformation materials eelonment and why do you study in any course i know that many of you do not expose by the instructor in the same way you must have an idea why you are studying this course what is the need well phase transformation assisiol is presented environment ok the slide i have taken from literature ou one that is what i am going to answer to you why study phase transformation material science ok you know what wearing actually we look materials for the application in any case finally we have to think of application unless aantilis mater is applied engineering point of view we do it find any reason to study stencil moan to give one can stand so application means we must know the properties all kinds of of part so there is a physical mechanical electronic electrical magnetic depending on the applications so property property sofa material is are estimated very very regarsly to find and potential applications this is two probe new material when it is developed so now question is this poupart as i say mechanical chemical electrical minute thermal you can evenly stood many more properties of the material depends on structure and that why actual legal problem come structure has length scale you can simply say atomic structure at min structure is the smallest structure you can think about it atom and nucleus in fact that is why details one sole propadisiofto material but that is not all that is what in so this is who you must know very clear that is not all so structure means it can be amid structure molecular structure grain structure phase as distribution and defects ok so we have basically have listed down from the bottom of atom is the small species and then we have grains and other things so you must have i am stressing again you mast them end go a good idea about the structures to calculate to the properties because it is important that the properties are primarily dictated by this structure so if i know the texture i can vector the properties so you got the coalition right a very logical speaking we make materials whether we use processing technique to make materials and these processing technique allow you to control structure processing technique means what you can start with he liquid and solidified that is why the solidification you can start with a metal piece reform by rolling force intrusion whatever deferens means so you actually process or you connection deposit tin flame you can actually use surf statement technique many things we do in the real pp now processing of materials they have a direct connections with a structure and traitor as a direct link with the properties so as you see here these actually are variable for the processing temperature pressure o stress strain or volume and chemical compassion for the away you can change chemical corporation by making different allays so these are my variable in processing and by applying these variable rcommunation variable i generatemor mi make materials or manufacturing materials and these processing variable control the structure structure controller properties so there therefore these three are linked very clearly they are linked they are not separate or they are not independent things they are connected to each other t these are the bridges of these three important pillars of material science processing structure an property but finally what we look for finally we look for what is known as performance if to war you are studying in a co sylamas in a course we are finally a holelotingal performance similarly materials are elated in terms of performance if i put a tyre in our car that means the major performances that i should be able to drive the take the car for one place to the place without any problems what you know tires will carry from a summer to winter in the in the point countries and ice the tires which will travel n in t are different so that means performance indeed are actually connected to all these three things processing structure and the properties and that is what is important this chart which is very famous in material science youwill find in many books is known as the material statehydron because they i actually looks like it ha try so finally where does the rise transformation comes it is in the structure we modify the structure we modify the atomic structure wo fortify the grain structural modified the phases phase transformation so therefore phase transformation a direct link of the procession and also indirectly corrected with the properties and that why it is a very important course in the material end engineering you must understand that without knowing the phase transformation you cannot control material properties ok so phase transformation phericallibeof thermodynamics is the basis for understanding a material response to change in temperature pressure composition i must accept this is slide i have taken from way this is not mine thus the cskhetical link between processing and microstructure requires an knowledge of the relevant thermodynamic principles and they are the basis force phase transformation so you understand now why we are actually studying the phase transformation ok now question is this can i relate in the real applications i have taken four application again ill taken from the internal sites first one is an airplane ok air plane is a very important mode of transport from one part of the wall to the other plant and you know the material which is used in the airplane is an aluminium cover allow if you do not know you can actually take on the books there is a classical allow eleven a four point five to four point seven percent copper known as develumin in the in the training and this is a very stable ally from forty five deep celsus to minus sixty five u also or even minus a t ti cells i don t know how many of you rate new state there is a desire laboratory in the southern hemisphere that is in antactica and sometimes if somebody is ill in the decided laboratories in winter time they are actually taken from that place by plane to termelat the the different content especially in south america or sub parts but it will be extremely cold minus sixties to minus eighty edge see system pressure so a plane flying there the material has to withstand such a low temperature so the this one life material which is prepared long back is used for the plane body and important phase transformation which happening here is a presipitation of certain phase in aluminium alas and these pecifitates provide the strength from high sooner temperature if you travel carefully on the planes you will find especially in the wings riveted joints and these related joints are very strong at low temperatures because of the pacification so we are going to discuss about that the next one which is very important the right side is a turbine basically it can be used in the plane the high squad plane or invent in now generations and they contained nickel by supervise is wonderful material is a nickel aluminium allow with consisting of many ou elements which i will not discuss in detail now but again the real high temperature properties because this this is a turbine so therefore this has to instant high temperature high temperature properties cubiastane properties of this material is basically because of presipitation of a i three a type l one to precipitated what you known as in a nickel matrix eptrisi matrix and these unique pesipitates actually provide the strength ok the thus that that means the pestipretation is very important aspect to understand so that s why is will be part of a sullivan then on the side left side or you know may be right this is the rails which is used to as a fist plate on the relay tracks these action steel basically the steel of parasite what do we known as if you do not have any idea of paralyses finite is nothing but a e tectortically transform product of mamma solisulation of carbon in iron and so therefore you must we must know how this transformation happens whether can you control it because the properties of the rail depends on that remember ran is is what is allowing you to along us to move trains so therefore they are they are subjected to strains temperature harsher movement and many other things so they must have combinations of properties so that they can serve the purpose and these is basically done by controlling the phase trans notions on the right side this is the end the fast example is basically the titanic based ally engines ok remember these engines are not used in car they will be estingused in the planes or maybe in some other static applications like her like the submarines or so so these engines actually has many plaslect cranium valves the dream mmm is pins that same c cranks up many other things springs and they are fighting aluminites you know titanic out of the all thatinamalise the most important all which is extensively used is thitinium six aluminium pole canadian and it it we can control the manchester of these by mind ways creating alphalatonium also plus belted ditenium met taking allows so the propertisill vary depending on whether its alpha so plus petal p peter re alpha is same pro spent structure met is which is in structure so ratinium actually a room temperature below what to eight hundred eighty two dear cell system pressure is basically alan above there in is n t is king me c structure so one can i actually play around in the temperature one why again controlling the posting parameter to create different kinds of structures to get different properties so all these application dont think that they are all similar alparallits or metals ofopenit always they can be combination so many of these then the actual real problem is how do i control these microstructures by controlling the promising parameter so member these four examples are not exhaustive one can find many many examples in real life as i told in my first introduction lectures the basic example we always find is in in in country like india in the hot summer day you want to drink cold water so you can always put the quarter inside the fringe and get it cooled but it is real advantage is that if i take a glass of water and add a ice cure taken from the see pressure medially the in see will start melting it down or getting dissolved in the water both a actually i to o one is solid i tu or is a liquid issue so therefore by melting it down the heat in getting transfer to the liquid and then the water gets cooled down you enjoy the during so this is the example which is present which we are actually doing it but what is important not for you to understand how this transformation happens how the solid become liquid liquid become solid whether is very simple unknown remember what is one of the most complex systems in the wild i m a unlike metal the are more complex so let me just stop here before i go to the next part of the lecture or the next class so you understand in a nataly that phase transformation is basically very important from the perspective s of material science and technology and many of these products which you are actually using the the properties are controlled by controlling phase transformation we can do that by using different pouring parametous temperature stay strain commissions and by doing that we alter the microstructure the amid structure and by doing that you are creating different properties that is the relevance of face information course and which you will be exposed to the next subsequent lectures\n"
          ],
          "name": "stdout"
        }
      ]
    },
    {
      "cell_type": "code",
      "metadata": {
        "id": "CRSEByIPHMcP"
      },
      "source": [
        "s = \"\"\n",
        "for i in range(len(FileContent3)):\n",
        "  s += FileContent3[i]\n"
      ],
      "execution_count": null,
      "outputs": []
    },
    {
      "cell_type": "code",
      "metadata": {
        "id": "h_5-2fNMnumh"
      },
      "source": [
        "f3 = s.split()"
      ],
      "execution_count": null,
      "outputs": []
    },
    {
      "cell_type": "code",
      "metadata": {
        "id": "DduDo-KQP59E"
      },
      "source": [
        "import difflib"
      ],
      "execution_count": null,
      "outputs": []
    },
    {
      "cell_type": "code",
      "metadata": {
        "colab": {
          "base_uri": "https://localhost:8080/"
        },
        "id": "JKTgni-kqy5l",
        "outputId": "d1f313c9-3771-4f2a-ff0c-5cf6d48c2f68"
      },
      "source": [
        "seq_mat = difflib.SequenceMatcher()\n",
        "\n",
        "seq_mat.set_seqs(f2, f3)\n",
        "print(\"Similarity Ratio            : {}\".format(seq_mat.ratio()))"
      ],
      "execution_count": null,
      "outputs": [
        {
          "output_type": "stream",
          "text": [
            "Similarity Ratio            : 0.741795175958877\n"
          ],
          "name": "stdout"
        }
      ]
    },
    {
      "cell_type": "code",
      "metadata": {
        "id": "ot6wEagZUSQv"
      },
      "source": [
        "listt = []"
      ],
      "execution_count": null,
      "outputs": []
    },
    {
      "cell_type": "code",
      "metadata": {
        "colab": {
          "base_uri": "https://localhost:8080/"
        },
        "id": "3Sln_QgF438g",
        "outputId": "b0e05bbe-53a1-4448-f598-3ef53ccb652d"
      },
      "source": [
        "si = difflib.SequenceMatcher(None, s, FileContent2)\n",
        "for tag, i1, i2, j1, j2 in si.get_opcodes():\n",
        "  listt.append(tag)\n",
        "  print('{:7}   s[{}:{}] --> FileContent2[{}:{}] {!r:>8} --> {!r}'.format(\n",
        "  tag, i1, i2, j1, j2, s[i1:i2], FileContent2[j1:j2]))"
      ],
      "execution_count": null,
      "outputs": [
        {
          "output_type": "stream",
          "text": [
            "replace   s[0:86] --> FileContent2[0:88] 'the students let us start the first lecture of this course this is basically a online ' --> '\\ufeffdear students let us start the first lecture of this course this is basically a online\\n'\n",
            "equal     s[86:173] --> FileContent2[88:175] 'course so therefore you need to be very clear about what you are going to learn and how' --> 'course so therefore you need to be very clear about what you are going to learn and how'\n",
            "replace   s[173:174] --> FileContent2[175:176]      ' ' --> '\\n'\n",
            "equal     s[174:197] --> FileContent2[176:199] 'you are going to be eva' --> 'you are going to be eva'\n",
            "replace   s[197:356] --> FileContent2[199:358] 'cuated first of all this is a course on phase transformation in materials and i will be teaching all the lectures and it is a thirty lecture course that means ' --> 'luated first of all this is a course on phase transformation in\\nmaterials and i will be teaching all the lectures and it is a thirty lecture course that means\\n'\n",
            "equal     s[356:374] --> FileContent2[358:376] 'there will be sixt' --> 'there will be sixt'\n",
            "replace   s[374:375] --> FileContent2[376:377]      'h' --> 'y'\n",
            "equal     s[375:420] --> FileContent2[377:422] ' twenty five minutes lecture and every week w' --> ' twenty five minutes lecture and every week w'\n",
            "replace   s[420:430] --> FileContent2[422:476] ' will be e' --> 'ill be i suppose to i am not\\nsure now about four to si'\n",
            "equal     s[430:431] --> FileContent2[476:477]      'x' --> 'x'\n",
            "replace   s[431:474] --> FileContent2[477:843] 'posed to i am not sure now about four to si' --> ' lectures so that means about two to three hours of lectures\\nso myself is professor biswas and i am a faculty member at the department of material science\\nengineering of iit kanpur so thats the details about me my email address is available on\\nthe screen you can daily write to me whenever you have any serious problems and in addition\\nto that to handle the course e'\n",
            "equal     s[474:475] --> FileContent2[843:844]      'x' --> 'x'\n",
            "replace   s[475:699] --> FileContent2[844:1268] ' lectures so that means about two to three hours of lectures so myself is persummiswas and i am a faculty member at the department of material sense engineering opiitianpull so thus the details about me my email address is a' --> 'ams and also grading appear answer sheets i know this will\\nbe done online will be taken care by the teaching assistance\\nso two of my students they will be handling that so they are actually the main ah person\\nwill be handling your questions to my write first one is kushbu kushbu tiwari is my pg\\nand second one is reshma reshma is also my pg student so they will be handling all your\\nthe questions in the discussion forum ob'\n",
            "equal     s[699:700] --> FileContent2[1268:1269]      'v' --> 'v'\n",
            "replace   s[700:753] --> FileContent2[1269:1285] 'ailable on the screen you can dilly write to me whene' --> 'iously they are '\n",
            "equal     s[753:756] --> FileContent2[1285:1288]    'ver' --> 'ver'\n",
            "replace   s[756:763] --> FileContent2[1288:1417] ' you ha' --> 'y difficult and i will also participate\\nand also they will be handling your question paper and grading so my task will be to deli'\n",
            "equal     s[763:765] --> FileContent2[1417:1419]     've' --> 've'\n",
            "replace   s[765:831] --> FileContent2[1419:1716] ' any serious problems and in addition to that to handle the course' --> 'r\\nall the lectures and then this will be uploaded in to nptel website so that you can observe\\nand read or or listen online whatever is whatever way you can think about it\\nnow a days also there is another provision all my lectures whatever i am speaking will\\nbe again taken down or written by some '\n",
            "equal     s[831:833] --> FileContent2[1716:1718]     'ex' --> 'ex'\n",
            "replace   s[833:886] --> FileContent2[1718:2061] 'ams and also trading of your answer seems although i ' --> 'perts so we are in the process of finding out those\\nexperts on my earlier course on phase transformation materials similarly we will do it for you\\nalso so that you dont need to listen you can actually read all this lectures notes so before\\nthat happens we are going to only listen this lectures available on the nptel forum and\\nalso you can as'\n",
            "equal     s[886:887] --> FileContent2[2061:2062]      'k' --> 'k'\n",
            "replace   s[887:932] --> FileContent2[2062:2303] 'now this will be all done all line will be ta' --> ' questions in the discussion forum and so thats about it and there email\\naddress is are given and i have carefully removed the phone numbers because this is\\nwhere things become very difficult to handle so if you have any questions you can as'\n",
            "equal     s[932:933] --> FileContent2[2303:2304]      'k' --> 'k'\n",
            "replace   s[933:1075] --> FileContent2[2304:3191] 'en care by the teaching assisted so two my students they will be handling that so they are actually the main person who will be handling your ' --> ' them\\nask me also or you can put it on the discussion forum ok you know like any things in life\\nevery course has an objective and this objective has to be very clear before you start the\\ncourse\\nso present course actually will deal with basics of transformations in materials and\\nas i said in my introduction video already you have seen probably that phase transformation\\nis everywhere present in the normal whether you are talking about materials ceramics polymers\\nor you are talking about real life phase transformation is present that how do we deal with phase\\ntransformation that is what you will be taught because thats what is important in your endower\\nto learn phase transformation so using these three things one is your thermodynamics\\nthen kinetics and some basic aspect of material sands like crystal structures and interfaces\\nwe are going to study various solid to solid and li'\n",
            "equal     s[1075:1077] --> FileContent2[3191:3193]     'qu' --> 'qu'\n",
            "replace   s[1077:1123] --> FileContent2[3193:3264] 'estions to my right first one i costo chospoti' --> 'id to solid phase transformation as\\nyou know this is our subject and co'\n",
            "equal     s[1123:1124] --> FileContent2[3264:3265]      'v' --> 'v'\n",
            "replace   s[1124:1236] --> FileContent2[3265:3469] 'aris is my pay student and second one is yes pa yes his also my pan i student so they will be handling all your ' --> 'ering that in thirty lectures is not an easy task\\nso obviously we must be selected we cannot teach you everything and to learn everything\\nyou need to have some basic idea ah what i put it as course pre re'\n",
            "equal     s[1236:1238] --> FileContent2[3469:3471]     'qu' --> 'qu'\n",
            "replace   s[1238:1270] --> FileContent2[3471:3518] 'estions in a discussion forum ob' --> 'isites ok and this\\npre requisites are should ha'\n",
            "equal     s[1270:1271] --> FileContent2[3518:3519]      'v' --> 'v'\n",
            "replace   s[1271:1287] --> FileContent2[3519:3541] 'iously they are ' --> 'e preferably should ha'\n",
            "equal     s[1287:1289] --> FileContent2[3541:3543]     've' --> 've'\n",
            "replace   s[1289:1367] --> FileContent2[3543:4775] 'ry difficult then i will also participate and also they will be handling your ' --> ' some basic knowledge on basic\\nmaterial science that most of the students in methodology or material science normally\\nhave thermodynamics especially with thermodynamics functions and their relationships and then\\nsome idea about phase diagrams and diffusion ok\\nso ah i have already ah checked on different courses in nptel but by mean by different\\nperson is that there are some courses which are videos some courses which are web some\\ncourses which are massive open online so basic material science is already being taught by\\nsome faculty members thermodynamics is already being available and phase diagram i myself\\nwas develop a course nil just one year back diffusion is also partly taught so therefore\\nyou can actually ah clear your doubts while reading these lecture ok ah this is the full\\nah rather all the description of the all the lectures ok i dont know whether everything\\nis coming in this scheme or not but any way most important thing is that we are going\\nto talk about some very ah at the beginning where we going to talk give you some idea\\nabout free energy because that is the thermodynamic part of the phase diagram so we will show\\nyou the calculation of delta g of various transformations ok then we will talk about\\n'\n",
            "equal     s[1367:1369] --> FileContent2[4775:4777]     'qu' --> 'qu'\n",
            "replace   s[1369:1402] --> FileContent2[4777:4952] 'estion paper and trading so it as' --> 'ad derivative of interfaces interfaces means liquid solids gren gren interface interface\\ninter phase interfaces this are all parts of thermodynamics\\nthen you have to go in to '\n",
            "equal     s[1402:1403] --> FileContent2[4952:4953]      'k' --> 'k'\n",
            "replace   s[1403:1419] --> FileContent2[4953:5165] ' will be to deli' --> 'inetics thats the nucleation because nucleation is what the\\nstarting point of phase transformations so therefore theorem nucleation homogeneous heterogeneous\\nnucleation and nucleation on the surfaces grains and e'\n",
            "equal     s[1419:1421] --> FileContent2[5165:5167]     've' --> 've'\n",
            "replace   s[1421:1512] --> FileContent2[5167:5193] 'r all the lectures and then this will be unloaded in an petal webster so that you can obser' --> 'n clan corners gen edges e'\n",
            "equal     s[1512:1514] --> FileContent2[5193:5195]     've' --> 've'\n",
            "replace   s[1514:1531] --> FileContent2[5195:5296] ' and read or obli' --> 'ry\\nwhere it will be dealt with as you know nucleation itself is the subject so there that we must\\nbe '\n",
            "equal     s[1531:1532] --> FileContent2[5296:5297]      'v' --> 'v'\n",
            "replace   s[1532:1550] --> FileContent2[5297:5319] 'ion or learn whate' --> 'ery ah you know you ha'\n",
            "equal     s[1550:1552] --> FileContent2[5319:5321]     've' --> 've'\n",
            "replace   s[1552:1562] --> FileContent2[5321:5325] 'r me whate' --> ' to '\n",
            "equal     s[1562:1565] --> FileContent2[5325:5328]    'ver' --> 'ver'\n",
            "replace   s[1565:1582] --> FileContent2[5328:5369] ' way you can thin' --> 'y careful about what you are going to tal'\n",
            "equal     s[1582:1592] --> FileContent2[5369:5379] 'k about it' --> 'k about it'\n",
            "replace   s[1592:1627] --> FileContent2[5379:5409] ' nowadays also there is another pro' --> 's\\ni wont be able to tell you e'\n",
            "equal     s[1627:1628] --> FileContent2[5409:5410]      'v' --> 'v'\n",
            "replace   s[1628:1649] --> FileContent2[5410:5443] 'ision all my lectures' --> 'ery details of the nucleation but'\n",
            "equal     s[1649:1659] --> FileContent2[5443:5453] ' whatever ' --> ' whatever '\n",
            "replace   s[1659:1668] --> FileContent2[5453:5658] 'i am spea' --> 'element we will\\ndiscuss then we are going to start the first of the phase transformation that is on solidification\\nas you see here solidification is a liquid to solid phase transformations then we will\\ntal'\n",
            "equal     s[1668:1669] --> FileContent2[5658:5659]      'k' --> 'k'\n",
            "replace   s[1669:1689] --> FileContent2[5659:5700] 'ing will be again ta' --> ' about growth during different aspects li'\n",
            "equal     s[1689:1691] --> FileContent2[5700:5702]     'ke' --> 'ke'\n",
            "replace   s[1691:1717] --> FileContent2[5702:6485] 'n down or written by some ' --> ' thermal activated growth interface controlled\\ngrowth diffusion controlled growth thats why you need to know as well as coupled growth\\nand you take to array you take the transformation then we will talk about little bit about transformation\\nkinetics in terms of different models johnson mehl and avrami models and some amount of\\ngas thermal phase transformations then we will simply go on to different solid phase\\ntransformations like precipitation recrystallisation martensitics spinodal decompositions and we\\ntalk about isothermal and continuous transformations thats itself will be sufficient enough to\\ncall off thirty lectures ok\\nso ah this is important that you know what we are going to be taught at the beginning\\nso that you can prepare yourself so we are going to ah follow e'\n",
            "equal     s[1717:1718] --> FileContent2[6485:6486]      'x' --> 'x'\n",
            "replace   s[1718:1771] --> FileContent2[6486:6700] ' parts so we are in the process of finding out those ' --> 'actly the same way things\\nare given on the right side i have also listed down number of lectures will be spent on each\\ntopic now comes in very important aspects because in a massive open online course you\\nwill be e'\n",
            "equal     s[1771:1772] --> FileContent2[6700:6701]      'x' --> 'x'\n",
            "replace   s[1772:2022] --> FileContent2[6701:6710] ' parts for my earlier course and phase transformation materials similarly will will do it for you also so that you do it need to listen you can actually read all these lectures bones so before that happens you are going to only listen this lectures a' --> 'posed to '\n",
            "equal     s[2022:2023] --> FileContent2[6710:6711]      'v' --> 'v'\n",
            "replace   s[2023:2071] --> FileContent2[6711:6781] 'ailable on the imperial form and also you can as' --> 'ideo lectures or the online lectures you must have some amount of you\\n'\n",
            "equal     s[2071:2072] --> FileContent2[6781:6782]      'k' --> 'k'\n",
            "replace   s[2072:2073] --> FileContent2[6782:8444]      ' ' --> 'now text book knowledge so therefore two important text books which are carried from\\nour library ah is this first one which is which is here is written on that is phase\\ntransformation in metals and alloys classic text book by d a porter and k e easterling\\nand the recent edition also has come with a new author are all the problems are solved\\nmr ah doctor m y sherif this is available in india not very expensive book you can read\\nthat and the other book is written by two of my past colleagues although i have never\\nmet them but though are iit kanpur this book is phase transformations in materials and\\nby professor a k jena and professor m c chaturvedi both were at iit kanpur\\nso ah when this books written there there were ah jena was in kanpur ok so this two\\nbooks will be a basic text book for the course and anyone any of these books will be good\\nfor you you can by this books or you can actually copy from different libraries in the in the\\ndifferent parts of the book you can copy from different libraries or if you if you want\\nyou actually even ah you know get by that on different online stores correct so thats\\nabout the basic part of the course i think before i could move on to the next portion\\nof my ah lecture why the phase transformation is delivered let me tell you you will be given\\nah assignments on every week and i think assignments are normally uploaded on thursday and because\\nmonday wednesday monday to wednesday will be exposed to the lectures and after that\\nyou will be i will be ah my t s will be uploading the assignments and you will be given about\\none weeks time to complete the assignments because assignments will be online so the\\n'\n",
            "equal     s[2073:2083] --> FileContent2[8444:8454] 'questions ' --> 'questions '\n",
            "replace   s[2083:2160] --> FileContent2[8454:8546] 'in the discussion forum and so that s about it and their similar doses are gi' --> 'will be ah multiple choice type or may be fill fill in the blanks type as\\nassignment will ha'\n",
            "equal     s[2160:2162] --> FileContent2[8546:8548]     've' --> 've'\n",
            "replace   s[2162:2169] --> FileContent2[8548:8678] 'n and i' --> ' a weightage of fifty percent weightage and at the end of this semester\\nyou will be taking an end some exam and we are planning to'\n",
            "equal     s[2169:2175] --> FileContent2[8678:8684] ' have ' --> ' have '\n",
            "replace   s[2175:2189] --> FileContent2[8684:8807] 'carefully remo' --> 'it online so far if i\\ndont change my decisions or something else is happens otherwise it will be online and\\nthat will be ha'\n",
            "equal     s[2189:2190] --> FileContent2[8807:8808]      'v' --> 'v'\n",
            "replace   s[2190:2245] --> FileContent2[8808:9153] 'ed the phone numbers because this is why things become ' --> 'ing a fifty percent weightage\\nalthough ah i am not keeping any pass marks for this course but you can interdentally\\nconsider if you are getting less than about say thirty percent of the marks then you will\\nnot be able to pass this course and those who will be successfully completing this course\\nby taking exams and getting good marks will be gi'\n",
            "equal     s[2245:2247] --> FileContent2[9153:9155]     've' --> 've'\n",
            "replace   s[2247:2282] --> FileContent2[9155:9236] 'ry difficult to handle so if you ha' --> 'n certification from the nptel as you\\nknow so that way i expect that you will be '\n",
            "equal     s[2282:2284] --> FileContent2[9236:9238]     've' --> 've'\n",
            "replace   s[2284:2289] --> FileContent2[9238:9630]  ' any ' --> 'ry serious learner and you will be also\\nable to solve this problems if incase you have difficulties you can always discuss you\\ncan always use the discussion forums or you can write emails you can always bring it to\\nthe ah instructor all the t s so that we can make it clear to you thats very important\\nbecause unless and until you know the things very well you will not be able to answer the\\n'\n",
            "equal     s[2289:2299] --> FileContent2[9630:9640] 'questions ' --> 'questions '\n",
            "replace   s[2299:2309] --> FileContent2[9640:9687] 'you can as' --> 'now ah in the next few slides i am going to tal'\n",
            "equal     s[2309:2311] --> FileContent2[9687:9689]     'k ' --> 'k '\n",
            "replace   s[2311:2318] --> FileContent2[9689:9802] 'them as' --> 'about what are the relevance\\nof phase transformation materials development then why do you study in any course i '\n",
            "equal     s[2318:2319] --> FileContent2[9802:9803]      'k' --> 'k'\n",
            "replace   s[2319:2373] --> FileContent2[9803:10012] ' me also or you can put it on the discussion form you ' --> 'now\\nthat many of you do not exposed by the instructor in the same way you must have an idea why\\nyou are studying this course what is the need well phase transformation is as i said is\\nrepresented environment o'\n",
            "equal     s[2373:2374] --> FileContent2[10012:10013]      'k' --> 'k'\n",
            "replace   s[2374:2380] --> FileContent2[10013:10034] 'now li' --> '\\nthis slide i have ta'\n",
            "equal     s[2380:2382] --> FileContent2[10034:10036]     'ke' --> 'ke'\n",
            "replace   s[2382:2403] --> FileContent2[10036:10252] ' any things in life e' --> 'n from the literature you know thats what i am going to answer to\\nyou why study phase transformation material science ok you know what we are actually we\\nlook material for the application in in any case finally we ha'\n",
            "equal     s[2403:2405] --> FileContent2[10252:10254]     've' --> 've'\n",
            "replace   s[2405:2423] --> FileContent2[10254:13457] 'ry course as an ob' --> ' to think our application\\nunless and until this material is applied engineering point of view we dont find any\\nreason to study scientific point of view one can study so application means we must know\\nthat properties all kinds of properties so there is a physical mechanical electronic\\nelectrical magnetic depending on the applications so property or properties of a material is\\nare estimated very very rigorously to find an potential applications this is true for\\neven a new materials when its developed so now question is this properties as i said\\nmechanical chemical electrical magnetic thermal you can even list on many more properties\\nof the material depends on structure and thats why actually real problem comes structure\\nhas land scape you can simply say atomic structure atomic structure is the smallest structure\\nyou can think about it atom and nucleus infact that is what dictates most of the properties\\nare to material but that is not all that is what in to this is what you must know very\\nclearly thats not all\\nso structure means it can be atomic structure molecular structure grain structure phase\\ntrans distribution and defects ok so we have basically i have listed down from the bottom\\nup the atom is smallest theses and then we have grains and other things so you must have\\ni am stressing again you must have an good idea about this structures to correlate with\\nthe properties because it is important that the properties are primarily dictated by the\\nstructure so if i know the structure i can dictate the properties so you got the correlation\\nright ah very logically speaking we made materials rather we use processing techniques to make\\nmaterials and this processing techniques allow you to control structure processing technique\\nmeans what you can start with the liquid and solidify that is what is solidification you\\ncan start with the metal piece deform by rolling forging exclusion whatever different means\\nso you actually process or you can actually deposit thin film you can actually you surface\\ntreatment techniques many things we do in the real ah now processing of materials they\\nhave a direct connection with this structure\\na structure has a direct link with the properties so as you see here these actually are variables\\nfor the processing temperature pressure or stress strain or volume and chemical composition\\nfor the alloys you can change chemical composition by making different alloys so these are my\\nvariables in processing and by applying these variables or combination of variables i generate\\nor i make materials and manufacture materials and this processing variables controls the\\nstructure and structure controls the properties so therefore these three are linked very clearly\\nthey are linked they are not separate or they are not independent things they are connected\\nto each other these are the of these three important pillars of material science processing\\nstructure and property but finally where to we look for finally we look for what is known\\nas performance if you are studying in a course syllabus in a course you are finally evaluated\\non performance similarly materials are evaluated in terms of performance if i put a tire in\\nyour car that means the ma'\n",
            "equal     s[2423:2424] --> FileContent2[13457:13458]      'j' --> 'j'\n",
            "replace   s[2424:2427] --> FileContent2[13458:13505]    'ect' --> 'or performance is the tire should be able to dr'\n",
            "equal     s[2427:2431] --> FileContent2[13505:13509]   'ive ' --> 'ive '\n",
            "replace   s[2431:2443] --> FileContent2[13509:16534] 'and this sub' --> 'the take\\nthe car from one place to another without any problems but you know tires should vary\\nfrom a some ah are twin tire in the in the foreign countries in the the eyes tire which\\nwill travel on are different\\nso that means performance indeed are actually connected to all these three things processing\\nstructure and the properties and that is what is important this chart which is very famous\\nin material science you will find in many books is known as the material tetrahedron\\nbecause they are actually looks like a tetrahedron so finally where does the phase transformation\\ncomes it is in the structure we modify the structure we modify the atomic structure we\\nmodify grain structure we modify the various by phase transformation so therefore phase\\ntransformation are directly linked with processing and also indirectly connected with the properties\\nand thats why it is a very important course in the material science engineering you must\\nunderstand that without knowing the or phase transformations you cannot control material\\nproperties ok\\nso ah phase transformation or phase equilibria or thermodynamics is the basis for understanding\\na material response to change in temperature pressure composition i must accept this is\\nslide i have taken from web this is not mine thus the critical link between processing\\nand microstructure requires a knowledge of the relevant thermodynamics principles and\\nthey are the basis for phase transformations so you understand now why we are actually\\nstudying the phase transformations ok now question is this can i relate it to real applications\\ni have taken four applications again i taken from the internet sites first one is in air\\nplane ok air plane is the very important ah mode of transport from one part of the world\\nto other part and you know the material which is used in the air plane is an aluminum copper\\nalloy if you dont know you can actually check on the books this is the classical alloy aluminum\\nfour point five to four point seven percent copper known as dual lumen in the in the trend\\nname and this is a very stable alloy from forty five degree celsius to minus sixty five\\ndegree celsius or even minus eighty degree celsius i dont know how many of you read news\\nthat there is a research laboratory in the southern hampshire that is in hm antarctica\\nand sometimes if somebodies yield in the research laboratories in winter time they are actually\\ntaken from that place by plane to the the different country especially in southern america\\nand such parts but it will be extremely cold minus sixty to minus eighty degree celsius\\ntemperature so a plane flying there the material has to be stand such a low temperature\\nso this wonderful material which is prepared long back is used for the plane body and important\\nphase transformation which is happening here is a precipitation of certain phase in aluminum\\nalloys and this precipitates provide the strength from high to low temperature if you travel\\ncarefully on the planes you will find especially in the wings deviated '\n",
            "equal     s[2443:2444] --> FileContent2[16534:16535]      'j' --> 'j'\n",
            "replace   s[2444:2448] --> FileContent2[16535:16550]   'ecti' --> 'oin and this de'\n",
            "equal     s[2448:2449] --> FileContent2[16550:16551]      'v' --> 'v'\n",
            "replace   s[2449:2459] --> FileContent2[16551:16565] 'e has to b' --> 'iated\\njoins ar'\n",
            "equal     s[2459:2466] --> FileContent2[16565:16572] 'e very ' --> 'e very '\n",
            "replace   s[2466:2634] --> FileContent2[16572:16688] 'clear before you start a course present course actually we ill deal with basic surface transformation and materials as i said in in my introduction radio already you ha' --> 'strong and low temperatures because of the precipitation so we are going\\nto discuss about that ah next one which is '\n",
            "equal     s[2634:2636] --> FileContent2[16688:16690]     've' --> 've'\n",
            "replace   s[2636:2680] --> FileContent2[16690:17370] ' seen probably that past transformation is e' --> 'ry important on the right side is air turbine\\nbasically it can be used in the plane the high speed plane or in when in power generators\\nand they contained nickel based super alloys this wonderful material this is nickel aluminum\\nalloy with consisting of many other elements which i will not discuss in detail now but\\nagain the real high temperature properties because this this is turbine so thereforth\\nthis has to be instant high temperature high temperature properties equi based properties\\nof this material is basically because of precipitation of n i three a l type l one to precipitates\\nwhat we known as in a nickel matrix fcc matrix and this unique precipitates actually pro'\n",
            "equal     s[2680:2681] --> FileContent2[17370:17371]      'v' --> 'v'\n",
            "replace   s[2681:2706] --> FileContent2[17371:17435] 'eryuler present in the en' --> 'ide\\nthe strength ok the thats thats that means precipitation is '\n",
            "equal     s[2706:2707] --> FileContent2[17435:17436]      'v' --> 'v'\n",
            "replace   s[2707:2735] --> FileContent2[17436:17542] 'ironment whether you are tal' --> 'ery important aspect to\\nunderstand so thats what is will be part of silvers\\nthen on this side left side i '\n",
            "equal     s[2735:2736] --> FileContent2[17542:17543]      'k' --> 'k'\n",
            "replace   s[2736:2782] --> FileContent2[17543:17634] 'ing about metals ceramics payments or your tal' --> 'now may be your right this is the rails which is used\\nto as a phi splay on the railway trac'\n",
            "equal     s[2782:2783] --> FileContent2[17634:17635]      'k' --> 'k'\n",
            "replace   s[2783:2947] --> FileContent2[17635:17720] 'ing about real life whose transformation present but how do we deal is phase transformation that is who w will be taught because that what is important in your ende' --> 's this actually steels basically the steel of perlite\\nwhat you known as if you dont h'\n",
            "equal     s[2947:2949] --> FileContent2[17720:17722]     'av' --> 'av'\n",
            "replace   s[2949:3042] --> FileContent2[17722:17861] 'or to learn phase transformation so using these three things one is your o thermodynamics tin' --> 'e any idea perlites perlite is nothing but a utech transform\\nproduct of gamma solution of carbon in iron and so therefore you must you must'\n",
            "equal     s[3042:3044] --> FileContent2[17861:17863]     ' k' --> ' k'\n",
            "replace   s[3044:3093] --> FileContent2[17863:18401] 'inetic and some basic aspect of material sense li' --> 'now how\\nthis transformation happens whether we can control it because the properties of the rail\\ndepends on that and remember rail is is ah what is allow you to allowing us to move trains\\nso therefore they are they are subjected to stress temperature harsh environment and many\\nother things so they must have combinations of properties so that they can start the purpose\\nand these is basically done by controlling the phase transformations on the right side\\nthis is the end the last example is basically the titanium based align engines o'\n",
            "equal     s[3093:3094] --> FileContent2[18401:18402]      'k' --> 'k'\n",
            "replace   s[3094:3150] --> FileContent2[18402:18616] 'e crystal structures and interface we are going to study' --> ' remember\\nthis engines are not used in car they will be used in planes or may be in some other\\nstrategic applications like ah turb hm like the submarines and so\\nso these engines actually has many plus like titanium'\n",
            "equal     s[3150:3153] --> FileContent2[18616:18619]    ' va' --> ' va'\n",
            "replace   s[3153:3175] --> FileContent2[18619:20361] 'rious solid o solid an' --> 'lves titanium mmcs springs titanium\\nmnc cramsups many others things springs and there are titanium aluminites you know titanium\\nout of these all thirteen m alloys the most important alloy which is extensively used\\nin titanium sixth aluminum four vanadium and it it we can control the micro structure of\\nthese by many ways creating alpha titanium alpha plus beta titanium beta of titanium\\nalloys so ah the properties will vary depending on whether its alpha alpha plus beta alpha\\nor beta remember alpha is hexagonal prospect structure beta is bcc structure so titanium\\nactually ah room temperature below what to eight hundred eighty two degree celsius temperature\\nis basically alpha above that it is a this i mean bcc structure so one can actually play\\naround in the temperature zone by again controlling the prosaic parameters to create different\\nkinds of structures to get different properties\\nso all these applications dont think that they are similar alpha alloys or beta alloys\\nalpha plus beta alloys they can be combination of many of these then the actual real problem\\nis how do i control this micro structures by controlling the processing parameters so\\nremember these four examples are not exhausted one can find many many examples in the real\\nlife as i told you in my first introduction lectures the basic example you always find\\nis in the country india when hot summer days you want to drink cold water so you can always\\nput the cold water inside the fridge and get it cooled but it is real advantage is that\\nif i take a glass of water and add a ice cube taken from the deep freezer immediately the\\nice cube will start melting it down or getting dissolved in the water both are actually h\\ntwo o one is solid h two o and the other is'\n",
            "equal     s[3175:3183] --> FileContent2[20361:20369] ' liquid ' --> ' liquid '\n",
            "replace   s[3183:3219] --> FileContent2[20369:20512] 'to solid phase transformation as we ' --> 'h two o\\nso therefore by melting it down the heat is getting transferred to the liquid and then\\nthe water gets cool down you will enjoy the drin'\n",
            "equal     s[3219:3220] --> FileContent2[20512:20513]      'k' --> 'k'\n",
            "replace   s[3220:3233] --> FileContent2[20513:20729] 'now this is a' --> 's so this is the example which is present\\nwhich you are actually doing it but what is important you for you to understand how these\\ntransformation happened how these solid become liquid liquid become solid whether is'\n",
            "equal     s[3233:3235] --> FileContent2[20729:20731]     ' v' --> ' v'\n",
            "replace   s[3235:3242] --> FileContent2[20731:20859] 'ast sub' --> 'ery\\nsimple or no remember what is from the most complex systems in the world and no unlike\\nmetal like more complex so ah let me '\n",
            "equal     s[3242:3243] --> FileContent2[20859:20860]      'j' --> 'j'\n",
            "replace   s[3243:3253] --> FileContent2[20860:21007] 'ect and co' --> 'ust stop here before i go to the next part of\\nthe lecture or the next class so you understand in a nutshell that phase transformation is\\nbasically '\n",
            "equal     s[3253:3256] --> FileContent2[21007:21010]    'ver' --> 'ver'\n",
            "replace   s[3256:3309] --> FileContent2[21010:21040] 'ing that in thirty lectures is not an easy task so ob' --> 'y important from the perspecti'\n",
            "equal     s[3309:3310] --> FileContent2[21040:21041]      'v' --> 'v'\n",
            "replace   s[3310:3357] --> FileContent2[21041:21448] 'iously we must be selected we cannot teach you ' --> 'e of material science and technology and many\\nof these products which you are actually using these their properties are controlled by controlling\\nphase transformations we can do that by using different processing parameters temperature\\nstress strain compositions and by doing that we alter them micro structure the atomic structure\\nand by doing that you will create a different properties so that is the rel'\n",
            "equal     s[3357:3359] --> FileContent2[21448:21450]     'ev' --> 'ev'\n",
            "replace   s[3359:3454] --> FileContent2[21450:21532] 'erything and to learn everything you need to have some basic idea what i put it as course perri' --> 'ance of phase\\ntransformation course and which will be exposed to in the next subse'\n",
            "equal     s[3454:3456] --> FileContent2[21532:21534]     'qu' --> 'qu'\n",
            "replace   s[3456:20979] --> FileContent2[21534:21546] 'icite ok at this peracuosit ar you should have peperabil would up some basic knowledge on basic material science that most of the students in metallurgy or material sense normally have thermodynnamics especially the thermonynic functions and their relationships and then some dear phase icons and diffusion ok so i have already checked on different portions o wa in steal but y mean by different person is that there are some cornea video or some constitute wave some causes which are massive open alkaline so basic material sense is already been taught by some faecal numbers thermodynamics has already been available and phase the semi myself has develop a course and thrill just one war back decision is also pray taught so therefore you can actually clear your doubts by while reading these lecture ok this is the full whether all the reception of the all the lectures ok i down know whether everything is coming in the scene or not but anyway most important thing is that we are going to talk about some very at the beginning we are going to talk give you some idea about fee end because that is a therbonanis part of the phase diagram so we will show you the calculation of felt g of various transformation ok then we will talk about quite a bit of interface interface means liquid sal is solid solid grain grain interface interface interfaeinturfaces these are all parts of with theronynoamics then we have to go into kinetic that the inoculation because enucleation is why the starting point of phase transformation so therefore theory of peculation howmoteou etegean regulations and circulation on the surface is grains and even men corner gen s everywhere it will be dealt with and assume you ecleasion itself a subject so there therefore must be a very an now we have to be very careful about what you are going to talk about it i wont be going to tell you every details of the circulation but whatever relevant we will discuss then we are going to start the first of the fist transfertion that is om solidification as you see here ratification is an liquid to solid phase transformation then we will talk about growth during different aspects like thermal activate god interface control go efficient control go that s why you need to know and cassel as couple go then you take toeutectric transformation then we will talk about little bit about transformation kinetic in terms of there model con enamel and aroma models and some amount of te thermal phase transformation then we simply go on to different so to solitla transforsioni presipitations rectliz and matisides spinagtal dey corporations and a wit about stermaland continuous transformation that itself will be sufficient and a to cover tatilectures ok so this is important that you know what you are going to be taught at the beginning so that you can prepare yourself so we are going to follow exactly the same way things are given and the right side i have also passed down number of lectures will be spend on each topic now comes in very important aspects because in the massive open alkaline course you will be exposed to radio lectures or the ali lectures you must have some amount of you know textbook knowledge so therefore two important textbook which i have carried from our library is this first one which is which is here is written on that is phase transformation in metals and allows classic textbook by d a porter and k is telling and the meant addition also has come with a new author all the problems of solved by mister doctor am ship this is available in india not very expensive book you can read that and the other book is written by two my past colleagues although i have never met them but they are it angel this book is case transformation is in materials and by professor ak genu and prove m so throne both er i tecanpuo so when these books are written there all therwere jena was in consul ok so these two books will be your basic textbook for the course and anyone any of these books will be good for you you can buy these books or you can actually copy from different liability in the different parts of the books can copy from different libraries or if you if you want you can actually even now get buy that on different online stores current so that about the basic part of the courseading before i could move onto the next portion of my lecture why the pay transfer sale wet let me tell you you will be given assignment in every week and i think assermenstion normally unloaded on thursday and because monday wens t mandate witness stay will be exposed to the lectures and after that you will be i will be or my t s will be unloading the assenments and you will be given bout one weeks time to complete the assignment because assignment lome aline so the questions would be multiple choice type or may be feeling fill in the blank stile as a segment wo leo it is a fifty percent vantage and at the end of this semisster you will be taking an nom exam and we are planning to have it aniline so far if i do not change my decisions or something else happens other city pearl line and that will be having a fifty percent average although i am not keeping any pass marks of this course but you can tentitively consider if you are getting less than about say thirty percent of the marks then you will not be able to pass this course and those who will be successfully completing this course by taking example and getting good marks will be given ratification from the imperial as you know so that way i expect that you will be very serious planner and you will be also able to solve this problems if a in case you have difficulties you can always discuss we can always use discussion for or you can write email you can always bring it to the instructor all the t s so that we can make it clear to you that very important because understand you know the things very well wood not be able to answer the questions now in the next few sides i am going to talk about what ar relevant of face transformation materials eelonment and why do you study in any course i know that many of you do not expose by the instructor in the same way you must have an idea why you are studying this course what is the need well phase transformation assisiol is presented environment ok the slide i have taken from literature ou one that is what i am going to answer to you why study phase transformation material science ok you know what wearing actually we look materials for the application in any case finally we have to think of application unless aantilis mater is applied engineering point of view we do it find any reason to study stencil moan to give one can stand so application means we must know the properties all kinds of of part so there is a physical mechanical electronic electrical magnetic depending on the applications so property property sofa material is are estimated very very regarsly to find and potential applications this is two probe new material when it is developed so now question is this poupart as i say mechanical chemical electrical minute thermal you can evenly stood many more properties of the material depends on structure and that why actual legal problem come structure has length scale you can simply say atomic structure at min structure is the smallest structure you can think about it atom and nucleus in fact that is why details one sole propadisiofto material but that is not all that is what in so this is who you must know very clear that is not all so structure means it can be amid structure molecular structure grain structure phase as distribution and defects ok so we have basically have listed down from the bottom of atom is the small species and then we have grains and other things so you must have i am stressing again you mast them end go a good idea about the structures to calculate to the properties because it is important that the properties are primarily dictated by this structure so if i know the texture i can vector the properties so you got the coalition right a very logical speaking we make materials whether we use processing technique to make materials and these processing technique allow you to control structure processing technique means what you can start with he liquid and solidified that is why the solidification you can start with a metal piece reform by rolling force intrusion whatever deferens means so you actually process or you connection deposit tin flame you can actually use surf statement technique many things we do in the real pp now processing of materials they have a direct connections with a structure and traitor as a direct link with the properties so as you see here these actually are variable for the processing temperature pressure o stress strain or volume and chemical compassion for the away you can change chemical corporation by making different allays so these are my variable in processing and by applying these variable rcommunation variable i generatemor mi make materials or manufacturing materials and these processing variable control the structure structure controller properties so there therefore these three are linked very clearly they are linked they are not separate or they are not independent things they are connected to each other t these are the bridges of these three important pillars of material science processing structure an property but finally what we look for finally we look for what is known as performance if to war you are studying in a co sylamas in a course we are finally a holelotingal performance similarly materials are elated in terms of performance if i put a tyre in our car that means the major performances that i should be able to drive the take the car for one place to the place without any problems what you know tires will carry from a summer to winter in the in the point countries and ice the tires which will travel n in t are different so that means performance indeed are actually connected to all these three things processing structure and the properties and that is what is important this chart which is very famous in material science youwill find in many books is known as the material statehydron because they i actually looks like it ha try so finally where does the rise transformation comes it is in the structure we modify the structure we modify the atomic structure wo fortify the grain structural modified the phases phase transformation so therefore phase transformation a direct link of the procession and also indirectly corrected with the properties and that why it is a very important course in the material end engineering you must understand that without knowing the phase transformation you cannot control material properties ok so phase transformation phericallibeof thermodynamics is the basis for understanding a material response to change in temperature pressure composition i must accept this is slide i have taken from way this is not mine thus the cskhetical link between processing and microstructure requires an knowledge of the relevant thermodynamic principles and they are the basis force phase transformation so you understand now why we are actually studying the phase transformation ok now question is this can i relate in the real applications i have taken four application again ill taken from the internal sites first one is an airplane ok air plane is a very important mode of transport from one part of the wall to the other plant and you know the material which is used in the airplane is an aluminium cover allow if you do not know you can actually take on the books there is a classical allow eleven a four point five to four point seven percent copper known as develumin in the in the training and this is a very stable ally from forty five deep celsus to minus sixty five u also or even minus a t ti cells i don t know how many of you rate new state there is a desire laboratory in the southern hemisphere that is in antactica and sometimes if somebody is ill in the decided laboratories in winter time they are actually taken from that place by plane to termelat the the different content especially in south america or sub parts but it will be extremely cold minus sixties to minus eighty edge see system pressure so a plane flying there the material has to withstand such a low temperature so the this one life material which is prepared long back is used for the plane body and important phase transformation which happening here is a presipitation of certain phase in aluminium alas and these pecifitates provide the strength from high sooner temperature if you travel carefully on the planes you will find especially in the wings riveted joints and these related joints are very strong at low temperatures because of the pacification so we are going to discuss about that the next one which is very important the right side is a turbine basically it can be used in the plane the high squad plane or invent in now generations and they contained nickel by supervise is wonderful material is a nickel aluminium allow with consisting of many ou elements which i will not discuss in detail now but again the real high temperature properties because this this is a turbine so therefore this has to instant high temperature high temperature properties cubiastane properties of this material is basically because of presipitation of a i three a type l one to precipitated what you known as in a nickel matrix eptrisi matrix and these unique pesipitates actually provide the strength ok the thus that that means the pestipretation is very important aspect to understand so that s why is will be part of a sullivan then on the side left side or you know may be right this is the rails which is used to as a fist plate on the relay tracks these action steel basically the steel of parasite what do we known as if you do not have any idea of paralyses finite is nothing but a e tectortically transform product of mamma solisulation of carbon in iron and so therefore you must we must know how this transformation happens whether can you control it because the properties of the rail depends on that remember ran is is what is allowing you to along us to move trains so therefore they are they are subjected to strains temperature harsher movement and many other things so they must have combinations of properties so that they can serve the purpose and these is basically done by controlling the phase trans notions on the right side this is the end the fast example is basically the titanic based ally engines ok remember these engines are not used in car they will be estingused in the planes or maybe in some other static applications like her like the submarines or so so these engines actually has many plaslect cranium valves the dream mmm is pins that same c cranks up many other things springs and they are fighting aluminites you know titanic out of the all thatinamalise the most important all which is extensively used is thitinium six aluminium pole canadian and it it we can control the manchester of these by mind ways creating alphalatonium also plus belted ditenium met taking allows so the propertisill vary depending on whether its alpha so plus petal p peter re alpha is same pro spent structure met is which is in structure so ratinium actually a room temperature below what to eight hundred eighty two dear cell system pressure is basically alan above there in is n t is king me c structure so one can i actually play around in the temperature one why again controlling the posting parameter to create different kinds of structures to get different properties so all these application dont think that they are all similar alparallits or metals ofopenit always they can be combination so many of these then the actual real problem is how do i control these microstructures by controlling the promising parameter so member these four examples are not exhaustive one can find many many examples in real life as i told in my first introduction lectures the basic example we always find is in in in country like india in the hot summer day you want to drink cold water so you can always put the quarter inside the fringe and get it cooled but it is real advantage is that if i take a glass of water and add a ice cure taken from the see pressure medially the in see will start melting it down or getting dissolved in the water both a actually i to o one is solid i tu or is a liquid issue so therefore by melting it down the heat in getting transfer to the liquid and then the water gets cooled down you enjoy the during so this is the example which is present which we are actually doing it but what is important not for you to understand how this transformation happens how the solid become liquid liquid become solid whether is very simple unknown remember what is one of the most complex systems in the wild i m a unlike metal the are more complex so let me just stop here before i go to the next part of the lecture or the next class so you understand in a nataly that phase transformation is basically very important from the perspective s of material science and technology and many of these products which you are actually using the the properties are controlled by controlling phase transformation we can do that by using different pouring parametous temperature stay strain commissions and by doing that we alter the microstructure the amid structure and by doing that you are creating different properties that is the relevance of face information course and which you will be exposed to the next subsequent lectures' --> 'ent lectures'\n"
          ],
          "name": "stdout"
        }
      ]
    },
    {
      "cell_type": "code",
      "metadata": {
        "id": "fqrgwj2cUci8"
      },
      "source": [
        "def CountFrequency(my_list):\n",
        " \n",
        "    # Creating an empty dictionary\n",
        "    freq = {}\n",
        "    for item in my_list:\n",
        "        if (item in freq):\n",
        "            freq[item] += 1\n",
        "        else:\n",
        "            freq[item] = 1\n",
        " \n",
        "    for key, value in freq.items():\n",
        "        print (\"% s : % d\"%(key, value))\n",
        " \n"
      ],
      "execution_count": null,
      "outputs": []
    },
    {
      "cell_type": "code",
      "metadata": {
        "colab": {
          "base_uri": "https://localhost:8080/"
        },
        "id": "imo3D5L_VFMN",
        "outputId": "716ad67c-54ab-437e-b2bc-be7b775fd02b"
      },
      "source": [
        "CountFrequency(listt)"
      ],
      "execution_count": null,
      "outputs": [
        {
          "output_type": "stream",
          "text": [
            "replace :  68\n",
            "equal :  67\n"
          ],
          "name": "stdout"
        }
      ]
    },
    {
      "cell_type": "markdown",
      "metadata": {
        "id": "mC_lRh0PKzbe"
      },
      "source": [
        "- Converting object type of FileContent3 from \"TextBlob\"  to \"str\"."
      ]
    },
    {
      "cell_type": "code",
      "metadata": {
        "colab": {
          "base_uri": "https://localhost:8080/"
        },
        "id": "gE-elcIi-Qre",
        "outputId": "3a2956dc-07b2-4477-88da-1b0167efc1d4"
      },
      "source": [
        "type(s)"
      ],
      "execution_count": null,
      "outputs": [
        {
          "output_type": "execute_result",
          "data": {
            "text/plain": [
              "str"
            ]
          },
          "metadata": {},
          "execution_count": 191
        }
      ]
    },
    {
      "cell_type": "markdown",
      "metadata": {
        "id": "kYki7kKKvkCq"
      },
      "source": [
        "# Applying enchant to correct only those words, which are in dictionary"
      ]
    },
    {
      "cell_type": "code",
      "metadata": {
        "id": "raKmLog0XvF4",
        "colab": {
          "base_uri": "https://localhost:8080/"
        },
        "outputId": "de3e8b6b-a8b0-45bb-aa17-be8544dc72f4"
      },
      "source": [
        "!apt install -qq enchant\n",
        "!pip install pyenchant"
      ],
      "execution_count": null,
      "outputs": [
        {
          "output_type": "stream",
          "text": [
            "The following package was automatically installed and is no longer required:\n",
            "  libnvidia-common-460\n",
            "Use 'apt autoremove' to remove it.\n",
            "The following additional packages will be installed:\n",
            "  aspell aspell-en dictionaries-common emacsen-common hunspell-en-us\n",
            "  libaspell15 libenchant1c2a libhunspell-1.6-0 libtext-iconv-perl\n",
            "Suggested packages:\n",
            "  aspell-doc spellutils wordlist hunspell openoffice.org-hunspell\n",
            "  | openoffice.org-core libenchant-voikko\n",
            "The following NEW packages will be installed:\n",
            "  aspell aspell-en dictionaries-common emacsen-common enchant hunspell-en-us\n",
            "  libaspell15 libenchant1c2a libhunspell-1.6-0 libtext-iconv-perl\n",
            "0 upgraded, 10 newly installed, 0 to remove and 40 not upgraded.\n",
            "Need to get 1,312 kB of archives.\n",
            "After this operation, 5,353 kB of additional disk space will be used.\n",
            "Preconfiguring packages ...\n",
            "Selecting previously unselected package libtext-iconv-perl.\n",
            "(Reading database ... 148489 files and directories currently installed.)\n",
            "Preparing to unpack .../0-libtext-iconv-perl_1.7-5build6_amd64.deb ...\n",
            "Unpacking libtext-iconv-perl (1.7-5build6) ...\n",
            "Selecting previously unselected package libaspell15:amd64.\n",
            "Preparing to unpack .../1-libaspell15_0.60.7~20110707-4ubuntu0.2_amd64.deb ...\n",
            "Unpacking libaspell15:amd64 (0.60.7~20110707-4ubuntu0.2) ...\n",
            "Selecting previously unselected package emacsen-common.\n",
            "Preparing to unpack .../2-emacsen-common_2.0.8_all.deb ...\n",
            "Unpacking emacsen-common (2.0.8) ...\n",
            "Selecting previously unselected package dictionaries-common.\n",
            "Preparing to unpack .../3-dictionaries-common_1.27.2_all.deb ...\n",
            "Adding 'diversion of /usr/share/dict/words to /usr/share/dict/words.pre-dictionaries-common by dictionaries-common'\n",
            "Unpacking dictionaries-common (1.27.2) ...\n",
            "Selecting previously unselected package aspell.\n",
            "Preparing to unpack .../4-aspell_0.60.7~20110707-4ubuntu0.2_amd64.deb ...\n",
            "Unpacking aspell (0.60.7~20110707-4ubuntu0.2) ...\n",
            "Selecting previously unselected package aspell-en.\n",
            "Preparing to unpack .../5-aspell-en_2017.08.24-0-0.1_all.deb ...\n",
            "Unpacking aspell-en (2017.08.24-0-0.1) ...\n",
            "Selecting previously unselected package hunspell-en-us.\n",
            "Preparing to unpack .../6-hunspell-en-us_1%3a2017.08.24_all.deb ...\n",
            "Unpacking hunspell-en-us (1:2017.08.24) ...\n",
            "Selecting previously unselected package libhunspell-1.6-0:amd64.\n",
            "Preparing to unpack .../7-libhunspell-1.6-0_1.6.2-1_amd64.deb ...\n",
            "Unpacking libhunspell-1.6-0:amd64 (1.6.2-1) ...\n",
            "Selecting previously unselected package libenchant1c2a:amd64.\n",
            "Preparing to unpack .../8-libenchant1c2a_1.6.0-11.1_amd64.deb ...\n",
            "Unpacking libenchant1c2a:amd64 (1.6.0-11.1) ...\n",
            "Selecting previously unselected package enchant.\n",
            "Preparing to unpack .../9-enchant_1.6.0-11.1_amd64.deb ...\n",
            "Unpacking enchant (1.6.0-11.1) ...\n",
            "Setting up libhunspell-1.6-0:amd64 (1.6.2-1) ...\n",
            "Setting up libaspell15:amd64 (0.60.7~20110707-4ubuntu0.2) ...\n",
            "Setting up emacsen-common (2.0.8) ...\n",
            "Setting up libtext-iconv-perl (1.7-5build6) ...\n",
            "Setting up dictionaries-common (1.27.2) ...\n",
            "Setting up aspell (0.60.7~20110707-4ubuntu0.2) ...\n",
            "Setting up hunspell-en-us (1:2017.08.24) ...\n",
            "Setting up libenchant1c2a:amd64 (1.6.0-11.1) ...\n",
            "Setting up aspell-en (2017.08.24-0-0.1) ...\n",
            "Setting up enchant (1.6.0-11.1) ...\n",
            "Processing triggers for libc-bin (2.27-3ubuntu1.2) ...\n",
            "/sbin/ldconfig.real: /usr/local/lib/python3.7/dist-packages/ideep4py/lib/libmkldnn.so.0 is not a symbolic link\n",
            "\n",
            "Processing triggers for man-db (2.8.3-2ubuntu0.1) ...\n",
            "Processing triggers for dictionaries-common (1.27.2) ...\n",
            "aspell-autobuildhash: processing: en [en-common].\n",
            "aspell-autobuildhash: processing: en [en-variant_0].\n",
            "aspell-autobuildhash: processing: en [en-variant_1].\n",
            "aspell-autobuildhash: processing: en [en-variant_2].\n",
            "aspell-autobuildhash: processing: en [en-w_accents-only].\n",
            "aspell-autobuildhash: processing: en [en-wo_accents-only].\n",
            "aspell-autobuildhash: processing: en [en_AU-variant_0].\n",
            "aspell-autobuildhash: processing: en [en_AU-variant_1].\n",
            "aspell-autobuildhash: processing: en [en_AU-w_accents-only].\n",
            "aspell-autobuildhash: processing: en [en_AU-wo_accents-only].\n",
            "aspell-autobuildhash: processing: en [en_CA-variant_0].\n",
            "aspell-autobuildhash: processing: en [en_CA-variant_1].\n",
            "aspell-autobuildhash: processing: en [en_CA-w_accents-only].\n",
            "aspell-autobuildhash: processing: en [en_CA-wo_accents-only].\n",
            "aspell-autobuildhash: processing: en [en_GB-ise-w_accents-only].\n",
            "aspell-autobuildhash: processing: en [en_GB-ise-wo_accents-only].\n",
            "aspell-autobuildhash: processing: en [en_GB-ize-w_accents-only].\n",
            "aspell-autobuildhash: processing: en [en_GB-ize-wo_accents-only].\n",
            "aspell-autobuildhash: processing: en [en_GB-variant_0].\n",
            "aspell-autobuildhash: processing: en [en_GB-variant_1].\n",
            "aspell-autobuildhash: processing: en [en_US-w_accents-only].\n",
            "aspell-autobuildhash: processing: en [en_US-wo_accents-only].\n",
            "Collecting pyenchant\n",
            "  Downloading pyenchant-3.2.1-py3-none-any.whl (55 kB)\n",
            "\u001b[K     |████████████████████████████████| 55 kB 3.2 MB/s \n",
            "\u001b[?25hInstalling collected packages: pyenchant\n",
            "Successfully installed pyenchant-3.2.1\n"
          ],
          "name": "stdout"
        }
      ]
    },
    {
      "cell_type": "code",
      "metadata": {
        "id": "i1z1VIx9fvxs"
      },
      "source": [
        "import enchant"
      ],
      "execution_count": null,
      "outputs": []
    },
    {
      "cell_type": "code",
      "metadata": {
        "colab": {
          "base_uri": "https://localhost:8080/"
        },
        "id": "KueNDA6pf40y",
        "outputId": "daecb3e6-719c-4d88-8f38-0fa1fd90e538"
      },
      "source": [
        "d = enchant.Dict(\"en_US\")\n",
        "  \n",
        "type(d)"
      ],
      "execution_count": null,
      "outputs": [
        {
          "output_type": "execute_result",
          "data": {
            "text/plain": [
              "enchant.Dict"
            ]
          },
          "metadata": {},
          "execution_count": 23
        }
      ]
    },
    {
      "cell_type": "code",
      "metadata": {
        "id": "08stqMzZf9pU"
      },
      "source": [
        "test_string = \"\""
      ],
      "execution_count": null,
      "outputs": []
    },
    {
      "cell_type": "code",
      "metadata": {
        "colab": {
          "base_uri": "https://localhost:8080/",
          "height": 154
        },
        "id": "OoJycUnsgGTf",
        "outputId": "a00d6e46-72b3-44fa-89ca-3e8c0c4861cc"
      },
      "source": [
        "print(\"Hi Suraj\")\n",
        "for i in range(len(f1)):\n",
        "    if d.check(f1[i]):\n",
        "        test_string += f1[i]\n",
        "        test_string += \" \"\n",
        "    \n",
        "    else:\n",
        "        new = TextBlob(f1[i])\n",
        "        result = new.correct()\n",
        "        for j in range(len(result)):\n",
        "            \n",
        "            test_string += result[j]\n",
        "        test_string += \" \"\n",
        "      \n",
        "test_string"
      ],
      "execution_count": null,
      "outputs": [
        {
          "output_type": "stream",
          "text": [
            "Hi Suraj\n"
          ],
          "name": "stdout"
        },
        {
          "output_type": "execute_result",
          "data": {
            "application/vnd.google.colaboratory.intrinsic+json": {
              "type": "string"
            },
            "text/plain": [
              "\"\\ufeffthe students let us start the first lecture of this course this is basically a online course so therefore you need to be very clear about what you are going to learn and how you are going to be evaluated first of all this is a course on phase transformation in materials and i will be teaching all the lectures and it is a thirty lecture course that means there will be sixth twenty five minutes lecture and every week w will be exposed to i am not sure now about four to six lectures so that means about two to three hours of lectures so myself is persummiswas and i am a faculty member at the department of material sense engineering opiitianpull so thus the details about me my email address is available on the screen you can dilly write to me whenever you have any serious problems and in addition to that to handle the courseexams and also grading of your answer seems although i know this will be all done all line will be taken care by the teaching assisted so two my students they will be handling that so they are actually the main person who will be handling your questions to my right first one i costo chospotivaris is my pay student and second one is res pa res his also my pan i student so they will be handling all your questions in a discussion forum obviously they are very difficult then i will also participate and also they will be handling your question paper and grading so it ask will be to deliver all the lectures and then this will be uploaded int tan petal website so that you can observe and read or oblivion or learn whatever me whatever way you can think about it nowadays also there is another provision all my lectures whatever i am speaking will be again taken down or written by some x parts so we are in the process of finding out those x parts for my earlier course and phase transformation materials similarly will will do it for you also so that you do it need to listen you can actually read all these lectures bones so before that happens you are going to only listen this lectures available on the imperial form and also you can ask questions in the discussion forum and so that s about it and their similar doses are given and i have carefully removed the phone numbers because this is why things become very difficult to handle so if you have any questions you can ask them ask me also or you can put it on the discussion form you know like any things in life every course as an objective and this subjective has to be very clear before you start a course present course actually we ill deal with basic surface transformations and materials as i said in in my introduction radio already you have seen probably that past transformation is everyuler present in the environment whether you are talking about metals ceramics payments or your talking about real life whose transformations present but how do we deal is phase transformation that is who w will be taught because that what is important in your endeavor to learn phase transformations so using these three things one is your o thermodynamics tin kinetics and some basic aspect of material sense like crystal structures and interfaces we are going to study various solid o solid an liquid to solid phase transformation as we know this is a vast subject and covering that in thirty lectures is not an easy task so obviously we must be selected we cannot teach you everything and to learn everything you need to have some basic idea what i put it as course perriquicite ok at this peracuosit ar you should have peperabil would up some basic knowledge on basic material science that most of the students in metallurgy or material sense normally have thermodynnamics especially the thermonynic functions and their relationships and then some dear phase icons and diffusion ok so i have already checked on different portions o wa in steal but y mean by different person is that there are some cornea video or some constitute wave some causes which are massive open alkaline so basic material sense is already been taught by some fecal numbers thermodynamics has already been available and phase the semi myself has develop a course and thrill just one war back decision is also pray taught so therefore you can actually clear your doubts by while reading these lecture ok this is the full whether all the reception of the all the lectures ok i down know whether everything is coming in the scene or not but anyway most important thing is that we are going to talk about some very at the beginning we are going to talk give you some idea about fee end because that is a therbonanis part of the phase diagram so we will show you the calculation of delta g of various transformations ok then we will talk about quite a bit of interface interfaces means liquid sal is solid solid grain grain interface interface interfaeinturfaces these are all parts of with theronynoamics then we have to go into kinetics that the inoculation because enucleation is why the starting point of phase transformations so therefore theory of peculation howmoteou etegean regulations and circulation on the surface is grains and even men corner gen s everywhere it will be dealt with and assume you ecleasion itself a subject so there therefore must be a very an now we have to be very careful about what you are going to talk about it i wont be going to tell you every details of the circulation but whatever relevant we will discuss then we are going to start the first of the fist transfertion that is om solidification as you see here ratification is an liquid to solid phase transformations then we will talk about growth during different aspects like thermal activated god interface control go efficient control go that's why you need to know and cassel as couple go then you take toeutectric transformations then we will talk about little bit about transformation kinetics in terms of there model con enamel and aroma models and some amount of te thermal phase transformations then we simply go on to different so to solitla transforsioni presipitations rectliz and matisides spinagtal dey corporations and a wit about stermaland continuous transformations that itself will be sufficient and a to cover tatilectures ok so this is important that you know what you are going to be taught at the beginning so that you can prepare yourself so we are going to follow exactly the same way things are given and the right side i have also passed down number of lectures will be spend on each topic now comes in very important aspects because in the massive open alkaline course you will be exposed to radio lectures or the ali lectures you must have some amount of you know textbook knowledge so therefore two important textbook which i have carried from our library is this first one which is which is here is written on that is phase transformation in metals and alloys classic textbook by d a porter and k is telling and the meant addition also has come with a new author all the problems of solved by mister doctor am ship this is available in india not very expensive book you can read that and the other book is written by two my past colleagues although i have never met them but they are it angel this book is case transformation is in materials and by professor ak genu and prove m so throne both er i tecanpuo so when these books are written there all therwere jena was in consul ok so these two books will be your basic textbooks for the course and anyone any of these books will be good for you you can buy these books or you can actually copy from different liability in the different parts of the books can copy from different libraries or if you if you want you can actually even now get buy that on different online stores current so that about the basic part of the courseading before i could move onto the next portion ow my lecture why the pay transfer sale wet let me tell you you will be given assignments in every week and i think assermenstion normally uploaded on thursday and because monday wens t mandate witness stay will be exposed to the lectures and after that you will be i will be or my t sh will be uploading the assenments and you will be given bout one weeks time to complete the assignments because assignments lome aline so the questions would be multiple choice type or may be feeling fill in the blank stile as a segment wo leo it is a fifty percent vantage and at the end of this semisster you will be taking an nom exam and we are planning to have it aniline so far if i do not change my decisions or something else happens other city pearl line and that will be having a fifty percent average although i am not keeping any pass marks of this course but you can tentitively consider if you are getting less than about say thirty percent of the marks then you will not be able to pass this course and those who will be successfully completing this course by taking example and getting good marks will be given ratification from the imperial as you know so that way i expect that you will be very serious planner and you will be also able to solve this problems if a in case you have difficulties you can always discuss we can always use discussion for or you can write emails you can always bring it to the instructor all the t s so that we can make it clear to you that very important because understand you know the things very well wood not be able to answer the questions now in the next few slides i am going to talk about what ar relevant of face transformation materials eelonment and why do you study in any course i know that many of you do not expose by the instructor in the same way you must have an idea why you are studying this course what is the need well phase transformation assisiol is presented environment ok the slide i have taken from literature ou one that is what i am going to answer to you why study phase transformation material science ok you know what wearing actually we look materials for the application in any case finally we have to think of application unless aantilis mater is applied engineering point of view we do it find any reason to study stencil moan to give one can stand so application means we must know the properties all kinds of of part so there is a physical mechanical electronic electrical magnetic depending on the applications so property property sofa material is are estimated very very regarsly to find and potential applications this is two probe new material when it is developed so now question is this poupart as i say mechanical chemical electrical minute thermal you can evenly stood many more properties of the material depends on structure and that why actual legal problem come structure has length scale you can simply say atomic structure at min structure is the smallest structure you can think about it atom and nucleus in fact that is why details one sole propadisiofto material but that is not all that is what in so this is who you must know very clear that is not all so structure means it can be amid structure molecular structure grain structure phase as distribution and defects ok so we have basically have listed down from the bottom of atom is the small species and then we have grains and other things so you must have i am stressing again you mast them end go a good idea about the structures to calculate to the properties because it is important that the properties are primarily dictated by this structure so if i know the texture i can vector the properties so you got the coalition right a very logically speaking we make materials whether we use processing techniques to make materials and these processing techniques allow you to control structure processing technique means what you can start with he liquid and solidified that is why the solidification you can start with a metal piece deform by rolling force intrusion whatever deferens means so you actually process or you connection deposit tin flame you can actually use surf statement techniques many things we do in the real app now processing of materials they have a direct connections with a structure and traitor as a direct link with the properties so as you see here these actually are variables for the processing temperature pressure o stress strain or volume and chemical compassion for the away you can change chemical corporation by making different allays so these are my variables in processing and by applying these variables rcommunation variables i generatemor mi make materials or manufacturing materials and these processing variables control the structure structure controller properties so there therefore these three are linked very clearly they are linked they are not separate or they are not independent things they are connected to each other t these are the bridges of these three important pillars of material science processing structure an property but finally what we look for finally we look for what is known as performance if yo war you are studying in a co sylamas in a course we are finally a holelotingal performance similarly materials are elated in terms of performance if i put a tyre in our car that means the major performances that i should be able to drive the take the car for one place to the place without any problems what you know tires will carry from a summer to winter in the in the point countries and ice the tires which will travel n in t are different so that means performance indeed are actually connected to all these three things processing structure and the properties and that is what is important this chart which is very famous in material science youwill find in many books is known as the material statehydron because they i actually looks like it ha try so finally where does the rise transformation comes it is in the structure we modify the structure we modify the atomic structure wo fortify the grain structural modified the phases phase transformations so therefore phase transformation a direct link of the procession and also indirectly corrected with the properties and that why it is a very important course in the material ens engineering you must understand that without knowing the phase transformations you cannot control material properties ok so phase transformation phericallibeof thermodynamics is the basis for understanding a material response to change in temperature pressure composition i must accept this is slide i have taken from way this is not mine thus the cskhetical link between processing and microstructure requires an knowledge of the relevant thermodynamic principles and they are the basis force phase transformation so you understand now why we are actually studying the phase transformations ok now question is this can i relate in the real applications i have taken four application again ill taken from the internal sites first one is an airplane ok air plane is a very important mode of transport from one part of the wall to the other plant and you know the material which is used in the airplane is an aluminum cover alloy if you do not know you can actually take on the books there is a classical alloy eleven a four point five to four point seven percent copper known as develumin in the in the training and this is a very stable ally from forty five deep celsus to minus sixty five u also or even minus a t ti cells i don t know how many of you prate new stat there is a desire laboratory in the southern hemisphere that is in antactica and sometimes if somebody is ill in the decided laboratories in winter time they are actually taken from that place by plane to termelat the the different content especially in south america or sub parts but it will be extremely cold minus sixties to minus eighty edge see system pressures so a plane flying there the material has to withstand such a low temperature so the this one life material which is prepared long back is used for the plane body and important phase transformation which happening here is a presipitation of certain phase in aluminum alas and these pecifitates provide the strength from high sooner temperature if you travel carefully on the planes you will find especially in the wings riveted joints and these related joints are very strong at low temperatures because of the pacification so we are going to discuss about that the next one which is very important the right side is a turbine basically it can be used in the plane the high squid plane or invent in pow generators and they contained nickel by supervise is wonderful material is a nickel aluminum alloy with consisting of many ou elements which i will not discuss in detail now but again the real high temperature properties because this this is a turbine so therefore this has to instant high temperature high temperature properties cubiastane properties of this material is basically because of presipitation of a i three a type l one to precipitated what you known as in a nickel matrix eptrisi matrix and these unique pesipitates actually provide the strength ok the thus that that means the pestipretation is very important aspect to understand so that s why is will be part of a sullivan then on the side left side or you know may be right this is the rails which is used to as a fist plate on the relay tracks these action steels basically the steel of parasite what do we known as if you do not have any idea of paralyses finite is nothing but a e tectortically transform product of gamma solisulation of carbon in iron and so therefore you must we must know how this transformation happens whether can you control it because the properties of the rail depends on that remember ran is is what is allowing you to along us to move trains so therefore they are they are subjected to strains temperature harsher movement and many other things so they must have combinations of properties so that they can serve the purpose and these is basically done by controlling the phase trans notions on the right side this is the end the fast example is basically the titanium based ally engines ok remember these engines are not used in car they will be estingused in the planes or maybe in some other static applications like her like the submarines or so so these engines actually has many plaslect cranium valves the dream mmm is pins that same c cranks ups many other things springs and they are fighting aluminites you know titanium out of the all thatinamalise the most important all which is extensively used is thitinium six aluminium pole canadian and it it we can control the manchester of these by mini ways creating alphalatonium also plus belted ditenium met taking alloys so the propertisill vary depending on whether its alpha so plus petal p meter re alpha is same pro spent structure meta is which is in structure so ratinium actually a room temperature below what to eight hundred eighty two dear cell system pressure is basically alan above there in is n t is king me c structure so one can i actually play around in the temperature one why again controlling the posting parameters to create different kinds of structures to get different properties so all these application dont think that they are all similar alparallits or metals ofopenit always they can be combination so many of these then the actual real problem is how do i control these microstructures by controlling the promising parameters so member these four examples are not exhaustive one can find many many examples in real life as i told in my first introduction lectures the basic example we always find is in in in country like india in the hot summer day you want to drink cold water so you can always put the quarter inside the fringe and get it cooled but it is real advantage is that if i take a glass of water and add a ice cube taken from the see pressure medially the in see will start melting it down or getting dissolved in the water both a actually i to o one is solid i tu or is a liquid issue so therefore by melting it down the heat in getting transfer to the liquid and then the water gets cooled down you enjoy the during so this is the example which is present which we are actually doing it but what is important not for you to understand how this transformation happens how the solid become liquid liquid become solid whether is very simple unknown remember what is one of the most complex systems in the wild i m a unlike metal the are more complex so let me just stop here before i go to the next part of the lecture or the next class so you understand in a nataly that phase transformation is basically very important from the perspectives s of material science and technology and many of these products which you are actually using the the properties are controlled by controlling phase transformations we can do that by using different pouring parametous temperature stay strain commissions and by doing that we alter the microstructure the amid structure and by doing that you are creating different properties that is the relevance of face information course and which you will be exposed to the next subsequent lectures \""
            ]
          },
          "metadata": {},
          "execution_count": 25
        }
      ]
    },
    {
      "cell_type": "code",
      "metadata": {
        "colab": {
          "base_uri": "https://localhost:8080/"
        },
        "id": "l7TkRVL2gMlO",
        "outputId": "84f85afd-d8fc-4906-ca20-26d12333b7b5"
      },
      "source": [
        "print(test_string)"
      ],
      "execution_count": null,
      "outputs": [
        {
          "output_type": "stream",
          "text": [
            "﻿the students let us start the first lecture of this course this is basically a online course so therefore you need to be very clear about what you are going to learn and how you are going to be evaluated first of all this is a course on phase transformation in materials and i will be teaching all the lectures and it is a thirty lecture course that means there will be sixth twenty five minutes lecture and every week w will be exposed to i am not sure now about four to six lectures so that means about two to three hours of lectures so myself is persummiswas and i am a faculty member at the department of material sense engineering opiitianpull so thus the details about me my email address is available on the screen you can dilly write to me whenever you have any serious problems and in addition to that to handle the courseexams and also grading of your answer seems although i know this will be all done all line will be taken care by the teaching assisted so two my students they will be handling that so they are actually the main person who will be handling your questions to my right first one i costo chospotivaris is my pay student and second one is res pa res his also my pan i student so they will be handling all your questions in a discussion forum obviously they are very difficult then i will also participate and also they will be handling your question paper and grading so it ask will be to deliver all the lectures and then this will be uploaded int tan petal website so that you can observe and read or oblivion or learn whatever me whatever way you can think about it nowadays also there is another provision all my lectures whatever i am speaking will be again taken down or written by some x parts so we are in the process of finding out those x parts for my earlier course and phase transformation materials similarly will will do it for you also so that you do it need to listen you can actually read all these lectures bones so before that happens you are going to only listen this lectures available on the imperial form and also you can ask questions in the discussion forum and so that s about it and their similar doses are given and i have carefully removed the phone numbers because this is why things become very difficult to handle so if you have any questions you can ask them ask me also or you can put it on the discussion form you know like any things in life every course as an objective and this subjective has to be very clear before you start a course present course actually we ill deal with basic surface transformations and materials as i said in in my introduction radio already you have seen probably that past transformation is everyuler present in the environment whether you are talking about metals ceramics payments or your talking about real life whose transformations present but how do we deal is phase transformation that is who w will be taught because that what is important in your endeavor to learn phase transformations so using these three things one is your o thermodynamics tin kinetics and some basic aspect of material sense like crystal structures and interfaces we are going to study various solid o solid an liquid to solid phase transformation as we know this is a vast subject and covering that in thirty lectures is not an easy task so obviously we must be selected we cannot teach you everything and to learn everything you need to have some basic idea what i put it as course perriquicite ok at this peracuosit ar you should have peperabil would up some basic knowledge on basic material science that most of the students in metallurgy or material sense normally have thermodynnamics especially the thermonynic functions and their relationships and then some dear phase icons and diffusion ok so i have already checked on different portions o wa in steal but y mean by different person is that there are some cornea video or some constitute wave some causes which are massive open alkaline so basic material sense is already been taught by some fecal numbers thermodynamics has already been available and phase the semi myself has develop a course and thrill just one war back decision is also pray taught so therefore you can actually clear your doubts by while reading these lecture ok this is the full whether all the reception of the all the lectures ok i down know whether everything is coming in the scene or not but anyway most important thing is that we are going to talk about some very at the beginning we are going to talk give you some idea about fee end because that is a therbonanis part of the phase diagram so we will show you the calculation of delta g of various transformations ok then we will talk about quite a bit of interface interfaces means liquid sal is solid solid grain grain interface interface interfaeinturfaces these are all parts of with theronynoamics then we have to go into kinetics that the inoculation because enucleation is why the starting point of phase transformations so therefore theory of peculation howmoteou etegean regulations and circulation on the surface is grains and even men corner gen s everywhere it will be dealt with and assume you ecleasion itself a subject so there therefore must be a very an now we have to be very careful about what you are going to talk about it i wont be going to tell you every details of the circulation but whatever relevant we will discuss then we are going to start the first of the fist transfertion that is om solidification as you see here ratification is an liquid to solid phase transformations then we will talk about growth during different aspects like thermal activated god interface control go efficient control go that's why you need to know and cassel as couple go then you take toeutectric transformations then we will talk about little bit about transformation kinetics in terms of there model con enamel and aroma models and some amount of te thermal phase transformations then we simply go on to different so to solitla transforsioni presipitations rectliz and matisides spinagtal dey corporations and a wit about stermaland continuous transformations that itself will be sufficient and a to cover tatilectures ok so this is important that you know what you are going to be taught at the beginning so that you can prepare yourself so we are going to follow exactly the same way things are given and the right side i have also passed down number of lectures will be spend on each topic now comes in very important aspects because in the massive open alkaline course you will be exposed to radio lectures or the ali lectures you must have some amount of you know textbook knowledge so therefore two important textbook which i have carried from our library is this first one which is which is here is written on that is phase transformation in metals and alloys classic textbook by d a porter and k is telling and the meant addition also has come with a new author all the problems of solved by mister doctor am ship this is available in india not very expensive book you can read that and the other book is written by two my past colleagues although i have never met them but they are it angel this book is case transformation is in materials and by professor ak genu and prove m so throne both er i tecanpuo so when these books are written there all therwere jena was in consul ok so these two books will be your basic textbooks for the course and anyone any of these books will be good for you you can buy these books or you can actually copy from different liability in the different parts of the books can copy from different libraries or if you if you want you can actually even now get buy that on different online stores current so that about the basic part of the courseading before i could move onto the next portion ow my lecture why the pay transfer sale wet let me tell you you will be given assignments in every week and i think assermenstion normally uploaded on thursday and because monday wens t mandate witness stay will be exposed to the lectures and after that you will be i will be or my t sh will be uploading the assenments and you will be given bout one weeks time to complete the assignments because assignments lome aline so the questions would be multiple choice type or may be feeling fill in the blank stile as a segment wo leo it is a fifty percent vantage and at the end of this semisster you will be taking an nom exam and we are planning to have it aniline so far if i do not change my decisions or something else happens other city pearl line and that will be having a fifty percent average although i am not keeping any pass marks of this course but you can tentitively consider if you are getting less than about say thirty percent of the marks then you will not be able to pass this course and those who will be successfully completing this course by taking example and getting good marks will be given ratification from the imperial as you know so that way i expect that you will be very serious planner and you will be also able to solve this problems if a in case you have difficulties you can always discuss we can always use discussion for or you can write emails you can always bring it to the instructor all the t s so that we can make it clear to you that very important because understand you know the things very well wood not be able to answer the questions now in the next few slides i am going to talk about what ar relevant of face transformation materials eelonment and why do you study in any course i know that many of you do not expose by the instructor in the same way you must have an idea why you are studying this course what is the need well phase transformation assisiol is presented environment ok the slide i have taken from literature ou one that is what i am going to answer to you why study phase transformation material science ok you know what wearing actually we look materials for the application in any case finally we have to think of application unless aantilis mater is applied engineering point of view we do it find any reason to study stencil moan to give one can stand so application means we must know the properties all kinds of of part so there is a physical mechanical electronic electrical magnetic depending on the applications so property property sofa material is are estimated very very regarsly to find and potential applications this is two probe new material when it is developed so now question is this poupart as i say mechanical chemical electrical minute thermal you can evenly stood many more properties of the material depends on structure and that why actual legal problem come structure has length scale you can simply say atomic structure at min structure is the smallest structure you can think about it atom and nucleus in fact that is why details one sole propadisiofto material but that is not all that is what in so this is who you must know very clear that is not all so structure means it can be amid structure molecular structure grain structure phase as distribution and defects ok so we have basically have listed down from the bottom of atom is the small species and then we have grains and other things so you must have i am stressing again you mast them end go a good idea about the structures to calculate to the properties because it is important that the properties are primarily dictated by this structure so if i know the texture i can vector the properties so you got the coalition right a very logically speaking we make materials whether we use processing techniques to make materials and these processing techniques allow you to control structure processing technique means what you can start with he liquid and solidified that is why the solidification you can start with a metal piece deform by rolling force intrusion whatever deferens means so you actually process or you connection deposit tin flame you can actually use surf statement techniques many things we do in the real app now processing of materials they have a direct connections with a structure and traitor as a direct link with the properties so as you see here these actually are variables for the processing temperature pressure o stress strain or volume and chemical compassion for the away you can change chemical corporation by making different allays so these are my variables in processing and by applying these variables rcommunation variables i generatemor mi make materials or manufacturing materials and these processing variables control the structure structure controller properties so there therefore these three are linked very clearly they are linked they are not separate or they are not independent things they are connected to each other t these are the bridges of these three important pillars of material science processing structure an property but finally what we look for finally we look for what is known as performance if yo war you are studying in a co sylamas in a course we are finally a holelotingal performance similarly materials are elated in terms of performance if i put a tyre in our car that means the major performances that i should be able to drive the take the car for one place to the place without any problems what you know tires will carry from a summer to winter in the in the point countries and ice the tires which will travel n in t are different so that means performance indeed are actually connected to all these three things processing structure and the properties and that is what is important this chart which is very famous in material science youwill find in many books is known as the material statehydron because they i actually looks like it ha try so finally where does the rise transformation comes it is in the structure we modify the structure we modify the atomic structure wo fortify the grain structural modified the phases phase transformations so therefore phase transformation a direct link of the procession and also indirectly corrected with the properties and that why it is a very important course in the material ens engineering you must understand that without knowing the phase transformations you cannot control material properties ok so phase transformation phericallibeof thermodynamics is the basis for understanding a material response to change in temperature pressure composition i must accept this is slide i have taken from way this is not mine thus the cskhetical link between processing and microstructure requires an knowledge of the relevant thermodynamic principles and they are the basis force phase transformation so you understand now why we are actually studying the phase transformations ok now question is this can i relate in the real applications i have taken four application again ill taken from the internal sites first one is an airplane ok air plane is a very important mode of transport from one part of the wall to the other plant and you know the material which is used in the airplane is an aluminum cover alloy if you do not know you can actually take on the books there is a classical alloy eleven a four point five to four point seven percent copper known as develumin in the in the training and this is a very stable ally from forty five deep celsus to minus sixty five u also or even minus a t ti cells i don t know how many of you prate new stat there is a desire laboratory in the southern hemisphere that is in antactica and sometimes if somebody is ill in the decided laboratories in winter time they are actually taken from that place by plane to termelat the the different content especially in south america or sub parts but it will be extremely cold minus sixties to minus eighty edge see system pressures so a plane flying there the material has to withstand such a low temperature so the this one life material which is prepared long back is used for the plane body and important phase transformation which happening here is a presipitation of certain phase in aluminum alas and these pecifitates provide the strength from high sooner temperature if you travel carefully on the planes you will find especially in the wings riveted joints and these related joints are very strong at low temperatures because of the pacification so we are going to discuss about that the next one which is very important the right side is a turbine basically it can be used in the plane the high squid plane or invent in pow generators and they contained nickel by supervise is wonderful material is a nickel aluminum alloy with consisting of many ou elements which i will not discuss in detail now but again the real high temperature properties because this this is a turbine so therefore this has to instant high temperature high temperature properties cubiastane properties of this material is basically because of presipitation of a i three a type l one to precipitated what you known as in a nickel matrix eptrisi matrix and these unique pesipitates actually provide the strength ok the thus that that means the pestipretation is very important aspect to understand so that s why is will be part of a sullivan then on the side left side or you know may be right this is the rails which is used to as a fist plate on the relay tracks these action steels basically the steel of parasite what do we known as if you do not have any idea of paralyses finite is nothing but a e tectortically transform product of gamma solisulation of carbon in iron and so therefore you must we must know how this transformation happens whether can you control it because the properties of the rail depends on that remember ran is is what is allowing you to along us to move trains so therefore they are they are subjected to strains temperature harsher movement and many other things so they must have combinations of properties so that they can serve the purpose and these is basically done by controlling the phase trans notions on the right side this is the end the fast example is basically the titanium based ally engines ok remember these engines are not used in car they will be estingused in the planes or maybe in some other static applications like her like the submarines or so so these engines actually has many plaslect cranium valves the dream mmm is pins that same c cranks ups many other things springs and they are fighting aluminites you know titanium out of the all thatinamalise the most important all which is extensively used is thitinium six aluminium pole canadian and it it we can control the manchester of these by mini ways creating alphalatonium also plus belted ditenium met taking alloys so the propertisill vary depending on whether its alpha so plus petal p meter re alpha is same pro spent structure meta is which is in structure so ratinium actually a room temperature below what to eight hundred eighty two dear cell system pressure is basically alan above there in is n t is king me c structure so one can i actually play around in the temperature one why again controlling the posting parameters to create different kinds of structures to get different properties so all these application dont think that they are all similar alparallits or metals ofopenit always they can be combination so many of these then the actual real problem is how do i control these microstructures by controlling the promising parameters so member these four examples are not exhaustive one can find many many examples in real life as i told in my first introduction lectures the basic example we always find is in in in country like india in the hot summer day you want to drink cold water so you can always put the quarter inside the fringe and get it cooled but it is real advantage is that if i take a glass of water and add a ice cube taken from the see pressure medially the in see will start melting it down or getting dissolved in the water both a actually i to o one is solid i tu or is a liquid issue so therefore by melting it down the heat in getting transfer to the liquid and then the water gets cooled down you enjoy the during so this is the example which is present which we are actually doing it but what is important not for you to understand how this transformation happens how the solid become liquid liquid become solid whether is very simple unknown remember what is one of the most complex systems in the wild i m a unlike metal the are more complex so let me just stop here before i go to the next part of the lecture or the next class so you understand in a nataly that phase transformation is basically very important from the perspectives s of material science and technology and many of these products which you are actually using the the properties are controlled by controlling phase transformations we can do that by using different pouring parametous temperature stay strain commissions and by doing that we alter the microstructure the amid structure and by doing that you are creating different properties that is the relevance of face information course and which you will be exposed to the next subsequent lectures \n"
          ],
          "name": "stdout"
        }
      ]
    },
    {
      "cell_type": "code",
      "metadata": {
        "id": "Ni_TKcNjgv2d"
      },
      "source": [
        "listtt = []"
      ],
      "execution_count": null,
      "outputs": []
    },
    {
      "cell_type": "code",
      "metadata": {
        "colab": {
          "base_uri": "https://localhost:8080/"
        },
        "id": "sebEqaBzgv2d",
        "outputId": "c9806d49-5f33-47e1-b322-ac3ba8babd86"
      },
      "source": [
        "sii = difflib.SequenceMatcher(None, test_string, FileContent2)\n",
        "for tag, i1, i2, j1, j2 in sii.get_opcodes():\n",
        "  listtt.append(tag)\n",
        "  print('{:7}   test_string[{}:{}] --> FileContent2[{}:{}] {!r:>8} --> {!r}'.format(\n",
        "  tag, i1, i2, j1, j2, test_string[i1:i2], FileContent2[j1:j2]))"
      ],
      "execution_count": null,
      "outputs": [
        {
          "output_type": "stream",
          "text": [
            "equal     test_string[0:1] --> FileContent2[0:1] '\\ufeff' --> '\\ufeff'\n",
            "replace   test_string[1:87] --> FileContent2[1:88] 'the students let us start the first lecture of this course this is basically a online ' --> 'dear students let us start the first lecture of this course this is basically a online\\n'\n",
            "equal     test_string[87:174] --> FileContent2[88:175] 'course so therefore you need to be very clear about what you are going to learn and how' --> 'course so therefore you need to be very clear about what you are going to learn and how'\n",
            "replace   test_string[174:175] --> FileContent2[175:176]      ' ' --> '\\n'\n",
            "equal     test_string[175:261] --> FileContent2[176:262] 'you are going to be evaluated first of all this is a course on phase transformation in' --> 'you are going to be evaluated first of all this is a course on phase transformation in'\n",
            "replace   test_string[261:357] --> FileContent2[262:358] ' materials and i will be teaching all the lectures and it is a thirty lecture course that means ' --> '\\nmaterials and i will be teaching all the lectures and it is a thirty lecture course that means\\n'\n",
            "equal     test_string[357:375] --> FileContent2[358:376] 'there will be sixt' --> 'there will be sixt'\n",
            "replace   test_string[375:376] --> FileContent2[376:377]      'h' --> 'y'\n",
            "equal     test_string[376:421] --> FileContent2[377:422] ' twenty five minutes lecture and every week w' --> ' twenty five minutes lecture and every week w'\n",
            "replace   test_string[421:431] --> FileContent2[422:476] ' will be e' --> 'ill be i suppose to i am not\\nsure now about four to si'\n",
            "equal     test_string[431:432] --> FileContent2[476:477]      'x' --> 'x'\n",
            "replace   test_string[432:475] --> FileContent2[477:843] 'posed to i am not sure now about four to si' --> ' lectures so that means about two to three hours of lectures\\nso myself is professor biswas and i am a faculty member at the department of material science\\nengineering of iit kanpur so thats the details about me my email address is available on\\nthe screen you can daily write to me whenever you have any serious problems and in addition\\nto that to handle the course e'\n",
            "equal     test_string[475:476] --> FileContent2[843:844]      'x' --> 'x'\n",
            "replace   test_string[476:700] --> FileContent2[844:1268] ' lectures so that means about two to three hours of lectures so myself is persummiswas and i am a faculty member at the department of material sense engineering opiitianpull so thus the details about me my email address is a' --> 'ams and also grading appear answer sheets i know this will\\nbe done online will be taken care by the teaching assistance\\nso two of my students they will be handling that so they are actually the main ah person\\nwill be handling your questions to my write first one is kushbu kushbu tiwari is my pg\\nand second one is reshma reshma is also my pg student so they will be handling all your\\nthe questions in the discussion forum ob'\n",
            "equal     test_string[700:701] --> FileContent2[1268:1269]      'v' --> 'v'\n",
            "replace   test_string[701:754] --> FileContent2[1269:1285] 'ailable on the screen you can dilly write to me whene' --> 'iously they are '\n",
            "equal     test_string[754:757] --> FileContent2[1285:1288]    'ver' --> 'ver'\n",
            "replace   test_string[757:764] --> FileContent2[1288:1417] ' you ha' --> 'y difficult and i will also participate\\nand also they will be handling your question paper and grading so my task will be to deli'\n",
            "equal     test_string[764:766] --> FileContent2[1417:1419]     've' --> 've'\n",
            "replace   test_string[766:832] --> FileContent2[1419:1716] ' any serious problems and in addition to that to handle the course' --> 'r\\nall the lectures and then this will be uploaded in to nptel website so that you can observe\\nand read or or listen online whatever is whatever way you can think about it\\nnow a days also there is another provision all my lectures whatever i am speaking will\\nbe again taken down or written by some '\n",
            "equal     test_string[832:834] --> FileContent2[1716:1718]     'ex' --> 'ex'\n",
            "replace   test_string[834:887] --> FileContent2[1718:2061] 'ams and also grading of your answer seems although i ' --> 'perts so we are in the process of finding out those\\nexperts on my earlier course on phase transformation materials similarly we will do it for you\\nalso so that you dont need to listen you can actually read all this lectures notes so before\\nthat happens we are going to only listen this lectures available on the nptel forum and\\nalso you can as'\n",
            "equal     test_string[887:888] --> FileContent2[2061:2062]      'k' --> 'k'\n",
            "replace   test_string[888:933] --> FileContent2[2062:2303] 'now this will be all done all line will be ta' --> ' questions in the discussion forum and so thats about it and there email\\naddress is are given and i have carefully removed the phone numbers because this is\\nwhere things become very difficult to handle so if you have any questions you can as'\n",
            "equal     test_string[933:934] --> FileContent2[2303:2304]      'k' --> 'k'\n",
            "replace   test_string[934:1076] --> FileContent2[2304:3191] 'en care by the teaching assisted so two my students they will be handling that so they are actually the main person who will be handling your ' --> ' them\\nask me also or you can put it on the discussion forum ok you know like any things in life\\nevery course has an objective and this objective has to be very clear before you start the\\ncourse\\nso present course actually will deal with basics of transformations in materials and\\nas i said in my introduction video already you have seen probably that phase transformation\\nis everywhere present in the normal whether you are talking about materials ceramics polymers\\nor you are talking about real life phase transformation is present that how do we deal with phase\\ntransformation that is what you will be taught because thats what is important in your endower\\nto learn phase transformation so using these three things one is your thermodynamics\\nthen kinetics and some basic aspect of material sands like crystal structures and interfaces\\nwe are going to study various solid to solid and li'\n",
            "equal     test_string[1076:1078] --> FileContent2[3191:3193]     'qu' --> 'qu'\n",
            "replace   test_string[1078:1124] --> FileContent2[3193:3264] 'estions to my right first one i costo chospoti' --> 'id to solid phase transformation as\\nyou know this is our subject and co'\n",
            "equal     test_string[1124:1125] --> FileContent2[3264:3265]      'v' --> 'v'\n",
            "replace   test_string[1125:1237] --> FileContent2[3265:3469] 'aris is my pay student and second one is res pa res his also my pan i student so they will be handling all your ' --> 'ering that in thirty lectures is not an easy task\\nso obviously we must be selected we cannot teach you everything and to learn everything\\nyou need to have some basic idea ah what i put it as course pre re'\n",
            "equal     test_string[1237:1239] --> FileContent2[3469:3471]     'qu' --> 'qu'\n",
            "replace   test_string[1239:1271] --> FileContent2[3471:3518] 'estions in a discussion forum ob' --> 'isites ok and this\\npre requisites are should ha'\n",
            "equal     test_string[1271:1272] --> FileContent2[3518:3519]      'v' --> 'v'\n",
            "replace   test_string[1272:1288] --> FileContent2[3519:3541] 'iously they are ' --> 'e preferably should ha'\n",
            "equal     test_string[1288:1290] --> FileContent2[3541:3543]     've' --> 've'\n",
            "replace   test_string[1290:1368] --> FileContent2[3543:4775] 'ry difficult then i will also participate and also they will be handling your ' --> ' some basic knowledge on basic\\nmaterial science that most of the students in methodology or material science normally\\nhave thermodynamics especially with thermodynamics functions and their relationships and then\\nsome idea about phase diagrams and diffusion ok\\nso ah i have already ah checked on different courses in nptel but by mean by different\\nperson is that there are some courses which are videos some courses which are web some\\ncourses which are massive open online so basic material science is already being taught by\\nsome faculty members thermodynamics is already being available and phase diagram i myself\\nwas develop a course nil just one year back diffusion is also partly taught so therefore\\nyou can actually ah clear your doubts while reading these lecture ok ah this is the full\\nah rather all the description of the all the lectures ok i dont know whether everything\\nis coming in this scheme or not but any way most important thing is that we are going\\nto talk about some very ah at the beginning where we going to talk give you some idea\\nabout free energy because that is the thermodynamic part of the phase diagram so we will show\\nyou the calculation of delta g of various transformations ok then we will talk about\\n'\n",
            "equal     test_string[1368:1370] --> FileContent2[4775:4777]     'qu' --> 'qu'\n",
            "replace   test_string[1370:1403] --> FileContent2[4777:4952] 'estion paper and grading so it as' --> 'ad derivative of interfaces interfaces means liquid solids gren gren interface interface\\ninter phase interfaces this are all parts of thermodynamics\\nthen you have to go in to '\n",
            "equal     test_string[1403:1404] --> FileContent2[4952:4953]      'k' --> 'k'\n",
            "replace   test_string[1404:1420] --> FileContent2[4953:5165] ' will be to deli' --> 'inetics thats the nucleation because nucleation is what the\\nstarting point of phase transformations so therefore theorem nucleation homogeneous heterogeneous\\nnucleation and nucleation on the surfaces grains and e'\n",
            "equal     test_string[1420:1422] --> FileContent2[5165:5167]     've' --> 've'\n",
            "replace   test_string[1422:1515] --> FileContent2[5167:5193] 'r all the lectures and then this will be uploaded int tan petal website so that you can obser' --> 'n clan corners gen edges e'\n",
            "equal     test_string[1515:1517] --> FileContent2[5193:5195]     've' --> 've'\n",
            "replace   test_string[1517:1534] --> FileContent2[5195:5296] ' and read or obli' --> 'ry\\nwhere it will be dealt with as you know nucleation itself is the subject so there that we must\\nbe '\n",
            "equal     test_string[1534:1535] --> FileContent2[5296:5297]      'v' --> 'v'\n",
            "replace   test_string[1535:1553] --> FileContent2[5297:5319] 'ion or learn whate' --> 'ery ah you know you ha'\n",
            "equal     test_string[1553:1555] --> FileContent2[5319:5321]     've' --> 've'\n",
            "replace   test_string[1555:1565] --> FileContent2[5321:5325] 'r me whate' --> ' to '\n",
            "equal     test_string[1565:1568] --> FileContent2[5325:5328]    'ver' --> 'ver'\n",
            "replace   test_string[1568:1585] --> FileContent2[5328:5369] ' way you can thin' --> 'y careful about what you are going to tal'\n",
            "equal     test_string[1585:1595] --> FileContent2[5369:5379] 'k about it' --> 'k about it'\n",
            "replace   test_string[1595:1630] --> FileContent2[5379:5409] ' nowadays also there is another pro' --> 's\\ni wont be able to tell you e'\n",
            "equal     test_string[1630:1631] --> FileContent2[5409:5410]      'v' --> 'v'\n",
            "replace   test_string[1631:1652] --> FileContent2[5410:5443] 'ision all my lectures' --> 'ery details of the nucleation but'\n",
            "equal     test_string[1652:1662] --> FileContent2[5443:5453] ' whatever ' --> ' whatever '\n",
            "replace   test_string[1662:1671] --> FileContent2[5453:5658] 'i am spea' --> 'element we will\\ndiscuss then we are going to start the first of the phase transformation that is on solidification\\nas you see here solidification is a liquid to solid phase transformations then we will\\ntal'\n",
            "equal     test_string[1671:1672] --> FileContent2[5658:5659]      'k' --> 'k'\n",
            "replace   test_string[1672:1692] --> FileContent2[5659:5700] 'ing will be again ta' --> ' about growth during different aspects li'\n",
            "equal     test_string[1692:1694] --> FileContent2[5700:5702]     'ke' --> 'ke'\n",
            "replace   test_string[1694:1720] --> FileContent2[5702:6485] 'n down or written by some ' --> ' thermal activated growth interface controlled\\ngrowth diffusion controlled growth thats why you need to know as well as coupled growth\\nand you take to array you take the transformation then we will talk about little bit about transformation\\nkinetics in terms of different models johnson mehl and avrami models and some amount of\\ngas thermal phase transformations then we will simply go on to different solid phase\\ntransformations like precipitation recrystallisation martensitics spinodal decompositions and we\\ntalk about isothermal and continuous transformations thats itself will be sufficient enough to\\ncall off thirty lectures ok\\nso ah this is important that you know what we are going to be taught at the beginning\\nso that you can prepare yourself so we are going to ah follow e'\n",
            "equal     test_string[1720:1721] --> FileContent2[6485:6486]      'x' --> 'x'\n",
            "replace   test_string[1721:1774] --> FileContent2[6486:6700] ' parts so we are in the process of finding out those ' --> 'actly the same way things\\nare given on the right side i have also listed down number of lectures will be spent on each\\ntopic now comes in very important aspects because in a massive open online course you\\nwill be e'\n",
            "equal     test_string[1774:1775] --> FileContent2[6700:6701]      'x' --> 'x'\n",
            "replace   test_string[1775:2025] --> FileContent2[6701:6710] ' parts for my earlier course and phase transformation materials similarly will will do it for you also so that you do it need to listen you can actually read all these lectures bones so before that happens you are going to only listen this lectures a' --> 'posed to '\n",
            "equal     test_string[2025:2026] --> FileContent2[6710:6711]      'v' --> 'v'\n",
            "replace   test_string[2026:2074] --> FileContent2[6711:6781] 'ailable on the imperial form and also you can as' --> 'ideo lectures or the online lectures you must have some amount of you\\n'\n",
            "equal     test_string[2074:2075] --> FileContent2[6781:6782]      'k' --> 'k'\n",
            "replace   test_string[2075:2076] --> FileContent2[6782:8444]      ' ' --> 'now text book knowledge so therefore two important text books which are carried from\\nour library ah is this first one which is which is here is written on that is phase\\ntransformation in metals and alloys classic text book by d a porter and k e easterling\\nand the recent edition also has come with a new author are all the problems are solved\\nmr ah doctor m y sherif this is available in india not very expensive book you can read\\nthat and the other book is written by two of my past colleagues although i have never\\nmet them but though are iit kanpur this book is phase transformations in materials and\\nby professor a k jena and professor m c chaturvedi both were at iit kanpur\\nso ah when this books written there there were ah jena was in kanpur ok so this two\\nbooks will be a basic text book for the course and anyone any of these books will be good\\nfor you you can by this books or you can actually copy from different libraries in the in the\\ndifferent parts of the book you can copy from different libraries or if you if you want\\nyou actually even ah you know get by that on different online stores correct so thats\\nabout the basic part of the course i think before i could move on to the next portion\\nof my ah lecture why the phase transformation is delivered let me tell you you will be given\\nah assignments on every week and i think assignments are normally uploaded on thursday and because\\nmonday wednesday monday to wednesday will be exposed to the lectures and after that\\nyou will be i will be ah my t s will be uploading the assignments and you will be given about\\none weeks time to complete the assignments because assignments will be online so the\\n'\n",
            "equal     test_string[2076:2086] --> FileContent2[8444:8454] 'questions ' --> 'questions '\n",
            "replace   test_string[2086:2163] --> FileContent2[8454:8546] 'in the discussion forum and so that s about it and their similar doses are gi' --> 'will be ah multiple choice type or may be fill fill in the blanks type as\\nassignment will ha'\n",
            "equal     test_string[2163:2165] --> FileContent2[8546:8548]     've' --> 've'\n",
            "replace   test_string[2165:2172] --> FileContent2[8548:8678] 'n and i' --> ' a weightage of fifty percent weightage and at the end of this semester\\nyou will be taking an end some exam and we are planning to'\n",
            "equal     test_string[2172:2178] --> FileContent2[8678:8684] ' have ' --> ' have '\n",
            "replace   test_string[2178:2192] --> FileContent2[8684:8807] 'carefully remo' --> 'it online so far if i\\ndont change my decisions or something else is happens otherwise it will be online and\\nthat will be ha'\n",
            "equal     test_string[2192:2193] --> FileContent2[8807:8808]      'v' --> 'v'\n",
            "replace   test_string[2193:2248] --> FileContent2[8808:9153] 'ed the phone numbers because this is why things become ' --> 'ing a fifty percent weightage\\nalthough ah i am not keeping any pass marks for this course but you can interdentally\\nconsider if you are getting less than about say thirty percent of the marks then you will\\nnot be able to pass this course and those who will be successfully completing this course\\nby taking exams and getting good marks will be gi'\n",
            "equal     test_string[2248:2250] --> FileContent2[9153:9155]     've' --> 've'\n",
            "replace   test_string[2250:2285] --> FileContent2[9155:9236] 'ry difficult to handle so if you ha' --> 'n certification from the nptel as you\\nknow so that way i expect that you will be '\n",
            "equal     test_string[2285:2287] --> FileContent2[9236:9238]     've' --> 've'\n",
            "replace   test_string[2287:2292] --> FileContent2[9238:9630]  ' any ' --> 'ry serious learner and you will be also\\nable to solve this problems if incase you have difficulties you can always discuss you\\ncan always use the discussion forums or you can write emails you can always bring it to\\nthe ah instructor all the t s so that we can make it clear to you thats very important\\nbecause unless and until you know the things very well you will not be able to answer the\\n'\n",
            "equal     test_string[2292:2302] --> FileContent2[9630:9640] 'questions ' --> 'questions '\n",
            "replace   test_string[2302:2312] --> FileContent2[9640:9687] 'you can as' --> 'now ah in the next few slides i am going to tal'\n",
            "equal     test_string[2312:2314] --> FileContent2[9687:9689]     'k ' --> 'k '\n",
            "replace   test_string[2314:2321] --> FileContent2[9689:9802] 'them as' --> 'about what are the relevance\\nof phase transformation materials development then why do you study in any course i '\n",
            "equal     test_string[2321:2322] --> FileContent2[9802:9803]      'k' --> 'k'\n",
            "replace   test_string[2322:2376] --> FileContent2[9803:10012] ' me also or you can put it on the discussion form you ' --> 'now\\nthat many of you do not exposed by the instructor in the same way you must have an idea why\\nyou are studying this course what is the need well phase transformation is as i said is\\nrepresented environment o'\n",
            "equal     test_string[2376:2377] --> FileContent2[10012:10013]      'k' --> 'k'\n",
            "replace   test_string[2377:2383] --> FileContent2[10013:10034] 'now li' --> '\\nthis slide i have ta'\n",
            "equal     test_string[2383:2385] --> FileContent2[10034:10036]     'ke' --> 'ke'\n",
            "replace   test_string[2385:2406] --> FileContent2[10036:10252] ' any things in life e' --> 'n from the literature you know thats what i am going to answer to\\nyou why study phase transformation material science ok you know what we are actually we\\nlook material for the application in in any case finally we ha'\n",
            "equal     test_string[2406:2408] --> FileContent2[10252:10254]     've' --> 've'\n",
            "replace   test_string[2408:2426] --> FileContent2[10254:13457] 'ry course as an ob' --> ' to think our application\\nunless and until this material is applied engineering point of view we dont find any\\nreason to study scientific point of view one can study so application means we must know\\nthat properties all kinds of properties so there is a physical mechanical electronic\\nelectrical magnetic depending on the applications so property or properties of a material is\\nare estimated very very rigorously to find an potential applications this is true for\\neven a new materials when its developed so now question is this properties as i said\\nmechanical chemical electrical magnetic thermal you can even list on many more properties\\nof the material depends on structure and thats why actually real problem comes structure\\nhas land scape you can simply say atomic structure atomic structure is the smallest structure\\nyou can think about it atom and nucleus infact that is what dictates most of the properties\\nare to material but that is not all that is what in to this is what you must know very\\nclearly thats not all\\nso structure means it can be atomic structure molecular structure grain structure phase\\ntrans distribution and defects ok so we have basically i have listed down from the bottom\\nup the atom is smallest theses and then we have grains and other things so you must have\\ni am stressing again you must have an good idea about this structures to correlate with\\nthe properties because it is important that the properties are primarily dictated by the\\nstructure so if i know the structure i can dictate the properties so you got the correlation\\nright ah very logically speaking we made materials rather we use processing techniques to make\\nmaterials and this processing techniques allow you to control structure processing technique\\nmeans what you can start with the liquid and solidify that is what is solidification you\\ncan start with the metal piece deform by rolling forging exclusion whatever different means\\nso you actually process or you can actually deposit thin film you can actually you surface\\ntreatment techniques many things we do in the real ah now processing of materials they\\nhave a direct connection with this structure\\na structure has a direct link with the properties so as you see here these actually are variables\\nfor the processing temperature pressure or stress strain or volume and chemical composition\\nfor the alloys you can change chemical composition by making different alloys so these are my\\nvariables in processing and by applying these variables or combination of variables i generate\\nor i make materials and manufacture materials and this processing variables controls the\\nstructure and structure controls the properties so therefore these three are linked very clearly\\nthey are linked they are not separate or they are not independent things they are connected\\nto each other these are the of these three important pillars of material science processing\\nstructure and property but finally where to we look for finally we look for what is known\\nas performance if you are studying in a course syllabus in a course you are finally evaluated\\non performance similarly materials are evaluated in terms of performance if i put a tire in\\nyour car that means the ma'\n",
            "equal     test_string[2426:2427] --> FileContent2[13457:13458]      'j' --> 'j'\n",
            "replace   test_string[2427:2430] --> FileContent2[13458:13505]    'ect' --> 'or performance is the tire should be able to dr'\n",
            "equal     test_string[2430:2434] --> FileContent2[13505:13509]   'ive ' --> 'ive '\n",
            "replace   test_string[2434:2446] --> FileContent2[13509:16534] 'and this sub' --> 'the take\\nthe car from one place to another without any problems but you know tires should vary\\nfrom a some ah are twin tire in the in the foreign countries in the the eyes tire which\\nwill travel on are different\\nso that means performance indeed are actually connected to all these three things processing\\nstructure and the properties and that is what is important this chart which is very famous\\nin material science you will find in many books is known as the material tetrahedron\\nbecause they are actually looks like a tetrahedron so finally where does the phase transformation\\ncomes it is in the structure we modify the structure we modify the atomic structure we\\nmodify grain structure we modify the various by phase transformation so therefore phase\\ntransformation are directly linked with processing and also indirectly connected with the properties\\nand thats why it is a very important course in the material science engineering you must\\nunderstand that without knowing the or phase transformations you cannot control material\\nproperties ok\\nso ah phase transformation or phase equilibria or thermodynamics is the basis for understanding\\na material response to change in temperature pressure composition i must accept this is\\nslide i have taken from web this is not mine thus the critical link between processing\\nand microstructure requires a knowledge of the relevant thermodynamics principles and\\nthey are the basis for phase transformations so you understand now why we are actually\\nstudying the phase transformations ok now question is this can i relate it to real applications\\ni have taken four applications again i taken from the internet sites first one is in air\\nplane ok air plane is the very important ah mode of transport from one part of the world\\nto other part and you know the material which is used in the air plane is an aluminum copper\\nalloy if you dont know you can actually check on the books this is the classical alloy aluminum\\nfour point five to four point seven percent copper known as dual lumen in the in the trend\\nname and this is a very stable alloy from forty five degree celsius to minus sixty five\\ndegree celsius or even minus eighty degree celsius i dont know how many of you read news\\nthat there is a research laboratory in the southern hampshire that is in hm antarctica\\nand sometimes if somebodies yield in the research laboratories in winter time they are actually\\ntaken from that place by plane to the the different country especially in southern america\\nand such parts but it will be extremely cold minus sixty to minus eighty degree celsius\\ntemperature so a plane flying there the material has to be stand such a low temperature\\nso this wonderful material which is prepared long back is used for the plane body and important\\nphase transformation which is happening here is a precipitation of certain phase in aluminum\\nalloys and this precipitates provide the strength from high to low temperature if you travel\\ncarefully on the planes you will find especially in the wings deviated '\n",
            "equal     test_string[2446:2447] --> FileContent2[16534:16535]      'j' --> 'j'\n",
            "replace   test_string[2447:2451] --> FileContent2[16535:16550]   'ecti' --> 'oin and this de'\n",
            "equal     test_string[2451:2452] --> FileContent2[16550:16551]      'v' --> 'v'\n",
            "replace   test_string[2452:2462] --> FileContent2[16551:16565] 'e has to b' --> 'iated\\njoins ar'\n",
            "equal     test_string[2462:2469] --> FileContent2[16565:16572] 'e very ' --> 'e very '\n",
            "replace   test_string[2469:2638] --> FileContent2[16572:16688] 'clear before you start a course present course actually we ill deal with basic surface transformations and materials as i said in in my introduction radio already you ha' --> 'strong and low temperatures because of the precipitation so we are going\\nto discuss about that ah next one which is '\n",
            "equal     test_string[2638:2640] --> FileContent2[16688:16690]     've' --> 've'\n",
            "replace   test_string[2640:2684] --> FileContent2[16690:17370] ' seen probably that past transformation is e' --> 'ry important on the right side is air turbine\\nbasically it can be used in the plane the high speed plane or in when in power generators\\nand they contained nickel based super alloys this wonderful material this is nickel aluminum\\nalloy with consisting of many other elements which i will not discuss in detail now but\\nagain the real high temperature properties because this this is turbine so thereforth\\nthis has to be instant high temperature high temperature properties equi based properties\\nof this material is basically because of precipitation of n i three a l type l one to precipitates\\nwhat we known as in a nickel matrix fcc matrix and this unique precipitates actually pro'\n",
            "equal     test_string[2684:2685] --> FileContent2[17370:17371]      'v' --> 'v'\n",
            "replace   test_string[2685:2710] --> FileContent2[17371:17435] 'eryuler present in the en' --> 'ide\\nthe strength ok the thats thats that means precipitation is '\n",
            "equal     test_string[2710:2711] --> FileContent2[17435:17436]      'v' --> 'v'\n",
            "replace   test_string[2711:2739] --> FileContent2[17436:17542] 'ironment whether you are tal' --> 'ery important aspect to\\nunderstand so thats what is will be part of silvers\\nthen on this side left side i '\n",
            "equal     test_string[2739:2740] --> FileContent2[17542:17543]      'k' --> 'k'\n",
            "replace   test_string[2740:2786] --> FileContent2[17543:17634] 'ing about metals ceramics payments or your tal' --> 'now may be your right this is the rails which is used\\nto as a phi splay on the railway trac'\n",
            "equal     test_string[2786:2787] --> FileContent2[17634:17635]      'k' --> 'k'\n",
            "replace   test_string[2787:2952] --> FileContent2[17635:17720] 'ing about real life whose transformations present but how do we deal is phase transformation that is who w will be taught because that what is important in your ende' --> 's this actually steels basically the steel of perlite\\nwhat you known as if you dont h'\n",
            "equal     test_string[2952:2954] --> FileContent2[17720:17722]     'av' --> 'av'\n",
            "replace   test_string[2954:3048] --> FileContent2[17722:17861] 'or to learn phase transformations so using these three things one is your o thermodynamics tin' --> 'e any idea perlites perlite is nothing but a utech transform\\nproduct of gamma solution of carbon in iron and so therefore you must you must'\n",
            "equal     test_string[3048:3050] --> FileContent2[17861:17863]     ' k' --> ' k'\n",
            "replace   test_string[3050:3100] --> FileContent2[17863:18401] 'inetics and some basic aspect of material sense li' --> 'now how\\nthis transformation happens whether we can control it because the properties of the rail\\ndepends on that and remember rail is is ah what is allow you to allowing us to move trains\\nso therefore they are they are subjected to stress temperature harsh environment and many\\nother things so they must have combinations of properties so that they can start the purpose\\nand these is basically done by controlling the phase transformations on the right side\\nthis is the end the last example is basically the titanium based align engines o'\n",
            "equal     test_string[3100:3101] --> FileContent2[18401:18402]      'k' --> 'k'\n",
            "replace   test_string[3101:3158] --> FileContent2[18402:18616] 'e crystal structures and interfaces we are going to study' --> ' remember\\nthis engines are not used in car they will be used in planes or may be in some other\\nstrategic applications like ah turb hm like the submarines and so\\nso these engines actually has many plus like titanium'\n",
            "equal     test_string[3158:3161] --> FileContent2[18616:18619]    ' va' --> ' va'\n",
            "replace   test_string[3161:3183] --> FileContent2[18619:20361] 'rious solid o solid an' --> 'lves titanium mmcs springs titanium\\nmnc cramsups many others things springs and there are titanium aluminites you know titanium\\nout of these all thirteen m alloys the most important alloy which is extensively used\\nin titanium sixth aluminum four vanadium and it it we can control the micro structure of\\nthese by many ways creating alpha titanium alpha plus beta titanium beta of titanium\\nalloys so ah the properties will vary depending on whether its alpha alpha plus beta alpha\\nor beta remember alpha is hexagonal prospect structure beta is bcc structure so titanium\\nactually ah room temperature below what to eight hundred eighty two degree celsius temperature\\nis basically alpha above that it is a this i mean bcc structure so one can actually play\\naround in the temperature zone by again controlling the prosaic parameters to create different\\nkinds of structures to get different properties\\nso all these applications dont think that they are similar alpha alloys or beta alloys\\nalpha plus beta alloys they can be combination of many of these then the actual real problem\\nis how do i control this micro structures by controlling the processing parameters so\\nremember these four examples are not exhausted one can find many many examples in the real\\nlife as i told you in my first introduction lectures the basic example you always find\\nis in the country india when hot summer days you want to drink cold water so you can always\\nput the cold water inside the fridge and get it cooled but it is real advantage is that\\nif i take a glass of water and add a ice cube taken from the deep freezer immediately the\\nice cube will start melting it down or getting dissolved in the water both are actually h\\ntwo o one is solid h two o and the other is'\n",
            "equal     test_string[3183:3191] --> FileContent2[20361:20369] ' liquid ' --> ' liquid '\n",
            "replace   test_string[3191:3227] --> FileContent2[20369:20512] 'to solid phase transformation as we ' --> 'h two o\\nso therefore by melting it down the heat is getting transferred to the liquid and then\\nthe water gets cool down you will enjoy the drin'\n",
            "equal     test_string[3227:3228] --> FileContent2[20512:20513]      'k' --> 'k'\n",
            "replace   test_string[3228:3241] --> FileContent2[20513:20729] 'now this is a' --> 's so this is the example which is present\\nwhich you are actually doing it but what is important you for you to understand how these\\ntransformation happened how these solid become liquid liquid become solid whether is'\n",
            "equal     test_string[3241:3243] --> FileContent2[20729:20731]     ' v' --> ' v'\n",
            "replace   test_string[3243:3250] --> FileContent2[20731:20859] 'ast sub' --> 'ery\\nsimple or no remember what is from the most complex systems in the world and no unlike\\nmetal like more complex so ah let me '\n",
            "equal     test_string[3250:3251] --> FileContent2[20859:20860]      'j' --> 'j'\n",
            "replace   test_string[3251:3261] --> FileContent2[20860:21007] 'ect and co' --> 'ust stop here before i go to the next part of\\nthe lecture or the next class so you understand in a nutshell that phase transformation is\\nbasically '\n",
            "equal     test_string[3261:3264] --> FileContent2[21007:21010]    'ver' --> 'ver'\n",
            "replace   test_string[3264:3317] --> FileContent2[21010:21040] 'ing that in thirty lectures is not an easy task so ob' --> 'y important from the perspecti'\n",
            "equal     test_string[3317:3318] --> FileContent2[21040:21041]      'v' --> 'v'\n",
            "replace   test_string[3318:3365] --> FileContent2[21041:21448] 'iously we must be selected we cannot teach you ' --> 'e of material science and technology and many\\nof these products which you are actually using these their properties are controlled by controlling\\nphase transformations we can do that by using different processing parameters temperature\\nstress strain compositions and by doing that we alter them micro structure the atomic structure\\nand by doing that you will create a different properties so that is the rel'\n",
            "equal     test_string[3365:3367] --> FileContent2[21448:21450]     'ev' --> 'ev'\n",
            "replace   test_string[3367:3462] --> FileContent2[21450:21532] 'erything and to learn everything you need to have some basic idea what i put it as course perri' --> 'ance of phase\\ntransformation course and which will be exposed to in the next subse'\n",
            "equal     test_string[3462:3464] --> FileContent2[21532:21534]     'qu' --> 'qu'\n",
            "replace   test_string[3464:21025] --> FileContent2[21534:21546] \"icite ok at this peracuosit ar you should have peperabil would up some basic knowledge on basic material science that most of the students in metallurgy or material sense normally have thermodynnamics especially the thermonynic functions and their relationships and then some dear phase icons and diffusion ok so i have already checked on different portions o wa in steal but y mean by different person is that there are some cornea video or some constitute wave some causes which are massive open alkaline so basic material sense is already been taught by some fecal numbers thermodynamics has already been available and phase the semi myself has develop a course and thrill just one war back decision is also pray taught so therefore you can actually clear your doubts by while reading these lecture ok this is the full whether all the reception of the all the lectures ok i down know whether everything is coming in the scene or not but anyway most important thing is that we are going to talk about some very at the beginning we are going to talk give you some idea about fee end because that is a therbonanis part of the phase diagram so we will show you the calculation of delta g of various transformations ok then we will talk about quite a bit of interface interfaces means liquid sal is solid solid grain grain interface interface interfaeinturfaces these are all parts of with theronynoamics then we have to go into kinetics that the inoculation because enucleation is why the starting point of phase transformations so therefore theory of peculation howmoteou etegean regulations and circulation on the surface is grains and even men corner gen s everywhere it will be dealt with and assume you ecleasion itself a subject so there therefore must be a very an now we have to be very careful about what you are going to talk about it i wont be going to tell you every details of the circulation but whatever relevant we will discuss then we are going to start the first of the fist transfertion that is om solidification as you see here ratification is an liquid to solid phase transformations then we will talk about growth during different aspects like thermal activated god interface control go efficient control go that's why you need to know and cassel as couple go then you take toeutectric transformations then we will talk about little bit about transformation kinetics in terms of there model con enamel and aroma models and some amount of te thermal phase transformations then we simply go on to different so to solitla transforsioni presipitations rectliz and matisides spinagtal dey corporations and a wit about stermaland continuous transformations that itself will be sufficient and a to cover tatilectures ok so this is important that you know what you are going to be taught at the beginning so that you can prepare yourself so we are going to follow exactly the same way things are given and the right side i have also passed down number of lectures will be spend on each topic now comes in very important aspects because in the massive open alkaline course you will be exposed to radio lectures or the ali lectures you must have some amount of you know textbook knowledge so therefore two important textbook which i have carried from our library is this first one which is which is here is written on that is phase transformation in metals and alloys classic textbook by d a porter and k is telling and the meant addition also has come with a new author all the problems of solved by mister doctor am ship this is available in india not very expensive book you can read that and the other book is written by two my past colleagues although i have never met them but they are it angel this book is case transformation is in materials and by professor ak genu and prove m so throne both er i tecanpuo so when these books are written there all therwere jena was in consul ok so these two books will be your basic textbooks for the course and anyone any of these books will be good for you you can buy these books or you can actually copy from different liability in the different parts of the books can copy from different libraries or if you if you want you can actually even now get buy that on different online stores current so that about the basic part of the courseading before i could move onto the next portion ow my lecture why the pay transfer sale wet let me tell you you will be given assignments in every week and i think assermenstion normally uploaded on thursday and because monday wens t mandate witness stay will be exposed to the lectures and after that you will be i will be or my t sh will be uploading the assenments and you will be given bout one weeks time to complete the assignments because assignments lome aline so the questions would be multiple choice type or may be feeling fill in the blank stile as a segment wo leo it is a fifty percent vantage and at the end of this semisster you will be taking an nom exam and we are planning to have it aniline so far if i do not change my decisions or something else happens other city pearl line and that will be having a fifty percent average although i am not keeping any pass marks of this course but you can tentitively consider if you are getting less than about say thirty percent of the marks then you will not be able to pass this course and those who will be successfully completing this course by taking example and getting good marks will be given ratification from the imperial as you know so that way i expect that you will be very serious planner and you will be also able to solve this problems if a in case you have difficulties you can always discuss we can always use discussion for or you can write emails you can always bring it to the instructor all the t s so that we can make it clear to you that very important because understand you know the things very well wood not be able to answer the questions now in the next few slides i am going to talk about what ar relevant of face transformation materials eelonment and why do you study in any course i know that many of you do not expose by the instructor in the same way you must have an idea why you are studying this course what is the need well phase transformation assisiol is presented environment ok the slide i have taken from literature ou one that is what i am going to answer to you why study phase transformation material science ok you know what wearing actually we look materials for the application in any case finally we have to think of application unless aantilis mater is applied engineering point of view we do it find any reason to study stencil moan to give one can stand so application means we must know the properties all kinds of of part so there is a physical mechanical electronic electrical magnetic depending on the applications so property property sofa material is are estimated very very regarsly to find and potential applications this is two probe new material when it is developed so now question is this poupart as i say mechanical chemical electrical minute thermal you can evenly stood many more properties of the material depends on structure and that why actual legal problem come structure has length scale you can simply say atomic structure at min structure is the smallest structure you can think about it atom and nucleus in fact that is why details one sole propadisiofto material but that is not all that is what in so this is who you must know very clear that is not all so structure means it can be amid structure molecular structure grain structure phase as distribution and defects ok so we have basically have listed down from the bottom of atom is the small species and then we have grains and other things so you must have i am stressing again you mast them end go a good idea about the structures to calculate to the properties because it is important that the properties are primarily dictated by this structure so if i know the texture i can vector the properties so you got the coalition right a very logically speaking we make materials whether we use processing techniques to make materials and these processing techniques allow you to control structure processing technique means what you can start with he liquid and solidified that is why the solidification you can start with a metal piece deform by rolling force intrusion whatever deferens means so you actually process or you connection deposit tin flame you can actually use surf statement techniques many things we do in the real app now processing of materials they have a direct connections with a structure and traitor as a direct link with the properties so as you see here these actually are variables for the processing temperature pressure o stress strain or volume and chemical compassion for the away you can change chemical corporation by making different allays so these are my variables in processing and by applying these variables rcommunation variables i generatemor mi make materials or manufacturing materials and these processing variables control the structure structure controller properties so there therefore these three are linked very clearly they are linked they are not separate or they are not independent things they are connected to each other t these are the bridges of these three important pillars of material science processing structure an property but finally what we look for finally we look for what is known as performance if yo war you are studying in a co sylamas in a course we are finally a holelotingal performance similarly materials are elated in terms of performance if i put a tyre in our car that means the major performances that i should be able to drive the take the car for one place to the place without any problems what you know tires will carry from a summer to winter in the in the point countries and ice the tires which will travel n in t are different so that means performance indeed are actually connected to all these three things processing structure and the properties and that is what is important this chart which is very famous in material science youwill find in many books is known as the material statehydron because they i actually looks like it ha try so finally where does the rise transformation comes it is in the structure we modify the structure we modify the atomic structure wo fortify the grain structural modified the phases phase transformations so therefore phase transformation a direct link of the procession and also indirectly corrected with the properties and that why it is a very important course in the material ens engineering you must understand that without knowing the phase transformations you cannot control material properties ok so phase transformation phericallibeof thermodynamics is the basis for understanding a material response to change in temperature pressure composition i must accept this is slide i have taken from way this is not mine thus the cskhetical link between processing and microstructure requires an knowledge of the relevant thermodynamic principles and they are the basis force phase transformation so you understand now why we are actually studying the phase transformations ok now question is this can i relate in the real applications i have taken four application again ill taken from the internal sites first one is an airplane ok air plane is a very important mode of transport from one part of the wall to the other plant and you know the material which is used in the airplane is an aluminum cover alloy if you do not know you can actually take on the books there is a classical alloy eleven a four point five to four point seven percent copper known as develumin in the in the training and this is a very stable ally from forty five deep celsus to minus sixty five u also or even minus a t ti cells i don t know how many of you prate new stat there is a desire laboratory in the southern hemisphere that is in antactica and sometimes if somebody is ill in the decided laboratories in winter time they are actually taken from that place by plane to termelat the the different content especially in south america or sub parts but it will be extremely cold minus sixties to minus eighty edge see system pressures so a plane flying there the material has to withstand such a low temperature so the this one life material which is prepared long back is used for the plane body and important phase transformation which happening here is a presipitation of certain phase in aluminum alas and these pecifitates provide the strength from high sooner temperature if you travel carefully on the planes you will find especially in the wings riveted joints and these related joints are very strong at low temperatures because of the pacification so we are going to discuss about that the next one which is very important the right side is a turbine basically it can be used in the plane the high squid plane or invent in pow generators and they contained nickel by supervise is wonderful material is a nickel aluminum alloy with consisting of many ou elements which i will not discuss in detail now but again the real high temperature properties because this this is a turbine so therefore this has to instant high temperature high temperature properties cubiastane properties of this material is basically because of presipitation of a i three a type l one to precipitated what you known as in a nickel matrix eptrisi matrix and these unique pesipitates actually provide the strength ok the thus that that means the pestipretation is very important aspect to understand so that s why is will be part of a sullivan then on the side left side or you know may be right this is the rails which is used to as a fist plate on the relay tracks these action steels basically the steel of parasite what do we known as if you do not have any idea of paralyses finite is nothing but a e tectortically transform product of gamma solisulation of carbon in iron and so therefore you must we must know how this transformation happens whether can you control it because the properties of the rail depends on that remember ran is is what is allowing you to along us to move trains so therefore they are they are subjected to strains temperature harsher movement and many other things so they must have combinations of properties so that they can serve the purpose and these is basically done by controlling the phase trans notions on the right side this is the end the fast example is basically the titanium based ally engines ok remember these engines are not used in car they will be estingused in the planes or maybe in some other static applications like her like the submarines or so so these engines actually has many plaslect cranium valves the dream mmm is pins that same c cranks ups many other things springs and they are fighting aluminites you know titanium out of the all thatinamalise the most important all which is extensively used is thitinium six aluminium pole canadian and it it we can control the manchester of these by mini ways creating alphalatonium also plus belted ditenium met taking alloys so the propertisill vary depending on whether its alpha so plus petal p meter re alpha is same pro spent structure meta is which is in structure so ratinium actually a room temperature below what to eight hundred eighty two dear cell system pressure is basically alan above there in is n t is king me c structure so one can i actually play around in the temperature one why again controlling the posting parameters to create different kinds of structures to get different properties so all these application dont think that they are all similar alparallits or metals ofopenit always they can be combination so many of these then the actual real problem is how do i control these microstructures by controlling the promising parameters so member these four examples are not exhaustive one can find many many examples in real life as i told in my first introduction lectures the basic example we always find is in in in country like india in the hot summer day you want to drink cold water so you can always put the quarter inside the fringe and get it cooled but it is real advantage is that if i take a glass of water and add a ice cube taken from the see pressure medially the in see will start melting it down or getting dissolved in the water both a actually i to o one is solid i tu or is a liquid issue so therefore by melting it down the heat in getting transfer to the liquid and then the water gets cooled down you enjoy the during so this is the example which is present which we are actually doing it but what is important not for you to understand how this transformation happens how the solid become liquid liquid become solid whether is very simple unknown remember what is one of the most complex systems in the wild i m a unlike metal the are more complex so let me just stop here before i go to the next part of the lecture or the next class so you understand in a nataly that phase transformation is basically very important from the perspectives s of material science and technology and many of these products which you are actually using the the properties are controlled by controlling phase transformations we can do that by using different pouring parametous temperature stay strain commissions and by doing that we alter the microstructure the amid structure and by doing that you are creating different properties that is the relevance of face information course and which you will be exposed to the next subsequent lectures \" --> 'ent lectures'\n"
          ],
          "name": "stdout"
        }
      ]
    },
    {
      "cell_type": "code",
      "metadata": {
        "id": "F2jt2cg8gv2e"
      },
      "source": [
        "def CountFrequency(my_list):\n",
        " \n",
        "    # Creating an empty dictionary\n",
        "    freq = {}\n",
        "    for item in my_list:\n",
        "        if (item in freq):\n",
        "            freq[item] += 1\n",
        "        else:\n",
        "            freq[item] = 1\n",
        " \n",
        "    for key, value in freq.items():\n",
        "        print (\"% s : % d\"%(key, value))\n",
        " \n"
      ],
      "execution_count": null,
      "outputs": []
    },
    {
      "cell_type": "code",
      "metadata": {
        "colab": {
          "base_uri": "https://localhost:8080/"
        },
        "id": "Cwckf-vSgv2e",
        "outputId": "cba0ee8d-79f1-4dee-8023-20b3c0f68249"
      },
      "source": [
        "CountFrequency(listtt)"
      ],
      "execution_count": null,
      "outputs": [
        {
          "output_type": "stream",
          "text": [
            "equal :  68\n",
            "replace :  68\n"
          ],
          "name": "stdout"
        }
      ]
    },
    {
      "cell_type": "code",
      "metadata": {
        "id": "Ci9hfKqchRba"
      },
      "source": [
        ""
      ],
      "execution_count": null,
      "outputs": []
    }
  ]
}
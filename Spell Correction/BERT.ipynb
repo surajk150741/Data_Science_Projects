{
  "nbformat": 4,
  "nbformat_minor": 0,
  "metadata": {
    "colab": {
      "name": "BERT.ipynb",
      "provenance": [],
      "collapsed_sections": [],
      "authorship_tag": "ABX9TyORxiMZbZVfvFOkmlB8Y+Me",
      "include_colab_link": true
    },
    "kernelspec": {
      "name": "python3",
      "display_name": "Python 3"
    },
    "language_info": {
      "name": "python"
    },
    "widgets": {
      "application/vnd.jupyter.widget-state+json": {
        "1e02678c30ed465d9b2524604ef0d108": {
          "model_module": "@jupyter-widgets/controls",
          "model_name": "HBoxModel",
          "model_module_version": "1.5.0",
          "state": {
            "_view_name": "HBoxView",
            "_dom_classes": [],
            "_model_name": "HBoxModel",
            "_view_module": "@jupyter-widgets/controls",
            "_model_module_version": "1.5.0",
            "_view_count": null,
            "_view_module_version": "1.5.0",
            "box_style": "",
            "layout": "IPY_MODEL_a3948081a31442239db75fbcc99c6285",
            "_model_module": "@jupyter-widgets/controls",
            "children": [
              "IPY_MODEL_6284c646ba0a4def9c3d13ea42323495",
              "IPY_MODEL_767be228e9bd4a929010c0d566ddd730",
              "IPY_MODEL_596a6c11a1a643c99dc25650139b51e1"
            ]
          }
        },
        "a3948081a31442239db75fbcc99c6285": {
          "model_module": "@jupyter-widgets/base",
          "model_name": "LayoutModel",
          "model_module_version": "1.2.0",
          "state": {
            "_view_name": "LayoutView",
            "grid_template_rows": null,
            "right": null,
            "justify_content": null,
            "_view_module": "@jupyter-widgets/base",
            "overflow": null,
            "_model_module_version": "1.2.0",
            "_view_count": null,
            "flex_flow": null,
            "width": null,
            "min_width": null,
            "border": null,
            "align_items": null,
            "bottom": null,
            "_model_module": "@jupyter-widgets/base",
            "top": null,
            "grid_column": null,
            "overflow_y": null,
            "overflow_x": null,
            "grid_auto_flow": null,
            "grid_area": null,
            "grid_template_columns": null,
            "flex": null,
            "_model_name": "LayoutModel",
            "justify_items": null,
            "grid_row": null,
            "max_height": null,
            "align_content": null,
            "visibility": null,
            "align_self": null,
            "height": null,
            "min_height": null,
            "padding": null,
            "grid_auto_rows": null,
            "grid_gap": null,
            "max_width": null,
            "order": null,
            "_view_module_version": "1.2.0",
            "grid_template_areas": null,
            "object_position": null,
            "object_fit": null,
            "grid_auto_columns": null,
            "margin": null,
            "display": null,
            "left": null
          }
        },
        "6284c646ba0a4def9c3d13ea42323495": {
          "model_module": "@jupyter-widgets/controls",
          "model_name": "HTMLModel",
          "model_module_version": "1.5.0",
          "state": {
            "_view_name": "HTMLView",
            "style": "IPY_MODEL_3338d8f9b56542709d52fc084472bec2",
            "_dom_classes": [],
            "description": "",
            "_model_name": "HTMLModel",
            "placeholder": "​",
            "_view_module": "@jupyter-widgets/controls",
            "_model_module_version": "1.5.0",
            "value": "Downloading: 100%",
            "_view_count": null,
            "_view_module_version": "1.5.0",
            "description_tooltip": null,
            "_model_module": "@jupyter-widgets/controls",
            "layout": "IPY_MODEL_1a68a620c89a4572b26051bcd2cdbf9c"
          }
        },
        "767be228e9bd4a929010c0d566ddd730": {
          "model_module": "@jupyter-widgets/controls",
          "model_name": "FloatProgressModel",
          "model_module_version": "1.5.0",
          "state": {
            "_view_name": "ProgressView",
            "style": "IPY_MODEL_53ad066d81b842b8965b9b82ba327ada",
            "_dom_classes": [],
            "description": "",
            "_model_name": "FloatProgressModel",
            "bar_style": "success",
            "max": 213450,
            "_view_module": "@jupyter-widgets/controls",
            "_model_module_version": "1.5.0",
            "value": 213450,
            "_view_count": null,
            "_view_module_version": "1.5.0",
            "orientation": "horizontal",
            "min": 0,
            "description_tooltip": null,
            "_model_module": "@jupyter-widgets/controls",
            "layout": "IPY_MODEL_d219fa3c25dd4b449e5112c03b81302f"
          }
        },
        "596a6c11a1a643c99dc25650139b51e1": {
          "model_module": "@jupyter-widgets/controls",
          "model_name": "HTMLModel",
          "model_module_version": "1.5.0",
          "state": {
            "_view_name": "HTMLView",
            "style": "IPY_MODEL_e31c098b1bdd44619e14328fceebc6f0",
            "_dom_classes": [],
            "description": "",
            "_model_name": "HTMLModel",
            "placeholder": "​",
            "_view_module": "@jupyter-widgets/controls",
            "_model_module_version": "1.5.0",
            "value": " 213k/213k [00:00&lt;00:00, 929kB/s]",
            "_view_count": null,
            "_view_module_version": "1.5.0",
            "description_tooltip": null,
            "_model_module": "@jupyter-widgets/controls",
            "layout": "IPY_MODEL_b34be791b0bd4d29b1bdccbfbfba67c0"
          }
        },
        "3338d8f9b56542709d52fc084472bec2": {
          "model_module": "@jupyter-widgets/controls",
          "model_name": "DescriptionStyleModel",
          "model_module_version": "1.5.0",
          "state": {
            "_view_name": "StyleView",
            "_model_name": "DescriptionStyleModel",
            "description_width": "",
            "_view_module": "@jupyter-widgets/base",
            "_model_module_version": "1.5.0",
            "_view_count": null,
            "_view_module_version": "1.2.0",
            "_model_module": "@jupyter-widgets/controls"
          }
        },
        "1a68a620c89a4572b26051bcd2cdbf9c": {
          "model_module": "@jupyter-widgets/base",
          "model_name": "LayoutModel",
          "model_module_version": "1.2.0",
          "state": {
            "_view_name": "LayoutView",
            "grid_template_rows": null,
            "right": null,
            "justify_content": null,
            "_view_module": "@jupyter-widgets/base",
            "overflow": null,
            "_model_module_version": "1.2.0",
            "_view_count": null,
            "flex_flow": null,
            "width": null,
            "min_width": null,
            "border": null,
            "align_items": null,
            "bottom": null,
            "_model_module": "@jupyter-widgets/base",
            "top": null,
            "grid_column": null,
            "overflow_y": null,
            "overflow_x": null,
            "grid_auto_flow": null,
            "grid_area": null,
            "grid_template_columns": null,
            "flex": null,
            "_model_name": "LayoutModel",
            "justify_items": null,
            "grid_row": null,
            "max_height": null,
            "align_content": null,
            "visibility": null,
            "align_self": null,
            "height": null,
            "min_height": null,
            "padding": null,
            "grid_auto_rows": null,
            "grid_gap": null,
            "max_width": null,
            "order": null,
            "_view_module_version": "1.2.0",
            "grid_template_areas": null,
            "object_position": null,
            "object_fit": null,
            "grid_auto_columns": null,
            "margin": null,
            "display": null,
            "left": null
          }
        },
        "53ad066d81b842b8965b9b82ba327ada": {
          "model_module": "@jupyter-widgets/controls",
          "model_name": "ProgressStyleModel",
          "model_module_version": "1.5.0",
          "state": {
            "_view_name": "StyleView",
            "_model_name": "ProgressStyleModel",
            "description_width": "",
            "_view_module": "@jupyter-widgets/base",
            "_model_module_version": "1.5.0",
            "_view_count": null,
            "_view_module_version": "1.2.0",
            "bar_color": null,
            "_model_module": "@jupyter-widgets/controls"
          }
        },
        "d219fa3c25dd4b449e5112c03b81302f": {
          "model_module": "@jupyter-widgets/base",
          "model_name": "LayoutModel",
          "model_module_version": "1.2.0",
          "state": {
            "_view_name": "LayoutView",
            "grid_template_rows": null,
            "right": null,
            "justify_content": null,
            "_view_module": "@jupyter-widgets/base",
            "overflow": null,
            "_model_module_version": "1.2.0",
            "_view_count": null,
            "flex_flow": null,
            "width": null,
            "min_width": null,
            "border": null,
            "align_items": null,
            "bottom": null,
            "_model_module": "@jupyter-widgets/base",
            "top": null,
            "grid_column": null,
            "overflow_y": null,
            "overflow_x": null,
            "grid_auto_flow": null,
            "grid_area": null,
            "grid_template_columns": null,
            "flex": null,
            "_model_name": "LayoutModel",
            "justify_items": null,
            "grid_row": null,
            "max_height": null,
            "align_content": null,
            "visibility": null,
            "align_self": null,
            "height": null,
            "min_height": null,
            "padding": null,
            "grid_auto_rows": null,
            "grid_gap": null,
            "max_width": null,
            "order": null,
            "_view_module_version": "1.2.0",
            "grid_template_areas": null,
            "object_position": null,
            "object_fit": null,
            "grid_auto_columns": null,
            "margin": null,
            "display": null,
            "left": null
          }
        },
        "e31c098b1bdd44619e14328fceebc6f0": {
          "model_module": "@jupyter-widgets/controls",
          "model_name": "DescriptionStyleModel",
          "model_module_version": "1.5.0",
          "state": {
            "_view_name": "StyleView",
            "_model_name": "DescriptionStyleModel",
            "description_width": "",
            "_view_module": "@jupyter-widgets/base",
            "_model_module_version": "1.5.0",
            "_view_count": null,
            "_view_module_version": "1.2.0",
            "_model_module": "@jupyter-widgets/controls"
          }
        },
        "b34be791b0bd4d29b1bdccbfbfba67c0": {
          "model_module": "@jupyter-widgets/base",
          "model_name": "LayoutModel",
          "model_module_version": "1.2.0",
          "state": {
            "_view_name": "LayoutView",
            "grid_template_rows": null,
            "right": null,
            "justify_content": null,
            "_view_module": "@jupyter-widgets/base",
            "overflow": null,
            "_model_module_version": "1.2.0",
            "_view_count": null,
            "flex_flow": null,
            "width": null,
            "min_width": null,
            "border": null,
            "align_items": null,
            "bottom": null,
            "_model_module": "@jupyter-widgets/base",
            "top": null,
            "grid_column": null,
            "overflow_y": null,
            "overflow_x": null,
            "grid_auto_flow": null,
            "grid_area": null,
            "grid_template_columns": null,
            "flex": null,
            "_model_name": "LayoutModel",
            "justify_items": null,
            "grid_row": null,
            "max_height": null,
            "align_content": null,
            "visibility": null,
            "align_self": null,
            "height": null,
            "min_height": null,
            "padding": null,
            "grid_auto_rows": null,
            "grid_gap": null,
            "max_width": null,
            "order": null,
            "_view_module_version": "1.2.0",
            "grid_template_areas": null,
            "object_position": null,
            "object_fit": null,
            "grid_auto_columns": null,
            "margin": null,
            "display": null,
            "left": null
          }
        },
        "1df4228ba10f4fb39a1a2e1c40ad8c6b": {
          "model_module": "@jupyter-widgets/controls",
          "model_name": "HBoxModel",
          "model_module_version": "1.5.0",
          "state": {
            "_view_name": "HBoxView",
            "_dom_classes": [],
            "_model_name": "HBoxModel",
            "_view_module": "@jupyter-widgets/controls",
            "_model_module_version": "1.5.0",
            "_view_count": null,
            "_view_module_version": "1.5.0",
            "box_style": "",
            "layout": "IPY_MODEL_1b504ee5507b4b24994ccf39e5542f04",
            "_model_module": "@jupyter-widgets/controls",
            "children": [
              "IPY_MODEL_443516bc8eb84874b76d85d49e198807",
              "IPY_MODEL_01d9740ecd884143bc05177eb80aadb2",
              "IPY_MODEL_1b45c2198cfe4397a6258c60c75eaba4"
            ]
          }
        },
        "1b504ee5507b4b24994ccf39e5542f04": {
          "model_module": "@jupyter-widgets/base",
          "model_name": "LayoutModel",
          "model_module_version": "1.2.0",
          "state": {
            "_view_name": "LayoutView",
            "grid_template_rows": null,
            "right": null,
            "justify_content": null,
            "_view_module": "@jupyter-widgets/base",
            "overflow": null,
            "_model_module_version": "1.2.0",
            "_view_count": null,
            "flex_flow": null,
            "width": null,
            "min_width": null,
            "border": null,
            "align_items": null,
            "bottom": null,
            "_model_module": "@jupyter-widgets/base",
            "top": null,
            "grid_column": null,
            "overflow_y": null,
            "overflow_x": null,
            "grid_auto_flow": null,
            "grid_area": null,
            "grid_template_columns": null,
            "flex": null,
            "_model_name": "LayoutModel",
            "justify_items": null,
            "grid_row": null,
            "max_height": null,
            "align_content": null,
            "visibility": null,
            "align_self": null,
            "height": null,
            "min_height": null,
            "padding": null,
            "grid_auto_rows": null,
            "grid_gap": null,
            "max_width": null,
            "order": null,
            "_view_module_version": "1.2.0",
            "grid_template_areas": null,
            "object_position": null,
            "object_fit": null,
            "grid_auto_columns": null,
            "margin": null,
            "display": null,
            "left": null
          }
        },
        "443516bc8eb84874b76d85d49e198807": {
          "model_module": "@jupyter-widgets/controls",
          "model_name": "HTMLModel",
          "model_module_version": "1.5.0",
          "state": {
            "_view_name": "HTMLView",
            "style": "IPY_MODEL_ad88fabcbe4249a181266afb6fa230b1",
            "_dom_classes": [],
            "description": "",
            "_model_name": "HTMLModel",
            "placeholder": "​",
            "_view_module": "@jupyter-widgets/controls",
            "_model_module_version": "1.5.0",
            "value": "Downloading: 100%",
            "_view_count": null,
            "_view_module_version": "1.5.0",
            "description_tooltip": null,
            "_model_module": "@jupyter-widgets/controls",
            "layout": "IPY_MODEL_d79f149406124fb499b260ad4238ac1b"
          }
        },
        "01d9740ecd884143bc05177eb80aadb2": {
          "model_module": "@jupyter-widgets/controls",
          "model_name": "FloatProgressModel",
          "model_module_version": "1.5.0",
          "state": {
            "_view_name": "ProgressView",
            "style": "IPY_MODEL_c38779b59f48499b87acb3a3eb4676ce",
            "_dom_classes": [],
            "description": "",
            "_model_name": "FloatProgressModel",
            "bar_style": "success",
            "max": 29,
            "_view_module": "@jupyter-widgets/controls",
            "_model_module_version": "1.5.0",
            "value": 29,
            "_view_count": null,
            "_view_module_version": "1.5.0",
            "orientation": "horizontal",
            "min": 0,
            "description_tooltip": null,
            "_model_module": "@jupyter-widgets/controls",
            "layout": "IPY_MODEL_e592bdcaf95544a791769d20088deed2"
          }
        },
        "1b45c2198cfe4397a6258c60c75eaba4": {
          "model_module": "@jupyter-widgets/controls",
          "model_name": "HTMLModel",
          "model_module_version": "1.5.0",
          "state": {
            "_view_name": "HTMLView",
            "style": "IPY_MODEL_e9dc5ae314c14ce094e9247cd5e50ec5",
            "_dom_classes": [],
            "description": "",
            "_model_name": "HTMLModel",
            "placeholder": "​",
            "_view_module": "@jupyter-widgets/controls",
            "_model_module_version": "1.5.0",
            "value": " 29.0/29.0 [00:00&lt;00:00, 722B/s]",
            "_view_count": null,
            "_view_module_version": "1.5.0",
            "description_tooltip": null,
            "_model_module": "@jupyter-widgets/controls",
            "layout": "IPY_MODEL_d18887d660624076bf4e573702f783a8"
          }
        },
        "ad88fabcbe4249a181266afb6fa230b1": {
          "model_module": "@jupyter-widgets/controls",
          "model_name": "DescriptionStyleModel",
          "model_module_version": "1.5.0",
          "state": {
            "_view_name": "StyleView",
            "_model_name": "DescriptionStyleModel",
            "description_width": "",
            "_view_module": "@jupyter-widgets/base",
            "_model_module_version": "1.5.0",
            "_view_count": null,
            "_view_module_version": "1.2.0",
            "_model_module": "@jupyter-widgets/controls"
          }
        },
        "d79f149406124fb499b260ad4238ac1b": {
          "model_module": "@jupyter-widgets/base",
          "model_name": "LayoutModel",
          "model_module_version": "1.2.0",
          "state": {
            "_view_name": "LayoutView",
            "grid_template_rows": null,
            "right": null,
            "justify_content": null,
            "_view_module": "@jupyter-widgets/base",
            "overflow": null,
            "_model_module_version": "1.2.0",
            "_view_count": null,
            "flex_flow": null,
            "width": null,
            "min_width": null,
            "border": null,
            "align_items": null,
            "bottom": null,
            "_model_module": "@jupyter-widgets/base",
            "top": null,
            "grid_column": null,
            "overflow_y": null,
            "overflow_x": null,
            "grid_auto_flow": null,
            "grid_area": null,
            "grid_template_columns": null,
            "flex": null,
            "_model_name": "LayoutModel",
            "justify_items": null,
            "grid_row": null,
            "max_height": null,
            "align_content": null,
            "visibility": null,
            "align_self": null,
            "height": null,
            "min_height": null,
            "padding": null,
            "grid_auto_rows": null,
            "grid_gap": null,
            "max_width": null,
            "order": null,
            "_view_module_version": "1.2.0",
            "grid_template_areas": null,
            "object_position": null,
            "object_fit": null,
            "grid_auto_columns": null,
            "margin": null,
            "display": null,
            "left": null
          }
        },
        "c38779b59f48499b87acb3a3eb4676ce": {
          "model_module": "@jupyter-widgets/controls",
          "model_name": "ProgressStyleModel",
          "model_module_version": "1.5.0",
          "state": {
            "_view_name": "StyleView",
            "_model_name": "ProgressStyleModel",
            "description_width": "",
            "_view_module": "@jupyter-widgets/base",
            "_model_module_version": "1.5.0",
            "_view_count": null,
            "_view_module_version": "1.2.0",
            "bar_color": null,
            "_model_module": "@jupyter-widgets/controls"
          }
        },
        "e592bdcaf95544a791769d20088deed2": {
          "model_module": "@jupyter-widgets/base",
          "model_name": "LayoutModel",
          "model_module_version": "1.2.0",
          "state": {
            "_view_name": "LayoutView",
            "grid_template_rows": null,
            "right": null,
            "justify_content": null,
            "_view_module": "@jupyter-widgets/base",
            "overflow": null,
            "_model_module_version": "1.2.0",
            "_view_count": null,
            "flex_flow": null,
            "width": null,
            "min_width": null,
            "border": null,
            "align_items": null,
            "bottom": null,
            "_model_module": "@jupyter-widgets/base",
            "top": null,
            "grid_column": null,
            "overflow_y": null,
            "overflow_x": null,
            "grid_auto_flow": null,
            "grid_area": null,
            "grid_template_columns": null,
            "flex": null,
            "_model_name": "LayoutModel",
            "justify_items": null,
            "grid_row": null,
            "max_height": null,
            "align_content": null,
            "visibility": null,
            "align_self": null,
            "height": null,
            "min_height": null,
            "padding": null,
            "grid_auto_rows": null,
            "grid_gap": null,
            "max_width": null,
            "order": null,
            "_view_module_version": "1.2.0",
            "grid_template_areas": null,
            "object_position": null,
            "object_fit": null,
            "grid_auto_columns": null,
            "margin": null,
            "display": null,
            "left": null
          }
        },
        "e9dc5ae314c14ce094e9247cd5e50ec5": {
          "model_module": "@jupyter-widgets/controls",
          "model_name": "DescriptionStyleModel",
          "model_module_version": "1.5.0",
          "state": {
            "_view_name": "StyleView",
            "_model_name": "DescriptionStyleModel",
            "description_width": "",
            "_view_module": "@jupyter-widgets/base",
            "_model_module_version": "1.5.0",
            "_view_count": null,
            "_view_module_version": "1.2.0",
            "_model_module": "@jupyter-widgets/controls"
          }
        },
        "d18887d660624076bf4e573702f783a8": {
          "model_module": "@jupyter-widgets/base",
          "model_name": "LayoutModel",
          "model_module_version": "1.2.0",
          "state": {
            "_view_name": "LayoutView",
            "grid_template_rows": null,
            "right": null,
            "justify_content": null,
            "_view_module": "@jupyter-widgets/base",
            "overflow": null,
            "_model_module_version": "1.2.0",
            "_view_count": null,
            "flex_flow": null,
            "width": null,
            "min_width": null,
            "border": null,
            "align_items": null,
            "bottom": null,
            "_model_module": "@jupyter-widgets/base",
            "top": null,
            "grid_column": null,
            "overflow_y": null,
            "overflow_x": null,
            "grid_auto_flow": null,
            "grid_area": null,
            "grid_template_columns": null,
            "flex": null,
            "_model_name": "LayoutModel",
            "justify_items": null,
            "grid_row": null,
            "max_height": null,
            "align_content": null,
            "visibility": null,
            "align_self": null,
            "height": null,
            "min_height": null,
            "padding": null,
            "grid_auto_rows": null,
            "grid_gap": null,
            "max_width": null,
            "order": null,
            "_view_module_version": "1.2.0",
            "grid_template_areas": null,
            "object_position": null,
            "object_fit": null,
            "grid_auto_columns": null,
            "margin": null,
            "display": null,
            "left": null
          }
        },
        "c7becbee40b34caabc613746d1deb63a": {
          "model_module": "@jupyter-widgets/controls",
          "model_name": "HBoxModel",
          "model_module_version": "1.5.0",
          "state": {
            "_view_name": "HBoxView",
            "_dom_classes": [],
            "_model_name": "HBoxModel",
            "_view_module": "@jupyter-widgets/controls",
            "_model_module_version": "1.5.0",
            "_view_count": null,
            "_view_module_version": "1.5.0",
            "box_style": "",
            "layout": "IPY_MODEL_eed47e303514410884dea2f701679c6c",
            "_model_module": "@jupyter-widgets/controls",
            "children": [
              "IPY_MODEL_58cc058299574edab637cfb5328e1970",
              "IPY_MODEL_39644d1f2ddb48338e1dcf7e33fc84ce",
              "IPY_MODEL_fff6100c086d4095a06e6e569daf5812"
            ]
          }
        },
        "eed47e303514410884dea2f701679c6c": {
          "model_module": "@jupyter-widgets/base",
          "model_name": "LayoutModel",
          "model_module_version": "1.2.0",
          "state": {
            "_view_name": "LayoutView",
            "grid_template_rows": null,
            "right": null,
            "justify_content": null,
            "_view_module": "@jupyter-widgets/base",
            "overflow": null,
            "_model_module_version": "1.2.0",
            "_view_count": null,
            "flex_flow": null,
            "width": null,
            "min_width": null,
            "border": null,
            "align_items": null,
            "bottom": null,
            "_model_module": "@jupyter-widgets/base",
            "top": null,
            "grid_column": null,
            "overflow_y": null,
            "overflow_x": null,
            "grid_auto_flow": null,
            "grid_area": null,
            "grid_template_columns": null,
            "flex": null,
            "_model_name": "LayoutModel",
            "justify_items": null,
            "grid_row": null,
            "max_height": null,
            "align_content": null,
            "visibility": null,
            "align_self": null,
            "height": null,
            "min_height": null,
            "padding": null,
            "grid_auto_rows": null,
            "grid_gap": null,
            "max_width": null,
            "order": null,
            "_view_module_version": "1.2.0",
            "grid_template_areas": null,
            "object_position": null,
            "object_fit": null,
            "grid_auto_columns": null,
            "margin": null,
            "display": null,
            "left": null
          }
        },
        "58cc058299574edab637cfb5328e1970": {
          "model_module": "@jupyter-widgets/controls",
          "model_name": "HTMLModel",
          "model_module_version": "1.5.0",
          "state": {
            "_view_name": "HTMLView",
            "style": "IPY_MODEL_39944fa6528c4eba875fec2ab19f93e7",
            "_dom_classes": [],
            "description": "",
            "_model_name": "HTMLModel",
            "placeholder": "​",
            "_view_module": "@jupyter-widgets/controls",
            "_model_module_version": "1.5.0",
            "value": "Downloading: 100%",
            "_view_count": null,
            "_view_module_version": "1.5.0",
            "description_tooltip": null,
            "_model_module": "@jupyter-widgets/controls",
            "layout": "IPY_MODEL_e0e55a89579c4d69bc52315edc22c9cf"
          }
        },
        "39644d1f2ddb48338e1dcf7e33fc84ce": {
          "model_module": "@jupyter-widgets/controls",
          "model_name": "FloatProgressModel",
          "model_module_version": "1.5.0",
          "state": {
            "_view_name": "ProgressView",
            "style": "IPY_MODEL_dc5a72f207e74df9bcada2b94453348c",
            "_dom_classes": [],
            "description": "",
            "_model_name": "FloatProgressModel",
            "bar_style": "success",
            "max": 435797,
            "_view_module": "@jupyter-widgets/controls",
            "_model_module_version": "1.5.0",
            "value": 435797,
            "_view_count": null,
            "_view_module_version": "1.5.0",
            "orientation": "horizontal",
            "min": 0,
            "description_tooltip": null,
            "_model_module": "@jupyter-widgets/controls",
            "layout": "IPY_MODEL_e4d4d65281084036bac512d8cc0ca8ac"
          }
        },
        "fff6100c086d4095a06e6e569daf5812": {
          "model_module": "@jupyter-widgets/controls",
          "model_name": "HTMLModel",
          "model_module_version": "1.5.0",
          "state": {
            "_view_name": "HTMLView",
            "style": "IPY_MODEL_6dcb1d2b431a467283e21c3eab06fe53",
            "_dom_classes": [],
            "description": "",
            "_model_name": "HTMLModel",
            "placeholder": "​",
            "_view_module": "@jupyter-widgets/controls",
            "_model_module_version": "1.5.0",
            "value": " 436k/436k [00:00&lt;00:00, 850kB/s]",
            "_view_count": null,
            "_view_module_version": "1.5.0",
            "description_tooltip": null,
            "_model_module": "@jupyter-widgets/controls",
            "layout": "IPY_MODEL_41e5cd74467044ffa47763fd06bf40de"
          }
        },
        "39944fa6528c4eba875fec2ab19f93e7": {
          "model_module": "@jupyter-widgets/controls",
          "model_name": "DescriptionStyleModel",
          "model_module_version": "1.5.0",
          "state": {
            "_view_name": "StyleView",
            "_model_name": "DescriptionStyleModel",
            "description_width": "",
            "_view_module": "@jupyter-widgets/base",
            "_model_module_version": "1.5.0",
            "_view_count": null,
            "_view_module_version": "1.2.0",
            "_model_module": "@jupyter-widgets/controls"
          }
        },
        "e0e55a89579c4d69bc52315edc22c9cf": {
          "model_module": "@jupyter-widgets/base",
          "model_name": "LayoutModel",
          "model_module_version": "1.2.0",
          "state": {
            "_view_name": "LayoutView",
            "grid_template_rows": null,
            "right": null,
            "justify_content": null,
            "_view_module": "@jupyter-widgets/base",
            "overflow": null,
            "_model_module_version": "1.2.0",
            "_view_count": null,
            "flex_flow": null,
            "width": null,
            "min_width": null,
            "border": null,
            "align_items": null,
            "bottom": null,
            "_model_module": "@jupyter-widgets/base",
            "top": null,
            "grid_column": null,
            "overflow_y": null,
            "overflow_x": null,
            "grid_auto_flow": null,
            "grid_area": null,
            "grid_template_columns": null,
            "flex": null,
            "_model_name": "LayoutModel",
            "justify_items": null,
            "grid_row": null,
            "max_height": null,
            "align_content": null,
            "visibility": null,
            "align_self": null,
            "height": null,
            "min_height": null,
            "padding": null,
            "grid_auto_rows": null,
            "grid_gap": null,
            "max_width": null,
            "order": null,
            "_view_module_version": "1.2.0",
            "grid_template_areas": null,
            "object_position": null,
            "object_fit": null,
            "grid_auto_columns": null,
            "margin": null,
            "display": null,
            "left": null
          }
        },
        "dc5a72f207e74df9bcada2b94453348c": {
          "model_module": "@jupyter-widgets/controls",
          "model_name": "ProgressStyleModel",
          "model_module_version": "1.5.0",
          "state": {
            "_view_name": "StyleView",
            "_model_name": "ProgressStyleModel",
            "description_width": "",
            "_view_module": "@jupyter-widgets/base",
            "_model_module_version": "1.5.0",
            "_view_count": null,
            "_view_module_version": "1.2.0",
            "bar_color": null,
            "_model_module": "@jupyter-widgets/controls"
          }
        },
        "e4d4d65281084036bac512d8cc0ca8ac": {
          "model_module": "@jupyter-widgets/base",
          "model_name": "LayoutModel",
          "model_module_version": "1.2.0",
          "state": {
            "_view_name": "LayoutView",
            "grid_template_rows": null,
            "right": null,
            "justify_content": null,
            "_view_module": "@jupyter-widgets/base",
            "overflow": null,
            "_model_module_version": "1.2.0",
            "_view_count": null,
            "flex_flow": null,
            "width": null,
            "min_width": null,
            "border": null,
            "align_items": null,
            "bottom": null,
            "_model_module": "@jupyter-widgets/base",
            "top": null,
            "grid_column": null,
            "overflow_y": null,
            "overflow_x": null,
            "grid_auto_flow": null,
            "grid_area": null,
            "grid_template_columns": null,
            "flex": null,
            "_model_name": "LayoutModel",
            "justify_items": null,
            "grid_row": null,
            "max_height": null,
            "align_content": null,
            "visibility": null,
            "align_self": null,
            "height": null,
            "min_height": null,
            "padding": null,
            "grid_auto_rows": null,
            "grid_gap": null,
            "max_width": null,
            "order": null,
            "_view_module_version": "1.2.0",
            "grid_template_areas": null,
            "object_position": null,
            "object_fit": null,
            "grid_auto_columns": null,
            "margin": null,
            "display": null,
            "left": null
          }
        },
        "6dcb1d2b431a467283e21c3eab06fe53": {
          "model_module": "@jupyter-widgets/controls",
          "model_name": "DescriptionStyleModel",
          "model_module_version": "1.5.0",
          "state": {
            "_view_name": "StyleView",
            "_model_name": "DescriptionStyleModel",
            "description_width": "",
            "_view_module": "@jupyter-widgets/base",
            "_model_module_version": "1.5.0",
            "_view_count": null,
            "_view_module_version": "1.2.0",
            "_model_module": "@jupyter-widgets/controls"
          }
        },
        "41e5cd74467044ffa47763fd06bf40de": {
          "model_module": "@jupyter-widgets/base",
          "model_name": "LayoutModel",
          "model_module_version": "1.2.0",
          "state": {
            "_view_name": "LayoutView",
            "grid_template_rows": null,
            "right": null,
            "justify_content": null,
            "_view_module": "@jupyter-widgets/base",
            "overflow": null,
            "_model_module_version": "1.2.0",
            "_view_count": null,
            "flex_flow": null,
            "width": null,
            "min_width": null,
            "border": null,
            "align_items": null,
            "bottom": null,
            "_model_module": "@jupyter-widgets/base",
            "top": null,
            "grid_column": null,
            "overflow_y": null,
            "overflow_x": null,
            "grid_auto_flow": null,
            "grid_area": null,
            "grid_template_columns": null,
            "flex": null,
            "_model_name": "LayoutModel",
            "justify_items": null,
            "grid_row": null,
            "max_height": null,
            "align_content": null,
            "visibility": null,
            "align_self": null,
            "height": null,
            "min_height": null,
            "padding": null,
            "grid_auto_rows": null,
            "grid_gap": null,
            "max_width": null,
            "order": null,
            "_view_module_version": "1.2.0",
            "grid_template_areas": null,
            "object_position": null,
            "object_fit": null,
            "grid_auto_columns": null,
            "margin": null,
            "display": null,
            "left": null
          }
        },
        "6fd9d24118384aa693bea35170acbe81": {
          "model_module": "@jupyter-widgets/controls",
          "model_name": "HBoxModel",
          "model_module_version": "1.5.0",
          "state": {
            "_view_name": "HBoxView",
            "_dom_classes": [],
            "_model_name": "HBoxModel",
            "_view_module": "@jupyter-widgets/controls",
            "_model_module_version": "1.5.0",
            "_view_count": null,
            "_view_module_version": "1.5.0",
            "box_style": "",
            "layout": "IPY_MODEL_c43383fa33f348eebe98778649a5b26f",
            "_model_module": "@jupyter-widgets/controls",
            "children": [
              "IPY_MODEL_cc7d42a7bdc94d18a61f314e5745d72e",
              "IPY_MODEL_b82431f3a99b456b9203cad3314c6e77",
              "IPY_MODEL_7845037d94a344239d4e92f507c72f2e"
            ]
          }
        },
        "c43383fa33f348eebe98778649a5b26f": {
          "model_module": "@jupyter-widgets/base",
          "model_name": "LayoutModel",
          "model_module_version": "1.2.0",
          "state": {
            "_view_name": "LayoutView",
            "grid_template_rows": null,
            "right": null,
            "justify_content": null,
            "_view_module": "@jupyter-widgets/base",
            "overflow": null,
            "_model_module_version": "1.2.0",
            "_view_count": null,
            "flex_flow": null,
            "width": null,
            "min_width": null,
            "border": null,
            "align_items": null,
            "bottom": null,
            "_model_module": "@jupyter-widgets/base",
            "top": null,
            "grid_column": null,
            "overflow_y": null,
            "overflow_x": null,
            "grid_auto_flow": null,
            "grid_area": null,
            "grid_template_columns": null,
            "flex": null,
            "_model_name": "LayoutModel",
            "justify_items": null,
            "grid_row": null,
            "max_height": null,
            "align_content": null,
            "visibility": null,
            "align_self": null,
            "height": null,
            "min_height": null,
            "padding": null,
            "grid_auto_rows": null,
            "grid_gap": null,
            "max_width": null,
            "order": null,
            "_view_module_version": "1.2.0",
            "grid_template_areas": null,
            "object_position": null,
            "object_fit": null,
            "grid_auto_columns": null,
            "margin": null,
            "display": null,
            "left": null
          }
        },
        "cc7d42a7bdc94d18a61f314e5745d72e": {
          "model_module": "@jupyter-widgets/controls",
          "model_name": "HTMLModel",
          "model_module_version": "1.5.0",
          "state": {
            "_view_name": "HTMLView",
            "style": "IPY_MODEL_345e04c4665d4957ace739b48b0d016b",
            "_dom_classes": [],
            "description": "",
            "_model_name": "HTMLModel",
            "placeholder": "​",
            "_view_module": "@jupyter-widgets/controls",
            "_model_module_version": "1.5.0",
            "value": "Downloading: 100%",
            "_view_count": null,
            "_view_module_version": "1.5.0",
            "description_tooltip": null,
            "_model_module": "@jupyter-widgets/controls",
            "layout": "IPY_MODEL_cd0c109af7e249a48e55d146d657aa82"
          }
        },
        "b82431f3a99b456b9203cad3314c6e77": {
          "model_module": "@jupyter-widgets/controls",
          "model_name": "FloatProgressModel",
          "model_module_version": "1.5.0",
          "state": {
            "_view_name": "ProgressView",
            "style": "IPY_MODEL_922c81a28b3e428d9286d122344309b1",
            "_dom_classes": [],
            "description": "",
            "_model_name": "FloatProgressModel",
            "bar_style": "success",
            "max": 570,
            "_view_module": "@jupyter-widgets/controls",
            "_model_module_version": "1.5.0",
            "value": 570,
            "_view_count": null,
            "_view_module_version": "1.5.0",
            "orientation": "horizontal",
            "min": 0,
            "description_tooltip": null,
            "_model_module": "@jupyter-widgets/controls",
            "layout": "IPY_MODEL_9d00b32f1ea8454e845aade3b072b880"
          }
        },
        "7845037d94a344239d4e92f507c72f2e": {
          "model_module": "@jupyter-widgets/controls",
          "model_name": "HTMLModel",
          "model_module_version": "1.5.0",
          "state": {
            "_view_name": "HTMLView",
            "style": "IPY_MODEL_f013eed44d2547e788bbe32b0c130cc1",
            "_dom_classes": [],
            "description": "",
            "_model_name": "HTMLModel",
            "placeholder": "​",
            "_view_module": "@jupyter-widgets/controls",
            "_model_module_version": "1.5.0",
            "value": " 570/570 [00:00&lt;00:00, 12.8kB/s]",
            "_view_count": null,
            "_view_module_version": "1.5.0",
            "description_tooltip": null,
            "_model_module": "@jupyter-widgets/controls",
            "layout": "IPY_MODEL_e85c822b220649ee9569dc79be192dca"
          }
        },
        "345e04c4665d4957ace739b48b0d016b": {
          "model_module": "@jupyter-widgets/controls",
          "model_name": "DescriptionStyleModel",
          "model_module_version": "1.5.0",
          "state": {
            "_view_name": "StyleView",
            "_model_name": "DescriptionStyleModel",
            "description_width": "",
            "_view_module": "@jupyter-widgets/base",
            "_model_module_version": "1.5.0",
            "_view_count": null,
            "_view_module_version": "1.2.0",
            "_model_module": "@jupyter-widgets/controls"
          }
        },
        "cd0c109af7e249a48e55d146d657aa82": {
          "model_module": "@jupyter-widgets/base",
          "model_name": "LayoutModel",
          "model_module_version": "1.2.0",
          "state": {
            "_view_name": "LayoutView",
            "grid_template_rows": null,
            "right": null,
            "justify_content": null,
            "_view_module": "@jupyter-widgets/base",
            "overflow": null,
            "_model_module_version": "1.2.0",
            "_view_count": null,
            "flex_flow": null,
            "width": null,
            "min_width": null,
            "border": null,
            "align_items": null,
            "bottom": null,
            "_model_module": "@jupyter-widgets/base",
            "top": null,
            "grid_column": null,
            "overflow_y": null,
            "overflow_x": null,
            "grid_auto_flow": null,
            "grid_area": null,
            "grid_template_columns": null,
            "flex": null,
            "_model_name": "LayoutModel",
            "justify_items": null,
            "grid_row": null,
            "max_height": null,
            "align_content": null,
            "visibility": null,
            "align_self": null,
            "height": null,
            "min_height": null,
            "padding": null,
            "grid_auto_rows": null,
            "grid_gap": null,
            "max_width": null,
            "order": null,
            "_view_module_version": "1.2.0",
            "grid_template_areas": null,
            "object_position": null,
            "object_fit": null,
            "grid_auto_columns": null,
            "margin": null,
            "display": null,
            "left": null
          }
        },
        "922c81a28b3e428d9286d122344309b1": {
          "model_module": "@jupyter-widgets/controls",
          "model_name": "ProgressStyleModel",
          "model_module_version": "1.5.0",
          "state": {
            "_view_name": "StyleView",
            "_model_name": "ProgressStyleModel",
            "description_width": "",
            "_view_module": "@jupyter-widgets/base",
            "_model_module_version": "1.5.0",
            "_view_count": null,
            "_view_module_version": "1.2.0",
            "bar_color": null,
            "_model_module": "@jupyter-widgets/controls"
          }
        },
        "9d00b32f1ea8454e845aade3b072b880": {
          "model_module": "@jupyter-widgets/base",
          "model_name": "LayoutModel",
          "model_module_version": "1.2.0",
          "state": {
            "_view_name": "LayoutView",
            "grid_template_rows": null,
            "right": null,
            "justify_content": null,
            "_view_module": "@jupyter-widgets/base",
            "overflow": null,
            "_model_module_version": "1.2.0",
            "_view_count": null,
            "flex_flow": null,
            "width": null,
            "min_width": null,
            "border": null,
            "align_items": null,
            "bottom": null,
            "_model_module": "@jupyter-widgets/base",
            "top": null,
            "grid_column": null,
            "overflow_y": null,
            "overflow_x": null,
            "grid_auto_flow": null,
            "grid_area": null,
            "grid_template_columns": null,
            "flex": null,
            "_model_name": "LayoutModel",
            "justify_items": null,
            "grid_row": null,
            "max_height": null,
            "align_content": null,
            "visibility": null,
            "align_self": null,
            "height": null,
            "min_height": null,
            "padding": null,
            "grid_auto_rows": null,
            "grid_gap": null,
            "max_width": null,
            "order": null,
            "_view_module_version": "1.2.0",
            "grid_template_areas": null,
            "object_position": null,
            "object_fit": null,
            "grid_auto_columns": null,
            "margin": null,
            "display": null,
            "left": null
          }
        },
        "f013eed44d2547e788bbe32b0c130cc1": {
          "model_module": "@jupyter-widgets/controls",
          "model_name": "DescriptionStyleModel",
          "model_module_version": "1.5.0",
          "state": {
            "_view_name": "StyleView",
            "_model_name": "DescriptionStyleModel",
            "description_width": "",
            "_view_module": "@jupyter-widgets/base",
            "_model_module_version": "1.5.0",
            "_view_count": null,
            "_view_module_version": "1.2.0",
            "_model_module": "@jupyter-widgets/controls"
          }
        },
        "e85c822b220649ee9569dc79be192dca": {
          "model_module": "@jupyter-widgets/base",
          "model_name": "LayoutModel",
          "model_module_version": "1.2.0",
          "state": {
            "_view_name": "LayoutView",
            "grid_template_rows": null,
            "right": null,
            "justify_content": null,
            "_view_module": "@jupyter-widgets/base",
            "overflow": null,
            "_model_module_version": "1.2.0",
            "_view_count": null,
            "flex_flow": null,
            "width": null,
            "min_width": null,
            "border": null,
            "align_items": null,
            "bottom": null,
            "_model_module": "@jupyter-widgets/base",
            "top": null,
            "grid_column": null,
            "overflow_y": null,
            "overflow_x": null,
            "grid_auto_flow": null,
            "grid_area": null,
            "grid_template_columns": null,
            "flex": null,
            "_model_name": "LayoutModel",
            "justify_items": null,
            "grid_row": null,
            "max_height": null,
            "align_content": null,
            "visibility": null,
            "align_self": null,
            "height": null,
            "min_height": null,
            "padding": null,
            "grid_auto_rows": null,
            "grid_gap": null,
            "max_width": null,
            "order": null,
            "_view_module_version": "1.2.0",
            "grid_template_areas": null,
            "object_position": null,
            "object_fit": null,
            "grid_auto_columns": null,
            "margin": null,
            "display": null,
            "left": null
          }
        },
        "55be43e3dd694484b8b3766c3d4a23d7": {
          "model_module": "@jupyter-widgets/controls",
          "model_name": "HBoxModel",
          "model_module_version": "1.5.0",
          "state": {
            "_view_name": "HBoxView",
            "_dom_classes": [],
            "_model_name": "HBoxModel",
            "_view_module": "@jupyter-widgets/controls",
            "_model_module_version": "1.5.0",
            "_view_count": null,
            "_view_module_version": "1.5.0",
            "box_style": "",
            "layout": "IPY_MODEL_219bdbea5ddc4029857387026b2b8235",
            "_model_module": "@jupyter-widgets/controls",
            "children": [
              "IPY_MODEL_9b5d428557d24cfdb7b76214c89add32",
              "IPY_MODEL_3e98cc9502624c4bbb8b7b53c5478334",
              "IPY_MODEL_33c6a15f730a4965895b39979a20df23"
            ]
          }
        },
        "219bdbea5ddc4029857387026b2b8235": {
          "model_module": "@jupyter-widgets/base",
          "model_name": "LayoutModel",
          "model_module_version": "1.2.0",
          "state": {
            "_view_name": "LayoutView",
            "grid_template_rows": null,
            "right": null,
            "justify_content": null,
            "_view_module": "@jupyter-widgets/base",
            "overflow": null,
            "_model_module_version": "1.2.0",
            "_view_count": null,
            "flex_flow": null,
            "width": null,
            "min_width": null,
            "border": null,
            "align_items": null,
            "bottom": null,
            "_model_module": "@jupyter-widgets/base",
            "top": null,
            "grid_column": null,
            "overflow_y": null,
            "overflow_x": null,
            "grid_auto_flow": null,
            "grid_area": null,
            "grid_template_columns": null,
            "flex": null,
            "_model_name": "LayoutModel",
            "justify_items": null,
            "grid_row": null,
            "max_height": null,
            "align_content": null,
            "visibility": null,
            "align_self": null,
            "height": null,
            "min_height": null,
            "padding": null,
            "grid_auto_rows": null,
            "grid_gap": null,
            "max_width": null,
            "order": null,
            "_view_module_version": "1.2.0",
            "grid_template_areas": null,
            "object_position": null,
            "object_fit": null,
            "grid_auto_columns": null,
            "margin": null,
            "display": null,
            "left": null
          }
        },
        "9b5d428557d24cfdb7b76214c89add32": {
          "model_module": "@jupyter-widgets/controls",
          "model_name": "HTMLModel",
          "model_module_version": "1.5.0",
          "state": {
            "_view_name": "HTMLView",
            "style": "IPY_MODEL_2093fb7699e34d5492f2732306c4b4f9",
            "_dom_classes": [],
            "description": "",
            "_model_name": "HTMLModel",
            "placeholder": "​",
            "_view_module": "@jupyter-widgets/controls",
            "_model_module_version": "1.5.0",
            "value": "Downloading: 100%",
            "_view_count": null,
            "_view_module_version": "1.5.0",
            "description_tooltip": null,
            "_model_module": "@jupyter-widgets/controls",
            "layout": "IPY_MODEL_65f3c91b3ffa4e2588e762820a65db43"
          }
        },
        "3e98cc9502624c4bbb8b7b53c5478334": {
          "model_module": "@jupyter-widgets/controls",
          "model_name": "FloatProgressModel",
          "model_module_version": "1.5.0",
          "state": {
            "_view_name": "ProgressView",
            "style": "IPY_MODEL_8deaab22124c4c0b8549614f17aaaa73",
            "_dom_classes": [],
            "description": "",
            "_model_name": "FloatProgressModel",
            "bar_style": "success",
            "max": 435779157,
            "_view_module": "@jupyter-widgets/controls",
            "_model_module_version": "1.5.0",
            "value": 435779157,
            "_view_count": null,
            "_view_module_version": "1.5.0",
            "orientation": "horizontal",
            "min": 0,
            "description_tooltip": null,
            "_model_module": "@jupyter-widgets/controls",
            "layout": "IPY_MODEL_edc08a8f67bf4a5eac15189f06e7cd87"
          }
        },
        "33c6a15f730a4965895b39979a20df23": {
          "model_module": "@jupyter-widgets/controls",
          "model_name": "HTMLModel",
          "model_module_version": "1.5.0",
          "state": {
            "_view_name": "HTMLView",
            "style": "IPY_MODEL_b6d4d315404f4d17971a564e17e1e0d3",
            "_dom_classes": [],
            "description": "",
            "_model_name": "HTMLModel",
            "placeholder": "​",
            "_view_module": "@jupyter-widgets/controls",
            "_model_module_version": "1.5.0",
            "value": " 436M/436M [00:10&lt;00:00, 36.9MB/s]",
            "_view_count": null,
            "_view_module_version": "1.5.0",
            "description_tooltip": null,
            "_model_module": "@jupyter-widgets/controls",
            "layout": "IPY_MODEL_c5f111e7c7154207bc9885d0368f426c"
          }
        },
        "2093fb7699e34d5492f2732306c4b4f9": {
          "model_module": "@jupyter-widgets/controls",
          "model_name": "DescriptionStyleModel",
          "model_module_version": "1.5.0",
          "state": {
            "_view_name": "StyleView",
            "_model_name": "DescriptionStyleModel",
            "description_width": "",
            "_view_module": "@jupyter-widgets/base",
            "_model_module_version": "1.5.0",
            "_view_count": null,
            "_view_module_version": "1.2.0",
            "_model_module": "@jupyter-widgets/controls"
          }
        },
        "65f3c91b3ffa4e2588e762820a65db43": {
          "model_module": "@jupyter-widgets/base",
          "model_name": "LayoutModel",
          "model_module_version": "1.2.0",
          "state": {
            "_view_name": "LayoutView",
            "grid_template_rows": null,
            "right": null,
            "justify_content": null,
            "_view_module": "@jupyter-widgets/base",
            "overflow": null,
            "_model_module_version": "1.2.0",
            "_view_count": null,
            "flex_flow": null,
            "width": null,
            "min_width": null,
            "border": null,
            "align_items": null,
            "bottom": null,
            "_model_module": "@jupyter-widgets/base",
            "top": null,
            "grid_column": null,
            "overflow_y": null,
            "overflow_x": null,
            "grid_auto_flow": null,
            "grid_area": null,
            "grid_template_columns": null,
            "flex": null,
            "_model_name": "LayoutModel",
            "justify_items": null,
            "grid_row": null,
            "max_height": null,
            "align_content": null,
            "visibility": null,
            "align_self": null,
            "height": null,
            "min_height": null,
            "padding": null,
            "grid_auto_rows": null,
            "grid_gap": null,
            "max_width": null,
            "order": null,
            "_view_module_version": "1.2.0",
            "grid_template_areas": null,
            "object_position": null,
            "object_fit": null,
            "grid_auto_columns": null,
            "margin": null,
            "display": null,
            "left": null
          }
        },
        "8deaab22124c4c0b8549614f17aaaa73": {
          "model_module": "@jupyter-widgets/controls",
          "model_name": "ProgressStyleModel",
          "model_module_version": "1.5.0",
          "state": {
            "_view_name": "StyleView",
            "_model_name": "ProgressStyleModel",
            "description_width": "",
            "_view_module": "@jupyter-widgets/base",
            "_model_module_version": "1.5.0",
            "_view_count": null,
            "_view_module_version": "1.2.0",
            "bar_color": null,
            "_model_module": "@jupyter-widgets/controls"
          }
        },
        "edc08a8f67bf4a5eac15189f06e7cd87": {
          "model_module": "@jupyter-widgets/base",
          "model_name": "LayoutModel",
          "model_module_version": "1.2.0",
          "state": {
            "_view_name": "LayoutView",
            "grid_template_rows": null,
            "right": null,
            "justify_content": null,
            "_view_module": "@jupyter-widgets/base",
            "overflow": null,
            "_model_module_version": "1.2.0",
            "_view_count": null,
            "flex_flow": null,
            "width": null,
            "min_width": null,
            "border": null,
            "align_items": null,
            "bottom": null,
            "_model_module": "@jupyter-widgets/base",
            "top": null,
            "grid_column": null,
            "overflow_y": null,
            "overflow_x": null,
            "grid_auto_flow": null,
            "grid_area": null,
            "grid_template_columns": null,
            "flex": null,
            "_model_name": "LayoutModel",
            "justify_items": null,
            "grid_row": null,
            "max_height": null,
            "align_content": null,
            "visibility": null,
            "align_self": null,
            "height": null,
            "min_height": null,
            "padding": null,
            "grid_auto_rows": null,
            "grid_gap": null,
            "max_width": null,
            "order": null,
            "_view_module_version": "1.2.0",
            "grid_template_areas": null,
            "object_position": null,
            "object_fit": null,
            "grid_auto_columns": null,
            "margin": null,
            "display": null,
            "left": null
          }
        },
        "b6d4d315404f4d17971a564e17e1e0d3": {
          "model_module": "@jupyter-widgets/controls",
          "model_name": "DescriptionStyleModel",
          "model_module_version": "1.5.0",
          "state": {
            "_view_name": "StyleView",
            "_model_name": "DescriptionStyleModel",
            "description_width": "",
            "_view_module": "@jupyter-widgets/base",
            "_model_module_version": "1.5.0",
            "_view_count": null,
            "_view_module_version": "1.2.0",
            "_model_module": "@jupyter-widgets/controls"
          }
        },
        "c5f111e7c7154207bc9885d0368f426c": {
          "model_module": "@jupyter-widgets/base",
          "model_name": "LayoutModel",
          "model_module_version": "1.2.0",
          "state": {
            "_view_name": "LayoutView",
            "grid_template_rows": null,
            "right": null,
            "justify_content": null,
            "_view_module": "@jupyter-widgets/base",
            "overflow": null,
            "_model_module_version": "1.2.0",
            "_view_count": null,
            "flex_flow": null,
            "width": null,
            "min_width": null,
            "border": null,
            "align_items": null,
            "bottom": null,
            "_model_module": "@jupyter-widgets/base",
            "top": null,
            "grid_column": null,
            "overflow_y": null,
            "overflow_x": null,
            "grid_auto_flow": null,
            "grid_area": null,
            "grid_template_columns": null,
            "flex": null,
            "_model_name": "LayoutModel",
            "justify_items": null,
            "grid_row": null,
            "max_height": null,
            "align_content": null,
            "visibility": null,
            "align_self": null,
            "height": null,
            "min_height": null,
            "padding": null,
            "grid_auto_rows": null,
            "grid_gap": null,
            "max_width": null,
            "order": null,
            "_view_module_version": "1.2.0",
            "grid_template_areas": null,
            "object_position": null,
            "object_fit": null,
            "grid_auto_columns": null,
            "margin": null,
            "display": null,
            "left": null
          }
        }
      }
    }
  },
  "cells": [
    {
      "cell_type": "markdown",
      "metadata": {
        "id": "view-in-github",
        "colab_type": "text"
      },
      "source": [
        "<a href=\"https://colab.research.google.com/github/surajk150741/Data_Science_Projects/blob/main/Spell%20Correction/BERT.ipynb\" target=\"_parent\"><img src=\"https://colab.research.google.com/assets/colab-badge.svg\" alt=\"Open In Colab\"/></a>"
      ]
    },
    {
      "cell_type": "markdown",
      "metadata": {
        "id": "_fclhb0QlBtU"
      },
      "source": [
        "# Importing files and libraries"
      ]
    },
    {
      "cell_type": "markdown",
      "metadata": {
        "id": "u48Z9EVimI9E"
      },
      "source": [
        "**Importing difflib to compare two text documents**"
      ]
    },
    {
      "cell_type": "code",
      "metadata": {
        "id": "DduDo-KQP59E"
      },
      "source": [
        "import difflib"
      ],
      "execution_count": null,
      "outputs": []
    },
    {
      "cell_type": "code",
      "metadata": {
        "colab": {
          "base_uri": "https://localhost:8080/"
        },
        "id": "eo5vBuZska4E",
        "outputId": "95488971-e63f-42ff-9523-99f8e44b84f7"
      },
      "source": [
        "from google.colab import drive\n",
        "drive.mount('/content/drive')"
      ],
      "execution_count": 1,
      "outputs": [
        {
          "output_type": "stream",
          "name": "stdout",
          "text": [
            "Mounted at /content/drive\n"
          ]
        }
      ]
    },
    {
      "cell_type": "code",
      "metadata": {
        "id": "ArcurD3gkxNy"
      },
      "source": [
        "t1 = open('/content/drive/MyDrive/Error_Version.txt','r')"
      ],
      "execution_count": 2,
      "outputs": []
    },
    {
      "cell_type": "code",
      "metadata": {
        "colab": {
          "base_uri": "https://localhost:8080/"
        },
        "id": "jkt-MT4us4hG",
        "outputId": "52b7970a-566b-4dd8-ec87-1a55a833758e"
      },
      "source": [
        "\n",
        "FileContent1 = t1.read()\n",
        "print(FileContent1)"
      ],
      "execution_count": 3,
      "outputs": [
        {
          "output_type": "stream",
          "name": "stdout",
          "text": [
            "﻿the students let us start the first lecture of this course this is basically a anline course so therefore you need to be very clear about what you are going to learn and how yeu are going to be evaluated first of all this is a course on phase transformation in materials and i will be teaching all the lectures and it is a thirty lecture corse that means there will be sixte twenty five minutes lecture and every week w will be exposed to i am not sure now about four to six lectures so that means about two to three hours of lectures so myself is persummiswas and i am a faculty member at the department of material cense engineering opiitianpull so thuts the detals about me my email address is available on the screen you can dialaly write to me whenever you have any serious problems and in addition to that to handle the courseexams and also grading of your answer seets although i know this will be all done all line will be taken care by the teaching assistems so two my students they will be handling that so they are actually the main person who will be handling your questions to my right first one i cospo chospotivaris is my pey student and second one is res pa res mis also my pan i student so they will be handling all your questions in a discussion forum obviously they are very difficult then i will also participate and also they will be handling your question paper and grading so mit ask will be to deliver all the lectures and then this will be uploaded int tan putal website so that you can observe and read or orlition or learn whatever me whatever way you can think about it nowadays also there is another provision all my lectures whatever i am speaking will be again taken down or written by some x parts so we are in the process of finding out those x parts for my earlier course and phase transformation materials similarly weill willl do it for you also so that you do nt need to listen you can actually read all these lectures nones so before that happens you are going to only listen this lectures available on the empetrial form and also you can ask questions in the discussion forum and so that s about it and their imular deses are given and i have carefully removed the phone numbers because this is why things become very difficult to handle so if you have any questions you can ask them ask me also or you can put it on the discussion formok you know like any things in life every course as an objective and this subjective has to be very clear before you start a course sopresent course actually we ill deal with basic surface transformations and materials as i said in in my introduction vadio already you have seen probably that past transformation is everyuler present in the environment whether you are talking about metals ceramics polyments or youare talking about real life whase transformations present but how do we deal is phase transformation that is wha w will be taught because thats what is important in your eneavor to learn phase transformations so using these three things one is your o thermodynamics tin kinetics and some basic aspect of material sensil like cystal structures and interfaces we are going to study various solid o solid an liquid to solid phase transformation as we know this is a vast subject and covering that in thirty lectures is not an easy task so obviously we must be selected we cannot teach you everything and to learn everything you need to have some basic idea what i put it as course perriquicite ok at this peracuosit ar you should have peperabil seuld up some basic knowledge on basicg material science that most of the students in metallurgy or material sanse normally have thermodynnamics especially the thermonynic functions and their relationships and then some idear phase dicoms and diffusion ok so i have already checked on different portions o wa in pteal but y mean wy different person is that there are some corsea video or some costiture wave some couses which are massive open allline so basic meterial sense is already been taught by some fecal numbers thermodynamics has already been available and phase ther ommi manself has develop a course and thenill just one yar back deffision is also piraly taught so therefore you can actually clear your doubts by while reading these lecture ok this is the full whether all the resciption of the all the lectures ok i dowt know whether everything is coming in the schene or not but anyway most important thing is that we are going to talk about some very at the beginning we are going to talk give you some idea about fee eng because that is a therbonanis part of the phase diagram so we will show you the calculation of delta g of various transformations ok then we will talk about quite a bit of interfacces interfaces means liquid sal is solid solid grain grain interface interface interfaeinturfaces these are all parts of with theronynoamics then we have to go into kinetics thats the nuculation because nuclation is why the starting point of phase transformations so therefore theory of necclation howmoteou etegean eculations and nicculation on the surface is grains and even cen corner gen s everywhere it will be dealt with and assume youon ecleasion itself a subject so there therepory must be a very an now we have to be very careful about what you are going to talk about it i wonlt be goilg to tell you every details of the niculation but whatever relevant we will discuss then weu are going to start the first of the fist transfertion that is om solidification as youl see here sitification is an liquid to solid phase transformations then we will talk about growth during different aspects like thermal activated god interface control go efficient control go that's why you need to know and cassil as couple goe then you take toeutectric transformations then we will talk about little bit about transformation kinetics in terms of theeen model con enmel and aromi models and some amount of te thermal phase transformations then we simply go on to different soi to solitla transforsioni presipitations rectliz and matisides spinagtal dey comporitions and a wit about stermaland continuous transformations that itself will be sufficient and ap to cover tatilectures ok so  this is important that you know what you are going to be taught at the beginning so that you can prepare yourself so we are going to follow exactly the same way things are given ond the right side i have also eassted down number of lectures will be spend on each topic now comes in very important aspects because in the massive open allline course you will be exposed to radio lectures or the ali lectures you must have some amount of you know textbook knowledge so therefore two important texbook which i have carried from our libary is this first one which is which is here is written on that is phase transformation in metals and alloys classic textbook by d a porter and k is telling and the retant addition also has come with a new author all the poblems ol solved by mister sductor am srip this is available in india not very expensive book you can read that and the other book is written by two my past colleagues although i have never met them but they are ita anpol this book is pase ransformation is in materials and by propessor ak geni and prome m cso thropey both er i tecanpuo so when these books are written theyare all therwere gena was in conpul ok so these two books will be your basic textbooks for the course and anyone any of these books will be good for you you can buy these books or you can actually cofy from different liabilitin in the different parts of the booksyo can copy from different libraries or if you if you want you can actually even now get buy that on different online stores current so thatis about the basic part of the courseading before i could move onto the next portion ow my lecture why the pac transfer sale wet let me tell you you will be given assignments in every week and i think assermenstion normally uploaded on thursday and because monday wenus t mandayto etness stay will be exposed to the lectures and after that you will be i will be or my t sh willl be uploading the assenments and you will be given bout one wexks time to complete the assignments because assignments olme alline so the questions whould be multiple choice type or may be fieling fill in the blank stipe as a senment wo levo it is a fifty percent vatage and at the end of this semisster you will be taking an nsm exam and we are planning to have it anlline so far if i do not change my decisions or something else happens other isity peall line and that wwill be having a fifty percent vertage although i am not keeping any pass marks fof this course but you can tentitively consider if you are getting less than about say thirty percent of the marks then you will not be able to pass this course and those who will be successfully complating this course by taking examps and getting good marks will be given sadification from the inpetrial as you know so that way i expect that you will be very serious planner and you will be also able to solve thise problems if a in case you have difficulties you can always discuss we can always use discussion for or you can write emails you can always bring it to the instructor all the t s so that we can make it clear to you thats very important because understandly you know the things very well ouwod not be able to answer the questions now in the next few slides i am going to talk about what ar relevant sof face transformation materials eelonment and why do you study in any course i know that many of you do not expose by the instructor in the same way you must have an idea why you are studying this course what is the need well phase transformation assisiol is presented envoroment ok the slide i have taken from literature ou ome that is what i am going to answer to you why study phase transformation material science ok you know what wearin actually we look materials for the application in any case finally we have to think of application uness aantilis materi is applied engineering point of view we do nt find any reason to study stentii qoan to give one can stand so application means we must know the properties all kinds of of part so there is a physical mechanical electronic electrical magnetic depending on the applications so property proparti sola material is are estimated very very regarsly to find and potential applications this is two porbe new material when it is developed so now question is this poparti as i say mechanical chemical electrical minity thermal you can evenly stond miny more propariies of the material depends on structure and thats why actal leral problem come structure has length scale you can simply say atomic structure at min structure is the smallest structure you can think about it atom and nucleus in fact that is why detales one sonle propadisiofto material but that is not all that is what in so this is wha you must know very clear that is not all so structure means it can be atmix structure moleculor structure grain structure phase as distribution and defects ok so we have basically have listed down from the bottom of atom is the smalle species and then we have grains and other things so you must have i am stressing again you mast tem end go a good idea about thes structures to colulate to the properties because it is important that the properties are primarily dictated by this structure so if i know thes taxture i can vector the properties so you got the corelition right a very logically speaking we make materials whether we use processing techniques to make materials and these pocessing techniques allow you to control structure processing techninue means what you can start with he liquid and solidifi that is why the solidification you can start with a metal piece deform by rolling forceea ixtrution whatever deferent means so you actually process or you connectyou deposite tin flame you can actually use surfa statement techniques many things we do in the real app now processing of materials they have a direct connections with a structure and stractor as a direct link with the properties so as you see here these actually are variables for the processing temperature pressure o stress strain or volume and chemical compussion for the aways you can change chemical comparation by making different allays so these are my variables in processing and by applying these variables rcommunation variables i generatemor mi make materials or manufacturing materials and these processing variables control the structure unstructure controlser properties so thers therefore these three are linked very clearly they are linked they are not separate or they are not independent things they are connected to each other t these are the bridges of these three important pillars of material science processing structure an property but finally what we look for finally we look for what is known as performance if yo war you are studying in a co sylamas in a course we are finally a holelotingal performance similarly materials are alated in terms of performance if i put a tyre in our car that means the major performanceis that i should be able to drive the take the car for one place to the place without any problems whut you know tires will varry from a summer to winter in the in the point countries and ice the tires which will travel n ic t are different so that means performance indeed are actually connected to all these three things processing structure and the properties and that is what is important this chart which is very famous in material science youwill find in many books is known as the material statehydron because they i actually looks like it ha tri so finally where does the pise transformation comes it is in the structure we modify the structure we modify the atomic structure wo vontify the grain structural modifie the phasesby phase transformations so therefore phase transformationis a direct link wofh the procession and also indirectly corrected with the properties and thats why it is a very important course in the material ens engineering you must understand that without knowing the phase transformations you cannot control material properties ok so phase transformation phericallibeof thermodynamics is the basis for understanding a material respons to change in temperature pressure composition i must accept this is slide i have taken from way this is not mine thus the cskhetical link between processing and microstructure requires an knowledge of the relevant thermodynamic principles and they are the basis force phase ransformation so you understand now why we are actually studying the phase transformations ok now question is this can i relate in the real applications i have taken four application again ily taken from the internate sites first one is an airplane ok air plane is a very important mode of transport from one part of the wall to the other plant and you know the material which is used in the airplane is an aluminum coper alloy if you do not know you can actually thake on the books there is a classical alloy elevin a four point five to four point seven percent copper known as develumin in the in the trannine and this is a very stable ally from forty five deee celsius to minus sixty five u celso or even minus a t ti cels i don t know how many of you prate new stat there is a desise laboratory in the southern hemissphere that is in antactica and sometimes if somebody is ill in the decised laboratorieis in winter time they are actually taken from that place by plane to termelat the the different content unespecially in southa america or sub parts but it will be extremely cold minus sixthief to minus eighty dege sel system pressures so a plane flying there the meterial has to withstand such a low temperature so ther this one nufe material which is prepared long back is used for the plane body and important phase transformation which happening here is a presipitation of certain phase in aluminum alase and these pecifitates provide the strength from high toonar temperature if you travel carefully on the planes you will find especially in the wings reveted joints and these revated joints are very strong at low temperatures because of the pecifitation so we are going to discuss about that the next one which is very important the right side is a turbine basically it can be used in the plane the high squid plane or inven in pow generators and they contained nickel by supervise is onderful material is a nickel aluminum alloy with consisting of many ou elements which i will not discuss in detail now but again the real high temperature propertiis because this this is a turbine so therefore this has to isstan high temperature high temperature properties cubiastane properties of this material is basically because of presipitation of a i three a type l one to pecipitates what you known as in a nickel mafrix eptrisi matrix and these unique pesipitates actually provide the strength ok the thus that that means the pestipretation is very important aspect to understand so that s why is will be part of a syllivas then on the side left side or you know may be right this is the rails which is used to as a fist plate on the relay tracks these action steels basically ther steel of parallite what do we known as if you do not have any idea of parallytes pinite is nothing but a eu tectortically transform product of gamma solisulation of carbon in iron and so therefore you must we must know how this transformation happens whether can wou control it because the properties of the rail depends on that remember ral is is what is allowing you to alon us to move trains so therefore they are they are subjected to straiss temperature harshhen movement and many other things so they must have combinations of properties so that they can serve the purpose and these is basically done by controlling the phase trans fotions on the right side this is the end the fast example is basically the titanium based ally engines ok remember these engines are not used in car they will be estingused in the planes or maybe in some other statiic applications like ter like the submarines or so so these engines actually has many plaslect itanium balves tha dineam mmc is pins that iamm c cranks ups many other things springs and they are tightina aluminites you know titanium out of thes all thatinamalise the most important allo which is extensively used is thitinium six aluminium pole canadium and it it we can control the marchester of these by mini ways creating alphalatonium also plus beted ditenium metou tatinm alloys so the propertisill vary depending on whether its alpha so plus petal p  meter re alpha is xamo pro spect structure meta is which is in structure so ratinium actually a noom temperature below what to eight hundred eighty two dea cel system presture is basically alpan above there in is n t is aing mec c structure so one can i actually play around in the temperature jone why again controlling the posting parameters to create different kinds of structures to get different properties so all these application dont think that they are all similar alparallits or metalos ofopenit always they can be combination so many of these then the actual real problem is how do i control these microstructures by controlling the prosissing parameters so rember these four examples are not exhaustive one can find many many examples in real life as i told in my first introduction lectures the basic example we always find is in in in country like india in the hot summer day you want to drink cold water so you can always put the quater inside the friige and get it cooled but it is real advantage is that if i take a glass of water and add a ice cube taken from the dee preture imedially the ic squee will start melting it down or getting dissolved in the water both a actually i tw o one is solid i tu or is a liquid isste so therefore by melting it down the heat in getting transfer to the liquid and then the water gets cooled down you enjoy the dring so this is the example which is present which we are actually doing it but what is important nou for you to understand how this transformation happens how the solid become liquid liquid become solid whether is very simple unknown remmer what is one of the most complex systems in the wild i m a unlike metal thes are more complex so let me just stop here before i go to the next part of the lecture or the next class so you understand in a natall that phase transformation is basically very important from the perspectives s of material science and technology and many of these products which you are actually using thes the properties are controlled by controlling phase transformations we can do that by using different pousing parametous temperature stay strain compossions and wy doing that we alter the microstructure the atmix structure and by doing that you are creating different propertiesso that is the relevance of face ansformation course and which you will be exposed to the next subsequent lectures\n"
          ]
        }
      ]
    },
    {
      "cell_type": "code",
      "metadata": {
        "id": "EbcRHjMa9YE7"
      },
      "source": [
        "t2 = open('/content/drive/MyDrive/Truth_Version.txt','r')"
      ],
      "execution_count": 4,
      "outputs": []
    },
    {
      "cell_type": "code",
      "metadata": {
        "colab": {
          "base_uri": "https://localhost:8080/"
        },
        "id": "Uzf0eYnj9YE7",
        "outputId": "5ecaf94b-8695-4db0-8927-c258004c564a"
      },
      "source": [
        "\n",
        "FileContent2 = t2.read()\n",
        "print(FileContent2)"
      ],
      "execution_count": 5,
      "outputs": [
        {
          "output_type": "stream",
          "name": "stdout",
          "text": [
            "﻿dear students let us start the first lecture of this course this is basically a online\n",
            "course so therefore you need to be very clear about what you are going to learn and how\n",
            "you are going to be evaluated first of all this is a course on phase transformation in\n",
            "materials and i will be teaching all the lectures and it is a thirty lecture course that means\n",
            "there will be sixty twenty five minutes lecture and every week will be i suppose to i am not\n",
            "sure now about four to six lectures so that means about two to three hours of lectures\n",
            "so myself is professor biswas and i am a faculty member at the department of material science\n",
            "engineering of iit kanpur so thats the details about me my email address is available on\n",
            "the screen you can daily write to me whenever you have any serious problems and in addition\n",
            "to that to handle the course exams and also grading appear answer sheets i know this will\n",
            "be done online will be taken care by the teaching assistance\n",
            "so two of my students they will be handling that so they are actually the main ah person\n",
            "will be handling your questions to my write first one is kushbu kushbu tiwari is my pg\n",
            "and second one is reshma reshma is also my pg student so they will be handling all your\n",
            "the questions in the discussion forum obviously they are very difficult and i will also participate\n",
            "and also they will be handling your question paper and grading so my task will be to deliver\n",
            "all the lectures and then this will be uploaded in to nptel website so that you can observe\n",
            "and read or or listen online whatever is whatever way you can think about it\n",
            "now a days also there is another provision all my lectures whatever i am speaking will\n",
            "be again taken down or written by some experts so we are in the process of finding out those\n",
            "experts on my earlier course on phase transformation materials similarly we will do it for you\n",
            "also so that you dont need to listen you can actually read all this lectures notes so before\n",
            "that happens we are going to only listen this lectures available on the nptel forum and\n",
            "also you can ask questions in the discussion forum and so thats about it and there email\n",
            "address is are given and i have carefully removed the phone numbers because this is\n",
            "where things become very difficult to handle so if you have any questions you can ask them\n",
            "ask me also or you can put it on the discussion forum ok you know like any things in life\n",
            "every course has an objective and this objective has to be very clear before you start the\n",
            "course\n",
            "so present course actually will deal with basics of transformations in materials and\n",
            "as i said in my introduction video already you have seen probably that phase transformation\n",
            "is everywhere present in the normal whether you are talking about materials ceramics polymers\n",
            "or you are talking about real life phase transformation is present that how do we deal with phase\n",
            "transformation that is what you will be taught because thats what is important in your endower\n",
            "to learn phase transformation so using these three things one is your thermodynamics\n",
            "then kinetics and some basic aspect of material sands like crystal structures and interfaces\n",
            "we are going to study various solid to solid and liquid to solid phase transformation as\n",
            "you know this is our subject and covering that in thirty lectures is not an easy task\n",
            "so obviously we must be selected we cannot teach you everything and to learn everything\n",
            "you need to have some basic idea ah what i put it as course pre requisites ok and this\n",
            "pre requisites are should have preferably should have some basic knowledge on basic\n",
            "material science that most of the students in methodology or material science normally\n",
            "have thermodynamics especially with thermodynamics functions and their relationships and then\n",
            "some idea about phase diagrams and diffusion ok\n",
            "so ah i have already ah checked on different courses in nptel but by mean by different\n",
            "person is that there are some courses which are videos some courses which are web some\n",
            "courses which are massive open online so basic material science is already being taught by\n",
            "some faculty members thermodynamics is already being available and phase diagram i myself\n",
            "was develop a course nil just one year back diffusion is also partly taught so therefore\n",
            "you can actually ah clear your doubts while reading these lecture ok ah this is the full\n",
            "ah rather all the description of the all the lectures ok i dont know whether everything\n",
            "is coming in this scheme or not but any way most important thing is that we are going\n",
            "to talk about some very ah at the beginning where we going to talk give you some idea\n",
            "about free energy because that is the thermodynamic part of the phase diagram so we will show\n",
            "you the calculation of delta g of various transformations ok then we will talk about\n",
            "quad derivative of interfaces interfaces means liquid solids gren gren interface interface\n",
            "inter phase interfaces this are all parts of thermodynamics\n",
            "then you have to go in to kinetics thats the nucleation because nucleation is what the\n",
            "starting point of phase transformations so therefore theorem nucleation homogeneous heterogeneous\n",
            "nucleation and nucleation on the surfaces grains and even clan corners gen edges every\n",
            "where it will be dealt with as you know nucleation itself is the subject so there that we must\n",
            "be very ah you know you have to very careful about what you are going to talk about its\n",
            "i wont be able to tell you every details of the nucleation but whatever element we will\n",
            "discuss then we are going to start the first of the phase transformation that is on solidification\n",
            "as you see here solidification is a liquid to solid phase transformations then we will\n",
            "talk about growth during different aspects like thermal activated growth interface controlled\n",
            "growth diffusion controlled growth thats why you need to know as well as coupled growth\n",
            "and you take to array you take the transformation then we will talk about little bit about transformation\n",
            "kinetics in terms of different models johnson mehl and avrami models and some amount of\n",
            "gas thermal phase transformations then we will simply go on to different solid phase\n",
            "transformations like precipitation recrystallisation martensitics spinodal decompositions and we\n",
            "talk about isothermal and continuous transformations thats itself will be sufficient enough to\n",
            "call off thirty lectures ok\n",
            "so ah this is important that you know what we are going to be taught at the beginning\n",
            "so that you can prepare yourself so we are going to ah follow exactly the same way things\n",
            "are given on the right side i have also listed down number of lectures will be spent on each\n",
            "topic now comes in very important aspects because in a massive open online course you\n",
            "will be exposed to video lectures or the online lectures you must have some amount of you\n",
            "know text book knowledge so therefore two important text books which are carried from\n",
            "our library ah is this first one which is which is here is written on that is phase\n",
            "transformation in metals and alloys classic text book by d a porter and k e easterling\n",
            "and the recent edition also has come with a new author are all the problems are solved\n",
            "mr ah doctor m y sherif this is available in india not very expensive book you can read\n",
            "that and the other book is written by two of my past colleagues although i have never\n",
            "met them but though are iit kanpur this book is phase transformations in materials and\n",
            "by professor a k jena and professor m c chaturvedi both were at iit kanpur\n",
            "so ah when this books written there there were ah jena was in kanpur ok so this two\n",
            "books will be a basic text book for the course and anyone any of these books will be good\n",
            "for you you can by this books or you can actually copy from different libraries in the in the\n",
            "different parts of the book you can copy from different libraries or if you if you want\n",
            "you actually even ah you know get by that on different online stores correct so thats\n",
            "about the basic part of the course i think before i could move on to the next portion\n",
            "of my ah lecture why the phase transformation is delivered let me tell you you will be given\n",
            "ah assignments on every week and i think assignments are normally uploaded on thursday and because\n",
            "monday wednesday monday to wednesday will be exposed to the lectures and after that\n",
            "you will be i will be ah my t s will be uploading the assignments and you will be given about\n",
            "one weeks time to complete the assignments because assignments will be online so the\n",
            "questions will be ah multiple choice type or may be fill fill in the blanks type as\n",
            "assignment will have a weightage of fifty percent weightage and at the end of this semester\n",
            "you will be taking an end some exam and we are planning to have it online so far if i\n",
            "dont change my decisions or something else is happens otherwise it will be online and\n",
            "that will be having a fifty percent weightage\n",
            "although ah i am not keeping any pass marks for this course but you can interdentally\n",
            "consider if you are getting less than about say thirty percent of the marks then you will\n",
            "not be able to pass this course and those who will be successfully completing this course\n",
            "by taking exams and getting good marks will be given certification from the nptel as you\n",
            "know so that way i expect that you will be very serious learner and you will be also\n",
            "able to solve this problems if incase you have difficulties you can always discuss you\n",
            "can always use the discussion forums or you can write emails you can always bring it to\n",
            "the ah instructor all the t s so that we can make it clear to you thats very important\n",
            "because unless and until you know the things very well you will not be able to answer the\n",
            "questions now ah in the next few slides i am going to talk about what are the relevance\n",
            "of phase transformation materials development then why do you study in any course i know\n",
            "that many of you do not exposed by the instructor in the same way you must have an idea why\n",
            "you are studying this course what is the need well phase transformation is as i said is\n",
            "represented environment ok\n",
            "this slide i have taken from the literature you know thats what i am going to answer to\n",
            "you why study phase transformation material science ok you know what we are actually we\n",
            "look material for the application in in any case finally we have to think our application\n",
            "unless and until this material is applied engineering point of view we dont find any\n",
            "reason to study scientific point of view one can study so application means we must know\n",
            "that properties all kinds of properties so there is a physical mechanical electronic\n",
            "electrical magnetic depending on the applications so property or properties of a material is\n",
            "are estimated very very rigorously to find an potential applications this is true for\n",
            "even a new materials when its developed so now question is this properties as i said\n",
            "mechanical chemical electrical magnetic thermal you can even list on many more properties\n",
            "of the material depends on structure and thats why actually real problem comes structure\n",
            "has land scape you can simply say atomic structure atomic structure is the smallest structure\n",
            "you can think about it atom and nucleus infact that is what dictates most of the properties\n",
            "are to material but that is not all that is what in to this is what you must know very\n",
            "clearly thats not all\n",
            "so structure means it can be atomic structure molecular structure grain structure phase\n",
            "trans distribution and defects ok so we have basically i have listed down from the bottom\n",
            "up the atom is smallest theses and then we have grains and other things so you must have\n",
            "i am stressing again you must have an good idea about this structures to correlate with\n",
            "the properties because it is important that the properties are primarily dictated by the\n",
            "structure so if i know the structure i can dictate the properties so you got the correlation\n",
            "right ah very logically speaking we made materials rather we use processing techniques to make\n",
            "materials and this processing techniques allow you to control structure processing technique\n",
            "means what you can start with the liquid and solidify that is what is solidification you\n",
            "can start with the metal piece deform by rolling forging exclusion whatever different means\n",
            "so you actually process or you can actually deposit thin film you can actually you surface\n",
            "treatment techniques many things we do in the real ah now processing of materials they\n",
            "have a direct connection with this structure\n",
            "a structure has a direct link with the properties so as you see here these actually are variables\n",
            "for the processing temperature pressure or stress strain or volume and chemical composition\n",
            "for the alloys you can change chemical composition by making different alloys so these are my\n",
            "variables in processing and by applying these variables or combination of variables i generate\n",
            "or i make materials and manufacture materials and this processing variables controls the\n",
            "structure and structure controls the properties so therefore these three are linked very clearly\n",
            "they are linked they are not separate or they are not independent things they are connected\n",
            "to each other these are the of these three important pillars of material science processing\n",
            "structure and property but finally where to we look for finally we look for what is known\n",
            "as performance if you are studying in a course syllabus in a course you are finally evaluated\n",
            "on performance similarly materials are evaluated in terms of performance if i put a tire in\n",
            "your car that means the major performance is the tire should be able to drive the take\n",
            "the car from one place to another without any problems but you know tires should vary\n",
            "from a some ah are twin tire in the in the foreign countries in the the eyes tire which\n",
            "will travel on are different\n",
            "so that means performance indeed are actually connected to all these three things processing\n",
            "structure and the properties and that is what is important this chart which is very famous\n",
            "in material science you will find in many books is known as the material tetrahedron\n",
            "because they are actually looks like a tetrahedron so finally where does the phase transformation\n",
            "comes it is in the structure we modify the structure we modify the atomic structure we\n",
            "modify grain structure we modify the various by phase transformation so therefore phase\n",
            "transformation are directly linked with processing and also indirectly connected with the properties\n",
            "and thats why it is a very important course in the material science engineering you must\n",
            "understand that without knowing the or phase transformations you cannot control material\n",
            "properties ok\n",
            "so ah phase transformation or phase equilibria or thermodynamics is the basis for understanding\n",
            "a material response to change in temperature pressure composition i must accept this is\n",
            "slide i have taken from web this is not mine thus the critical link between processing\n",
            "and microstructure requires a knowledge of the relevant thermodynamics principles and\n",
            "they are the basis for phase transformations so you understand now why we are actually\n",
            "studying the phase transformations ok now question is this can i relate it to real applications\n",
            "i have taken four applications again i taken from the internet sites first one is in air\n",
            "plane ok air plane is the very important ah mode of transport from one part of the world\n",
            "to other part and you know the material which is used in the air plane is an aluminum copper\n",
            "alloy if you dont know you can actually check on the books this is the classical alloy aluminum\n",
            "four point five to four point seven percent copper known as dual lumen in the in the trend\n",
            "name and this is a very stable alloy from forty five degree celsius to minus sixty five\n",
            "degree celsius or even minus eighty degree celsius i dont know how many of you read news\n",
            "that there is a research laboratory in the southern hampshire that is in hm antarctica\n",
            "and sometimes if somebodies yield in the research laboratories in winter time they are actually\n",
            "taken from that place by plane to the the different country especially in southern america\n",
            "and such parts but it will be extremely cold minus sixty to minus eighty degree celsius\n",
            "temperature so a plane flying there the material has to be stand such a low temperature\n",
            "so this wonderful material which is prepared long back is used for the plane body and important\n",
            "phase transformation which is happening here is a precipitation of certain phase in aluminum\n",
            "alloys and this precipitates provide the strength from high to low temperature if you travel\n",
            "carefully on the planes you will find especially in the wings deviated join and this deviated\n",
            "joins are very strong and low temperatures because of the precipitation so we are going\n",
            "to discuss about that ah next one which is very important on the right side is air turbine\n",
            "basically it can be used in the plane the high speed plane or in when in power generators\n",
            "and they contained nickel based super alloys this wonderful material this is nickel aluminum\n",
            "alloy with consisting of many other elements which i will not discuss in detail now but\n",
            "again the real high temperature properties because this this is turbine so thereforth\n",
            "this has to be instant high temperature high temperature properties equi based properties\n",
            "of this material is basically because of precipitation of n i three a l type l one to precipitates\n",
            "what we known as in a nickel matrix fcc matrix and this unique precipitates actually provide\n",
            "the strength ok the thats thats that means precipitation is very important aspect to\n",
            "understand so thats what is will be part of silvers\n",
            "then on this side left side i know may be your right this is the rails which is used\n",
            "to as a phi splay on the railway tracks this actually steels basically the steel of perlite\n",
            "what you known as if you dont have any idea perlites perlite is nothing but a utech transform\n",
            "product of gamma solution of carbon in iron and so therefore you must you must know how\n",
            "this transformation happens whether we can control it because the properties of the rail\n",
            "depends on that and remember rail is is ah what is allow you to allowing us to move trains\n",
            "so therefore they are they are subjected to stress temperature harsh environment and many\n",
            "other things so they must have combinations of properties so that they can start the purpose\n",
            "and these is basically done by controlling the phase transformations on the right side\n",
            "this is the end the last example is basically the titanium based align engines ok remember\n",
            "this engines are not used in car they will be used in planes or may be in some other\n",
            "strategic applications like ah turb hm like the submarines and so\n",
            "so these engines actually has many plus like titanium valves titanium mmcs springs titanium\n",
            "mnc cramsups many others things springs and there are titanium aluminites you know titanium\n",
            "out of these all thirteen m alloys the most important alloy which is extensively used\n",
            "in titanium sixth aluminum four vanadium and it it we can control the micro structure of\n",
            "these by many ways creating alpha titanium alpha plus beta titanium beta of titanium\n",
            "alloys so ah the properties will vary depending on whether its alpha alpha plus beta alpha\n",
            "or beta remember alpha is hexagonal prospect structure beta is bcc structure so titanium\n",
            "actually ah room temperature below what to eight hundred eighty two degree celsius temperature\n",
            "is basically alpha above that it is a this i mean bcc structure so one can actually play\n",
            "around in the temperature zone by again controlling the prosaic parameters to create different\n",
            "kinds of structures to get different properties\n",
            "so all these applications dont think that they are similar alpha alloys or beta alloys\n",
            "alpha plus beta alloys they can be combination of many of these then the actual real problem\n",
            "is how do i control this micro structures by controlling the processing parameters so\n",
            "remember these four examples are not exhausted one can find many many examples in the real\n",
            "life as i told you in my first introduction lectures the basic example you always find\n",
            "is in the country india when hot summer days you want to drink cold water so you can always\n",
            "put the cold water inside the fridge and get it cooled but it is real advantage is that\n",
            "if i take a glass of water and add a ice cube taken from the deep freezer immediately the\n",
            "ice cube will start melting it down or getting dissolved in the water both are actually h\n",
            "two o one is solid h two o and the other is liquid h two o\n",
            "so therefore by melting it down the heat is getting transferred to the liquid and then\n",
            "the water gets cool down you will enjoy the drinks so this is the example which is present\n",
            "which you are actually doing it but what is important you for you to understand how these\n",
            "transformation happened how these solid become liquid liquid become solid whether is very\n",
            "simple or no remember what is from the most complex systems in the world and no unlike\n",
            "metal like more complex so ah let me just stop here before i go to the next part of\n",
            "the lecture or the next class so you understand in a nutshell that phase transformation is\n",
            "basically very important from the perspective of material science and technology and many\n",
            "of these products which you are actually using these their properties are controlled by controlling\n",
            "phase transformations we can do that by using different processing parameters temperature\n",
            "stress strain compositions and by doing that we alter them micro structure the atomic structure\n",
            "and by doing that you will create a different properties so that is the relevance of phase\n",
            "transformation course and which will be exposed to in the next subsequent lectures\n"
          ]
        }
      ]
    },
    {
      "cell_type": "markdown",
      "metadata": {
        "id": "Dvi6poXemXoN"
      },
      "source": [
        "**Importing BertChecker of Neuspell**"
      ]
    },
    {
      "cell_type": "code",
      "metadata": {
        "colab": {
          "base_uri": "https://localhost:8080/"
        },
        "id": "jWKEzXy6frNC",
        "outputId": "edbd0547-1799-493b-fb17-760ac884018c"
      },
      "source": [
        "!pip install neuspell"
      ],
      "execution_count": 6,
      "outputs": [
        {
          "output_type": "stream",
          "name": "stdout",
          "text": [
            "Collecting neuspell\n",
            "  Downloading neuspell-1.0.0-py3-none-any.whl (184 kB)\n",
            "\u001b[K     |████████████████████████████████| 184 kB 7.7 MB/s \n",
            "\u001b[?25hCollecting transformers\n",
            "  Downloading transformers-4.10.0-py3-none-any.whl (2.8 MB)\n",
            "\u001b[K     |████████████████████████████████| 2.8 MB 43.1 MB/s \n",
            "\u001b[?25hRequirement already satisfied: tqdm in /usr/local/lib/python3.7/dist-packages (from neuspell) (4.62.0)\n",
            "Collecting sentencepiece\n",
            "  Downloading sentencepiece-0.1.96-cp37-cp37m-manylinux_2_17_x86_64.manylinux2014_x86_64.whl (1.2 MB)\n",
            "\u001b[K     |████████████████████████████████| 1.2 MB 48.7 MB/s \n",
            "\u001b[?25hCollecting pytorch-pretrained-bert\n",
            "  Downloading pytorch_pretrained_bert-0.6.2-py3-none-any.whl (123 kB)\n",
            "\u001b[K     |████████████████████████████████| 123 kB 71.0 MB/s \n",
            "\u001b[?25hRequirement already satisfied: torch>=1.6.0 in /usr/local/lib/python3.7/dist-packages (from neuspell) (1.9.0+cu102)\n",
            "Collecting jsonlines\n",
            "  Downloading jsonlines-2.0.0-py3-none-any.whl (6.3 kB)\n",
            "Requirement already satisfied: numpy in /usr/local/lib/python3.7/dist-packages (from neuspell) (1.19.5)\n",
            "Requirement already satisfied: typing-extensions in /usr/local/lib/python3.7/dist-packages (from torch>=1.6.0->neuspell) (3.7.4.3)\n",
            "Requirement already satisfied: regex in /usr/local/lib/python3.7/dist-packages (from pytorch-pretrained-bert->neuspell) (2019.12.20)\n",
            "Collecting boto3\n",
            "  Downloading boto3-1.18.36-py3-none-any.whl (131 kB)\n",
            "\u001b[K     |████████████████████████████████| 131 kB 73.6 MB/s \n",
            "\u001b[?25hRequirement already satisfied: requests in /usr/local/lib/python3.7/dist-packages (from pytorch-pretrained-bert->neuspell) (2.23.0)\n",
            "Collecting jmespath<1.0.0,>=0.7.1\n",
            "  Downloading jmespath-0.10.0-py2.py3-none-any.whl (24 kB)\n",
            "Collecting s3transfer<0.6.0,>=0.5.0\n",
            "  Downloading s3transfer-0.5.0-py3-none-any.whl (79 kB)\n",
            "\u001b[K     |████████████████████████████████| 79 kB 8.5 MB/s \n",
            "\u001b[?25hCollecting botocore<1.22.0,>=1.21.36\n",
            "  Downloading botocore-1.21.36-py3-none-any.whl (7.9 MB)\n",
            "\u001b[K     |████████████████████████████████| 7.9 MB 18.0 MB/s \n",
            "\u001b[?25hRequirement already satisfied: python-dateutil<3.0.0,>=2.1 in /usr/local/lib/python3.7/dist-packages (from botocore<1.22.0,>=1.21.36->boto3->pytorch-pretrained-bert->neuspell) (2.8.2)\n",
            "Collecting urllib3<1.27,>=1.25.4\n",
            "  Downloading urllib3-1.26.6-py2.py3-none-any.whl (138 kB)\n",
            "\u001b[K     |████████████████████████████████| 138 kB 63.9 MB/s \n",
            "\u001b[?25hRequirement already satisfied: six>=1.5 in /usr/local/lib/python3.7/dist-packages (from python-dateutil<3.0.0,>=2.1->botocore<1.22.0,>=1.21.36->boto3->pytorch-pretrained-bert->neuspell) (1.15.0)\n",
            "Requirement already satisfied: chardet<4,>=3.0.2 in /usr/local/lib/python3.7/dist-packages (from requests->pytorch-pretrained-bert->neuspell) (3.0.4)\n",
            "  Downloading urllib3-1.25.11-py2.py3-none-any.whl (127 kB)\n",
            "\u001b[K     |████████████████████████████████| 127 kB 30.7 MB/s \n",
            "\u001b[?25hRequirement already satisfied: certifi>=2017.4.17 in /usr/local/lib/python3.7/dist-packages (from requests->pytorch-pretrained-bert->neuspell) (2021.5.30)\n",
            "Requirement already satisfied: idna<3,>=2.5 in /usr/local/lib/python3.7/dist-packages (from requests->pytorch-pretrained-bert->neuspell) (2.10)\n",
            "Requirement already satisfied: filelock in /usr/local/lib/python3.7/dist-packages (from transformers->neuspell) (3.0.12)\n",
            "Collecting sacremoses\n",
            "  Downloading sacremoses-0.0.45-py3-none-any.whl (895 kB)\n",
            "\u001b[K     |████████████████████████████████| 895 kB 29.4 MB/s \n",
            "\u001b[?25hRequirement already satisfied: importlib-metadata in /usr/local/lib/python3.7/dist-packages (from transformers->neuspell) (4.6.4)\n",
            "Collecting pyyaml>=5.1\n",
            "  Downloading PyYAML-5.4.1-cp37-cp37m-manylinux1_x86_64.whl (636 kB)\n",
            "\u001b[K     |████████████████████████████████| 636 kB 45.8 MB/s \n",
            "\u001b[?25hCollecting huggingface-hub>=0.0.12\n",
            "  Downloading huggingface_hub-0.0.16-py3-none-any.whl (50 kB)\n",
            "\u001b[K     |████████████████████████████████| 50 kB 8.3 MB/s \n",
            "\u001b[?25hRequirement already satisfied: packaging in /usr/local/lib/python3.7/dist-packages (from transformers->neuspell) (21.0)\n",
            "Collecting tokenizers<0.11,>=0.10.1\n",
            "  Downloading tokenizers-0.10.3-cp37-cp37m-manylinux_2_5_x86_64.manylinux1_x86_64.manylinux_2_12_x86_64.manylinux2010_x86_64.whl (3.3 MB)\n",
            "\u001b[K     |████████████████████████████████| 3.3 MB 34.6 MB/s \n",
            "\u001b[?25hRequirement already satisfied: pyparsing>=2.0.2 in /usr/local/lib/python3.7/dist-packages (from packaging->transformers->neuspell) (2.4.7)\n",
            "Requirement already satisfied: zipp>=0.5 in /usr/local/lib/python3.7/dist-packages (from importlib-metadata->transformers->neuspell) (3.5.0)\n",
            "Requirement already satisfied: joblib in /usr/local/lib/python3.7/dist-packages (from sacremoses->transformers->neuspell) (1.0.1)\n",
            "Requirement already satisfied: click in /usr/local/lib/python3.7/dist-packages (from sacremoses->transformers->neuspell) (7.1.2)\n",
            "Installing collected packages: urllib3, jmespath, botocore, s3transfer, tokenizers, sacremoses, pyyaml, huggingface-hub, boto3, transformers, sentencepiece, pytorch-pretrained-bert, jsonlines, neuspell\n",
            "  Attempting uninstall: urllib3\n",
            "    Found existing installation: urllib3 1.24.3\n",
            "    Uninstalling urllib3-1.24.3:\n",
            "      Successfully uninstalled urllib3-1.24.3\n",
            "  Attempting uninstall: pyyaml\n",
            "    Found existing installation: PyYAML 3.13\n",
            "    Uninstalling PyYAML-3.13:\n",
            "      Successfully uninstalled PyYAML-3.13\n",
            "\u001b[31mERROR: pip's dependency resolver does not currently take into account all the packages that are installed. This behaviour is the source of the following dependency conflicts.\n",
            "datascience 0.10.6 requires folium==0.2.1, but you have folium 0.8.3 which is incompatible.\u001b[0m\n",
            "Successfully installed boto3-1.18.36 botocore-1.21.36 huggingface-hub-0.0.16 jmespath-0.10.0 jsonlines-2.0.0 neuspell-1.0.0 pytorch-pretrained-bert-0.6.2 pyyaml-5.4.1 s3transfer-0.5.0 sacremoses-0.0.45 sentencepiece-0.1.96 tokenizers-0.10.3 transformers-4.10.0 urllib3-1.25.11\n"
          ]
        }
      ]
    },
    {
      "cell_type": "code",
      "metadata": {
        "colab": {
          "base_uri": "https://localhost:8080/"
        },
        "id": "DaOs8CO2dnHZ",
        "outputId": "4d4371e9-6057-4985-fde7-6cf6c3e91f8f"
      },
      "source": [
        "!pip install -e .[elmo]\n",
        "!pip install -e .[spacy]"
      ],
      "execution_count": 7,
      "outputs": [
        {
          "output_type": "stream",
          "name": "stdout",
          "text": [
            "\u001b[31mERROR: File \"setup.py\" or \"setup.cfg\" not found. Directory cannot be installed in editable mode: /content\u001b[0m\n",
            "\u001b[31mERROR: File \"setup.py\" or \"setup.cfg\" not found. Directory cannot be installed in editable mode: /content\u001b[0m\n"
          ]
        }
      ]
    },
    {
      "cell_type": "code",
      "metadata": {
        "id": "ozjCZDrNvfEz",
        "colab": {
          "base_uri": "https://localhost:8080/",
          "height": 162,
          "referenced_widgets": [
            "1e02678c30ed465d9b2524604ef0d108",
            "a3948081a31442239db75fbcc99c6285",
            "6284c646ba0a4def9c3d13ea42323495",
            "767be228e9bd4a929010c0d566ddd730",
            "596a6c11a1a643c99dc25650139b51e1",
            "3338d8f9b56542709d52fc084472bec2",
            "1a68a620c89a4572b26051bcd2cdbf9c",
            "53ad066d81b842b8965b9b82ba327ada",
            "d219fa3c25dd4b449e5112c03b81302f",
            "e31c098b1bdd44619e14328fceebc6f0",
            "b34be791b0bd4d29b1bdccbfbfba67c0",
            "1df4228ba10f4fb39a1a2e1c40ad8c6b",
            "1b504ee5507b4b24994ccf39e5542f04",
            "443516bc8eb84874b76d85d49e198807",
            "01d9740ecd884143bc05177eb80aadb2",
            "1b45c2198cfe4397a6258c60c75eaba4",
            "ad88fabcbe4249a181266afb6fa230b1",
            "d79f149406124fb499b260ad4238ac1b",
            "c38779b59f48499b87acb3a3eb4676ce",
            "e592bdcaf95544a791769d20088deed2",
            "e9dc5ae314c14ce094e9247cd5e50ec5",
            "d18887d660624076bf4e573702f783a8",
            "c7becbee40b34caabc613746d1deb63a",
            "eed47e303514410884dea2f701679c6c",
            "58cc058299574edab637cfb5328e1970",
            "39644d1f2ddb48338e1dcf7e33fc84ce",
            "fff6100c086d4095a06e6e569daf5812",
            "39944fa6528c4eba875fec2ab19f93e7",
            "e0e55a89579c4d69bc52315edc22c9cf",
            "dc5a72f207e74df9bcada2b94453348c",
            "e4d4d65281084036bac512d8cc0ca8ac",
            "6dcb1d2b431a467283e21c3eab06fe53",
            "41e5cd74467044ffa47763fd06bf40de",
            "6fd9d24118384aa693bea35170acbe81",
            "c43383fa33f348eebe98778649a5b26f",
            "cc7d42a7bdc94d18a61f314e5745d72e",
            "b82431f3a99b456b9203cad3314c6e77",
            "7845037d94a344239d4e92f507c72f2e",
            "345e04c4665d4957ace739b48b0d016b",
            "cd0c109af7e249a48e55d146d657aa82",
            "922c81a28b3e428d9286d122344309b1",
            "9d00b32f1ea8454e845aade3b072b880",
            "f013eed44d2547e788bbe32b0c130cc1",
            "e85c822b220649ee9569dc79be192dca"
          ]
        },
        "outputId": "d8ad3bc3-a14b-4548-b22f-db77fff64953"
      },
      "source": [
        "import neuspell\n",
        "from neuspell import BertChecker"
      ],
      "execution_count": 8,
      "outputs": [
        {
          "output_type": "stream",
          "name": "stdout",
          "text": [
            "data folder is set to `/usr/local/lib/python3.7/dist-packages/neuspell/../data` script\n"
          ]
        },
        {
          "output_type": "display_data",
          "data": {
            "application/vnd.jupyter.widget-view+json": {
              "model_id": "1e02678c30ed465d9b2524604ef0d108",
              "version_minor": 0,
              "version_major": 2
            },
            "text/plain": [
              "Downloading:   0%|          | 0.00/213k [00:00<?, ?B/s]"
            ]
          },
          "metadata": {}
        },
        {
          "output_type": "display_data",
          "data": {
            "application/vnd.jupyter.widget-view+json": {
              "model_id": "1df4228ba10f4fb39a1a2e1c40ad8c6b",
              "version_minor": 0,
              "version_major": 2
            },
            "text/plain": [
              "Downloading:   0%|          | 0.00/29.0 [00:00<?, ?B/s]"
            ]
          },
          "metadata": {}
        },
        {
          "output_type": "display_data",
          "data": {
            "application/vnd.jupyter.widget-view+json": {
              "model_id": "c7becbee40b34caabc613746d1deb63a",
              "version_minor": 0,
              "version_major": 2
            },
            "text/plain": [
              "Downloading:   0%|          | 0.00/436k [00:00<?, ?B/s]"
            ]
          },
          "metadata": {}
        },
        {
          "output_type": "display_data",
          "data": {
            "application/vnd.jupyter.widget-view+json": {
              "model_id": "6fd9d24118384aa693bea35170acbe81",
              "version_minor": 0,
              "version_major": 2
            },
            "text/plain": [
              "Downloading:   0%|          | 0.00/570 [00:00<?, ?B/s]"
            ]
          },
          "metadata": {}
        }
      ]
    },
    {
      "cell_type": "markdown",
      "metadata": {
        "id": "1qhUSMgtmlpL"
      },
      "source": [
        "- **Downloading BertChecker**"
      ]
    },
    {
      "cell_type": "code",
      "metadata": {
        "colab": {
          "base_uri": "https://localhost:8080/",
          "height": 1000,
          "referenced_widgets": [
            "55be43e3dd694484b8b3766c3d4a23d7",
            "219bdbea5ddc4029857387026b2b8235",
            "9b5d428557d24cfdb7b76214c89add32",
            "3e98cc9502624c4bbb8b7b53c5478334",
            "33c6a15f730a4965895b39979a20df23",
            "2093fb7699e34d5492f2732306c4b4f9",
            "65f3c91b3ffa4e2588e762820a65db43",
            "8deaab22124c4c0b8549614f17aaaa73",
            "edc08a8f67bf4a5eac15189f06e7cd87",
            "b6d4d315404f4d17971a564e17e1e0d3",
            "c5f111e7c7154207bc9885d0368f426c"
          ]
        },
        "id": "FTsWG_LKcWMP",
        "outputId": "8a125d56-00f3-4433-bb52-9d2586572458"
      },
      "source": [
        "checker = BertChecker()\n",
        "checker.from_pretrained()"
      ],
      "execution_count": 9,
      "outputs": [
        {
          "output_type": "stream",
          "name": "stdout",
          "text": [
            "/usr/local/lib/python3.7/dist-packages/neuspell/../data/checkpoints/subwordbert-probwordnoise created\n",
            "Pretrained model downloading start (may take few seconds to couple of minutes based on download speed) ...\n",
            "Pretrained model download success\n",
            "loading vocab from path:/usr/local/lib/python3.7/dist-packages/neuspell/../data/checkpoints/subwordbert-probwordnoise/vocab.pkl\n",
            "initializing model\n"
          ]
        },
        {
          "output_type": "display_data",
          "data": {
            "application/vnd.jupyter.widget-view+json": {
              "model_id": "55be43e3dd694484b8b3766c3d4a23d7",
              "version_minor": 0,
              "version_major": 2
            },
            "text/plain": [
              "Downloading:   0%|          | 0.00/436M [00:00<?, ?B/s]"
            ]
          },
          "metadata": {}
        },
        {
          "output_type": "stream",
          "name": "stderr",
          "text": [
            "Some weights of the model checkpoint at bert-base-cased were not used when initializing BertModel: ['cls.predictions.decoder.weight', 'cls.seq_relationship.weight', 'cls.predictions.transform.dense.weight', 'cls.predictions.transform.dense.bias', 'cls.predictions.transform.LayerNorm.weight', 'cls.seq_relationship.bias', 'cls.predictions.transform.LayerNorm.bias', 'cls.predictions.bias']\n",
            "- This IS expected if you are initializing BertModel from the checkpoint of a model trained on another task or with another architecture (e.g. initializing a BertForSequenceClassification model from a BertForPreTraining model).\n",
            "- This IS NOT expected if you are initializing BertModel from the checkpoint of a model that you expect to be exactly identical (initializing a BertForSequenceClassification model from a BertForSequenceClassification model).\n"
          ]
        },
        {
          "output_type": "stream",
          "name": "stdout",
          "text": [
            "SubwordBert(\n",
            "  (bert_dropout): Dropout(p=0.2, inplace=False)\n",
            "  (bert_model): BertModel(\n",
            "    (embeddings): BertEmbeddings(\n",
            "      (word_embeddings): Embedding(28996, 768, padding_idx=0)\n",
            "      (position_embeddings): Embedding(512, 768)\n",
            "      (token_type_embeddings): Embedding(2, 768)\n",
            "      (LayerNorm): LayerNorm((768,), eps=1e-12, elementwise_affine=True)\n",
            "      (dropout): Dropout(p=0.1, inplace=False)\n",
            "    )\n",
            "    (encoder): BertEncoder(\n",
            "      (layer): ModuleList(\n",
            "        (0): BertLayer(\n",
            "          (attention): BertAttention(\n",
            "            (self): BertSelfAttention(\n",
            "              (query): Linear(in_features=768, out_features=768, bias=True)\n",
            "              (key): Linear(in_features=768, out_features=768, bias=True)\n",
            "              (value): Linear(in_features=768, out_features=768, bias=True)\n",
            "              (dropout): Dropout(p=0.1, inplace=False)\n",
            "            )\n",
            "            (output): BertSelfOutput(\n",
            "              (dense): Linear(in_features=768, out_features=768, bias=True)\n",
            "              (LayerNorm): LayerNorm((768,), eps=1e-12, elementwise_affine=True)\n",
            "              (dropout): Dropout(p=0.1, inplace=False)\n",
            "            )\n",
            "          )\n",
            "          (intermediate): BertIntermediate(\n",
            "            (dense): Linear(in_features=768, out_features=3072, bias=True)\n",
            "          )\n",
            "          (output): BertOutput(\n",
            "            (dense): Linear(in_features=3072, out_features=768, bias=True)\n",
            "            (LayerNorm): LayerNorm((768,), eps=1e-12, elementwise_affine=True)\n",
            "            (dropout): Dropout(p=0.1, inplace=False)\n",
            "          )\n",
            "        )\n",
            "        (1): BertLayer(\n",
            "          (attention): BertAttention(\n",
            "            (self): BertSelfAttention(\n",
            "              (query): Linear(in_features=768, out_features=768, bias=True)\n",
            "              (key): Linear(in_features=768, out_features=768, bias=True)\n",
            "              (value): Linear(in_features=768, out_features=768, bias=True)\n",
            "              (dropout): Dropout(p=0.1, inplace=False)\n",
            "            )\n",
            "            (output): BertSelfOutput(\n",
            "              (dense): Linear(in_features=768, out_features=768, bias=True)\n",
            "              (LayerNorm): LayerNorm((768,), eps=1e-12, elementwise_affine=True)\n",
            "              (dropout): Dropout(p=0.1, inplace=False)\n",
            "            )\n",
            "          )\n",
            "          (intermediate): BertIntermediate(\n",
            "            (dense): Linear(in_features=768, out_features=3072, bias=True)\n",
            "          )\n",
            "          (output): BertOutput(\n",
            "            (dense): Linear(in_features=3072, out_features=768, bias=True)\n",
            "            (LayerNorm): LayerNorm((768,), eps=1e-12, elementwise_affine=True)\n",
            "            (dropout): Dropout(p=0.1, inplace=False)\n",
            "          )\n",
            "        )\n",
            "        (2): BertLayer(\n",
            "          (attention): BertAttention(\n",
            "            (self): BertSelfAttention(\n",
            "              (query): Linear(in_features=768, out_features=768, bias=True)\n",
            "              (key): Linear(in_features=768, out_features=768, bias=True)\n",
            "              (value): Linear(in_features=768, out_features=768, bias=True)\n",
            "              (dropout): Dropout(p=0.1, inplace=False)\n",
            "            )\n",
            "            (output): BertSelfOutput(\n",
            "              (dense): Linear(in_features=768, out_features=768, bias=True)\n",
            "              (LayerNorm): LayerNorm((768,), eps=1e-12, elementwise_affine=True)\n",
            "              (dropout): Dropout(p=0.1, inplace=False)\n",
            "            )\n",
            "          )\n",
            "          (intermediate): BertIntermediate(\n",
            "            (dense): Linear(in_features=768, out_features=3072, bias=True)\n",
            "          )\n",
            "          (output): BertOutput(\n",
            "            (dense): Linear(in_features=3072, out_features=768, bias=True)\n",
            "            (LayerNorm): LayerNorm((768,), eps=1e-12, elementwise_affine=True)\n",
            "            (dropout): Dropout(p=0.1, inplace=False)\n",
            "          )\n",
            "        )\n",
            "        (3): BertLayer(\n",
            "          (attention): BertAttention(\n",
            "            (self): BertSelfAttention(\n",
            "              (query): Linear(in_features=768, out_features=768, bias=True)\n",
            "              (key): Linear(in_features=768, out_features=768, bias=True)\n",
            "              (value): Linear(in_features=768, out_features=768, bias=True)\n",
            "              (dropout): Dropout(p=0.1, inplace=False)\n",
            "            )\n",
            "            (output): BertSelfOutput(\n",
            "              (dense): Linear(in_features=768, out_features=768, bias=True)\n",
            "              (LayerNorm): LayerNorm((768,), eps=1e-12, elementwise_affine=True)\n",
            "              (dropout): Dropout(p=0.1, inplace=False)\n",
            "            )\n",
            "          )\n",
            "          (intermediate): BertIntermediate(\n",
            "            (dense): Linear(in_features=768, out_features=3072, bias=True)\n",
            "          )\n",
            "          (output): BertOutput(\n",
            "            (dense): Linear(in_features=3072, out_features=768, bias=True)\n",
            "            (LayerNorm): LayerNorm((768,), eps=1e-12, elementwise_affine=True)\n",
            "            (dropout): Dropout(p=0.1, inplace=False)\n",
            "          )\n",
            "        )\n",
            "        (4): BertLayer(\n",
            "          (attention): BertAttention(\n",
            "            (self): BertSelfAttention(\n",
            "              (query): Linear(in_features=768, out_features=768, bias=True)\n",
            "              (key): Linear(in_features=768, out_features=768, bias=True)\n",
            "              (value): Linear(in_features=768, out_features=768, bias=True)\n",
            "              (dropout): Dropout(p=0.1, inplace=False)\n",
            "            )\n",
            "            (output): BertSelfOutput(\n",
            "              (dense): Linear(in_features=768, out_features=768, bias=True)\n",
            "              (LayerNorm): LayerNorm((768,), eps=1e-12, elementwise_affine=True)\n",
            "              (dropout): Dropout(p=0.1, inplace=False)\n",
            "            )\n",
            "          )\n",
            "          (intermediate): BertIntermediate(\n",
            "            (dense): Linear(in_features=768, out_features=3072, bias=True)\n",
            "          )\n",
            "          (output): BertOutput(\n",
            "            (dense): Linear(in_features=3072, out_features=768, bias=True)\n",
            "            (LayerNorm): LayerNorm((768,), eps=1e-12, elementwise_affine=True)\n",
            "            (dropout): Dropout(p=0.1, inplace=False)\n",
            "          )\n",
            "        )\n",
            "        (5): BertLayer(\n",
            "          (attention): BertAttention(\n",
            "            (self): BertSelfAttention(\n",
            "              (query): Linear(in_features=768, out_features=768, bias=True)\n",
            "              (key): Linear(in_features=768, out_features=768, bias=True)\n",
            "              (value): Linear(in_features=768, out_features=768, bias=True)\n",
            "              (dropout): Dropout(p=0.1, inplace=False)\n",
            "            )\n",
            "            (output): BertSelfOutput(\n",
            "              (dense): Linear(in_features=768, out_features=768, bias=True)\n",
            "              (LayerNorm): LayerNorm((768,), eps=1e-12, elementwise_affine=True)\n",
            "              (dropout): Dropout(p=0.1, inplace=False)\n",
            "            )\n",
            "          )\n",
            "          (intermediate): BertIntermediate(\n",
            "            (dense): Linear(in_features=768, out_features=3072, bias=True)\n",
            "          )\n",
            "          (output): BertOutput(\n",
            "            (dense): Linear(in_features=3072, out_features=768, bias=True)\n",
            "            (LayerNorm): LayerNorm((768,), eps=1e-12, elementwise_affine=True)\n",
            "            (dropout): Dropout(p=0.1, inplace=False)\n",
            "          )\n",
            "        )\n",
            "        (6): BertLayer(\n",
            "          (attention): BertAttention(\n",
            "            (self): BertSelfAttention(\n",
            "              (query): Linear(in_features=768, out_features=768, bias=True)\n",
            "              (key): Linear(in_features=768, out_features=768, bias=True)\n",
            "              (value): Linear(in_features=768, out_features=768, bias=True)\n",
            "              (dropout): Dropout(p=0.1, inplace=False)\n",
            "            )\n",
            "            (output): BertSelfOutput(\n",
            "              (dense): Linear(in_features=768, out_features=768, bias=True)\n",
            "              (LayerNorm): LayerNorm((768,), eps=1e-12, elementwise_affine=True)\n",
            "              (dropout): Dropout(p=0.1, inplace=False)\n",
            "            )\n",
            "          )\n",
            "          (intermediate): BertIntermediate(\n",
            "            (dense): Linear(in_features=768, out_features=3072, bias=True)\n",
            "          )\n",
            "          (output): BertOutput(\n",
            "            (dense): Linear(in_features=3072, out_features=768, bias=True)\n",
            "            (LayerNorm): LayerNorm((768,), eps=1e-12, elementwise_affine=True)\n",
            "            (dropout): Dropout(p=0.1, inplace=False)\n",
            "          )\n",
            "        )\n",
            "        (7): BertLayer(\n",
            "          (attention): BertAttention(\n",
            "            (self): BertSelfAttention(\n",
            "              (query): Linear(in_features=768, out_features=768, bias=True)\n",
            "              (key): Linear(in_features=768, out_features=768, bias=True)\n",
            "              (value): Linear(in_features=768, out_features=768, bias=True)\n",
            "              (dropout): Dropout(p=0.1, inplace=False)\n",
            "            )\n",
            "            (output): BertSelfOutput(\n",
            "              (dense): Linear(in_features=768, out_features=768, bias=True)\n",
            "              (LayerNorm): LayerNorm((768,), eps=1e-12, elementwise_affine=True)\n",
            "              (dropout): Dropout(p=0.1, inplace=False)\n",
            "            )\n",
            "          )\n",
            "          (intermediate): BertIntermediate(\n",
            "            (dense): Linear(in_features=768, out_features=3072, bias=True)\n",
            "          )\n",
            "          (output): BertOutput(\n",
            "            (dense): Linear(in_features=3072, out_features=768, bias=True)\n",
            "            (LayerNorm): LayerNorm((768,), eps=1e-12, elementwise_affine=True)\n",
            "            (dropout): Dropout(p=0.1, inplace=False)\n",
            "          )\n",
            "        )\n",
            "        (8): BertLayer(\n",
            "          (attention): BertAttention(\n",
            "            (self): BertSelfAttention(\n",
            "              (query): Linear(in_features=768, out_features=768, bias=True)\n",
            "              (key): Linear(in_features=768, out_features=768, bias=True)\n",
            "              (value): Linear(in_features=768, out_features=768, bias=True)\n",
            "              (dropout): Dropout(p=0.1, inplace=False)\n",
            "            )\n",
            "            (output): BertSelfOutput(\n",
            "              (dense): Linear(in_features=768, out_features=768, bias=True)\n",
            "              (LayerNorm): LayerNorm((768,), eps=1e-12, elementwise_affine=True)\n",
            "              (dropout): Dropout(p=0.1, inplace=False)\n",
            "            )\n",
            "          )\n",
            "          (intermediate): BertIntermediate(\n",
            "            (dense): Linear(in_features=768, out_features=3072, bias=True)\n",
            "          )\n",
            "          (output): BertOutput(\n",
            "            (dense): Linear(in_features=3072, out_features=768, bias=True)\n",
            "            (LayerNorm): LayerNorm((768,), eps=1e-12, elementwise_affine=True)\n",
            "            (dropout): Dropout(p=0.1, inplace=False)\n",
            "          )\n",
            "        )\n",
            "        (9): BertLayer(\n",
            "          (attention): BertAttention(\n",
            "            (self): BertSelfAttention(\n",
            "              (query): Linear(in_features=768, out_features=768, bias=True)\n",
            "              (key): Linear(in_features=768, out_features=768, bias=True)\n",
            "              (value): Linear(in_features=768, out_features=768, bias=True)\n",
            "              (dropout): Dropout(p=0.1, inplace=False)\n",
            "            )\n",
            "            (output): BertSelfOutput(\n",
            "              (dense): Linear(in_features=768, out_features=768, bias=True)\n",
            "              (LayerNorm): LayerNorm((768,), eps=1e-12, elementwise_affine=True)\n",
            "              (dropout): Dropout(p=0.1, inplace=False)\n",
            "            )\n",
            "          )\n",
            "          (intermediate): BertIntermediate(\n",
            "            (dense): Linear(in_features=768, out_features=3072, bias=True)\n",
            "          )\n",
            "          (output): BertOutput(\n",
            "            (dense): Linear(in_features=3072, out_features=768, bias=True)\n",
            "            (LayerNorm): LayerNorm((768,), eps=1e-12, elementwise_affine=True)\n",
            "            (dropout): Dropout(p=0.1, inplace=False)\n",
            "          )\n",
            "        )\n",
            "        (10): BertLayer(\n",
            "          (attention): BertAttention(\n",
            "            (self): BertSelfAttention(\n",
            "              (query): Linear(in_features=768, out_features=768, bias=True)\n",
            "              (key): Linear(in_features=768, out_features=768, bias=True)\n",
            "              (value): Linear(in_features=768, out_features=768, bias=True)\n",
            "              (dropout): Dropout(p=0.1, inplace=False)\n",
            "            )\n",
            "            (output): BertSelfOutput(\n",
            "              (dense): Linear(in_features=768, out_features=768, bias=True)\n",
            "              (LayerNorm): LayerNorm((768,), eps=1e-12, elementwise_affine=True)\n",
            "              (dropout): Dropout(p=0.1, inplace=False)\n",
            "            )\n",
            "          )\n",
            "          (intermediate): BertIntermediate(\n",
            "            (dense): Linear(in_features=768, out_features=3072, bias=True)\n",
            "          )\n",
            "          (output): BertOutput(\n",
            "            (dense): Linear(in_features=3072, out_features=768, bias=True)\n",
            "            (LayerNorm): LayerNorm((768,), eps=1e-12, elementwise_affine=True)\n",
            "            (dropout): Dropout(p=0.1, inplace=False)\n",
            "          )\n",
            "        )\n",
            "        (11): BertLayer(\n",
            "          (attention): BertAttention(\n",
            "            (self): BertSelfAttention(\n",
            "              (query): Linear(in_features=768, out_features=768, bias=True)\n",
            "              (key): Linear(in_features=768, out_features=768, bias=True)\n",
            "              (value): Linear(in_features=768, out_features=768, bias=True)\n",
            "              (dropout): Dropout(p=0.1, inplace=False)\n",
            "            )\n",
            "            (output): BertSelfOutput(\n",
            "              (dense): Linear(in_features=768, out_features=768, bias=True)\n",
            "              (LayerNorm): LayerNorm((768,), eps=1e-12, elementwise_affine=True)\n",
            "              (dropout): Dropout(p=0.1, inplace=False)\n",
            "            )\n",
            "          )\n",
            "          (intermediate): BertIntermediate(\n",
            "            (dense): Linear(in_features=768, out_features=3072, bias=True)\n",
            "          )\n",
            "          (output): BertOutput(\n",
            "            (dense): Linear(in_features=3072, out_features=768, bias=True)\n",
            "            (LayerNorm): LayerNorm((768,), eps=1e-12, elementwise_affine=True)\n",
            "            (dropout): Dropout(p=0.1, inplace=False)\n",
            "          )\n",
            "        )\n",
            "      )\n",
            "    )\n",
            "    (pooler): BertPooler(\n",
            "      (dense): Linear(in_features=768, out_features=768, bias=True)\n",
            "      (activation): Tanh()\n",
            "    )\n",
            "  )\n",
            "  (dense): Linear(in_features=768, out_features=100002, bias=True)\n",
            "  (criterion): CrossEntropyLoss()\n",
            ")\n",
            "185211810\n",
            "loading pretrained weights from path:/usr/local/lib/python3.7/dist-packages/neuspell/../data/checkpoints/subwordbert-probwordnoise\n",
            "Loading model params from checkpoint dir: /usr/local/lib/python3.7/dist-packages/neuspell/../data/checkpoints/subwordbert-probwordnoise\n"
          ]
        }
      ]
    },
    {
      "cell_type": "markdown",
      "metadata": {
        "id": "IAoFaPyqmrJL"
      },
      "source": [
        "##Iterating BertChecker 9 times to get Corrected document."
      ]
    },
    {
      "cell_type": "code",
      "metadata": {
        "id": "zwvbfItPecaB"
      },
      "source": [
        "bert_edited = checker.correct(FileContent1)"
      ],
      "execution_count": null,
      "outputs": []
    },
    {
      "cell_type": "code",
      "metadata": {
        "id": "gRbPByWFmxLk"
      },
      "source": [
        "bert_edited2 = checker.correct(FileContent1[2449:])"
      ],
      "execution_count": null,
      "outputs": []
    },
    {
      "cell_type": "code",
      "metadata": {
        "colab": {
          "base_uri": "https://localhost:8080/"
        },
        "id": "k0EiIPxfm9_v",
        "outputId": "4ccc6179-7aab-4d12-924e-0f11cd7fdf88"
      },
      "source": [
        "len(bert_edited2)"
      ],
      "execution_count": null,
      "outputs": [
        {
          "output_type": "execute_result",
          "data": {
            "text/plain": [
              "2410"
            ]
          },
          "metadata": {},
          "execution_count": 60
        }
      ]
    },
    {
      "cell_type": "code",
      "metadata": {
        "colab": {
          "base_uri": "https://localhost:8080/"
        },
        "id": "C1z_DiAAnCg_",
        "outputId": "7afb3924-9118-4167-bf49-bf8784f60a23"
      },
      "source": [
        "print(bert_edited2)"
      ],
      "execution_count": null,
      "outputs": [
        {
          "output_type": "stream",
          "name": "stdout",
          "text": [
            "subjective has to be very clear before you start a course sopresent course actually we will deal with basic surface transformations and materials as it said in in our introduction vadio already you have seen probably that past transformation is everyuler present in the environment whether you are talking about metals ceramics pollutants or youare talking about real life these transformations present but how do we deal is phase transformation that is what we will be taught because that what is important in your endeavor to learn phase transformations so using these three things one is your own thermodynamics in kinetics and some basic aspect of material sensil like cystal structures and interfaces we are going to study various solid to solid and liquid to solid phase transformation as we no this is a vast subject and covering that in thirty lectures is not an easy task so obviously we must be selected we cannot teach you everything and to learn everything you need to have some basic idea what i put it as course perriquicite or at this peracuosit are you should have peperabil use up some basic knowledge on basic material science that most of the students in metallurgy or material so normally have thermodynnamics especially the thermonynic functions and their relationships and then some ideas phase dicoms and diffusion or so i have already checked on different portions or way in pteal but a means wy different person is that there are some courses video or some discovered based some courses which are massive open allline so basic material sense is already been taught by some fecal numbers thermodynamics has already been available and phase are ommi yourself has develop a course and these just one your back definition is also piraly taught so therefore you can actually clear your doubts by while reading these lecture or this is the full whether all the are of the all the lectures or a are no whether everything is coming in the science or not but anyway most important think is that we are going to talk about some very at the beginning we are going to talk give you some ideas about fee based because that is a therbonanis part of the phase diagram so we will show you the calculation of delta go of various transformations or then we will talk about quite a but of interfacces interfaces means liquid sal is solid solid grain grain interface interface interfaeinturfaces these are\n"
          ]
        }
      ]
    },
    {
      "cell_type": "code",
      "metadata": {
        "id": "QcpaXzv-n63S"
      },
      "source": [
        "bert_edited3 = checker.correct(FileContent1[4857:])"
      ],
      "execution_count": null,
      "outputs": []
    },
    {
      "cell_type": "code",
      "metadata": {
        "colab": {
          "base_uri": "https://localhost:8080/"
        },
        "id": "4qTwb_7an63T",
        "outputId": "d5ad8c18-6322-4123-9045-3b93feb11682"
      },
      "source": [
        "len(bert_edited3)"
      ],
      "execution_count": null,
      "outputs": [
        {
          "output_type": "execute_result",
          "data": {
            "text/plain": [
              "2333"
            ]
          },
          "metadata": {},
          "execution_count": 68
        }
      ]
    },
    {
      "cell_type": "code",
      "metadata": {
        "colab": {
          "base_uri": "https://localhost:8080/"
        },
        "id": "6s-aFd9qn63U",
        "outputId": "f5df9198-c0e7-4744-e79f-4044402e93b2"
      },
      "source": [
        "print(bert_edited3)"
      ],
      "execution_count": null,
      "outputs": [
        {
          "output_type": "stream",
          "name": "stdout",
          "text": [
            "all parts of with theronynoamics that we have to go into kinetic that the nuculation because nuclation is why the starting point of phase transformations so therefore theory of necclation howmoteou etegean eculations and nicculation on the surface is grains and even gain corner gain us everywhere it will be dealt with and assume your ecleasion itself a subject so there therefore must be a very an now we have to be very careful about what you are going to talk about it a would be going to tell you every details of the niculation but whatever relevant we will discuss that we are going to start the first of the first transfertion that is om solidification as you see here sitification is an liquid to solid phase transformations then we will talk about growth during different aspects like thermal activated god interface control go efficient control go that ' s why you need to know and cassil as couple goe then you take toeutectric transformations then we will talk about little bit about transformation kinetics in terms of these model con enmel and from models and some amount of these thermal phase transformations then we simply go on to different also to solitla transforsioni presipitations rectliz and matisides spinagtal dey composition and a with about stermaland continuous transformations that itself will be sufficient and a to cover tatilectures or so this is important that you know what you are going to be taught at the beginning so that you can prepare yourself so we are going to follow exactly the same way things are given ond the right side i have also passed down number of lectures will be spend on each topic now comes in very important aspects because in the massive open allline course you will be exposed to radio lectures or the given lectures you must have some amount of you know textbook knowledge so therefore to important texbook which in have carried from our given is this first one which is which is here is written on that is phase transformation in metals and binding classic textbook by a a porter and a is telling and the grade addition also has come with a new author all the poblems progress solved by mister sductor aim based this is available in in not very expensive book you can read that and the other book is written by to my past colleagues although in have never met them but\n"
          ]
        }
      ]
    },
    {
      "cell_type": "code",
      "metadata": {
        "id": "aEOXHepAogUL"
      },
      "source": [
        "bert_edited4 = checker.correct(FileContent1[7184:])"
      ],
      "execution_count": null,
      "outputs": []
    },
    {
      "cell_type": "code",
      "metadata": {
        "colab": {
          "base_uri": "https://localhost:8080/"
        },
        "id": "dk8v2IMtogUM",
        "outputId": "a44867ae-af40-42d7-e65b-3f0f563bdc4d"
      },
      "source": [
        "len(bert_edited4)"
      ],
      "execution_count": null,
      "outputs": [
        {
          "output_type": "execute_result",
          "data": {
            "text/plain": [
              "2196"
            ]
          },
          "metadata": {},
          "execution_count": 88
        }
      ]
    },
    {
      "cell_type": "code",
      "metadata": {
        "colab": {
          "base_uri": "https://localhost:8080/"
        },
        "id": "4tYKSVsBogUM",
        "outputId": "20955b38-58b3-42aa-fc42-04096ff275f2"
      },
      "source": [
        "print(bert_edited4)"
      ],
      "execution_count": null,
      "outputs": [
        {
          "output_type": "stream",
          "name": "stdout",
          "text": [
            "they are its anpol this book is passed ransformation is in materials and by propessor or gene and due my so thropey both or a tecanpuo so when these books are written there all therwere data was in conpul or so these two books will be your basic textbooks for the course and anyone any of these books will be good for you you can buy these books or you can actually copy from different liabilitin in the different parts of the books can copy from different libraries or if you if you want you can actually even now get buy that on different online stories current so that about the basic part of the course before i could move into the next portion or my letter why the pace transfer sales would let me tell you you will be given assignments in every week and if think letter normally uploaded on thursday and because monday lessons to mandayto etness stay will be exposed to the lectures and after that you will be i will be or my t so will be uploading the commitments and you will be given but one text time to complete the assignments because assignments only online so the questions should be multiple choice type or may be fieling full in the blank stipe as a science to levo it is a fifty percent data and at the end of this semisster you will be taking an information exam and we are planning to have it anlline so far if i do not change my decisions or something else happens other is peall line and that will be having a fifty percent better although i am not keeping any pass marks fof this course but you can tentitively consider if you are getting less than about say thirty percent of the marks then you will not be able to pass this course and those who will be successfully complating this course by taking exams and getting good marks will be given sadification from the inpetrial as you know so that way i expect that you will be very serious prefer and you will be also able to solve these problems if a in case you have difficulties you can always discuss we can always use discussion for or you can write emails you can always bring it to the instructor all the to s so that we can make it clear to you that very important because understand you know the things very well you\n"
          ]
        }
      ]
    },
    {
      "cell_type": "code",
      "metadata": {
        "id": "j6SqDCiXqE6V"
      },
      "source": [
        "bert_edited5 = checker.correct(FileContent1[9394:])"
      ],
      "execution_count": null,
      "outputs": []
    },
    {
      "cell_type": "code",
      "metadata": {
        "colab": {
          "base_uri": "https://localhost:8080/"
        },
        "id": "kdGzIyf5qE6e",
        "outputId": "cdecb241-1857-4074-a19b-fb34505fde89"
      },
      "source": [
        "len(bert_edited5)"
      ],
      "execution_count": null,
      "outputs": [
        {
          "output_type": "execute_result",
          "data": {
            "text/plain": [
              "2446"
            ]
          },
          "metadata": {},
          "execution_count": 103
        }
      ]
    },
    {
      "cell_type": "code",
      "metadata": {
        "colab": {
          "base_uri": "https://localhost:8080/"
        },
        "id": "AiOjGSGIqE6f",
        "outputId": "10e524b6-c242-414a-f84c-7d44e82d2da7"
      },
      "source": [
        "print(bert_edited5)"
      ],
      "execution_count": null,
      "outputs": [
        {
          "output_type": "stream",
          "name": "stdout",
          "text": [
            "would not be able to answer the questions now in the next few slides i am going to talk about what or relevant if face transformation materials eelonment and why do you study in any course i know that many of you do not exposed by the instructor in the same way you must have an idea why you are studying this course what is the need well phase transformation assisiol is presented envoroment or the slide i have taken from literature or some that is what a are going to answer to you why study phase transformation material science or you know what herein actually we look materials for the application in any case finally we have to think of application uness aantilis materi is applied engineering point of view we do it find any reason to study stentii qoan to give one can stand so application means we must know the properties all kinds of of part so there is a physical mechanical electronic electrical magnetic depending on the applications so property properly so material is are estimated very very regarsly to find and potential applications this is to per new material when it is developed so no question is this poparti as i say mechanical chemical electrical mini thermal you can evenly stond minus more propariies of the material depends on structure and that why act lateral problem come structure has length scale you can simply say atomic structure at mind structure is the smallest structure you can think about it atom and nucleus in fact that is why detailed one sonle propadisiofto material but that is not all that is what in so this is that you must know very clear that is not all so structure means it can be atmix structure molecular structure grain structure phase as distribution and defects or so we have basically have listed down from the bottom of atom is the small species and then we have grains and other things so you must have a and stress again you most these and go a good ideas about the structures to colulate to the properties because it is important that the properties are primarily dictated by this structure so if a no the taxture a can vector the properties so you got the corelition right a very logically speaking we make materials whether we use processing techniques to make materials and these pocessing techniques allow you to control structure processing techninue means what you can start with the liquid and solidifi that is why the solid you can start with a metal piece deform by rolling\n"
          ]
        }
      ]
    },
    {
      "cell_type": "code",
      "metadata": {
        "id": "aIs_bwhfw4wM"
      },
      "source": [
        "bert_edited6 = checker.correct(FileContent1[11854:])"
      ],
      "execution_count": null,
      "outputs": []
    },
    {
      "cell_type": "code",
      "metadata": {
        "colab": {
          "base_uri": "https://localhost:8080/"
        },
        "id": "OmXdDy4iw4wW",
        "outputId": "200da703-8e81-430d-8167-ec1c318ea7d0"
      },
      "source": [
        "len(bert_edited6)"
      ],
      "execution_count": null,
      "outputs": [
        {
          "output_type": "execute_result",
          "data": {
            "text/plain": [
              "2678"
            ]
          },
          "metadata": {},
          "execution_count": 126
        }
      ]
    },
    {
      "cell_type": "code",
      "metadata": {
        "colab": {
          "base_uri": "https://localhost:8080/"
        },
        "id": "ZfExsZwow4wX",
        "outputId": "4378c7a2-2b5a-4310-dcea-296b12d61174"
      },
      "source": [
        "print(bert_edited6)"
      ],
      "execution_count": null,
      "outputs": [
        {
          "output_type": "stream",
          "name": "stdout",
          "text": [
            "surface evolution whatever different means so you actually process or you connectyou deposit in flame you can actually use surface statements techniques many things we do in the real and and processing of materials they have a direct connections with a structure and stractor as a direct link with the properties so as you see where these actually are variables for the processing temperature pressure or stress strain or volume and chemical combustion for the away you can change chemical comparison by making different always so these are the variables in processing and by applying these variables rcommunation variables and generate miles make materials or manufacturing materials and these processing variables control the structure unstructure controlser properties so the therefore these three are linked very clearly they are linked they are not separate or they are not independent things they are connected to each other the these are the bridges of these three important pillars of material science processing structure and property but finally what we look for finally we look for what is known as performance if and where you are studying in a in sylamas in a course we are finally a holelotingal performance similarly materials are related in terms of performance if and but a there in or car that means the major performance that and should be able to drive the take the car for one place to the place without any problems why you no tires will far from a summer to winter in the in the point countries and is the tires which will travel in and it are different so that means performance indeed are actually connected to all these three things processing structure and the properties and that is what is important this chart which is very famous in material science you find in many books is known as the material statehydron because they i actually looks like it is trips so finally where does the wise transformation comes it is in the structure we modify the structure we modify the atomic structure to vontify the grain structural if the phases phase transformations so therefore phase evolution a direct link with the processing and also indirectly corrected with the properties and that why it is a very important course in the material and engineering you must understand that without knowing the phase transformations you cannot control material properties or so phase transformation phericallibeof form is the basis for understanding a material respons to change in temperature pressure composition and must accept that is slide and have taken from way that is not mine thus the cskhetical link between processing and microstructure requires an knowledge\n"
          ]
        }
      ]
    },
    {
      "cell_type": "code",
      "metadata": {
        "id": "eo9B8NBd1zFS"
      },
      "source": [
        "bert_edited7 = checker.correct(FileContent1[14547:])"
      ],
      "execution_count": null,
      "outputs": []
    },
    {
      "cell_type": "code",
      "metadata": {
        "colab": {
          "base_uri": "https://localhost:8080/"
        },
        "id": "zMkVuH921zFV",
        "outputId": "0e8c0a9d-61a2-4cb6-c597-56ffcc7b506d"
      },
      "source": [
        "len(bert_edited7)"
      ],
      "execution_count": null,
      "outputs": [
        {
          "output_type": "execute_result",
          "data": {
            "text/plain": [
              "2373"
            ]
          },
          "metadata": {},
          "execution_count": 132
        }
      ]
    },
    {
      "cell_type": "code",
      "metadata": {
        "colab": {
          "base_uri": "https://localhost:8080/"
        },
        "id": "nJg8gXBu1zFW",
        "outputId": "27bcff92-4db4-4336-c01b-04db5c407de8"
      },
      "source": [
        "print(bert_edited7)"
      ],
      "execution_count": null,
      "outputs": [
        {
          "output_type": "stream",
          "name": "stdout",
          "text": [
            "of the relevant thermodynamic principles and they are the basis force phase ransformation so you understand now why we are actually studying the phase transformations or no question if this can i relate in the real applications i have taken for application again only taken from the internate sites first one is an airplane or air plane is a very important mode of transport from one part of the wall to the other plant and you know the material which is used in the airplane is an aluminum copper alloy if you do not know you can actually take on the books there is a classical alloy elevin a four point five to for point seven percent copper known as develumin in the in the spacecraft and this is a very stable ally from forty five de celsius to minus sixty five you because or even minus a the ti cells and don to know how many of you space new so there is a does laboratory in the southern hemissphere that is in antactica and sometimes if somebody is ill in the decised laboratorieis in winter time they are actually taken from that place by plane to termelat the the different content unespecially in south america or sub parts but it will be extremely cold minus sixthief to minus eight large sel system pressures so a plane flying there the material has to withstand such a low temperature so that this one nufe material which is prepared long back is used for the plane body and important phase transformation which happening here is a precipitation of certain phase in aluminum alase and these pecifitates provide the strength from high to temperature if you travel carefully on the planes you will find especially in the wings revived joints and these related joints are very strong at low temperatures because of the precipitation so we are going to discuss about that the next one which is very important the right side is a turbine basically it can be used in the plane the high squid plane or even in but generators and they contained nickel by super is onderful material is a nickel aluminum alloy with consisting of many or elements which a will not discuss in detail now but again the real high temperature propertiis because this this is a turbine so therefore this has to is high temperature high temperature properties cubiastane properties of this material is basically because of presipitation of a a three a type a one to pecipitates what you known\n"
          ]
        }
      ]
    },
    {
      "cell_type": "code",
      "metadata": {
        "id": "eXhxDQcZ2vzi"
      },
      "source": [
        "bert_edited8 = checker.correct(FileContent1[16930:])"
      ],
      "execution_count": null,
      "outputs": []
    },
    {
      "cell_type": "code",
      "metadata": {
        "colab": {
          "base_uri": "https://localhost:8080/"
        },
        "id": "nyjUclLo2vzr",
        "outputId": "22d4944d-e813-4b39-a593-3ce251d2e5cf"
      },
      "source": [
        "len(bert_edited8)"
      ],
      "execution_count": null,
      "outputs": [
        {
          "output_type": "execute_result",
          "data": {
            "text/plain": [
              "2279"
            ]
          },
          "metadata": {},
          "execution_count": 138
        }
      ]
    },
    {
      "cell_type": "code",
      "metadata": {
        "colab": {
          "base_uri": "https://localhost:8080/"
        },
        "id": "Jh7gp-7Y2vzs",
        "outputId": "723feaf8-8520-4da8-e539-053806e5be13"
      },
      "source": [
        "print(bert_edited8)"
      ],
      "execution_count": null,
      "outputs": [
        {
          "output_type": "stream",
          "name": "stdout",
          "text": [
            "as in a nickel matrix eptrisi matrix and these unique pesipitates actually provide the strength or the this that that means the pestipretation is very important aspect to understand so that is why is will be part of a syllivas then on the side left side or you know may be right this is the rails which is used to as a first plate on the relay tracks these action steels basically the steel of parallite what do we known as if you do not have any idea of parallytes pinite is nothing but a fully tectortically transform product of gamma solisulation of carbon in iron and so therefore you must we must know how this transformation happens whether can you control it because the properties of the metal depends on that remember metal is is what is allowing you to alon us to move trains so therefore they are they are subjected to serious temperature harsh movement and many other things so they must have combinations of properties so that they can serve the purpose and these is basically done by controlling the phase trans fotions on the right side this is the and the fast example is basically the titanium based ally engines or remember these engines are not used in car they will be testing in the planes or maybe in some other statiic applications like the like the submarines or so so these engines actually has many plaslect itanium balves this dineam mmc is pins that iamm sea crank up may other things springs and they are tight aluminites you know titanium out of the these thatinamalise the most important metal which is extensively used is thitinium six aluminium pole canadium and it it we can control the mattress of these by mini ways creating alphalatonium also plus beted ditenium metal tatinm alloy so the propertisill very depending on whether its alpha so plus metal but meter are alpha is x pro a structure metal is which is in structure so ratinium actually a no temperature below what to eight hundred eight to de sea system presture is basically Iran above there in is in the is metal a c structure so one can if actually play around in the temperature jone why again controlling the posting parameters to create different kinds of structures to get different properties so or these application don think that they are or similar alparallits or metal of\n"
          ]
        }
      ]
    },
    {
      "cell_type": "code",
      "metadata": {
        "id": "1b4kMFac50Z0"
      },
      "source": [
        "bert_edited9 = checker.correct(FileContent1[19225:])"
      ],
      "execution_count": null,
      "outputs": []
    },
    {
      "cell_type": "code",
      "metadata": {
        "colab": {
          "base_uri": "https://localhost:8080/"
        },
        "id": "OGBpZAMe50Z9",
        "outputId": "617c0446-b570-4a7a-eb69-49a4292d7743"
      },
      "source": [
        "len(bert_edited9)"
      ],
      "execution_count": null,
      "outputs": [
        {
          "output_type": "execute_result",
          "data": {
            "text/plain": [
              "1905"
            ]
          },
          "metadata": {},
          "execution_count": 144
        }
      ]
    },
    {
      "cell_type": "code",
      "metadata": {
        "colab": {
          "base_uri": "https://localhost:8080/"
        },
        "id": "8ANAZYjA50Z-",
        "outputId": "1a3a5c9c-6a5f-4551-b503-120fed8b7839"
      },
      "source": [
        "print(bert_edited9)"
      ],
      "execution_count": null,
      "outputs": [
        {
          "output_type": "stream",
          "name": "stdout",
          "text": [
            "open always they can be combination so many of these that the actual real problem is how do and control these microstructures by controlling the processing parameters so remember these four examples are not exhaustive one can find many many examples in real life as i told in the first introduction lectures the basic example we always find is in in in country like findings in the hot summer day you want to drink cold water so you can always put the quater inside the foreign and get it cooled but it is real advantage is that if i take a glass of water and add a ice cube taken from the dee pressure imedially that if surface will start melting it down or getting dissolved in the water both a actually and that or one is solid and the or is a liquid is so therefore by melting it down the heat in getting transfer to the liquid and then the water gets cooled down you enjoy the dry so this is the example which is present which we are actually doing it but what is important you for you to understand how this transformation happens how the solid become liquid liquid become solid whether is very simple unknown remmer what is one of the most complex systems in the would and with a unlike metal the are more complex so let me just stop here before and go to the next part of the lecture or the next class so you understand in a natural that phase transformation is basically very important from the perspectives s of material science and technology and many of these products which you are actually using the the properties are controlled by controlling phase transformations we can do that by using different pousing parametous temperature sound strain compossions and why doing that we alter the microstructure the atmix structure and by doing that you are creating different properties that is the relevance of face ansformation course and which you will be exposed to the next subsequent lectures\n"
          ]
        }
      ]
    },
    {
      "cell_type": "code",
      "metadata": {
        "colab": {
          "base_uri": "https://localhost:8080/"
        },
        "id": "jWuqNwfTjmgx",
        "outputId": "9f92fa50-14b4-4e05-f4c1-aaae075b4fc4"
      },
      "source": [
        "print(FileContent1)"
      ],
      "execution_count": null,
      "outputs": [
        {
          "output_type": "stream",
          "name": "stdout",
          "text": [
            "﻿the students let us start the first lecture of this course this is basically a anline course so therefore you need to be very clear about what you are going to learn and how yeu are going to be evaluated first of all this is a course on phase transformation in materials and i will be teaching all the lectures and it is a thirty lecture corse that means there will be sixte twenty five minutes lecture and every week w will be exposed to i am not sure now about four to six lectures so that means about two to three hours of lectures so myself is persummiswas and i am a faculty member at the department of material cense engineering opiitianpull so thuts the detals about me my email address is available on the screen you can dialaly write to me whenever you have any serious problems and in addition to that to handle the courseexams and also grading of your answer seets although i know this will be all done all line will be taken care by the teaching assistems so two my students they will be handling that so they are actually the main person who will be handling your questions to my right first one i cospo chospotivaris is my pey student and second one is res pa res mis also my pan i student so they will be handling all your questions in a discussion forum obviously they are very difficult then i will also participate and also they will be handling your question paper and grading so mit ask will be to deliver all the lectures and then this will be uploaded int tan putal website so that you can observe and read or orlition or learn whatever me whatever way you can think about it nowadays also there is another provision all my lectures whatever i am speaking will be again taken down or written by some x parts so we are in the process of finding out those x parts for my earlier course and phase transformation materials similarly weill willl do it for you also so that you do nt need to listen you can actually read all these lectures nones so before that happens you are going to only listen this lectures available on the empetrial form and also you can ask questions in the discussion forum and so that s about it and their imular deses are given and i have carefully removed the phone numbers because this is why things become very difficult to handle so if you have any questions you can ask them ask me also or you can put it on the discussion formok you know like any things in life every course as an objective and this subjective has to be very clear before you start a course sopresent course actually we ill deal with basic surface transformations and materials as i said in in my introduction vadio already you have seen probably that past transformation is everyuler present in the environment whether you are talking about metals ceramics polyments or youare talking about real life whase transformations present but how do we deal is phase transformation that is wha w will be taught because thats what is important in your eneavor to learn phase transformations so using these three things one is your o thermodynamics tin kinetics and some basic aspect of material sensil like cystal structures and interfaces we are going to study various solid o solid an liquid to solid phase transformation as we know this is a vast subject and covering that in thirty lectures is not an easy task so obviously we must be selected we cannot teach you everything and to learn everything you need to have some basic idea what i put it as course perriquicite ok at this peracuosit ar you should have peperabil seuld up some basic knowledge on basicg material science that most of the students in metallurgy or material sanse normally have thermodynnamics especially the thermonynic functions and their relationships and then some idear phase dicoms and diffusion ok so i have already checked on different portions o wa in pteal but y mean wy different person is that there are some corsea video or some costiture wave some couses which are massive open allline so basic meterial sense is already been taught by some fecal numbers thermodynamics has already been available and phase ther ommi manself has develop a course and thenill just one yar back deffision is also piraly taught so therefore you can actually clear your doubts by while reading these lecture ok this is the full whether all the resciption of the all the lectures ok i dowt know whether everything is coming in the schene or not but anyway most important thing is that we are going to talk about some very at the beginning we are going to talk give you some idea about fee eng because that is a therbonanis part of the phase diagram so we will show you the calculation of delta g of various transformations ok then we will talk about quite a bit of interfacces interfaces means liquid sal is solid solid grain grain interface interface interfaeinturfaces these are all parts of with theronynoamics then we have to go into kinetics thats the nuculation because nuclation is why the starting point of phase transformations so therefore theory of necclation howmoteou etegean eculations and nicculation on the surface is grains and even cen corner gen s everywhere it will be dealt with and assume youon ecleasion itself a subject so there therepory must be a very an now we have to be very careful about what you are going to talk about it i wonlt be goilg to tell you every details of the niculation but whatever relevant we will discuss then weu are going to start the first of the fist transfertion that is om solidification as youl see here sitification is an liquid to solid phase transformations then we will talk about growth during different aspects like thermal activated god interface control go efficient control go that's why you need to know and cassil as couple goe then you take toeutectric transformations then we will talk about little bit about transformation kinetics in terms of theeen model con enmel and aromi models and some amount of te thermal phase transformations then we simply go on to different soi to solitla transforsioni presipitations rectliz and matisides spinagtal dey comporitions and a wit about stermaland continuous transformations that itself will be sufficient and ap to cover tatilectures ok so  this is important that you know what you are going to be taught at the beginning so that you can prepare yourself so we are going to follow exactly the same way things are given ond the right side i have also eassted down number of lectures will be spend on each topic now comes in very important aspects because in the massive open allline course you will be exposed to radio lectures or the ali lectures you must have some amount of you know textbook knowledge so therefore two important texbook which i have carried from our libary is this first one which is which is here is written on that is phase transformation in metals and alloys classic textbook by d a porter and k is telling and the retant addition also has come with a new author all the poblems ol solved by mister sductor am srip this is available in india not very expensive book you can read that and the other book is written by two my past colleagues although i have never met them but they are ita anpol this book is pase ransformation is in materials and by propessor ak geni and prome m cso thropey both er i tecanpuo so when these books are written theyare all therwere gena was in conpul ok so these two books will be your basic textbooks for the course and anyone any of these books will be good for you you can buy these books or you can actually cofy from different liabilitin in the different parts of the booksyo can copy from different libraries or if you if you want you can actually even now get buy that on different online stores current so thatis about the basic part of the courseading before i could move onto the next portion ow my lecture why the pac transfer sale wet let me tell you you will be given assignments in every week and i think assermenstion normally uploaded on thursday and because monday wenus t mandayto etness stay will be exposed to the lectures and after that you will be i will be or my t sh willl be uploading the assenments and you will be given bout one wexks time to complete the assignments because assignments olme alline so the questions whould be multiple choice type or may be fieling fill in the blank stipe as a senment wo levo it is a fifty percent vatage and at the end of this semisster you will be taking an nsm exam and we are planning to have it anlline so far if i do not change my decisions or something else happens other isity peall line and that wwill be having a fifty percent vertage although i am not keeping any pass marks fof this course but you can tentitively consider if you are getting less than about say thirty percent of the marks then you will not be able to pass this course and those who will be successfully complating this course by taking examps and getting good marks will be given sadification from the inpetrial as you know so that way i expect that you will be very serious planner and you will be also able to solve thise problems if a in case you have difficulties you can always discuss we can always use discussion for or you can write emails you can always bring it to the instructor all the t s so that we can make it clear to you thats very important because understandly you know the things very well ouwod not be able to answer the questions now in the next few slides i am going to talk about what ar relevant sof face transformation materials eelonment and why do you study in any course i know that many of you do not expose by the instructor in the same way you must have an idea why you are studying this course what is the need well phase transformation assisiol is presented envoroment ok the slide i have taken from literature ou ome that is what i am going to answer to you why study phase transformation material science ok you know what wearin actually we look materials for the application in any case finally we have to think of application uness aantilis materi is applied engineering point of view we do nt find any reason to study stentii qoan to give one can stand so application means we must know the properties all kinds of of part so there is a physical mechanical electronic electrical magnetic depending on the applications so property proparti sola material is are estimated very very regarsly to find and potential applications this is two porbe new material when it is developed so now question is this poparti as i say mechanical chemical electrical minity thermal you can evenly stond miny more propariies of the material depends on structure and thats why actal leral problem come structure has length scale you can simply say atomic structure at min structure is the smallest structure you can think about it atom and nucleus in fact that is why detales one sonle propadisiofto material but that is not all that is what in so this is wha you must know very clear that is not all so structure means it can be atmix structure moleculor structure grain structure phase as distribution and defects ok so we have basically have listed down from the bottom of atom is the smalle species and then we have grains and other things so you must have i am stressing again you mast tem end go a good idea about thes structures to colulate to the properties because it is important that the properties are primarily dictated by this structure so if i know thes taxture i can vector the properties so you got the corelition right a very logically speaking we make materials whether we use processing techniques to make materials and these pocessing techniques allow you to control structure processing techninue means what you can start with he liquid and solidifi that is why the solidification you can start with a metal piece deform by rolling forceea ixtrution whatever deferent means so you actually process or you connectyou deposite tin flame you can actually use surfa statement techniques many things we do in the real app now processing of materials they have a direct connections with a structure and stractor as a direct link with the properties so as you see here these actually are variables for the processing temperature pressure o stress strain or volume and chemical compussion for the aways you can change chemical comparation by making different allays so these are my variables in processing and by applying these variables rcommunation variables i generatemor mi make materials or manufacturing materials and these processing variables control the structure unstructure controlser properties so thers therefore these three are linked very clearly they are linked they are not separate or they are not independent things they are connected to each other t these are the bridges of these three important pillars of material science processing structure an property but finally what we look for finally we look for what is known as performance if yo war you are studying in a co sylamas in a course we are finally a holelotingal performance similarly materials are alated in terms of performance if i put a tyre in our car that means the major performanceis that i should be able to drive the take the car for one place to the place without any problems whut you know tires will varry from a summer to winter in the in the point countries and ice the tires which will travel n ic t are different so that means performance indeed are actually connected to all these three things processing structure and the properties and that is what is important this chart which is very famous in material science youwill find in many books is known as the material statehydron because they i actually looks like it ha tri so finally where does the pise transformation comes it is in the structure we modify the structure we modify the atomic structure wo vontify the grain structural modifie the phasesby phase transformations so therefore phase transformationis a direct link wofh the procession and also indirectly corrected with the properties and thats why it is a very important course in the material ens engineering you must understand that without knowing the phase transformations you cannot control material properties ok so phase transformation phericallibeof thermodynamics is the basis for understanding a material respons to change in temperature pressure composition i must accept this is slide i have taken from way this is not mine thus the cskhetical link between processing and microstructure requires an knowledge of the relevant thermodynamic principles and they are the basis force phase ransformation so you understand now why we are actually studying the phase transformations ok now question is this can i relate in the real applications i have taken four application again ily taken from the internate sites first one is an airplane ok air plane is a very important mode of transport from one part of the wall to the other plant and you know the material which is used in the airplane is an aluminum coper alloy if you do not know you can actually thake on the books there is a classical alloy elevin a four point five to four point seven percent copper known as develumin in the in the trannine and this is a very stable ally from forty five deee celsius to minus sixty five u celso or even minus a t ti cels i don t know how many of you prate new stat there is a desise laboratory in the southern hemissphere that is in antactica and sometimes if somebody is ill in the decised laboratorieis in winter time they are actually taken from that place by plane to termelat the the different content unespecially in southa america or sub parts but it will be extremely cold minus sixthief to minus eighty dege sel system pressures so a plane flying there the meterial has to withstand such a low temperature so ther this one nufe material which is prepared long back is used for the plane body and important phase transformation which happening here is a presipitation of certain phase in aluminum alase and these pecifitates provide the strength from high toonar temperature if you travel carefully on the planes you will find especially in the wings reveted joints and these revated joints are very strong at low temperatures because of the pecifitation so we are going to discuss about that the next one which is very important the right side is a turbine basically it can be used in the plane the high squid plane or inven in pow generators and they contained nickel by supervise is onderful material is a nickel aluminum alloy with consisting of many ou elements which i will not discuss in detail now but again the real high temperature propertiis because this this is a turbine so therefore this has to isstan high temperature high temperature properties cubiastane properties of this material is basically because of presipitation of a i three a type l one to pecipitates what you known as in a nickel mafrix eptrisi matrix and these unique pesipitates actually provide the strength ok the thus that that means the pestipretation is very important aspect to understand so that s why is will be part of a syllivas then on the side left side or you know may be right this is the rails which is used to as a fist plate on the relay tracks these action steels basically ther steel of parallite what do we known as if you do not have any idea of parallytes pinite is nothing but a eu tectortically transform product of gamma solisulation of carbon in iron and so therefore you must we must know how this transformation happens whether can wou control it because the properties of the rail depends on that remember ral is is what is allowing you to alon us to move trains so therefore they are they are subjected to straiss temperature harshhen movement and many other things so they must have combinations of properties so that they can serve the purpose and these is basically done by controlling the phase trans fotions on the right side this is the end the fast example is basically the titanium based ally engines ok remember these engines are not used in car they will be estingused in the planes or maybe in some other statiic applications like ter like the submarines or so so these engines actually has many plaslect itanium balves tha dineam mmc is pins that iamm c cranks ups many other things springs and they are tightina aluminites you know titanium out of thes all thatinamalise the most important allo which is extensively used is thitinium six aluminium pole canadium and it it we can control the marchester of these by mini ways creating alphalatonium also plus beted ditenium metou tatinm alloys so the propertisill vary depending on whether its alpha so plus petal p  meter re alpha is xamo pro spect structure meta is which is in structure so ratinium actually a noom temperature below what to eight hundred eighty two dea cel system presture is basically alpan above there in is n t is aing mec c structure so one can i actually play around in the temperature jone why again controlling the posting parameters to create different kinds of structures to get different properties so all these application dont think that they are all similar alparallits or metalos ofopenit always they can be combination so many of these then the actual real problem is how do i control these microstructures by controlling the prosissing parameters so rember these four examples are not exhaustive one can find many many examples in real life as i told in my first introduction lectures the basic example we always find is in in in country like india in the hot summer day you want to drink cold water so you can always put the quater inside the friige and get it cooled but it is real advantage is that if i take a glass of water and add a ice cube taken from the dee preture imedially the ic squee will start melting it down or getting dissolved in the water both a actually i tw o one is solid i tu or is a liquid isste so therefore by melting it down the heat in getting transfer to the liquid and then the water gets cooled down you enjoy the dring so this is the example which is present which we are actually doing it but what is important nou for you to understand how this transformation happens how the solid become liquid liquid become solid whether is very simple unknown remmer what is one of the most complex systems in the wild i m a unlike metal thes are more complex so let me just stop here before i go to the next part of the lecture or the next class so you understand in a natall that phase transformation is basically very important from the perspectives s of material science and technology and many of these products which you are actually using thes the properties are controlled by controlling phase transformations we can do that by using different pousing parametous temperature stay strain compossions and wy doing that we alter the microstructure the atmix structure and by doing that you are creating different propertiesso that is the relevance of face ansformation course and which you will be exposed to the next subsequent lectures\n"
          ]
        }
      ]
    },
    {
      "cell_type": "code",
      "metadata": {
        "id": "V_kyHr508fpM"
      },
      "source": [
        "FileContent3 = bert_edited+bert_edited2+bert_edited3+bert_edited4+bert_edited5+bert_edited6+bert_edited7+bert_edited8+bert_edited9"
      ],
      "execution_count": null,
      "outputs": []
    },
    {
      "cell_type": "code",
      "metadata": {
        "colab": {
          "base_uri": "https://localhost:8080/"
        },
        "id": "H4y50-Zb8Rv2",
        "outputId": "6e7ea1a2-4afb-4860-a594-ef4a45b49459"
      },
      "source": [
        "len(FileContent3)"
      ],
      "execution_count": null,
      "outputs": [
        {
          "output_type": "execute_result",
          "data": {
            "text/plain": [
              "21067"
            ]
          },
          "metadata": {},
          "execution_count": 148
        }
      ]
    },
    {
      "cell_type": "code",
      "metadata": {
        "colab": {
          "base_uri": "https://localhost:8080/"
        },
        "id": "_mMpThbL8-ju",
        "outputId": "fc1fa7c4-e61d-431b-e4ba-8991b14b6965"
      },
      "source": [
        "print(FileContent3)"
      ],
      "execution_count": null,
      "outputs": [
        {
          "output_type": "stream",
          "name": "stdout",
          "text": [
            "the students let us start the first letter of this course this is basically a online course so therefore you need to be very clear about what you are going to learn and how you are going to be evaluated first of all this is a course on phase transformation in materials and i will be teaching all the lectures and it is a thirty lecture course that means there will be sixte twenty five minutes lecture and every week you will be exposed to i am not sure now about four to six lectures so that means about two to three hours of lectures so myself is persummiswas and i am a faculty member at the department of material science engineering opiitianpull so thuts the details about me my email address is available on the screen you can dialaly write to me whenever you have any serious problems and in addition to that to handle the courses and also grading of your answer science although i know this will be all done all line will be taken care by the teaching assistems so to my students they will be handling that so they are actually the main person who will be handling your questions to my right first one i cospo chospotivaris is my guys students and second one is due p due mis also my panel i student so they will be handling all your questions in a discussion forum obviously they are very difficult then i will also participate and also they will be handling your question paper and reading so its ask will be to deliver all the lectures and then this will be uploaded these that put website so that you can observe and read or or or learn whatever me whatever way you can think about it nowadays also there is another provision all my lectures whatever i am speaking will be again taken down or written by some x parts so we are in the process of finding out those x parts for my earlier course and phase transformation materials similarly based will do it for you also so that you do these need to listen you can actually read all these lectures none so before that happens you are going to only listen this lectures available on the empetrial form and also you can ask questions in the discussion forum and so that s about it and their imular deses are given and i have carefully removed the phone numbers because this is why things become very difficult to handle so if you have any questions you can ask them ask me also or you can put it on the discussion form you know like any things in life every course as an objective and thissubjective has to be very clear before you start a course sopresent course actually we will deal with basic surface transformations and materials as it said in in our introduction vadio already you have seen probably that past transformation is everyuler present in the environment whether you are talking about metals ceramics pollutants or youare talking about real life these transformations present but how do we deal is phase transformation that is what we will be taught because that what is important in your endeavor to learn phase transformations so using these three things one is your own thermodynamics in kinetics and some basic aspect of material sensil like cystal structures and interfaces we are going to study various solid to solid and liquid to solid phase transformation as we no this is a vast subject and covering that in thirty lectures is not an easy task so obviously we must be selected we cannot teach you everything and to learn everything you need to have some basic idea what i put it as course perriquicite or at this peracuosit are you should have peperabil use up some basic knowledge on basic material science that most of the students in metallurgy or material so normally have thermodynnamics especially the thermonynic functions and their relationships and then some ideas phase dicoms and diffusion or so i have already checked on different portions or way in pteal but a means wy different person is that there are some courses video or some discovered based some courses which are massive open allline so basic material sense is already been taught by some fecal numbers thermodynamics has already been available and phase are ommi yourself has develop a course and these just one your back definition is also piraly taught so therefore you can actually clear your doubts by while reading these lecture or this is the full whether all the are of the all the lectures or a are no whether everything is coming in the science or not but anyway most important think is that we are going to talk about some very at the beginning we are going to talk give you some ideas about fee based because that is a therbonanis part of the phase diagram so we will show you the calculation of delta go of various transformations or then we will talk about quite a but of interfacces interfaces means liquid sal is solid solid grain grain interface interface interfaeinturfaces these areall parts of with theronynoamics that we have to go into kinetic that the nuculation because nuclation is why the starting point of phase transformations so therefore theory of necclation howmoteou etegean eculations and nicculation on the surface is grains and even gain corner gain us everywhere it will be dealt with and assume your ecleasion itself a subject so there therefore must be a very an now we have to be very careful about what you are going to talk about it a would be going to tell you every details of the niculation but whatever relevant we will discuss that we are going to start the first of the first transfertion that is om solidification as you see here sitification is an liquid to solid phase transformations then we will talk about growth during different aspects like thermal activated god interface control go efficient control go that ' s why you need to know and cassil as couple goe then you take toeutectric transformations then we will talk about little bit about transformation kinetics in terms of these model con enmel and from models and some amount of these thermal phase transformations then we simply go on to different also to solitla transforsioni presipitations rectliz and matisides spinagtal dey composition and a with about stermaland continuous transformations that itself will be sufficient and a to cover tatilectures or so this is important that you know what you are going to be taught at the beginning so that you can prepare yourself so we are going to follow exactly the same way things are given ond the right side i have also passed down number of lectures will be spend on each topic now comes in very important aspects because in the massive open allline course you will be exposed to radio lectures or the given lectures you must have some amount of you know textbook knowledge so therefore to important texbook which in have carried from our given is this first one which is which is here is written on that is phase transformation in metals and binding classic textbook by a a porter and a is telling and the grade addition also has come with a new author all the poblems progress solved by mister sductor aim based this is available in in not very expensive book you can read that and the other book is written by to my past colleagues although in have never met them butthey are its anpol this book is passed ransformation is in materials and by propessor or gene and due my so thropey both or a tecanpuo so when these books are written there all therwere data was in conpul or so these two books will be your basic textbooks for the course and anyone any of these books will be good for you you can buy these books or you can actually copy from different liabilitin in the different parts of the books can copy from different libraries or if you if you want you can actually even now get buy that on different online stories current so that about the basic part of the course before i could move into the next portion or my letter why the pace transfer sales would let me tell you you will be given assignments in every week and if think letter normally uploaded on thursday and because monday lessons to mandayto etness stay will be exposed to the lectures and after that you will be i will be or my t so will be uploading the commitments and you will be given but one text time to complete the assignments because assignments only online so the questions should be multiple choice type or may be fieling full in the blank stipe as a science to levo it is a fifty percent data and at the end of this semisster you will be taking an information exam and we are planning to have it anlline so far if i do not change my decisions or something else happens other is peall line and that will be having a fifty percent better although i am not keeping any pass marks fof this course but you can tentitively consider if you are getting less than about say thirty percent of the marks then you will not be able to pass this course and those who will be successfully complating this course by taking exams and getting good marks will be given sadification from the inpetrial as you know so that way i expect that you will be very serious prefer and you will be also able to solve these problems if a in case you have difficulties you can always discuss we can always use discussion for or you can write emails you can always bring it to the instructor all the to s so that we can make it clear to you that very important because understand you know the things very well youwould not be able to answer the questions now in the next few slides i am going to talk about what or relevant if face transformation materials eelonment and why do you study in any course i know that many of you do not exposed by the instructor in the same way you must have an idea why you are studying this course what is the need well phase transformation assisiol is presented envoroment or the slide i have taken from literature or some that is what a are going to answer to you why study phase transformation material science or you know what herein actually we look materials for the application in any case finally we have to think of application uness aantilis materi is applied engineering point of view we do it find any reason to study stentii qoan to give one can stand so application means we must know the properties all kinds of of part so there is a physical mechanical electronic electrical magnetic depending on the applications so property properly so material is are estimated very very regarsly to find and potential applications this is to per new material when it is developed so no question is this poparti as i say mechanical chemical electrical mini thermal you can evenly stond minus more propariies of the material depends on structure and that why act lateral problem come structure has length scale you can simply say atomic structure at mind structure is the smallest structure you can think about it atom and nucleus in fact that is why detailed one sonle propadisiofto material but that is not all that is what in so this is that you must know very clear that is not all so structure means it can be atmix structure molecular structure grain structure phase as distribution and defects or so we have basically have listed down from the bottom of atom is the small species and then we have grains and other things so you must have a and stress again you most these and go a good ideas about the structures to colulate to the properties because it is important that the properties are primarily dictated by this structure so if a no the taxture a can vector the properties so you got the corelition right a very logically speaking we make materials whether we use processing techniques to make materials and these pocessing techniques allow you to control structure processing techninue means what you can start with the liquid and solidifi that is why the solid you can start with a metal piece deform by rollingsurface evolution whatever different means so you actually process or you connectyou deposit in flame you can actually use surface statements techniques many things we do in the real and and processing of materials they have a direct connections with a structure and stractor as a direct link with the properties so as you see where these actually are variables for the processing temperature pressure or stress strain or volume and chemical combustion for the away you can change chemical comparison by making different always so these are the variables in processing and by applying these variables rcommunation variables and generate miles make materials or manufacturing materials and these processing variables control the structure unstructure controlser properties so the therefore these three are linked very clearly they are linked they are not separate or they are not independent things they are connected to each other the these are the bridges of these three important pillars of material science processing structure and property but finally what we look for finally we look for what is known as performance if and where you are studying in a in sylamas in a course we are finally a holelotingal performance similarly materials are related in terms of performance if and but a there in or car that means the major performance that and should be able to drive the take the car for one place to the place without any problems why you no tires will far from a summer to winter in the in the point countries and is the tires which will travel in and it are different so that means performance indeed are actually connected to all these three things processing structure and the properties and that is what is important this chart which is very famous in material science you find in many books is known as the material statehydron because they i actually looks like it is trips so finally where does the wise transformation comes it is in the structure we modify the structure we modify the atomic structure to vontify the grain structural if the phases phase transformations so therefore phase evolution a direct link with the processing and also indirectly corrected with the properties and that why it is a very important course in the material and engineering you must understand that without knowing the phase transformations you cannot control material properties or so phase transformation phericallibeof form is the basis for understanding a material respons to change in temperature pressure composition and must accept that is slide and have taken from way that is not mine thus the cskhetical link between processing and microstructure requires an knowledgeof the relevant thermodynamic principles and they are the basis force phase ransformation so you understand now why we are actually studying the phase transformations or no question if this can i relate in the real applications i have taken for application again only taken from the internate sites first one is an airplane or air plane is a very important mode of transport from one part of the wall to the other plant and you know the material which is used in the airplane is an aluminum copper alloy if you do not know you can actually take on the books there is a classical alloy elevin a four point five to for point seven percent copper known as develumin in the in the spacecraft and this is a very stable ally from forty five de celsius to minus sixty five you because or even minus a the ti cells and don to know how many of you space new so there is a does laboratory in the southern hemissphere that is in antactica and sometimes if somebody is ill in the decised laboratorieis in winter time they are actually taken from that place by plane to termelat the the different content unespecially in south america or sub parts but it will be extremely cold minus sixthief to minus eight large sel system pressures so a plane flying there the material has to withstand such a low temperature so that this one nufe material which is prepared long back is used for the plane body and important phase transformation which happening here is a precipitation of certain phase in aluminum alase and these pecifitates provide the strength from high to temperature if you travel carefully on the planes you will find especially in the wings revived joints and these related joints are very strong at low temperatures because of the precipitation so we are going to discuss about that the next one which is very important the right side is a turbine basically it can be used in the plane the high squid plane or even in but generators and they contained nickel by super is onderful material is a nickel aluminum alloy with consisting of many or elements which a will not discuss in detail now but again the real high temperature propertiis because this this is a turbine so therefore this has to is high temperature high temperature properties cubiastane properties of this material is basically because of presipitation of a a three a type a one to pecipitates what you knownas in a nickel matrix eptrisi matrix and these unique pesipitates actually provide the strength or the this that that means the pestipretation is very important aspect to understand so that is why is will be part of a syllivas then on the side left side or you know may be right this is the rails which is used to as a first plate on the relay tracks these action steels basically the steel of parallite what do we known as if you do not have any idea of parallytes pinite is nothing but a fully tectortically transform product of gamma solisulation of carbon in iron and so therefore you must we must know how this transformation happens whether can you control it because the properties of the metal depends on that remember metal is is what is allowing you to alon us to move trains so therefore they are they are subjected to serious temperature harsh movement and many other things so they must have combinations of properties so that they can serve the purpose and these is basically done by controlling the phase trans fotions on the right side this is the and the fast example is basically the titanium based ally engines or remember these engines are not used in car they will be testing in the planes or maybe in some other statiic applications like the like the submarines or so so these engines actually has many plaslect itanium balves this dineam mmc is pins that iamm sea crank up may other things springs and they are tight aluminites you know titanium out of the these thatinamalise the most important metal which is extensively used is thitinium six aluminium pole canadium and it it we can control the mattress of these by mini ways creating alphalatonium also plus beted ditenium metal tatinm alloy so the propertisill very depending on whether its alpha so plus metal but meter are alpha is x pro a structure metal is which is in structure so ratinium actually a no temperature below what to eight hundred eight to de sea system presture is basically Iran above there in is in the is metal a c structure so one can if actually play around in the temperature jone why again controlling the posting parameters to create different kinds of structures to get different properties so or these application don think that they are or similar alparallits or metal ofopen always they can be combination so many of these that the actual real problem is how do and control these microstructures by controlling the processing parameters so remember these four examples are not exhaustive one can find many many examples in real life as i told in the first introduction lectures the basic example we always find is in in in country like findings in the hot summer day you want to drink cold water so you can always put the quater inside the foreign and get it cooled but it is real advantage is that if i take a glass of water and add a ice cube taken from the dee pressure imedially that if surface will start melting it down or getting dissolved in the water both a actually and that or one is solid and the or is a liquid is so therefore by melting it down the heat in getting transfer to the liquid and then the water gets cooled down you enjoy the dry so this is the example which is present which we are actually doing it but what is important you for you to understand how this transformation happens how the solid become liquid liquid become solid whether is very simple unknown remmer what is one of the most complex systems in the would and with a unlike metal the are more complex so let me just stop here before and go to the next part of the lecture or the next class so you understand in a natural that phase transformation is basically very important from the perspectives s of material science and technology and many of these products which you are actually using the the properties are controlled by controlling phase transformations we can do that by using different pousing parametous temperature sound strain compossions and why doing that we alter the microstructure the atmix structure and by doing that you are creating different properties that is the relevance of face ansformation course and which you will be exposed to the next subsequent lectures\n"
          ]
        }
      ]
    },
    {
      "cell_type": "code",
      "metadata": {
        "id": "BmAj65dPjW13"
      },
      "source": [
        "f1 = FileContent1.split()"
      ],
      "execution_count": 14,
      "outputs": []
    },
    {
      "cell_type": "code",
      "metadata": {
        "id": "EI9v8I939kqw"
      },
      "source": [
        "f2 = FileContent2.split()"
      ],
      "execution_count": 21,
      "outputs": []
    },
    {
      "cell_type": "code",
      "metadata": {
        "id": "qv8p-ptnjKjP"
      },
      "source": [
        "f3 = FileContent3.split()"
      ],
      "execution_count": null,
      "outputs": []
    },
    {
      "cell_type": "markdown",
      "metadata": {
        "id": "CotQc9ZQnN7E"
      },
      "source": [
        "- **Applying difflib functions to compare the docments**"
      ]
    },
    {
      "cell_type": "code",
      "metadata": {
        "colab": {
          "base_uri": "https://localhost:8080/"
        },
        "id": "O48YHfhMjpzv",
        "outputId": "9c49fd1e-9c0b-4d28-b1b3-acc99d2d94a3"
      },
      "source": [
        "seq_mat = difflib.SequenceMatcher()\n",
        "\n",
        "seq_mat.set_seqs(f2, f3)\n",
        "print(\"Similarity Ratio            : {}\".format(seq_mat.ratio()))"
      ],
      "execution_count": null,
      "outputs": [
        {
          "output_type": "stream",
          "name": "stdout",
          "text": [
            "Similarity Ratio            : 0.7240833553152203\n"
          ]
        }
      ]
    },
    {
      "cell_type": "code",
      "metadata": {
        "id": "ot6wEagZUSQv"
      },
      "source": [
        "listt = []"
      ],
      "execution_count": null,
      "outputs": []
    },
    {
      "cell_type": "code",
      "metadata": {
        "colab": {
          "base_uri": "https://localhost:8080/"
        },
        "id": "3Sln_QgF438g",
        "outputId": "12d8fa9e-9480-482a-c66c-6192c921b9d0"
      },
      "source": [
        "si = difflib.SequenceMatcher(None, FileContent3, FileContent2)\n",
        "for tag, i1, i2, j1, j2 in si.get_opcodes():\n",
        "  listt.append(tag)\n",
        "  print('{:7}   FileContent3[{}:{}] --> FileContent2[{}:{}] {!r:>8} --> {!r}'.format(\n",
        "  tag, i1, i2, j1, j2, FileContent3[i1:i2], FileContent2[j1:j2]))"
      ],
      "execution_count": null,
      "outputs": [
        {
          "output_type": "stream",
          "name": "stdout",
          "text": [
            "replace   FileContent3[0:85] --> FileContent2[0:88] 'the students let us start the first letter of this course this is basically a online ' --> '\\ufeffdear students let us start the first lecture of this course this is basically a online\\n'\n",
            "equal     FileContent3[85:172] --> FileContent2[88:175] 'course so therefore you need to be very clear about what you are going to learn and how' --> 'course so therefore you need to be very clear about what you are going to learn and how'\n",
            "replace   FileContent3[172:173] --> FileContent2[175:176]      ' ' --> '\\n'\n",
            "equal     FileContent3[173:259] --> FileContent2[176:262] 'you are going to be evaluated first of all this is a course on phase transformation in' --> 'you are going to be evaluated first of all this is a course on phase transformation in'\n",
            "replace   FileContent3[259:355] --> FileContent2[262:358] ' materials and i will be teaching all the lectures and it is a thirty lecture course that means ' --> '\\nmaterials and i will be teaching all the lectures and it is a thirty lecture course that means\\n'\n",
            "equal     FileContent3[355:373] --> FileContent2[358:376] 'there will be sixt' --> 'there will be sixt'\n",
            "replace   FileContent3[373:374] --> FileContent2[376:377]      'e' --> 'y'\n",
            "equal     FileContent3[374:418] --> FileContent2[377:421] ' twenty five minutes lecture and every week ' --> ' twenty five minutes lecture and every week '\n",
            "replace   FileContent3[418:431] --> FileContent2[421:476] 'you will be e' --> 'will be i suppose to i am not\\nsure now about four to si'\n",
            "equal     FileContent3[431:432] --> FileContent2[476:477]      'x' --> 'x'\n",
            "replace   FileContent3[432:475] --> FileContent2[477:843] 'posed to i am not sure now about four to si' --> ' lectures so that means about two to three hours of lectures\\nso myself is professor biswas and i am a faculty member at the department of material science\\nengineering of iit kanpur so thats the details about me my email address is available on\\nthe screen you can daily write to me whenever you have any serious problems and in addition\\nto that to handle the course e'\n",
            "equal     FileContent3[475:476] --> FileContent2[843:844]      'x' --> 'x'\n",
            "replace   FileContent3[476:703] --> FileContent2[844:1268] ' lectures so that means about two to three hours of lectures so myself is persummiswas and i am a faculty member at the department of material science engineering opiitianpull so thuts the details about me my email address is a' --> 'ams and also grading appear answer sheets i know this will\\nbe done online will be taken care by the teaching assistance\\nso two of my students they will be handling that so they are actually the main ah person\\nwill be handling your questions to my write first one is kushbu kushbu tiwari is my pg\\nand second one is reshma reshma is also my pg student so they will be handling all your\\nthe questions in the discussion forum ob'\n",
            "equal     FileContent3[703:704] --> FileContent2[1268:1269]      'v' --> 'v'\n",
            "replace   FileContent3[704:759] --> FileContent2[1269:1285] 'ailable on the screen you can dialaly write to me whene' --> 'iously they are '\n",
            "equal     FileContent3[759:762] --> FileContent2[1285:1288]    'ver' --> 'ver'\n",
            "replace   FileContent3[762:769] --> FileContent2[1288:1417] ' you ha' --> 'y difficult and i will also participate\\nand also they will be handling your question paper and grading so my task will be to deli'\n",
            "equal     FileContent3[769:771] --> FileContent2[1417:1419]     've' --> 've'\n",
            "replace   FileContent3[771:890] --> FileContent2[1419:1579] ' any serious problems and in addition to that to handle the courses and also grading of your answer science although i ' --> 'r\\nall the lectures and then this will be uploaded in to nptel website so that you can observe\\nand read or or listen online whatever is whatever way you can thin'\n",
            "equal     FileContent3[890:891] --> FileContent2[1579:1580]      'k' --> 'k'\n",
            "replace   FileContent3[891:935] --> FileContent2[1580:1666] 'now this will be all done all line will be t' --> ' about it\\nnow a days also there is another provision all my lectures whatever i am spe'\n",
            "equal     FileContent3[935:937] --> FileContent2[1666:1668]     'ak' --> 'ak'\n",
            "replace   FileContent3[937:1078] --> FileContent2[1668:2062] 'en care by the teaching assistems so to my students they will be handling that so they are actually the main person who will be handling your' --> 'ing will\\nbe again taken down or written by some experts so we are in the process of finding out those\\nexperts on my earlier course on phase transformation materials similarly we will do it for you\\nalso so that you dont need to listen you can actually read all this lectures notes so before\\nthat happens we are going to only listen this lectures available on the nptel forum and\\nalso you can ask'\n",
            "equal     FileContent3[1078:1089] --> FileContent2[2062:2073] ' questions ' --> ' questions '\n",
            "replace   FileContent3[1089:1126] --> FileContent2[2073:2151] 'to my right first one i cospo chospot' --> 'in the discussion forum and so thats about it and there email\\naddress is are g'\n",
            "equal     FileContent3[1126:1128] --> FileContent2[2151:2153]     'iv' --> 'iv'\n",
            "replace   FileContent3[1128:1242] --> FileContent2[2153:2282] 'aris is my guys students and second one is due p due mis also my panel i student so they will be handling all your' --> 'en and i have carefully removed the phone numbers because this is\\nwhere things become very difficult to handle so if you have any'\n",
            "equal     FileContent3[1242:1253] --> FileContent2[2282:2293] ' questions ' --> ' questions '\n",
            "replace   FileContent3[1253:1277] --> FileContent2[2293:2401] 'in a discussion forum ob' --> 'you can ask them\\nask me also or you can put it on the discussion forum ok you know like any things in life\\ne'\n",
            "equal     FileContent3[1277:1278] --> FileContent2[2401:2402]      'v' --> 'v'\n",
            "replace   FileContent3[1278:1294] --> FileContent2[2402:2427] 'iously they are ' --> 'ery course has an objecti'\n",
            "equal     FileContent3[1294:1296] --> FileContent2[2427:2429]     've' --> 've'\n",
            "replace   FileContent3[1296:1374] --> FileContent2[2429:3191] 'ry difficult then i will also participate and also they will be handling your ' --> ' and this objective has to be very clear before you start the\\ncourse\\nso present course actually will deal with basics of transformations in materials and\\nas i said in my introduction video already you have seen probably that phase transformation\\nis everywhere present in the normal whether you are talking about materials ceramics polymers\\nor you are talking about real life phase transformation is present that how do we deal with phase\\ntransformation that is what you will be taught because thats what is important in your endower\\nto learn phase transformation so using these three things one is your thermodynamics\\nthen kinetics and some basic aspect of material sands like crystal structures and interfaces\\nwe are going to study various solid to solid and li'\n",
            "equal     FileContent3[1374:1376] --> FileContent2[3191:3193]     'qu' --> 'qu'\n",
            "replace   FileContent3[1376:1410] --> FileContent2[3193:3233] 'estion paper and reading so its as' --> 'id to solid phase transformation as\\nyou '\n",
            "equal     FileContent3[1410:1411] --> FileContent2[3233:3234]      'k' --> 'k'\n",
            "replace   FileContent3[1411:1427] --> FileContent2[3234:3264] ' will be to deli' --> 'now this is our subject and co'\n",
            "equal     FileContent3[1427:1430] --> FileContent2[3264:3267]    'ver' --> 'ver'\n",
            "replace   FileContent3[1430:1523] --> FileContent2[3267:3320] ' all the lectures and then this will be uploaded these that put website so that you can obser' --> 'ing that in thirty lectures is not an easy task\\nso ob'\n",
            "equal     FileContent3[1523:1524] --> FileContent2[3320:3321]      'v' --> 'v'\n",
            "replace   FileContent3[1524:1554] --> FileContent2[3321:3368] 'e and read or or or learn what' --> 'iously we must be selected we cannot teach you '\n",
            "equal     FileContent3[1554:1558] --> FileContent2[3368:3372]   'ever' --> 'ever'\n",
            "replace   FileContent3[1558:1566] --> FileContent2[3372:3392] ' me what' --> 'ything and to learn '\n",
            "equal     FileContent3[1566:1570] --> FileContent2[3392:3396]   'ever' --> 'ever'\n",
            "replace   FileContent3[1570:1587] --> FileContent2[3396:3479] ' way you can thin' --> 'ything\\nyou need to have some basic idea ah what i put it as course pre requisites o'\n",
            "equal     FileContent3[1587:1590] --> FileContent2[3479:3482]    'k a' --> 'k a'\n",
            "replace   FileContent3[1590:1632] --> FileContent2[3482:3518] 'bout it nowadays also there is another pro' --> 'nd this\\npre requisites are should ha'\n",
            "equal     FileContent3[1632:1633] --> FileContent2[3518:3519]      'v' --> 'v'\n",
            "replace   FileContent3[1633:1660] --> FileContent2[3519:3541] 'ision all my lectures whate' --> 'e preferably should ha'\n",
            "equal     FileContent3[1660:1662] --> FileContent2[3541:3543]     've' --> 've'\n",
            "replace   FileContent3[1662:1673] --> FileContent2[3543:3555] 'r i am spea' --> ' some basic '\n",
            "equal     FileContent3[1673:1674] --> FileContent2[3555:3556]      'k' --> 'k'\n",
            "replace   FileContent3[1674:1694] --> FileContent2[3556:3801] 'ing will be again ta' --> 'nowledge on basic\\nmaterial science that most of the students in methodology or material science normally\\nhave thermodynamics especially with thermodynamics functions and their relationships and then\\nsome idea about phase diagrams and diffusion o'\n",
            "equal     FileContent3[1694:1695] --> FileContent2[3801:3802]      'k' --> 'k'\n",
            "replace   FileContent3[1695:1722] --> FileContent2[3802:6485] 'en down or written by some ' --> '\\nso ah i have already ah checked on different courses in nptel but by mean by different\\nperson is that there are some courses which are videos some courses which are web some\\ncourses which are massive open online so basic material science is already being taught by\\nsome faculty members thermodynamics is already being available and phase diagram i myself\\nwas develop a course nil just one year back diffusion is also partly taught so therefore\\nyou can actually ah clear your doubts while reading these lecture ok ah this is the full\\nah rather all the description of the all the lectures ok i dont know whether everything\\nis coming in this scheme or not but any way most important thing is that we are going\\nto talk about some very ah at the beginning where we going to talk give you some idea\\nabout free energy because that is the thermodynamic part of the phase diagram so we will show\\nyou the calculation of delta g of various transformations ok then we will talk about\\nquad derivative of interfaces interfaces means liquid solids gren gren interface interface\\ninter phase interfaces this are all parts of thermodynamics\\nthen you have to go in to kinetics thats the nucleation because nucleation is what the\\nstarting point of phase transformations so therefore theorem nucleation homogeneous heterogeneous\\nnucleation and nucleation on the surfaces grains and even clan corners gen edges every\\nwhere it will be dealt with as you know nucleation itself is the subject so there that we must\\nbe very ah you know you have to very careful about what you are going to talk about its\\ni wont be able to tell you every details of the nucleation but whatever element we will\\ndiscuss then we are going to start the first of the phase transformation that is on solidification\\nas you see here solidification is a liquid to solid phase transformations then we will\\ntalk about growth during different aspects like thermal activated growth interface controlled\\ngrowth diffusion controlled growth thats why you need to know as well as coupled growth\\nand you take to array you take the transformation then we will talk about little bit about transformation\\nkinetics in terms of different models johnson mehl and avrami models and some amount of\\ngas thermal phase transformations then we will simply go on to different solid phase\\ntransformations like precipitation recrystallisation martensitics spinodal decompositions and we\\ntalk about isothermal and continuous transformations thats itself will be sufficient enough to\\ncall off thirty lectures ok\\nso ah this is important that you know what we are going to be taught at the beginning\\nso that you can prepare yourself so we are going to ah follow e'\n",
            "equal     FileContent3[1722:1723] --> FileContent2[6485:6486]      'x' --> 'x'\n",
            "replace   FileContent3[1723:1776] --> FileContent2[6486:6700] ' parts so we are in the process of finding out those ' --> 'actly the same way things\\nare given on the right side i have also listed down number of lectures will be spent on each\\ntopic now comes in very important aspects because in a massive open online course you\\nwill be e'\n",
            "equal     FileContent3[1776:1777] --> FileContent2[6700:6701]      'x' --> 'x'\n",
            "replace   FileContent3[1777:2030] --> FileContent2[6701:6710] ' parts for my earlier course and phase transformation materials similarly based will do it for you also so that you do these need to listen you can actually read all these lectures none so before that happens you are going to only listen this lectures a' --> 'posed to '\n",
            "equal     FileContent3[2030:2031] --> FileContent2[6710:6711]      'v' --> 'v'\n",
            "replace   FileContent3[2031:2080] --> FileContent2[6711:6781] 'ailable on the empetrial form and also you can as' --> 'ideo lectures or the online lectures you must have some amount of you\\n'\n",
            "equal     FileContent3[2080:2081] --> FileContent2[6781:6782]      'k' --> 'k'\n",
            "replace   FileContent3[2081:2082] --> FileContent2[6782:8444]      ' ' --> 'now text book knowledge so therefore two important text books which are carried from\\nour library ah is this first one which is which is here is written on that is phase\\ntransformation in metals and alloys classic text book by d a porter and k e easterling\\nand the recent edition also has come with a new author are all the problems are solved\\nmr ah doctor m y sherif this is available in india not very expensive book you can read\\nthat and the other book is written by two of my past colleagues although i have never\\nmet them but though are iit kanpur this book is phase transformations in materials and\\nby professor a k jena and professor m c chaturvedi both were at iit kanpur\\nso ah when this books written there there were ah jena was in kanpur ok so this two\\nbooks will be a basic text book for the course and anyone any of these books will be good\\nfor you you can by this books or you can actually copy from different libraries in the in the\\ndifferent parts of the book you can copy from different libraries or if you if you want\\nyou actually even ah you know get by that on different online stores correct so thats\\nabout the basic part of the course i think before i could move on to the next portion\\nof my ah lecture why the phase transformation is delivered let me tell you you will be given\\nah assignments on every week and i think assignments are normally uploaded on thursday and because\\nmonday wednesday monday to wednesday will be exposed to the lectures and after that\\nyou will be i will be ah my t s will be uploading the assignments and you will be given about\\none weeks time to complete the assignments because assignments will be online so the\\n'\n",
            "equal     FileContent3[2082:2092] --> FileContent2[8444:8454] 'questions ' --> 'questions '\n",
            "replace   FileContent3[2092:2168] --> FileContent2[8454:8546] 'in the discussion forum and so that s about it and their imular deses are gi' --> 'will be ah multiple choice type or may be fill fill in the blanks type as\\nassignment will ha'\n",
            "equal     FileContent3[2168:2170] --> FileContent2[8546:8548]     've' --> 've'\n",
            "replace   FileContent3[2170:2177] --> FileContent2[8548:8678] 'n and i' --> ' a weightage of fifty percent weightage and at the end of this semester\\nyou will be taking an end some exam and we are planning to'\n",
            "equal     FileContent3[2177:2183] --> FileContent2[8678:8684] ' have ' --> ' have '\n",
            "replace   FileContent3[2183:2197] --> FileContent2[8684:8807] 'carefully remo' --> 'it online so far if i\\ndont change my decisions or something else is happens otherwise it will be online and\\nthat will be ha'\n",
            "equal     FileContent3[2197:2198] --> FileContent2[8807:8808]      'v' --> 'v'\n",
            "replace   FileContent3[2198:2253] --> FileContent2[8808:9153] 'ed the phone numbers because this is why things become ' --> 'ing a fifty percent weightage\\nalthough ah i am not keeping any pass marks for this course but you can interdentally\\nconsider if you are getting less than about say thirty percent of the marks then you will\\nnot be able to pass this course and those who will be successfully completing this course\\nby taking exams and getting good marks will be gi'\n",
            "equal     FileContent3[2253:2255] --> FileContent2[9153:9155]     've' --> 've'\n",
            "replace   FileContent3[2255:2290] --> FileContent2[9155:9236] 'ry difficult to handle so if you ha' --> 'n certification from the nptel as you\\nknow so that way i expect that you will be '\n",
            "equal     FileContent3[2290:2292] --> FileContent2[9236:9238]     've' --> 've'\n",
            "replace   FileContent3[2292:2297] --> FileContent2[9238:9630]  ' any ' --> 'ry serious learner and you will be also\\nable to solve this problems if incase you have difficulties you can always discuss you\\ncan always use the discussion forums or you can write emails you can always bring it to\\nthe ah instructor all the t s so that we can make it clear to you thats very important\\nbecause unless and until you know the things very well you will not be able to answer the\\n'\n",
            "equal     FileContent3[2297:2307] --> FileContent2[9630:9640] 'questions ' --> 'questions '\n",
            "replace   FileContent3[2307:2317] --> FileContent2[9640:9687] 'you can as' --> 'now ah in the next few slides i am going to tal'\n",
            "equal     FileContent3[2317:2319] --> FileContent2[9687:9689]     'k ' --> 'k '\n",
            "replace   FileContent3[2319:2326] --> FileContent2[9689:9802] 'them as' --> 'about what are the relevance\\nof phase transformation materials development then why do you study in any course i '\n",
            "equal     FileContent3[2326:2327] --> FileContent2[9802:9803]      'k' --> 'k'\n",
            "replace   FileContent3[2327:2381] --> FileContent2[9803:10012] ' me also or you can put it on the discussion form you ' --> 'now\\nthat many of you do not exposed by the instructor in the same way you must have an idea why\\nyou are studying this course what is the need well phase transformation is as i said is\\nrepresented environment o'\n",
            "equal     FileContent3[2381:2382] --> FileContent2[10012:10013]      'k' --> 'k'\n",
            "replace   FileContent3[2382:2388] --> FileContent2[10013:10034] 'now li' --> '\\nthis slide i have ta'\n",
            "equal     FileContent3[2388:2390] --> FileContent2[10034:10036]     'ke' --> 'ke'\n",
            "replace   FileContent3[2390:2411] --> FileContent2[10036:10252] ' any things in life e' --> 'n from the literature you know thats what i am going to answer to\\nyou why study phase transformation material science ok you know what we are actually we\\nlook material for the application in in any case finally we ha'\n",
            "equal     FileContent3[2411:2413] --> FileContent2[10252:10254]     've' --> 've'\n",
            "replace   FileContent3[2413:2431] --> FileContent2[10254:13457] 'ry course as an ob' --> ' to think our application\\nunless and until this material is applied engineering point of view we dont find any\\nreason to study scientific point of view one can study so application means we must know\\nthat properties all kinds of properties so there is a physical mechanical electronic\\nelectrical magnetic depending on the applications so property or properties of a material is\\nare estimated very very rigorously to find an potential applications this is true for\\neven a new materials when its developed so now question is this properties as i said\\nmechanical chemical electrical magnetic thermal you can even list on many more properties\\nof the material depends on structure and thats why actually real problem comes structure\\nhas land scape you can simply say atomic structure atomic structure is the smallest structure\\nyou can think about it atom and nucleus infact that is what dictates most of the properties\\nare to material but that is not all that is what in to this is what you must know very\\nclearly thats not all\\nso structure means it can be atomic structure molecular structure grain structure phase\\ntrans distribution and defects ok so we have basically i have listed down from the bottom\\nup the atom is smallest theses and then we have grains and other things so you must have\\ni am stressing again you must have an good idea about this structures to correlate with\\nthe properties because it is important that the properties are primarily dictated by the\\nstructure so if i know the structure i can dictate the properties so you got the correlation\\nright ah very logically speaking we made materials rather we use processing techniques to make\\nmaterials and this processing techniques allow you to control structure processing technique\\nmeans what you can start with the liquid and solidify that is what is solidification you\\ncan start with the metal piece deform by rolling forging exclusion whatever different means\\nso you actually process or you can actually deposit thin film you can actually you surface\\ntreatment techniques many things we do in the real ah now processing of materials they\\nhave a direct connection with this structure\\na structure has a direct link with the properties so as you see here these actually are variables\\nfor the processing temperature pressure or stress strain or volume and chemical composition\\nfor the alloys you can change chemical composition by making different alloys so these are my\\nvariables in processing and by applying these variables or combination of variables i generate\\nor i make materials and manufacture materials and this processing variables controls the\\nstructure and structure controls the properties so therefore these three are linked very clearly\\nthey are linked they are not separate or they are not independent things they are connected\\nto each other these are the of these three important pillars of material science processing\\nstructure and property but finally where to we look for finally we look for what is known\\nas performance if you are studying in a course syllabus in a course you are finally evaluated\\non performance similarly materials are evaluated in terms of performance if i put a tire in\\nyour car that means the ma'\n",
            "equal     FileContent3[2431:2432] --> FileContent2[13457:13458]      'j' --> 'j'\n",
            "replace   FileContent3[2432:2435] --> FileContent2[13458:13505]    'ect' --> 'or performance is the tire should be able to dr'\n",
            "equal     FileContent3[2435:2439] --> FileContent2[13505:13509]   'ive ' --> 'ive '\n",
            "replace   FileContent3[2439:2450] --> FileContent2[13509:16534] 'and thissub' --> 'the take\\nthe car from one place to another without any problems but you know tires should vary\\nfrom a some ah are twin tire in the in the foreign countries in the the eyes tire which\\nwill travel on are different\\nso that means performance indeed are actually connected to all these three things processing\\nstructure and the properties and that is what is important this chart which is very famous\\nin material science you will find in many books is known as the material tetrahedron\\nbecause they are actually looks like a tetrahedron so finally where does the phase transformation\\ncomes it is in the structure we modify the structure we modify the atomic structure we\\nmodify grain structure we modify the various by phase transformation so therefore phase\\ntransformation are directly linked with processing and also indirectly connected with the properties\\nand thats why it is a very important course in the material science engineering you must\\nunderstand that without knowing the or phase transformations you cannot control material\\nproperties ok\\nso ah phase transformation or phase equilibria or thermodynamics is the basis for understanding\\na material response to change in temperature pressure composition i must accept this is\\nslide i have taken from web this is not mine thus the critical link between processing\\nand microstructure requires a knowledge of the relevant thermodynamics principles and\\nthey are the basis for phase transformations so you understand now why we are actually\\nstudying the phase transformations ok now question is this can i relate it to real applications\\ni have taken four applications again i taken from the internet sites first one is in air\\nplane ok air plane is the very important ah mode of transport from one part of the world\\nto other part and you know the material which is used in the air plane is an aluminum copper\\nalloy if you dont know you can actually check on the books this is the classical alloy aluminum\\nfour point five to four point seven percent copper known as dual lumen in the in the trend\\nname and this is a very stable alloy from forty five degree celsius to minus sixty five\\ndegree celsius or even minus eighty degree celsius i dont know how many of you read news\\nthat there is a research laboratory in the southern hampshire that is in hm antarctica\\nand sometimes if somebodies yield in the research laboratories in winter time they are actually\\ntaken from that place by plane to the the different country especially in southern america\\nand such parts but it will be extremely cold minus sixty to minus eighty degree celsius\\ntemperature so a plane flying there the material has to be stand such a low temperature\\nso this wonderful material which is prepared long back is used for the plane body and important\\nphase transformation which is happening here is a precipitation of certain phase in aluminum\\nalloys and this precipitates provide the strength from high to low temperature if you travel\\ncarefully on the planes you will find especially in the wings deviated '\n",
            "equal     FileContent3[2450:2451] --> FileContent2[16534:16535]      'j' --> 'j'\n",
            "replace   FileContent3[2451:2455] --> FileContent2[16535:16550]   'ecti' --> 'oin and this de'\n",
            "equal     FileContent3[2455:2456] --> FileContent2[16550:16551]      'v' --> 'v'\n",
            "replace   FileContent3[2456:2466] --> FileContent2[16551:16565] 'e has to b' --> 'iated\\njoins ar'\n",
            "equal     FileContent3[2466:2473] --> FileContent2[16565:16572] 'e very ' --> 'e very '\n",
            "replace   FileContent3[2473:2626] --> FileContent2[16572:16687] 'clear before you start a course sopresent course actually we will deal with basic surface transformations and materials as it said in in our introduction' --> 'strong and low temperatures because of the precipitation so we are going\\nto discuss about that ah next one which is'\n",
            "equal     FileContent3[2626:2628] --> FileContent2[16687:16689]     ' v' --> ' v'\n",
            "replace   FileContent3[2628:2647] --> FileContent2[16689:17370] 'adio already you ha' --> 'ery important on the right side is air turbine\\nbasically it can be used in the plane the high speed plane or in when in power generators\\nand they contained nickel based super alloys this wonderful material this is nickel aluminum\\nalloy with consisting of many other elements which i will not discuss in detail now but\\nagain the real high temperature properties because this this is turbine so thereforth\\nthis has to be instant high temperature high temperature properties equi based properties\\nof this material is basically because of precipitation of n i three a l type l one to precipitates\\nwhat we known as in a nickel matrix fcc matrix and this unique precipitates actually pro'\n",
            "equal     FileContent3[2647:2648] --> FileContent2[17370:17371]      'v' --> 'v'\n",
            "replace   FileContent3[2648:2693] --> FileContent2[17371:17435] 'e seen probably that past transformation is e' --> 'ide\\nthe strength ok the thats thats that means precipitation is '\n",
            "equal     FileContent3[2693:2697] --> FileContent2[17435:17439]   'very' --> 'very'\n",
            "replace   FileContent3[2697:2719] --> FileContent2[17439:17507] 'uler present in the en' --> ' important aspect to\\nunderstand so thats what is will be part of sil'\n",
            "equal     FileContent3[2719:2720] --> FileContent2[17507:17508]      'v' --> 'v'\n",
            "replace   FileContent3[2720:2748] --> FileContent2[17508:17542] 'ironment whether you are tal' --> 'ers\\nthen on this side left side i '\n",
            "equal     FileContent3[2748:2749] --> FileContent2[17542:17543]      'k' --> 'k'\n",
            "replace   FileContent3[2749:2799] --> FileContent2[17543:17634] 'ing about metals ceramics pollutants or youare tal' --> 'now may be your right this is the rails which is used\\nto as a phi splay on the railway trac'\n",
            "equal     FileContent3[2799:2800] --> FileContent2[17634:17635]      'k' --> 'k'\n",
            "replace   FileContent3[2800:2967] --> FileContent2[17635:17720] 'ing about real life these transformations present but how do we deal is phase transformation that is what we will be taught because that what is important in your ende' --> 's this actually steels basically the steel of perlite\\nwhat you known as if you dont h'\n",
            "equal     FileContent3[2967:2969] --> FileContent2[17720:17722]     'av' --> 'av'\n",
            "replace   FileContent3[2969:3064] --> FileContent2[17722:17861] 'or to learn phase transformations so using these three things one is your own thermodynamics in' --> 'e any idea perlites perlite is nothing but a utech transform\\nproduct of gamma solution of carbon in iron and so therefore you must you must'\n",
            "equal     FileContent3[3064:3066] --> FileContent2[17861:17863]     ' k' --> ' k'\n",
            "replace   FileContent3[3066:3117] --> FileContent2[17863:18401] 'inetics and some basic aspect of material sensil li' --> 'now how\\nthis transformation happens whether we can control it because the properties of the rail\\ndepends on that and remember rail is is ah what is allow you to allowing us to move trains\\nso therefore they are they are subjected to stress temperature harsh environment and many\\nother things so they must have combinations of properties so that they can start the purpose\\nand these is basically done by controlling the phase transformations on the right side\\nthis is the end the last example is basically the titanium based align engines o'\n",
            "equal     FileContent3[3117:3118] --> FileContent2[18401:18402]      'k' --> 'k'\n",
            "replace   FileContent3[3118:3174] --> FileContent2[18402:18616] 'e cystal structures and interfaces we are going to study' --> ' remember\\nthis engines are not used in car they will be used in planes or may be in some other\\nstrategic applications like ah turb hm like the submarines and so\\nso these engines actually has many plus like titanium'\n",
            "equal     FileContent3[3174:3177] --> FileContent2[18616:18619]    ' va' --> ' va'\n",
            "replace   FileContent3[3177:3201] --> FileContent2[18619:20361] 'rious solid to solid and' --> 'lves titanium mmcs springs titanium\\nmnc cramsups many others things springs and there are titanium aluminites you know titanium\\nout of these all thirteen m alloys the most important alloy which is extensively used\\nin titanium sixth aluminum four vanadium and it it we can control the micro structure of\\nthese by many ways creating alpha titanium alpha plus beta titanium beta of titanium\\nalloys so ah the properties will vary depending on whether its alpha alpha plus beta alpha\\nor beta remember alpha is hexagonal prospect structure beta is bcc structure so titanium\\nactually ah room temperature below what to eight hundred eighty two degree celsius temperature\\nis basically alpha above that it is a this i mean bcc structure so one can actually play\\naround in the temperature zone by again controlling the prosaic parameters to create different\\nkinds of structures to get different properties\\nso all these applications dont think that they are similar alpha alloys or beta alloys\\nalpha plus beta alloys they can be combination of many of these then the actual real problem\\nis how do i control this micro structures by controlling the processing parameters so\\nremember these four examples are not exhausted one can find many many examples in the real\\nlife as i told you in my first introduction lectures the basic example you always find\\nis in the country india when hot summer days you want to drink cold water so you can always\\nput the cold water inside the fridge and get it cooled but it is real advantage is that\\nif i take a glass of water and add a ice cube taken from the deep freezer immediately the\\nice cube will start melting it down or getting dissolved in the water both are actually h\\ntwo o one is solid h two o and the other is'\n",
            "equal     FileContent3[3201:3209] --> FileContent2[20361:20369] ' liquid ' --> ' liquid '\n",
            "replace   FileContent3[3209:3257] --> FileContent2[20369:20729] 'to solid phase transformation as we no this is a' --> 'h two o\\nso therefore by melting it down the heat is getting transferred to the liquid and then\\nthe water gets cool down you will enjoy the drinks so this is the example which is present\\nwhich you are actually doing it but what is important you for you to understand how these\\ntransformation happened how these solid become liquid liquid become solid whether is'\n",
            "equal     FileContent3[3257:3259] --> FileContent2[20729:20731]     ' v' --> ' v'\n",
            "replace   FileContent3[3259:3266] --> FileContent2[20731:20859] 'ast sub' --> 'ery\\nsimple or no remember what is from the most complex systems in the world and no unlike\\nmetal like more complex so ah let me '\n",
            "equal     FileContent3[3266:3267] --> FileContent2[20859:20860]      'j' --> 'j'\n",
            "replace   FileContent3[3267:3277] --> FileContent2[20860:21007] 'ect and co' --> 'ust stop here before i go to the next part of\\nthe lecture or the next class so you understand in a nutshell that phase transformation is\\nbasically '\n",
            "equal     FileContent3[3277:3280] --> FileContent2[21007:21010]    'ver' --> 'ver'\n",
            "replace   FileContent3[3280:3333] --> FileContent2[21010:21040] 'ing that in thirty lectures is not an easy task so ob' --> 'y important from the perspecti'\n",
            "equal     FileContent3[3333:3334] --> FileContent2[21040:21041]      'v' --> 'v'\n",
            "replace   FileContent3[3334:3381] --> FileContent2[21041:21448] 'iously we must be selected we cannot teach you ' --> 'e of material science and technology and many\\nof these products which you are actually using these their properties are controlled by controlling\\nphase transformations we can do that by using different processing parameters temperature\\nstress strain compositions and by doing that we alter them micro structure the atomic structure\\nand by doing that you will create a different properties so that is the rel'\n",
            "equal     FileContent3[3381:3383] --> FileContent2[21448:21450]     'ev' --> 'ev'\n",
            "replace   FileContent3[3383:3478] --> FileContent2[21450:21532] 'erything and to learn everything you need to have some basic idea what i put it as course perri' --> 'ance of phase\\ntransformation course and which will be exposed to in the next subse'\n",
            "equal     FileContent3[3478:3480] --> FileContent2[21532:21534]     'qu' --> 'qu'\n",
            "replace   FileContent3[3480:21067] --> FileContent2[21534:21546] \"icite or at this peracuosit are you should have peperabil use up some basic knowledge on basic material science that most of the students in metallurgy or material so normally have thermodynnamics especially the thermonynic functions and their relationships and then some ideas phase dicoms and diffusion or so i have already checked on different portions or way in pteal but a means wy different person is that there are some courses video or some discovered based some courses which are massive open allline so basic material sense is already been taught by some fecal numbers thermodynamics has already been available and phase are ommi yourself has develop a course and these just one your back definition is also piraly taught so therefore you can actually clear your doubts by while reading these lecture or this is the full whether all the are of the all the lectures or a are no whether everything is coming in the science or not but anyway most important think is that we are going to talk about some very at the beginning we are going to talk give you some ideas about fee based because that is a therbonanis part of the phase diagram so we will show you the calculation of delta go of various transformations or then we will talk about quite a but of interfacces interfaces means liquid sal is solid solid grain grain interface interface interfaeinturfaces these areall parts of with theronynoamics that we have to go into kinetic that the nuculation because nuclation is why the starting point of phase transformations so therefore theory of necclation howmoteou etegean eculations and nicculation on the surface is grains and even gain corner gain us everywhere it will be dealt with and assume your ecleasion itself a subject so there therefore must be a very an now we have to be very careful about what you are going to talk about it a would be going to tell you every details of the niculation but whatever relevant we will discuss that we are going to start the first of the first transfertion that is om solidification as you see here sitification is an liquid to solid phase transformations then we will talk about growth during different aspects like thermal activated god interface control go efficient control go that ' s why you need to know and cassil as couple goe then you take toeutectric transformations then we will talk about little bit about transformation kinetics in terms of these model con enmel and from models and some amount of these thermal phase transformations then we simply go on to different also to solitla transforsioni presipitations rectliz and matisides spinagtal dey composition and a with about stermaland continuous transformations that itself will be sufficient and a to cover tatilectures or so this is important that you know what you are going to be taught at the beginning so that you can prepare yourself so we are going to follow exactly the same way things are given ond the right side i have also passed down number of lectures will be spend on each topic now comes in very important aspects because in the massive open allline course you will be exposed to radio lectures or the given lectures you must have some amount of you know textbook knowledge so therefore to important texbook which in have carried from our given is this first one which is which is here is written on that is phase transformation in metals and binding classic textbook by a a porter and a is telling and the grade addition also has come with a new author all the poblems progress solved by mister sductor aim based this is available in in not very expensive book you can read that and the other book is written by to my past colleagues although in have never met them butthey are its anpol this book is passed ransformation is in materials and by propessor or gene and due my so thropey both or a tecanpuo so when these books are written there all therwere data was in conpul or so these two books will be your basic textbooks for the course and anyone any of these books will be good for you you can buy these books or you can actually copy from different liabilitin in the different parts of the books can copy from different libraries or if you if you want you can actually even now get buy that on different online stories current so that about the basic part of the course before i could move into the next portion or my letter why the pace transfer sales would let me tell you you will be given assignments in every week and if think letter normally uploaded on thursday and because monday lessons to mandayto etness stay will be exposed to the lectures and after that you will be i will be or my t so will be uploading the commitments and you will be given but one text time to complete the assignments because assignments only online so the questions should be multiple choice type or may be fieling full in the blank stipe as a science to levo it is a fifty percent data and at the end of this semisster you will be taking an information exam and we are planning to have it anlline so far if i do not change my decisions or something else happens other is peall line and that will be having a fifty percent better although i am not keeping any pass marks fof this course but you can tentitively consider if you are getting less than about say thirty percent of the marks then you will not be able to pass this course and those who will be successfully complating this course by taking exams and getting good marks will be given sadification from the inpetrial as you know so that way i expect that you will be very serious prefer and you will be also able to solve these problems if a in case you have difficulties you can always discuss we can always use discussion for or you can write emails you can always bring it to the instructor all the to s so that we can make it clear to you that very important because understand you know the things very well youwould not be able to answer the questions now in the next few slides i am going to talk about what or relevant if face transformation materials eelonment and why do you study in any course i know that many of you do not exposed by the instructor in the same way you must have an idea why you are studying this course what is the need well phase transformation assisiol is presented envoroment or the slide i have taken from literature or some that is what a are going to answer to you why study phase transformation material science or you know what herein actually we look materials for the application in any case finally we have to think of application uness aantilis materi is applied engineering point of view we do it find any reason to study stentii qoan to give one can stand so application means we must know the properties all kinds of of part so there is a physical mechanical electronic electrical magnetic depending on the applications so property properly so material is are estimated very very regarsly to find and potential applications this is to per new material when it is developed so no question is this poparti as i say mechanical chemical electrical mini thermal you can evenly stond minus more propariies of the material depends on structure and that why act lateral problem come structure has length scale you can simply say atomic structure at mind structure is the smallest structure you can think about it atom and nucleus in fact that is why detailed one sonle propadisiofto material but that is not all that is what in so this is that you must know very clear that is not all so structure means it can be atmix structure molecular structure grain structure phase as distribution and defects or so we have basically have listed down from the bottom of atom is the small species and then we have grains and other things so you must have a and stress again you most these and go a good ideas about the structures to colulate to the properties because it is important that the properties are primarily dictated by this structure so if a no the taxture a can vector the properties so you got the corelition right a very logically speaking we make materials whether we use processing techniques to make materials and these pocessing techniques allow you to control structure processing techninue means what you can start with the liquid and solidifi that is why the solid you can start with a metal piece deform by rollingsurface evolution whatever different means so you actually process or you connectyou deposit in flame you can actually use surface statements techniques many things we do in the real and and processing of materials they have a direct connections with a structure and stractor as a direct link with the properties so as you see where these actually are variables for the processing temperature pressure or stress strain or volume and chemical combustion for the away you can change chemical comparison by making different always so these are the variables in processing and by applying these variables rcommunation variables and generate miles make materials or manufacturing materials and these processing variables control the structure unstructure controlser properties so the therefore these three are linked very clearly they are linked they are not separate or they are not independent things they are connected to each other the these are the bridges of these three important pillars of material science processing structure and property but finally what we look for finally we look for what is known as performance if and where you are studying in a in sylamas in a course we are finally a holelotingal performance similarly materials are related in terms of performance if and but a there in or car that means the major performance that and should be able to drive the take the car for one place to the place without any problems why you no tires will far from a summer to winter in the in the point countries and is the tires which will travel in and it are different so that means performance indeed are actually connected to all these three things processing structure and the properties and that is what is important this chart which is very famous in material science you find in many books is known as the material statehydron because they i actually looks like it is trips so finally where does the wise transformation comes it is in the structure we modify the structure we modify the atomic structure to vontify the grain structural if the phases phase transformations so therefore phase evolution a direct link with the processing and also indirectly corrected with the properties and that why it is a very important course in the material and engineering you must understand that without knowing the phase transformations you cannot control material properties or so phase transformation phericallibeof form is the basis for understanding a material respons to change in temperature pressure composition and must accept that is slide and have taken from way that is not mine thus the cskhetical link between processing and microstructure requires an knowledgeof the relevant thermodynamic principles and they are the basis force phase ransformation so you understand now why we are actually studying the phase transformations or no question if this can i relate in the real applications i have taken for application again only taken from the internate sites first one is an airplane or air plane is a very important mode of transport from one part of the wall to the other plant and you know the material which is used in the airplane is an aluminum copper alloy if you do not know you can actually take on the books there is a classical alloy elevin a four point five to for point seven percent copper known as develumin in the in the spacecraft and this is a very stable ally from forty five de celsius to minus sixty five you because or even minus a the ti cells and don to know how many of you space new so there is a does laboratory in the southern hemissphere that is in antactica and sometimes if somebody is ill in the decised laboratorieis in winter time they are actually taken from that place by plane to termelat the the different content unespecially in south america or sub parts but it will be extremely cold minus sixthief to minus eight large sel system pressures so a plane flying there the material has to withstand such a low temperature so that this one nufe material which is prepared long back is used for the plane body and important phase transformation which happening here is a precipitation of certain phase in aluminum alase and these pecifitates provide the strength from high to temperature if you travel carefully on the planes you will find especially in the wings revived joints and these related joints are very strong at low temperatures because of the precipitation so we are going to discuss about that the next one which is very important the right side is a turbine basically it can be used in the plane the high squid plane or even in but generators and they contained nickel by super is onderful material is a nickel aluminum alloy with consisting of many or elements which a will not discuss in detail now but again the real high temperature propertiis because this this is a turbine so therefore this has to is high temperature high temperature properties cubiastane properties of this material is basically because of presipitation of a a three a type a one to pecipitates what you knownas in a nickel matrix eptrisi matrix and these unique pesipitates actually provide the strength or the this that that means the pestipretation is very important aspect to understand so that is why is will be part of a syllivas then on the side left side or you know may be right this is the rails which is used to as a first plate on the relay tracks these action steels basically the steel of parallite what do we known as if you do not have any idea of parallytes pinite is nothing but a fully tectortically transform product of gamma solisulation of carbon in iron and so therefore you must we must know how this transformation happens whether can you control it because the properties of the metal depends on that remember metal is is what is allowing you to alon us to move trains so therefore they are they are subjected to serious temperature harsh movement and many other things so they must have combinations of properties so that they can serve the purpose and these is basically done by controlling the phase trans fotions on the right side this is the and the fast example is basically the titanium based ally engines or remember these engines are not used in car they will be testing in the planes or maybe in some other statiic applications like the like the submarines or so so these engines actually has many plaslect itanium balves this dineam mmc is pins that iamm sea crank up may other things springs and they are tight aluminites you know titanium out of the these thatinamalise the most important metal which is extensively used is thitinium six aluminium pole canadium and it it we can control the mattress of these by mini ways creating alphalatonium also plus beted ditenium metal tatinm alloy so the propertisill very depending on whether its alpha so plus metal but meter are alpha is x pro a structure metal is which is in structure so ratinium actually a no temperature below what to eight hundred eight to de sea system presture is basically Iran above there in is in the is metal a c structure so one can if actually play around in the temperature jone why again controlling the posting parameters to create different kinds of structures to get different properties so or these application don think that they are or similar alparallits or metal ofopen always they can be combination so many of these that the actual real problem is how do and control these microstructures by controlling the processing parameters so remember these four examples are not exhaustive one can find many many examples in real life as i told in the first introduction lectures the basic example we always find is in in in country like findings in the hot summer day you want to drink cold water so you can always put the quater inside the foreign and get it cooled but it is real advantage is that if i take a glass of water and add a ice cube taken from the dee pressure imedially that if surface will start melting it down or getting dissolved in the water both a actually and that or one is solid and the or is a liquid is so therefore by melting it down the heat in getting transfer to the liquid and then the water gets cooled down you enjoy the dry so this is the example which is present which we are actually doing it but what is important you for you to understand how this transformation happens how the solid become liquid liquid become solid whether is very simple unknown remmer what is one of the most complex systems in the would and with a unlike metal the are more complex so let me just stop here before and go to the next part of the lecture or the next class so you understand in a natural that phase transformation is basically very important from the perspectives s of material science and technology and many of these products which you are actually using the the properties are controlled by controlling phase transformations we can do that by using different pousing parametous temperature sound strain compossions and why doing that we alter the microstructure the atmix structure and by doing that you are creating different properties that is the relevance of face ansformation course and which you will be exposed to the next subsequent lectures\" --> 'ent lectures'\n"
          ]
        }
      ]
    },
    {
      "cell_type": "code",
      "metadata": {
        "id": "fqrgwj2cUci8"
      },
      "source": [
        "def CountFrequency(my_list):\n",
        " \n",
        "    # Creating an empty dictionary\n",
        "    freq = {}\n",
        "    for item in my_list:\n",
        "        if (item in freq):\n",
        "            freq[item] += 1\n",
        "        else:\n",
        "            freq[item] = 1\n",
        " \n",
        "    for key, value in freq.items():\n",
        "        print (\"% s : % d\"%(key, value))\n",
        " \n"
      ],
      "execution_count": null,
      "outputs": []
    },
    {
      "cell_type": "code",
      "metadata": {
        "colab": {
          "base_uri": "https://localhost:8080/"
        },
        "id": "imo3D5L_VFMN",
        "outputId": "895a11bc-5f36-4f5a-e8cb-b387f3d63f55"
      },
      "source": [
        "CountFrequency(listt)"
      ],
      "execution_count": null,
      "outputs": [
        {
          "output_type": "stream",
          "name": "stdout",
          "text": [
            "replace :  66\n",
            "equal :  65\n"
          ]
        }
      ]
    },
    {
      "cell_type": "markdown",
      "metadata": {
        "id": "KqzSQ87tlurL"
      },
      "source": [
        "# Applying enchant to correct only those words, which are in dictionary"
      ]
    },
    {
      "cell_type": "code",
      "metadata": {
        "id": "raKmLog0XvF4",
        "colab": {
          "base_uri": "https://localhost:8080/"
        },
        "outputId": "ebe5713c-521b-4bb9-e23c-c001cfda4709"
      },
      "source": [
        "!apt install -qq enchant\n",
        "!pip install pyenchant"
      ],
      "execution_count": 10,
      "outputs": [
        {
          "output_type": "stream",
          "name": "stdout",
          "text": [
            "The following additional packages will be installed:\n",
            "  aspell aspell-en dictionaries-common emacsen-common hunspell-en-us\n",
            "  libaspell15 libenchant1c2a libhunspell-1.6-0 libtext-iconv-perl\n",
            "Suggested packages:\n",
            "  aspell-doc spellutils wordlist hunspell openoffice.org-hunspell\n",
            "  | openoffice.org-core libenchant-voikko\n",
            "The following NEW packages will be installed:\n",
            "  aspell aspell-en dictionaries-common emacsen-common enchant hunspell-en-us\n",
            "  libaspell15 libenchant1c2a libhunspell-1.6-0 libtext-iconv-perl\n",
            "0 upgraded, 10 newly installed, 0 to remove and 40 not upgraded.\n",
            "Need to get 1,312 kB of archives.\n",
            "After this operation, 5,353 kB of additional disk space will be used.\n",
            "Preconfiguring packages ...\n",
            "Selecting previously unselected package libtext-iconv-perl.\n",
            "(Reading database ... 148492 files and directories currently installed.)\n",
            "Preparing to unpack .../0-libtext-iconv-perl_1.7-5build6_amd64.deb ...\n",
            "Unpacking libtext-iconv-perl (1.7-5build6) ...\n",
            "Selecting previously unselected package libaspell15:amd64.\n",
            "Preparing to unpack .../1-libaspell15_0.60.7~20110707-4ubuntu0.2_amd64.deb ...\n",
            "Unpacking libaspell15:amd64 (0.60.7~20110707-4ubuntu0.2) ...\n",
            "Selecting previously unselected package emacsen-common.\n",
            "Preparing to unpack .../2-emacsen-common_2.0.8_all.deb ...\n",
            "Unpacking emacsen-common (2.0.8) ...\n",
            "Selecting previously unselected package dictionaries-common.\n",
            "Preparing to unpack .../3-dictionaries-common_1.27.2_all.deb ...\n",
            "Adding 'diversion of /usr/share/dict/words to /usr/share/dict/words.pre-dictionaries-common by dictionaries-common'\n",
            "Unpacking dictionaries-common (1.27.2) ...\n",
            "Selecting previously unselected package aspell.\n",
            "Preparing to unpack .../4-aspell_0.60.7~20110707-4ubuntu0.2_amd64.deb ...\n",
            "Unpacking aspell (0.60.7~20110707-4ubuntu0.2) ...\n",
            "Selecting previously unselected package aspell-en.\n",
            "Preparing to unpack .../5-aspell-en_2017.08.24-0-0.1_all.deb ...\n",
            "Unpacking aspell-en (2017.08.24-0-0.1) ...\n",
            "Selecting previously unselected package hunspell-en-us.\n",
            "Preparing to unpack .../6-hunspell-en-us_1%3a2017.08.24_all.deb ...\n",
            "Unpacking hunspell-en-us (1:2017.08.24) ...\n",
            "Selecting previously unselected package libhunspell-1.6-0:amd64.\n",
            "Preparing to unpack .../7-libhunspell-1.6-0_1.6.2-1_amd64.deb ...\n",
            "Unpacking libhunspell-1.6-0:amd64 (1.6.2-1) ...\n",
            "Selecting previously unselected package libenchant1c2a:amd64.\n",
            "Preparing to unpack .../8-libenchant1c2a_1.6.0-11.1_amd64.deb ...\n",
            "Unpacking libenchant1c2a:amd64 (1.6.0-11.1) ...\n",
            "Selecting previously unselected package enchant.\n",
            "Preparing to unpack .../9-enchant_1.6.0-11.1_amd64.deb ...\n",
            "Unpacking enchant (1.6.0-11.1) ...\n",
            "Setting up libhunspell-1.6-0:amd64 (1.6.2-1) ...\n",
            "Setting up libaspell15:amd64 (0.60.7~20110707-4ubuntu0.2) ...\n",
            "Setting up emacsen-common (2.0.8) ...\n",
            "Setting up libtext-iconv-perl (1.7-5build6) ...\n",
            "Setting up dictionaries-common (1.27.2) ...\n",
            "Setting up aspell (0.60.7~20110707-4ubuntu0.2) ...\n",
            "Setting up hunspell-en-us (1:2017.08.24) ...\n",
            "Setting up libenchant1c2a:amd64 (1.6.0-11.1) ...\n",
            "Setting up aspell-en (2017.08.24-0-0.1) ...\n",
            "Setting up enchant (1.6.0-11.1) ...\n",
            "Processing triggers for libc-bin (2.27-3ubuntu1.2) ...\n",
            "/sbin/ldconfig.real: /usr/local/lib/python3.7/dist-packages/ideep4py/lib/libmkldnn.so.0 is not a symbolic link\n",
            "\n",
            "Processing triggers for man-db (2.8.3-2ubuntu0.1) ...\n",
            "Processing triggers for dictionaries-common (1.27.2) ...\n",
            "aspell-autobuildhash: processing: en [en-common].\n",
            "aspell-autobuildhash: processing: en [en-variant_0].\n",
            "aspell-autobuildhash: processing: en [en-variant_1].\n",
            "aspell-autobuildhash: processing: en [en-variant_2].\n",
            "aspell-autobuildhash: processing: en [en-w_accents-only].\n",
            "aspell-autobuildhash: processing: en [en-wo_accents-only].\n",
            "aspell-autobuildhash: processing: en [en_AU-variant_0].\n",
            "aspell-autobuildhash: processing: en [en_AU-variant_1].\n",
            "aspell-autobuildhash: processing: en [en_AU-w_accents-only].\n",
            "aspell-autobuildhash: processing: en [en_AU-wo_accents-only].\n",
            "aspell-autobuildhash: processing: en [en_CA-variant_0].\n",
            "aspell-autobuildhash: processing: en [en_CA-variant_1].\n",
            "aspell-autobuildhash: processing: en [en_CA-w_accents-only].\n",
            "aspell-autobuildhash: processing: en [en_CA-wo_accents-only].\n",
            "aspell-autobuildhash: processing: en [en_GB-ise-w_accents-only].\n",
            "aspell-autobuildhash: processing: en [en_GB-ise-wo_accents-only].\n",
            "aspell-autobuildhash: processing: en [en_GB-ize-w_accents-only].\n",
            "aspell-autobuildhash: processing: en [en_GB-ize-wo_accents-only].\n",
            "aspell-autobuildhash: processing: en [en_GB-variant_0].\n",
            "aspell-autobuildhash: processing: en [en_GB-variant_1].\n",
            "aspell-autobuildhash: processing: en [en_US-w_accents-only].\n",
            "aspell-autobuildhash: processing: en [en_US-wo_accents-only].\n",
            "Collecting pyenchant\n",
            "  Downloading pyenchant-3.2.1-py3-none-any.whl (55 kB)\n",
            "\u001b[K     |████████████████████████████████| 55 kB 3.2 MB/s \n",
            "\u001b[?25hInstalling collected packages: pyenchant\n",
            "Successfully installed pyenchant-3.2.1\n"
          ]
        }
      ]
    },
    {
      "cell_type": "code",
      "metadata": {
        "id": "i1z1VIx9fvxs"
      },
      "source": [
        "import enchant"
      ],
      "execution_count": 11,
      "outputs": []
    },
    {
      "cell_type": "code",
      "metadata": {
        "colab": {
          "base_uri": "https://localhost:8080/"
        },
        "id": "KueNDA6pf40y",
        "outputId": "07552add-4944-443b-feda-aee2a32cb1ca"
      },
      "source": [
        "d = enchant.Dict(\"en_US\")\n",
        "  \n",
        "type(d)"
      ],
      "execution_count": 12,
      "outputs": [
        {
          "output_type": "execute_result",
          "data": {
            "text/plain": [
              "enchant.Dict"
            ]
          },
          "metadata": {},
          "execution_count": 12
        }
      ]
    },
    {
      "cell_type": "code",
      "metadata": {
        "id": "08stqMzZf9pU"
      },
      "source": [
        "test_string = \"\""
      ],
      "execution_count": 13,
      "outputs": []
    },
    {
      "cell_type": "code",
      "metadata": {
        "colab": {
          "base_uri": "https://localhost:8080/",
          "height": 120
        },
        "id": "OoJycUnsgGTf",
        "outputId": "46f3b0ca-596f-419c-958d-8154da16600f"
      },
      "source": [
        "print(\"Hi Suraj\")\n",
        "for i in range(len(f1)):\n",
        "    if d.check(f1[i]):\n",
        "        test_string += f1[i]\n",
        "        test_string += \" \"\n",
        "    \n",
        "    else:\n",
        "        test_string += checker.correct(f1[i])\n",
        "        test_string += \" \"\n",
        "      \n",
        "test_string"
      ],
      "execution_count": 15,
      "outputs": [
        {
          "output_type": "stream",
          "name": "stdout",
          "text": [
            "Hi Suraj\n"
          ]
        },
        {
          "output_type": "execute_result",
          "data": {
            "application/vnd.google.colaboratory.intrinsic+json": {
              "type": "string"
            },
            "text/plain": [
              "\"the students let us start the first lecture of this course this is basically a online course so therefore you need to be very clear about what you are going to learn and how yes are going to be evaluated first of all this is a course on phase transformation in materials and i will be teaching all the lectures and it is a thirty lecture course that means there will be sixte twenty five minutes lecture and every week w will be exposed to i am not sure now about four to six lectures so that means about two to three hours of lectures so myself is persummiswas and i am a faculty member at the department of material sense engineering opiitianpull so thuts the details about me my email address is available on the screen you can finally write to me whenever you have any serious problems and in addition to that to handle the coursework and also grading of your answer seats although i know this will be all done all line will be taken care by the teaching assistants so two my students they will be handling that so they are actually the main person who will be handling your questions to my right first one i cospo chospotivaris is my they student and second one is res pa res his also my pan i student so they will be handling all your questions in a discussion forum obviously they are very difficult then i will also participate and also they will be handling your question paper and grading so it ask will be to deliver all the lectures and then this will be uploaded int tan metal website so that you can observe and read or coalition or learn whatever me whatever way you can think about it nowadays also there is another provision all my lectures whatever i am speaking will be again taken down or written by some x parts so we are in the process of finding out those x parts for my earlier course and phase transformation materials similarly well will do it for you also so that you do it need to listen you can actually read all these lectures bones so before that happens you are going to only listen this lectures available on the imperial form and also you can ask questions in the discussion forum and so that s about it and their similar dishes are given and i have carefully removed the phone numbers because this is why things become very difficult to handle so if you have any questions you can ask them ask me also or you can put it on the discussion formal you know like any things in life every course as an objective and this subjective has to be very clear before you start a course represent course actually we ill deal with basic surface transformations and materials as i said in in my introduction video already you have seen probably that past transformation is particular present in the environment whether you are talking about metals ceramics pollutants or youare talking about real life was transformations present but how do we deal is phase transformation that is who w will be taught because thats what is important in your endeavor to learn phase transformations so using these three things one is your o thermodynamics tin kinetics and some basic aspect of material sensual like crystal structures and interfaces we are going to study various solid o solid an liquid to solid phase transformation as we know this is a vast subject and covering that in thirty lectures is not an easy task so obviously we must be selected we cannot teach you everything and to learn everything you need to have some basic idea what i put it as course perriquicite on at this prerequisite war you should have peperabil should up some basic knowledge on basics material science that most of the students in metallurgy or material sense normally have thermodynamics especially the thermonynic functions and their relationships and then some idea phase dicoms and diffusion on so i have already checked on different portions o he in steal but y mean way different person is that there are some courses video or some furniture wave some causes which are massive open airline so basic material sense is already been taught by some fecal numbers thermodynamics has already been available and phase they ommi himself has develop a course and thereby just one year back diffusion is also poorly taught so therefore you can actually clear your doubts by while reading these lecture on this is the full whether all the reception of the all the lectures on i down know whether everything is coming in the scheme or not but anyway most important thing is that we are going to talk about some very at the beginning we are going to talk give you some idea about fee end because that is a therbonanis part of the phase diagram so we will show you the calculation of delta g of various transformations on then we will talk about quite a bit of interfaces interfaces means liquid also is solid solid grain grain interface interface interfaeinturfaces these are all parts of with theronynoamics then we have to go into kinetics thats the circulation because circulation is why the starting point of phase transformations so therefore theory of cancellation wholesome illegal calculations and circulation on the surface is grains and even can corner gen s everywhere it will be dealt with and assume younger ecleasion itself a subject so there therefore must be a very an now we have to be very careful about what you are going to talk about it i would be going to tell you every details of the circulation but whatever relevant we will discuss then were are going to start the first of the fist transfertion that is om solidification as you see here sitification is an liquid to solid phase transformations then we will talk about growth during different aspects like thermal activated god interface control go efficient control go that's why you need to know and casual as couple good then you take toeutectric transformations then we will talk about little bit about transformation kinetics in terms of three model con email and from models and some amount of he thermal phase transformations then we simply go on to different soi to certainly transmissions presipitations relax and matisides spinagtal day competitions and a wit about stermaland continuous transformations that itself will be sufficient and ap to cover structures on so this is important that you know what you are going to be taught at the beginning so that you can prepare yourself so we are going to follow exactly the same way things are given one the right side i have also resisted down number of lectures will be spend on each topic now comes in very important aspects because in the massive open airline course you will be exposed to radio lectures or the all lectures you must have some amount of you know textbook knowledge so therefore two important textbooks which i have carried from our library is this first one which is which is here is written on that is phase transformation in metals and alloys classic textbook by d a porter and k is telling and the rental addition also has come with a new author all the problems oil solved by mister abductor am drip this is available in media not very expensive book you can read that and the other book is written by two my past colleagues although i have never met them but they are its apple this book is passed transformation is in materials and by professor ask genie and prime m so thropey both er i tecanpuo so when these books are written there all therwere gene was in control on so these two books will be your basic textbooks for the course and anyone any of these books will be good for you you can buy these books or you can actually comfy from different liability in the different parts of the bookshop can copy from different libraries or if you if you want you can actually even now get buy that on different online stores current so thats about the basic part of the counseling before i could move onto the next portion ow my lecture why the pace transfer sale wet let me tell you you will be given assignments in every week and i think assessment normally uploaded on Thursday and because Monday because t mandatory witness stay will be exposed to the lectures and after that you will be i will be or my t sh will be uploading the assignments and you will be given bout one weeks time to complete the assignments because assignments home allies so the questions would be multiple choice type or may be feeling fill in the blank shape as a sentiment which levo it is a fifty percent cottage and at the end of this semisster you will be taking an nsm exam and we are planning to have it online so far if i do not change my decisions or something else happens other utility people line and that will be having a fifty percent vintage although i am not keeping any pass marks off this course but you can tentatively consider if you are getting less than about say thirty percent of the marks then you will not be able to pass this course and those who will be successfully contemplating this course by taking examples and getting good marks will be given sadification from the imperial as you know so that way i expect that you will be very serious planner and you will be also able to solve those problems if a in case you have difficulties you can always discuss we can always use discussion for or you can write emails you can always bring it to the instructor all the t s so that we can make it clear to you thats very important because understandably you know the things very well forward not be able to answer the questions now in the next few slides i am going to talk about what war relevant of face transformation materials deployment and why do you study in any course i know that many of you do not expose by the instructor in the same way you must have an idea why you are studying this course what is the need well phase transformation assisiol is presented environment on the slide i have taken from literature out home that is what i am going to answer to you why study phase transformation material science on you know what wear actually we look materials for the application in any case finally we have to think of application unless aantilis material is applied engineering point of view we do it find any reason to study stentii qoan to give one can stand so application means we must know the properties all kinds of of part so there is a physical mechanical electronic electrical magnetic depending on the applications so property property solo material is are estimated very very regularly to find and potential applications this is two power new material when it is developed so now question is this property as i say mechanical chemical electrical minority thermal you can evenly stood many more properties of the material depends on structure and thats why actual several problem come structure has length scale you can simply say atomic structure at min structure is the smallest structure you can think about it atom and nucleus in fact that is why details one some propadisiofto material but that is not all that is what in so this is who you must know very clear that is not all so structure means it can be atmix structure molecular structure grain structure phase as distribution and defects on so we have basically have listed down from the bottom of atom is the smaller species and then we have grains and other things so you must have i am stressing again you mast team end go a good idea about they structures to chocolate to the properties because it is important that the properties are primarily dictated by this structure so if i know they texture i can vector the properties so you got the correlation right a very logically speaking we make materials whether we use processing techniques to make materials and these processing techniques allow you to control structure processing technique means what you can start with he liquid and solidify that is why the solidification you can start with a metal piece deform by rolling forced extortion whatever different means so you actually process or you connectyou deposit tin flame you can actually use surf statement techniques many things we do in the real app now processing of materials they have a direct connections with a structure and stractor as a direct link with the properties so as you see here these actually are variables for the processing temperature pressure o stress strain or volume and chemical compussion for the away you can change chemical comparison by making different allays so these are my variables in processing and by applying these variables recommendation variables i celebratory mi make materials or manufacturing materials and these processing variables control the structure unstructured controller properties so others therefore these three are linked very clearly they are linked they are not separate or they are not independent things they are connected to each other t these are the bridges of these three important pillars of material science processing structure an property but finally what we look for finally we look for what is known as performance if yo war you are studying in a co sylamas in a course we are finally a political performance similarly materials are elated in terms of performance if i put a tyre in our car that means the major performance that i should be able to drive the take the car for one place to the place without any problems shut you know tires will curry from a summer to winter in the in the point countries and ice the tires which will travel n is t are different so that means performance indeed are actually connected to all these three things processing structure and the properties and that is what is important this chart which is very famous in material science youwill find in many books is known as the material statehood because they i actually looks like it ha three so finally where does the pose transformation comes it is in the structure we modify the structure we modify the atomic structure which certify the grain structural modified the probably phase transformations so therefore phase transformationis a direct link with the procession and also indirectly corrected with the properties and thats why it is a very important course in the material ens engineering you must understand that without knowing the phase transformations you cannot control material properties on so phase transformation phericallibeof thermodynamics is the basis for understanding a material response to change in temperature pressure composition i must accept this is slide i have taken from way this is not mine thus the cskhetical link between processing and microstructure requires an knowledge of the relevant thermodynamic principles and they are the basis force phase transformation so you understand now why we are actually studying the phase transformations on now question is this can i relate in the real applications i have taken four application again only taken from the internet sites first one is an airplane on air plane is a very important mode of transport from one part of the wall to the other plant and you know the material which is used in the airplane is an aluminum copper alloy if you do not know you can actually take on the books there is a classical alloy eleven a four point five to four point seven percent copper known as developing in the in the trannine and this is a very stable ally from forty five deep celsius to minus sixty five u also or even minus a t ti cells i don t know how many of you prate new stat there is a desire laboratory in the southern hemisphere that is in antactica and sometimes if somebody is ill in the decided laboratories in winter time they are actually taken from that place by plane to terminal the the different content especially in south america or sub parts but it will be extremely cold minus sixth to minus eighty edge sound system pressures so a plane flying there the material has to withstand such a low temperature so they this one life material which is prepared long back is used for the plane body and important phase transformation which happening here is a precipitation of certain phase in aluminum also and these certificates provide the strength from high toonar temperature if you travel carefully on the planes you will find especially in the wings coveted joints and these related joints are very strong at low temperatures because of the precipitation so we are going to discuss about that the next one which is very important the right side is a turbine basically it can be used in the plane the high squid plane or even in pow generators and they contained nickel by supervise is wonderful material is a nickel aluminum alloy with consisting of many out elements which i will not discuss in detail now but again the real high temperature properties because this this is a turbine so therefore this has to instant high temperature high temperature properties circumstance properties of this material is basically because of precipitation of a i three a type l one to pecipitates what you known as in a nickel mafrix eptrisi matrix and these unique pesipitates actually provide the strength on the thus that that means the pestipretation is very important aspect to understand so that s why is will be part of a syllivas then on the side left side or you know may be right this is the rails which is used to as a fist plate on the relay tracks these action steels basically they steel of parallel what do we known as if you do not have any idea of paralysis minute is nothing but a eu theoretically transform product of gamma speculation of carbon in iron and so therefore you must we must know how this transformation happens whether can you control it because the properties of the rail depends on that remember rail is is what is allowing you to alone us to move trains so therefore they are they are subjected to stress temperature harshest movement and many other things so they must have combinations of properties so that they can serve the purpose and these is basically done by controlling the phase trans options on the right side this is the end the fast example is basically the titanium based ally engines on remember these engines are not used in car they will be estingused in the planes or maybe in some other statistics applications like two like the submarines or so so these engines actually has many placement titanium wolves that dilemma mmc is pins that am c cranks ups many other things springs and they are tightening aluminites you know titanium out of they all thatinamalise the most important all which is extensively used is thitinium six aluminium pole canadium and it it we can control the protesters of these by mini ways creating alphalatonium also plus bested ditenium meteor station alloys so the propertisill vary depending on whether its alpha so plus petal p meter re alpha is echo pro expect structure meta is which is in structure so ratinium actually a boom temperature below what to eight hundred eighty two dead cel system pressure is basically saloon above there in is n t is aging me c structure so one can i actually play around in the temperature alone why again controlling the posting parameters to create different kinds of structures to get different properties so all these application dont think that they are all similar alparallits or metalos opponents always they can be combination so many of these then the actual real problem is how do i control these microstructures by controlling the professing parameters so remember these four examples are not exhaustive one can find many many examples in real life as i told in my first introduction lectures the basic example we always find is in in in country like media in the hot summer day you want to drink cold water so you can always put the quarter inside the freight and get it cooled but it is real advantage is that if i take a glass of water and add a ice cube taken from the deep prettier immediately the is square will start melting it down or getting dissolved in the water both a actually i tw o one is solid i to or is a liquid issue so therefore by melting it down the heat in getting transfer to the liquid and then the water gets cooled down you enjoy the drink so this is the example which is present which we are actually doing it but what is important know for you to understand how this transformation happens how the solid become liquid liquid become solid whether is very simple unknown remember what is one of the most complex systems in the wild i m a unlike metal they are more complex so let me just stop here before i go to the next part of the lecture or the next class so you understand in a overall that phase transformation is basically very important from the perspectives s of material science and technology and many of these products which you are actually using they the properties are controlled by controlling phase transformations we can do that by using different pausing parametous temperature stay strain commissions and way doing that we alter the microstructure the atmix structure and by doing that you are creating different properties that is the relevance of face information course and which you will be exposed to the next subsequent lectures \""
            ]
          },
          "metadata": {},
          "execution_count": 15
        }
      ]
    },
    {
      "cell_type": "code",
      "metadata": {
        "colab": {
          "base_uri": "https://localhost:8080/"
        },
        "id": "l7TkRVL2gMlO",
        "outputId": "43d0dac0-85ab-488c-8ebd-3fd08599b532"
      },
      "source": [
        "print(test_string)"
      ],
      "execution_count": 17,
      "outputs": [
        {
          "output_type": "stream",
          "name": "stdout",
          "text": [
            "the students let us start the first lecture of this course this is basically a online course so therefore you need to be very clear about what you are going to learn and how yes are going to be evaluated first of all this is a course on phase transformation in materials and i will be teaching all the lectures and it is a thirty lecture course that means there will be sixte twenty five minutes lecture and every week w will be exposed to i am not sure now about four to six lectures so that means about two to three hours of lectures so myself is persummiswas and i am a faculty member at the department of material sense engineering opiitianpull so thuts the details about me my email address is available on the screen you can finally write to me whenever you have any serious problems and in addition to that to handle the coursework and also grading of your answer seats although i know this will be all done all line will be taken care by the teaching assistants so two my students they will be handling that so they are actually the main person who will be handling your questions to my right first one i cospo chospotivaris is my they student and second one is res pa res his also my pan i student so they will be handling all your questions in a discussion forum obviously they are very difficult then i will also participate and also they will be handling your question paper and grading so it ask will be to deliver all the lectures and then this will be uploaded int tan metal website so that you can observe and read or coalition or learn whatever me whatever way you can think about it nowadays also there is another provision all my lectures whatever i am speaking will be again taken down or written by some x parts so we are in the process of finding out those x parts for my earlier course and phase transformation materials similarly well will do it for you also so that you do it need to listen you can actually read all these lectures bones so before that happens you are going to only listen this lectures available on the imperial form and also you can ask questions in the discussion forum and so that s about it and their similar dishes are given and i have carefully removed the phone numbers because this is why things become very difficult to handle so if you have any questions you can ask them ask me also or you can put it on the discussion formal you know like any things in life every course as an objective and this subjective has to be very clear before you start a course represent course actually we ill deal with basic surface transformations and materials as i said in in my introduction video already you have seen probably that past transformation is particular present in the environment whether you are talking about metals ceramics pollutants or youare talking about real life was transformations present but how do we deal is phase transformation that is who w will be taught because thats what is important in your endeavor to learn phase transformations so using these three things one is your o thermodynamics tin kinetics and some basic aspect of material sensual like crystal structures and interfaces we are going to study various solid o solid an liquid to solid phase transformation as we know this is a vast subject and covering that in thirty lectures is not an easy task so obviously we must be selected we cannot teach you everything and to learn everything you need to have some basic idea what i put it as course perriquicite on at this prerequisite war you should have peperabil should up some basic knowledge on basics material science that most of the students in metallurgy or material sense normally have thermodynamics especially the thermonynic functions and their relationships and then some idea phase dicoms and diffusion on so i have already checked on different portions o he in steal but y mean way different person is that there are some courses video or some furniture wave some causes which are massive open airline so basic material sense is already been taught by some fecal numbers thermodynamics has already been available and phase they ommi himself has develop a course and thereby just one year back diffusion is also poorly taught so therefore you can actually clear your doubts by while reading these lecture on this is the full whether all the reception of the all the lectures on i down know whether everything is coming in the scheme or not but anyway most important thing is that we are going to talk about some very at the beginning we are going to talk give you some idea about fee end because that is a therbonanis part of the phase diagram so we will show you the calculation of delta g of various transformations on then we will talk about quite a bit of interfaces interfaces means liquid also is solid solid grain grain interface interface interfaeinturfaces these are all parts of with theronynoamics then we have to go into kinetics thats the circulation because circulation is why the starting point of phase transformations so therefore theory of cancellation wholesome illegal calculations and circulation on the surface is grains and even can corner gen s everywhere it will be dealt with and assume younger ecleasion itself a subject so there therefore must be a very an now we have to be very careful about what you are going to talk about it i would be going to tell you every details of the circulation but whatever relevant we will discuss then were are going to start the first of the fist transfertion that is om solidification as you see here sitification is an liquid to solid phase transformations then we will talk about growth during different aspects like thermal activated god interface control go efficient control go that's why you need to know and casual as couple good then you take toeutectric transformations then we will talk about little bit about transformation kinetics in terms of three model con email and from models and some amount of he thermal phase transformations then we simply go on to different soi to certainly transmissions presipitations relax and matisides spinagtal day competitions and a wit about stermaland continuous transformations that itself will be sufficient and ap to cover structures on so this is important that you know what you are going to be taught at the beginning so that you can prepare yourself so we are going to follow exactly the same way things are given one the right side i have also resisted down number of lectures will be spend on each topic now comes in very important aspects because in the massive open airline course you will be exposed to radio lectures or the all lectures you must have some amount of you know textbook knowledge so therefore two important textbooks which i have carried from our library is this first one which is which is here is written on that is phase transformation in metals and alloys classic textbook by d a porter and k is telling and the rental addition also has come with a new author all the problems oil solved by mister abductor am drip this is available in media not very expensive book you can read that and the other book is written by two my past colleagues although i have never met them but they are its apple this book is passed transformation is in materials and by professor ask genie and prime m so thropey both er i tecanpuo so when these books are written there all therwere gene was in control on so these two books will be your basic textbooks for the course and anyone any of these books will be good for you you can buy these books or you can actually comfy from different liability in the different parts of the bookshop can copy from different libraries or if you if you want you can actually even now get buy that on different online stores current so thats about the basic part of the counseling before i could move onto the next portion ow my lecture why the pace transfer sale wet let me tell you you will be given assignments in every week and i think assessment normally uploaded on Thursday and because Monday because t mandatory witness stay will be exposed to the lectures and after that you will be i will be or my t sh will be uploading the assignments and you will be given bout one weeks time to complete the assignments because assignments home allies so the questions would be multiple choice type or may be feeling fill in the blank shape as a sentiment which levo it is a fifty percent cottage and at the end of this semisster you will be taking an nsm exam and we are planning to have it online so far if i do not change my decisions or something else happens other utility people line and that will be having a fifty percent vintage although i am not keeping any pass marks off this course but you can tentatively consider if you are getting less than about say thirty percent of the marks then you will not be able to pass this course and those who will be successfully contemplating this course by taking examples and getting good marks will be given sadification from the imperial as you know so that way i expect that you will be very serious planner and you will be also able to solve those problems if a in case you have difficulties you can always discuss we can always use discussion for or you can write emails you can always bring it to the instructor all the t s so that we can make it clear to you thats very important because understandably you know the things very well forward not be able to answer the questions now in the next few slides i am going to talk about what war relevant of face transformation materials deployment and why do you study in any course i know that many of you do not expose by the instructor in the same way you must have an idea why you are studying this course what is the need well phase transformation assisiol is presented environment on the slide i have taken from literature out home that is what i am going to answer to you why study phase transformation material science on you know what wear actually we look materials for the application in any case finally we have to think of application unless aantilis material is applied engineering point of view we do it find any reason to study stentii qoan to give one can stand so application means we must know the properties all kinds of of part so there is a physical mechanical electronic electrical magnetic depending on the applications so property property solo material is are estimated very very regularly to find and potential applications this is two power new material when it is developed so now question is this property as i say mechanical chemical electrical minority thermal you can evenly stood many more properties of the material depends on structure and thats why actual several problem come structure has length scale you can simply say atomic structure at min structure is the smallest structure you can think about it atom and nucleus in fact that is why details one some propadisiofto material but that is not all that is what in so this is who you must know very clear that is not all so structure means it can be atmix structure molecular structure grain structure phase as distribution and defects on so we have basically have listed down from the bottom of atom is the smaller species and then we have grains and other things so you must have i am stressing again you mast team end go a good idea about they structures to chocolate to the properties because it is important that the properties are primarily dictated by this structure so if i know they texture i can vector the properties so you got the correlation right a very logically speaking we make materials whether we use processing techniques to make materials and these processing techniques allow you to control structure processing technique means what you can start with he liquid and solidify that is why the solidification you can start with a metal piece deform by rolling forced extortion whatever different means so you actually process or you connectyou deposit tin flame you can actually use surf statement techniques many things we do in the real app now processing of materials they have a direct connections with a structure and stractor as a direct link with the properties so as you see here these actually are variables for the processing temperature pressure o stress strain or volume and chemical compussion for the away you can change chemical comparison by making different allays so these are my variables in processing and by applying these variables recommendation variables i celebratory mi make materials or manufacturing materials and these processing variables control the structure unstructured controller properties so others therefore these three are linked very clearly they are linked they are not separate or they are not independent things they are connected to each other t these are the bridges of these three important pillars of material science processing structure an property but finally what we look for finally we look for what is known as performance if yo war you are studying in a co sylamas in a course we are finally a political performance similarly materials are elated in terms of performance if i put a tyre in our car that means the major performance that i should be able to drive the take the car for one place to the place without any problems shut you know tires will curry from a summer to winter in the in the point countries and ice the tires which will travel n is t are different so that means performance indeed are actually connected to all these three things processing structure and the properties and that is what is important this chart which is very famous in material science youwill find in many books is known as the material statehood because they i actually looks like it ha three so finally where does the pose transformation comes it is in the structure we modify the structure we modify the atomic structure which certify the grain structural modified the probably phase transformations so therefore phase transformationis a direct link with the procession and also indirectly corrected with the properties and thats why it is a very important course in the material ens engineering you must understand that without knowing the phase transformations you cannot control material properties on so phase transformation phericallibeof thermodynamics is the basis for understanding a material response to change in temperature pressure composition i must accept this is slide i have taken from way this is not mine thus the cskhetical link between processing and microstructure requires an knowledge of the relevant thermodynamic principles and they are the basis force phase transformation so you understand now why we are actually studying the phase transformations on now question is this can i relate in the real applications i have taken four application again only taken from the internet sites first one is an airplane on air plane is a very important mode of transport from one part of the wall to the other plant and you know the material which is used in the airplane is an aluminum copper alloy if you do not know you can actually take on the books there is a classical alloy eleven a four point five to four point seven percent copper known as developing in the in the trannine and this is a very stable ally from forty five deep celsius to minus sixty five u also or even minus a t ti cells i don t know how many of you prate new stat there is a desire laboratory in the southern hemisphere that is in antactica and sometimes if somebody is ill in the decided laboratories in winter time they are actually taken from that place by plane to terminal the the different content especially in south america or sub parts but it will be extremely cold minus sixth to minus eighty edge sound system pressures so a plane flying there the material has to withstand such a low temperature so they this one life material which is prepared long back is used for the plane body and important phase transformation which happening here is a precipitation of certain phase in aluminum also and these certificates provide the strength from high toonar temperature if you travel carefully on the planes you will find especially in the wings coveted joints and these related joints are very strong at low temperatures because of the precipitation so we are going to discuss about that the next one which is very important the right side is a turbine basically it can be used in the plane the high squid plane or even in pow generators and they contained nickel by supervise is wonderful material is a nickel aluminum alloy with consisting of many out elements which i will not discuss in detail now but again the real high temperature properties because this this is a turbine so therefore this has to instant high temperature high temperature properties circumstance properties of this material is basically because of precipitation of a i three a type l one to pecipitates what you known as in a nickel mafrix eptrisi matrix and these unique pesipitates actually provide the strength on the thus that that means the pestipretation is very important aspect to understand so that s why is will be part of a syllivas then on the side left side or you know may be right this is the rails which is used to as a fist plate on the relay tracks these action steels basically they steel of parallel what do we known as if you do not have any idea of paralysis minute is nothing but a eu theoretically transform product of gamma speculation of carbon in iron and so therefore you must we must know how this transformation happens whether can you control it because the properties of the rail depends on that remember rail is is what is allowing you to alone us to move trains so therefore they are they are subjected to stress temperature harshest movement and many other things so they must have combinations of properties so that they can serve the purpose and these is basically done by controlling the phase trans options on the right side this is the end the fast example is basically the titanium based ally engines on remember these engines are not used in car they will be estingused in the planes or maybe in some other statistics applications like two like the submarines or so so these engines actually has many placement titanium wolves that dilemma mmc is pins that am c cranks ups many other things springs and they are tightening aluminites you know titanium out of they all thatinamalise the most important all which is extensively used is thitinium six aluminium pole canadium and it it we can control the protesters of these by mini ways creating alphalatonium also plus bested ditenium meteor station alloys so the propertisill vary depending on whether its alpha so plus petal p meter re alpha is echo pro expect structure meta is which is in structure so ratinium actually a boom temperature below what to eight hundred eighty two dead cel system pressure is basically saloon above there in is n t is aging me c structure so one can i actually play around in the temperature alone why again controlling the posting parameters to create different kinds of structures to get different properties so all these application dont think that they are all similar alparallits or metalos opponents always they can be combination so many of these then the actual real problem is how do i control these microstructures by controlling the professing parameters so remember these four examples are not exhaustive one can find many many examples in real life as i told in my first introduction lectures the basic example we always find is in in in country like media in the hot summer day you want to drink cold water so you can always put the quarter inside the freight and get it cooled but it is real advantage is that if i take a glass of water and add a ice cube taken from the deep prettier immediately the is square will start melting it down or getting dissolved in the water both a actually i tw o one is solid i to or is a liquid issue so therefore by melting it down the heat in getting transfer to the liquid and then the water gets cooled down you enjoy the drink so this is the example which is present which we are actually doing it but what is important know for you to understand how this transformation happens how the solid become liquid liquid become solid whether is very simple unknown remember what is one of the most complex systems in the wild i m a unlike metal they are more complex so let me just stop here before i go to the next part of the lecture or the next class so you understand in a overall that phase transformation is basically very important from the perspectives s of material science and technology and many of these products which you are actually using they the properties are controlled by controlling phase transformations we can do that by using different pausing parametous temperature stay strain commissions and way doing that we alter the microstructure the atmix structure and by doing that you are creating different properties that is the relevance of face information course and which you will be exposed to the next subsequent lectures \n"
          ]
        }
      ]
    },
    {
      "cell_type": "code",
      "metadata": {
        "id": "rv6g8Xabv9uF"
      },
      "source": [
        "ts_bert = test_string.split()"
      ],
      "execution_count": 19,
      "outputs": []
    },
    {
      "cell_type": "code",
      "metadata": {
        "id": "24eqKFBtvscM"
      },
      "source": [
        "import difflib"
      ],
      "execution_count": 18,
      "outputs": []
    },
    {
      "cell_type": "code",
      "metadata": {
        "colab": {
          "base_uri": "https://localhost:8080/"
        },
        "id": "3c7niy8ovscU",
        "outputId": "bfbe7733-4424-4a9a-dfff-1b75155d26d3"
      },
      "source": [
        "seq_mat = difflib.SequenceMatcher()\n",
        "\n",
        "seq_mat.set_seqs(f2, ts_bert)\n",
        "print(\"Similarity Ratio            : {}\".format(seq_mat.ratio()))"
      ],
      "execution_count": 22,
      "outputs": [
        {
          "output_type": "stream",
          "name": "stdout",
          "text": [
            "Similarity Ratio            : 0.7545478513050355\n"
          ]
        }
      ]
    },
    {
      "cell_type": "code",
      "metadata": {
        "id": "RuS8RGYmvscV"
      },
      "source": [
        "listt = []"
      ],
      "execution_count": 23,
      "outputs": []
    },
    {
      "cell_type": "code",
      "metadata": {
        "colab": {
          "base_uri": "https://localhost:8080/"
        },
        "id": "T8qivoDAvscV",
        "outputId": "879e2e8b-e2f3-4558-87de-399d1f189a9e"
      },
      "source": [
        "si = difflib.SequenceMatcher(None, test_string, FileContent2)\n",
        "for tag, i1, i2, j1, j2 in si.get_opcodes():\n",
        "  listt.append(tag)\n",
        "  print('{:7}   test_string[{}:{}] --> FileContent2[{}:{}] {!r:>8} --> {!r}'.format(\n",
        "  tag, i1, i2, j1, j2, test_string[i1:i2], FileContent2[j1:j2]))"
      ],
      "execution_count": 24,
      "outputs": [
        {
          "output_type": "stream",
          "name": "stdout",
          "text": [
            "replace   test_string[0:86] --> FileContent2[0:88] 'the students let us start the first lecture of this course this is basically a online ' --> '\\ufeffdear students let us start the first lecture of this course this is basically a online\\n'\n",
            "equal     test_string[86:173] --> FileContent2[88:175] 'course so therefore you need to be very clear about what you are going to learn and how' --> 'course so therefore you need to be very clear about what you are going to learn and how'\n",
            "replace   test_string[173:177] --> FileContent2[175:179]   ' yes' --> '\\nyou'\n",
            "equal     test_string[177:260] --> FileContent2[179:262] ' are going to be evaluated first of all this is a course on phase transformation in' --> ' are going to be evaluated first of all this is a course on phase transformation in'\n",
            "replace   test_string[260:356] --> FileContent2[262:358] ' materials and i will be teaching all the lectures and it is a thirty lecture course that means ' --> '\\nmaterials and i will be teaching all the lectures and it is a thirty lecture course that means\\n'\n",
            "equal     test_string[356:374] --> FileContent2[358:376] 'there will be sixt' --> 'there will be sixt'\n",
            "replace   test_string[374:375] --> FileContent2[376:377]      'e' --> 'y'\n",
            "equal     test_string[375:420] --> FileContent2[377:422] ' twenty five minutes lecture and every week w' --> ' twenty five minutes lecture and every week w'\n",
            "replace   test_string[420:430] --> FileContent2[422:476] ' will be e' --> 'ill be i suppose to i am not\\nsure now about four to si'\n",
            "equal     test_string[430:431] --> FileContent2[476:477]      'x' --> 'x'\n",
            "replace   test_string[431:474] --> FileContent2[477:843] 'posed to i am not sure now about four to si' --> ' lectures so that means about two to three hours of lectures\\nso myself is professor biswas and i am a faculty member at the department of material science\\nengineering of iit kanpur so thats the details about me my email address is available on\\nthe screen you can daily write to me whenever you have any serious problems and in addition\\nto that to handle the course e'\n",
            "equal     test_string[474:475] --> FileContent2[843:844]      'x' --> 'x'\n",
            "replace   test_string[475:700] --> FileContent2[844:1268] ' lectures so that means about two to three hours of lectures so myself is persummiswas and i am a faculty member at the department of material sense engineering opiitianpull so thuts the details about me my email address is a' --> 'ams and also grading appear answer sheets i know this will\\nbe done online will be taken care by the teaching assistance\\nso two of my students they will be handling that so they are actually the main ah person\\nwill be handling your questions to my write first one is kushbu kushbu tiwari is my pg\\nand second one is reshma reshma is also my pg student so they will be handling all your\\nthe questions in the discussion forum ob'\n",
            "equal     test_string[700:701] --> FileContent2[1268:1269]      'v' --> 'v'\n",
            "replace   test_string[701:756] --> FileContent2[1269:1285] 'ailable on the screen you can finally write to me whene' --> 'iously they are '\n",
            "equal     test_string[756:759] --> FileContent2[1285:1288]    'ver' --> 'ver'\n",
            "replace   test_string[759:766] --> FileContent2[1288:1417] ' you ha' --> 'y difficult and i will also participate\\nand also they will be handling your question paper and grading so my task will be to deli'\n",
            "equal     test_string[766:768] --> FileContent2[1417:1419]     've' --> 've'\n",
            "replace   test_string[768:837] --> FileContent2[1419:1579] ' any serious problems and in addition to that to handle the coursewor' --> 'r\\nall the lectures and then this will be uploaded in to nptel website so that you can observe\\nand read or or listen online whatever is whatever way you can thin'\n",
            "equal     test_string[837:840] --> FileContent2[1579:1582]    'k a' --> 'k a'\n",
            "replace   test_string[840:888] --> FileContent2[1582:1667] 'nd also grading of your answer seats although i ' --> 'bout it\\nnow a days also there is another provision all my lectures whatever i am spea'\n",
            "equal     test_string[888:889] --> FileContent2[1667:1668]      'k' --> 'k'\n",
            "replace   test_string[889:931] --> FileContent2[1668:1685] 'now this will be all done all line will be' --> 'ing will\\nbe again'\n",
            "equal     test_string[931:938] --> FileContent2[1685:1692] ' taken ' --> ' taken '\n",
            "replace   test_string[938:1078] --> FileContent2[1692:2062] 'care by the teaching assistants so two my students they will be handling that so they are actually the main person who will be handling your' --> 'down or written by some experts so we are in the process of finding out those\\nexperts on my earlier course on phase transformation materials similarly we will do it for you\\nalso so that you dont need to listen you can actually read all this lectures notes so before\\nthat happens we are going to only listen this lectures available on the nptel forum and\\nalso you can ask'\n",
            "equal     test_string[1078:1089] --> FileContent2[2062:2073] ' questions ' --> ' questions '\n",
            "replace   test_string[1089:1126] --> FileContent2[2073:2151] 'to my right first one i cospo chospot' --> 'in the discussion forum and so thats about it and there email\\naddress is are g'\n",
            "equal     test_string[1126:1128] --> FileContent2[2151:2153]     'iv' --> 'iv'\n",
            "replace   test_string[1128:1240] --> FileContent2[2153:2282] 'aris is my they student and second one is res pa res his also my pan i student so they will be handling all your' --> 'en and i have carefully removed the phone numbers because this is\\nwhere things become very difficult to handle so if you have any'\n",
            "equal     test_string[1240:1251] --> FileContent2[2282:2293] ' questions ' --> ' questions '\n",
            "replace   test_string[1251:1275] --> FileContent2[2293:2401] 'in a discussion forum ob' --> 'you can ask them\\nask me also or you can put it on the discussion forum ok you know like any things in life\\ne'\n",
            "equal     test_string[1275:1276] --> FileContent2[2401:2402]      'v' --> 'v'\n",
            "replace   test_string[1276:1292] --> FileContent2[2402:2427] 'iously they are ' --> 'ery course has an objecti'\n",
            "equal     test_string[1292:1294] --> FileContent2[2427:2429]     've' --> 've'\n",
            "replace   test_string[1294:1372] --> FileContent2[2429:3191] 'ry difficult then i will also participate and also they will be handling your ' --> ' and this objective has to be very clear before you start the\\ncourse\\nso present course actually will deal with basics of transformations in materials and\\nas i said in my introduction video already you have seen probably that phase transformation\\nis everywhere present in the normal whether you are talking about materials ceramics polymers\\nor you are talking about real life phase transformation is present that how do we deal with phase\\ntransformation that is what you will be taught because thats what is important in your endower\\nto learn phase transformation so using these three things one is your thermodynamics\\nthen kinetics and some basic aspect of material sands like crystal structures and interfaces\\nwe are going to study various solid to solid and li'\n",
            "equal     test_string[1372:1374] --> FileContent2[3191:3193]     'qu' --> 'qu'\n",
            "replace   test_string[1374:1407] --> FileContent2[3193:3233] 'estion paper and grading so it as' --> 'id to solid phase transformation as\\nyou '\n",
            "equal     test_string[1407:1408] --> FileContent2[3233:3234]      'k' --> 'k'\n",
            "replace   test_string[1408:1424] --> FileContent2[3234:3264] ' will be to deli' --> 'now this is our subject and co'\n",
            "equal     test_string[1424:1427] --> FileContent2[3264:3267]    'ver' --> 'ver'\n",
            "replace   test_string[1427:1519] --> FileContent2[3267:3320] ' all the lectures and then this will be uploaded int tan metal website so that you can obser' --> 'ing that in thirty lectures is not an easy task\\nso ob'\n",
            "equal     test_string[1519:1520] --> FileContent2[3320:3321]      'v' --> 'v'\n",
            "replace   test_string[1520:1557] --> FileContent2[3321:3368] 'e and read or coalition or learn what' --> 'iously we must be selected we cannot teach you '\n",
            "equal     test_string[1557:1561] --> FileContent2[3368:3372]   'ever' --> 'ever'\n",
            "replace   test_string[1561:1569] --> FileContent2[3372:3392] ' me what' --> 'ything and to learn '\n",
            "equal     test_string[1569:1573] --> FileContent2[3392:3396]   'ever' --> 'ever'\n",
            "replace   test_string[1573:1590] --> FileContent2[3396:3479] ' way you can thin' --> 'ything\\nyou need to have some basic idea ah what i put it as course pre requisites o'\n",
            "equal     test_string[1590:1593] --> FileContent2[3479:3482]    'k a' --> 'k a'\n",
            "replace   test_string[1593:1635] --> FileContent2[3482:3518] 'bout it nowadays also there is another pro' --> 'nd this\\npre requisites are should ha'\n",
            "equal     test_string[1635:1636] --> FileContent2[3518:3519]      'v' --> 'v'\n",
            "replace   test_string[1636:1663] --> FileContent2[3519:3541] 'ision all my lectures whate' --> 'e preferably should ha'\n",
            "equal     test_string[1663:1665] --> FileContent2[3541:3543]     've' --> 've'\n",
            "replace   test_string[1665:1676] --> FileContent2[3543:3555] 'r i am spea' --> ' some basic '\n",
            "equal     test_string[1676:1677] --> FileContent2[3555:3556]      'k' --> 'k'\n",
            "replace   test_string[1677:1697] --> FileContent2[3556:3801] 'ing will be again ta' --> 'nowledge on basic\\nmaterial science that most of the students in methodology or material science normally\\nhave thermodynamics especially with thermodynamics functions and their relationships and then\\nsome idea about phase diagrams and diffusion o'\n",
            "equal     test_string[1697:1698] --> FileContent2[3801:3802]      'k' --> 'k'\n",
            "replace   test_string[1698:1725] --> FileContent2[3802:6485] 'en down or written by some ' --> '\\nso ah i have already ah checked on different courses in nptel but by mean by different\\nperson is that there are some courses which are videos some courses which are web some\\ncourses which are massive open online so basic material science is already being taught by\\nsome faculty members thermodynamics is already being available and phase diagram i myself\\nwas develop a course nil just one year back diffusion is also partly taught so therefore\\nyou can actually ah clear your doubts while reading these lecture ok ah this is the full\\nah rather all the description of the all the lectures ok i dont know whether everything\\nis coming in this scheme or not but any way most important thing is that we are going\\nto talk about some very ah at the beginning where we going to talk give you some idea\\nabout free energy because that is the thermodynamic part of the phase diagram so we will show\\nyou the calculation of delta g of various transformations ok then we will talk about\\nquad derivative of interfaces interfaces means liquid solids gren gren interface interface\\ninter phase interfaces this are all parts of thermodynamics\\nthen you have to go in to kinetics thats the nucleation because nucleation is what the\\nstarting point of phase transformations so therefore theorem nucleation homogeneous heterogeneous\\nnucleation and nucleation on the surfaces grains and even clan corners gen edges every\\nwhere it will be dealt with as you know nucleation itself is the subject so there that we must\\nbe very ah you know you have to very careful about what you are going to talk about its\\ni wont be able to tell you every details of the nucleation but whatever element we will\\ndiscuss then we are going to start the first of the phase transformation that is on solidification\\nas you see here solidification is a liquid to solid phase transformations then we will\\ntalk about growth during different aspects like thermal activated growth interface controlled\\ngrowth diffusion controlled growth thats why you need to know as well as coupled growth\\nand you take to array you take the transformation then we will talk about little bit about transformation\\nkinetics in terms of different models johnson mehl and avrami models and some amount of\\ngas thermal phase transformations then we will simply go on to different solid phase\\ntransformations like precipitation recrystallisation martensitics spinodal decompositions and we\\ntalk about isothermal and continuous transformations thats itself will be sufficient enough to\\ncall off thirty lectures ok\\nso ah this is important that you know what we are going to be taught at the beginning\\nso that you can prepare yourself so we are going to ah follow e'\n",
            "equal     test_string[1725:1726] --> FileContent2[6485:6486]      'x' --> 'x'\n",
            "replace   test_string[1726:1779] --> FileContent2[6486:6700] ' parts so we are in the process of finding out those ' --> 'actly the same way things\\nare given on the right side i have also listed down number of lectures will be spent on each\\ntopic now comes in very important aspects because in a massive open online course you\\nwill be e'\n",
            "equal     test_string[1779:1780] --> FileContent2[6700:6701]      'x' --> 'x'\n",
            "replace   test_string[1780:2030] --> FileContent2[6701:6710] ' parts for my earlier course and phase transformation materials similarly well will do it for you also so that you do it need to listen you can actually read all these lectures bones so before that happens you are going to only listen this lectures a' --> 'posed to '\n",
            "equal     test_string[2030:2031] --> FileContent2[6710:6711]      'v' --> 'v'\n",
            "replace   test_string[2031:2079] --> FileContent2[6711:6781] 'ailable on the imperial form and also you can as' --> 'ideo lectures or the online lectures you must have some amount of you\\n'\n",
            "equal     test_string[2079:2080] --> FileContent2[6781:6782]      'k' --> 'k'\n",
            "replace   test_string[2080:2081] --> FileContent2[6782:8444]      ' ' --> 'now text book knowledge so therefore two important text books which are carried from\\nour library ah is this first one which is which is here is written on that is phase\\ntransformation in metals and alloys classic text book by d a porter and k e easterling\\nand the recent edition also has come with a new author are all the problems are solved\\nmr ah doctor m y sherif this is available in india not very expensive book you can read\\nthat and the other book is written by two of my past colleagues although i have never\\nmet them but though are iit kanpur this book is phase transformations in materials and\\nby professor a k jena and professor m c chaturvedi both were at iit kanpur\\nso ah when this books written there there were ah jena was in kanpur ok so this two\\nbooks will be a basic text book for the course and anyone any of these books will be good\\nfor you you can by this books or you can actually copy from different libraries in the in the\\ndifferent parts of the book you can copy from different libraries or if you if you want\\nyou actually even ah you know get by that on different online stores correct so thats\\nabout the basic part of the course i think before i could move on to the next portion\\nof my ah lecture why the phase transformation is delivered let me tell you you will be given\\nah assignments on every week and i think assignments are normally uploaded on thursday and because\\nmonday wednesday monday to wednesday will be exposed to the lectures and after that\\nyou will be i will be ah my t s will be uploading the assignments and you will be given about\\none weeks time to complete the assignments because assignments will be online so the\\n'\n",
            "equal     test_string[2081:2091] --> FileContent2[8444:8454] 'questions ' --> 'questions '\n",
            "replace   test_string[2091:2169] --> FileContent2[8454:8546] 'in the discussion forum and so that s about it and their similar dishes are gi' --> 'will be ah multiple choice type or may be fill fill in the blanks type as\\nassignment will ha'\n",
            "equal     test_string[2169:2171] --> FileContent2[8546:8548]     've' --> 've'\n",
            "replace   test_string[2171:2178] --> FileContent2[8548:8678] 'n and i' --> ' a weightage of fifty percent weightage and at the end of this semester\\nyou will be taking an end some exam and we are planning to'\n",
            "equal     test_string[2178:2184] --> FileContent2[8678:8684] ' have ' --> ' have '\n",
            "replace   test_string[2184:2198] --> FileContent2[8684:8807] 'carefully remo' --> 'it online so far if i\\ndont change my decisions or something else is happens otherwise it will be online and\\nthat will be ha'\n",
            "equal     test_string[2198:2199] --> FileContent2[8807:8808]      'v' --> 'v'\n",
            "replace   test_string[2199:2254] --> FileContent2[8808:9153] 'ed the phone numbers because this is why things become ' --> 'ing a fifty percent weightage\\nalthough ah i am not keeping any pass marks for this course but you can interdentally\\nconsider if you are getting less than about say thirty percent of the marks then you will\\nnot be able to pass this course and those who will be successfully completing this course\\nby taking exams and getting good marks will be gi'\n",
            "equal     test_string[2254:2256] --> FileContent2[9153:9155]     've' --> 've'\n",
            "replace   test_string[2256:2291] --> FileContent2[9155:9236] 'ry difficult to handle so if you ha' --> 'n certification from the nptel as you\\nknow so that way i expect that you will be '\n",
            "equal     test_string[2291:2293] --> FileContent2[9236:9238]     've' --> 've'\n",
            "replace   test_string[2293:2298] --> FileContent2[9238:9630]  ' any ' --> 'ry serious learner and you will be also\\nable to solve this problems if incase you have difficulties you can always discuss you\\ncan always use the discussion forums or you can write emails you can always bring it to\\nthe ah instructor all the t s so that we can make it clear to you thats very important\\nbecause unless and until you know the things very well you will not be able to answer the\\n'\n",
            "equal     test_string[2298:2308] --> FileContent2[9630:9640] 'questions ' --> 'questions '\n",
            "replace   test_string[2308:2318] --> FileContent2[9640:9687] 'you can as' --> 'now ah in the next few slides i am going to tal'\n",
            "equal     test_string[2318:2320] --> FileContent2[9687:9689]     'k ' --> 'k '\n",
            "replace   test_string[2320:2327] --> FileContent2[9689:9802] 'them as' --> 'about what are the relevance\\nof phase transformation materials development then why do you study in any course i '\n",
            "equal     test_string[2327:2328] --> FileContent2[9802:9803]      'k' --> 'k'\n",
            "replace   test_string[2328:2384] --> FileContent2[9803:10012] ' me also or you can put it on the discussion formal you ' --> 'now\\nthat many of you do not exposed by the instructor in the same way you must have an idea why\\nyou are studying this course what is the need well phase transformation is as i said is\\nrepresented environment o'\n",
            "equal     test_string[2384:2385] --> FileContent2[10012:10013]      'k' --> 'k'\n",
            "replace   test_string[2385:2391] --> FileContent2[10013:10034] 'now li' --> '\\nthis slide i have ta'\n",
            "equal     test_string[2391:2393] --> FileContent2[10034:10036]     'ke' --> 'ke'\n",
            "replace   test_string[2393:2414] --> FileContent2[10036:10252] ' any things in life e' --> 'n from the literature you know thats what i am going to answer to\\nyou why study phase transformation material science ok you know what we are actually we\\nlook material for the application in in any case finally we ha'\n",
            "equal     test_string[2414:2416] --> FileContent2[10252:10254]     've' --> 've'\n",
            "replace   test_string[2416:2434] --> FileContent2[10254:13457] 'ry course as an ob' --> ' to think our application\\nunless and until this material is applied engineering point of view we dont find any\\nreason to study scientific point of view one can study so application means we must know\\nthat properties all kinds of properties so there is a physical mechanical electronic\\nelectrical magnetic depending on the applications so property or properties of a material is\\nare estimated very very rigorously to find an potential applications this is true for\\neven a new materials when its developed so now question is this properties as i said\\nmechanical chemical electrical magnetic thermal you can even list on many more properties\\nof the material depends on structure and thats why actually real problem comes structure\\nhas land scape you can simply say atomic structure atomic structure is the smallest structure\\nyou can think about it atom and nucleus infact that is what dictates most of the properties\\nare to material but that is not all that is what in to this is what you must know very\\nclearly thats not all\\nso structure means it can be atomic structure molecular structure grain structure phase\\ntrans distribution and defects ok so we have basically i have listed down from the bottom\\nup the atom is smallest theses and then we have grains and other things so you must have\\ni am stressing again you must have an good idea about this structures to correlate with\\nthe properties because it is important that the properties are primarily dictated by the\\nstructure so if i know the structure i can dictate the properties so you got the correlation\\nright ah very logically speaking we made materials rather we use processing techniques to make\\nmaterials and this processing techniques allow you to control structure processing technique\\nmeans what you can start with the liquid and solidify that is what is solidification you\\ncan start with the metal piece deform by rolling forging exclusion whatever different means\\nso you actually process or you can actually deposit thin film you can actually you surface\\ntreatment techniques many things we do in the real ah now processing of materials they\\nhave a direct connection with this structure\\na structure has a direct link with the properties so as you see here these actually are variables\\nfor the processing temperature pressure or stress strain or volume and chemical composition\\nfor the alloys you can change chemical composition by making different alloys so these are my\\nvariables in processing and by applying these variables or combination of variables i generate\\nor i make materials and manufacture materials and this processing variables controls the\\nstructure and structure controls the properties so therefore these three are linked very clearly\\nthey are linked they are not separate or they are not independent things they are connected\\nto each other these are the of these three important pillars of material science processing\\nstructure and property but finally where to we look for finally we look for what is known\\nas performance if you are studying in a course syllabus in a course you are finally evaluated\\non performance similarly materials are evaluated in terms of performance if i put a tire in\\nyour car that means the ma'\n",
            "equal     test_string[2434:2435] --> FileContent2[13457:13458]      'j' --> 'j'\n",
            "replace   test_string[2435:2438] --> FileContent2[13458:13505]    'ect' --> 'or performance is the tire should be able to dr'\n",
            "equal     test_string[2438:2442] --> FileContent2[13505:13509]   'ive ' --> 'ive '\n",
            "replace   test_string[2442:2454] --> FileContent2[13509:16534] 'and this sub' --> 'the take\\nthe car from one place to another without any problems but you know tires should vary\\nfrom a some ah are twin tire in the in the foreign countries in the the eyes tire which\\nwill travel on are different\\nso that means performance indeed are actually connected to all these three things processing\\nstructure and the properties and that is what is important this chart which is very famous\\nin material science you will find in many books is known as the material tetrahedron\\nbecause they are actually looks like a tetrahedron so finally where does the phase transformation\\ncomes it is in the structure we modify the structure we modify the atomic structure we\\nmodify grain structure we modify the various by phase transformation so therefore phase\\ntransformation are directly linked with processing and also indirectly connected with the properties\\nand thats why it is a very important course in the material science engineering you must\\nunderstand that without knowing the or phase transformations you cannot control material\\nproperties ok\\nso ah phase transformation or phase equilibria or thermodynamics is the basis for understanding\\na material response to change in temperature pressure composition i must accept this is\\nslide i have taken from web this is not mine thus the critical link between processing\\nand microstructure requires a knowledge of the relevant thermodynamics principles and\\nthey are the basis for phase transformations so you understand now why we are actually\\nstudying the phase transformations ok now question is this can i relate it to real applications\\ni have taken four applications again i taken from the internet sites first one is in air\\nplane ok air plane is the very important ah mode of transport from one part of the world\\nto other part and you know the material which is used in the air plane is an aluminum copper\\nalloy if you dont know you can actually check on the books this is the classical alloy aluminum\\nfour point five to four point seven percent copper known as dual lumen in the in the trend\\nname and this is a very stable alloy from forty five degree celsius to minus sixty five\\ndegree celsius or even minus eighty degree celsius i dont know how many of you read news\\nthat there is a research laboratory in the southern hampshire that is in hm antarctica\\nand sometimes if somebodies yield in the research laboratories in winter time they are actually\\ntaken from that place by plane to the the different country especially in southern america\\nand such parts but it will be extremely cold minus sixty to minus eighty degree celsius\\ntemperature so a plane flying there the material has to be stand such a low temperature\\nso this wonderful material which is prepared long back is used for the plane body and important\\nphase transformation which is happening here is a precipitation of certain phase in aluminum\\nalloys and this precipitates provide the strength from high to low temperature if you travel\\ncarefully on the planes you will find especially in the wings deviated '\n",
            "equal     test_string[2454:2455] --> FileContent2[16534:16535]      'j' --> 'j'\n",
            "replace   test_string[2455:2459] --> FileContent2[16535:16550]   'ecti' --> 'oin and this de'\n",
            "equal     test_string[2459:2460] --> FileContent2[16550:16551]      'v' --> 'v'\n",
            "replace   test_string[2460:2470] --> FileContent2[16551:16565] 'e has to b' --> 'iated\\njoins ar'\n",
            "equal     test_string[2470:2477] --> FileContent2[16565:16572] 'e very ' --> 'e very '\n",
            "replace   test_string[2477:2627] --> FileContent2[16572:16687] 'clear before you start a course represent course actually we ill deal with basic surface transformations and materials as i said in in my introduction' --> 'strong and low temperatures because of the precipitation so we are going\\nto discuss about that ah next one which is'\n",
            "equal     test_string[2627:2629] --> FileContent2[16687:16689]     ' v' --> ' v'\n",
            "replace   test_string[2629:2648] --> FileContent2[16689:17370] 'ideo already you ha' --> 'ery important on the right side is air turbine\\nbasically it can be used in the plane the high speed plane or in when in power generators\\nand they contained nickel based super alloys this wonderful material this is nickel aluminum\\nalloy with consisting of many other elements which i will not discuss in detail now but\\nagain the real high temperature properties because this this is turbine so thereforth\\nthis has to be instant high temperature high temperature properties equi based properties\\nof this material is basically because of precipitation of n i three a l type l one to precipitates\\nwhat we known as in a nickel matrix fcc matrix and this unique precipitates actually pro'\n",
            "equal     test_string[2648:2649] --> FileContent2[17370:17371]      'v' --> 'v'\n",
            "replace   test_string[2649:2721] --> FileContent2[17371:17435] 'e seen probably that past transformation is particular present in the en' --> 'ide\\nthe strength ok the thats thats that means precipitation is '\n",
            "equal     test_string[2721:2722] --> FileContent2[17435:17436]      'v' --> 'v'\n",
            "replace   test_string[2722:2750] --> FileContent2[17436:17542] 'ironment whether you are tal' --> 'ery important aspect to\\nunderstand so thats what is will be part of silvers\\nthen on this side left side i '\n",
            "equal     test_string[2750:2751] --> FileContent2[17542:17543]      'k' --> 'k'\n",
            "replace   test_string[2751:2801] --> FileContent2[17543:17634] 'ing about metals ceramics pollutants or youare tal' --> 'now may be your right this is the rails which is used\\nto as a phi splay on the railway trac'\n",
            "equal     test_string[2801:2802] --> FileContent2[17634:17635]      'k' --> 'k'\n",
            "replace   test_string[2802:2966] --> FileContent2[17635:17720] 'ing about real life was transformations present but how do we deal is phase transformation that is who w will be taught because thats what is important in your ende' --> 's this actually steels basically the steel of perlite\\nwhat you known as if you dont h'\n",
            "equal     test_string[2966:2968] --> FileContent2[17720:17722]     'av' --> 'av'\n",
            "replace   test_string[2968:3062] --> FileContent2[17722:17861] 'or to learn phase transformations so using these three things one is your o thermodynamics tin' --> 'e any idea perlites perlite is nothing but a utech transform\\nproduct of gamma solution of carbon in iron and so therefore you must you must'\n",
            "equal     test_string[3062:3064] --> FileContent2[17861:17863]     ' k' --> ' k'\n",
            "replace   test_string[3064:3116] --> FileContent2[17863:18401] 'inetics and some basic aspect of material sensual li' --> 'now how\\nthis transformation happens whether we can control it because the properties of the rail\\ndepends on that and remember rail is is ah what is allow you to allowing us to move trains\\nso therefore they are they are subjected to stress temperature harsh environment and many\\nother things so they must have combinations of properties so that they can start the purpose\\nand these is basically done by controlling the phase transformations on the right side\\nthis is the end the last example is basically the titanium based align engines o'\n",
            "equal     test_string[3116:3117] --> FileContent2[18401:18402]      'k' --> 'k'\n",
            "replace   test_string[3117:3174] --> FileContent2[18402:18616] 'e crystal structures and interfaces we are going to study' --> ' remember\\nthis engines are not used in car they will be used in planes or may be in some other\\nstrategic applications like ah turb hm like the submarines and so\\nso these engines actually has many plus like titanium'\n",
            "equal     test_string[3174:3177] --> FileContent2[18616:18619]    ' va' --> ' va'\n",
            "replace   test_string[3177:3199] --> FileContent2[18619:20361] 'rious solid o solid an' --> 'lves titanium mmcs springs titanium\\nmnc cramsups many others things springs and there are titanium aluminites you know titanium\\nout of these all thirteen m alloys the most important alloy which is extensively used\\nin titanium sixth aluminum four vanadium and it it we can control the micro structure of\\nthese by many ways creating alpha titanium alpha plus beta titanium beta of titanium\\nalloys so ah the properties will vary depending on whether its alpha alpha plus beta alpha\\nor beta remember alpha is hexagonal prospect structure beta is bcc structure so titanium\\nactually ah room temperature below what to eight hundred eighty two degree celsius temperature\\nis basically alpha above that it is a this i mean bcc structure so one can actually play\\naround in the temperature zone by again controlling the prosaic parameters to create different\\nkinds of structures to get different properties\\nso all these applications dont think that they are similar alpha alloys or beta alloys\\nalpha plus beta alloys they can be combination of many of these then the actual real problem\\nis how do i control this micro structures by controlling the processing parameters so\\nremember these four examples are not exhausted one can find many many examples in the real\\nlife as i told you in my first introduction lectures the basic example you always find\\nis in the country india when hot summer days you want to drink cold water so you can always\\nput the cold water inside the fridge and get it cooled but it is real advantage is that\\nif i take a glass of water and add a ice cube taken from the deep freezer immediately the\\nice cube will start melting it down or getting dissolved in the water both are actually h\\ntwo o one is solid h two o and the other is'\n",
            "equal     test_string[3199:3207] --> FileContent2[20361:20369] ' liquid ' --> ' liquid '\n",
            "replace   test_string[3207:3243] --> FileContent2[20369:20512] 'to solid phase transformation as we ' --> 'h two o\\nso therefore by melting it down the heat is getting transferred to the liquid and then\\nthe water gets cool down you will enjoy the drin'\n",
            "equal     test_string[3243:3244] --> FileContent2[20512:20513]      'k' --> 'k'\n",
            "replace   test_string[3244:3257] --> FileContent2[20513:20729] 'now this is a' --> 's so this is the example which is present\\nwhich you are actually doing it but what is important you for you to understand how these\\ntransformation happened how these solid become liquid liquid become solid whether is'\n",
            "equal     test_string[3257:3259] --> FileContent2[20729:20731]     ' v' --> ' v'\n",
            "replace   test_string[3259:3266] --> FileContent2[20731:20859] 'ast sub' --> 'ery\\nsimple or no remember what is from the most complex systems in the world and no unlike\\nmetal like more complex so ah let me '\n",
            "equal     test_string[3266:3267] --> FileContent2[20859:20860]      'j' --> 'j'\n",
            "replace   test_string[3267:3277] --> FileContent2[20860:21007] 'ect and co' --> 'ust stop here before i go to the next part of\\nthe lecture or the next class so you understand in a nutshell that phase transformation is\\nbasically '\n",
            "equal     test_string[3277:3280] --> FileContent2[21007:21010]    'ver' --> 'ver'\n",
            "replace   test_string[3280:3333] --> FileContent2[21010:21040] 'ing that in thirty lectures is not an easy task so ob' --> 'y important from the perspecti'\n",
            "equal     test_string[3333:3334] --> FileContent2[21040:21041]      'v' --> 'v'\n",
            "replace   test_string[3334:3381] --> FileContent2[21041:21448] 'iously we must be selected we cannot teach you ' --> 'e of material science and technology and many\\nof these products which you are actually using these their properties are controlled by controlling\\nphase transformations we can do that by using different processing parameters temperature\\nstress strain compositions and by doing that we alter them micro structure the atomic structure\\nand by doing that you will create a different properties so that is the rel'\n",
            "equal     test_string[3381:3383] --> FileContent2[21448:21450]     'ev' --> 'ev'\n",
            "replace   test_string[3383:3478] --> FileContent2[21450:21532] 'erything and to learn everything you need to have some basic idea what i put it as course perri' --> 'ance of phase\\ntransformation course and which will be exposed to in the next subse'\n",
            "equal     test_string[3478:3480] --> FileContent2[21532:21534]     'qu' --> 'qu'\n",
            "replace   test_string[3480:21188] --> FileContent2[21534:21546] \"icite on at this prerequisite war you should have peperabil should up some basic knowledge on basics material science that most of the students in metallurgy or material sense normally have thermodynamics especially the thermonynic functions and their relationships and then some idea phase dicoms and diffusion on so i have already checked on different portions o he in steal but y mean way different person is that there are some courses video or some furniture wave some causes which are massive open airline so basic material sense is already been taught by some fecal numbers thermodynamics has already been available and phase they ommi himself has develop a course and thereby just one year back diffusion is also poorly taught so therefore you can actually clear your doubts by while reading these lecture on this is the full whether all the reception of the all the lectures on i down know whether everything is coming in the scheme or not but anyway most important thing is that we are going to talk about some very at the beginning we are going to talk give you some idea about fee end because that is a therbonanis part of the phase diagram so we will show you the calculation of delta g of various transformations on then we will talk about quite a bit of interfaces interfaces means liquid also is solid solid grain grain interface interface interfaeinturfaces these are all parts of with theronynoamics then we have to go into kinetics thats the circulation because circulation is why the starting point of phase transformations so therefore theory of cancellation wholesome illegal calculations and circulation on the surface is grains and even can corner gen s everywhere it will be dealt with and assume younger ecleasion itself a subject so there therefore must be a very an now we have to be very careful about what you are going to talk about it i would be going to tell you every details of the circulation but whatever relevant we will discuss then were are going to start the first of the fist transfertion that is om solidification as you see here sitification is an liquid to solid phase transformations then we will talk about growth during different aspects like thermal activated god interface control go efficient control go that's why you need to know and casual as couple good then you take toeutectric transformations then we will talk about little bit about transformation kinetics in terms of three model con email and from models and some amount of he thermal phase transformations then we simply go on to different soi to certainly transmissions presipitations relax and matisides spinagtal day competitions and a wit about stermaland continuous transformations that itself will be sufficient and ap to cover structures on so this is important that you know what you are going to be taught at the beginning so that you can prepare yourself so we are going to follow exactly the same way things are given one the right side i have also resisted down number of lectures will be spend on each topic now comes in very important aspects because in the massive open airline course you will be exposed to radio lectures or the all lectures you must have some amount of you know textbook knowledge so therefore two important textbooks which i have carried from our library is this first one which is which is here is written on that is phase transformation in metals and alloys classic textbook by d a porter and k is telling and the rental addition also has come with a new author all the problems oil solved by mister abductor am drip this is available in media not very expensive book you can read that and the other book is written by two my past colleagues although i have never met them but they are its apple this book is passed transformation is in materials and by professor ask genie and prime m so thropey both er i tecanpuo so when these books are written there all therwere gene was in control on so these two books will be your basic textbooks for the course and anyone any of these books will be good for you you can buy these books or you can actually comfy from different liability in the different parts of the bookshop can copy from different libraries or if you if you want you can actually even now get buy that on different online stores current so thats about the basic part of the counseling before i could move onto the next portion ow my lecture why the pace transfer sale wet let me tell you you will be given assignments in every week and i think assessment normally uploaded on Thursday and because Monday because t mandatory witness stay will be exposed to the lectures and after that you will be i will be or my t sh will be uploading the assignments and you will be given bout one weeks time to complete the assignments because assignments home allies so the questions would be multiple choice type or may be feeling fill in the blank shape as a sentiment which levo it is a fifty percent cottage and at the end of this semisster you will be taking an nsm exam and we are planning to have it online so far if i do not change my decisions or something else happens other utility people line and that will be having a fifty percent vintage although i am not keeping any pass marks off this course but you can tentatively consider if you are getting less than about say thirty percent of the marks then you will not be able to pass this course and those who will be successfully contemplating this course by taking examples and getting good marks will be given sadification from the imperial as you know so that way i expect that you will be very serious planner and you will be also able to solve those problems if a in case you have difficulties you can always discuss we can always use discussion for or you can write emails you can always bring it to the instructor all the t s so that we can make it clear to you thats very important because understandably you know the things very well forward not be able to answer the questions now in the next few slides i am going to talk about what war relevant of face transformation materials deployment and why do you study in any course i know that many of you do not expose by the instructor in the same way you must have an idea why you are studying this course what is the need well phase transformation assisiol is presented environment on the slide i have taken from literature out home that is what i am going to answer to you why study phase transformation material science on you know what wear actually we look materials for the application in any case finally we have to think of application unless aantilis material is applied engineering point of view we do it find any reason to study stentii qoan to give one can stand so application means we must know the properties all kinds of of part so there is a physical mechanical electronic electrical magnetic depending on the applications so property property solo material is are estimated very very regularly to find and potential applications this is two power new material when it is developed so now question is this property as i say mechanical chemical electrical minority thermal you can evenly stood many more properties of the material depends on structure and thats why actual several problem come structure has length scale you can simply say atomic structure at min structure is the smallest structure you can think about it atom and nucleus in fact that is why details one some propadisiofto material but that is not all that is what in so this is who you must know very clear that is not all so structure means it can be atmix structure molecular structure grain structure phase as distribution and defects on so we have basically have listed down from the bottom of atom is the smaller species and then we have grains and other things so you must have i am stressing again you mast team end go a good idea about they structures to chocolate to the properties because it is important that the properties are primarily dictated by this structure so if i know they texture i can vector the properties so you got the correlation right a very logically speaking we make materials whether we use processing techniques to make materials and these processing techniques allow you to control structure processing technique means what you can start with he liquid and solidify that is why the solidification you can start with a metal piece deform by rolling forced extortion whatever different means so you actually process or you connectyou deposit tin flame you can actually use surf statement techniques many things we do in the real app now processing of materials they have a direct connections with a structure and stractor as a direct link with the properties so as you see here these actually are variables for the processing temperature pressure o stress strain or volume and chemical compussion for the away you can change chemical comparison by making different allays so these are my variables in processing and by applying these variables recommendation variables i celebratory mi make materials or manufacturing materials and these processing variables control the structure unstructured controller properties so others therefore these three are linked very clearly they are linked they are not separate or they are not independent things they are connected to each other t these are the bridges of these three important pillars of material science processing structure an property but finally what we look for finally we look for what is known as performance if yo war you are studying in a co sylamas in a course we are finally a political performance similarly materials are elated in terms of performance if i put a tyre in our car that means the major performance that i should be able to drive the take the car for one place to the place without any problems shut you know tires will curry from a summer to winter in the in the point countries and ice the tires which will travel n is t are different so that means performance indeed are actually connected to all these three things processing structure and the properties and that is what is important this chart which is very famous in material science youwill find in many books is known as the material statehood because they i actually looks like it ha three so finally where does the pose transformation comes it is in the structure we modify the structure we modify the atomic structure which certify the grain structural modified the probably phase transformations so therefore phase transformationis a direct link with the procession and also indirectly corrected with the properties and thats why it is a very important course in the material ens engineering you must understand that without knowing the phase transformations you cannot control material properties on so phase transformation phericallibeof thermodynamics is the basis for understanding a material response to change in temperature pressure composition i must accept this is slide i have taken from way this is not mine thus the cskhetical link between processing and microstructure requires an knowledge of the relevant thermodynamic principles and they are the basis force phase transformation so you understand now why we are actually studying the phase transformations on now question is this can i relate in the real applications i have taken four application again only taken from the internet sites first one is an airplane on air plane is a very important mode of transport from one part of the wall to the other plant and you know the material which is used in the airplane is an aluminum copper alloy if you do not know you can actually take on the books there is a classical alloy eleven a four point five to four point seven percent copper known as developing in the in the trannine and this is a very stable ally from forty five deep celsius to minus sixty five u also or even minus a t ti cells i don t know how many of you prate new stat there is a desire laboratory in the southern hemisphere that is in antactica and sometimes if somebody is ill in the decided laboratories in winter time they are actually taken from that place by plane to terminal the the different content especially in south america or sub parts but it will be extremely cold minus sixth to minus eighty edge sound system pressures so a plane flying there the material has to withstand such a low temperature so they this one life material which is prepared long back is used for the plane body and important phase transformation which happening here is a precipitation of certain phase in aluminum also and these certificates provide the strength from high toonar temperature if you travel carefully on the planes you will find especially in the wings coveted joints and these related joints are very strong at low temperatures because of the precipitation so we are going to discuss about that the next one which is very important the right side is a turbine basically it can be used in the plane the high squid plane or even in pow generators and they contained nickel by supervise is wonderful material is a nickel aluminum alloy with consisting of many out elements which i will not discuss in detail now but again the real high temperature properties because this this is a turbine so therefore this has to instant high temperature high temperature properties circumstance properties of this material is basically because of precipitation of a i three a type l one to pecipitates what you known as in a nickel mafrix eptrisi matrix and these unique pesipitates actually provide the strength on the thus that that means the pestipretation is very important aspect to understand so that s why is will be part of a syllivas then on the side left side or you know may be right this is the rails which is used to as a fist plate on the relay tracks these action steels basically they steel of parallel what do we known as if you do not have any idea of paralysis minute is nothing but a eu theoretically transform product of gamma speculation of carbon in iron and so therefore you must we must know how this transformation happens whether can you control it because the properties of the rail depends on that remember rail is is what is allowing you to alone us to move trains so therefore they are they are subjected to stress temperature harshest movement and many other things so they must have combinations of properties so that they can serve the purpose and these is basically done by controlling the phase trans options on the right side this is the end the fast example is basically the titanium based ally engines on remember these engines are not used in car they will be estingused in the planes or maybe in some other statistics applications like two like the submarines or so so these engines actually has many placement titanium wolves that dilemma mmc is pins that am c cranks ups many other things springs and they are tightening aluminites you know titanium out of they all thatinamalise the most important all which is extensively used is thitinium six aluminium pole canadium and it it we can control the protesters of these by mini ways creating alphalatonium also plus bested ditenium meteor station alloys so the propertisill vary depending on whether its alpha so plus petal p meter re alpha is echo pro expect structure meta is which is in structure so ratinium actually a boom temperature below what to eight hundred eighty two dead cel system pressure is basically saloon above there in is n t is aging me c structure so one can i actually play around in the temperature alone why again controlling the posting parameters to create different kinds of structures to get different properties so all these application dont think that they are all similar alparallits or metalos opponents always they can be combination so many of these then the actual real problem is how do i control these microstructures by controlling the professing parameters so remember these four examples are not exhaustive one can find many many examples in real life as i told in my first introduction lectures the basic example we always find is in in in country like media in the hot summer day you want to drink cold water so you can always put the quarter inside the freight and get it cooled but it is real advantage is that if i take a glass of water and add a ice cube taken from the deep prettier immediately the is square will start melting it down or getting dissolved in the water both a actually i tw o one is solid i to or is a liquid issue so therefore by melting it down the heat in getting transfer to the liquid and then the water gets cooled down you enjoy the drink so this is the example which is present which we are actually doing it but what is important know for you to understand how this transformation happens how the solid become liquid liquid become solid whether is very simple unknown remember what is one of the most complex systems in the wild i m a unlike metal they are more complex so let me just stop here before i go to the next part of the lecture or the next class so you understand in a overall that phase transformation is basically very important from the perspectives s of material science and technology and many of these products which you are actually using they the properties are controlled by controlling phase transformations we can do that by using different pausing parametous temperature stay strain commissions and way doing that we alter the microstructure the atmix structure and by doing that you are creating different properties that is the relevance of face information course and which you will be exposed to the next subsequent lectures \" --> 'ent lectures'\n"
          ]
        }
      ]
    },
    {
      "cell_type": "code",
      "metadata": {
        "id": "NU5Qu_DkvscV"
      },
      "source": [
        "def CountFrequency(my_list):\n",
        " \n",
        "    # Creating an empty dictionary\n",
        "    freq = {}\n",
        "    for item in my_list:\n",
        "        if (item in freq):\n",
        "            freq[item] += 1\n",
        "        else:\n",
        "            freq[item] = 1\n",
        " \n",
        "    for key, value in freq.items():\n",
        "        print (\"% s : % d\"%(key, value))\n",
        " \n"
      ],
      "execution_count": 25,
      "outputs": []
    },
    {
      "cell_type": "code",
      "metadata": {
        "colab": {
          "base_uri": "https://localhost:8080/"
        },
        "id": "J1eYVOLyvscW",
        "outputId": "f4cb22cc-bbee-40b2-ded9-9a1c8d860fcf"
      },
      "source": [
        "CountFrequency(listt)"
      ],
      "execution_count": 26,
      "outputs": [
        {
          "output_type": "stream",
          "name": "stdout",
          "text": [
            "replace :  67\n",
            "equal :  66\n"
          ]
        }
      ]
    },
    {
      "cell_type": "code",
      "metadata": {
        "id": "cBvofDmDSQwg"
      },
      "source": [
        ""
      ],
      "execution_count": null,
      "outputs": []
    }
  ]
}
{
  "nbformat": 4,
  "nbformat_minor": 0,
  "metadata": {
    "colab": {
      "name": "Keras and RNN(LSTM) Project.ipynb",
      "provenance": [],
      "collapsed_sections": [],
      "authorship_tag": "ABX9TyPeo07OnQkktD3K3lPCCzpE",
      "include_colab_link": true
    },
    "kernelspec": {
      "name": "python3",
      "display_name": "Python 3"
    },
    "language_info": {
      "name": "python"
    }
  },
  "cells": [
    {
      "cell_type": "markdown",
      "metadata": {
        "id": "view-in-github",
        "colab_type": "text"
      },
      "source": [
        "<a href=\"https://colab.research.google.com/github/surajk150741/Data_Science_Projects/blob/main/Time%20Series%20Forecasting/Keras_and_RNN(LSTM)_Project.ipynb\" target=\"_parent\"><img src=\"https://colab.research.google.com/assets/colab-badge.svg\" alt=\"Open In Colab\"/></a>"
      ]
    },
    {
      "cell_type": "markdown",
      "metadata": {
        "id": "r9ji6tzV-uEc"
      },
      "source": [
        "In this lecture, we're going to discover how to use Keris and recurrent neural networks(RNN) to Forecast a time series sequence into the future for however many periods we want."
      ]
    },
    {
      "cell_type": "code",
      "metadata": {
        "id": "VZ72VCQdgN74"
      },
      "source": [
        "import pandas as pd\n",
        "import numpy as np\n",
        "import matplotlib.pyplot as plt\n",
        "%matplotlib inline"
      ],
      "execution_count": null,
      "outputs": []
    },
    {
      "cell_type": "code",
      "metadata": {
        "colab": {
          "resources": {
            "http://localhost:8080/nbextensions/google.colab/files.js": {
              "data": "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",
              "ok": true,
              "headers": [
                [
                  "content-type",
                  "application/javascript"
                ]
              ],
              "status": 200,
              "status_text": ""
            }
          },
          "base_uri": "https://localhost:8080/",
          "height": 72
        },
        "id": "0Yhov6pkHH97",
        "outputId": "3ced4385-a42d-48e6-dfcc-96cdf1737422"
      },
      "source": [
        "from google.colab import files\n",
        "uploaded = files.upload()"
      ],
      "execution_count": null,
      "outputs": [
        {
          "output_type": "display_data",
          "data": {
            "text/html": [
              "\n",
              "     <input type=\"file\" id=\"files-1936d9a2-dce7-422d-bea6-2fbcaf2b7aa5\" name=\"files[]\" multiple disabled\n",
              "        style=\"border:none\" />\n",
              "     <output id=\"result-1936d9a2-dce7-422d-bea6-2fbcaf2b7aa5\">\n",
              "      Upload widget is only available when the cell has been executed in the\n",
              "      current browser session. Please rerun this cell to enable.\n",
              "      </output>\n",
              "      <script src=\"/nbextensions/google.colab/files.js\"></script> "
            ],
            "text/plain": [
              "<IPython.core.display.HTML object>"
            ]
          },
          "metadata": {
            "tags": []
          }
        },
        {
          "output_type": "stream",
          "text": [
            "Saving Alcohol_Sales.csv to Alcohol_Sales (1).csv\n"
          ],
          "name": "stdout"
        }
      ]
    },
    {
      "cell_type": "code",
      "metadata": {
        "id": "2zFhhTNNIJFe"
      },
      "source": [
        "df = pd.read_csv(\"Alcohol_Sales.csv\",index_col=\"DATE\",parse_dates=True)\n",
        "df.index.freq = 'MS'"
      ],
      "execution_count": null,
      "outputs": []
    },
    {
      "cell_type": "code",
      "metadata": {
        "colab": {
          "base_uri": "https://localhost:8080/",
          "height": 235
        },
        "id": "hzXaK9UqIlkz",
        "outputId": "0f3b93a0-7fa9-4c99-f909-dbfe96d403cf"
      },
      "source": [
        "df.head()"
      ],
      "execution_count": null,
      "outputs": [
        {
          "output_type": "execute_result",
          "data": {
            "text/html": [
              "<div>\n",
              "<style scoped>\n",
              "    .dataframe tbody tr th:only-of-type {\n",
              "        vertical-align: middle;\n",
              "    }\n",
              "\n",
              "    .dataframe tbody tr th {\n",
              "        vertical-align: top;\n",
              "    }\n",
              "\n",
              "    .dataframe thead th {\n",
              "        text-align: right;\n",
              "    }\n",
              "</style>\n",
              "<table border=\"1\" class=\"dataframe\">\n",
              "  <thead>\n",
              "    <tr style=\"text-align: right;\">\n",
              "      <th></th>\n",
              "      <th>S4248SM144NCEN</th>\n",
              "    </tr>\n",
              "    <tr>\n",
              "      <th>DATE</th>\n",
              "      <th></th>\n",
              "    </tr>\n",
              "  </thead>\n",
              "  <tbody>\n",
              "    <tr>\n",
              "      <th>1992-01-01</th>\n",
              "      <td>3459</td>\n",
              "    </tr>\n",
              "    <tr>\n",
              "      <th>1992-02-01</th>\n",
              "      <td>3458</td>\n",
              "    </tr>\n",
              "    <tr>\n",
              "      <th>1992-03-01</th>\n",
              "      <td>4002</td>\n",
              "    </tr>\n",
              "    <tr>\n",
              "      <th>1992-04-01</th>\n",
              "      <td>4564</td>\n",
              "    </tr>\n",
              "    <tr>\n",
              "      <th>1992-05-01</th>\n",
              "      <td>4221</td>\n",
              "    </tr>\n",
              "  </tbody>\n",
              "</table>\n",
              "</div>"
            ],
            "text/plain": [
              "            S4248SM144NCEN\n",
              "DATE                      \n",
              "1992-01-01            3459\n",
              "1992-02-01            3458\n",
              "1992-03-01            4002\n",
              "1992-04-01            4564\n",
              "1992-05-01            4221"
            ]
          },
          "metadata": {
            "tags": []
          },
          "execution_count": 73
        }
      ]
    },
    {
      "cell_type": "markdown",
      "metadata": {
        "id": "K63Gi2_k3JX6"
      },
      "source": [
        "Since the name of the only column is weird we are gonna change the name of the column"
      ]
    },
    {
      "cell_type": "code",
      "metadata": {
        "id": "fB0UnVBOI-aA"
      },
      "source": [
        "df.columns = ['Sales']         # just used 'column' because there is only one column"
      ],
      "execution_count": null,
      "outputs": []
    },
    {
      "cell_type": "code",
      "metadata": {
        "colab": {
          "base_uri": "https://localhost:8080/",
          "height": 514
        },
        "id": "yr8hXi1q3sUT",
        "outputId": "2e259800-a7f0-4958-cccd-eb4c51d89133"
      },
      "source": [
        "df.plot(figsize=(12,8))"
      ],
      "execution_count": null,
      "outputs": [
        {
          "output_type": "execute_result",
          "data": {
            "text/plain": [
              "<matplotlib.axes._subplots.AxesSubplot at 0x7f3dcb209590>"
            ]
          },
          "metadata": {
            "tags": []
          },
          "execution_count": 75
        },
        {
          "output_type": "display_data",
          "data": {
            "image/png": "[encoded data removed]",
            "text/plain": [
              "<Figure size 864x576 with 1 Axes>"
            ]
          },
          "metadata": {
            "tags": [],
            "needs_background": "light"
          }
        }
      ]
    },
    {
      "cell_type": "markdown",
      "metadata": {
        "id": "cCoyTLi_4KRb"
      },
      "source": [
        "We can see that there is seasonality and some trend clearly"
      ]
    },
    {
      "cell_type": "code",
      "metadata": {
        "id": "QFqcGabEhIXK"
      },
      "source": [
        "import pandas.util.testing as tm"
      ],
      "execution_count": null,
      "outputs": []
    },
    {
      "cell_type": "code",
      "metadata": {
        "id": "EQTSudlo4H3C"
      },
      "source": [
        "#lets decompose\n",
        "\n",
        "from statsmodels.tsa.seasonal import seasonal_decompose"
      ],
      "execution_count": null,
      "outputs": []
    },
    {
      "cell_type": "code",
      "metadata": {
        "id": "Sa0cvvv14kKd"
      },
      "source": [
        "results = seasonal_decompose(df['Sales'])"
      ],
      "execution_count": null,
      "outputs": []
    },
    {
      "cell_type": "code",
      "metadata": {
        "colab": {
          "base_uri": "https://localhost:8080/",
          "height": 297
        },
        "id": "WFOwhzl-4oOk",
        "outputId": "3b07b6af-9d84-4de9-a0be-5c106e39458d"
      },
      "source": [
        "results.plot();"
      ],
      "execution_count": null,
      "outputs": [
        {
          "output_type": "display_data",
          "data": {
            "image/png": "[encoded data removed]",
            "text/plain": [
              "<Figure size 432x288 with 4 Axes>"
            ]
          },
          "metadata": {
            "tags": [],
            "needs_background": "light"
          }
        }
      ]
    },
    {
      "cell_type": "markdown",
      "metadata": {
        "id": "Quad7SVO42US"
      },
      "source": [
        "We can also plot out the seperate components e.g."
      ]
    },
    {
      "cell_type": "code",
      "metadata": {
        "colab": {
          "base_uri": "https://localhost:8080/",
          "height": 351
        },
        "id": "M0fnKhIg4rmM",
        "outputId": "6039b055-1dba-4c5d-8db1-5670e8597f20"
      },
      "source": [
        "results.seasonal.plot(figsize=(12,5))"
      ],
      "execution_count": null,
      "outputs": [
        {
          "output_type": "execute_result",
          "data": {
            "text/plain": [
              "<matplotlib.axes._subplots.AxesSubplot at 0x7f3dcafbe7d0>"
            ]
          },
          "metadata": {
            "tags": []
          },
          "execution_count": 80
        },
        {
          "output_type": "display_data",
          "data": {
            "image/png": "[encoded data removed]",
            "text/plain": [
              "<Figure size 864x360 with 1 Axes>"
            ]
          },
          "metadata": {
            "tags": [],
            "needs_background": "light"
          }
        }
      ]
    },
    {
      "cell_type": "code",
      "metadata": {
        "colab": {
          "base_uri": "https://localhost:8080/"
        },
        "id": "24ls5ozB5v8n",
        "outputId": "706f07d7-7497-442a-ef30-43e96ff29d45"
      },
      "source": [
        "# We can get the series of each component too\n",
        "\n",
        "results.seasonal"
      ],
      "execution_count": null,
      "outputs": [
        {
          "output_type": "execute_result",
          "data": {
            "text/plain": [
              "DATE\n",
              "1992-01-01   -1836.088354\n",
              "1992-02-01   -1321.328738\n",
              "1992-03-01    -148.299892\n",
              "1992-04-01    -240.372008\n",
              "1992-05-01     554.966133\n",
              "                 ...     \n",
              "2018-09-01    -109.224572\n",
              "2018-10-01     260.730557\n",
              "2018-11-01     258.666454\n",
              "2018-12-01    1303.892416\n",
              "2019-01-01   -1836.088354\n",
              "Freq: MS, Name: Sales, Length: 325, dtype: float64"
            ]
          },
          "metadata": {
            "tags": []
          },
          "execution_count": 81
        }
      ]
    },
    {
      "cell_type": "markdown",
      "metadata": {
        "id": "3TvqzlRk6YdL"
      },
      "source": [
        "Let's do the train-test split now"
      ]
    },
    {
      "cell_type": "code",
      "metadata": {
        "colab": {
          "base_uri": "https://localhost:8080/"
        },
        "id": "IUnn7wFN6Tli",
        "outputId": "42a4b497-3839-4d2a-b92b-e4ab4bf80ea3"
      },
      "source": [
        "len(df)"
      ],
      "execution_count": null,
      "outputs": [
        {
          "output_type": "execute_result",
          "data": {
            "text/plain": [
              "325"
            ]
          },
          "metadata": {
            "tags": []
          },
          "execution_count": 82
        }
      ]
    },
    {
      "cell_type": "markdown",
      "metadata": {
        "id": "Y7HVQ8bY6ssQ"
      },
      "source": [
        "Since we have monthly data, lets forecast for a year in the future"
      ]
    },
    {
      "cell_type": "code",
      "metadata": {
        "colab": {
          "base_uri": "https://localhost:8080/"
        },
        "id": "wNQ6Ohy56nlZ",
        "outputId": "d83e3554-1ac5-47e9-88d7-4bcb1ea43ad5"
      },
      "source": [
        "325-12"
      ],
      "execution_count": null,
      "outputs": [
        {
          "output_type": "execute_result",
          "data": {
            "text/plain": [
              "313"
            ]
          },
          "metadata": {
            "tags": []
          },
          "execution_count": 83
        }
      ]
    },
    {
      "cell_type": "code",
      "metadata": {
        "id": "y4twywu07wat"
      },
      "source": [
        "train = df.iloc[:313]\n",
        "test = df.iloc[313:]"
      ],
      "execution_count": null,
      "outputs": []
    },
    {
      "cell_type": "code",
      "metadata": {
        "colab": {
          "base_uri": "https://localhost:8080/",
          "height": 452
        },
        "id": "9u4ckJkV8CFI",
        "outputId": "3dc6d954-80ad-4459-902c-b2b6035c4961"
      },
      "source": [
        "test"
      ],
      "execution_count": null,
      "outputs": [
        {
          "output_type": "execute_result",
          "data": {
            "text/html": [
              "<div>\n",
              "<style scoped>\n",
              "    .dataframe tbody tr th:only-of-type {\n",
              "        vertical-align: middle;\n",
              "    }\n",
              "\n",
              "    .dataframe tbody tr th {\n",
              "        vertical-align: top;\n",
              "    }\n",
              "\n",
              "    .dataframe thead th {\n",
              "        text-align: right;\n",
              "    }\n",
              "</style>\n",
              "<table border=\"1\" class=\"dataframe\">\n",
              "  <thead>\n",
              "    <tr style=\"text-align: right;\">\n",
              "      <th></th>\n",
              "      <th>Sales</th>\n",
              "    </tr>\n",
              "    <tr>\n",
              "      <th>DATE</th>\n",
              "      <th></th>\n",
              "    </tr>\n",
              "  </thead>\n",
              "  <tbody>\n",
              "    <tr>\n",
              "      <th>2018-02-01</th>\n",
              "      <td>10415</td>\n",
              "    </tr>\n",
              "    <tr>\n",
              "      <th>2018-03-01</th>\n",
              "      <td>12683</td>\n",
              "    </tr>\n",
              "    <tr>\n",
              "      <th>2018-04-01</th>\n",
              "      <td>11919</td>\n",
              "    </tr>\n",
              "    <tr>\n",
              "      <th>2018-05-01</th>\n",
              "      <td>14138</td>\n",
              "    </tr>\n",
              "    <tr>\n",
              "      <th>2018-06-01</th>\n",
              "      <td>14583</td>\n",
              "    </tr>\n",
              "    <tr>\n",
              "      <th>2018-07-01</th>\n",
              "      <td>12640</td>\n",
              "    </tr>\n",
              "    <tr>\n",
              "      <th>2018-08-01</th>\n",
              "      <td>14257</td>\n",
              "    </tr>\n",
              "    <tr>\n",
              "      <th>2018-09-01</th>\n",
              "      <td>12396</td>\n",
              "    </tr>\n",
              "    <tr>\n",
              "      <th>2018-10-01</th>\n",
              "      <td>13914</td>\n",
              "    </tr>\n",
              "    <tr>\n",
              "      <th>2018-11-01</th>\n",
              "      <td>14174</td>\n",
              "    </tr>\n",
              "    <tr>\n",
              "      <th>2018-12-01</th>\n",
              "      <td>15504</td>\n",
              "    </tr>\n",
              "    <tr>\n",
              "      <th>2019-01-01</th>\n",
              "      <td>10718</td>\n",
              "    </tr>\n",
              "  </tbody>\n",
              "</table>\n",
              "</div>"
            ],
            "text/plain": [
              "            Sales\n",
              "DATE             \n",
              "2018-02-01  10415\n",
              "2018-03-01  12683\n",
              "2018-04-01  11919\n",
              "2018-05-01  14138\n",
              "2018-06-01  14583\n",
              "2018-07-01  12640\n",
              "2018-08-01  14257\n",
              "2018-09-01  12396\n",
              "2018-10-01  13914\n",
              "2018-11-01  14174\n",
              "2018-12-01  15504\n",
              "2019-01-01  10718"
            ]
          },
          "metadata": {
            "tags": []
          },
          "execution_count": 85
        }
      ]
    },
    {
      "cell_type": "markdown",
      "metadata": {
        "id": "7qyxjupK8IER"
      },
      "source": [
        "So my test data is the last year"
      ]
    },
    {
      "cell_type": "markdown",
      "metadata": {
        "id": "m55oGZMw8XHf"
      },
      "source": [
        "NOW WE ARE GONNA GET INTO THINGS THAT ARE SPECIFIC TO KERAS\n",
        "\n",
        "When we are running the neural network, we are gonna have to scale the data or normalize the data\n",
        "\n",
        "Lots of ways in which we can scale the data, one is to divide by the maximum value \n",
        "\n",
        "Lets see how it's done"
      ]
    },
    {
      "cell_type": "code",
      "metadata": {
        "id": "XXQoFjwE8DSw"
      },
      "source": [
        "# Lets say I have some series of information and in fact I am just going to dp this as a normal numpy array \n",
        "ser = np.array([23,56,2,13,14])"
      ],
      "execution_count": null,
      "outputs": []
    },
    {
      "cell_type": "code",
      "metadata": {
        "colab": {
          "base_uri": "https://localhost:8080/"
        },
        "id": "qIN9m0e8joxv",
        "outputId": "e456b6d7-3562-4720-fb93-3f81b031e3c8"
      },
      "source": [
        "ser.max()        # fit"
      ],
      "execution_count": null,
      "outputs": [
        {
          "output_type": "execute_result",
          "data": {
            "text/plain": [
              "56"
            ]
          },
          "metadata": {
            "tags": []
          },
          "execution_count": 87
        }
      ]
    },
    {
      "cell_type": "code",
      "metadata": {
        "colab": {
          "base_uri": "https://localhost:8080/"
        },
        "id": "LA6hT4Jvho2O",
        "outputId": "5cb43a17-8d2c-490b-c33e-8cc7e5093f12"
      },
      "source": [
        "# If I want to normalize the data, essential scale between the numbers stays the same\n",
        "#    But the overall range happens to fall between 0 and 1 \n",
        "\n",
        "ser/ser.max()      #transform         # Now each value is in between 0 and 1 "
      ],
      "execution_count": null,
      "outputs": [
        {
          "output_type": "execute_result",
          "data": {
            "text/plain": [
              "array([0.41071429, 1.        , 0.03571429, 0.23214286, 0.25      ])"
            ]
          },
          "metadata": {
            "tags": []
          },
          "execution_count": 88
        }
      ]
    },
    {
      "cell_type": "markdown",
      "metadata": {
        "id": "aAHWF1cUiZuv"
      },
      "source": [
        "as we know with neural networks, since we are calculating biases and weights, if we have data that's too skewed off, maybe your smallest point is kind of way lower than your highest point.\n",
        "\n",
        "\n",
        "E.g. in our alcohol data value of sales ranges from 4000 to 14000 which is very large when we are talking about neural networks, so we will scale it. \n",
        "\n",
        "And we can automatically scale our data using a Sckit learn"
      ]
    },
    {
      "cell_type": "code",
      "metadata": {
        "id": "zTXTVaM9iJnc"
      },
      "source": [
        "from sklearn.preprocessing import MinMaxScaler"
      ],
      "execution_count": null,
      "outputs": []
    },
    {
      "cell_type": "markdown",
      "metadata": {
        "id": "q33CpaxXjawk"
      },
      "source": [
        "Here MinMaxScaler is automated version of what we did above with numpy array to normalize it. "
      ]
    },
    {
      "cell_type": "code",
      "metadata": {
        "id": "XUhpdqbjjZpE"
      },
      "source": [
        "# We create a scaler object\n",
        "\n",
        "scaler = MinMaxScaler()"
      ],
      "execution_count": null,
      "outputs": []
    },
    {
      "cell_type": "code",
      "metadata": {
        "colab": {
          "base_uri": "https://localhost:8080/"
        },
        "id": "Q6ZDmI82j8gR",
        "outputId": "689a43c5-4cd5-4cac-e708-763f1b1ddbfb"
      },
      "source": [
        "# And scaler object can either fit or transform\n",
        "\n",
        "scaler.fit(train)             # It finds the max value in train data"
      ],
      "execution_count": null,
      "outputs": [
        {
          "output_type": "execute_result",
          "data": {
            "text/plain": [
              "MinMaxScaler(copy=True, feature_range=(0, 1))"
            ]
          },
          "metadata": {
            "tags": []
          },
          "execution_count": 91
        }
      ]
    },
    {
      "cell_type": "markdown",
      "metadata": {
        "id": "nsQL9CjZkZUr"
      },
      "source": [
        "If we were to fit to the entire dataset, we're cheating a little bit by assuming future knowledge about the test set."
      ]
    },
    {
      "cell_type": "code",
      "metadata": {
        "id": "JyRbZSKzkcVq"
      },
      "source": [
        "# Now, we're actually going to transform the training data and the testing data.\n",
        "\n",
        "scaled_train = scaler.transform(train)      # It simply just divide by the maximum values \n",
        "scaled_test = scaler.transform(test)"
      ],
      "execution_count": null,
      "outputs": []
    },
    {
      "cell_type": "markdown",
      "metadata": {
        "id": "-DNMbMxEl8tb"
      },
      "source": [
        "Now, its time to use these as time series generator object.\n",
        "\n",
        "Generator object which is a very convenient tool that keras provides us that takes in sequence of data points gathered at equal intervals, and then it will kind of return batches of them for us."
      ]
    },
    {
      "cell_type": "code",
      "metadata": {
        "colab": {
          "base_uri": "https://localhost:8080/"
        },
        "id": "n9eTpdEDl4i2",
        "outputId": "e2b4f1e2-f321-4d73-ee3d-27cc936a1a81"
      },
      "source": [
        "scaled_test"
      ],
      "execution_count": null,
      "outputs": [
        {
          "output_type": "execute_result",
          "data": {
            "text/plain": [
              "array([[0.63116506],\n",
              "       [0.82502778],\n",
              "       [0.75972305],\n",
              "       [0.94939738],\n",
              "       [0.98743482],\n",
              "       [0.82135225],\n",
              "       [0.95956919],\n",
              "       [0.80049577],\n",
              "       [0.93025045],\n",
              "       [0.95247457],\n",
              "       [1.0661595 ],\n",
              "       [0.65706471]])"
            ]
          },
          "metadata": {
            "tags": []
          },
          "execution_count": 93
        }
      ]
    },
    {
      "cell_type": "markdown",
      "metadata": {
        "id": "bCihvWatqzj7"
      },
      "source": [
        "Now we are going to figure out, how we're actually going to feed batches of this Time series along the label."
      ]
    },
    {
      "cell_type": "code",
      "metadata": {
        "id": "0CyRzJLSqmhj"
      },
      "source": [
        "from keras.preprocessing.sequence import TimeseriesGenerator"
      ],
      "execution_count": null,
      "outputs": []
    },
    {
      "cell_type": "code",
      "metadata": {
        "colab": {
          "base_uri": "https://localhost:8080/"
        },
        "id": "Oq39FhCarUgc",
        "outputId": "994656f3-89ab-4698-c226-849672cb4779"
      },
      "source": [
        "scaled_train"
      ],
      "execution_count": null,
      "outputs": [
        {
          "output_type": "execute_result",
          "data": {
            "text/plain": [
              "array([[0.03658432],\n",
              "       [0.03649885],\n",
              "       [0.08299855],\n",
              "       [0.13103684],\n",
              "       [0.1017181 ],\n",
              "       [0.12804513],\n",
              "       [0.12266006],\n",
              "       [0.09453799],\n",
              "       [0.09359774],\n",
              "       [0.10496624],\n",
              "       [0.10334217],\n",
              "       [0.16283443],\n",
              "       [0.        ],\n",
              "       [0.0196598 ],\n",
              "       [0.09650397],\n",
              "       [0.11505257],\n",
              "       [0.10906915],\n",
              "       [0.14231986],\n",
              "       [0.12197624],\n",
              "       [0.12189076],\n",
              "       [0.11394136],\n",
              "       [0.10300026],\n",
              "       [0.12556629],\n",
              "       [0.16608257],\n",
              "       [0.00376101],\n",
              "       [0.02957518],\n",
              "       [0.12069408],\n",
              "       [0.10513719],\n",
              "       [0.12214719],\n",
              "       [0.16702282],\n",
              "       [0.11052227],\n",
              "       [0.14428584],\n",
              "       [0.11479614],\n",
              "       [0.10402599],\n",
              "       [0.14984187],\n",
              "       [0.16582614],\n",
              "       [0.02897684],\n",
              "       [0.03872126],\n",
              "       [0.10582101],\n",
              "       [0.08231473],\n",
              "       [0.14394393],\n",
              "       [0.16608257],\n",
              "       [0.10188905],\n",
              "       [0.16830498],\n",
              "       [0.10291478],\n",
              "       [0.13018207],\n",
              "       [0.15556885],\n",
              "       [0.15343192],\n",
              "       [0.0570989 ],\n",
              "       [0.08137448],\n",
              "       [0.10522267],\n",
              "       [0.1357381 ],\n",
              "       [0.18702453],\n",
              "       [0.15428669],\n",
              "       [0.16326182],\n",
              "       [0.17360458],\n",
              "       [0.11402684],\n",
              "       [0.16933071],\n",
              "       [0.15548337],\n",
              "       [0.17659629],\n",
              "       [0.06214206],\n",
              "       [0.06786905],\n",
              "       [0.12163433],\n",
              "       [0.13710574],\n",
              "       [0.18625524],\n",
              "       [0.17317719],\n",
              "       [0.18805026],\n",
              "       [0.17121121],\n",
              "       [0.16574066],\n",
              "       [0.19753825],\n",
              "       [0.1538593 ],\n",
              "       [0.25079067],\n",
              "       [0.0653902 ],\n",
              "       [0.08445166],\n",
              "       [0.15958629],\n",
              "       [0.17599795],\n",
              "       [0.18856313],\n",
              "       [0.20651338],\n",
              "       [0.20548765],\n",
              "       [0.17745106],\n",
              "       [0.21232584],\n",
              "       [0.2181383 ],\n",
              "       [0.19788016],\n",
              "       [0.27822891],\n",
              "       [0.08556287],\n",
              "       [0.12001026],\n",
              "       [0.20924865],\n",
              "       [0.20959056],\n",
              "       [0.21848021],\n",
              "       [0.2688264 ],\n",
              "       [0.22138644],\n",
              "       [0.24429438],\n",
              "       [0.23908026],\n",
              "       [0.24087529],\n",
              "       [0.2691683 ],\n",
              "       [0.31968544],\n",
              "       [0.1035986 ],\n",
              "       [0.16420207],\n",
              "       [0.25446619],\n",
              "       [0.1984785 ],\n",
              "       [0.29096504],\n",
              "       [0.31130866],\n",
              "       [0.2226686 ],\n",
              "       [0.30763313],\n",
              "       [0.24412343],\n",
              "       [0.28130609],\n",
              "       [0.29823062],\n",
              "       [0.31173605],\n",
              "       [0.17531413],\n",
              "       [0.1867681 ],\n",
              "       [0.24463629],\n",
              "       [0.24472177],\n",
              "       [0.32207881],\n",
              "       [0.31079579],\n",
              "       [0.28575092],\n",
              "       [0.32558338],\n",
              "       [0.21745448],\n",
              "       [0.30036755],\n",
              "       [0.32122404],\n",
              "       [0.3546457 ],\n",
              "       [0.17830584],\n",
              "       [0.20608599],\n",
              "       [0.28258826],\n",
              "       [0.298658  ],\n",
              "       [0.35772288],\n",
              "       [0.31883067],\n",
              "       [0.33566972],\n",
              "       [0.34524318],\n",
              "       [0.26643303],\n",
              "       [0.33276348],\n",
              "       [0.31498419],\n",
              "       [0.42260022],\n",
              "       [0.19617061],\n",
              "       [0.22036071],\n",
              "       [0.28917001],\n",
              "       [0.31712112],\n",
              "       [0.35156851],\n",
              "       [0.35062826],\n",
              "       [0.38781092],\n",
              "       [0.36199675],\n",
              "       [0.30797504],\n",
              "       [0.39276861],\n",
              "       [0.32583982],\n",
              "       [0.47089495],\n",
              "       [0.22207026],\n",
              "       [0.24506368],\n",
              "       [0.34310625],\n",
              "       [0.34729464],\n",
              "       [0.36772374],\n",
              "       [0.41772801],\n",
              "       [0.36396273],\n",
              "       [0.37310881],\n",
              "       [0.36139841],\n",
              "       [0.36216771],\n",
              "       [0.40174374],\n",
              "       [0.51517224],\n",
              "       [0.21591589],\n",
              "       [0.27404052],\n",
              "       [0.40105992],\n",
              "       [0.36165484],\n",
              "       [0.44533721],\n",
              "       [0.48944354],\n",
              "       [0.36934781],\n",
              "       [0.46713394],\n",
              "       [0.40259851],\n",
              "       [0.39994871],\n",
              "       [0.44585007],\n",
              "       [0.50183776],\n",
              "       [0.25942388],\n",
              "       [0.30421404],\n",
              "       [0.4181554 ],\n",
              "       [0.36789469],\n",
              "       [0.4967946 ],\n",
              "       [0.53816566],\n",
              "       [0.40695786],\n",
              "       [0.52354902],\n",
              "       [0.42789982],\n",
              "       [0.47944269],\n",
              "       [0.52115565],\n",
              "       [0.55679973],\n",
              "       [0.3073767 ],\n",
              "       [0.31729208],\n",
              "       [0.44140525],\n",
              "       [0.41003505],\n",
              "       [0.55893666],\n",
              "       [0.55158561],\n",
              "       [0.47670741],\n",
              "       [0.55662877],\n",
              "       [0.43525088],\n",
              "       [0.56568938],\n",
              "       [0.54355073],\n",
              "       [0.60124797],\n",
              "       [0.34720916],\n",
              "       [0.38054535],\n",
              "       [0.4559364 ],\n",
              "       [0.50123942],\n",
              "       [0.5780836 ],\n",
              "       [0.59372596],\n",
              "       [0.55748355],\n",
              "       [0.54226857],\n",
              "       [0.52944696],\n",
              "       [0.59124712],\n",
              "       [0.48952902],\n",
              "       [0.66740747],\n",
              "       [0.36199675],\n",
              "       [0.3886657 ],\n",
              "       [0.4835456 ],\n",
              "       [0.52406189],\n",
              "       [0.54175571],\n",
              "       [0.60996666],\n",
              "       [0.55355159],\n",
              "       [0.50363279],\n",
              "       [0.5334644 ],\n",
              "       [0.51662535],\n",
              "       [0.5058552 ],\n",
              "       [0.66774938],\n",
              "       [0.30147876],\n",
              "       [0.38037439],\n",
              "       [0.55081631],\n",
              "       [0.54645696],\n",
              "       [0.54021711],\n",
              "       [0.64287546],\n",
              "       [0.51679631],\n",
              "       [0.53354988],\n",
              "       [0.54611505],\n",
              "       [0.54551671],\n",
              "       [0.58423797],\n",
              "       [0.72006154],\n",
              "       [0.3307975 ],\n",
              "       [0.42593384],\n",
              "       [0.58133174],\n",
              "       [0.5342337 ],\n",
              "       [0.59287119],\n",
              "       [0.71057355],\n",
              "       [0.51927515],\n",
              "       [0.63578084],\n",
              "       [0.60295752],\n",
              "       [0.56252671],\n",
              "       [0.62372852],\n",
              "       [0.72245491],\n",
              "       [0.38080178],\n",
              "       [0.47952816],\n",
              "       [0.57081802],\n",
              "       [0.54637148],\n",
              "       [0.7104026 ],\n",
              "       [0.70459014],\n",
              "       [0.58244294],\n",
              "       [0.69510215],\n",
              "       [0.55568852],\n",
              "       [0.66014189],\n",
              "       [0.67715189],\n",
              "       [0.75997949],\n",
              "       [0.45850073],\n",
              "       [0.50064108],\n",
              "       [0.60509445],\n",
              "       [0.63783229],\n",
              "       [0.78528079],\n",
              "       [0.71407813],\n",
              "       [0.69706813],\n",
              "       [0.72065989],\n",
              "       [0.63791777],\n",
              "       [0.72732712],\n",
              "       [0.69296521],\n",
              "       [0.82725019],\n",
              "       [0.47234806],\n",
              "       [0.51525771],\n",
              "       [0.6003932 ],\n",
              "       [0.67920335],\n",
              "       [0.74886742],\n",
              "       [0.75844089],\n",
              "       [0.67817762],\n",
              "       [0.67954526],\n",
              "       [0.66646722],\n",
              "       [0.75100436],\n",
              "       [0.63586631],\n",
              "       [0.8786221 ],\n",
              "       [0.45892811],\n",
              "       [0.51551415],\n",
              "       [0.65740662],\n",
              "       [0.69031541],\n",
              "       [0.72459185],\n",
              "       [0.84391828],\n",
              "       [0.75544918],\n",
              "       [0.70031627],\n",
              "       [0.76852722],\n",
              "       [0.76519361],\n",
              "       [0.72442089],\n",
              "       [0.95324387],\n",
              "       [0.48012651],\n",
              "       [0.62313018],\n",
              "       [0.7757928 ],\n",
              "       [0.71706984],\n",
              "       [0.78699034],\n",
              "       [0.91033422],\n",
              "       [0.67689546],\n",
              "       [0.8264809 ],\n",
              "       [0.78989657],\n",
              "       [0.75852637],\n",
              "       [0.85349175],\n",
              "       [0.97358749],\n",
              "       [0.51389008],\n",
              "       [0.63432772],\n",
              "       [0.80776135],\n",
              "       [0.72313873],\n",
              "       [0.89870929],\n",
              "       [1.        ],\n",
              "       [0.71672793],\n",
              "       [0.88648602],\n",
              "       [0.75869732],\n",
              "       [0.82742115],\n",
              "       [0.87443371],\n",
              "       [0.96025301],\n",
              "       [0.5584238 ]])"
            ]
          },
          "metadata": {
            "tags": []
          },
          "execution_count": 95
        }
      ]
    },
    {
      "cell_type": "markdown",
      "metadata": {
        "id": "jqxIwl06riXz"
      },
      "source": [
        "Recall that for our scaler object, we only fit towards the training data\n",
        "\n",
        "which means if the test data had an item or label that was larger than the max value of training data, it will actually fit to be above of one\n",
        "\n",
        "E.g. we have value in our test data, that is bigger than max value of test data as shown below"
      ]
    },
    {
      "cell_type": "code",
      "metadata": {
        "colab": {
          "base_uri": "https://localhost:8080/"
        },
        "id": "i2zpCb1DrYEX",
        "outputId": "33397fcd-93e1-4203-a730-75dbbd676825"
      },
      "source": [
        "scaled_test.max()"
      ],
      "execution_count": null,
      "outputs": [
        {
          "output_type": "execute_result",
          "data": {
            "text/plain": [
              "1.0661595008120353"
            ]
          },
          "metadata": {
            "tags": []
          },
          "execution_count": 96
        }
      ]
    },
    {
      "cell_type": "markdown",
      "metadata": {
        "id": "EiubbRNxssYq"
      },
      "source": [
        "But its alright, we are concerned about the scale here. "
      ]
    },
    {
      "cell_type": "markdown",
      "metadata": {
        "id": "HLWy9bsFs6o5"
      },
      "source": [
        "Now lets define the actual generator object, which is gonna read in time sequence and spit out batches "
      ]
    },
    {
      "cell_type": "code",
      "metadata": {
        "id": "26fiWFc-snGy"
      },
      "source": [
        "n_input = 2\n",
        "n_features = 1\n",
        "\n",
        "generator = TimeseriesGenerator(scaled_train,scaled_train,length=n_input, batch_size=1)   ## essentially the source of the data and the source of the targets, \n",
        "                                                                                    ##     the way we're using it here should come from the same data source.\n",
        "\n"
      ],
      "execution_count": null,
      "outputs": []
    },
    {
      "cell_type": "markdown",
      "metadata": {
        "id": "hIqJTum2uC04"
      },
      "source": [
        "And this 'TimeseriesGenerator' class takes in a sequence of data-points gathered at EQUAL INTERVALS \n",
        "\n",
        "and we have time series parameters like length of history, stride, etc. "
      ]
    },
    {
      "cell_type": "code",
      "metadata": {
        "colab": {
          "base_uri": "https://localhost:8080/"
        },
        "id": "TG6iFE_CuD3s",
        "outputId": "1a39e74e-c373-416b-8b03-e92549d80ca5"
      },
      "source": [
        "len(scaled_train)"
      ],
      "execution_count": null,
      "outputs": [
        {
          "output_type": "execute_result",
          "data": {
            "text/plain": [
              "313"
            ]
          },
          "metadata": {
            "tags": []
          },
          "execution_count": 98
        }
      ]
    },
    {
      "cell_type": "code",
      "metadata": {
        "colab": {
          "base_uri": "https://localhost:8080/"
        },
        "id": "_zqJ4s3RvGma",
        "outputId": "32480d81-4f8f-49ef-87c1-2e081062c890"
      },
      "source": [
        "len(generator)       # This is just len(scaled_train) - n_input"
      ],
      "execution_count": null,
      "outputs": [
        {
          "output_type": "execute_result",
          "data": {
            "text/plain": [
              "311"
            ]
          },
          "metadata": {
            "tags": []
          },
          "execution_count": 99
        }
      ]
    },
    {
      "cell_type": "markdown",
      "metadata": {
        "id": "sSNuIr7AvcdR"
      },
      "source": [
        "Lets see what does generator object kinda produces "
      ]
    },
    {
      "cell_type": "code",
      "metadata": {
        "colab": {
          "base_uri": "https://localhost:8080/"
        },
        "id": "JaIXhE2lvLK3",
        "outputId": "00a4fa85-a275-4cd2-d1e4-acf0bc106281"
      },
      "source": [
        "generator[0]"
      ],
      "execution_count": null,
      "outputs": [
        {
          "output_type": "execute_result",
          "data": {
            "text/plain": [
              "(array([[[0.03658432],\n",
              "         [0.03649885]]]), array([[0.08299855]]))"
            ]
          },
          "metadata": {
            "tags": []
          },
          "execution_count": 100
        }
      ]
    },
    {
      "cell_type": "code",
      "metadata": {
        "id": "SG5jrNKxvle7"
      },
      "source": [
        "# Above looks weird, so lets do tuple unpacking\n",
        "x,y = generator[0]"
      ],
      "execution_count": null,
      "outputs": []
    },
    {
      "cell_type": "code",
      "metadata": {
        "colab": {
          "base_uri": "https://localhost:8080/"
        },
        "id": "a0bRZW_sv-qK",
        "outputId": "39daa580-a193-425d-fe0d-78f35f519c80"
      },
      "source": [
        "x            #  these are the first and second entry of our scaled_train data"
      ],
      "execution_count": null,
      "outputs": [
        {
          "output_type": "execute_result",
          "data": {
            "text/plain": [
              "array([[[0.03658432],\n",
              "        [0.03649885]]])"
            ]
          },
          "metadata": {
            "tags": []
          },
          "execution_count": 102
        }
      ]
    },
    {
      "cell_type": "code",
      "metadata": {
        "colab": {
          "base_uri": "https://localhost:8080/"
        },
        "id": "dsnPpo7tv_d1",
        "outputId": "92f945f9-4a73-444a-a057-effba4d428ac"
      },
      "source": [
        "y            # this is the third entry of our scaled_train data"
      ],
      "execution_count": null,
      "outputs": [
        {
          "output_type": "execute_result",
          "data": {
            "text/plain": [
              "array([[0.08299855]])"
            ]
          },
          "metadata": {
            "tags": []
          },
          "execution_count": 103
        }
      ]
    },
    {
      "cell_type": "markdown",
      "metadata": {
        "id": "_Rz-OtqbwkHT"
      },
      "source": [
        "So, It(generator) went ahead and said, OK, that will be the length of the training data and then we'll predict that very next point"
      ]
    },
    {
      "cell_type": "markdown",
      "metadata": {
        "id": "KA3w7XXAABag"
      },
      "source": [
        "But how should we decide the number of inputs(n_input) here?\n",
        "\n",
        "If you're dealing with a data set that shows some clear seasonality over the course of a year, then you should probably feed in at least 12 data points in order for the recurrent neural network to be able to pick up on that seasonality."
      ]
    },
    {
      "cell_type": "markdown",
      "metadata": {
        "id": "Zzs18s7_MKem"
      },
      "source": [
        "So, thats what we want, We want to feed in a sequence and then predict one y step into the future \n",
        "\n",
        "And then if you want to predict more than one Y step into the future, you just keep repeating that process and eventually you'll be using your forecasted values to forecast even further into the future."
      ]
    },
    {
      "cell_type": "markdown",
      "metadata": {
        "id": "_2QIXUsCZTli"
      },
      "source": [
        "Now we're actually going to create the model and then fit it to that generator object."
      ]
    },
    {
      "cell_type": "code",
      "metadata": {
        "id": "2f8a87NgLCIc"
      },
      "source": [
        "from keras.models import Sequential\n",
        "from keras.layers import Dense         # for final output layer\n",
        "from keras.layers import LSTM"
      ],
      "execution_count": null,
      "outputs": []
    },
    {
      "cell_type": "code",
      "metadata": {
        "id": "C_0ojDMLa-lZ"
      },
      "source": [
        "n_input = 12\n",
        "n_features = 1               # n_fearute generally decides the number of columns, which is 1 in our case\n",
        "\n",
        "train_generator = TimeseriesGenerator(scaled_train,scaled_train,length=n_input, batch_size=1)   ## essentially the source of the data and the source of the targets, \n",
        "                                                                                    ##     the way we're using it here should come from the same data source."
      ],
      "execution_count": null,
      "outputs": []
    },
    {
      "cell_type": "code",
      "metadata": {
        "id": "F0T1QMJfZzjg"
      },
      "source": [
        "model = Sequential()\n",
        "\n",
        "# Then we gonna add in a LSTM layer and then we are gonna add in quite a few neurons in this LSTM layer\n",
        "\n",
        "model.add(LSTM(150,activation='relu',input_shape=(n_input,n_features)))       # Now, number of neurons can be larger or smaller\n",
        "\n",
        "# Now, we have to aggregate all the neurons to a single prediction\n",
        "\n",
        "model.add(Dense(1))\n",
        "\n",
        "# Lets compile\n",
        "\n",
        "model.compile(optimizer='adam',loss='mse')\n",
        "\n"
      ],
      "execution_count": null,
      "outputs": []
    },
    {
      "cell_type": "code",
      "metadata": {
        "colab": {
          "base_uri": "https://localhost:8080/"
        },
        "id": "AiSKTuJRcALV",
        "outputId": "a20ee7db-7641-45b7-c93a-65ca5786815f"
      },
      "source": [
        "model.summary()"
      ],
      "execution_count": null,
      "outputs": [
        {
          "output_type": "stream",
          "text": [
            "Model: \"sequential_1\"\n",
            "_________________________________________________________________\n",
            "Layer (type)                 Output Shape              Param #   \n",
            "=================================================================\n",
            "lstm_1 (LSTM)                (None, 150)               91200     \n",
            "_________________________________________________________________\n",
            "dense_1 (Dense)              (None, 1)                 151       \n",
            "=================================================================\n",
            "Total params: 91,351\n",
            "Trainable params: 91,351\n",
            "Non-trainable params: 0\n",
            "_________________________________________________________________\n"
          ],
          "name": "stdout"
        }
      ]
    },
    {
      "cell_type": "markdown",
      "metadata": {
        "id": "OuBK3Y7McH0p"
      },
      "source": [
        "Now, lets fit it to a training generator "
      ]
    },
    {
      "cell_type": "code",
      "metadata": {
        "colab": {
          "base_uri": "https://localhost:8080/"
        },
        "id": "_Tk11wdfcCzb",
        "outputId": "880e4348-9113-43fa-d7a9-7d87403afc33"
      },
      "source": [
        "model.fit_generator(train_generator,epochs=25)    #One epoch is just a single entire run through all of your training data."
      ],
      "execution_count": null,
      "outputs": [
        {
          "output_type": "stream",
          "text": [
            "Epoch 1/25\n"
          ],
          "name": "stdout"
        },
        {
          "output_type": "stream",
          "text": [
            "/usr/local/lib/python3.7/dist-packages/keras/engine/training.py:1915: UserWarning: `Model.fit_generator` is deprecated and will be removed in a future version. Please use `Model.fit`, which supports generators.\n",
            "  warnings.warn('`Model.fit_generator` is deprecated and '\n"
          ],
          "name": "stderr"
        },
        {
          "output_type": "stream",
          "text": [
            "301/301 [==============================] - 4s 7ms/step - loss: 0.0362\n",
            "Epoch 2/25\n",
            "301/301 [==============================] - 2s 7ms/step - loss: 0.0110\n",
            "Epoch 3/25\n",
            "301/301 [==============================] - 2s 7ms/step - loss: 0.0092\n",
            "Epoch 4/25\n",
            "301/301 [==============================] - 2s 7ms/step - loss: 0.0080\n",
            "Epoch 5/25\n",
            "301/301 [==============================] - 2s 7ms/step - loss: 0.0083\n",
            "Epoch 6/25\n",
            "301/301 [==============================] - 2s 7ms/step - loss: 0.0055\n",
            "Epoch 7/25\n",
            "301/301 [==============================] - 2s 7ms/step - loss: 0.0047\n",
            "Epoch 8/25\n",
            "301/301 [==============================] - 2s 6ms/step - loss: 0.0036\n",
            "Epoch 9/25\n",
            "301/301 [==============================] - 2s 6ms/step - loss: 0.0025\n",
            "Epoch 10/25\n",
            "301/301 [==============================] - 2s 7ms/step - loss: 0.0024\n",
            "Epoch 11/25\n",
            "301/301 [==============================] - 2s 7ms/step - loss: 0.0023\n",
            "Epoch 12/25\n",
            "301/301 [==============================] - 2s 7ms/step - loss: 0.0027\n",
            "Epoch 13/25\n",
            "301/301 [==============================] - 2s 7ms/step - loss: 0.0021\n",
            "Epoch 14/25\n",
            "301/301 [==============================] - 2s 6ms/step - loss: 0.0023\n",
            "Epoch 15/25\n",
            "301/301 [==============================] - 2s 7ms/step - loss: 0.0015\n",
            "Epoch 16/25\n",
            "301/301 [==============================] - 2s 6ms/step - loss: 0.0020\n",
            "Epoch 17/25\n",
            "301/301 [==============================] - 2s 7ms/step - loss: 0.0016\n",
            "Epoch 18/25\n",
            "301/301 [==============================] - 2s 7ms/step - loss: 0.0014\n",
            "Epoch 19/25\n",
            "301/301 [==============================] - 2s 6ms/step - loss: 0.0020\n",
            "Epoch 20/25\n",
            "301/301 [==============================] - 2s 7ms/step - loss: 0.0016\n",
            "Epoch 21/25\n",
            "301/301 [==============================] - 2s 6ms/step - loss: 0.0019\n",
            "Epoch 22/25\n",
            "301/301 [==============================] - 2s 7ms/step - loss: 0.0015\n",
            "Epoch 23/25\n",
            "301/301 [==============================] - 2s 7ms/step - loss: 0.0014\n",
            "Epoch 24/25\n",
            "301/301 [==============================] - 2s 7ms/step - loss: 0.0014\n",
            "Epoch 25/25\n",
            "301/301 [==============================] - 2s 7ms/step - loss: 0.0012\n"
          ],
          "name": "stdout"
        },
        {
          "output_type": "execute_result",
          "data": {
            "text/plain": [
              "<keras.callbacks.History at 0x7f3dcafeea90>"
            ]
          },
          "metadata": {
            "tags": []
          },
          "execution_count": 108
        }
      ]
    },
    {
      "cell_type": "code",
      "metadata": {
        "colab": {
          "base_uri": "https://localhost:8080/"
        },
        "id": "afrW1UJvcosy",
        "outputId": "54d94171-65de-46c5-e203-0b9b8a361074"
      },
      "source": [
        "model.history.history.keys()"
      ],
      "execution_count": null,
      "outputs": [
        {
          "output_type": "execute_result",
          "data": {
            "text/plain": [
              "dict_keys(['loss'])"
            ]
          },
          "metadata": {
            "tags": []
          },
          "execution_count": 109
        }
      ]
    },
    {
      "cell_type": "code",
      "metadata": {
        "colab": {
          "base_uri": "https://localhost:8080/",
          "height": 282
        },
        "id": "oGcIckZCrqEG",
        "outputId": "ffba2544-95d5-4cb7-9052-91f0f840af99"
      },
      "source": [
        "plt.plot(range(len(model.history.history['loss'])),model.history.history['loss'])"
      ],
      "execution_count": null,
      "outputs": [
        {
          "output_type": "execute_result",
          "data": {
            "text/plain": [
              "[<matplotlib.lines.Line2D at 0x7f3dc536e710>]"
            ]
          },
          "metadata": {
            "tags": []
          },
          "execution_count": 110
        },
        {
          "output_type": "display_data",
          "data": {
            "image/png": "[encoded data removed]",
            "text/plain": [
              "<Figure size 432x288 with 1 Axes>"
            ]
          },
          "metadata": {
            "tags": [],
            "needs_background": "light"
          }
        }
      ]
    },
    {
      "cell_type": "markdown",
      "metadata": {
        "id": "FuKDwm-0sxs1"
      },
      "source": [
        "OK, so now how do we actually evaluate this on the test data?\n",
        "\n",
        "So what we need to do is we first need to create an evaluation batch.\n",
        "\n",
        "Recall that our network basically trains one timestep ahead.\n",
        "\n",
        "So right now our network will see 12 history steps and then predict step 13."
      ]
    },
    {
      "cell_type": "markdown",
      "metadata": {
        "id": "IRxchFTRtQFX"
      },
      "source": [
        "So what we need to do is to start off, we need the last 12 points of the training data in order to predict point one of the test data\n"
      ]
    },
    {
      "cell_type": "code",
      "metadata": {
        "id": "7kosXBabsHQp"
      },
      "source": [
        "# 12 history steps -----> step 13\n",
        "# Last 12 points train ----> pt 1 of test data"
      ],
      "execution_count": null,
      "outputs": []
    },
    {
      "cell_type": "markdown",
      "metadata": {
        "id": "o1N92Q8CtwM5"
      },
      "source": [
        "The important thing to note is our network can only run on scaled data because it was trained on scale data"
      ]
    },
    {
      "cell_type": "code",
      "metadata": {
        "id": "QXn31LT0tqGE"
      },
      "source": [
        "first_eval_batch = scaled_train[-12:]"
      ],
      "execution_count": null,
      "outputs": []
    },
    {
      "cell_type": "code",
      "metadata": {
        "colab": {
          "base_uri": "https://localhost:8080/"
        },
        "id": "hxHPNzAMt6iL",
        "outputId": "8f04047d-cb67-4b2f-ffee-6342d2c1d135"
      },
      "source": [
        "first_eval_batch            # Last 12 points of the training set"
      ],
      "execution_count": null,
      "outputs": [
        {
          "output_type": "execute_result",
          "data": {
            "text/plain": [
              "array([[0.63432772],\n",
              "       [0.80776135],\n",
              "       [0.72313873],\n",
              "       [0.89870929],\n",
              "       [1.        ],\n",
              "       [0.71672793],\n",
              "       [0.88648602],\n",
              "       [0.75869732],\n",
              "       [0.82742115],\n",
              "       [0.87443371],\n",
              "       [0.96025301],\n",
              "       [0.5584238 ]])"
            ]
          },
          "metadata": {
            "tags": []
          },
          "execution_count": 113
        }
      ]
    },
    {
      "cell_type": "code",
      "metadata": {
        "id": "1tRhtJhut9Ok"
      },
      "source": [
        "first_eval_batch = first_eval_batch.reshape((1,n_input,n_features))"
      ],
      "execution_count": null,
      "outputs": []
    },
    {
      "cell_type": "code",
      "metadata": {
        "colab": {
          "base_uri": "https://localhost:8080/"
        },
        "id": "sYA3E55hudt1",
        "outputId": "73ea74db-a915-4059-c248-f79f3dccc664"
      },
      "source": [
        "model.predict(first_eval_batch)"
      ],
      "execution_count": null,
      "outputs": [
        {
          "output_type": "execute_result",
          "data": {
            "text/plain": [
              "array([[0.69604456]], dtype=float32)"
            ]
          },
          "metadata": {
            "tags": []
          },
          "execution_count": 115
        }
      ]
    },
    {
      "cell_type": "markdown",
      "metadata": {
        "id": "uCVLVy8yu6D3"
      },
      "source": [
        "So, above means that given these 12 points above it predicts that 0.66472805\n",
        "should be the first point of the test data set.\n",
        "\n",
        "\n",
        "\n",
        "But first, we want to do is we want to be able to not just predict the first point in the test set, but the entire test set."
      ]
    },
    {
      "cell_type": "markdown",
      "metadata": {
        "id": "wzBT5orGpxg1"
      },
      "source": [
        "# Forecast using RNN Model"
      ]
    },
    {
      "cell_type": "code",
      "metadata": {
        "id": "72v8M4yEyUOe"
      },
      "source": [
        "# holding my predictions\n",
        "test_predictions = []     #empty place holder\n",
        "\n",
        "# Last n_input points from the training set\n",
        "first_eval_batch = scaled_train[-n_input:]        # More genralised version of first_eval_batch\n",
        "current_batch = first_eval_batch.reshape((1,n_input,n_features))"
      ],
      "execution_count": null,
      "outputs": []
    },
    {
      "cell_type": "code",
      "metadata": {
        "id": "eAD0KwQsyDA4"
      },
      "source": [
        "my_first_pred = model.predict(current_batch)[0]"
      ],
      "execution_count": null,
      "outputs": []
    },
    {
      "cell_type": "code",
      "metadata": {
        "colab": {
          "base_uri": "https://localhost:8080/"
        },
        "id": "SXhLGj0RyZ3S",
        "outputId": "a8d68838-9233-4915-82c8-d0ec77fd4211"
      },
      "source": [
        "my_first_pred"
      ],
      "execution_count": null,
      "outputs": [
        {
          "output_type": "execute_result",
          "data": {
            "text/plain": [
              "array([0.69604456], dtype=float32)"
            ]
          },
          "metadata": {
            "tags": []
          },
          "execution_count": 118
        }
      ]
    },
    {
      "cell_type": "code",
      "metadata": {
        "id": "OFSi9kc-uzZE"
      },
      "source": [
        "# holding my predictions\n",
        "test_predictions = []     #empty place holder\n",
        "\n",
        "# Last n_input points from the training set\n",
        "first_eval_batch = scaled_train[-n_input:]        # More genralised version of first_eval_batch\n",
        "current_batch = first_eval_batch.reshape((1,n_input,n_features))\n",
        "\n",
        "# Now, how far into the future will I forecast?\n",
        "#    For now, the answer is len(test), but we can choose our own length and which also includes the concern about predicting for true unknown future\n",
        "for i in range(len(test)):\n",
        "\n",
        "  # one time step ahead of historical 12 points\n",
        "  current_pred = model.predict(current_batch)[0]\n",
        "\n",
        "  # Store that prediction\n",
        "  test_predictions.append(current_pred)\n",
        "  \n",
        "  # Update the current batch to include prediction  \n",
        "  current_batch = np.append(current_batch[:,1:,:],[[current_pred]],axis=1)"
      ],
      "execution_count": null,
      "outputs": []
    },
    {
      "cell_type": "markdown",
      "metadata": {
        "id": "NMECkwyZtbAe"
      },
      "source": [
        "# Understanding above block\n",
        "1. We got empty list that's going to hold my predictions.\n",
        "2. Grab first evaluation batch because :\n",
        "Recall that our model takes in 12 historical points and then output a 13th point which means if I want to try to predict that very first point in the test set I am gonna need the 12 historical values right behind it, which are going to be the last 12 values of our trainng set\n",
        "3. reshape first_eval_batch to the format the RNN wants, which is the same format as the time series generator outputs. In'reshape((1,n_input,n_features))'\n",
        "first input is Batch dimension\n",
        "4. I'm going to forecast the length of the test set into the future for 12 points. So:\n",
        "(1). Well, the first thing is I grab my current prediction, which is one time step ahead of historical 12 points. The zero here is for formatting.\n",
        "(2). Store that prediction\n",
        "\n",
        "- I want to do now is I want to forecast one time step ahead further than my_first_prediction. But recall, I need 12 historical values.\n",
        "\n",
        "- So, now, I am going to drop the first value from the current batch and then add on my prediction to the very end\n",
        "\n",
        "- And thats where 'current_batch[:,1:,:]' comes into play, here the shape of 'current_batch' is (1, 12, 1) and [:,1:,:] means as follows [everything in the dimension:from one to the end:everything in the dimension] What it does is that it removes our first data(that we wanted to remove), So the new shape would be (1, 11, 1)\n",
        "\n",
        "- And then \"np.append(current_batch[:,1:,:],[[current_pred]],axis=1)\" add our first prediction to the current_batch.\n",
        "\n",
        "- Here axis=1 tells to add it in the middle of (1,12,1)\n",
        "\n",
        "5. And I keep repeating this process.\n",
        "6. Eventually the recurrent neural network is going to, if you go long enough, do forecasts on forecasts. And it can get very noisy\n"
      ]
    },
    {
      "cell_type": "code",
      "metadata": {
        "colab": {
          "base_uri": "https://localhost:8080/"
        },
        "id": "aEFbwwMK1F5y",
        "outputId": "4fc43c0f-01f7-4ecd-ebbd-482b1eebdbf0"
      },
      "source": [
        "test_predictions"
      ],
      "execution_count": null,
      "outputs": [
        {
          "output_type": "execute_result",
          "data": {
            "text/plain": [
              "[array([0.69604456], dtype=float32),\n",
              " array([0.81496537], dtype=float32),\n",
              " array([0.7699846], dtype=float32),\n",
              " array([0.91856694], dtype=float32),\n",
              " array([0.99231696], dtype=float32),\n",
              " array([0.75788975], dtype=float32),\n",
              " array([0.89827347], dtype=float32),\n",
              " array([0.7724556], dtype=float32),\n",
              " array([0.84340525], dtype=float32),\n",
              " array([0.8856157], dtype=float32),\n",
              " array([0.9584445], dtype=float32),\n",
              " array([0.60373783], dtype=float32)]"
            ]
          },
          "metadata": {
            "tags": []
          },
          "execution_count": 120
        }
      ]
    },
    {
      "cell_type": "markdown",
      "metadata": {
        "id": "3NCFspV32Kpu"
      },
      "source": [
        "Now we want to invert that scaling data"
      ]
    },
    {
      "cell_type": "code",
      "metadata": {
        "id": "5zP6YTbM2Fnj"
      },
      "source": [
        "true_predictions = scaler.inverse_transform(test_predictions)"
      ],
      "execution_count": null,
      "outputs": []
    },
    {
      "cell_type": "code",
      "metadata": {
        "colab": {
          "base_uri": "https://localhost:8080/"
        },
        "id": "mJk4B9l_2jl3",
        "outputId": "31868bce-5e55-45c2-900d-9ee2f7f912e5"
      },
      "source": [
        "true_predictions"
      ],
      "execution_count": null,
      "outputs": [
        {
          "output_type": "execute_result",
          "data": {
            "text/plain": [
              "array([[11174.02535713],\n",
              "       [12565.27983224],\n",
              "       [12039.04986966],\n",
              "       [13777.31465697],\n",
              "       [14640.11613011],\n",
              "       [11897.5521574 ],\n",
              "       [13539.90130234],\n",
              "       [12067.95774949],\n",
              "       [12897.99798155],\n",
              "       [13391.81814969],\n",
              "       [14243.84192622],\n",
              "       [10094.12888622]])"
            ]
          },
          "metadata": {
            "tags": []
          },
          "execution_count": 122
        }
      ]
    },
    {
      "cell_type": "code",
      "metadata": {
        "id": "__8nXVm14zaQ"
      },
      "source": [
        "test['Predictions'] = true_predictions"
      ],
      "execution_count": null,
      "outputs": []
    },
    {
      "cell_type": "code",
      "metadata": {
        "colab": {
          "base_uri": "https://localhost:8080/",
          "height": 452
        },
        "id": "FQLnpkx25QbK",
        "outputId": "9e510849-98f7-4c6d-ad3b-f16a9f78c2c4"
      },
      "source": [
        "test"
      ],
      "execution_count": null,
      "outputs": [
        {
          "output_type": "execute_result",
          "data": {
            "text/html": [
              "<div>\n",
              "<style scoped>\n",
              "    .dataframe tbody tr th:only-of-type {\n",
              "        vertical-align: middle;\n",
              "    }\n",
              "\n",
              "    .dataframe tbody tr th {\n",
              "        vertical-align: top;\n",
              "    }\n",
              "\n",
              "    .dataframe thead th {\n",
              "        text-align: right;\n",
              "    }\n",
              "</style>\n",
              "<table border=\"1\" class=\"dataframe\">\n",
              "  <thead>\n",
              "    <tr style=\"text-align: right;\">\n",
              "      <th></th>\n",
              "      <th>Sales</th>\n",
              "      <th>Predictions</th>\n",
              "    </tr>\n",
              "    <tr>\n",
              "      <th>DATE</th>\n",
              "      <th></th>\n",
              "      <th></th>\n",
              "    </tr>\n",
              "  </thead>\n",
              "  <tbody>\n",
              "    <tr>\n",
              "      <th>2018-02-01</th>\n",
              "      <td>10415</td>\n",
              "      <td>11174.025357</td>\n",
              "    </tr>\n",
              "    <tr>\n",
              "      <th>2018-03-01</th>\n",
              "      <td>12683</td>\n",
              "      <td>12565.279832</td>\n",
              "    </tr>\n",
              "    <tr>\n",
              "      <th>2018-04-01</th>\n",
              "      <td>11919</td>\n",
              "      <td>12039.049870</td>\n",
              "    </tr>\n",
              "    <tr>\n",
              "      <th>2018-05-01</th>\n",
              "      <td>14138</td>\n",
              "      <td>13777.314657</td>\n",
              "    </tr>\n",
              "    <tr>\n",
              "      <th>2018-06-01</th>\n",
              "      <td>14583</td>\n",
              "      <td>14640.116130</td>\n",
              "    </tr>\n",
              "    <tr>\n",
              "      <th>2018-07-01</th>\n",
              "      <td>12640</td>\n",
              "      <td>11897.552157</td>\n",
              "    </tr>\n",
              "    <tr>\n",
              "      <th>2018-08-01</th>\n",
              "      <td>14257</td>\n",
              "      <td>13539.901302</td>\n",
              "    </tr>\n",
              "    <tr>\n",
              "      <th>2018-09-01</th>\n",
              "      <td>12396</td>\n",
              "      <td>12067.957749</td>\n",
              "    </tr>\n",
              "    <tr>\n",
              "      <th>2018-10-01</th>\n",
              "      <td>13914</td>\n",
              "      <td>12897.997982</td>\n",
              "    </tr>\n",
              "    <tr>\n",
              "      <th>2018-11-01</th>\n",
              "      <td>14174</td>\n",
              "      <td>13391.818150</td>\n",
              "    </tr>\n",
              "    <tr>\n",
              "      <th>2018-12-01</th>\n",
              "      <td>15504</td>\n",
              "      <td>14243.841926</td>\n",
              "    </tr>\n",
              "    <tr>\n",
              "      <th>2019-01-01</th>\n",
              "      <td>10718</td>\n",
              "      <td>10094.128886</td>\n",
              "    </tr>\n",
              "  </tbody>\n",
              "</table>\n",
              "</div>"
            ],
            "text/plain": [
              "            Sales   Predictions\n",
              "DATE                           \n",
              "2018-02-01  10415  11174.025357\n",
              "2018-03-01  12683  12565.279832\n",
              "2018-04-01  11919  12039.049870\n",
              "2018-05-01  14138  13777.314657\n",
              "2018-06-01  14583  14640.116130\n",
              "2018-07-01  12640  11897.552157\n",
              "2018-08-01  14257  13539.901302\n",
              "2018-09-01  12396  12067.957749\n",
              "2018-10-01  13914  12897.997982\n",
              "2018-11-01  14174  13391.818150\n",
              "2018-12-01  15504  14243.841926\n",
              "2019-01-01  10718  10094.128886"
            ]
          },
          "metadata": {
            "tags": []
          },
          "execution_count": 125
        }
      ]
    },
    {
      "cell_type": "code",
      "metadata": {
        "colab": {
          "base_uri": "https://localhost:8080/",
          "height": 525
        },
        "id": "JnS_IK3x6QJO",
        "outputId": "a26d49f5-9a1c-49bc-adb9-efc70628cb16"
      },
      "source": [
        "test.plot(figsize = (12,8))"
      ],
      "execution_count": null,
      "outputs": [
        {
          "output_type": "execute_result",
          "data": {
            "text/plain": [
              "<matplotlib.axes._subplots.AxesSubplot at 0x7f3dcb17ba90>"
            ]
          },
          "metadata": {
            "tags": []
          },
          "execution_count": 126
        },
        {
          "output_type": "display_data",
          "data": {
            "image/png": "[encoded data removed]",
            "text/plain": [
              "<Figure size 864x576 with 1 Axes>"
            ]
          },
          "metadata": {
            "tags": [],
            "needs_background": "light"
          }
        }
      ]
    },
    {
      "cell_type": "markdown",
      "metadata": {
        "id": "u1G1j84GJCwx"
      },
      "source": [
        "- Keep in mind, there is a little bit of randomness when you're training your recurrent neural network \n",
        "\n",
        "- And you may not get the exact values I get here, but more or less, there should be some sort of lining up to these peaks and valleys."
      ]
    },
    {
      "cell_type": "code",
      "metadata": {
        "id": "65dHAQkZ6ZC0"
      },
      "source": [
        "model.save('mycoolmodel.h5')"
      ],
      "execution_count": null,
      "outputs": []
    },
    {
      "cell_type": "code",
      "metadata": {
        "colab": {
          "base_uri": "https://localhost:8080/",
          "height": 35
        },
        "id": "V3qLPD2xPCj9",
        "outputId": "0b7b9974-1057-4897-98bc-889930194a61"
      },
      "source": [
        "pwd"
      ],
      "execution_count": null,
      "outputs": [
        {
          "output_type": "execute_result",
          "data": {
            "application/vnd.google.colaboratory.intrinsic+json": {
              "type": "string"
            },
            "text/plain": [
              "'/content'"
            ]
          },
          "metadata": {
            "tags": []
          },
          "execution_count": 128
        }
      ]
    },
    {
      "cell_type": "code",
      "metadata": {
        "id": "Ocz2zKrOPMBY"
      },
      "source": [
        ""
      ],
      "execution_count": null,
      "outputs": []
    }
  ]
}
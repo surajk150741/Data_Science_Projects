{
  "nbformat": 4,
  "nbformat_minor": 0,
  "metadata": {
    "colab": {
      "name": "Data Analysis of Movies.ipynb",
      "provenance": [],
      "collapsed_sections": [],
      "authorship_tag": "ABX9TyPDAwQq9y+15pSEOJ8iN1V2",
      "include_colab_link": true
    },
    "kernelspec": {
      "display_name": "Python 3",
      "name": "python3"
    },
    "language_info": {
      "name": "python"
    }
  },
  "cells": [
    {
      "cell_type": "markdown",
      "metadata": {
        "id": "view-in-github",
        "colab_type": "text"
      },
      "source": [
        "<a href=\"https://colab.research.google.com/github/surajk150741/Data_Science_Projects/blob/main/Movie%20imdb(web%20scraping)/Data_Analysis_of_Movies.ipynb\" target=\"_parent\"><img src=\"https://colab.research.google.com/assets/colab-badge.svg\" alt=\"Open In Colab\"/></a>"
      ]
    },
    {
      "cell_type": "markdown",
      "metadata": {
        "id": "9YFwrzMt_c5w"
      },
      "source": [
        "# In this notebook, I have Analysed the dataframe I created in the web scraping section\n",
        "\n",
        "**Steps Included**:\n",
        "\n",
        "- Removed the column with null values\n",
        "- Converted the date of release into datetime object.\n",
        "- Made a function to calculate the age of a movie.\n",
        "- Came up with a definition to check the popularity of any content."
      ]
    },
    {
      "cell_type": "markdown",
      "metadata": {
        "id": "AhJ49jC6AZa8"
      },
      "source": [
        "### Importing and cleaning"
      ]
    },
    {
      "cell_type": "code",
      "metadata": {
        "id": "zyt7LQf2Aj0u"
      },
      "source": [
        "import pandas as pd\n",
        "import numpy as np\n"
      ],
      "execution_count": null,
      "outputs": []
    },
    {
      "cell_type": "code",
      "metadata": {
        "colab": {
          "resources": {
            "http://localhost:8080/nbextensions/google.colab/files.js": {
              "data": "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",
              "ok": true,
              "headers": [
                [
                  "content-type",
                  "application/javascript"
                ]
              ],
              "status": 200,
              "status_text": ""
            }
          },
          "base_uri": "https://localhost:8080/",
          "height": 72
        },
        "id": "dE5PVff69EBI",
        "outputId": "b5ecba85-24e0-4bef-94e1-733eae943307"
      },
      "source": [
        "from google.colab import files\n",
        "uploaded = files.upload()"
      ],
      "execution_count": null,
      "outputs": [
        {
          "output_type": "display_data",
          "data": {
            "text/html": [
              "\n",
              "     <input type=\"file\" id=\"files-a03b136c-6187-4740-93ee-28965d689222\" name=\"files[]\" multiple disabled\n",
              "        style=\"border:none\" />\n",
              "     <output id=\"result-a03b136c-6187-4740-93ee-28965d689222\">\n",
              "      Upload widget is only available when the cell has been executed in the\n",
              "      current browser session. Please rerun this cell to enable.\n",
              "      </output>\n",
              "      <script src=\"/nbextensions/google.colab/files.js\"></script> "
            ],
            "text/plain": [
              "<IPython.core.display.HTML object>"
            ]
          },
          "metadata": {}
        },
        {
          "output_type": "stream",
          "text": [
            "Saving imdb.csv to imdb.csv\n"
          ],
          "name": "stdout"
        }
      ]
    },
    {
      "cell_type": "code",
      "metadata": {
        "id": "qkkKSNpWloOw"
      },
      "source": [
        "df = pd.read_csv('imdb.csv')"
      ],
      "execution_count": null,
      "outputs": []
    },
    {
      "cell_type": "code",
      "metadata": {
        "id": "RF1LSRIqj6xx"
      },
      "source": [
        "index_names = df[(df['IMDB_rating'] == 0.0)].index\n",
        "df.drop(index_names, inplace=True)"
      ],
      "execution_count": null,
      "outputs": []
    },
    {
      "cell_type": "code",
      "metadata": {
        "colab": {
          "base_uri": "https://localhost:8080/",
          "height": 594
        },
        "id": "d0PFBRGYmU_f",
        "outputId": "32f8c9d5-8c09-4e47-b5fb-cc85a08a1093"
      },
      "source": [
        "df.drop(['Unnamed: 0'], axis=1,inplace=True)\n",
        "df = df.set_index('Title')\n",
        "df.head(10)"
      ],
      "execution_count": null,
      "outputs": [
        {
          "output_type": "execute_result",
          "data": {
            "text/html": [
              "<div>\n",
              "<style scoped>\n",
              "    .dataframe tbody tr th:only-of-type {\n",
              "        vertical-align: middle;\n",
              "    }\n",
              "\n",
              "    .dataframe tbody tr th {\n",
              "        vertical-align: top;\n",
              "    }\n",
              "\n",
              "    .dataframe thead th {\n",
              "        text-align: right;\n",
              "    }\n",
              "</style>\n",
              "<table border=\"1\" class=\"dataframe\">\n",
              "  <thead>\n",
              "    <tr style=\"text-align: right;\">\n",
              "      <th></th>\n",
              "      <th>IMDB_id</th>\n",
              "      <th>Date of release</th>\n",
              "      <th>Genre</th>\n",
              "      <th>IMDB_rating</th>\n",
              "      <th>IMDB_Votes</th>\n",
              "      <th>Cast &amp; Crew</th>\n",
              "      <th>Plot_keywords</th>\n",
              "      <th>Plot_summary</th>\n",
              "    </tr>\n",
              "    <tr>\n",
              "      <th>Title</th>\n",
              "      <th></th>\n",
              "      <th></th>\n",
              "      <th></th>\n",
              "      <th></th>\n",
              "      <th></th>\n",
              "      <th></th>\n",
              "      <th></th>\n",
              "      <th></th>\n",
              "    </tr>\n",
              "  </thead>\n",
              "  <tbody>\n",
              "    <tr>\n",
              "      <th>3 Idiots (2009)</th>\n",
              "      <td>tt1187043</td>\n",
              "      <td>23 December 2009</td>\n",
              "      <td>Comedy, Drama</td>\n",
              "      <td>8.4</td>\n",
              "      <td>365K</td>\n",
              "      <td>Aamir Khan, Madhavan, Sharman Joshi, Kareena K...</td>\n",
              "      <td>papadum, hairy chest, against the system, comi...</td>\n",
              "      <td>Two friends are searching for their long lost ...</td>\n",
              "    </tr>\n",
              "    <tr>\n",
              "      <th>3 Idiots (2009)</th>\n",
              "      <td>tt1187043</td>\n",
              "      <td>23 December 2009</td>\n",
              "      <td>Comedy, Drama</td>\n",
              "      <td>8.4</td>\n",
              "      <td>365K</td>\n",
              "      <td>Aamir Khan, Madhavan, Sharman Joshi, Kareena K...</td>\n",
              "      <td>papadum, hairy chest, against the system, comi...</td>\n",
              "      <td>Two friends are searching for their long lost ...</td>\n",
              "    </tr>\n",
              "    <tr>\n",
              "      <th>Rang De Basanti (2006)</th>\n",
              "      <td>tt0405508</td>\n",
              "      <td>26 January 2006</td>\n",
              "      <td>Comedy, Crime, Drama</td>\n",
              "      <td>8.1</td>\n",
              "      <td>116K</td>\n",
              "      <td>Aamir Khan, Siddharth, Sharman Joshi, Kunal Ka...</td>\n",
              "      <td>urination, delhi india, murder, mockery, frien...</td>\n",
              "      <td>The story of six young Indians who assist an E...</td>\n",
              "    </tr>\n",
              "    <tr>\n",
              "      <th>My Name Is Khan (2010)</th>\n",
              "      <td>tt1188996</td>\n",
              "      <td>11 February 2010</td>\n",
              "      <td>Drama</td>\n",
              "      <td>8.0</td>\n",
              "      <td>102K</td>\n",
              "      <td>Shah Rukh Khan, Kajol, Katie A. Keane, Kenton ...</td>\n",
              "      <td>barack obama character, asperger's syndrome, r...</td>\n",
              "      <td>An Indian Muslim man with Asperger's syndrome ...</td>\n",
              "    </tr>\n",
              "    <tr>\n",
              "      <th>Swades (2004)</th>\n",
              "      <td>tt0367110</td>\n",
              "      <td>17 December 2004</td>\n",
              "      <td>Drama</td>\n",
              "      <td>8.2</td>\n",
              "      <td>87K</td>\n",
              "      <td>Shah Rukh Khan, Gayatri Joshi, Kishori Ballal,...</td>\n",
              "      <td>india, village, nasa, postmaster, childhood na...</td>\n",
              "      <td>A successful Indian scientist returns to an In...</td>\n",
              "    </tr>\n",
              "    <tr>\n",
              "      <th>Gangs of Wasseypur (2012)</th>\n",
              "      <td>tt1954470</td>\n",
              "      <td>22 May 2012</td>\n",
              "      <td>Action, Crime, Drama</td>\n",
              "      <td>8.2</td>\n",
              "      <td>89K</td>\n",
              "      <td>Manoj Bajpayee, Richa Chadha, Nawazuddin Siddi...</td>\n",
              "      <td>revenge, blood, gun, abuse, gangster, violence...</td>\n",
              "      <td>A clash between Sultan and Shahid Khan leads t...</td>\n",
              "    </tr>\n",
              "    <tr>\n",
              "      <th>Barfi! (2012)</th>\n",
              "      <td>tt2082197</td>\n",
              "      <td>13 September 2012</td>\n",
              "      <td>Comedy, Drama, Romance</td>\n",
              "      <td>8.1</td>\n",
              "      <td>78K</td>\n",
              "      <td>Ranbir Kapoor, Priyanka Chopra Jonas, Ileana D...</td>\n",
              "      <td>hill station, autism, character name in title,...</td>\n",
              "      <td>Three young people learn that love can neither...</td>\n",
              "    </tr>\n",
              "    <tr>\n",
              "      <th>Chak De! India (2007)</th>\n",
              "      <td>tt0871510</td>\n",
              "      <td>10 August 2007</td>\n",
              "      <td>Drama, Family, Sport</td>\n",
              "      <td>8.2</td>\n",
              "      <td>77K</td>\n",
              "      <td>Shah Rukh Khan, Vidya Malvade, Sagarika Ghatge...</td>\n",
              "      <td>team, hockey, coach, brawl, boyfriend girlfrie...</td>\n",
              "      <td>Kabir Khan, the coach of the Indian Women's Na...</td>\n",
              "    </tr>\n",
              "    <tr>\n",
              "      <th>Bajrangi Bhaijaan (2015)</th>\n",
              "      <td>tt3863552</td>\n",
              "      <td>15 July 2015</td>\n",
              "      <td>Action, Adventure, Comedy</td>\n",
              "      <td>8.0</td>\n",
              "      <td>80K</td>\n",
              "      <td>Salman Khan, Harshaali Malhotra, Nawazuddin Si...</td>\n",
              "      <td>little girl, india, pakistan, mosque, muslim, ...</td>\n",
              "      <td>An Indian man with a magnanimous heart takes a...</td>\n",
              "    </tr>\n",
              "    <tr>\n",
              "      <th>Dil Chahta Hai (2001)</th>\n",
              "      <td>tt0292490</td>\n",
              "      <td>10 August 2001</td>\n",
              "      <td>Comedy, Drama, Romance</td>\n",
              "      <td>8.1</td>\n",
              "      <td>69K</td>\n",
              "      <td>Aamir Khan, Saif Ali Khan, Akshaye Khanna, Pre...</td>\n",
              "      <td>youth, told in flashback, love, goa india, nos...</td>\n",
              "      <td>Three inseparable childhood friends are just o...</td>\n",
              "    </tr>\n",
              "  </tbody>\n",
              "</table>\n",
              "</div>"
            ],
            "text/plain": [
              "                             IMDB_id  ...                                       Plot_summary\n",
              "Title                                 ...                                                   \n",
              "3 Idiots (2009)            tt1187043  ...  Two friends are searching for their long lost ...\n",
              "3 Idiots (2009)            tt1187043  ...  Two friends are searching for their long lost ...\n",
              "Rang De Basanti (2006)     tt0405508  ...  The story of six young Indians who assist an E...\n",
              "My Name Is Khan (2010)     tt1188996  ...  An Indian Muslim man with Asperger's syndrome ...\n",
              "Swades (2004)              tt0367110  ...  A successful Indian scientist returns to an In...\n",
              "Gangs of Wasseypur (2012)  tt1954470  ...  A clash between Sultan and Shahid Khan leads t...\n",
              "Barfi! (2012)              tt2082197  ...  Three young people learn that love can neither...\n",
              "Chak De! India (2007)      tt0871510  ...  Kabir Khan, the coach of the Indian Women's Na...\n",
              "Bajrangi Bhaijaan (2015)   tt3863552  ...  An Indian man with a magnanimous heart takes a...\n",
              "Dil Chahta Hai (2001)      tt0292490  ...  Three inseparable childhood friends are just o...\n",
              "\n",
              "[10 rows x 8 columns]"
            ]
          },
          "metadata": {},
          "execution_count": 170
        }
      ]
    },
    {
      "cell_type": "markdown",
      "metadata": {
        "id": "6AsXkeY5AgJP"
      },
      "source": [
        "### Calculating the age of a movie"
      ]
    },
    {
      "cell_type": "code",
      "metadata": {
        "colab": {
          "base_uri": "https://localhost:8080/"
        },
        "id": "oxtQ0v22smkn",
        "outputId": "f8054a4d-4609-423e-e17e-4de46b3a0aba"
      },
      "source": [
        "df['Date of release'] = pd.to_datetime(df['Date of release'])\n",
        "\n",
        "df['Date of release']\n"
      ],
      "execution_count": null,
      "outputs": [
        {
          "output_type": "execute_result",
          "data": {
            "text/plain": [
              "Title\n",
              "3 Idiots (2009)            2009-12-23\n",
              "3 Idiots (2009)            2009-12-23\n",
              "Rang De Basanti (2006)     2006-01-26\n",
              "My Name Is Khan (2010)     2010-02-11\n",
              "Swades (2004)              2004-12-17\n",
              "                              ...    \n",
              "Kaanch Ki Deewar (1986)    1986-01-31\n",
              "Pyar Pyar (1993)           1993-01-01\n",
              "Swarg Jaisaa Ghar (1991)   1991-11-29\n",
              "Sorry Daddy (2015)         2015-09-11\n",
              "Raadha Aur Seeta (1979)    1979-08-10\n",
              "Name: Date of release, Length: 1011, dtype: datetime64[ns]"
            ]
          },
          "metadata": {},
          "execution_count": 171
        }
      ]
    },
    {
      "cell_type": "code",
      "metadata": {
        "id": "Y2mfqTnkpq_M"
      },
      "source": [
        "#from datetime import date\n",
        "def from_releasedate_to_age(released):\n",
        "    today = datetime.date.today()\n",
        "    return today.year - released.year - ((today.month, today.day) < (released.month, released.day))"
      ],
      "execution_count": null,
      "outputs": []
    },
    {
      "cell_type": "code",
      "metadata": {
        "id": "rXtKXMrfsivg"
      },
      "source": [
        "import datetime\n",
        "df['Age of content'] = df['Date of release'].apply(lambda x: from_releasedate_to_age(x))"
      ],
      "execution_count": null,
      "outputs": []
    },
    {
      "cell_type": "code",
      "metadata": {
        "colab": {
          "base_uri": "https://localhost:8080/",
          "height": 357
        },
        "id": "z5fAkB-au_iD",
        "outputId": "ff562814-7006-4a9d-b411-2b17312cc90b"
      },
      "source": [
        "df = df.reset_index()\n",
        "df.head()"
      ],
      "execution_count": null,
      "outputs": [
        {
          "output_type": "execute_result",
          "data": {
            "text/html": [
              "<div>\n",
              "<style scoped>\n",
              "    .dataframe tbody tr th:only-of-type {\n",
              "        vertical-align: middle;\n",
              "    }\n",
              "\n",
              "    .dataframe tbody tr th {\n",
              "        vertical-align: top;\n",
              "    }\n",
              "\n",
              "    .dataframe thead th {\n",
              "        text-align: right;\n",
              "    }\n",
              "</style>\n",
              "<table border=\"1\" class=\"dataframe\">\n",
              "  <thead>\n",
              "    <tr style=\"text-align: right;\">\n",
              "      <th></th>\n",
              "      <th>Title</th>\n",
              "      <th>IMDB_id</th>\n",
              "      <th>Date of release</th>\n",
              "      <th>Genre</th>\n",
              "      <th>IMDB_rating</th>\n",
              "      <th>IMDB_Votes</th>\n",
              "      <th>Cast &amp; Crew</th>\n",
              "      <th>Plot_keywords</th>\n",
              "      <th>Plot_summary</th>\n",
              "      <th>Age of content</th>\n",
              "    </tr>\n",
              "  </thead>\n",
              "  <tbody>\n",
              "    <tr>\n",
              "      <th>0</th>\n",
              "      <td>3 Idiots (2009)</td>\n",
              "      <td>tt1187043</td>\n",
              "      <td>2009-12-23</td>\n",
              "      <td>Comedy, Drama</td>\n",
              "      <td>8.4</td>\n",
              "      <td>365K</td>\n",
              "      <td>Aamir Khan, Madhavan, Sharman Joshi, Kareena K...</td>\n",
              "      <td>papadum, hairy chest, against the system, comi...</td>\n",
              "      <td>Two friends are searching for their long lost ...</td>\n",
              "      <td>11</td>\n",
              "    </tr>\n",
              "    <tr>\n",
              "      <th>1</th>\n",
              "      <td>3 Idiots (2009)</td>\n",
              "      <td>tt1187043</td>\n",
              "      <td>2009-12-23</td>\n",
              "      <td>Comedy, Drama</td>\n",
              "      <td>8.4</td>\n",
              "      <td>365K</td>\n",
              "      <td>Aamir Khan, Madhavan, Sharman Joshi, Kareena K...</td>\n",
              "      <td>papadum, hairy chest, against the system, comi...</td>\n",
              "      <td>Two friends are searching for their long lost ...</td>\n",
              "      <td>11</td>\n",
              "    </tr>\n",
              "    <tr>\n",
              "      <th>2</th>\n",
              "      <td>Rang De Basanti (2006)</td>\n",
              "      <td>tt0405508</td>\n",
              "      <td>2006-01-26</td>\n",
              "      <td>Comedy, Crime, Drama</td>\n",
              "      <td>8.1</td>\n",
              "      <td>116K</td>\n",
              "      <td>Aamir Khan, Siddharth, Sharman Joshi, Kunal Ka...</td>\n",
              "      <td>urination, delhi india, murder, mockery, frien...</td>\n",
              "      <td>The story of six young Indians who assist an E...</td>\n",
              "      <td>15</td>\n",
              "    </tr>\n",
              "    <tr>\n",
              "      <th>3</th>\n",
              "      <td>My Name Is Khan (2010)</td>\n",
              "      <td>tt1188996</td>\n",
              "      <td>2010-02-11</td>\n",
              "      <td>Drama</td>\n",
              "      <td>8.0</td>\n",
              "      <td>102K</td>\n",
              "      <td>Shah Rukh Khan, Kajol, Katie A. Keane, Kenton ...</td>\n",
              "      <td>barack obama character, asperger's syndrome, r...</td>\n",
              "      <td>An Indian Muslim man with Asperger's syndrome ...</td>\n",
              "      <td>11</td>\n",
              "    </tr>\n",
              "    <tr>\n",
              "      <th>4</th>\n",
              "      <td>Swades (2004)</td>\n",
              "      <td>tt0367110</td>\n",
              "      <td>2004-12-17</td>\n",
              "      <td>Drama</td>\n",
              "      <td>8.2</td>\n",
              "      <td>87K</td>\n",
              "      <td>Shah Rukh Khan, Gayatri Joshi, Kishori Ballal,...</td>\n",
              "      <td>india, village, nasa, postmaster, childhood na...</td>\n",
              "      <td>A successful Indian scientist returns to an In...</td>\n",
              "      <td>16</td>\n",
              "    </tr>\n",
              "  </tbody>\n",
              "</table>\n",
              "</div>"
            ],
            "text/plain": [
              "                    Title  ... Age of content\n",
              "0         3 Idiots (2009)  ...             11\n",
              "1         3 Idiots (2009)  ...             11\n",
              "2  Rang De Basanti (2006)  ...             15\n",
              "3  My Name Is Khan (2010)  ...             11\n",
              "4           Swades (2004)  ...             16\n",
              "\n",
              "[5 rows x 10 columns]"
            ]
          },
          "metadata": {},
          "execution_count": 174
        }
      ]
    },
    {
      "cell_type": "markdown",
      "metadata": {
        "id": "yyEC0aN5ArSb"
      },
      "source": [
        "### Popularity of a movie"
      ]
    },
    {
      "cell_type": "code",
      "metadata": {
        "id": "fNFhVFZxv8-7"
      },
      "source": [
        "#test_string = \"25K\"\n",
        "df['votes(K)'] = df['IMDB_Votes'].str.split('K')\n"
      ],
      "execution_count": null,
      "outputs": []
    },
    {
      "cell_type": "code",
      "metadata": {
        "colab": {
          "base_uri": "https://localhost:8080/"
        },
        "id": "6qLDalUexY5L",
        "outputId": "e1edeceb-c2a0-4902-f7f7-cdc704598067"
      },
      "source": [
        "df['votes(K)'][1010]"
      ],
      "execution_count": null,
      "outputs": [
        {
          "output_type": "execute_result",
          "data": {
            "text/plain": [
              "['14']"
            ]
          },
          "metadata": {},
          "execution_count": 176
        }
      ]
    },
    {
      "cell_type": "code",
      "metadata": {
        "colab": {
          "base_uri": "https://localhost:8080/",
          "height": 391
        },
        "id": "4gP-vB1JyqJJ",
        "outputId": "13b46953-a62c-41cc-d9fe-289b676d1e8b"
      },
      "source": [
        "df.head()"
      ],
      "execution_count": null,
      "outputs": [
        {
          "output_type": "execute_result",
          "data": {
            "text/html": [
              "<div>\n",
              "<style scoped>\n",
              "    .dataframe tbody tr th:only-of-type {\n",
              "        vertical-align: middle;\n",
              "    }\n",
              "\n",
              "    .dataframe tbody tr th {\n",
              "        vertical-align: top;\n",
              "    }\n",
              "\n",
              "    .dataframe thead th {\n",
              "        text-align: right;\n",
              "    }\n",
              "</style>\n",
              "<table border=\"1\" class=\"dataframe\">\n",
              "  <thead>\n",
              "    <tr style=\"text-align: right;\">\n",
              "      <th></th>\n",
              "      <th>Title</th>\n",
              "      <th>IMDB_id</th>\n",
              "      <th>Date of release</th>\n",
              "      <th>Genre</th>\n",
              "      <th>IMDB_rating</th>\n",
              "      <th>IMDB_Votes</th>\n",
              "      <th>Cast &amp; Crew</th>\n",
              "      <th>Plot_keywords</th>\n",
              "      <th>Plot_summary</th>\n",
              "      <th>Age of content</th>\n",
              "      <th>votes(K)</th>\n",
              "    </tr>\n",
              "  </thead>\n",
              "  <tbody>\n",
              "    <tr>\n",
              "      <th>0</th>\n",
              "      <td>3 Idiots (2009)</td>\n",
              "      <td>tt1187043</td>\n",
              "      <td>2009-12-23</td>\n",
              "      <td>Comedy, Drama</td>\n",
              "      <td>8.4</td>\n",
              "      <td>365K</td>\n",
              "      <td>Aamir Khan, Madhavan, Sharman Joshi, Kareena K...</td>\n",
              "      <td>papadum, hairy chest, against the system, comi...</td>\n",
              "      <td>Two friends are searching for their long lost ...</td>\n",
              "      <td>11</td>\n",
              "      <td>[365, ]</td>\n",
              "    </tr>\n",
              "    <tr>\n",
              "      <th>1</th>\n",
              "      <td>3 Idiots (2009)</td>\n",
              "      <td>tt1187043</td>\n",
              "      <td>2009-12-23</td>\n",
              "      <td>Comedy, Drama</td>\n",
              "      <td>8.4</td>\n",
              "      <td>365K</td>\n",
              "      <td>Aamir Khan, Madhavan, Sharman Joshi, Kareena K...</td>\n",
              "      <td>papadum, hairy chest, against the system, comi...</td>\n",
              "      <td>Two friends are searching for their long lost ...</td>\n",
              "      <td>11</td>\n",
              "      <td>[365, ]</td>\n",
              "    </tr>\n",
              "    <tr>\n",
              "      <th>2</th>\n",
              "      <td>Rang De Basanti (2006)</td>\n",
              "      <td>tt0405508</td>\n",
              "      <td>2006-01-26</td>\n",
              "      <td>Comedy, Crime, Drama</td>\n",
              "      <td>8.1</td>\n",
              "      <td>116K</td>\n",
              "      <td>Aamir Khan, Siddharth, Sharman Joshi, Kunal Ka...</td>\n",
              "      <td>urination, delhi india, murder, mockery, frien...</td>\n",
              "      <td>The story of six young Indians who assist an E...</td>\n",
              "      <td>15</td>\n",
              "      <td>[116, ]</td>\n",
              "    </tr>\n",
              "    <tr>\n",
              "      <th>3</th>\n",
              "      <td>My Name Is Khan (2010)</td>\n",
              "      <td>tt1188996</td>\n",
              "      <td>2010-02-11</td>\n",
              "      <td>Drama</td>\n",
              "      <td>8.0</td>\n",
              "      <td>102K</td>\n",
              "      <td>Shah Rukh Khan, Kajol, Katie A. Keane, Kenton ...</td>\n",
              "      <td>barack obama character, asperger's syndrome, r...</td>\n",
              "      <td>An Indian Muslim man with Asperger's syndrome ...</td>\n",
              "      <td>11</td>\n",
              "      <td>[102, ]</td>\n",
              "    </tr>\n",
              "    <tr>\n",
              "      <th>4</th>\n",
              "      <td>Swades (2004)</td>\n",
              "      <td>tt0367110</td>\n",
              "      <td>2004-12-17</td>\n",
              "      <td>Drama</td>\n",
              "      <td>8.2</td>\n",
              "      <td>87K</td>\n",
              "      <td>Shah Rukh Khan, Gayatri Joshi, Kishori Ballal,...</td>\n",
              "      <td>india, village, nasa, postmaster, childhood na...</td>\n",
              "      <td>A successful Indian scientist returns to an In...</td>\n",
              "      <td>16</td>\n",
              "      <td>[87, ]</td>\n",
              "    </tr>\n",
              "  </tbody>\n",
              "</table>\n",
              "</div>"
            ],
            "text/plain": [
              "                    Title    IMDB_id  ... Age of content votes(K)\n",
              "0         3 Idiots (2009)  tt1187043  ...             11  [365, ]\n",
              "1         3 Idiots (2009)  tt1187043  ...             11  [365, ]\n",
              "2  Rang De Basanti (2006)  tt0405508  ...             15  [116, ]\n",
              "3  My Name Is Khan (2010)  tt1188996  ...             11  [102, ]\n",
              "4           Swades (2004)  tt0367110  ...             16   [87, ]\n",
              "\n",
              "[5 rows x 11 columns]"
            ]
          },
          "metadata": {},
          "execution_count": 177
        }
      ]
    },
    {
      "cell_type": "code",
      "metadata": {
        "id": "pvnV2X371USH"
      },
      "source": [
        "df['popularity_num'] = df['IMDB_rating']*100"
      ],
      "execution_count": null,
      "outputs": []
    },
    {
      "cell_type": "code",
      "metadata": {
        "colab": {
          "base_uri": "https://localhost:8080/"
        },
        "id": "SKcO3WZr28O2",
        "outputId": "c7aef339-5c6d-4c3f-e246-ac4257db6d4a"
      },
      "source": [
        "for i in range(len(df)):\n",
        "\n",
        "  df['popularity_num'][i] = pd.to_numeric(df['votes(K)'][i][0]) + df['IMDB_rating'][i]*100"
      ],
      "execution_count": null,
      "outputs": [
        {
          "output_type": "stream",
          "text": [
            "/usr/local/lib/python3.7/dist-packages/ipykernel_launcher.py:3: SettingWithCopyWarning: \n",
            "A value is trying to be set on a copy of a slice from a DataFrame\n",
            "\n",
            "See the caveats in the documentation: https://pandas.pydata.org/pandas-docs/stable/user_guide/indexing.html#returning-a-view-versus-a-copy\n",
            "  This is separate from the ipykernel package so we can avoid doing imports until\n"
          ],
          "name": "stderr"
        }
      ]
    },
    {
      "cell_type": "code",
      "metadata": {
        "colab": {
          "base_uri": "https://localhost:8080/",
          "height": 442
        },
        "id": "hxYvFfj3z8K4",
        "outputId": "458b69b5-f1a0-48dc-cbc1-e08998ba3df8"
      },
      "source": [
        "df.head()"
      ],
      "execution_count": null,
      "outputs": [
        {
          "output_type": "execute_result",
          "data": {
            "text/html": [
              "<div>\n",
              "<style scoped>\n",
              "    .dataframe tbody tr th:only-of-type {\n",
              "        vertical-align: middle;\n",
              "    }\n",
              "\n",
              "    .dataframe tbody tr th {\n",
              "        vertical-align: top;\n",
              "    }\n",
              "\n",
              "    .dataframe thead th {\n",
              "        text-align: right;\n",
              "    }\n",
              "</style>\n",
              "<table border=\"1\" class=\"dataframe\">\n",
              "  <thead>\n",
              "    <tr style=\"text-align: right;\">\n",
              "      <th></th>\n",
              "      <th>Title</th>\n",
              "      <th>IMDB_id</th>\n",
              "      <th>Date of release</th>\n",
              "      <th>Genre</th>\n",
              "      <th>IMDB_rating</th>\n",
              "      <th>IMDB_Votes</th>\n",
              "      <th>Cast &amp; Crew</th>\n",
              "      <th>Plot_keywords</th>\n",
              "      <th>Plot_summary</th>\n",
              "      <th>Age of content</th>\n",
              "      <th>votes(K)</th>\n",
              "      <th>popularity_num</th>\n",
              "    </tr>\n",
              "  </thead>\n",
              "  <tbody>\n",
              "    <tr>\n",
              "      <th>0</th>\n",
              "      <td>3 Idiots (2009)</td>\n",
              "      <td>tt1187043</td>\n",
              "      <td>2009-12-23</td>\n",
              "      <td>Comedy, Drama</td>\n",
              "      <td>8.4</td>\n",
              "      <td>365K</td>\n",
              "      <td>Aamir Khan, Madhavan, Sharman Joshi, Kareena K...</td>\n",
              "      <td>papadum, hairy chest, against the system, comi...</td>\n",
              "      <td>Two friends are searching for their long lost ...</td>\n",
              "      <td>11</td>\n",
              "      <td>[365, ]</td>\n",
              "      <td>1205.0</td>\n",
              "    </tr>\n",
              "    <tr>\n",
              "      <th>1</th>\n",
              "      <td>3 Idiots (2009)</td>\n",
              "      <td>tt1187043</td>\n",
              "      <td>2009-12-23</td>\n",
              "      <td>Comedy, Drama</td>\n",
              "      <td>8.4</td>\n",
              "      <td>365K</td>\n",
              "      <td>Aamir Khan, Madhavan, Sharman Joshi, Kareena K...</td>\n",
              "      <td>papadum, hairy chest, against the system, comi...</td>\n",
              "      <td>Two friends are searching for their long lost ...</td>\n",
              "      <td>11</td>\n",
              "      <td>[365, ]</td>\n",
              "      <td>1205.0</td>\n",
              "    </tr>\n",
              "    <tr>\n",
              "      <th>2</th>\n",
              "      <td>Rang De Basanti (2006)</td>\n",
              "      <td>tt0405508</td>\n",
              "      <td>2006-01-26</td>\n",
              "      <td>Comedy, Crime, Drama</td>\n",
              "      <td>8.1</td>\n",
              "      <td>116K</td>\n",
              "      <td>Aamir Khan, Siddharth, Sharman Joshi, Kunal Ka...</td>\n",
              "      <td>urination, delhi india, murder, mockery, frien...</td>\n",
              "      <td>The story of six young Indians who assist an E...</td>\n",
              "      <td>15</td>\n",
              "      <td>[116, ]</td>\n",
              "      <td>926.0</td>\n",
              "    </tr>\n",
              "    <tr>\n",
              "      <th>3</th>\n",
              "      <td>My Name Is Khan (2010)</td>\n",
              "      <td>tt1188996</td>\n",
              "      <td>2010-02-11</td>\n",
              "      <td>Drama</td>\n",
              "      <td>8.0</td>\n",
              "      <td>102K</td>\n",
              "      <td>Shah Rukh Khan, Kajol, Katie A. Keane, Kenton ...</td>\n",
              "      <td>barack obama character, asperger's syndrome, r...</td>\n",
              "      <td>An Indian Muslim man with Asperger's syndrome ...</td>\n",
              "      <td>11</td>\n",
              "      <td>[102, ]</td>\n",
              "      <td>902.0</td>\n",
              "    </tr>\n",
              "    <tr>\n",
              "      <th>4</th>\n",
              "      <td>Swades (2004)</td>\n",
              "      <td>tt0367110</td>\n",
              "      <td>2004-12-17</td>\n",
              "      <td>Drama</td>\n",
              "      <td>8.2</td>\n",
              "      <td>87K</td>\n",
              "      <td>Shah Rukh Khan, Gayatri Joshi, Kishori Ballal,...</td>\n",
              "      <td>india, village, nasa, postmaster, childhood na...</td>\n",
              "      <td>A successful Indian scientist returns to an In...</td>\n",
              "      <td>16</td>\n",
              "      <td>[87, ]</td>\n",
              "      <td>907.0</td>\n",
              "    </tr>\n",
              "  </tbody>\n",
              "</table>\n",
              "</div>"
            ],
            "text/plain": [
              "                    Title    IMDB_id  ... votes(K) popularity_num\n",
              "0         3 Idiots (2009)  tt1187043  ...  [365, ]         1205.0\n",
              "1         3 Idiots (2009)  tt1187043  ...  [365, ]         1205.0\n",
              "2  Rang De Basanti (2006)  tt0405508  ...  [116, ]          926.0\n",
              "3  My Name Is Khan (2010)  tt1188996  ...  [102, ]          902.0\n",
              "4           Swades (2004)  tt0367110  ...   [87, ]          907.0\n",
              "\n",
              "[5 rows x 12 columns]"
            ]
          },
          "metadata": {},
          "execution_count": 181
        }
      ]
    },
    {
      "cell_type": "code",
      "metadata": {
        "id": "BhMFdCWd-xyv"
      },
      "source": [
        ""
      ],
      "execution_count": null,
      "outputs": []
    }
  ]
}
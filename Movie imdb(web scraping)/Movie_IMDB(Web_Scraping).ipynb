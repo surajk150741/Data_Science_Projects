{
  "nbformat": 4,
  "nbformat_minor": 0,
  "metadata": {
    "colab": {
      "name": "Movie IMDB(Web Scraping)",
      "provenance": [],
      "collapsed_sections": [],
      "authorship_tag": "ABX9TyMFqr1b8U1vGGDeBgGBr20J",
      "include_colab_link": true
    },
    "kernelspec": {
      "display_name": "Python 3",
      "name": "python3"
    },
    "language_info": {
      "name": "python"
    }
  },
  "cells": [
    {
      "cell_type": "markdown",
      "metadata": {
        "id": "view-in-github",
        "colab_type": "text"
      },
      "source": [
        "<a href=\"https://colab.research.google.com/github/surajk150741/Data_Science_Projects/blob/main/Movie%20imdb(web%20scraping)/Movie_IMDB(Web_Scraping).ipynb\" target=\"_parent\"><img src=\"https://colab.research.google.com/assets/colab-badge.svg\" alt=\"Open In Colab\"/></a>"
      ]
    },
    {
      "cell_type": "markdown",
      "metadata": {
        "id": "MXUFvo4eiPfR"
      },
      "source": [
        "# Objective: Exracting movie features with the help of web scraping."
      ]
    },
    {
      "cell_type": "markdown",
      "metadata": {
        "id": "TfYP4rFQX5cL"
      },
      "source": [
        "## We are gonna start with extracting following features of every movie with the help of Web Scraping:\n",
        "\n",
        "- Title\n",
        "- IMDB ID\n",
        "- Date of release\n",
        "- Genre\n",
        "- Cast\n",
        "- Plot Summary\n",
        "- Plot Keywords\n",
        "- IMDB Rating\n",
        "- IMDB Votes\n",
        "\n",
        "**Steps involved:**\n",
        "\n",
        "- Extracting the link for searching a movie name, which gives us many results of similar movies.\n",
        "- Used beautiful soup to extract required features of movies.\n",
        "- Iterated a for loop to get the 'Title','IMDB_id' and 'link of the movie'.\n",
        "- Then called 'find' function to get 'genre', 'votes', 'Plot_summary','rating', 'director'.\n",
        "- Extracted another link using beautiful soup to get the realease date.\n",
        "- Extracted another link using beautiful soup to get the list of cast.\n",
        "- Extracted another link using beautiful soup to get the Movie Keywords."
      ]
    },
    {
      "cell_type": "code",
      "metadata": {
        "id": "XNQPDJFdI8YI"
      },
      "source": [
        "import requests\n",
        "import re\n",
        "import html5lib\n",
        "from bs4 import BeautifulSoup\n",
        "\n",
        "def the_movie(movie_name):\n",
        "  url = \"https://www.imdb.com\"\n",
        "  find=\"/find?q=\"\n",
        "  data1=\"Humpty Sharma Ki Dulhania\"\n",
        "  data = movie_name\n",
        "  data2=\"Uri: The Surgical Strike\"\n",
        "  suffix=\"&s=tt&exact=true&ref_=fn_al_tt_ex\"\n",
        "  response = requests.get(url+find+data+suffix)\n",
        "\n",
        "  soup = BeautifulSoup(response.text,\"html5lib\")\n",
        "\n",
        "  list = []\n",
        "\n",
        "  movies = soup.select(\"td.result_text\")\n",
        "\n",
        "  links = [a.attrs.get('href') for a in soup.select('td.result_text a')]\n",
        "\n",
        "\n",
        "  link_ = ''\n",
        "  Title = ''\n",
        "  flag1=0\n",
        "  for index in range(len(movies)):\n",
        "      \n",
        "      movie_string = movies[index].get_text()\n",
        "\n",
        "      movie = (' '.join(movie_string.split()).replace('.',\"\"))\n",
        "      \n",
        "      \n",
        "      if movie[:-7].casefold() == data.casefold():##modified\n",
        "        link_ = url+links[index] \n",
        "        \n",
        "        Title = movie;\n",
        "        #print()\n",
        "        #print(\"Tilte = \"+Title)\n",
        "        #print()\n",
        "        #print(\"Link = \"+link_)\n",
        "        #print()\n",
        "        imdbId = links[index][7:-1]\n",
        "        #print(\"IMDB Id is \"+imdbId)\n",
        "        #print()\n",
        "        flag1 = 1;\n",
        "        break;\n",
        "\n",
        "      else:\n",
        "        continue\n",
        "  response.close()\n",
        "\n",
        "  if flag1 == 0:\n",
        "    #print(\"No data found for \"+ data)\n",
        "    2+2\n",
        "\n",
        "  else:##added and afterwards all lines are indented\n",
        "\n",
        "\n",
        "      \n",
        "    response = requests.get(link_)\n",
        "\n",
        "    soup = BeautifulSoup(response.text,\"html5lib\")\n",
        "    metaData = soup.find('div',{'data-testid':\"genres\"})##modified\n",
        "    \n",
        "\n",
        "    check_ =metaData.findAll('span',{'class':'ipc-chip__text'})\n",
        "    \n",
        "    genre_ = ''\n",
        "    for ind in range(len(check_)):\n",
        "      genre_ += check_[ind].text + \", \"\n",
        "    \n",
        "\n",
        "    #print(\"Genre is:-\"+ genre_[:-2])\n",
        "    #print()\n",
        "\n",
        "    presentation_ = soup.find('span',{'class':'GenresAndPlot__TextContainerBreakpointXS_TO_M-cum89p-0 dcFkRD'})\n",
        "    #print(\"Plot Summary is:- \"+presentation_.text)\n",
        "    #print()\t\t\n",
        "\n",
        "\n",
        "    rating_ = soup.find('span',{'class':'AggregateRatingButton__RatingScore-sc-1ll29m0-1 iTLWoV'})\n",
        "    #print(\"Rating is:- \"+rating_.text)\n",
        "    #print()\n",
        "\n",
        "    votes_ = soup.find('div',{'class':'AggregateRatingButton__TotalRatingAmount-sc-1ll29m0-3 jkCVKJ'})\n",
        "    #print( \"IMDB votes:- \"+votes_.text)\n",
        "    #print()\n",
        "\n",
        "    director_ = soup.find('a',{'class':'ipc-metadata-list-item__list-content-item ipc-metadata-list-item__list-content-item--link'})\n",
        "    #print(\"Director is \"+director_.text)\n",
        "    #print()\n",
        "\n",
        "    writer_ = soup.find('div',{'class':'ipc-metadata-list-item__content-container'})\n",
        "    #print(\"Writer is \"+writer_.text)\n",
        "    #print()\n",
        "\n",
        "    response.close()\n",
        "\n",
        "\n",
        "    date_url = link_ +\"releaseinfo?ref_=tt_dt_rdat\"\n",
        "    response = requests.get(date_url)\n",
        "    soup = BeautifulSoup(response.text,\"html5lib\")\n",
        "\n",
        "    countries = soup.select('td.release-date-item__country-name')\n",
        "    dates_ = soup.select('td.release-date-item__date')\n",
        "    flag = 0;\n",
        "    for ind in range(len(countries)):\n",
        "      name=countries[ind].text\n",
        "      \n",
        "\n",
        "      if (name[:5]) == (\"India\") :\n",
        "        #print(\"Release Date(in India):- \"+dates_[ind].text)\n",
        "        #print()\n",
        "        flag=1\n",
        "        break\n",
        "      else:\n",
        "        continue;\n",
        "\n",
        "    if flag==0:\n",
        "      print(\"Release Date is NA\")\n",
        "      print()\n",
        "    response.close()\n",
        "\n",
        "    '''-----Cast-------'''\n",
        "    cast_url = \"https://m.imdb.com/title/\"+imdbId+\"/fullcredits/cast?ref_=m_ttfc_3\"\n",
        "    response = requests.get(cast_url)\n",
        "    soup = BeautifulSoup(response.text,\"html5lib\")\n",
        "    name_cast = soup.findAll(\"div\",{\"class\":\"col-xs-12 col-md-6\"})\n",
        "    cast_=''\n",
        "    for ind in range(len(name_cast)):\n",
        "      name=name_cast[ind].h4.text\n",
        "      cast_ += name + \", \"\n",
        "    #print(\"casts Are: \"+cast_[:-2])\n",
        "    #print()\n",
        "    response.close()\n",
        "\n",
        "    '''keyword'''\n",
        "    keyword_url = link_+\"keywords?ref_=tt_stry_kw\"\n",
        "    response = requests.get(keyword_url)\n",
        "    soup = BeautifulSoup(response.text,\"html5lib\")\n",
        "    name_kw = soup.findAll(\"div\",{\"class\":\"sodatext\"})\t\n",
        "    keyword_=''\n",
        "    for ind in range(len(name_kw)):\n",
        "      name_string=name_kw[ind].get_text()\n",
        "      name = (' '.join(name_string.split()).replace('.', ''))\n",
        "      ##print(name)\n",
        "      keyword_ += name + \", \"\n",
        "\n",
        "\n",
        "    #print(\"Plot Keywords are \"+keyword_[:-2])\n",
        "    #print()\n",
        "    response.close()\n",
        "  if flag1==0:\n",
        "      return [\"Nan\",\"Nan\",\"Nan\",\"Nan\",0.0,\"Nan\",\"Nan\",\"Nan\",\"Nan\",\"Nan\"]\n",
        "      #return [Title,imdbId,dates_[0].text,genre_[:-2],rating_.text,votes_.text,cast_,keyword_,presentation_.text]\n",
        "  elif flag1==1:\n",
        "      return [Title,imdbId,dates_[0].text,genre_[:-2],rating_.text,votes_.text,cast_,keyword_,presentation_.text]"
      ],
      "execution_count": null,
      "outputs": []
    },
    {
      "cell_type": "markdown",
      "metadata": {
        "id": "z8JS1C58Xqhu"
      },
      "source": [
        "## Importing the movie list as csv file and putting them into list."
      ]
    },
    {
      "cell_type": "code",
      "metadata": {
        "colab": {
          "resources": {
            "http://localhost:8080/nbextensions/google.colab/files.js": {
              "data": "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",
              "ok": true,
              "headers": [
                [
                  "content-type",
                  "application/javascript"
                ]
              ],
              "status": 200,
              "status_text": ""
            }
          },
          "base_uri": "https://localhost:8080/",
          "height": 72
        },
        "id": "dE5PVff69EBI",
        "outputId": "4f8e4058-38bf-428f-8298-3e85037e142a"
      },
      "source": [
        "from google.colab import files\n",
        "uploaded = files.upload()"
      ],
      "execution_count": null,
      "outputs": [
        {
          "output_type": "display_data",
          "data": {
            "text/html": [
              "\n",
              "     <input type=\"file\" id=\"files-e38b0434-e633-4f72-8136-f537ee0a7121\" name=\"files[]\" multiple disabled\n",
              "        style=\"border:none\" />\n",
              "     <output id=\"result-e38b0434-e633-4f72-8136-f537ee0a7121\">\n",
              "      Upload widget is only available when the cell has been executed in the\n",
              "      current browser session. Please rerun this cell to enable.\n",
              "      </output>\n",
              "      <script src=\"/nbextensions/google.colab/files.js\"></script> "
            ],
            "text/plain": [
              "<IPython.core.display.HTML object>"
            ]
          },
          "metadata": {}
        },
        {
          "output_type": "stream",
          "text": [
            "Saving Bollywood Movies Dataset.xlsx - Sheet1.csv to Bollywood Movies Dataset.xlsx - Sheet1.csv\n"
          ],
          "name": "stdout"
        }
      ]
    },
    {
      "cell_type": "code",
      "metadata": {
        "id": "SkvhT7QOyMZd"
      },
      "source": [
        "import pandas as pd\n"
      ],
      "execution_count": null,
      "outputs": []
    },
    {
      "cell_type": "code",
      "metadata": {
        "id": "G-D-UJxhx8_S"
      },
      "source": [
        "data_movie = pd.read_csv('Bollywood Movies Dataset.xlsx - Sheet1.csv')\n",
        "my_list = data_movie['Movie Title'].tolist()"
      ],
      "execution_count": null,
      "outputs": []
    },
    {
      "cell_type": "code",
      "metadata": {
        "colab": {
          "base_uri": "https://localhost:8080/",
          "height": 35
        },
        "id": "tzXe4-o78pie",
        "outputId": "3a3e2a9c-e247-4f66-98a0-0be9663de550"
      },
      "source": [
        "my_list[0]"
      ],
      "execution_count": null,
      "outputs": [
        {
          "output_type": "execute_result",
          "data": {
            "application/vnd.google.colaboratory.intrinsic+json": {
              "type": "string"
            },
            "text/plain": [
              "'3 Idiots'"
            ]
          },
          "metadata": {},
          "execution_count": 48
        }
      ]
    },
    {
      "cell_type": "code",
      "metadata": {
        "colab": {
          "base_uri": "https://localhost:8080/"
        },
        "id": "YTK7FNpToYoF",
        "outputId": "0ca5b869-6da3-43a4-d8a1-de1a7ac1877c"
      },
      "source": [
        "len(my_list)"
      ],
      "execution_count": null,
      "outputs": [
        {
          "output_type": "execute_result",
          "data": {
            "text/plain": [
              "4000"
            ]
          },
          "metadata": {},
          "execution_count": 64
        }
      ]
    },
    {
      "cell_type": "code",
      "metadata": {
        "colab": {
          "base_uri": "https://localhost:8080/"
        },
        "id": "xadJxOSQq5jG",
        "outputId": "cdc0e555-7258-4f23-efba-afc1d3964787"
      },
      "source": [
        "thelist = the_movie(movie_name=\"3 Idiots\")\n",
        "thelist"
      ],
      "execution_count": null,
      "outputs": [
        {
          "output_type": "execute_result",
          "data": {
            "text/plain": [
              "['3 Idiots (2009)',\n",
              " 'tt1187043',\n",
              " '23 December 2009',\n",
              " 'Comedy, Drama',\n",
              " '8.4',\n",
              " '365K',\n",
              " 'Aamir Khan, Madhavan, Sharman Joshi, Kareena Kapoor, Boman Irani, Omi Vaidya, Mona Singh, Olivier Lafont, Rahul Kumar, Parikshit Sahni, Farida Dadi, Amardeep Jha, Mukund Bhatt, Chaitali Bose, Javed Jaffrey, Jayant Kripalani, Arun Bali, Shoaib Ahmed, Dushyant Wagh, Pooja Goswami, A.S. Duggal, Annapurna Kaul, R.S. Kodange, Dharmendra Bhurji, Meghna Bhalla, Harvinder Singh, Dilshad Edibam, Rajeev Ravindranathan, Hitesh Tak, Rajendra Patwardhan, Achyut Potdar, Ali Fazal, Madhav Vaze, Dileep Desai, Raghunathan, Vaidyanathan, Kumar Veer Singh, Shailja Dhar, Dinesh Kumar, Aakash Dabhade, Apul Jaisinghani, Trilok Sadhwani, Akhil Mishra, Sonu, Atul Tiwari, Praful Kulkarni, Jalil Parkar, Debashish Naha, Michael Joseph, Smriti, Sanjay Sood, Dayal Sharma, Rakesh Sharma, Elihud George, Sarvanna, Tanveer Ahmed, Shankar Sachdev, Kishor Patil, Insia Lacewalla, Keshav Rae, Lata Kurdikar, Suhas Vaidya, Nishi Singh, Saurabh Agnihotri, Sitaram Sharma, Pundit Prayag Raj, Supriya Shukla, Malvika Singh, Tsanwal Namgyal, Jigmet Dorjey, Freny Bhagat, Rohitash Gaud, Komal Jha, Pitobash, Bharat Jha, ',\n",
              " \"papadum, hairy chest, against the system, coming of age, college, flatulence, optimism, motivation, muslim, suicide, suicide attempt, bollywood, slapstick comedy, india, coma, reference to neil armstrong, boy wears eyeglasses, girl wears eyeglasses, black comedy, trimming mustache, simla india, dark comedy, friend, student, engineering, bare chested male, writing with both hands, subjective camera, character's point of view camera shot, slow motion scene, urination, fast motion scene, dream, best friend, following a dream, wildlife photography, wedding crasher, webcam, velcro, vacuum cleaner, stolen identity, search, science project, satire, rubik's cube, rivalry, reference to hippocrates, quest, prank, power failure, power cut, paralysis, optimist, nri, morality, mistaken identity, middle class family, male bonding, love at first sight, loss of brother, local blockbuster, lisp, kiss, journey, imagery, genius, freeze frame, flashback within a flashback, first love, father daughter relationship, fake heart attack, emergency landing, embarrassment, electricity failure, drunkenness, dilemma, convocation, childbirth, character repeating someone else's dialogue, catch phrase, buddy, bhagavad gita, based on bestseller, professor, friendship, classroom, wedding, three friends, suicide by hanging, shaving, sexual innuendo, scooter, paralyzed person, lecture, ladakh, flashback, engineering school, drinking, college life, black and white scene, assumed identity, ashes, rebelliousness, anti conformity, social commentary, parody, expose, education, based on novel, plot twist, \",\n",
              " 'Two friends are searching for their long lost companion. They revisit their college days and recall the memories of their friend who inspired them to think differently, even as the rest of t... Read all']"
            ]
          },
          "metadata": {},
          "execution_count": 50
        }
      ]
    },
    {
      "cell_type": "code",
      "metadata": {
        "id": "bSFgdxPMrgd1"
      },
      "source": [
        "## Used for initialization of the DataFrame\n",
        "\n",
        "#imdb = pd.DataFrame({\"Title\":thelist[0], \"IMDB_id\":thelist[1],\"Date of release\":thelist[2],\"Genre\":thelist[3],\"IMDB_rating\":thelist[4],\"IMDB_Votes\":thelist[5],\"Cast & Crew\":thelist[6],\"Plot_keywords\":thelist[7],\"Plot_summary\":thelist[8]}, index=[0])"
      ],
      "execution_count": null,
      "outputs": []
    },
    {
      "cell_type": "markdown",
      "metadata": {
        "id": "1uZ0ASHXWSEm"
      },
      "source": [
        "## We are going to update the imdb.csv file here if there is any error in iteration of appending movies to the dataframe"
      ]
    },
    {
      "cell_type": "code",
      "metadata": {
        "colab": {
          "base_uri": "https://localhost:8080/",
          "height": 255
        },
        "id": "kQS-U3JG7FYJ",
        "outputId": "43017f32-8109-44f0-bd33-3b32b03ff783"
      },
      "source": [
        "imdb = pd.read_csv('imdb.csv')\n",
        "imdb.drop(['Unnamed: 0'], axis=1,inplace=True)\n",
        "imdb.tail()"
      ],
      "execution_count": null,
      "outputs": [
        {
          "output_type": "execute_result",
          "data": {
            "text/html": [
              "<div>\n",
              "<style scoped>\n",
              "    .dataframe tbody tr th:only-of-type {\n",
              "        vertical-align: middle;\n",
              "    }\n",
              "\n",
              "    .dataframe tbody tr th {\n",
              "        vertical-align: top;\n",
              "    }\n",
              "\n",
              "    .dataframe thead th {\n",
              "        text-align: right;\n",
              "    }\n",
              "</style>\n",
              "<table border=\"1\" class=\"dataframe\">\n",
              "  <thead>\n",
              "    <tr style=\"text-align: right;\">\n",
              "      <th></th>\n",
              "      <th>Title</th>\n",
              "      <th>IMDB_id</th>\n",
              "      <th>Date of release</th>\n",
              "      <th>Genre</th>\n",
              "      <th>IMDB_rating</th>\n",
              "      <th>IMDB_Votes</th>\n",
              "      <th>Cast &amp; Crew</th>\n",
              "      <th>Plot_keywords</th>\n",
              "      <th>Plot_summary</th>\n",
              "    </tr>\n",
              "  </thead>\n",
              "  <tbody>\n",
              "    <tr>\n",
              "      <th>1844</th>\n",
              "      <td>Nan</td>\n",
              "      <td>Nan</td>\n",
              "      <td>Nan</td>\n",
              "      <td>Nan</td>\n",
              "      <td>0.0</td>\n",
              "      <td>Nan</td>\n",
              "      <td>Nan</td>\n",
              "      <td>Nan</td>\n",
              "      <td>Nan</td>\n",
              "    </tr>\n",
              "    <tr>\n",
              "      <th>1845</th>\n",
              "      <td>Sorry Daddy (2015)</td>\n",
              "      <td>tt4994210</td>\n",
              "      <td>11 September 2015</td>\n",
              "      <td>Action</td>\n",
              "      <td>5.0</td>\n",
              "      <td>9</td>\n",
              "      <td>Shamim Khan, Anupam Shukla, Mukesh Tiwari, Tin...</td>\n",
              "      <td>abuse,</td>\n",
              "      <td>Sorry daddy is a Children story centring aroun...</td>\n",
              "    </tr>\n",
              "    <tr>\n",
              "      <th>1846</th>\n",
              "      <td>Raadha Aur Seeta (1979)</td>\n",
              "      <td>tt0378633</td>\n",
              "      <td>10 August 1979</td>\n",
              "      <td>Drama, Family</td>\n",
              "      <td>6.0</td>\n",
              "      <td>14</td>\n",
              "      <td>Rajendranath Malhotra, Madan Puri, Leela Mishr...</td>\n",
              "      <td>character name in title,</td>\n",
              "      <td>After having completed his masters with honors...</td>\n",
              "    </tr>\n",
              "    <tr>\n",
              "      <th>1847</th>\n",
              "      <td>Nan</td>\n",
              "      <td>Nan</td>\n",
              "      <td>Nan</td>\n",
              "      <td>Nan</td>\n",
              "      <td>0.0</td>\n",
              "      <td>Nan</td>\n",
              "      <td>Nan</td>\n",
              "      <td>Nan</td>\n",
              "      <td>Nan</td>\n",
              "    </tr>\n",
              "    <tr>\n",
              "      <th>1848</th>\n",
              "      <td>Nan</td>\n",
              "      <td>Nan</td>\n",
              "      <td>Nan</td>\n",
              "      <td>Nan</td>\n",
              "      <td>0.0</td>\n",
              "      <td>Nan</td>\n",
              "      <td>Nan</td>\n",
              "      <td>Nan</td>\n",
              "      <td>Nan</td>\n",
              "    </tr>\n",
              "  </tbody>\n",
              "</table>\n",
              "</div>"
            ],
            "text/plain": [
              "                        Title  ...                                       Plot_summary\n",
              "1844                      Nan  ...                                                Nan\n",
              "1845       Sorry Daddy (2015)  ...  Sorry daddy is a Children story centring aroun...\n",
              "1846  Raadha Aur Seeta (1979)  ...  After having completed his masters with honors...\n",
              "1847                      Nan  ...                                                Nan\n",
              "1848                      Nan  ...                                                Nan\n",
              "\n",
              "[5 rows x 9 columns]"
            ]
          },
          "metadata": {},
          "execution_count": 314
        }
      ]
    },
    {
      "cell_type": "code",
      "metadata": {
        "id": "Lb6yVyB4rtzM"
      },
      "source": [
        "# Used for initialization of the DataFrame\n",
        "\n",
        "#imdb"
      ],
      "execution_count": null,
      "outputs": []
    },
    {
      "cell_type": "markdown",
      "metadata": {
        "id": "NNCHfP_MWnNr"
      },
      "source": [
        "## Now, We are going to iterate pver 4000 movies to get the dataframe \n",
        "\n",
        "## In case if iteration stops due to an error, iterate over remaining movies"
      ]
    },
    {
      "cell_type": "code",
      "metadata": {
        "id": "aK5SVDMir5g6"
      },
      "source": [
        "for item in range(len(my_list[3992:])):\n",
        "  thlist = the_movie(my_list[3992:][item])\n",
        "  neww = pd.DataFrame({\"Title\":thlist[0], \"IMDB_id\":thlist[1],\"Date of release\":thlist[2],\"Genre\":thlist[3],\"IMDB_rating\":thlist[4],\"IMDB_Votes\":thlist[5],\"Cast & Crew\":thlist[6],\"Plot_keywords\":thlist[7],\"Plot_summary\":thlist[8]}, index=[item+246])\n",
        "  imdb = imdb.append(neww)"
      ],
      "execution_count": null,
      "outputs": []
    },
    {
      "cell_type": "markdown",
      "metadata": {
        "id": "FQS0uXvPXEZr"
      },
      "source": [
        "## Now, we are gonna save the dataframe at each necessary step, so that we don't loose the updated dataframe in any error "
      ]
    },
    {
      "cell_type": "code",
      "metadata": {
        "id": "De5AV0uGk6Nd"
      },
      "source": [
        "imdb.to_csv('imdb.csv')"
      ],
      "execution_count": null,
      "outputs": []
    },
    {
      "cell_type": "code",
      "metadata": {
        "colab": {
          "base_uri": "https://localhost:8080/",
          "height": 17
        },
        "id": "beqf6SgtoaOI",
        "outputId": "2c9c2aee-04ab-49ab-cc80-428f13c5ffae"
      },
      "source": [
        "from google.colab import files\n",
        "files.download('imdb.csv')"
      ],
      "execution_count": null,
      "outputs": [
        {
          "output_type": "display_data",
          "data": {
            "application/javascript": [
              "\n",
              "    async function download(id, filename, size) {\n",
              "      if (!google.colab.kernel.accessAllowed) {\n",
              "        return;\n",
              "      }\n",
              "      const div = document.createElement('div');\n",
              "      const label = document.createElement('label');\n",
              "      label.textContent = `Downloading \"${filename}\": `;\n",
              "      div.appendChild(label);\n",
              "      const progress = document.createElement('progress');\n",
              "      progress.max = size;\n",
              "      div.appendChild(progress);\n",
              "      document.body.appendChild(div);\n",
              "\n",
              "      const buffers = [];\n",
              "      let downloaded = 0;\n",
              "\n",
              "      const channel = await google.colab.kernel.comms.open(id);\n",
              "      // Send a message to notify the kernel that we're ready.\n",
              "      channel.send({})\n",
              "\n",
              "      for await (const message of channel.messages) {\n",
              "        // Send a message to notify the kernel that we're ready.\n",
              "        channel.send({})\n",
              "        if (message.buffers) {\n",
              "          for (const buffer of message.buffers) {\n",
              "            buffers.push(buffer);\n",
              "            downloaded += buffer.byteLength;\n",
              "            progress.value = downloaded;\n",
              "          }\n",
              "        }\n",
              "      }\n",
              "      const blob = new Blob(buffers, {type: 'application/binary'});\n",
              "      const a = document.createElement('a');\n",
              "      a.href = window.URL.createObjectURL(blob);\n",
              "      a.download = filename;\n",
              "      div.appendChild(a);\n",
              "      a.click();\n",
              "      div.remove();\n",
              "    }\n",
              "  "
            ],
            "text/plain": [
              "<IPython.core.display.Javascript object>"
            ]
          },
          "metadata": {}
        },
        {
          "output_type": "display_data",
          "data": {
            "application/javascript": [
              "download(\"download_641c4091-641d-4888-bcf5-320a1c45da7a\", \"imdb.csv\", 1033272)"
            ],
            "text/plain": [
              "<IPython.core.display.Javascript object>"
            ]
          },
          "metadata": {}
        }
      ]
    },
    {
      "cell_type": "markdown",
      "metadata": {
        "id": "S2Ic_thJiyp6"
      },
      "source": [
        "## Up ahead, I am going to do some data analysis to come up with more derived fields in another NoteBook."
      ]
    }
  ]
}
{
 "cells": [
  {
   "cell_type": "code",
   "execution_count": 1,
   "id": "8ebfea76",
   "metadata": {},
   "outputs": [],
   "source": [
    "import pandas as pd\n",
    "import numpy as np\n",
    "%matplotlib inline"
   ]
  },
  {
   "cell_type": "code",
   "execution_count": 2,
   "id": "b6726f43",
   "metadata": {},
   "outputs": [],
   "source": [
    "from statsmodels.tsa.ar_model import AR,ARResults"
   ]
  },
  {
   "cell_type": "code",
   "execution_count": 3,
   "id": "3506ae4c",
   "metadata": {},
   "outputs": [],
   "source": [
    "# We are gonna apply AR on a very simple data set having linear trends either upwards or downwards\n",
    "df = pd.read_csv('uspopulation.csv',index_col='DATE',parse_dates=True)"
   ]
  },
  {
   "cell_type": "code",
   "execution_count": 4,
   "id": "034b0027",
   "metadata": {},
   "outputs": [],
   "source": [
    "df.index.freq='MS'"
   ]
  },
  {
   "cell_type": "code",
   "execution_count": 5,
   "id": "d9361cc1",
   "metadata": {},
   "outputs": [
    {
     "data": {
      "text/html": [
       "<div>\n",
       "<style scoped>\n",
       "    .dataframe tbody tr th:only-of-type {\n",
       "        vertical-align: middle;\n",
       "    }\n",
       "\n",
       "    .dataframe tbody tr th {\n",
       "        vertical-align: top;\n",
       "    }\n",
       "\n",
       "    .dataframe thead th {\n",
       "        text-align: right;\n",
       "    }\n",
       "</style>\n",
       "<table border=\"1\" class=\"dataframe\">\n",
       "  <thead>\n",
       "    <tr style=\"text-align: right;\">\n",
       "      <th></th>\n",
       "      <th>PopEst</th>\n",
       "    </tr>\n",
       "    <tr>\n",
       "      <th>DATE</th>\n",
       "      <th></th>\n",
       "    </tr>\n",
       "  </thead>\n",
       "  <tbody>\n",
       "    <tr>\n",
       "      <th>2011-01-01</th>\n",
       "      <td>311037</td>\n",
       "    </tr>\n",
       "    <tr>\n",
       "      <th>2011-02-01</th>\n",
       "      <td>311189</td>\n",
       "    </tr>\n",
       "    <tr>\n",
       "      <th>2011-03-01</th>\n",
       "      <td>311351</td>\n",
       "    </tr>\n",
       "    <tr>\n",
       "      <th>2011-04-01</th>\n",
       "      <td>311522</td>\n",
       "    </tr>\n",
       "    <tr>\n",
       "      <th>2011-05-01</th>\n",
       "      <td>311699</td>\n",
       "    </tr>\n",
       "    <tr>\n",
       "      <th>2011-06-01</th>\n",
       "      <td>311894</td>\n",
       "    </tr>\n",
       "    <tr>\n",
       "      <th>2011-07-01</th>\n",
       "      <td>312101</td>\n",
       "    </tr>\n",
       "    <tr>\n",
       "      <th>2011-08-01</th>\n",
       "      <td>312317</td>\n",
       "    </tr>\n",
       "    <tr>\n",
       "      <th>2011-09-01</th>\n",
       "      <td>312537</td>\n",
       "    </tr>\n",
       "    <tr>\n",
       "      <th>2011-10-01</th>\n",
       "      <td>312737</td>\n",
       "    </tr>\n",
       "    <tr>\n",
       "      <th>2011-11-01</th>\n",
       "      <td>312920</td>\n",
       "    </tr>\n",
       "    <tr>\n",
       "      <th>2011-12-01</th>\n",
       "      <td>313096</td>\n",
       "    </tr>\n",
       "    <tr>\n",
       "      <th>2012-01-01</th>\n",
       "      <td>313261</td>\n",
       "    </tr>\n",
       "    <tr>\n",
       "      <th>2012-02-01</th>\n",
       "      <td>313419</td>\n",
       "    </tr>\n",
       "    <tr>\n",
       "      <th>2012-03-01</th>\n",
       "      <td>313583</td>\n",
       "    </tr>\n",
       "    <tr>\n",
       "      <th>2012-04-01</th>\n",
       "      <td>313749</td>\n",
       "    </tr>\n",
       "    <tr>\n",
       "      <th>2012-05-01</th>\n",
       "      <td>313924</td>\n",
       "    </tr>\n",
       "    <tr>\n",
       "      <th>2012-06-01</th>\n",
       "      <td>314114</td>\n",
       "    </tr>\n",
       "    <tr>\n",
       "      <th>2012-07-01</th>\n",
       "      <td>314317</td>\n",
       "    </tr>\n",
       "    <tr>\n",
       "      <th>2012-08-01</th>\n",
       "      <td>314535</td>\n",
       "    </tr>\n",
       "    <tr>\n",
       "      <th>2012-09-01</th>\n",
       "      <td>314750</td>\n",
       "    </tr>\n",
       "    <tr>\n",
       "      <th>2012-10-01</th>\n",
       "      <td>314954</td>\n",
       "    </tr>\n",
       "    <tr>\n",
       "      <th>2012-11-01</th>\n",
       "      <td>315143</td>\n",
       "    </tr>\n",
       "    <tr>\n",
       "      <th>2012-12-01</th>\n",
       "      <td>315311</td>\n",
       "    </tr>\n",
       "    <tr>\n",
       "      <th>2013-01-01</th>\n",
       "      <td>315455</td>\n",
       "    </tr>\n",
       "    <tr>\n",
       "      <th>2013-02-01</th>\n",
       "      <td>315591</td>\n",
       "    </tr>\n",
       "    <tr>\n",
       "      <th>2013-03-01</th>\n",
       "      <td>315740</td>\n",
       "    </tr>\n",
       "    <tr>\n",
       "      <th>2013-04-01</th>\n",
       "      <td>315901</td>\n",
       "    </tr>\n",
       "    <tr>\n",
       "      <th>2013-05-01</th>\n",
       "      <td>316077</td>\n",
       "    </tr>\n",
       "    <tr>\n",
       "      <th>2013-06-01</th>\n",
       "      <td>316265</td>\n",
       "    </tr>\n",
       "    <tr>\n",
       "      <th>...</th>\n",
       "      <td>...</td>\n",
       "    </tr>\n",
       "    <tr>\n",
       "      <th>2016-07-01</th>\n",
       "      <td>323396</td>\n",
       "    </tr>\n",
       "    <tr>\n",
       "      <th>2016-08-01</th>\n",
       "      <td>323606</td>\n",
       "    </tr>\n",
       "    <tr>\n",
       "      <th>2016-09-01</th>\n",
       "      <td>323815</td>\n",
       "    </tr>\n",
       "    <tr>\n",
       "      <th>2016-10-01</th>\n",
       "      <td>324013</td>\n",
       "    </tr>\n",
       "    <tr>\n",
       "      <th>2016-11-01</th>\n",
       "      <td>324191</td>\n",
       "    </tr>\n",
       "    <tr>\n",
       "      <th>2016-12-01</th>\n",
       "      <td>324357</td>\n",
       "    </tr>\n",
       "    <tr>\n",
       "      <th>2017-01-01</th>\n",
       "      <td>324510</td>\n",
       "    </tr>\n",
       "    <tr>\n",
       "      <th>2017-02-01</th>\n",
       "      <td>324648</td>\n",
       "    </tr>\n",
       "    <tr>\n",
       "      <th>2017-03-01</th>\n",
       "      <td>324788</td>\n",
       "    </tr>\n",
       "    <tr>\n",
       "      <th>2017-04-01</th>\n",
       "      <td>324940</td>\n",
       "    </tr>\n",
       "    <tr>\n",
       "      <th>2017-05-01</th>\n",
       "      <td>325103</td>\n",
       "    </tr>\n",
       "    <tr>\n",
       "      <th>2017-06-01</th>\n",
       "      <td>325277</td>\n",
       "    </tr>\n",
       "    <tr>\n",
       "      <th>2017-07-01</th>\n",
       "      <td>325468</td>\n",
       "    </tr>\n",
       "    <tr>\n",
       "      <th>2017-08-01</th>\n",
       "      <td>325667</td>\n",
       "    </tr>\n",
       "    <tr>\n",
       "      <th>2017-09-01</th>\n",
       "      <td>325866</td>\n",
       "    </tr>\n",
       "    <tr>\n",
       "      <th>2017-10-01</th>\n",
       "      <td>326054</td>\n",
       "    </tr>\n",
       "    <tr>\n",
       "      <th>2017-11-01</th>\n",
       "      <td>326222</td>\n",
       "    </tr>\n",
       "    <tr>\n",
       "      <th>2017-12-01</th>\n",
       "      <td>326378</td>\n",
       "    </tr>\n",
       "    <tr>\n",
       "      <th>2018-01-01</th>\n",
       "      <td>326527</td>\n",
       "    </tr>\n",
       "    <tr>\n",
       "      <th>2018-02-01</th>\n",
       "      <td>326669</td>\n",
       "    </tr>\n",
       "    <tr>\n",
       "      <th>2018-03-01</th>\n",
       "      <td>326812</td>\n",
       "    </tr>\n",
       "    <tr>\n",
       "      <th>2018-04-01</th>\n",
       "      <td>326968</td>\n",
       "    </tr>\n",
       "    <tr>\n",
       "      <th>2018-05-01</th>\n",
       "      <td>327134</td>\n",
       "    </tr>\n",
       "    <tr>\n",
       "      <th>2018-06-01</th>\n",
       "      <td>327312</td>\n",
       "    </tr>\n",
       "    <tr>\n",
       "      <th>2018-07-01</th>\n",
       "      <td>327502</td>\n",
       "    </tr>\n",
       "    <tr>\n",
       "      <th>2018-08-01</th>\n",
       "      <td>327698</td>\n",
       "    </tr>\n",
       "    <tr>\n",
       "      <th>2018-09-01</th>\n",
       "      <td>327893</td>\n",
       "    </tr>\n",
       "    <tr>\n",
       "      <th>2018-10-01</th>\n",
       "      <td>328077</td>\n",
       "    </tr>\n",
       "    <tr>\n",
       "      <th>2018-11-01</th>\n",
       "      <td>328241</td>\n",
       "    </tr>\n",
       "    <tr>\n",
       "      <th>2018-12-01</th>\n",
       "      <td>328393</td>\n",
       "    </tr>\n",
       "  </tbody>\n",
       "</table>\n",
       "<p>96 rows × 1 columns</p>\n",
       "</div>"
      ],
      "text/plain": [
       "            PopEst\n",
       "DATE              \n",
       "2011-01-01  311037\n",
       "2011-02-01  311189\n",
       "2011-03-01  311351\n",
       "2011-04-01  311522\n",
       "2011-05-01  311699\n",
       "2011-06-01  311894\n",
       "2011-07-01  312101\n",
       "2011-08-01  312317\n",
       "2011-09-01  312537\n",
       "2011-10-01  312737\n",
       "2011-11-01  312920\n",
       "2011-12-01  313096\n",
       "2012-01-01  313261\n",
       "2012-02-01  313419\n",
       "2012-03-01  313583\n",
       "2012-04-01  313749\n",
       "2012-05-01  313924\n",
       "2012-06-01  314114\n",
       "2012-07-01  314317\n",
       "2012-08-01  314535\n",
       "2012-09-01  314750\n",
       "2012-10-01  314954\n",
       "2012-11-01  315143\n",
       "2012-12-01  315311\n",
       "2013-01-01  315455\n",
       "2013-02-01  315591\n",
       "2013-03-01  315740\n",
       "2013-04-01  315901\n",
       "2013-05-01  316077\n",
       "2013-06-01  316265\n",
       "...            ...\n",
       "2016-07-01  323396\n",
       "2016-08-01  323606\n",
       "2016-09-01  323815\n",
       "2016-10-01  324013\n",
       "2016-11-01  324191\n",
       "2016-12-01  324357\n",
       "2017-01-01  324510\n",
       "2017-02-01  324648\n",
       "2017-03-01  324788\n",
       "2017-04-01  324940\n",
       "2017-05-01  325103\n",
       "2017-06-01  325277\n",
       "2017-07-01  325468\n",
       "2017-08-01  325667\n",
       "2017-09-01  325866\n",
       "2017-10-01  326054\n",
       "2017-11-01  326222\n",
       "2017-12-01  326378\n",
       "2018-01-01  326527\n",
       "2018-02-01  326669\n",
       "2018-03-01  326812\n",
       "2018-04-01  326968\n",
       "2018-05-01  327134\n",
       "2018-06-01  327312\n",
       "2018-07-01  327502\n",
       "2018-08-01  327698\n",
       "2018-09-01  327893\n",
       "2018-10-01  328077\n",
       "2018-11-01  328241\n",
       "2018-12-01  328393\n",
       "\n",
       "[96 rows x 1 columns]"
      ]
     },
     "execution_count": 5,
     "metadata": {},
     "output_type": "execute_result"
    }
   ],
   "source": [
    "df"
   ]
  },
  {
   "cell_type": "code",
   "execution_count": 6,
   "id": "1bf2f7c5",
   "metadata": {},
   "outputs": [
    {
     "data": {
      "image/png": "[encoded data removed]",
      "text/plain": [
       "<Figure size 864x576 with 1 Axes>"
      ]
     },
     "metadata": {
      "needs_background": "light"
     },
     "output_type": "display_data"
    }
   ],
   "source": [
    "df.plot(figsize=(12,8)).autoscale(axis='x',tight=True)"
   ]
  },
  {
   "cell_type": "markdown",
   "id": "97f01e40",
   "metadata": {},
   "source": [
    "# Lets split the data into traiing and test data set"
   ]
  },
  {
   "cell_type": "code",
   "execution_count": 7,
   "id": "56302187",
   "metadata": {},
   "outputs": [
    {
     "data": {
      "text/plain": [
       "96"
      ]
     },
     "execution_count": 7,
     "metadata": {},
     "output_type": "execute_result"
    }
   ],
   "source": [
    "len(df)"
   ]
  },
  {
   "cell_type": "code",
   "execution_count": 8,
   "id": "9284bdfa",
   "metadata": {},
   "outputs": [],
   "source": [
    "# lets put one year in our test data set\n",
    "train = df.iloc[:84]\n",
    "test = df.iloc[84:]\n"
   ]
  },
  {
   "cell_type": "code",
   "execution_count": 9,
   "id": "40759dea",
   "metadata": {},
   "outputs": [],
   "source": [
    "# Often when we are fitting with statsmodels, statsmodels needs to update something internally for future versions of scipy and numpy\n",
    "#  So we may get some warning, which are not harmful\n",
    "\n",
    "import warnings\n",
    "warnings.filterwarnings('ignore')"
   ]
  },
  {
   "cell_type": "markdown",
   "id": "1b610b02",
   "metadata": {},
   "source": [
    "# Fit an AR(1) model"
   ]
  },
  {
   "cell_type": "code",
   "execution_count": 10,
   "id": "418e4684",
   "metadata": {},
   "outputs": [],
   "source": [
    "model=AR(train['PopEst'])"
   ]
  },
  {
   "cell_type": "code",
   "execution_count": 11,
   "id": "c36429ae",
   "metadata": {},
   "outputs": [],
   "source": [
    "# By the name we are showing that this is a fitted version of an order (1) AR model\n",
    "\n",
    "# In the parameters showing in \"fit\" the most important one is \"maxlag\", which defines the order of AR we are going to use \n",
    "\n",
    "# There are different ways of solving these equations if we are dealing with higher order functions \n",
    "#   For Example ##   cmle - Conditional maximum likelihood using OLS\n",
    "                ##   mle - Unconditional (exact) maximum likelihood.\n",
    "    \n",
    "# Solver to be used if method is 'mle'.  The default is 'lbfgs' (limited memory Broyden-Fletcher-Goldfarb-Shanno). \n",
    "#   Other choices are 'bfgs', 'newton' (Newton-Raphson), 'nm' (Nelder-Mead),'cg' - (conjugate gradient), \n",
    "#   'ncg' (non-conjugate gradient),and 'powell'.\n",
    "\n",
    "AR1fit= model.fit(maxlag=1)"
   ]
  },
  {
   "cell_type": "code",
   "execution_count": 12,
   "id": "de2105ba",
   "metadata": {},
   "outputs": [
    {
     "data": {
      "text/plain": [
       "1"
      ]
     },
     "execution_count": 12,
     "metadata": {},
     "output_type": "execute_result"
    }
   ],
   "source": [
    "# Gives lag\n",
    "AR1fit.k_ar"
   ]
  },
  {
   "cell_type": "code",
   "execution_count": 13,
   "id": "4bc7aba3",
   "metadata": {},
   "outputs": [
    {
     "data": {
      "text/plain": [
       "const        284.913797\n",
       "L1.PopEst      0.999686\n",
       "dtype: float64"
      ]
     },
     "execution_count": 13,
     "metadata": {},
     "output_type": "execute_result"
    }
   ],
   "source": [
    "# This will give us the constants and coefficient variables \n",
    "\n",
    "AR1fit.params"
   ]
  },
  {
   "cell_type": "code",
   "execution_count": 14,
   "id": "7e94c27f",
   "metadata": {},
   "outputs": [],
   "source": [
    "# This is the general format for obtaining predictions\n",
    "start=len(train)"
   ]
  },
  {
   "cell_type": "code",
   "execution_count": 15,
   "id": "bebdb9db",
   "metadata": {},
   "outputs": [],
   "source": [
    "end=len(train)+len(test)-1"
   ]
  },
  {
   "cell_type": "code",
   "execution_count": 16,
   "id": "c86c55f6",
   "metadata": {},
   "outputs": [
    {
     "data": {
      "text/plain": [
       "84"
      ]
     },
     "execution_count": 16,
     "metadata": {},
     "output_type": "execute_result"
    }
   ],
   "source": [
    "start"
   ]
  },
  {
   "cell_type": "code",
   "execution_count": 17,
   "id": "451c5465",
   "metadata": {},
   "outputs": [
    {
     "data": {
      "text/plain": [
       "95"
      ]
     },
     "execution_count": 17,
     "metadata": {},
     "output_type": "execute_result"
    }
   ],
   "source": [
    "end"
   ]
  },
  {
   "cell_type": "code",
   "execution_count": 18,
   "id": "17dbc4ca",
   "metadata": {},
   "outputs": [
    {
     "data": {
      "text/plain": [
       "2018-01-01    326560.403377\n",
       "2018-02-01    326742.749463\n",
       "2018-03-01    326925.038278\n",
       "2018-04-01    327107.269838\n",
       "2018-05-01    327289.444162\n",
       "2018-06-01    327471.561268\n",
       "2018-07-01    327653.621173\n",
       "2018-08-01    327835.623896\n",
       "2018-09-01    328017.569455\n",
       "2018-10-01    328199.457868\n",
       "2018-11-01    328381.289152\n",
       "2018-12-01    328563.063326\n",
       "Freq: MS, dtype: float64"
      ]
     },
     "execution_count": 18,
     "metadata": {},
     "output_type": "execute_result"
    }
   ],
   "source": [
    "# In order to predict using a fitted AR model :\n",
    "\n",
    "AR1fit.predict(start=start,end=end)\n",
    "\n",
    "# The method call is predict for lots of stats models that we are gonna call in like ARIMA based models \n",
    "#  Previously we were using holt-winters method that was using forecast "
   ]
  },
  {
   "cell_type": "code",
   "execution_count": 19,
   "id": "316c4258",
   "metadata": {},
   "outputs": [
    {
     "data": {
      "text/html": [
       "<div>\n",
       "<style scoped>\n",
       "    .dataframe tbody tr th:only-of-type {\n",
       "        vertical-align: middle;\n",
       "    }\n",
       "\n",
       "    .dataframe tbody tr th {\n",
       "        vertical-align: top;\n",
       "    }\n",
       "\n",
       "    .dataframe thead th {\n",
       "        text-align: right;\n",
       "    }\n",
       "</style>\n",
       "<table border=\"1\" class=\"dataframe\">\n",
       "  <thead>\n",
       "    <tr style=\"text-align: right;\">\n",
       "      <th></th>\n",
       "      <th>PopEst</th>\n",
       "    </tr>\n",
       "    <tr>\n",
       "      <th>DATE</th>\n",
       "      <th></th>\n",
       "    </tr>\n",
       "  </thead>\n",
       "  <tbody>\n",
       "    <tr>\n",
       "      <th>2018-01-01</th>\n",
       "      <td>326527</td>\n",
       "    </tr>\n",
       "    <tr>\n",
       "      <th>2018-02-01</th>\n",
       "      <td>326669</td>\n",
       "    </tr>\n",
       "    <tr>\n",
       "      <th>2018-03-01</th>\n",
       "      <td>326812</td>\n",
       "    </tr>\n",
       "    <tr>\n",
       "      <th>2018-04-01</th>\n",
       "      <td>326968</td>\n",
       "    </tr>\n",
       "    <tr>\n",
       "      <th>2018-05-01</th>\n",
       "      <td>327134</td>\n",
       "    </tr>\n",
       "    <tr>\n",
       "      <th>2018-06-01</th>\n",
       "      <td>327312</td>\n",
       "    </tr>\n",
       "    <tr>\n",
       "      <th>2018-07-01</th>\n",
       "      <td>327502</td>\n",
       "    </tr>\n",
       "    <tr>\n",
       "      <th>2018-08-01</th>\n",
       "      <td>327698</td>\n",
       "    </tr>\n",
       "    <tr>\n",
       "      <th>2018-09-01</th>\n",
       "      <td>327893</td>\n",
       "    </tr>\n",
       "    <tr>\n",
       "      <th>2018-10-01</th>\n",
       "      <td>328077</td>\n",
       "    </tr>\n",
       "    <tr>\n",
       "      <th>2018-11-01</th>\n",
       "      <td>328241</td>\n",
       "    </tr>\n",
       "    <tr>\n",
       "      <th>2018-12-01</th>\n",
       "      <td>328393</td>\n",
       "    </tr>\n",
       "  </tbody>\n",
       "</table>\n",
       "</div>"
      ],
      "text/plain": [
       "            PopEst\n",
       "DATE              \n",
       "2018-01-01  326527\n",
       "2018-02-01  326669\n",
       "2018-03-01  326812\n",
       "2018-04-01  326968\n",
       "2018-05-01  327134\n",
       "2018-06-01  327312\n",
       "2018-07-01  327502\n",
       "2018-08-01  327698\n",
       "2018-09-01  327893\n",
       "2018-10-01  328077\n",
       "2018-11-01  328241\n",
       "2018-12-01  328393"
      ]
     },
     "execution_count": 19,
     "metadata": {},
     "output_type": "execute_result"
    }
   ],
   "source": [
    "test"
   ]
  },
  {
   "cell_type": "code",
   "execution_count": 20,
   "id": "1a5ffb72",
   "metadata": {},
   "outputs": [],
   "source": [
    "# Now lets compare our predictions with our test data set\n",
    "predictions1 = AR1fit.predict(start=start,end=end)"
   ]
  },
  {
   "cell_type": "code",
   "execution_count": 21,
   "id": "67d3860a",
   "metadata": {},
   "outputs": [],
   "source": [
    "predictions1 = predictions1.rename('AR(1) Predictions')"
   ]
  },
  {
   "cell_type": "code",
   "execution_count": 22,
   "id": "96b19425",
   "metadata": {},
   "outputs": [
    {
     "data": {
      "text/plain": [
       "2018-01-01    326560.403377\n",
       "2018-02-01    326742.749463\n",
       "2018-03-01    326925.038278\n",
       "2018-04-01    327107.269838\n",
       "2018-05-01    327289.444162\n",
       "2018-06-01    327471.561268\n",
       "2018-07-01    327653.621173\n",
       "2018-08-01    327835.623896\n",
       "2018-09-01    328017.569455\n",
       "2018-10-01    328199.457868\n",
       "2018-11-01    328381.289152\n",
       "2018-12-01    328563.063326\n",
       "Freq: MS, Name: AR(1) Predictions, dtype: float64"
      ]
     },
     "execution_count": 22,
     "metadata": {},
     "output_type": "execute_result"
    }
   ],
   "source": [
    "predictions1"
   ]
  },
  {
   "cell_type": "code",
   "execution_count": 23,
   "id": "338e932b",
   "metadata": {},
   "outputs": [
    {
     "name": "stdout",
     "output_type": "stream",
     "text": [
      "predicted=326560.4034, expected=326527\n",
      "predicted=326742.7495, expected=326669\n",
      "predicted=326925.0383, expected=326812\n",
      "predicted=327107.2698, expected=326968\n",
      "predicted=327289.4442, expected=327134\n",
      "predicted=327471.5613, expected=327312\n",
      "predicted=327653.6212, expected=327502\n",
      "predicted=327835.6239, expected=327698\n",
      "predicted=328017.5695, expected=327893\n",
      "predicted=328199.4579, expected=328077\n",
      "predicted=328381.2892, expected=328241\n",
      "predicted=328563.0633, expected=328393\n"
     ]
    }
   ],
   "source": [
    "# Comparing predictions to expected values\n",
    "for i in range(len(predictions1)):\n",
    "    print(f\"predicted={predictions1[i]:<11.10}, expected={test['PopEst'][i]}\")"
   ]
  },
  {
   "cell_type": "code",
   "execution_count": 24,
   "id": "68f056e4",
   "metadata": {},
   "outputs": [
    {
     "data": {
      "image/png": "[encoded data removed]",
      "text/plain": [
       "<Figure size 864x576 with 1 Axes>"
      ]
     },
     "metadata": {
      "needs_background": "light"
     },
     "output_type": "display_data"
    }
   ],
   "source": [
    "test.plot(figsize=(12,8), legend = True).autoscale(axis='x', tight=True)\n",
    "predictions1.plot(legend=True).autoscale(axis='x', tight=True)"
   ]
  },
  {
   "cell_type": "markdown",
   "id": "4ea7cb91",
   "metadata": {},
   "source": [
    "- We got good result with the fact that we are only considering one lag point in the past means we calculating based off only one month \n",
    "\n",
    "- Lets expand order"
   ]
  },
  {
   "cell_type": "markdown",
   "id": "acfbb5ac",
   "metadata": {},
   "source": [
    "# Fit an AR(2) Model"
   ]
  },
  {
   "cell_type": "code",
   "execution_count": 25,
   "id": "87281063",
   "metadata": {},
   "outputs": [],
   "source": [
    "AR2fit=model.fit(maxlag=2)\n",
    "\n",
    "# This \"model\" object is already created above based off the training set by calling the AR method"
   ]
  },
  {
   "cell_type": "code",
   "execution_count": 26,
   "id": "809e0b3d",
   "metadata": {},
   "outputs": [
    {
     "data": {
      "text/plain": [
       "const        137.368305\n",
       "L1.PopEst      1.853490\n",
       "L2.PopEst     -0.853836\n",
       "dtype: float64"
      ]
     },
     "execution_count": 26,
     "metadata": {},
     "output_type": "execute_result"
    }
   ],
   "source": [
    "\n",
    "AR2fit.params"
   ]
  },
  {
   "cell_type": "code",
   "execution_count": 27,
   "id": "affde136",
   "metadata": {},
   "outputs": [],
   "source": [
    "predictions2 = AR2fit.predict(start,end)"
   ]
  },
  {
   "cell_type": "code",
   "execution_count": 28,
   "id": "f14534a2",
   "metadata": {},
   "outputs": [],
   "source": [
    "predictions2 = predictions2.rename('AR(2) Predictions')"
   ]
  },
  {
   "cell_type": "code",
   "execution_count": 29,
   "id": "7360a2d5",
   "metadata": {},
   "outputs": [
    {
     "data": {
      "image/png": "[encoded data removed]",
      "text/plain": [
       "<Figure size 864x576 with 1 Axes>"
      ]
     },
     "metadata": {
      "needs_background": "light"
     },
     "output_type": "display_data"
    }
   ],
   "source": [
    "test.plot(figsize=(12,8), legend=True).autoscale(axis='x',tight=True)\n",
    "predictions1.plot(legend=True).autoscale(axis='x',tight=True)\n",
    "predictions2.plot(legend=True).autoscale(axis='x',tight=True)"
   ]
  },
  {
   "cell_type": "markdown",
   "id": "f2361763",
   "metadata": {},
   "source": [
    "- How do I figure out what is the best order value?\n",
    "- We can actually let statsmodels choose p for us "
   ]
  },
  {
   "cell_type": "code",
   "execution_count": 30,
   "id": "6560caa4",
   "metadata": {},
   "outputs": [],
   "source": [
    "# We wont use lag(maxlag), because if we leave it to None, statsmodel is gonna take it upon itself to figure out the best level \n",
    "\n",
    "# But there is a ic parameter:\n",
    "#       Criterion used for selecting the optimal lag length.\n",
    "    # aic - Akaike Information Criterion\n",
    "    # bic - Bayes Information Criterion\n",
    "    # t-stat - Based on last lag\n",
    "    # hqic - Hannan-Quinn Information Criterion\n",
    "# we will use t-stat because later on I am gonna use RMSE or MSE(mean squared error ) to establise which one fits \n",
    "# We can experiment with this and speciafically depending upon what error metrics is most important to you\n",
    "\n",
    "ARfit = model.fit(ic = 't-stat')"
   ]
  },
  {
   "cell_type": "code",
   "execution_count": 31,
   "id": "60054cbf",
   "metadata": {},
   "outputs": [
    {
     "data": {
      "text/plain": [
       "const        82.309677\n",
       "L1.PopEst     2.437997\n",
       "L2.PopEst    -2.302100\n",
       "L3.PopEst     1.565427\n",
       "L4.PopEst    -1.431211\n",
       "L5.PopEst     1.125022\n",
       "L6.PopEst    -0.919494\n",
       "L7.PopEst     0.963694\n",
       "L8.PopEst    -0.439511\n",
       "dtype: float64"
      ]
     },
     "execution_count": 31,
     "metadata": {},
     "output_type": "execute_result"
    }
   ],
   "source": [
    "ARfit.params"
   ]
  },
  {
   "cell_type": "code",
   "execution_count": 32,
   "id": "d75cbabf",
   "metadata": {},
   "outputs": [],
   "source": [
    "predictions8 = ARfit.predict(start,end)\n",
    "predictions8 = predictions8.rename('AR(8) Predictions')\n"
   ]
  },
  {
   "cell_type": "markdown",
   "id": "1866bba3",
   "metadata": {},
   "source": [
    "- All I have done so far is that I fitted the model without specifying the maxlag and statsmodels choose 8 lags should be the most aaccurate model, which is interesting because only 2 lags were performing good "
   ]
  },
  {
   "cell_type": "markdown",
   "id": "573d9fdd",
   "metadata": {},
   "source": [
    "- So statsmodels decided that we should have 8 lags"
   ]
  },
  {
   "cell_type": "markdown",
   "id": "1a7fc6c2",
   "metadata": {},
   "source": [
    "- So lets evaluate this model"
   ]
  },
  {
   "cell_type": "code",
   "execution_count": 33,
   "id": "0742b70f",
   "metadata": {},
   "outputs": [],
   "source": [
    "from sklearn.metrics import mean_squared_error"
   ]
  },
  {
   "cell_type": "code",
   "execution_count": 34,
   "id": "b3f97e22",
   "metadata": {},
   "outputs": [],
   "source": [
    "labels = ['AR1','AR2','AR12']"
   ]
  },
  {
   "cell_type": "code",
   "execution_count": 35,
   "id": "f0e08834",
   "metadata": {},
   "outputs": [],
   "source": [
    "preds = [predictions1,predictions2,predictions8]"
   ]
  },
  {
   "cell_type": "code",
   "execution_count": 36,
   "id": "cfa88ca6",
   "metadata": {},
   "outputs": [
    {
     "name": "stdout",
     "output_type": "stream",
     "text": [
      "AR1 MSE was :17449.714237833407\n",
      "AR2 MSE was :2713.258683668394\n",
      "AR12 MSE was :186.97263605698208\n"
     ]
    }
   ],
   "source": [
    "for i in range(3):\n",
    "    # np.sqrt()\n",
    "    error = mean_squared_error(test['PopEst'],preds[i])\n",
    "    print(f'{labels[i]} MSE was :{error}')\n",
    "# So here we are comparing each of the prediction values  "
   ]
  },
  {
   "cell_type": "code",
   "execution_count": 37,
   "id": "a19ad49b",
   "metadata": {},
   "outputs": [
    {
     "data": {
      "image/png": "[encoded data removed]",
      "text/plain": [
       "<Figure size 864x576 with 1 Axes>"
      ]
     },
     "metadata": {
      "needs_background": "light"
     },
     "output_type": "display_data"
    }
   ],
   "source": [
    "test.plot(figsize=(12,8), legend=True).autoscale(axis='x',tight=True)\n",
    "predictions1.plot(legend=True).autoscale(axis='x',tight=True)\n",
    "predictions2.plot(legend=True).autoscale(axis='x',tight=True)\n",
    "predictions8.plot(legend=True).autoscale(axis='x',tight=True)"
   ]
  },
  {
   "cell_type": "markdown",
   "id": "3e4eebac",
   "metadata": {},
   "source": [
    "- So just by looking 8 months into the past you can accurately predict what the US population would be in the ninth month"
   ]
  },
  {
   "cell_type": "markdown",
   "id": "1149189e",
   "metadata": {},
   "source": [
    "- We were able to train this model to look back 8 months into the past and predict what the ninth month prediction will be "
   ]
  },
  {
   "cell_type": "markdown",
   "id": "984f370d",
   "metadata": {},
   "source": [
    "# Lets forecast on future data "
   ]
  },
  {
   "cell_type": "markdown",
   "id": "c677ffcd",
   "metadata": {},
   "source": [
    "- Lets try to predict the US population for 2020\n",
    "\n",
    "- First step would be to retraining the model on the full data set "
   ]
  },
  {
   "cell_type": "code",
   "execution_count": 38,
   "id": "cd984e01",
   "metadata": {},
   "outputs": [],
   "source": [
    "model = AR(df['PopEst'])\n",
    "\n",
    "ARfit = model.fit()\n",
    "\n",
    "forcasted_values = ARfit.predict(start = len(df), end = len(df)+12).rename('Forecast')\n",
    "\n",
    "# We forecasting for 12 months because we should only be forecasting for the number in test set"
   ]
  },
  {
   "cell_type": "code",
   "execution_count": 39,
   "id": "ad8de8a2",
   "metadata": {},
   "outputs": [
    {
     "data": {
      "image/png": "[encoded data removed]",
      "text/plain": [
       "<Figure size 864x576 with 1 Axes>"
      ]
     },
     "metadata": {
      "needs_background": "light"
     },
     "output_type": "display_data"
    }
   ],
   "source": [
    "df['PopEst'].plot(figsize = (12,8), legend = True).autoscale(axis='x', tight=True)\n",
    "forcasted_values.plot(legend=True).autoscale(axis='x', tight=True)"
   ]
  },
  {
   "cell_type": "code",
   "execution_count": null,
   "id": "6a8aca50",
   "metadata": {},
   "outputs": [],
   "source": []
  }
 ],
 "metadata": {
  "kernelspec": {
   "display_name": "Python 3",
   "language": "python",
   "name": "python3"
  },
  "language_info": {
   "codemirror_mode": {
    "name": "ipython",
    "version": 3
   },
   "file_extension": ".py",
   "mimetype": "text/x-python",
   "name": "python",
   "nbconvert_exporter": "python",
   "pygments_lexer": "ipython3",
   "version": "3.7.2"
  }
 },
 "nbformat": 4,
 "nbformat_minor": 5
}
